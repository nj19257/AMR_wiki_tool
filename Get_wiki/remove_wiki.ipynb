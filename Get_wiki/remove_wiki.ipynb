{
 "cells": [
  {
   "cell_type": "code",
   "execution_count": 2,
   "metadata": {},
   "outputs": [],
   "source": [
    "import penman\n"
   ]
  },
  {
   "cell_type": "code",
   "execution_count": 3,
   "metadata": {},
   "outputs": [],
   "source": [
    "# amr=    \"\"\"(s / say-01\n",
    "#             :ARG0 (p / person\n",
    "#                     :ARG0-of (h / have-org-role-91\n",
    "#                         :ARG1 (g / government-organization\n",
    "#                                 :wiki -\n",
    "#                                 :name (n / name\n",
    "#                                     :op1 \"Scottish\"\n",
    "#                                     :op2 \"Parliament\"))\n",
    "#                         :ARG2 (m / member))\n",
    "#                     :ARG0-of (l / look-01\n",
    "#                         :ARG1 (p3 / problem\n",
    "#                                 :ARG1-of (f / face-01\n",
    "#                                     :ARG0 (p2 / person\n",
    "#                                             :ARG0-of (s2 / seek-01\n",
    "#                                                 :ARG1 (a / asylum))\n",
    "#                                             :location (c / country\n",
    "#                                                 :wiki -\n",
    "#                                                 :name (n2 / name\n",
    "#                                                         :op1 \"Scotland\")))))))\n",
    "#             :ARG1 (b / build-03\n",
    "#                     :ARG1 (d / destitution)\n",
    "#                     :ARG2 (p4 / process-02)))\"\"\"\n",
    "\n",
    "# g = penman.decode(amr)\n",
    "# print(g.triples)\n",
    "# new_triples = g.triples.copy()\n",
    "# for idx, triple in enumerate(g.triples):\n",
    "#     if triple[1] == ':wiki':\n",
    "#         new_triples.remove(triple)\n",
    "\n",
    "# g.triples = new_triples\n",
    "\n",
    "# print(penman.encode(g))\n",
    "    "
   ]
  },
  {
   "cell_type": "code",
   "execution_count": 4,
   "metadata": {},
   "outputs": [
    {
     "name": "stderr",
     "output_type": "stream",
     "text": [
      "ignoring epigraph data for duplicate triple: ('h', ':ARG1', 'm2')\n",
      "ignoring secondary node contexts for 'h'\n"
     ]
    },
    {
     "name": "stdout",
     "output_type": "stream",
     "text": [
      "72487\n"
     ]
    },
    {
     "name": "stderr",
     "output_type": "stream",
     "text": [
      "ignoring epigraph data for duplicate triple: ('h', ':ARG2', 'l3')\n",
      "ignoring secondary node contexts for 'l3'\n",
      "ignoring epigraph data for duplicate triple: ('f2', ':wiki', '-')\n",
      "ignoring epigraph data for duplicate triple: ('s2', ':ARG0', 'p')\n",
      "ignoring secondary node contexts for 's2'\n",
      "ignoring epigraph data for duplicate triple: ('i', ':ARG0', 'p')\n",
      "ignoring secondary node contexts for 'p'\n",
      "ignoring epigraph data for duplicate triple: ('i2', ':location', 'c')\n",
      "ignoring secondary node contexts for 'i2'\n",
      "ignoring epigraph data for duplicate triple: ('p3', ':wiki', '-')\n",
      "ignoring epigraph data for duplicate triple: ('a', ':ARG1', 'a3')\n",
      "ignoring secondary node contexts for 'a'\n",
      "ignoring epigraph data for duplicate triple: ('h2', ':ARG0', 'p2')\n",
      "ignoring secondary node contexts for 'h2'\n",
      "ignoring epigraph data for duplicate triple: ('s3', ':ARG1', 's')\n",
      "ignoring secondary node contexts for 's3'\n",
      "ignoring epigraph data for duplicate triple: ('d2', ':ARG0', 'p4')\n",
      "ignoring secondary node contexts for 'd2'\n",
      "ignoring epigraph data for duplicate triple: ('e', ':ARG1', 'p')\n",
      "ignoring epigraph data for duplicate triple: ('d2', ':ARG0', 'c')\n",
      "ignoring secondary node contexts for 'd2'\n",
      "ignoring epigraph data for duplicate triple: ('c', ':ARG1', 'p')\n",
      "ignoring secondary node contexts for 'c'\n",
      "ignoring epigraph data for duplicate triple: ('p', ':location', 'p3')\n",
      "ignoring secondary node contexts for 'p'\n",
      "ignoring epigraph data for duplicate triple: ('j', ':wiki', '-')\n",
      "ignoring epigraph data for duplicate triple: ('g', ':wiki', '-')\n",
      "ignoring epigraph data for duplicate triple: ('h2', ':ARG0', 'p2')\n",
      "ignoring secondary node contexts for 'h2'\n",
      "ignoring epigraph data for duplicate triple: ('h3', ':ARG1', 'k')\n",
      "ignoring secondary node contexts for 'h3'\n",
      "ignoring epigraph data for duplicate triple: ('h', ':ARG2', 'c')\n",
      "ignoring secondary node contexts for 'c'\n",
      "ignoring epigraph data for duplicate triple: ('m', ':wiki', '-')\n",
      "ignoring epigraph data for duplicate triple: ('e2', ':ARG1', 'p3')\n",
      "ignoring secondary node contexts for 'e2'\n",
      "ignoring epigraph data for duplicate triple: ('p', ':ARG0', 'c')\n",
      "ignoring secondary node contexts for 'c'\n",
      "ignoring epigraph data for duplicate triple: ('p', ':wiki', '-')\n",
      "ignoring epigraph data for duplicate triple: ('h', ':ARG1', 'r2')\n",
      "ignoring secondary node contexts for 'r2'\n",
      "ignoring epigraph data for duplicate triple: ('h', ':ARG1', 't')\n",
      "ignoring secondary node contexts for 'h'\n",
      "ignoring epigraph data for duplicate triple: ('c2', ':ARG0', 'p2')\n",
      "ignoring secondary node contexts for 'c2'\n",
      "ignoring epigraph data for duplicate triple: ('i2', ':ARG2', 'r2')\n",
      "ignoring secondary node contexts for 'r2'\n",
      "ignoring epigraph data for duplicate triple: ('t', ':wiki', '-')\n",
      "ignoring epigraph data for duplicate triple: ('i', ':ARG1', 'c3')\n",
      "ignoring secondary node contexts for 'i'\n",
      "cannot deinvert attribute: ('s', ':consist-of', '149')\n",
      "ignoring epigraph data for duplicate triple: ('c', ':ARG0', 'p2')\n",
      "ignoring secondary node contexts for 'c'\n",
      "ignoring epigraph data for duplicate triple: ('p2', ':ARG1', 'h2')\n",
      "ignoring secondary node contexts for 'p2'\n"
     ]
    }
   ],
   "source": [
    "with open('/mnt/e/workspace/UCL_master_project/Get_wiki/AMR_without_wiki/silver_ensemble_amr_part4_wiki.txt', 'r') as file:\n",
    "    dataset = file.read()\n",
    "\n",
    "dataset = dataset.split('\\n\\n')\n",
    "print(len(dataset))\n",
    "\n",
    "amr_dataset = []\n",
    "for data in dataset:\n",
    "    g = penman.decode(data)\n",
    "    new_triples = g.triples.copy()\n",
    "    for idx, triple in enumerate(g.triples):\n",
    "        if triple[1] == ':wiki':\n",
    "            new_triples.remove(triple)\n",
    "\n",
    "    g.triples = new_triples\n",
    "    amr_dataset.append(penman.encode(g))"
   ]
  },
  {
   "cell_type": "code",
   "execution_count": 5,
   "metadata": {},
   "outputs": [
    {
     "name": "stdout",
     "output_type": "stream",
     "text": [
      "72487\n"
     ]
    }
   ],
   "source": [
    "print(len(amr_dataset))\n",
    "output_dir = '/mnt/e/workspace/UCL_master_project/Get_wiki/AMR_without_wiki'\n",
    "output_name = 'silver_ensemble_amr_part4_no_wiki.txt'\n",
    "with open('/'.join([output_dir, output_name]), 'w') as file:\n",
    "    file.write('\\n\\n'.join(amr_dataset))"
   ]
  }
 ],
 "metadata": {
  "kernelspec": {
   "display_name": "master_project",
   "language": "python",
   "name": "python3"
  },
  "language_info": {
   "codemirror_mode": {
    "name": "ipython",
    "version": 3
   },
   "file_extension": ".py",
   "mimetype": "text/x-python",
   "name": "python",
   "nbconvert_exporter": "python",
   "pygments_lexer": "ipython3",
   "version": "3.8.19"
  }
 },
 "nbformat": 4,
 "nbformat_minor": 2
}
