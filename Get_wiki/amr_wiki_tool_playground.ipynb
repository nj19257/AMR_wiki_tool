{
 "cells": [
  {
   "cell_type": "code",
   "execution_count": 1,
   "metadata": {},
   "outputs": [
    {
     "name": "stdout",
     "output_type": "stream",
     "text": [
      "Initialization time: 0.27617669105529785 seconds\n"
     ]
    }
   ],
   "source": [
    "from mediawikiapi import MediaWikiAPI\n",
    "from wikidata.client import Client\n",
    "import json\n",
    "import penman\n",
    "from tqdm import tqdm\n",
    "import pandas as pd\n",
    "from itertools import chain\n",
    "from collections import Counter\n",
    "import concurrent.futures\n",
    "from collections import defaultdict\n",
    "import urllib.parse\n",
    "import re\n",
    "import time\n",
    "\n",
    "start_time = time.time()\n",
    "mediawikiapi = MediaWikiAPI()\n",
    "client = Client()\n",
    "end_time = time.time()\n",
    "print(f\"Initialization time: {end_time-start_time} seconds\")"
   ]
  },
  {
   "cell_type": "code",
   "execution_count": 2,
   "metadata": {},
   "outputs": [],
   "source": [
    "def find_wiki_names(graph,amr_string):\n",
    "    wiki_names = []\n",
    "    wiki_idx= []\n",
    "    nodes_list = []\n",
    "    roles = []\n",
    "    rel_nodes = {}\n",
    "    Salutations_list =[ \"mr.\", \"mrs.\", \"ms.\", \"miss\" , \"sir\" , \"madam\" , \"mr\", \"mrs\", \"ms\"]\n",
    "    for i, triple in enumerate(graph.triples):\n",
    "\n",
    "        if triple[1] == ':wiki':\n",
    "            wiki_idx.append(i)\n",
    "            node = triple[0]\n",
    "            name_parts = []\n",
    "            current_mod = []\n",
    "            pointer = 1\n",
    "            state_1 = False\n",
    "            for idx , triple in enumerate(graph.triples):\n",
    "                if triple[0] == node and triple[1] == ':instance':\n",
    "                    # replace any '-' or '_' characters with a space\n",
    "                    nodes_list.append(triple[2])\n",
    "                    instance_node = triple[2]\n",
    "\n",
    "                    top_node = triple[0]\n",
    "                    if \":mod\" in amr_string: # consider if :location as well\n",
    "                        for triple in graph.triples:\n",
    "                            if triple[1] == ':mod' and triple[0] == top_node:\n",
    "                                rel_nodes[triple[2]] = None\n",
    "                                state_1 = True  \n",
    "                    if instance_node == 'person' :\n",
    "                        if 'have-org-role-91' in amr_string:\n",
    "                            # instance_node=''\n",
    "                            pass\n",
    "                        elif 'government-organization' in amr_string:\n",
    "                            # if government-organization is the instance node, then we should not include the name of the government organization\n",
    "                            # As it is the most well known name and government-organization will increase its perplexity\n",
    "                            # instance_node=''\n",
    "                            pass\n",
    "                        elif 'country' in amr_string:\n",
    "                            # if government-organization is the instance node, then we should not include the name of the government organization\n",
    "                            # As it is the most well known name and government-organization will increase its perplexity\n",
    "                            # instance_node=''\n",
    "                            pass\n",
    "                        else:\n",
    "                            instance_node = '#del#'\n",
    "                            continue\n",
    "\n",
    "                state = False\n",
    "                name_nodes = {}\n",
    "                name= []\n",
    "                # rel_nodes = []\n",
    "                # rel_nodes = {}\n",
    "                switch = False\n",
    "                \n",
    "                if triple[0] == node and triple[1] == ':name':\n",
    "                    name_node = triple[2]\n",
    "                    for k ,name_triple in enumerate(graph.triples[idx:]):\n",
    "                        if name_triple[0] == name_node and name_triple[1].startswith(':op'):\n",
    "                            name_parts.append(name_triple[2].strip('\"'))\n",
    "                            if state_1:\n",
    "                                state = True\n",
    "                            if idx+ k+2 < len(graph.triples):\n",
    "                                if graph.triples[idx+k+2][2] == \"have-org-role-91\" and graph.triples[idx+k+1][2] == top_node:\n",
    "                                    state = True\n",
    "                                    switch = False\n",
    "                                    # name_node_2 = name_triple[0]\n",
    "                                    # rel_nodes.append(graph.triples[k+2][0])\n",
    "                                    rel_nodes = {graph.triples[idx+ k+2][0]: None}\n",
    "                                    roles.append(graph.triples[idx+k+2][0])\n",
    "                                    continue\n",
    "                                if graph.triples[idx + k+1][0] in roles and graph.triples[idx + k+1][1].startswith(':ARG') and graph.triples[idx + k+1][2] != graph.triples[idx + k+2][0]:\n",
    "                                    state = True\n",
    "                                    switch = False\n",
    "                                    rel_nodes = {graph.triples[idx+ k+1][0]: None}\n",
    "                                    continue\n",
    "                                continue\n",
    "\n",
    "                        if switch:\n",
    "                            break\n",
    "                        if state and name_triple[1].startswith(':ARG'):\n",
    "                            if name_triple[0] in rel_nodes.keys() and name_triple[2] == graph.triples[k+1][0]:\n",
    "                                if name_triple[2] in rel_nodes:\n",
    "                                    continue\n",
    "                                # rel_nodes.append(name_triple[2])\n",
    "                                rel_nodes[name_triple[2]] = None\n",
    "                            if top_node in rel_nodes.keys():\n",
    "                                rel_nodes.pop(top_node)\n",
    "                        # new attempt\n",
    "                        if state:\n",
    "                            for j ,name_triple_j in enumerate(graph.triples): \n",
    "                                # switch = True\n",
    "                                if name_triple_j[1] == ':instance' and name_triple_j[0] in rel_nodes.keys():\n",
    "                                    rel_nodes[name_triple_j[0]] = re.sub(r'-\\d+$', '', name_triple_j[2])\n",
    "                                    \n",
    "                                    continue\n",
    "\n",
    "                                if name_triple_j[1].startswith(':ARG'):\n",
    "                                    if j+1 < len(graph.triples):\n",
    "                                        if name_triple_j[2] != graph.triples[j+1][0]:\n",
    "                                            continue\n",
    "\n",
    "                                    if name_triple_j[0] in rel_nodes.keys():\n",
    "                                        if name_triple_j[2] in rel_nodes.keys():\n",
    "                                            continue\n",
    "                                        # rel_nodes.append(name_triple_j[2])\n",
    "                                        rel_nodes[name_triple_j[2]] = None\n",
    "                                    if top_node in rel_nodes.keys():\n",
    "                                        rel_nodes.pop(top_node)\n",
    "                                        \n",
    "                                if name_triple_j[0] in rel_nodes.keys() and name_triple_j[1] == ':name':\n",
    "                                    if name_triple_j[2] in name_nodes.keys():\n",
    "                                        continue\n",
    "                                    name_nodes[name_triple_j[2]] = name_triple_j[0]\n",
    "\n",
    "                                if name_triple_j[0] in name_nodes.keys() and name_triple_j[1].startswith(':op') :\n",
    "                                    # if name_triple_j[2].strip('\"') in name_parts:\n",
    "                                    #     # print('test')\n",
    "                                    #     continue\n",
    "                                    # name_parts.append(name_triple_j[2].strip('\"'))\n",
    "                                    if j+1 != len(graph.triples):\n",
    "                                        name.append(name_triple_j[2].strip('\"'))\n",
    "                                        if graph.triples[j+1][1].startswith(':op'):\n",
    "                                            pass\n",
    "                                        else:\n",
    "                                            rel_nodes[name_nodes[name_triple_j[0]]] = ' '.join(name)\n",
    "                                        # if graph.triples[j+1][1].startswith(':ARG'):\n",
    "                                        #     switch = True\n",
    "                                        #     break\n",
    "                                    # switch = True\n",
    "                                        name = []\n",
    "                                    continue\n",
    "                                if j+1 != len(graph.triples):\n",
    "                                    continue\n",
    "                                else:\n",
    "                                    switch = True\n",
    "                                    break\n",
    "            for key , value in rel_nodes.items():\n",
    "                if key in roles:\n",
    "                    continue\n",
    "                if value == None:\n",
    "                    continue\n",
    "                name_parts.append(value)\n",
    "            for name_part in name_parts:\n",
    "                if name_part.lower() in Salutations_list:\n",
    "                    name_parts.remove(name_part)\n",
    "\n",
    "            rel_nodes = {}\n",
    "            # reverse the current_mod list\n",
    "            current_mod = current_mod[::-1]\n",
    "            full_name = instance_node + ' ' + ' '.join(current_mod +name_parts)\n",
    "            wiki_names.append(full_name)\n",
    "    return wiki_names , wiki_idx , nodes_list\n",
    "\n",
    "\n",
    "def add_wiki_tag(graph, wiki_idx, wiki_names, nodes_list, entities_dict, mediawikiapi, client):\n",
    "      \"\"\"\n",
    "      get the parent-child relationships\n",
    "      \"\"\"\n",
    "      # Build parent-child relationship\n",
    "      \n",
    "      for i, content in enumerate(wiki_names):\n",
    "            switch = True\n",
    "            if '#del#' in content:\n",
    "                continue\n",
    "            try:\n",
    "                if nodes_list[i] not in entities_dict.keys():\n",
    "                    result = mediawikiapi.search(str(content), results=1)\n",
    "                    # result = result.replace(' ', '_')\n",
    "                    # print(result)\n",
    "                    if result == []:\n",
    "                        continue\n",
    "                    try:\n",
    "                        if result == mediawikiapi.page(str(list([result]))).title:\n",
    "                            result = str(list([result]))\n",
    "                        elif result == mediawikiapi.page(str([result])).title:\n",
    "                            result = str([result])\n",
    "                    except:\n",
    "                        if result == mediawikiapi.page(str([result])).title:\n",
    "                            result = str([result])\n",
    "                        elif result == mediawikiapi.page(str(list([result]))).title:\n",
    "                            result = str(list([result]))\n",
    "                    copy = list(graph.triples[wiki_idx[i]])\n",
    "                    try:\n",
    "                        copy[2] = '\"' + urllib.parse.unquote(mediawikiapi.page(result).url.split('/wiki/')[1]) + '\"'\n",
    "                    except:\n",
    "                        copy[2] = '\"' + urllib.parse.unquote(mediawikiapi.page(result).url.split('/wiki/')[1]) + '\"'     \n",
    "                    # copy[2] = '\"' + urllib.parse.unquote(mediawikiapi.page(str(list([result]))).url.split('/wiki/')[1]) + '\"'\n",
    "                    graph.triples[wiki_idx[i]] = tuple(copy)\n",
    "                    continue\n",
    "                query = ' '.join(content.split()[1:])\n",
    "                results0 = mediawikiapi.search(str(query), results=5)\n",
    "                # print(results0)\n",
    "\n",
    "                if results0 == []:\n",
    "                    query = content.replace('-', ' ').replace('_', ' ')\n",
    "                    switch = False\n",
    "                    results0 = mediawikiapi.search(str(query), results=3)\n",
    "                    if results0 == []:\n",
    "                    #     if nodes_list[i] != 'person':\n",
    "                    #         results0.append(nodes_list[i])\n",
    "                        continue\n",
    "\n",
    "                for result in results0:\n",
    "                    # result = result.replace(' ', '_')\n",
    "                    try:\n",
    "                        if result == mediawikiapi.page(str(list([result]))).title:\n",
    "                            result = str(list([result]))\n",
    "                        elif result == mediawikiapi.page(str([result])).title:\n",
    "                            result = str([result])\n",
    "                        else:\n",
    "                            continue\n",
    "                    except:\n",
    "                        if result == mediawikiapi.page(str([result])).title:\n",
    "                            result = str([result])\n",
    "                        elif result == mediawikiapi.page(str(list([result]))).title:\n",
    "                            result = str(list([result]))\n",
    "                        else:\n",
    "                            continue\n",
    "                    entities, count = get_wikidata_tags(result, mediawikiapi, client)\n",
    "                    # if any entities in the entities_dict[nodes_list[i]] then pass\n",
    "                    if any(entity in entities_dict[nodes_list[i]] for entity in entities):\n",
    "                        copy = list(graph.triples[wiki_idx[i]]) \n",
    "                        try:\n",
    "                            copy[2] = '\"' + urllib.parse.unquote(mediawikiapi.page(result).url.split('/wiki/')[1]) + '\"'\n",
    "                        except:\n",
    "                            copy[2] = '\"' + urllib.parse.unquote(mediawikiapi.page(result).url.split('/wiki/')[1]) + '\"'         \n",
    "                        # copy[2] = '\"' + urllib.parse.unquote(mediawikiapi.page(str(list([result]))).url.split('/wiki/')[1]) + '\"'\n",
    "                        graph.triples[wiki_idx[i]] = tuple(copy)\n",
    "                        switch = False\n",
    "                        break\n",
    "                if switch:\n",
    "                    query = content.replace('-', ' ').replace('_', ' ')\n",
    "                    results0 = mediawikiapi.search(str(query), results=3)\n",
    "                    if results0 == []:\n",
    "                        print('Error wiki: ', content)\n",
    "                        continue\n",
    "                    for result in results0:\n",
    "                        # result = result.replace(' ', '_')\n",
    "                        try:\n",
    "                            if result == mediawikiapi.page(str(list([result]))).title:\n",
    "                                result = str(list([result]))\n",
    "                            elif result == mediawikiapi.page(str([result])).title:\n",
    "                                result = str([result])\n",
    "                            else:\n",
    "                                continue\n",
    "                        except:\n",
    "                            if result == mediawikiapi.page(str([result])).title:\n",
    "                                result = str([result])\n",
    "                            elif result == mediawikiapi.page(str(list([result]))).title:\n",
    "                                result = str(list([result]))\n",
    "                            else:\n",
    "                                continue\n",
    "                        entities, count = get_wikidata_tags(result, mediawikiapi, client)\n",
    "                        if any(entity in entities_dict[nodes_list[i]] for entity in entities):\n",
    "\n",
    "                            copy = list(graph.triples[wiki_idx[i]])\n",
    "                            try:\n",
    "                                copy[2] = '\"' + urllib.parse.unquote(mediawikiapi.page(result).url.split('/wiki/')[1]) + '\"'\n",
    "                            except:\n",
    "                                copy[2] = '\"' + urllib.parse.unquote(mediawikiapi.page(result).url.split('/wiki/')[1]) + '\"'     \n",
    "                            # copy[2] = '\"' + urllib.parse.unquote(mediawikiapi.page(str(list([result]))).url.split('/wiki/')[1]) + '\"'\n",
    "                            graph.triples[wiki_idx[i]] = tuple(copy)\n",
    "                            break\n",
    "                    continue\n",
    "            except:\n",
    "                print('Error wiki: ', content)\n",
    "                continue\n",
    "      return graph\n",
    "\n",
    "def get_wikidata_tags(query, mediawikiapi, client,count=0):\n",
    "    statement_list = [\"P31\", \"P279\",\"P10241\",\"P361\",\"P16\",\"P3450\", \"P5138\",\"P289\",\"P452\",\"P571\", \"P366\" , \"P1269\"]\n",
    "    entities= []\n",
    "\n",
    "\n",
    "    # wiki_data = mediawikiapi.search(str(query), results=1)\n",
    "    # wikidata_id = mediawikiapi.page(str(query)).pageprops[\"wikibase_item\"]\n",
    "    # try:\n",
    "        \n",
    "    #     wikidata_id = mediawikiapi.page(str(list([query]))).pageprops[\"wikibase_item\"]\n",
    "    # except:\n",
    "    #     try:\n",
    "    #         wikidata_id = mediawikiapi.page(str([query])).pageprops[\"wikibase_item\"]\n",
    "    #     except:\n",
    "    #         print(\"Error wikidata: \", query)\n",
    "\n",
    "    #         count += 1\n",
    "    #         # the true value is to indicate that the no wikidata link was found \n",
    "    #         # as this is a very rare case, we can assume that the wiki tag is correct\n",
    "    #         entities.append('true')\n",
    "    #         return entities , count\n",
    "    try:\n",
    "        \n",
    "        wikidata_id = mediawikiapi.page(query).pageprops[\"wikibase_item\"]\n",
    "\n",
    "    except:\n",
    "        print(\"Error wikidata: \", query)\n",
    "        # the true value is to indicate that the no wikidata link was found \n",
    "        # as this is a very rare case, we can assume that the wiki tag is correct\n",
    "        entities.append('true')\n",
    "        return entities , count\n",
    "    entity = client.get(wikidata_id, load=True)\n",
    "    # check if any entity has the statement_list keys\n",
    "    target = None\n",
    "    for statement in statement_list:\n",
    "        if statement in entity.data['claims'].keys():\n",
    "            target = statement\n",
    "            break\n",
    "    if target == None:\n",
    "        return entities , count\n",
    "    if target == \"P31\":\n",
    "        for value in entity.data['claims'][target]:\n",
    "            entities.append(value[\"mainsnak\"][\"datavalue\"][\"value\"][\"id\"])\n",
    "    else:\n",
    "        try:\n",
    "            subclass_entity = client.get(entity.data['claims'][target][0][\"mainsnak\"][\"datavalue\"][\"value\"][\"id\"], load=True)\n",
    "            entities.append(subclass_entity.data['claims'][\"P31\"][0][\"mainsnak\"][\"datavalue\"][\"value\"][\"id\"])\n",
    "        except:\n",
    "            try:\n",
    "                entities.append(entity.data['claims'][target][0][\"mainsnak\"][\"datavalue\"][\"value\"][\"id\"])\n",
    "            except:\n",
    "                return [] , count\n",
    "    return entities , count\n",
    "\n",
    "def get_wiki(amr, dict_entities, mediawikiapi, client):\n",
    "    if ':wiki' in amr:\n",
    "        graph = penman.decode(amr)\n",
    "        wiki_names , wiki_idx , nodes_list = find_wiki_names(graph,amr)\n",
    "        graph = add_wiki_tag(graph, wiki_idx, wiki_names, nodes_list, dict_entities, mediawikiapi, client)\n",
    "        amr = penman.encode(graph)\n",
    "        # data[i] = amr_string\n",
    "    return amr \n",
    "# Function to process each AMR\n",
    "def get_wiki_with_index(index, amr, dict_entities, mediawikiapi, client):\n",
    "    result = get_wiki(amr, dict_entities, mediawikiapi, client)\n",
    "    return index, result"
   ]
  },
  {
   "cell_type": "code",
   "execution_count": 3,
   "metadata": {},
   "outputs": [
    {
     "name": "stdout",
     "output_type": "stream",
     "text": [
      "825\n"
     ]
    },
    {
     "name": "stderr",
     "output_type": "stream",
     "text": [
      " 31%|███       | 254/825 [00:43<01:43,  5.52it/s]"
     ]
    },
    {
     "name": "stdout",
     "output_type": "stream",
     "text": [
      "Error wiki:  music Hyponotize\n"
     ]
    },
    {
     "name": "stderr",
     "output_type": "stream",
     "text": [
      " 44%|████▍     | 365/825 [00:59<03:30,  2.18it/s]"
     ]
    },
    {
     "name": "stdout",
     "output_type": "stream",
     "text": [
      "Error wiki:  product Prime\n"
     ]
    },
    {
     "name": "stderr",
     "output_type": "stream",
     "text": [
      " 45%|████▌     | 373/825 [01:03<03:52,  1.94it/s]"
     ]
    },
    {
     "name": "stdout",
     "output_type": "stream",
     "text": [
      "Error wiki:  product Prime\n"
     ]
    },
    {
     "name": "stderr",
     "output_type": "stream",
     "text": [
      " 98%|█████████▊| 807/825 [02:13<00:00, 23.16it/s]"
     ]
    },
    {
     "name": "stdout",
     "output_type": "stream",
     "text": [
      "Error wiki:  wine Riesling Germany\n"
     ]
    },
    {
     "name": "stderr",
     "output_type": "stream",
     "text": [
      " 98%|█████████▊| 811/825 [02:14<00:01,  8.61it/s]"
     ]
    },
    {
     "name": "stdout",
     "output_type": "stream",
     "text": [
      "Error wiki:  wine Riesling Germany\n"
     ]
    },
    {
     "name": "stderr",
     "output_type": "stream",
     "text": [
      "100%|██████████| 825/825 [02:21<00:00,  5.83it/s]"
     ]
    },
    {
     "name": "stdout",
     "output_type": "stream",
     "text": [
      "['# ::snt The cat sat on the mat.\\n# ::tok The cat sat on the mat .\\n(s / sit-01\\n    :ARG1 (c / cat)\\n    :ARG2 (m / mat))', '# ::snt The cat did not sit on the mat.\\n# ::tok The cat did not sit on the mat .\\n(s / sit-01\\n    :polarity -\\n    :ARG1 (c / cat)\\n    :ARG2 (m / mat))', \"# ::snt When you've got no snow, it's really hard to learn a snow sport so we looked at all the different ways I could mimic being on snow without actually being on snow.\\n# ::tok When you 've got no snow , it 's really hard to learn a snow sport so we looked at all the different ways I could mimic being on snow without actually being on snow .\\n(h / hard-02\\n    :ARG0-of (c / cause-01\\n        :ARG1 (l2 / look-01\\n            :ARG0 (w2 / we)\\n            :ARG1 (w / way\\n                :ARG1-of (d / differ-02)\\n                :manner-of (p / possible-01\\n                    :ARG1 (i2 / imitate-01\\n                        :ARG0 (i / i)\\n                        :ARG1 (b / be-located-at-91\\n                            :ARG1 i\\n                            :ARG1-of (a / actual-02)\\n                            :ARG2 (s / snow))))\\n                :mod (a2 / all))))\\n    :ARG1 (l / learn-01\\n        :ARG1 (s2 / sport\\n            :mod s))\\n    :condition (h2 / have-03\\n        :polarity -\\n        :ARG0 (y / you)\\n        :ARG1 s)\\n    :degree (r / really))\", \"# ::snt When you've got snow, it's really hard to learn a snow sport so we looked at all the different ways I could mimic being on snow without actually being on snow.\\n# ::tok When you 've got snow , it 's really hard to learn a snow sport so we looked at all the different ways I could mimic being on snow without actually being on snow .\\n(c / cause-01\\n    :ARG0 (h / hard-02\\n        :ARG1 (l / learn-01\\n            :ARG1 (s2 / sport\\n                :mod (s / snow)))\\n        :condition (h2 / have-03\\n            :ARG0 (y / you)\\n            :ARG1 s)\\n        :degree (r / really))\\n    :ARG1 (l2 / look-01\\n        :ARG0 (w2 / we)\\n        :ARG1 (w / way\\n            :ARG1-of (d / differ-02)\\n            :manner-of (p / possible-01\\n                :ARG1 (i2 / imitate-01\\n                    :ARG0 (i / i)\\n                    :ARG1 (b / be-located-at-91\\n                        :ARG1 i\\n                        :ARG1-of (a / actual-02\\n                            :polarity -)\\n                        :ARG2 s)))\\n            :mod (a2 / all))))\", '# ::snt Out of the box, Ouya supports media apps such as Twitch.tv and XBMC media player.\\n# ::tok Out of the box , Ouya supports media apps such as Twitch . tv and XBMC media player .\\n(s / support-01\\n   :ARG0 (p2 / product\\n             :wiki \"Ouya\"\\n             :name (n / name\\n                      :op1 \"Ouya\"))\\n   :ARG1 (a2 / app\\n             :example (a / and\\n                         :op1 (p3 / product\\n                                  :wiki \"Twitch_(service)\"\\n                                  :name (n2 / name\\n                                            :op1 \"twitch.tv\"))\\n                         :op2 (p4 / product\\n                                  :wiki \"Kodi_(software)\"\\n                                  :name (n3 / name\\n                                            :op1 \"XBMC\")\\n                                  :ARG0-of (p / play-11\\n                                              :ARG2 (m2 / media))))\\n             :mod (m / media))\\n   :manner (o / out-of-the-box))', '# ::snt Out of the box, Ouya doesn\\'t support media apps such as Twitch.tv and XBMC media player.\\n# ::tok Out of the box , Ouya does n\\'t support media apps such as Twitch . tv and XBMC media player .\\n(s / support-01\\n   :polarity -\\n   :ARG0 (p2 / product\\n             :wiki \"Ouya\"\\n             :name (n / name\\n                      :op1 \"Ouya\"))\\n   :ARG1 (a2 / app\\n             :example (a / and\\n                         :op1 (p3 / product\\n                                  :wiki \"Twitch_(service)\"\\n                                  :name (n2 / name\\n                                            :op1 \"twitch.tv\"))\\n                         :op2 (p4 / product\\n                                  :wiki \"Kodi_(software)\"\\n                                  :name (n3 / name\\n                                            :op1 \"XBMC\")\\n                                  :ARG0-of (p / play-11\\n                                              :ARG1 (m / media))))\\n             :mod m))', '# ::snt Out of the box, Ouya supports Twitch.tv and XBMC media player.\\n# ::tok Out of the box , Ouya supports Twitch . tv and XBMC media player .\\n(s / support-01\\n   :ARG0 (p2 / product\\n             :wiki \"Ouya\"\\n             :name (n / name\\n                      :op1 \"Ouya\"))\\n   :ARG1 (a / and\\n            :op1 (p3 / product\\n                     :wiki \"Twitch_(service)\"\\n                     :name (n2 / name\\n                               :op1 \"twitch.tv\"))\\n            :op2 (p4 / product\\n                     :wiki \"Kodi_(software)\"\\n                     :name (n3 / name\\n                               :op1 \"XBMC\")\\n                     :ARG0-of (p / play-11\\n                                 :ARG1 (m / media))))\\n   :manner (o / out-of-the-box))', '# ::snt Considering this definition, it is surprising to find frequent use of sarcastic language in opinionated user generated content.\\n# ::tok Considering this definition , it is surprising to find frequent use of sarcastic language in opinionated user generated content .\\n(s2 / surprise-01\\n    :ARG0 (f / find-01\\n        :ARG1 (u / use-01\\n            :ARG1 (l / language\\n                :mod (s / sarcasm))\\n            :ARG1-of (f2 / frequent-02)\\n            :ARG2 (c2 / content\\n                :ARG1-of (g / generate-01\\n                    :ARG0 (p / person\\n                        :ARG0-of (o / opine-01)\\n                        :ARG0-of (u2 / use-01))))))\\n    :condition (c / consider-01\\n        :ARG1 (t / thing\\n            :ARG2-of (d / define-01)\\n            :mod (t2 / this))))', '# ::snt Considering this definition, it is not surprising to find frequent use of sarcastic language in opinionated user generated content.\\n# ::tok Considering this definition , it is not surprising to find frequent use of sarcastic language in opinionated user generated content .\\n(s2 / surprise-01\\n    :polarity -\\n    :ARG0 (f / find-01\\n        :ARG1 (u / use-01\\n            :ARG1 (l / language\\n                :mod (s / sarcasm))\\n            :ARG1-of (f2 / frequent-02)\\n            :ARG2 (c2 / content\\n                :ARG0-of (o / opine-01)\\n                :ARG1-of (g / generate-01\\n                    :ARG0 (p / person\\n                        :ARG0-of (u2 / use-01))))))\\n    :condition (c / consider-02\\n        :ARG1 (t / thing\\n            :ARG2-of (d / define-01)\\n            :mod (t2 / this))))', '# ::snt The new gaming console is affordable.\\n# ::tok The new gaming console is affordable .\\n(p / possible-01\\n    :ARG1 (a / afford-01\\n        :ARG1 (c / console\\n            :ARG1-of (n / new-01)\\n            :mod (g / game))))', '# ::snt The new gaming console is unaffordable.\\n# ::tok The new gaming console is unaffordable .\\n(p / possible-01\\n    :polarity -\\n    :ARG1 (a / afford-01\\n        :ARG1 (c / console\\n            :ARG1-of (n / new-01)\\n            :mod (g / game))))', '# ::snt Brexit is an irreversible decision, Sir Mike Rake, the chairman of WorldPay and ex-chairman of BT group, said as calls for a second EU referendum were sparked last week.\\n# ::tok Brexit is an irreversible decision , Sir Mike Rake , the chairman of WorldPay and ex - chairman of BT group , said as calls for a second EU referendum were sparked last week .\\n(s / say-01\\n   :ARG0 (p / person\\n            :wiki \"Michael_Rake\"\\n            :name (n2 / name\\n                      :op1 \"Sir\"\\n                      :op2 \"Mike\"\\n                      :op3 \"Rake\")\\n            :ARG0-of (h / have-org-role-91\\n                        :ARG1 (c4 / company\\n                                  :wiki \"Worldpay_Group\"\\n                                  :name (n3 / name\\n                                            :op1 \"WorldPay\"))\\n                        :ARG2 (c2 / chairman))\\n            :ARG0-of (h2 / have-org-role-91\\n                         :ARG1 (g / group\\n                                  :wiki \"BT_Group\"\\n                                  :name (n4 / name\\n                                            :op1 \"BT\"))\\n                         :ARG2 (c3 / chairman)\\n                         :time (e / ex)))\\n   :ARG1 (d / decide-01\\n            :ARG1 (c5 / country\\n                      :wiki -\\n                      :name (n / name\\n                               :op1 \"Brexit\"))\\n            :ARG1-of (r2 / reverse-01\\n                         :ARG1-of (p2 / possible-01\\n                                      :polarity -)))\\n   :time (s2 / spark-01\\n             :ARG1 (c / call-03\\n                      :ARG1 (r / referendum\\n                               :mod (o2 / organization\\n                                        :wiki \"European_Union\"\\n                                        :name (n5 / name\\n                                                  :op1 \"EU\"))\\n                               :ord (o / ordinal-entity\\n                                       :value 2)))\\n             :time (w / week\\n                      :mod (l / last))))', '# ::snt Brexit is a reversible decision, Sir Mike Rake, the chairman of WorldPay and ex-chairman of BT group, said as calls for a second EU referendum were sparked last week.\\n# ::tok Brexit is a reversible decision , Sir Mike Rake , the chairman of WorldPay and ex - chairman of BT group , said as calls for a second EU referendum were sparked last week .\\n(s / say-01\\n   :ARG0 (p / person\\n            :wiki \"Michael_Rake\"\\n            :name (n2 / name\\n                      :op1 \"Sir\"\\n                      :op2 \"Mike\"\\n                      :op3 \"Rake\")\\n            :ARG0-of (h / have-org-role-91\\n                        :ARG1 (c4 / company\\n                                  :wiki \"Worldpay_Group\"\\n                                  :name (n3 / name\\n                                            :op1 \"WorldPay\"))\\n                        :ARG2 (c2 / chairman))\\n            :ARG0-of (h2 / have-org-role-91\\n                         :ARG1 (g / group\\n                                  :wiki \"BT_Group\"\\n                                  :name (n4 / name\\n                                            :op1 \"BT\"))\\n                         :ARG2 (c3 / chairman)\\n                         :time (e / ex)))\\n   :ARG1 (d / decide-01\\n            :ARG1 (c5 / country\\n                      :wiki -\\n                      :name (n / name\\n                               :op1 \"Brexit\"))\\n            :ARG1-of (r2 / reverse-01\\n                         :ARG1-of (p2 / possible-01)))\\n   :time (s2 / spark-01\\n             :ARG1 (c / call-03\\n                      :ARG1 (r / referendum\\n                               :mod (o2 / organization\\n                                        :wiki \"European_Union\"\\n                                        :name (n5 / name\\n                                                  :op1 \"EU\"))\\n                               :ord (o / ordinal-entity\\n                                       :value 2)))\\n             :time (w / week\\n                      :mod (l / last))))', '# ::snt We built our society on unclean energy.\\n# ::tok We built our society on unclean energy .\\n(b / build-01\\n    :ARG0 (w / we)\\n    :ARG1 (s / society\\n        :poss w)\\n    :ARG2 (e / energy\\n        :ARG1-of (c / clean-04\\n            :polarity -)))', '# ::snt We built our society on clean energy.\\n# ::tok We built our society on clean energy .\\n(b / build-01\\n    :ARG0 (w / we)\\n    :ARG1 (s / society\\n        :poss w)\\n    :ARG2 (e / energy\\n        :ARG1-of (c / clean-04)))', '# ::snt Pursuing a strategy of nonviolent protest, Gandhi took the administration by surprise and won concessions from the authorities.\\n# ::tok Pursuing a strategy of nonviolent protest , Gandhi took the administration by surprise and won concessions from the authorities .\\n(a2 / and\\n    :op1 (s2 / surprise-01\\n             :ARG0 (p / person\\n                      :wiki \"Mahatma_Gandhi\"\\n                      :name (n / name\\n                               :op1 \"Gandhi\"))\\n             :ARG1 (g / government-organization\\n                      :ARG0-of (a / administrate-01)))\\n    :op2 (w / win-01\\n            :ARG0 p\\n            :ARG1 (c / concede-01\\n                     :ARG0 (a3 / authority))\\n            :ARG2 a3)\\n    :time (p3 / pursue-01\\n              :ARG0 p\\n              :ARG1 (s / strategy\\n                       :mod (p2 / protest-01\\n                                :manner (v / violence\\n                                           :polarity -)))))', '# ::snt Pursuing a strategy of violent protest, Gandhi took the administration by surprise and won concessions from the authorities.\\n# ::tok Pursuing a strategy of violent protest , Gandhi took the administration by surprise and won concessions from the authorities .\\n(a2 / and\\n    :op1 (s2 / surprise-01\\n             :ARG0 (p / person\\n                      :wiki \"Mahatma_Gandhi\"\\n                      :name (n / name\\n                               :op1 \"Gandhi\"))\\n             :ARG1 (g / government-organization\\n                      :ARG0-of (a / administrate-01)))\\n    :op2 (w / win-01\\n            :ARG0 p\\n            :ARG1 (c / concede-01\\n                     :ARG0 (a3 / authority))\\n            :ARG2 a3)\\n    :time (p3 / pursue-01\\n              :ARG0 p\\n              :ARG1 (s / strategy\\n                       :mod (p2 / protest-01\\n                                :manner (v / violent)))))', '# ::snt Pursuing a strategy of protest, Gandhi took the administration by surprise and won concessions from the authorities.\\n# ::tok Pursuing a strategy of protest , Gandhi took the administration by surprise and won concessions from the authorities .\\n(a2 / and\\n    :op1 (s2 / surprise-01\\n             :ARG0 (p / person\\n                      :wiki \"Mahatma_Gandhi\"\\n                      :name (n / name\\n                               :op1 \"Gandhi\"))\\n             :ARG1 (g / government-organization\\n                      :ARG0-of (a / administrate-01)))\\n    :op2 (w / win-01\\n            :ARG0 p\\n            :ARG1 (c / concede-01\\n                     :ARG0 (a3 / authority))\\n            :ARG2 a3)\\n    :time (p3 / pursue-01\\n              :ARG0 p\\n              :ARG1 (s / strategy\\n                       :mod (p2 / protest-01))))', '# ::snt And if both apply, they are essentially impossible.\\n# ::tok And if both apply , they are essentially impossible .\\n(a / and\\n    :op2 (p / possible-01\\n        :polarity -\\n        :ARG1 (t / they)\\n        :condition (a2 / apply-01\\n            :ARG0 (b / both))\\n        :mod (e / essential)))', '# ::snt And if both apply, they are essentially possible.\\n# ::tok And if both apply , they are essentially possible .\\n(a / and\\n    :op2 (p / possible-01\\n        :ARG1 (t / they)\\n        :condition (a2 / apply-01\\n            :ARG1 (b / both))\\n        :mod (e / essential)))', '# ::snt Writing Java is not too different from programming with handcuffs.\\n# ::tok Writing Java is not too different from programming with handcuffs .\\n(d / differ-02\\n   :polarity -\\n   :ARG1 (w / write-01\\n            :ARG1 (l / language\\n                     :wiki \"Java_(programming_language)\"\\n                     :name (n / name\\n                              :op1 \"Java\")))\\n   :ARG2 (p / program-01\\n            :instrument (h / handcuff-01))\\n   :ARG2-of (h2 / have-degree-91\\n                :ARG1 w\\n                :ARG3 (t / too)))', '# ::snt Writing Java is similar to programming with handcuffs.\\n# ::tok Writing Java is similar to programming with handcuffs .\\n(r / resemble-01\\n   :ARG1 (w / write-01\\n            :ARG1 (l / language\\n                     :wiki \"Java_(programming_language)\"\\n                     :name (n / name\\n                              :op1 \"Java\")))\\n   :ARG2 (p / program-01\\n            :instrument (h / handcuff-01)))', '# ::snt The market is about to get harder, but not impossible to navigate.\\n# ::tok The market is about to get harder , but not impossible to navigate .\\n(c / contrast-01\\n    :ARG1 (g / get-03\\n        :ARG1 (m / market)\\n        :ARG2 (h2 / have-degree-91\\n            :ARG1 m\\n            :ARG2 (h / hard-02\\n                :ARG1 m)\\n            :ARG3 (m2 / more))\\n        :time (a / about-to))\\n    :ARG2 (p / possible-01\\n        :polarity -\\n        :ARG1 (n / navigate-01\\n            :ARG1 m)))', '# ::snt The market is about to get harder, but possible to navigate.\\n# ::tok The market is about to get harder , but possible to navigate .\\n(c / contrast-01\\n    :ARG1 (g / get-03\\n        :ARG1 (m / market)\\n        :ARG2 (h2 / have-degree-91\\n            :ARG1 m\\n            :ARG2 (h / hard-02\\n                :ARG1 m)\\n            :ARG3 (m2 / more))\\n        :time (a / about-to))\\n    :ARG2 (p / possible-01\\n        :ARG1 (n / navigate-01\\n            :ARG1 m)))', '# ::snt Even after now finding out that it\\'s animal feed, I won\\'t ever stop being addicted to Flamin\\' Hot Cheetos.\\n# ::tok Even after now finding out that it \\'s animal feed , I wo n\\'t ever stop being addicted to Flamin \\' Hot Cheetos .\\n(s / stop-01\\n   :polarity -\\n   :ARG0 (i / i)\\n   :ARG1 (a / addict-01\\n            :ARG1 i\\n            :ARG2 (p / product\\n                     :wiki \"Cheetos\"\\n                     :name (n / name\\n                              :op1 \"Flamin\\'\"\\n                              :op2 \"Hot\"\\n                              :op3 \"Cheetos\")))\\n   :concession (a2 / after\\n                   :mod (e / even)\\n                   :op1 (f2 / find-out-03\\n                            :ARG0 i\\n                            :ARG1 (f / feed-01\\n                                     :ARG2 (a3 / animal)\\n                                     :ARG2 (i2 / it))\\n                            :time (n2 / now)))\\n   :time (e2 / ever))', '# ::snt Even after now finding out that it\\'s animal feed, I will never stop being addicted to Flamin\\' Hot Cheetos.\\n# ::tok Even after now finding out that it \\'s animal feed , I will never stop being addicted to Flamin \\' Hot Cheetos .\\n(s / stop-01\\n   :polarity -\\n   :ARG0 (i / i)\\n   :ARG1 (a / addict-01\\n            :ARG1 i\\n            :ARG2 (p / product\\n                     :wiki \"Cheetos\"\\n                     :name (n / name\\n                              :op1 \"Flamin\\'\"\\n                              :op2 \"Hot\"\\n                              :op3 \"Cheetos\")))\\n   :concession (a2 / after\\n                   :mod (e / even)\\n                   :op1 (n2 / now)\\n                   :op1 (f2 / find-out-03\\n                            :ARG0 i\\n                            :ARG1 (f / feed-01\\n                                     :ARG2 (a3 / animal)\\n                                     :ARG3 (i2 / it))))\\n   :time (e2 / ever))', '# ::snt He did not disagree with the party\\'s position, but felt that if he resigned, his popularity with Indians would cease to stifle the party\\'s membership.\\n# ::tok He did not disagree with the party \\'s position , but felt that if he resigned , his popularity with Indians would cease to stifle the party \\'s membership .\\n(c2 / contrast-01\\n    :ARG1 (d / disagree-01\\n             :polarity -\\n             :ARG0 (h2 / he)\\n             :ARG2 (p5 / position-02\\n                       :ARG0 (p / party)))\\n    :ARG2 (f / feel-02\\n             :ARG0 h2\\n             :ARG1 (c / cease-01\\n                      :ARG1 (s / stifle-01\\n                               :ARG0 (p4 / popularity\\n                                         :poss h2\\n                                         :prep-with (p2 / person\\n                                                        :mod (c3 / country\\n                                                                 :wiki \"India\"\\n                                                                 :name (n / name\\n                                                                          :op1 \"India\"))))\\n                               :ARG1 (p3 / person\\n                                         :ARG0-of (h / have-org-role-91\\n                                                     :ARG1 p\\n                                                     :ARG2 (m / member))))\\n                      :condition (r / resign-01\\n                                    :ARG0 h2))))', '# ::snt He agreed with the party\\'s position, but felt that if he resigned, his popularity with Indians would cease to stifle the party\\'s membership.\\n# ::tok He agreed with the party \\'s position , but felt that if he resigned , his popularity with Indians would cease to stifle the party \\'s membership .\\n(c2 / contrast-01\\n    :ARG1 (a / agree-01\\n             :ARG0 (h2 / he)\\n             :ARG1 (p5 / position-02\\n                       :ARG0 (p / party)))\\n    :ARG2 (f / feel-02\\n             :ARG0 h2\\n             :ARG1 (c / cease-01\\n                      :ARG1 (s / stifle-01\\n                               :ARG0 (p4 / popularity\\n                                         :poss h2\\n                                         :prep-with (p2 / person\\n                                                        :mod (c3 / country\\n                                                                 :wiki \"India\"\\n                                                                 :name (n / name\\n                                                                          :op1 \"India\"))))\\n                               :ARG1 (p3 / person\\n                                         :ARG0-of (h / have-org-role-91\\n                                                     :ARG1 p\\n                                                     :ARG2 (m / member))))\\n                      :condition (r / resign-01\\n                                    :ARG0 h2))))', '# ::snt If the pipeline tokenization scheme does not correspond to the one that was used when a model was created, a negative impact on the pipeline results would be expected.\\n# ::tok If the pipeline tokenization scheme does not correspond to the one that was used when a model was created , a negative impact on the pipeline results would be expected .\\n(e / expect-01\\n    :ARG1 (i / impact-01\\n        :ARG1 (t / thing\\n            :ARG2-of (r / result-01\\n                :ARG1 (p / pipeline)))\\n        :ARG2 (n / negative-02))\\n    :condition (c / correspond-02\\n        :polarity -\\n        :ARG1 (s2 / scheme-01\\n            :ARG1 (t2 / tokenize-01\\n                :ARG1 p))\\n        :ARG2 (s / scheme-01\\n            :ARG1-of (u / use-01\\n                :time (c2 / create-01\\n                    :ARG1 (m / model))))))', '# ::snt If the pipeline tokenization scheme does not correspond to the one that was used when a model was created, a negative impact on the pipeline results would not be unexpected.\\n# ::tok If the pipeline tokenization scheme does not correspond to the one that was used when a model was created , a negative impact on the pipeline results would not be unexpected .\\n(e / expect-01\\n    :ARG1 (i / impact-01\\n        :ARG0-of (n / negative-02)\\n        :ARG1 (t / thing\\n            :ARG2-of (r / result-01\\n                :ARG1 (p / pipeline))))\\n    :condition (c / correspond-02\\n        :polarity -\\n        :ARG1 (s2 / scheme-01\\n            :ARG1 (t2 / tokenize-01\\n                :ARG1 p))\\n        :ARG2 (s / scheme-01\\n            :ARG1-of (u / use-01\\n                :time (c2 / create-01\\n                    :ARG1 (m / model))))))', '# ::snt If the pipeline tokenization scheme does not correspond to the one that was used when a model was created, it would be expected to negatively impact the pipeline results.\\n# ::tok If the pipeline tokenization scheme does not correspond to the one that was used when a model was created , it would be expected to negatively impact the pipeline results .\\n(e / expect-01\\n    :ARG1 (i / impact-01\\n        :ARG0 (s2 / scheme-01\\n            :ARG1 (t2 / tokenize-01\\n                :ARG1 (p / pipeline)))\\n        :ARG1 (t / thing\\n            :ARG2-of (r / result-01\\n                :ARG1 p))\\n        :ARG2 (n / negative-02))\\n    :condition (c / correspond-02\\n        :polarity -\\n        :ARG1 s2\\n        :ARG2 (s / scheme-01\\n            :ARG1-of (u / use-01\\n                :time (c2 / create-01\\n                    :ARG1 (m / model))))))', '# ::snt If the pipeline tokenization scheme does not correspond to the one that was used when a model was created, it would not be unexpected for it to negatively impact the pipeline results.\\n# ::tok If the pipeline tokenization scheme does not correspond to the one that was used when a model was created , it would not be unexpected for it to negatively impact the pipeline results .\\n(e / expect-01\\n    :ARG1 (i / impact-01\\n        :ARG0 (s2 / scheme-01\\n            :ARG1 (t2 / tokenize-01\\n                :ARG1 (p / pipeline)))\\n        :ARG1 (t / thing\\n            :ARG2-of (r / result-01\\n                :ARG1 p))\\n        :ARG2 (n / negative-02))\\n    :condition (c / correspond-02\\n        :polarity -\\n        :ARG1 s2\\n        :ARG2 (s / scheme-01\\n            :ARG1-of (u / use-01\\n                :time (c2 / create-01\\n                    :ARG1 (m / model))))))', '# ::snt The water is too hot.\\n# ::tok The water is too hot .\\n(h / have-degree-91\\n    :ARG1 (w / water)\\n    :ARG2 (h2 / hot-05\\n        :ARG1 w)\\n    :ARG3 (t / too))', '# ::snt The water is too cold.\\n# ::tok The water is too cold .\\n(h / have-degree-91\\n    :ARG1 (w / water)\\n    :ARG2 (c / cold-01\\n        :ARG1 w)\\n    :ARG3 (t / too))', '# ::snt Falcon Heavy is the largest rocket since NASA\\'s Saturn V booster, which was used for the Moon missions in the 1970s.\\n# ::tok Falcon Heavy is the largest rocket since NASA \\'s Saturn V booster , which was used for the Moon missions in the 1970 s .\\n(h / have-degree-91\\n   :ARG1 (r2 / rocket\\n             :wiki \"Falcon_Heavy\"\\n             :name (n / name\\n                      :op1 \"Falcon\"\\n                      :op2 \"Heavy\"))\\n   :ARG2 (l / large)\\n   :ARG3 (m3 / most)\\n   :ARG5 (r3 / rocket\\n             :time (s / since\\n                      :op1 (r4 / rocket\\n                               :wiki \"Saturn_V\"\\n                               :name (n3 / name\\n                                         :op1 \"Saturn\"\\n                                         :op2 \"V\")\\n                               :ARG0-of (b / boost-01)\\n                               :ARG1-of (u / use-01\\n                                           :ARG2 (m / mission-01\\n                                                    :ARG1 (m2 / moon))\\n                                           :time (d / date-entity\\n                                                    :decade 1970))\\n                               :poss (r / research-institute\\n                                        :wiki \"NASA\"\\n                                        :name (n2 / name\\n                                                  :op1 \"NASA\"))))))', '# ::snt Falcon Heavy is the smallest rocket since NASA\\'s Saturn V booster, which was used for the Moon missions in the 1970s.\\n# ::tok Falcon Heavy is the smallest rocket since NASA \\'s Saturn V booster , which was used for the Moon missions in the 1970 s .\\n(h / have-degree-91\\n   :ARG1 (r2 / rocket\\n             :wiki \"Falcon_Heavy\"\\n             :name (n / name\\n                      :op1 \"Falcon\"\\n                      :op2 \"Heavy\"))\\n   :ARG2 (s2 / small)\\n   :ARG3 (m3 / most)\\n   :ARG5 (r3 / rocket\\n             :time (s / since\\n                      :op1 (r4 / rocket\\n                               :wiki \"Saturn_V\"\\n                               :name (n3 / name\\n                                         :op1 \"Saturn\"\\n                                         :op2 \"V\")\\n                               :ARG0-of (b / boost-01)\\n                               :ARG1-of (u / use-01\\n                                           :ARG2 (m / mission-01\\n                                                    :ARG1 (m2 / moon))\\n                                           :time (d / date-entity\\n                                                    :decade 1970))\\n                               :poss (r / research-institute\\n                                        :wiki \"NASA\"\\n                                        :name (n2 / name\\n                                                  :op1 \"NASA\"))))))', '# ::snt Adenoiditis symptoms often persist for ten or more days, and often include pus-like discharge from nose.\\n# ::tok Adenoiditis symptoms often persist for ten or more days , and often include pus - like discharge from nose .\\n(a / and\\n   :op1 (p / persist-01\\n           :ARG1 (s / symptom\\n                    :mod (d3 / disease\\n                             :wiki \"Adenoiditis\"\\n                             :name (n / name\\n                                      :op1 \"Adenoiditis\")))\\n           :duration (o2 / or\\n                         :op1 (t / temporal-quantity\\n                                 :quant 10\\n                                 :unit (d / day))\\n                         :op2 (m / more-than))\\n           :frequency (o / often))\\n   :op2 (i / include-01\\n           :ARG1 (d2 / discharge-01\\n                     :ARG1-of (r / resemble-01\\n                                 :ARG2 (p2 / pus))\\n                     :ARG2 (n2 / nose))\\n           :ARG2 s\\n           :frequency o))', '# ::snt Adenoiditis symptoms often pass within ten days or less, and often include pus-like discharge from nose.\\n# ::tok Adenoiditis symptoms often pass within ten days or less , and often include pus - like discharge from nose .\\n(a2 / and\\n    :op1 (p / pass-03\\n            :ARG1 (s / symptom\\n                     :mod (d3 / disease\\n                              :wiki \"Adenoiditis\"\\n                              :name (n / name\\n                                       :op1 \"Adenoiditis\")))\\n            :frequency (o2 / often)\\n            :time (a / after\\n                     :quant (u / up-to\\n                               :op1 (o3 / or\\n                                        :op1 (t / temporal-quantity\\n                                                :quant 10\\n                                                :unit (d / day))\\n                                        :op2 (l / less-than\\n                                                :op1 t)))))\\n    :op2 (i / include-01\\n            :ARG1 (d2 / discharge-01\\n                      :ARG1 (n2 / nose)\\n                      :ARG1-of (r / resemble-01\\n                                  :ARG2 (p2 / pus)))\\n            :ARG2 s\\n            :frequency (o / often)))', '# ::snt In example (1) it is quite straightforward to see the exaggerated positive sentiment used in order to convey strong negative feelings.\\n# ::tok In example ( 1 ) it is quite straightforward to see the exaggerated positive sentiment used in order to convey strong negative feelings .\\n(e2 / exemplify-01\\n    :ARG0 (s3 / straightforward\\n        :li 1\\n        :degree (q / quite)\\n        :domain (s / see-01\\n            :ARG1 (s2 / sentiment\\n                :ARG1-of (e / exaggerate-01)\\n                :ARG1-of (u / use-01\\n                    :ARG2 (c / convey-01\\n                        :ARG1 (f / feel-01\\n                            :ARG1 (n / negative-02)\\n                            :ARG1-of (s4 / strong-02))))\\n                :mod (p / positive)))))', '# ::snt In example (1) it is quite difficult to see the exaggerated positive sentiment used in order to convey strong negative feelings.\\n# ::tok In example ( 1 ) it is quite difficult to see the exaggerated positive sentiment used in order to convey strong negative feelings .\\n(e2 / exemplify-01\\n    :ARG0 (d / difficult\\n        :li 1\\n        :degree (q / quite)\\n        :domain (s / see-01\\n            :ARG1 (s2 / sentiment\\n                :ARG1-of (e / exaggerate-01)\\n                :ARG1-of (u / use-01\\n                    :ARG2 (c / convey-01\\n                        :ARG1 (f / feel-01\\n                            :ARG1 (n / negative-02)\\n                            :ARG1-of (s3 / strong-02))))\\n                :mod (p / positive)))))', '# ::snt In example (1) it is quite easy to see the exaggerated positive sentiment used in order to convey strong negative feelings.\\n# ::tok In example ( 1 ) it is quite easy to see the exaggerated positive sentiment used in order to convey strong negative feelings .\\n(e3 / exemplify-01\\n    :ARG0 (e / easy-05\\n        :li 1\\n        :ARG1 (s / see-01\\n            :ARG1 (s2 / sentiment\\n                :ARG1-of (e2 / exaggerate-01)\\n                :ARG1-of (u / use-01\\n                    :ARG2 (c / convey-01\\n                        :ARG1 (f / feel-01\\n                            :ARG1 (n / negative-02)\\n                            :ARG1-of (s3 / strong-02))))\\n                :mod (p / positive)))\\n        :degree (q / quite)))', '# ::snt In example (1) it is quite important to see the exaggerated positive sentiment used in order to convey strong negative feelings.\\n# ::tok In example ( 1 ) it is quite important to see the exaggerated positive sentiment used in order to convey strong negative feelings .\\n(e2 / exemplify-01\\n    :ARG0 (i / important-01\\n        :li 1\\n        :ARG1 (s / see-01\\n            :ARG1 (s2 / sentiment\\n                :ARG1-of (e / exaggerate-01)\\n                :ARG1-of (u / use-01\\n                    :ARG2 (c / convey-01\\n                        :ARG1 (f / feel-01\\n                            :ARG1 (n / negative-02)\\n                            :ARG1-of (s3 / strong-02))))\\n                :mod (p / positive)))\\n        :degree (q / quite)))', '# ::snt Some dogs like to scratch their ears.\\n# ::tok Some dogs like to scratch their ears .\\n(l / like-01\\n    :ARG0 (d / dog\\n        :quant (s2 / some))\\n    :ARG1 (s / scratch-02\\n        :ARG0 d\\n        :ARG1 (e / ear\\n            :part-of d)))', '# ::snt Some animals like to scratch their ears.\\n# ::tok Some animals like to scratch their ears .\\n(l / like-01\\n    :ARG0 (a / animal\\n        :mod (s2 / some))\\n    :ARG1 (s / scratch-02\\n        :ARG0 a\\n        :ARG1 (e / ear\\n            :part-of a)))', '# ::snt Cruz has frequently derided as \"amnesty\" various plans that confer legal status or citizenship on people living in the country illegally.\\n# ::tok Cruz has frequently derided as \" amnesty \" various plans that confer legal status or citizenship on people living in the country illegally .\\n(d / deride-01\\n   :ARG0 (p / person\\n            :wiki \"Ted_Cruz\"\\n            :name (n / name\\n                     :op1 \"Cruz\"))\\n   :ARG1 (p3 / plan-01\\n             :ARG0-of (c2 / confer-01\\n                          :ARG1 (o / or\\n                                   :op1 (s / status\\n                                           :ARG1-of (l / legal-02))\\n                                   :op2 (c / citizenship\\n                                           :ARG1-of l))\\n                          :ARG2 (p2 / person\\n                                    :ARG0-of (l3 / live-01\\n                                                 :ARG1-of (l2 / legal-02\\n                                                              :polarity -)\\n                                                 :location (c3 / country))))\\n             :mod (v / various))\\n   :ARG1-of (f / frequent-02)\\n   :ARG2 (a / amnesty))', '# ::snt Cruz has frequently derided as \"amnesty\" various bills that confer legal status or citizenship on people living in the country illegally.\\n# ::tok Cruz has frequently derided as \" amnesty \" various bills that confer legal status or citizenship on people living in the country illegally .\\n(d / deride-01\\n   :ARG0 (p / person\\n            :wiki \"Ted_Cruz\"\\n            :name (n / name\\n                     :op1 \"Cruz\"))\\n   :ARG1 (b / bill\\n            :ARG0-of (c2 / confer-01\\n                         :ARG1 (o / or\\n                                  :op1 (s / status\\n                                          :ARG1-of (l / legal-02))\\n                                  :op2 (c / citizenship\\n                                          :ARG1-of l))\\n                         :ARG2 (p2 / person\\n                                   :ARG0-of (l3 / live-01\\n                                                :ARG1-of (l2 / legal-02\\n                                                             :polarity -)\\n                                                :location (c3 / country))))\\n            :mod (v / various))\\n   :ARG1-of (f / frequent-02)\\n   :ARG2 (a / amnesty))', '# ::snt Most of the graduates of my program have moved on to other things because the jobs suck.\\n# ::tok Most of the graduates of my program have moved on to other things because the jobs suck .\\n(m2 / move-01\\n    :ARG0 (p / person\\n        :ARG1-of (i2 / include-91\\n            :ARG2 (p2 / person\\n                :ARG1-of (g / graduate-01\\n                    :ARG2 (p3 / program\\n                        :poss (i / i))))\\n            :ARG3 (m / most)))\\n    :ARG1-of (c / cause-01\\n        :ARG0 (s / suck-03\\n            :ARG0 (j / job)))\\n    :ARG2 (t / thing\\n        :mod (o / other)))', '# ::snt Some of the graduates of my program have moved on to other things because the jobs suck.\\n# ::tok Some of the graduates of my program have moved on to other things because the jobs suck .\\n(m / move-01\\n    :ARG0 (p / person\\n        :quant (s / some)\\n        :ARG1-of (i2 / include-91\\n            :ARG2 (p2 / person\\n                :ARG1-of (g / graduate-01\\n                    :ARG2 (p3 / program\\n                        :poss (i / i))))))\\n    :ARG1-of (c / cause-01\\n        :ARG0 (s2 / suck-03\\n            :ARG0 (j / job)))\\n    :ARG2 (t / thing\\n        :mod (o / other)))', '# ::snt In many developed areas, human activity has changed the form of river channels, altering magnitudes and frequencies of flooding.\\n# ::tok In many developed areas , human activity has changed the form of river channels , altering magnitudes and frequencies of flooding .\\n(c / change-01\\n    :ARG0 (a / activity-06\\n        :ARG0 (p / person))\\n    :ARG0-of (a2 / alter-01\\n        :ARG1 (a3 / and\\n            :op1 (m / magnitude\\n                :degree-of (f / flood-01))\\n            :op2 (f3 / frequency\\n                :frequency-of f)))\\n    :ARG1 (f2 / form\\n        :poss (c2 / channel\\n            :mod (r / river)))\\n    :location (a4 / area\\n        :quant (m2 / many)\\n        :ARG1-of (d / develop-02)))', '# ::snt In many areas, human activity has changed the form of river channels, altering magnitudes and frequencies of flooding.\\n# ::tok In many areas , human activity has changed the form of river channels , altering magnitudes and frequencies of flooding .\\n(c / change-01\\n    :ARG0 (a / activity-06\\n        :ARG0 (p / person))\\n    :ARG0-of (a2 / alter-01\\n        :ARG1 (a3 / and\\n            :op1 (m / magnitude\\n                :degree-of (f / flood-01))\\n            :op2 (f3 / frequency\\n                :frequency-of f)))\\n    :ARG1 (f2 / form\\n        :poss (c2 / channel\\n            :mod (r / river)))\\n    :location (a4 / area\\n        :quant (m2 / many)))', '# ::snt We consider some context words as positive examples and sample negatives at random from the dictionary.\\n# ::tok We consider some context words as positive examples and sample negatives at random from the dictionary .\\n(a / and\\n    :op1 (c / consider-01\\n        :ARG0 (w / we)\\n        :ARG1 (e / example\\n            :domain (w2 / word\\n                :quant (s2 / some)\\n                :mod (c2 / context))\\n            :mod (p / positive)))\\n    :op2 (s / sample-01\\n        :ARG0 w\\n        :ARG1 (n / negative)\\n        :ARG2 (d / dictionary)\\n        :manner (r / random)))', '# ::snt We consider some words as positive examples and sample negatives at random from the dictionary.\\n# ::tok We consider some words as positive examples and sample negatives at random from the dictionary .\\n(c / consider-01\\n    :ARG0 (w / we)\\n    :ARG1 (a / and\\n        :op1 (e / example\\n            :domain (w2 / word\\n                :quant (s2 / some))\\n            :mod (p / positive))\\n        :op2 (s / sample-01\\n            :ARG0 w\\n            :ARG1 (n / negative)\\n            :ARG2 (d / dictionary)\\n            :manner (r / random))))', '# ::snt We consider all context words as positive examples and sample many negatives at random from the dictionary.\\n# ::tok We consider all context words as positive examples and sample many negatives at random from the dictionary .\\n(a2 / and\\n    :op1 (c / consider-01\\n        :ARG0 (w / we)\\n        :ARG1 (e / example\\n            :domain (w2 / word\\n                :mod (c2 / context)\\n                :mod (a / all))\\n            :mod (p / positive)))\\n    :op2 (s / sample-01\\n        :ARG0 w\\n        :ARG1 (n / negative\\n            :quant (m / many))\\n        :ARG2 (d / dictionary)\\n        :manner (r / random)))', '# ::snt We consider many context words as positive examples and sample negatives at random from the dictionary.\\n# ::tok We consider many context words as positive examples and sample negatives at random from the dictionary .\\n(a / and\\n    :op1 (c / consider-01\\n        :ARG0 (w / we)\\n        :ARG1 (e / example\\n            :domain (w2 / word\\n                :quant (m / many)\\n                :mod (c2 / context))\\n            :mod (p / positive)))\\n    :op2 (s / sample-01\\n        :ARG0 w\\n        :ARG1 (n / negative)\\n        :ARG2 (d / dictionary)\\n        :manner (r / random)))', '# ::snt We consider all context words as positive examples and sample negatives at random from the dictionary.\\n# ::tok We consider all context words as positive examples and sample negatives at random from the dictionary .\\n(c / consider-01\\n    :ARG0 (w / we)\\n    :ARG1 (a2 / and\\n        :op1 (e / example\\n            :domain (w2 / word\\n                :mod (c2 / context)\\n                :mod (a / all))\\n            :mod (p / positive))\\n        :op2 (s / sample-01\\n            :ARG0 w\\n            :ARG1 (n / negative)\\n            :ARG2 (d / dictionary)\\n            :manner (r / random))))', '# ::snt We consider all words as positive examples and sample negatives at random from the dictionary.\\n# ::tok We consider all words as positive examples and sample negatives at random from the dictionary .\\n(c / consider-01\\n    :ARG0 (w / we)\\n    :ARG1 (a2 / and\\n        :op1 (e / example\\n            :domain (w2 / word\\n                :mod (a / all))\\n            :mod (p / positive))\\n        :op2 (s / sample-01\\n            :ARG0 w2\\n            :ARG1 (n / negative)\\n            :ARG2 (d / dictionary)\\n            :manner (r / random))))', '# ::snt All dogs like to scratch their ears.\\n# ::tok All dogs like to scratch their ears .\\n(l / like-01\\n    :ARG0 (d / dog\\n        :mod (a / all))\\n    :ARG1 (s / scratch-02\\n        :ARG0 d\\n        :ARG1 (e / ear\\n            :part-of d)))', '# ::snt All animals like to scratch their ears.\\n# ::tok All animals like to scratch their ears .\\n(l / like-01\\n    :ARG0 (a2 / animal\\n        :mod (a / all))\\n    :ARG1 (s / scratch-02\\n        :ARG0 a2\\n        :ARG1 (e / ear\\n            :part-of a2)))', '# ::snt Cruz has frequently derided as \"amnesty\" any plan that confers legal status or citizenship on people living in the country illegally.\\n# ::tok Cruz has frequently derided as \" amnesty \" any plan that confers legal status or citizenship on people living in the country illegally .\\n(d / deride-01\\n   :ARG0 (p / person\\n            :wiki \"Isaac_Cruz\"\\n            :name (n / name\\n                     :op1 \"Cruz\"))\\n   :ARG1 (p3 / plan-01\\n             :ARG0-of (c2 / confer-01\\n                          :ARG1 (o / or\\n                                   :op1 (s / status\\n                                           :ARG1-of (l / legal-02))\\n                                   :op2 (c / citizenship))\\n                          :ARG2 (p2 / person\\n                                    :ARG0-of (l3 / live-01\\n                                                 :ARG1-of (l2 / legal-02\\n                                                              :polarity -)\\n                                                 :location (c3 / country))))\\n             :mod (a2 / any))\\n   :ARG1-of (f / frequent-02)\\n   :ARG2 (a / amnesty))', '# ::snt Cruz has frequently derided as \"amnesty\" any bill that confers legal status or citizenship on people living in the country illegally.\\n# ::tok Cruz has frequently derided as \" amnesty \" any bill that confers legal status or citizenship on people living in the country illegally .\\n(d / deride-01\\n   :ARG0 (p / person\\n            :wiki \"Ted_Cruz\"\\n            :name (n / name\\n                     :op1 \"Cruz\"))\\n   :ARG1 (b / bill\\n            :ARG0-of (c2 / confer-01\\n                         :ARG1 (o / or\\n                                  :op1 (s / status\\n                                          :ARG1-of (l / legal-02))\\n                                  :op2 (c / citizenship\\n                                          :ARG1-of l))\\n                         :ARG2 (p2 / person\\n                                   :ARG0-of (l3 / live-01\\n                                                :ARG1-of (l2 / legal-02\\n                                                             :polarity -)\\n                                                :location (c3 / country))))\\n            :mod (a2 / any))\\n   :ARG1-of (f / frequent-02)\\n   :ARG2 (a / amnesty))', '# ::snt None of the graduates of my program have moved on to other things because the jobs suck.\\n# ::tok None of the graduates of my program have moved on to other things because the jobs suck .\\n(m / move-01\\n    :ARG0 (p / person\\n        :quant (n / none)\\n        :ARG1-of (g / graduate-01\\n            :ARG2 (p2 / program\\n                :poss (i / i))))\\n    :ARG1-of (c / cause-01\\n        :ARG0 (s / suck-03\\n            :ARG0 (j / job)))\\n    :ARG2 (t / thing\\n        :mod (o / other)))', '# ::snt All of the graduates of my program have moved on to other things because the jobs suck.\\n# ::tok All of the graduates of my program have moved on to other things because the jobs suck .\\n(m / move-01\\n    :ARG0 (p / person\\n        :ARG1-of (g / graduate-01\\n            :ARG2 (p2 / program\\n                :poss (i / i)))\\n        :mod (a / all))\\n    :ARG1-of (c / cause-01\\n        :ARG0 (s / suck-03\\n            :ARG0 (j / job)))\\n    :ARG2 (t / thing\\n        :mod (o / other)))', '# ::snt In all areas, human activity has changed the form of river channels, altering magnitudes and frequencies of flooding.\\n# ::tok In all areas , human activity has changed the form of river channels , altering magnitudes and frequencies of flooding .\\n(c / change-01\\n    :ARG0 (a / activity-06\\n        :ARG0 (p / person))\\n    :ARG0-of (a3 / alter-01\\n        :ARG1 (a4 / and\\n            :op1 (m / magnitude\\n                :degree-of (f / flood-01))\\n            :op2 (f3 / frequency\\n                :frequency-of f)))\\n    :ARG1 (f2 / form\\n        :poss (c2 / channel\\n            :mod (r / river)))\\n    :location (a5 / area\\n        :mod (a2 / all)))', '# ::snt In all developed areas, human activity has changed the form of river channels, altering magnitudes and frequencies of flooding.\\n# ::tok In all developed areas , human activity has changed the form of river channels , altering magnitudes and frequencies of flooding .\\n(c / change-01\\n    :ARG0 (a / activity-06\\n        :ARG0 (p / person))\\n    :ARG0-of (a3 / alter-01\\n        :ARG1 (a4 / and\\n            :op1 (m / magnitude\\n                :degree-of (f / flood-01))\\n            :op2 (f3 / frequency\\n                :frequency-of f)))\\n    :ARG1 (f2 / form\\n        :poss (c2 / channel\\n            :mod (r / river)))\\n    :location (a5 / area\\n        :ARG1-of (d / develop-02)\\n        :mod (a2 / all)))', '# ::snt Tom and Adam were whispering in the theater.\\n# ::tok Tom and Adam were whispering in the theater .\\n(w / whisper-01\\n   :ARG0 (a / and\\n            :op1 (p / person\\n                    :wiki -\\n                    :name (n / name\\n                             :op1 \"Tom\"))\\n            :op2 (p2 / person\\n                     :wiki -\\n                     :name (n2 / name\\n                               :op1 \"Adam\")))\\n   :location (t / theater))', '# ::snt Tom and Adam were whispering quietly in the theater.\\n# ::tok Tom and Adam were whispering quietly in the theater .\\n(w / whisper-01\\n   :ARG0 (a / and\\n            :op1 (p / person\\n                    :wiki -\\n                    :name (n / name\\n                             :op1 \"Tom\"))\\n            :op2 (p2 / person\\n                     :wiki -\\n                     :name (n2 / name\\n                               :op1 \"Adam\")))\\n   :ARG1-of (q / quiet-04)\\n   :location (t / theater))', '# ::snt Tom and Adam were whispering loudly in the theater.\\n# ::tok Tom and Adam were whispering loudly in the theater .\\n(w / whisper-01\\n   :ARG0 (a / and\\n            :op1 (p / person\\n                    :wiki -\\n                    :name (n / name\\n                             :op1 \"Tom\"))\\n            :op2 (p2 / person\\n                     :wiki -\\n                     :name (n2 / name\\n                               :op1 \"Adam\")))\\n   :location (t / theater)\\n   :manner (l / loud))', '# ::snt Prior to the dance, which is voluntary, students are told to fill out a card by selecting five people they want to dance with.\\n# ::tok Prior to the dance , which is voluntary , students are told to fill out a card by selecting five people they want to dance with .\\n(t / tell-01\\n    :ARG1 (f / fill-out-03\\n        :ARG0 (p / person\\n            :ARG0-of (s2 / study-01))\\n        :ARG1 (c / card)\\n        :manner (s / select-01\\n            :ARG0 p\\n            :ARG1 (p2 / person\\n                :quant 5\\n                :accompanier-of (d2 / dance-01\\n                    :ARG0 p\\n                    :ARG1-of (w / want-01\\n                        :ARG0 p)))))\\n    :ARG2 p\\n    :time (p3 / prior\\n        :op1 (d / dance-01\\n            :ARG1-of (v / voluntary-02\\n                :ARG0 p))))', '# ::snt Prior to the dance, which is voluntary, students are told to fill out a card by selecting five different people they want to dance with.\\n# ::tok Prior to the dance , which is voluntary , students are told to fill out a card by selecting five different people they want to dance with .\\n(t / tell-01\\n    :ARG1 (f / fill-out-03\\n        :ARG0 (p / person\\n            :ARG0-of (s2 / study-01))\\n        :ARG1 (c / card)\\n        :manner (s / select-01\\n            :ARG0 p\\n            :ARG1 (p2 / person\\n                :quant 5\\n                :ARG1-of (d3 / differ-02)\\n                :ARG3-of (d2 / dance-01\\n                    :ARG0 p\\n                    :ARG1-of (w / want-01\\n                        :ARG0 p)))))\\n    :ARG2 p\\n    :time (p3 / prior\\n        :op1 (d / dance-01\\n            :ARG1-of (v / voluntary-02\\n                :ARG0 p))))', '# ::snt Notifications about Farmville and other crap had become unbearable, then the shift to the non-chronological timeline happened and the content from your friends started to be replaced by ads and other cringy wannabe-viral campaigns.\\n# ::tok Notifications about Farmville and other crap had become unbearable , then the shift to the non - chronological timeline happened and the content from your friends started to be replaced by ads and other cringy wannabe - viral campaigns .\\n(a3 / and\\n    :op1 (b / become-01\\n            :ARG1 (n2 / notify-01\\n                      :ARG2 (a2 / and\\n                                :op1 (p3 / product\\n                                         :wiki \"Zynga\"\\n                                         :name (n / name\\n                                                  :op1 \"Farmville\"))\\n                                :op2 (c4 / crap\\n                                         :mod (o / other))))\\n            :ARG2 (p2 / possible-01\\n                      :polarity -\\n                      :ARG1 (t3 / tolerate-01\\n                                :ARG1 n2)))\\n    :op2 (a4 / and\\n             :op1 (s / shift-01\\n                     :ARG2 (t2 / timeline\\n                               :mod (c2 / chronology\\n                                        :polarity -)))\\n             :op2 (s2 / start-01\\n                      :ARG1 (r / replace-01\\n                               :ARG1 (c3 / content\\n                                         :source (p / person\\n                                                    :ARG0-of (h / have-rel-role-91\\n                                                                :ARG1 (y / you)\\n                                                                :ARG2 (f / friend))))\\n                               :ARG2 (a5 / and\\n                                         :op1 (a / advertise-01)\\n                                         :op2 (c / campaign-01\\n                                                 :ARG1 (v / viral)\\n                                                 :ARG1-of (w / want-01)\\n                                                 :mod (c5 / cringy)\\n                                                 :mod (o2 / other)))))\\n             :time (t / then)))', '# ::snt Notifications about Farmville and other crappy apps had become unbearable, then the shift to the non-chronological timeline happened and the content from your friends started to be replaced by ads and other cringy wannabe-viral campaigns.\\n# ::tok Notifications about Farmville and other crappy apps had become unbearable , then the shift to the non - chronological timeline happened and the content from your friends started to be replaced by ads and other cringy wannabe - viral campaigns .\\n(a3 / and\\n    :op1 (b / become-01\\n            :ARG1 (n2 / notify-01\\n                      :ARG2 (a2 / and\\n                                :op1 (p3 / product\\n                                         :wiki \"Zynga\"\\n                                         :name (n / name\\n                                                  :op1 \"Farmville\"))\\n                                :op2 (a6 / app\\n                                         :mod (c4 / crappy)\\n                                         :mod (o / other))))\\n            :ARG2 (p2 / possible-01\\n                      :polarity -\\n                      :ARG1 (t3 / tolerate-01\\n                                :ARG1 n2)))\\n    :op2 (a4 / and\\n             :op1 (s / shift-01\\n                     :ARG2 (t2 / timeline\\n                               :mod (c2 / chronology\\n                                        :polarity -)))\\n             :op2 (s2 / start-01\\n                      :ARG1 (r / replace-01\\n                               :ARG1 (c3 / content\\n                                         :source (p / person\\n                                                    :ARG0-of (h / have-rel-role-91\\n                                                                :ARG1 (y / you)\\n                                                                :ARG2 (f / friend))))\\n                               :ARG2 (a5 / and\\n                                         :op1 (a / advertise-01)\\n                                         :op2 (c / campaign-01\\n                                                 :mod (v / viral)\\n                                                 :mod (w / wannabe)\\n                                                 :mod (c5 / cringy)\\n                                                 :mod (o2 / other)))))\\n             :time (t / then)))', '# ::snt Chicago City Hall is the official seat of government of the City of Chicago.\\n# ::tok Chicago City Hall is the official seat of government of the City of Chicago .\\n(h / have-org-role-91\\n   :ARG0 (b / building\\n            :wiki \"List_of_tallest_buildings_in_Chicago\"\\n            :name (n / name\\n                     :op1 \"Chicago\"\\n                     :op2 \"City\"\\n                     :op3 \"Hall\"))\\n   :ARG1 (g2 / government-organization\\n             :ARG0-of (g / govern-01\\n                         :ARG1 (c / city\\n                                  :wiki \"Chicago\"\\n                                  :name (n2 / name\\n                                            :op1 \"Chicago\"))))\\n   :ARG2 (s / seat\\n            :mod (o / official)))', '# ::snt Chicago City Hall is the official seat of government of Chicago.\\n# ::tok Chicago City Hall is the official seat of government of Chicago .\\n(h / have-org-role-91\\n   :ARG0 (b / building\\n            :wiki \"List_of_tallest_buildings_in_Chicago\"\\n            :name (n / name\\n                     :op1 \"Chicago\"\\n                     :op2 \"City\"\\n                     :op3 \"Hall\"))\\n   :ARG1 (g2 / government-organization\\n             :ARG0-of (g / govern-01\\n                         :ARG1 (c / city\\n                                  :wiki \"Chicago\"\\n                                  :name (n2 / name\\n                                            :op1 \"Chicago\"))))\\n   :ARG2 (s / seat\\n            :mod (o / official)))', '# ::snt The question generation aspect is unique to our formulation, and corresponds roughly to identifying what semantic role labels are present in previous formulations of the task.\\n# ::tok The question generation aspect is unique to our formulation , and corresponds roughly to identifying what semantic role labels are present in previous formulations of the task .\\n(a / and\\n    :op1 (u / unique-01\\n        :ARG1 (a2 / aspect\\n            :topic (g / generate-01\\n                :ARG1 (q / question)))\\n        :ARG2 (f / formulate-01\\n            :ARG0 (w / we)))\\n    :op2 (c / correspond-02\\n        :ARG1 a2\\n        :ARG2 (i / identify-01\\n            :ARG1 (l / label\\n                :ARG1-of (p / present-02\\n                    :ARG2 (f2 / formulate-01\\n                        :ARG1 (t / task)\\n                        :time (p2 / previous)))\\n                :mod (r / role\\n                    :mod (s / semantics))))\\n        :manner (r2 / rough)))', '# ::snt The question generation aspect is unique to our formulation, and corresponds roughly to identifying what semantic role labels are present in previous other formulations of the task.\\n# ::tok The question generation aspect is unique to our formulation , and corresponds roughly to identifying what semantic role labels are present in previous other formulations of the task .\\n(a / and\\n    :op1 (u / unique-01\\n        :ARG1 (a2 / aspect\\n            :topic (g / generate-01\\n                :ARG1 (q / question)))\\n        :ARG2 (f / formulate-01\\n            :ARG0 (w / we)))\\n    :op2 (c / correspond-02\\n        :ARG1 a2\\n        :ARG2 (i / identify-01\\n            :ARG1 (l / label\\n                :ARG1-of (p / present-02\\n                    :ARG2 (f2 / formulate-01\\n                        :ARG1 (t / task)\\n                        :mod (o / other)\\n                        :mod (p2 / previous)))\\n                :mod (r / role\\n                    :mod (s / semantics))))\\n        :manner (r2 / rough)))', '# ::snt John ate pasta for dinner.\\n# ::tok John ate pasta for dinner .\\n(e / eat-01\\n   :ARG0 (p2 / person\\n             :wiki -\\n             :name (n / name\\n                      :op1 \"John\"))\\n   :ARG1 (p / pasta)\\n   :time (d / dinner))', '# ::snt John ate pasta for supper.\\n# ::tok John ate pasta for supper .\\n(e / eat-01\\n   :ARG0 (p2 / person\\n             :wiki -\\n             :name (n / name\\n                      :op1 \"John\"))\\n   :ARG1 (p / pasta)\\n   :time (s / supper))', '# ::snt John ate pasta for breakfast.\\n# ::tok John ate pasta for breakfast .\\n(e / eat-01\\n   :ARG0 (p2 / person\\n             :wiki -\\n             :name (n / name\\n                      :op1 \"John\"))\\n   :ARG1 (p / pasta)\\n   :ARG1-of (b / breakfast-01))', '# ::snt House Speaker Paul Ryan was facing problems from fellow Republicans dissatisfied with his leadership.\\n# ::tok House Speaker Paul Ryan was facing problems from fellow Republicans dissatisfied with his leadership .\\n(f / face-01\\n   :ARG0 (p / person\\n            :wiki \"Paul_Ryan\"\\n            :name (n2 / name\\n                      :op1 \"Paul\"\\n                      :op2 \"Ryan\")\\n            :ARG0-of (h / have-org-role-91\\n                        :ARG1 (g / government-organization\\n                                 :wiki \"House_of_Lords\"\\n                                 :name (n / name\\n                                          :op1 \"House\"))\\n                        :ARG2 (s / speaker)))\\n   :ARG1 (p4 / problem\\n             :source (p2 / person\\n                         :ARG0-of (h2 / have-org-role-91\\n                                      :ARG1 (p3 / political-party\\n                                                :wiki \"Republican_Party_(United_States)\"\\n                                                :name (n3 / name\\n                                                          :op1 \"Republican\")))\\n                         :ARG1-of (d / dissatisfy-01\\n                                     :ARG0 (l / lead-02\\n                                              :ARG0 p))\\n                         :mod (f2 / fellow))))', '# ::snt House Speaker Paul Ryan was facing problems from fellow Republicans unhappy with his leadership.\\n# ::tok House Speaker Paul Ryan was facing problems from fellow Republicans unhappy with his leadership .\\n(f / face-01\\n   :ARG0 (p / person\\n            :wiki \"Paul_Ryan\"\\n            :name (n2 / name\\n                      :op1 \"Paul\"\\n                      :op2 \"Ryan\")\\n            :ARG0-of (h2 / have-org-role-91\\n                         :ARG1 (g / government-organization\\n                                  :wiki \"House_of_Lords\"\\n                                  :name (n / name\\n                                           :op1 \"House\"))\\n                         :ARG2 (s / speaker)))\\n   :ARG1 (p4 / problem\\n             :source (p2 / person\\n                         :ARG0-of (h3 / have-org-role-91\\n                                      :ARG1 (p3 / political-party\\n                                                :wiki \"Republican_Party_(United_States)\"\\n                                                :name (n3 / name\\n                                                          :op1 \"Republican\")))\\n                         :ARG1-of (h / happy-01\\n                                     :polarity -\\n                                     :ARG0 (l / lead-02\\n                                              :ARG0 p))\\n                         :mod (f2 / fellow))))', '# ::snt House Speaker Paul Ryan was facing problems uniquely from fellow Republicans dissatisfied with his leadership.\\n# ::tok House Speaker Paul Ryan was facing problems uniquely from fellow Republicans dissatisfied with his leadership .\\n(f / face-01\\n   :ARG0 (p / person\\n            :wiki \"Paul_Ryan\"\\n            :name (n2 / name\\n                      :op1 \"Paul\"\\n                      :op2 \"Ryan\")\\n            :ARG0-of (h / have-org-role-91\\n                        :ARG1 (g / government-organization\\n                                 :wiki \"House_of_Lords\"\\n                                 :name (n / name\\n                                          :op1 \"House\"))\\n                        :ARG2 (s / speaker)))\\n   :ARG1 (p4 / problem\\n             :ARG1-of (u / unique-01)\\n             :source (p2 / person\\n                         :ARG0-of (h2 / have-org-role-91\\n                                      :ARG1 (p3 / political-party\\n                                                :wiki \"Republican_Party_(United_States)\"\\n                                                :name (n3 / name\\n                                                          :op1 \"Republican\")))\\n                         :ARG1-of (d / dissatisfy-01\\n                                     :ARG0 (l / lead-02\\n                                              :ARG0 p))\\n                         :mod (f2 / fellow))))', '# ::snt House Speaker Paul Ryan was facing problems uniquely from fellow Republicans supportive of his leadership.\\n# ::tok House Speaker Paul Ryan was facing problems uniquely from fellow Republicans supportive of his leadership .\\n(f / face-01\\n   :ARG0 (p / person\\n            :wiki \"Paul_Ryan\"\\n            :name (n2 / name\\n                      :op1 \"Paul\"\\n                      :op2 \"Ryan\")\\n            :ARG0-of (h / have-org-role-91\\n                        :ARG1 (g / government-organization\\n                                 :wiki \"House_of_Lords\"\\n                                 :name (n / name\\n                                          :op1 \"House\"))\\n                        :ARG2 (s / speaker)))\\n   :ARG1 (p4 / problem\\n             :source (p2 / person\\n                         :ARG0-of (h2 / have-org-role-91\\n                                      :ARG1 (p3 / political-party\\n                                                :wiki \"Republican_Party_(United_States)\"\\n                                                :name (n3 / name\\n                                                          :op1 \"Republican\")))\\n                         :ARG0-of (s2 / support-01\\n                                      :ARG1 (l / lead-02\\n                                               :ARG0 p))\\n                         :mod (f2 / fellow)))\\n   :ARG1-of (u / unique-01))', '# ::snt I can actually see him climbing into a Lincoln saying this.\\n# ::tok I can actually see him climbing into a Lincoln saying this .\\n(p2 / possible-01\\n    :ARG1 (s2 / see-01\\n              :ARG0 (i / i)\\n              :ARG1 (c / climb-01\\n                       :ARG0 (h / he)\\n                       :ARG1 (p / person\\n                                :wiki -\\n                                :name (n / name\\n                                         :op1 \"Lincoln\")\\n                                :ARG0-of (s / say-01\\n                                            :ARG1 (t / this))))\\n              :ARG1-of (a / actual-02)))', '# ::snt I can actually see him getting into a Lincoln saying this.\\n# ::tok I can actually see him getting into a Lincoln saying this .\\n(p2 / possible-01\\n    :ARG1 (s2 / see-01\\n              :ARG0 (i / i)\\n              :ARG1 (g / get-05\\n                       :ARG1 (h / he)\\n                       :ARG2 (p / person\\n                                :wiki -\\n                                :name (n / name\\n                                         :op1 \"Lincoln\")\\n                                :ARG0-of (s / say-01\\n                                            :ARG1 (t / this))))\\n              :ARG1-of (a / actual-02)))', '# ::snt I can actually see him climbing into a Mazda saying this.\\n# ::tok I can actually see him climbing into a Mazda saying this .\\n(p / possible-01\\n   :ARG1 (s2 / see-01\\n             :ARG0 (i / i)\\n             :ARG1 (c2 / climb-01\\n                       :ARG0 (h / he)\\n                       :ARG1 (c / car-make\\n                                :wiki \"Mazda\"\\n                                :name (n / name\\n                                         :op1 \"Mazda\"))\\n                       :manner (s / say-01\\n                                  :ARG0 h\\n                                  :ARG1 (t / this)))\\n             :ARG1-of (a / actual-02)))', '# ::snt The villain is the character who tends to have a negative effect on other characters.\\n# ::tok The villain is the character who tends to have a negative effect on other characters .\\n(c / character\\n    :ARG1-of (t / tend-02\\n        :ARG2 (a / affect-01\\n            :ARG0 c\\n            :ARG1 (c2 / character\\n                :mod (o / other))\\n            :ARG2 (n / negative-02)))\\n    :domain (v / villain))', '# ::snt The villain is the character who tends to have a negative impact on other characters.\\n# ::tok The villain is the character who tends to have a negative impact on other characters .\\n(c / character\\n    :ARG1-of (t / tend-02\\n        :ARG2 (i / impact-01\\n            :ARG0 c\\n            :ARG0-of (n / negative-02)\\n            :ARG1 (c2 / character\\n                :mod (o / other))))\\n    :domain (v / villain))', '# ::snt The villain is the character who tends to have a negative correlation with other characters.\\n# ::tok The villain is the character who tends to have a negative correlation with other characters .\\n(c / character\\n    :ARG1-of (t / tend-02\\n        :ARG2 (c3 / correlate-01\\n            :ARG0-of (n / negative-02)\\n            :ARG1 c\\n            :ARG2 (c2 / character\\n                :mod (o / other))))\\n    :domain (v / villain))', '# ::snt Semantic parsing typically requires using a set of operations to query the knowledge base and process the results.\\n# ::tok Semantic parsing typically requires using a set of operations to query the knowledge base and process the results .\\n(r / require-01\\n    :ARG0 (p / parse-01\\n        :ARG1 (s / semantics))\\n    :ARG1 (u / use-01\\n        :ARG1 (s2 / set\\n            :consist-of (o / operate-01))\\n        :ARG2 (a / and\\n            :op1 (q / query-01\\n                :ARG1 (b / base\\n                    :mod (k / know-01)))\\n            :op2 (p2 / process-01\\n                :ARG1 (t / thing\\n                    :ARG2-of (r2 / result-01)))))\\n    :ARG1-of (t2 / typical-02))', '# ::snt Semantic parsing typically needs a set of operations to query the knowledge base and process the results.\\n# ::tok Semantic parsing typically needs a set of operations to query the knowledge base and process the results .\\n(n / need-01\\n    :purpose (a / and\\n        :op1 (q / query-01\\n            :ARG1 (b / base\\n                :mod (k / know-01)))\\n        :op2 (p2 / process-01\\n            :ARG1 (t / thing\\n                :ARG2-of (r / result-01))))\\n    :ARG0 (p / parse-01\\n        :ARG1 (s / semantics))\\n    :ARG1 (s2 / set\\n        :consist-of (o / operate-01))\\n    :ARG1-of (t2 / typical-02))', '# ::snt Semantic parsing typically creates a set of operations to query the knowledge base and process the results.\\n# ::tok Semantic parsing typically creates a set of operations to query the knowledge base and process the results .\\n(c / create-01\\n    :ARG0 (p / parse-01\\n        :ARG1 (s / semantics))\\n    :ARG1 (s2 / set\\n        :consist-of (o / operate-01\\n            :purpose (a / and\\n                :op1 (q / query-01\\n                    :ARG1 (b / base\\n                        :mod (k / know-01)))\\n                :op2 (p2 / process-01\\n                    :ARG1 (t / thing\\n                        :ARG2-of (r / result-01))))))\\n    :ARG1-of (t2 / typical-02))', '# ::snt Semantic parsing infrequently creates a set of operations to query the knowledge base and process the results.\\n# ::tok Semantic parsing infrequently creates a set of operations to query the knowledge base and process the results .\\n(c / create-01\\n    :ARG0 (p / parse-01\\n        :ARG1 (s / semantics)\\n        :ARG1-of (f / frequent-02\\n            :polarity -))\\n    :ARG1 (s2 / set\\n        :consist-of (o / operate-01\\n            :purpose (a / and\\n                :op1 (q / query-01\\n                    :ARG1 (b / base\\n                        :mod (k / know-01)))\\n                :op2 (p2 / process-01\\n                    :ARG1 (t / thing\\n                        :ARG2-of (r / result-01)))))))', '# ::snt John broke the window.\\n# ::tok John broke the window .\\n(b / break-01\\n   :ARG0 (p / person\\n            :wiki -\\n            :name (n / name\\n                     :op1 \"John\"))\\n   :ARG1 (w / window))', '# ::snt The window was broken by John.\\n# ::tok The window was broken by John .\\n(b / break-01\\n   :ARG0 (p / person\\n            :wiki -\\n            :name (n / name\\n                     :op1 \"John\"))\\n   :ARG1 (w / window))', '# ::snt The window broke John.\\n# ::tok The window broke John .\\n(b / break-01\\n   :ARG0 (w / window)\\n   :ARG1 (p / person\\n            :wiki -\\n            :name (n / name\\n                     :op1 \"John\")))', '# ::snt Mueller’s team asked former senior Justice Department officials for information.\\n# ::tok Mueller’s team asked former senior Justice Department officials for information .\\n(a / ask-02\\n   :ARG0 (t / team)\\n   :ARG1 (i / information)\\n   :ARG2 (p / person\\n            :ARG0-of (h / have-org-role-91\\n                        :ARG1 (g / government-organization\\n                                 :wiki \"United_States_Department_of_Justice\"\\n                                 :name (n / name\\n                                          :op1 \"Justice\"\\n                                          :op2 \"Department\"))\\n                        :ARG2 (o / official\\n                                 :mod (s / senior))\\n                        :time (f / former))))', '# ::snt Former senior Justice Department officials were asked for information by Mueller\\'s team.\\n# ::tok Former senior Justice Department officials were asked for information by Mueller \\'s team .\\n(a / ask-02\\n   :ARG0 (t / team\\n            :poss (p2 / person\\n                      :wiki \"Kayla_Mueller\"\\n                      :name (n2 / name\\n                                :op1 \"Mueller\")))\\n   :ARG1 (i / information)\\n   :ARG2 (p / person\\n            :ARG0-of (h / have-org-role-91\\n                        :ARG1 (g / government-organization\\n                                 :wiki \"United_States_Department_of_Justice\"\\n                                 :name (n / name\\n                                          :op1 \"Justice\"\\n                                          :op2 \"Department\"))\\n                        :ARG2 (o / official\\n                                 :mod (s / senior))\\n                        :time (f / former))))', '# ::snt Mueller’s team was asked for information by former senior Justice Department officials.\\n# ::tok Mueller’s team was asked for information by former senior Justice Department officials .\\n(a / ask-02\\n   :ARG0 (p / person\\n            :ARG0-of (h / have-org-role-91\\n                        :ARG1 (g / government-organization\\n                                 :wiki \"United_States_Department_of_Justice\"\\n                                 :name (n / name\\n                                          :op1 \"Justice\"\\n                                          :op2 \"Department\"))\\n                        :ARG2 (o / official\\n                                 :mod (s / senior))\\n                        :time (f / former)))\\n   :ARG1 (i / information)\\n   :ARG2 (t / team))', '# ::snt Mueller’s team was asked for information.\\n# ::tok Mueller’s team was asked for information .\\n(a / ask-02\\n    :ARG1 (i / information)\\n    :ARG2 (t / team))', '# ::snt Former senior Justice Department officials weren\\'t asked for information.\\n# ::tok Former senior Justice Department officials were n\\'t asked for information .\\n(a / ask-02\\n   :polarity -\\n   :ARG1 (i / information)\\n   :ARG2 (p / person\\n            :ARG0-of (h / have-org-role-91\\n                        :ARG1 (g / government-organization\\n                                 :wiki \"United_States_Department_of_Justice\"\\n                                 :name (n / name\\n                                          :op1 \"Justice\"\\n                                          :op2 \"Department\"))\\n                        :ARG2 (o / official\\n                                 :mod (s / senior))\\n                        :time (f / former))))', '# ::snt Everyone should be afraid of the part when he asked Congress to allow his cabinet secretaries to terminate whoever they want.\\n# ::tok Everyone should be afraid of the part when he asked Congress to allow his cabinet secretaries to terminate whoever they want .\\n(r / recommend-01\\n   :ARG1 (f / fear-01\\n            :ARG0 (e / everyone)\\n            :ARG1 (p / part\\n                     :time (a2 / ask-02\\n                               :ARG0 (h2 / he)\\n                               :ARG1 (a / allow-01\\n                                        :ARG0 (g / government-organization\\n                                                 :wiki \"United_States_Congress\"\\n                                                 :name (n / name\\n                                                          :op1 \"Congress\"))\\n                                        :ARG1 (t / terminate-01\\n                                                 :ARG0 (p2 / person\\n                                                           :ARG0-of (h / have-org-role-91\\n                                                                       :ARG1 (c / cabinet\\n                                                                                :poss h2)\\n                                                                       :ARG2 (s / secretary)))\\n                                                 :ARG1 (p3 / person\\n                                                           :ARG1-of (w / want-01\\n                                                                       :ARG0 p2))))\\n                               :ARG2 g))))', '# ::snt Everyone should be afraid of the part when Congress was asked to allow his cabinet secretaries to terminate whoever they want.\\n# ::tok Everyone should be afraid of the part when Congress was asked to allow his cabinet secretaries to terminate whoever they want .\\n(r / recommend-01\\n   :ARG1 (f / fear-01\\n            :ARG0 (e / everyone)\\n            :ARG1 (p / part\\n                     :time (a2 / ask-02\\n                               :ARG1 (a / allow-01\\n                                        :ARG0 (g / government-organization\\n                                                 :wiki \"United_States_Congress\"\\n                                                 :name (n / name\\n                                                          :op1 \"Congress\"))\\n                                        :ARG1 (t / terminate-01\\n                                                 :ARG0 (p2 / person\\n                                                           :ARG0-of (h / have-org-role-91\\n                                                                       :ARG1 (c / cabinet\\n                                                                                :poss (h2 / he))\\n                                                                       :ARG2 (s / secretary)))\\n                                                 :ARG1 (p3 / person\\n                                                           :ARG1-of (w / want-01\\n                                                                       :ARG0 p2))))\\n                               :ARG2 g))))', '# ::snt Everyone should be afraid of the part when he was asked to allow his cabinet secretaries to terminate whoever they want.\\n# ::tok Everyone should be afraid of the part when he was asked to allow his cabinet secretaries to terminate whoever they want .\\n(r / recommend-01\\n    :ARG1 (f / fear-01\\n        :ARG0 (e / everyone)\\n        :ARG1 (p / part\\n            :time (a2 / ask-02\\n                :ARG1 (a / allow-01\\n                    :ARG0 (h2 / he)\\n                    :ARG1 (t / terminate-01\\n                        :ARG0 (p2 / person\\n                            :ARG0-of (h / have-org-role-91\\n                                :ARG1 (c / cabinet\\n                                    :poss h2)\\n                                :ARG2 (s / secretary)))\\n                        :ARG1 (w2 / whoever\\n                            :ARG1-of (w / want-01\\n                                :ARG0 p2))))\\n                :ARG2 h2))))', '# ::snt Cape sparrows eat seeds, along with soft plant parts and insects.\\n# ::tok Cape sparrows eat seeds , along with soft plant parts and insects .\\n(e / eat-01\\n    :ARG0 (s3 / sparrow\\n        :mod (a / Cape))\\n    :ARG1 (a2 / and\\n        :op1 (s / seed)\\n        :op2 (p / part\\n            :ARG1-of (s2 / soft-02)\\n            :part-of (p2 / plant))\\n        :op3 (i / insect)))', '# ::snt Seeds, along with soft plant parts and insects, are eaten by cape sparrows.\\n# ::tok Seeds , along with soft plant parts and insects , are eaten by cape sparrows .\\n(e / eat-01\\n    :ARG0 (s3 / sparrow\\n        :mod (c / cape))\\n    :ARG1 (a / and\\n        :op1 (s / seed)\\n        :op2 (p / part\\n            :ARG1-of (s2 / soft-02)\\n            :part-of (p2 / plant))\\n        :op3 (i / insect)))', '# ::snt Cape sparrows are eaten by seeds, along with soft plant parts and insects.\\n# ::tok Cape sparrows are eaten by seeds , along with soft plant parts and insects .\\n(e / eat-01\\n    :ARG0 (s / seed)\\n    :ARG1 (a / and\\n        :op1 (s3 / sparrow\\n            :mod (c / cape))\\n        :op2 (p / part\\n            :ARG1-of (s2 / soft-02)\\n            :part-of (p2 / plant))\\n        :op3 (i / insect)))', '# ::snt Cape sparrows are eaten.\\n# ::tok Cape sparrows are eaten .\\n(e / eat-01\\n    :ARG1 (s / sparrow\\n        :mod (a / Cape)))', '# ::snt Soft plant parts and insects eat seeds.\\n# ::tok Soft plant parts and insects eat seeds .\\n(e / eat-01\\n    :ARG0 (a / and\\n        :op1 (p / part\\n            :ARG1-of (s2 / soft-02)\\n            :part-of (p2 / plant))\\n        :op2 (i / insect))\\n    :ARG1 (s / seed))', '# ::snt Soft plant parts and insects are eaten.\\n# ::tok Soft plant parts and insects are eaten .\\n(e / eat-01\\n    :ARG1 (a / and\\n        :op1 (p / part\\n            :ARG1-of (s / soft-02)\\n            :part-of (p2 / plant))\\n        :op2 (i / insect)))', '# ::snt Relation extraction systems populate knowledge bases with facts from unstructured text corpora.\\n# ::tok Relation extraction systems populate knowledge bases with facts from unstructured text corpora .\\n(p / populate-01\\n    :ARG0 (s2 / system\\n        :ARG0-of (e / extract-01\\n            :ARG1 (r / relate-01)))\\n    :ARG1 (b / base\\n        :mod (k / know-01))\\n    :ARG2 (f / fact\\n        :source (c / corpora\\n            :ARG1-of (s / structure-01\\n                :polarity -)\\n            :mod (t / text))))', '# ::snt Knowledge bases are populated with facts from unstructured text corpora by relation extraction systems.\\n# ::tok Knowledge bases are populated with facts from unstructured text corpora by relation extraction systems .\\n(p / populate-01\\n    :ARG1 (b / base\\n        :mod (k / know-01))\\n    :ARG2 (f / fact\\n        :source (c / corpora\\n            :ARG1-of (s / structure-01\\n                :polarity -)\\n            :mod (t / text)))\\n    :instrument (s2 / system\\n        :instrument-of (e / extract-01\\n            :ARG1 (r / relate-01))))', '# ::snt Knowledge bases are populated by relation extraction systems with facts from unstructured text corpora.\\n# ::tok Knowledge bases are populated by relation extraction systems with facts from unstructured text corpora .\\n(p / populate-01\\n    :ARG1 (b / base\\n        :mod (k / know-01))\\n    :ARG2 (s2 / system\\n        :ARG0-of (e / extract-01\\n            :ARG1 (r / relate-01)\\n            :ARG2 (f / fact\\n                :source (c / corpora\\n                    :ARG1-of (s / structure-01\\n                        :polarity -)\\n                    :mod (t / text))))))', '# ::snt Relation extraction systems are populated by knowledge bases with facts from unstructured text corpora.\\n# ::tok Relation extraction systems are populated by knowledge bases with facts from unstructured text corpora .\\n(p / populate-01\\n    :ARG1 (s2 / system\\n        :ARG0-of (e / extract-01\\n            :ARG1 (r / relation-03)))\\n    :ARG2 (b / base\\n        :consist-of (f / fact\\n            :source (c / corpora\\n                :ARG1-of (s / structure-01\\n                    :polarity -)\\n                :mod (t / text)))\\n        :mod (k / know-01)))', '# ::snt Relation extraction systems are populated with facts from unstructured text corpora by knowledge bases.\\n# ::tok Relation extraction systems are populated with facts from unstructured text corpora by knowledge bases .\\n(p / populate-01\\n    :ARG0 (b / base\\n        :mod (k / know-01))\\n    :ARG1 (s2 / system\\n        :ARG0-of (e / extract-01\\n            :ARG1 (r / relation-03)))\\n    :ARG2 (f / fact\\n        :source (c / corpora\\n            :ARG1-of (s / structure-01\\n                :polarity -)\\n            :mod (t / text))))', '# ::snt Relation extraction systems populate knowledge bases with assertions from unstructured text corpora.\\n# ::tok Relation extraction systems populate knowledge bases with assertions from unstructured text corpora .\\n(p / populate-01\\n    :ARG0 (s2 / system\\n        :ARG0-of (e / extract-01\\n            :ARG1 (r / relate-01)))\\n    :ARG1 (b / base\\n        :mod (k / know-01))\\n    :ARG2 (a / assert-02\\n        :ARG0 (c / corpora\\n            :ARG1-of (s / structure-01\\n                :polarity -)\\n            :mod (t / text))))', '# ::snt Wal-Mart\\'s recent move is tied to its continuing efforts to beat back competition against retailers like Amazon.\\n# ::tok W al-Mart \\'s recent move is tied to its continuing efforts to beat back competition against retailers like Amazon .\\n(t / tie-01\\n   :ARG1 (m / move-02\\n            :ARG0 (c / company\\n                     :wiki \"Walmart\"\\n                     :name (n / name\\n                              :op1 \"W\"\\n                              :op2 \"al-Mart\"))\\n            :time (r / recent))\\n   :ARG2 (e / effort-01\\n            :ARG0 c\\n            :ARG1 (b / beat-back-05\\n                     :ARG0 c\\n                     :ARG1 (c3 / compete-02\\n                               :ARG0 c\\n                               :ARG1 (r2 / retailer\\n                                         :example (c2 / company\\n                                                      :wiki \"Amazon_(company)\"\\n                                                      :name (n2 / name\\n                                                                :op1 \"Amazon\")))))\\n            :ARG1-of (c4 / continue-01)))', '# ::snt The recent move by Wal-Mart is tied to its continuing efforts to beat back competition against retailers like Amazon.\\n# ::tok The recent move by W al-Mart is tied to its continuing efforts to beat back competition against retailers like Amazon .\\n(t / tie-01\\n   :ARG1 (m / move-02\\n            :ARG0 (c / company\\n                     :wiki \"Walmart\"\\n                     :name (n / name\\n                              :op1 \"W\"\\n                              :op2 \"al-Mart\"))\\n            :time (r / recent))\\n   :ARG2 (e / effort-01\\n            :ARG0 c\\n            :ARG1 (b / beat-back-05\\n                     :ARG0 c\\n                     :ARG1 (c3 / compete-02\\n                               :ARG0 c\\n                               :ARG1 (p / person\\n                                        :ARG0-of (r2 / retail-01)\\n                                        :example (c2 / company\\n                                                     :wiki \"Amazon_(company)\"\\n                                                     :name (n2 / name\\n                                                               :op1 \"Amazon\")))))\\n            :ARG1-of (c4 / continue-01)))', '# ::snt The recent move against Wal-Mart is tied to its continuing efforts to beat back competition against retailers like Amazon.\\n# ::tok The recent move against W al-Mart is tied to its continuing efforts to beat back competition against retailers like Amazon .\\n(t / tie-01\\n   :ARG1 (m / move-02\\n            :prep-against (c / company\\n                             :wiki \"Walmart\"\\n                             :name (n / name\\n                                      :op1 \"W\"\\n                                      :op2 \"al-Mart\"))\\n            :time (r / recent))\\n   :ARG2 (e / effort-01\\n            :ARG0 c\\n            :ARG1 (b / beat-back-05\\n                     :ARG0 c\\n                     :ARG1 (c3 / compete-02\\n                               :ARG0 c\\n                               :ARG1 (p / person\\n                                        :ARG0-of (r2 / retail-01)\\n                                        :example (c2 / company\\n                                                     :wiki \"Amazon_(company)\"\\n                                                     :name (n2 / name\\n                                                               :op1 \"Amazon\")))))\\n            :ARG1-of (c4 / continue-01)))', \"# ::snt The man gets down on one knee and inspects the bottom of the elephant's foot only to find a large thorn deeply embedded.\\n# ::tok The man gets down on one knee and inspects the bottom of the elephant 's foot only to find a large thorn deeply embedded .\\n(a / and\\n    :concession-of (f / find-01\\n        :ARG0 (m / man)\\n        :ARG1 (t / thorn\\n            :ARG1-of (e2 / embed-01\\n                :ARG1-of (d / deep-02))\\n            :mod (l / large))\\n        :mod (o / only))\\n    :op1 (k / kneel-01\\n        :quant 1\\n        :ARG0 m)\\n    :op2 (i / inspect-01\\n        :ARG0 m\\n        :ARG1 (b / bottom\\n            :part-of (f2 / foot\\n                :part-of (e / elephant)))))\", '# ::snt The man gets down on one knee and inspects the bottom of the foot of the elephant only to find a large thorn deeply embedded.\\n# ::tok The man gets down on one knee and inspects the bottom of the foot of the elephant only to find a large thorn deeply embedded .\\n(a / and\\n    :concession-of (f / find-01\\n        :ARG0 (m / man)\\n        :ARG1 (t / thorn\\n            :ARG1-of (e2 / embed-01\\n                :ARG1-of (d / deep-02))\\n            :mod (l / large))\\n        :mod (o / only))\\n    :op1 (k / kneel-01\\n        :quant 1\\n        :ARG0 m)\\n    :op2 (i / inspect-01\\n        :ARG0 m\\n        :ARG1 (b / bottom\\n            :part-of (f2 / foot\\n                :part-of (e / elephant)))))', \"# ::snt The Cape sparrow's population has not decreased significantly, and is not seriously threatened by human activities.\\n# ::tok The Cape sparrow 's population has not decreased significantly , and is not seriously threatened by human activities .\\n(a2 / and\\n    :op1 (d / decrease-01\\n        :polarity -\\n        :ARG1 (p2 / population\\n            :poss (s3 / sparrow\\n                :mod (c / cape)))\\n        :ARG2 (s2 / significant-02))\\n    :op2 (t / threaten-01\\n        :polarity -\\n        :ARG0 (a / activity-06\\n            :ARG0 (p / person))\\n        :ARG1-of (s / serious-02)\\n        :ARG2 p2))\", '# ::snt The population of the Cape sparrow has not decreased significantly, and is not seriously threatened by human activities.\\n# ::tok The population of the Cape sparrow has not decreased significantly , and is not seriously threatened by human activities .\\n(a2 / and\\n    :op1 (d / decrease-01\\n            :polarity -\\n            :ARG1 (p2 / population\\n                      :mod (s3 / species\\n                               :wiki \"Cape_sparrow\"\\n                               :name (n / name\\n                                        :op1 \"Cape\"\\n                                        :op2 \"Sparrow\")))\\n            :ARG2 (s2 / significant-02))\\n    :op2 (t / threaten-01\\n            :polarity -\\n            :ARG0 (a / activity-06\\n                     :ARG0 (p / person))\\n            :ARG1-of (s / serious-02)\\n            :ARG2 p2))', '# ::snt The population of the Cape sparrow has decreased significantly, and is seriously threatened by human activities.\\n# ::tok The population of the Cape sparrow has decreased significantly , and is seriously threatened by human activities .\\n(a2 / and\\n    :op1 (d / decrease-01\\n            :ARG1 (p2 / population\\n                      :mod (s3 / species\\n                               :wiki \"Cape_sparrow\"\\n                               :name (n / name\\n                                        :op1 \"Cape\"\\n                                        :op2 \"Sparrow\")))\\n            :ARG2 (s2 / significant-02))\\n    :op2 (t / threaten-01\\n            :ARG0 (a / activity-06\\n                     :ARG0 (p / person))\\n            :ARG1-of (s / serious-02)\\n            :ARG2 p2))', '# ::snt This paper presents an approach for understanding the contents of these message vectors by translating them into natural language.\\n# ::tok This paper presents an approach for understanding the contents of these message vectors by translating them into natural language .\\n(p2 / present-01\\n    :ARG0 (p / paper\\n        :mod (t2 / this))\\n    :ARG1 (a / approach-02\\n        :ARG1 (u / understand-01\\n            :ARG1 (t / thing\\n                :ARG1-of (c / contain-01\\n                    :ARG0 (v / vector\\n                        :mod (m / message-01)\\n                        :mod (t3 / this))))\\n            :manner (t4 / translate-01\\n                :ARG1 v\\n                :ARG2 (l / language\\n                    :ARG1-of (n / natural-03))))))', \"# ::snt This paper presents an approach for understanding these message vectors' content by translating them into natural language.\\n# ::tok This paper presents an approach for understanding these message vectors ' content by translating them into natural language .\\n(p2 / present-01\\n    :ARG0 (p / paper\\n        :mod (t / this))\\n    :ARG1 (a / approach-02\\n        :ARG1 (u / understand-01\\n            :ARG1 (c / content\\n                :poss (v / vector\\n                    :mod (m / message-01)\\n                    :mod (t2 / this)))\\n            :manner (t3 / translate-01\\n                :ARG1 v\\n                :ARG2 (l / language\\n                    :ARG1-of (n / natural-03))))))\", '# ::snt This paper presents an approach for understanding the contents of these message vectors by translating them into foreign language.\\n# ::tok This paper presents an approach for understanding the contents of these message vectors by translating them into foreign language .\\n(p2 / present-01\\n    :ARG0 (p / paper\\n        :mod (t2 / this))\\n    :ARG1 (a / approach-02\\n        :ARG1 (u / understand-01\\n            :ARG1 (t / thing\\n                :ARG1-of (c / contain-01\\n                    :ARG0 (v / vector\\n                        :mod (m / message-01)\\n                        :mod (t3 / this))))\\n            :manner (t4 / translate-01\\n                :ARG1 v\\n                :ARG2 (l / language\\n                    :mod (f / foreign))))))', '# ::snt She is skilled at violin.\\n# ::tok She is skilled at violin .\\n(s2 / skill\\n    :domain (s / she)\\n    :topic (v / violin))', '# ::snt She is a skilled violinist.\\n# ::tok She is a skilled violinist .\\n(v / violinist\\n    :domain (s / she)\\n    :mod (s2 / skill))', '# ::snt She is skilled.\\n# ::tok She is skilled .\\n(s2 / skill\\n    :domain (s / she))', '# ::snt She is a surgeon and skilled violinist.\\n# ::tok She is a surgeon and skilled violinist .\\n(a / and\\n    :domain (s / she)\\n    :op1 (p / person\\n        :ARG0-of (s3 / surgery-01))\\n    :op2 (p2 / person\\n        :ARG0-of (v / violinize-01)\\n        :mod (s2 / skill)))', '# ::snt She is a skilled surgeon.\\n# ::tok She is a skilled surgeon .\\n(p / person\\n    :ARG0-of (s3 / surgery-01)\\n    :domain (s / she)\\n    :mod (s2 / skill))', '# ::snt The combination of mentos and diet coke caused the explosion.\\n# ::tok The combination of mentos and diet coke caused the explosion .\\n(c / cause-01\\n    :ARG0 (c3 / combine-01\\n        :ARG1 (m / mento)\\n        :ARG2 (c2 / coke\\n            :mod (d / diet)))\\n    :ARG1 (e / explode-01))', '# ::snt Combining mentos and diet coke caused the explosion.\\n# ::tok Combining mentos and diet coke caused the explosion .\\n(c / cause-01\\n    :ARG0 (c3 / combine-01\\n        :ARG1 (m / mento)\\n        :ARG2 (c2 / coke\\n            :mod (d / diet)))\\n    :ARG1 (e / explode-01))', '# ::snt In an Oval Office meeting after Mueller\\'s appointment, Trump told Sessions he should resign, prompting the attorney general to submit a letter of resignation, according to The New York Times.\\n# ::tok In an Oval Office meeting after Mueller \\'s appointment , Trump told Sessions he should resign , prompting the attorney general to submit a letter of resignation , according to The New York Times .\\n(s / say-01\\n   :ARG0 (n5 / newspaper\\n             :wiki \"The_New_York_Times\"\\n             :name (n4 / name\\n                       :op1 \"The\"\\n                       :op2 \"New\"\\n                       :op3 \"York\"\\n                       :op4 \"Times\"))\\n   :ARG1 (t / tell-01\\n            :ARG0 (p2 / person\\n                      :wiki \"Donald_Trump\"\\n                      :name (n2 / name\\n                                :op1 \"Trump\"))\\n            :ARG0-of (p4 / prompt-01\\n                         :ARG1 (s2 / submit-01\\n                                   :ARG0 (p3 / person\\n                                             :wiki \"Jeff_Sessions\"\\n                                             :name (n3 / name\\n                                                       :op1 \"Sessions\")\\n                                             :ARG0-of (h / have-org-role-91\\n                                                         :ARG2 (a3 / attorney\\n                                                                   :mod (g / general))))\\n                                   :ARG1 (l / letter\\n                                            :mod (r2 / resign-01\\n                                                     :ARG0 p3))))\\n            :ARG1 (r / recommend-01\\n                     :ARG1 r2)\\n            :ARG2 p3\\n            :time (m / meet-03\\n                     :ARG0 p2\\n                     :location (o / office\\n                                  :mod (o2 / oval))\\n                     :time (a / after\\n                              :op1 (a2 / appoint-01\\n                                       :ARG1 (p / person\\n                                                :wiki \"Kayla_Mueller\"\\n                                                :name (n / name\\n                                                         :op1 \"Mueller\")))))))', '# ::snt In an Oval Office meeting after Mueller\\'s appointment, Trump told Sessions he should resign, prompting the attorney general\\'s submission of a letter of resignation, according to The New York Times.\\n# ::tok In an Oval Office meeting after Mueller \\'s appointment , Trump told Sessions he should resign , prompting the attorney general \\'s submission of a letter of resignation , according to The New York Times .\\n(s / say-01\\n   :ARG0 (n5 / newspaper\\n             :wiki \"The_New_York_Times\"\\n             :name (n4 / name\\n                       :op1 \"The\"\\n                       :op2 \"New\"\\n                       :op3 \"York\"\\n                       :op4 \"Times\"))\\n   :ARG1 (t / tell-01\\n            :ARG0 (p2 / person\\n                      :wiki \"Donald_Trump\"\\n                      :name (n2 / name\\n                                :op1 \"Trump\"))\\n            :ARG0-of (p4 / prompt-01\\n                         :ARG1 (s2 / submit-01\\n                                   :ARG0 (p3 / person\\n                                             :wiki \"Jeff_Sessions\"\\n                                             :name (n3 / name\\n                                                       :op1 \"Sessions\")\\n                                             :ARG0-of (h / have-org-role-91\\n                                                         :ARG2 (a3 / attorney\\n                                                                   :mod (g / general))))\\n                                   :ARG1 (l / letter\\n                                            :mod (r2 / resign-01\\n                                                     :ARG0 p3))))\\n            :ARG1 (r / recommend-01\\n                     :ARG1 r2)\\n            :ARG2 p3\\n            :time (m / meet-03\\n                     :ARG0 p2\\n                     :location (o / office\\n                                  :mod (o2 / oval))\\n                     :time (a / after\\n                              :op1 (a2 / appoint-01\\n                                       :ARG1 (p / person\\n                                                :wiki \"Kayla_Mueller\"\\n                                                :name (n / name\\n                                                         :op1 \"Mueller\")))))))', '# ::snt In an Oval Office meeting after Mueller\\'s appointment, Trump told Sessions he should resign, prompting the attorney general\\'s withholding of a letter of resignation, according to The New York Times.\\n# ::tok In an Oval Office meeting after Mueller \\'s appointment , Trump told Sessions he should resign , prompting the attorney general \\'s withholding of a letter of resignation , according to The New York Times .\\n(s / say-01\\n   :ARG0 (n5 / newspaper\\n             :wiki \"The_New_York_Times\"\\n             :name (n4 / name\\n                       :op1 \"The\"\\n                       :op2 \"New\"\\n                       :op3 \"York\"\\n                       :op4 \"Times\"))\\n   :ARG1 (t / tell-01\\n            :ARG0 (p2 / person\\n                      :wiki \"Donald_Trump\"\\n                      :name (n2 / name\\n                                :op1 \"Trump\"))\\n            :ARG0-of (p4 / prompt-01\\n                         :ARG1 (w / withhold-01\\n                                  :ARG0 (p3 / person\\n                                            :wiki \"Jeff_Sessions\"\\n                                            :name (n3 / name\\n                                                      :op1 \"Sessions\")\\n                                            :ARG0-of (h / have-org-role-91\\n                                                        :ARG2 (a3 / attorney\\n                                                                  :mod (g / general))))\\n                                  :ARG1 (l / letter\\n                                           :mod (r2 / resign-01\\n                                                    :ARG0 p3))))\\n            :ARG1 (r / recommend-01\\n                     :ARG1 r2)\\n            :ARG2 p3\\n            :time (m / meet-03\\n                     :ARG0 p2\\n                     :location (o / office\\n                                  :mod (o2 / oval))\\n                     :time (a / after\\n                              :op1 (a2 / appoint-01\\n                                       :ARG1 (p / person\\n                                                :wiki \"Kayla_Mueller\"\\n                                                :name (n / name\\n                                                         :op1 \"Mueller\")))))))', '# ::snt Thought this was super cool, and a really important step in preserving all the physical books.\\n# ::tok Thought this was super cool , and a really important step in preserving all the physical books .\\n(t / think-01\\n    :ARG0 (i / i)\\n    :ARG1 (a2 / and\\n        :op1 (c / cool-04\\n            :ARG1 (t2 / this)\\n            :degree (s2 / super))\\n        :op2 (s / step-01\\n            :ARG1-of (i2 / important-01\\n                :degree (r / really))\\n            :ARG2 (p2 / preserve-01\\n                :ARG1 (b / book\\n                    :mod (p / physical)\\n                    :mod (a / all)))\\n            :ARG4 t2)))', '# ::snt Thought this was super cool, and a really important step in the preservation of all the physical books.\\n# ::tok Thought this was super cool , and a really important step in the preservation of all the physical books .\\n(t / think-01\\n    :ARG0 (i / i)\\n    :ARG1 (a2 / and\\n        :op1 (c / cool-04\\n            :ARG1 (t2 / this)\\n            :degree (s2 / super))\\n        :op2 (s / step-01\\n            :ARG1-of (i2 / important-01\\n                :degree (r / really))\\n            :ARG2 (p2 / preserve-01\\n                :ARG1 (b / book\\n                    :mod (p / physical)\\n                    :mod (a / all)))\\n            :ARG4 t2)))', '# ::snt Thought this was super cool, and a really important step in the destruction of all the physical books.\\n# ::tok Thought this was super cool , and a really important step in the destruction of all the physical books .\\n(t / think-01\\n    :ARG0 (i / i)\\n    :ARG1 (a2 / and\\n        :op1 (c / cool-04\\n            :ARG1 (t2 / this)\\n            :degree (s2 / super))\\n        :op2 (s / step-01\\n            :ARG1-of (i2 / important-01\\n                :degree (r / really))\\n            :ARG2 (d / destroy-01\\n                :ARG1 (b / book\\n                    :mod (p / physical)\\n                    :mod (a / all))))))', '# ::snt Thought this was super cool, and a really important step in the processing of all the physical books.\\n# ::tok Thought this was super cool , and a really important step in the processing of all the physical books .\\n(t / think-01\\n    :ARG0 (i / i)\\n    :ARG1 (a2 / and\\n        :op1 (c / cool-04\\n            :ARG1 (t2 / this)\\n            :degree (s2 / super))\\n        :op2 (s / step-01\\n            :ARG1-of (i2 / important-01\\n                :degree (r / really))\\n            :ARG2 (p2 / process-01\\n                :ARG1 (b / book\\n                    :mod (p / physical)\\n                    :mod (a / all))))))', \"# ::snt Thought this was super cool, and a really important step in all the physical books' preservation.\\n# ::tok Thought this was super cool , and a really important step in all the physical books ' preservation .\\n(t / think-01\\n    :ARG0 (i / i)\\n    :ARG1 (a2 / and\\n        :op1 (c / cool-04\\n            :ARG1 (t2 / this)\\n            :degree (s2 / super))\\n        :op2 (s / step-01\\n            :ARG1-of (i2 / important-01\\n                :degree (r / really))\\n            :ARG2 (p2 / preserve-01\\n                :ARG1 (b / book\\n                    :mod (p / physical)\\n                    :mod (a / all)))\\n            :ARG4 t2)))\", '# ::snt During World War II, the five remaining Greek boats were sunk by Axis aircraft during the German invasion of Greece in April 1941.\\n# ::tok During World War II , the five remaining Greek boats were sunk by Axis aircraft during the German invasion of Greece in April 1941 .\\n(s / sink-01\\n   :ARG0 (a / aircraft\\n            :mod (a2 / axis))\\n   :ARG1 (b / boat\\n            :quant 5\\n            :ARG1-of (r / remain-01)\\n            :mod (c / country\\n                    :wiki \"Greece\"\\n                    :name (n2 / name\\n                              :op1 \"Greece\")))\\n   :time (w / war\\n            :wiki \"World_War_II\"\\n            :name (n / name\\n                     :op1 \"World\"\\n                     :op2 \"War\"\\n                     :op3 \"II\"))\\n   :time (i / invade-01\\n            :ARG0 (c2 / country\\n                      :wiki \"Germany\"\\n                      :name (n3 / name\\n                                :op1 \"Germany\"))\\n            :ARG1 c\\n            :time (d / date-entity\\n                     :month 4\\n                     :year 1941)))', '# ::snt During World War II, the five remaining Greek boats were sunk by Axis aircraft when the Germans invaded Greece in April 1941.\\n# ::tok During World War II , the five remaining Greek boats were sunk by Axis aircraft when the Germans invaded Greece in April 1941 .\\n(s / sink-01\\n   :ARG0 (a / aircraft\\n            :mod (a2 / axis))\\n   :ARG1 (b / boat\\n            :quant 5\\n            :ARG1-of (r / remain-01)\\n            :mod (c / country\\n                    :wiki \"Greece\"\\n                    :name (n2 / name\\n                              :op1 \"Greece\")))\\n   :time (w / war\\n            :wiki \"World_War_II\"\\n            :name (n / name\\n                     :op1 \"World\"\\n                     :op2 \"War\"\\n                     :op3 \"II\"))\\n   :time (i / invade-01\\n            :ARG0 (c2 / country\\n                      :wiki \"Germany\"\\n                      :name (n3 / name\\n                                :op1 \"Germany\"))\\n            :ARG1 c\\n            :time (d / date-entity\\n                     :month 4\\n                     :year 1941)))', '# ::snt During World War II, the five remaining Greek boats were sunk by Axis aircraft during the Greek invasion of Germany in April 1941.\\n# ::tok During World War II , the five remaining Greek boats were sunk by Axis aircraft during the Greek invasion of Germany in April 1941 .\\n(s / sink-01\\n   :ARG0 (a / aircraft\\n            :mod (a2 / axis))\\n   :ARG1 (b / boat\\n            :quant 5\\n            :ARG1-of (r / remain-01)\\n            :mod (c / country\\n                    :wiki \"Greece\"\\n                    :name (n2 / name\\n                              :op1 \"Greece\")))\\n   :time (w / war\\n            :wiki \"World_War_II\"\\n            :name (n / name\\n                     :op1 \"World\"\\n                     :op2 \"War\"\\n                     :op3 \"II\"))\\n   :time (i / invade-01\\n            :ARG0 c\\n            :ARG1 (c2 / country\\n                      :wiki \"Germany\"\\n                      :name (n3 / name\\n                                :op1 \"Germany\"))\\n            :time (d / date-entity\\n                     :month 4\\n                     :year 1941)))', '# ::snt Often, the first step in building statistical NLP models involves feature extraction.\\n# ::tok Often , the first step in building statistical NLP models involves feature extraction .\\n(i / involve-01\\n   :ARG1 (e / extract-01\\n            :ARG1 (f / feature))\\n   :ARG2 (s2 / step-01\\n             :ARG2 (b / build-01\\n                      :ARG1 (m / model-01\\n                               :ARG1 (t / thing\\n                                        :wiki \"John_Tyndall_(far-right_activist)\"\\n                                        :name (n / name\\n                                                 :op1 \"NLP\"))\\n                               :mod (s / statistic)))\\n             :ord (o2 / ordinal-entity\\n                      :value 1))\\n   :frequency (o / often))', '# ::snt Often, the first step in building statistical NLP models involves extracting features.\\n# ::tok Often , the first step in building statistical NLP models involves extracting features .\\n(i / involve-01\\n   :ARG1 (e / extract-01\\n            :ARG1 (f / feature))\\n   :ARG2 (s2 / step-01\\n             :ARG2 (b / build-01\\n                      :ARG1 (m / model-01\\n                               :ARG1 (t / thing\\n                                        :wiki \"John_Tyndall_(far-right_activist)\"\\n                                        :name (n / name\\n                                                 :op1 \"NLP\"))\\n                               :mod (s / statistic)))\\n             :ord (o2 / ordinal-entity\\n                      :value 1))\\n   :frequency (o / often))', '# ::snt Bob likes Alice.\\n# ::tok Bob likes Alice .\\n(l / like-01\\n   :ARG0 (p / person\\n            :wiki -\\n            :name (n / name\\n                     :op1 \"Bob\"))\\n   :ARG1 (p2 / person\\n             :wiki -\\n             :name (n2 / name\\n                       :op1 \"Alice\")))', '# ::snt Alice likes Bob.\\n# ::tok Alice likes Bob .\\n(l / like-01\\n   :ARG0 (p / person\\n            :wiki -\\n            :name (n / name\\n                     :op1 \"Alice\"))\\n   :ARG1 (p2 / person\\n             :wiki -\\n             :name (n2 / name\\n                       :op1 \"Bob\")))', '# ::snt Bob is Alice\\'s parent.\\n# ::tok Bob is Alice \\'s parent .\\n(h / have-rel-role-91\\n   :ARG0 (p2 / person\\n             :wiki -\\n             :name (n / name\\n                      :op1 \"Bob\"))\\n   :ARG1 (p3 / person\\n             :wiki -\\n             :name (n2 / name\\n                       :op1 \"Alice\"))\\n   :ARG2 (p / parent))', '# ::snt Alice is Bob\\'s parent.\\n# ::tok Alice is Bob \\'s parent .\\n(h / have-rel-role-91\\n   :ARG0 (p2 / person\\n             :wiki -\\n             :name (n / name\\n                      :op1 \"Alice\"))\\n   :ARG1 (p3 / person\\n             :wiki -\\n             :name (n2 / name\\n                       :op1 \"Bob\"))\\n   :ARG2 (p / parent))', '# ::snt President Trump will ask Republican lawmakers to use a controversial White House framework as the baseline for a coming Senate debate on immigration policy.\\n# ::tok President Trump will ask Republican lawmakers to use a controversial White House framework as the baseline for a coming Senate debate on immigration policy .\\n(a / ask-02\\n   :ARG0 (p / person\\n            :wiki \"Donald_Trump\"\\n            :name (n / name\\n                     :op1 \"Trump\")\\n            :ARG0-of (h / have-org-role-91\\n                        :ARG2 (p5 / president)))\\n   :ARG1 (u / use-01\\n            :ARG0 (p2 / person\\n                      :ARG0-of (h2 / have-org-role-91\\n                                   :ARG1 (p4 / political-party\\n                                             :wiki \"Republican_Party_(United_States)\"\\n                                             :name (n2 / name\\n                                                       :op1 \"Republican\")))\\n                      :ARG0-of (l / legislate-01))\\n            :ARG1 (f / framework\\n                     :mod (g / government-organization\\n                             :wiki \"White_House\"\\n                             :name (n3 / name\\n                                       :op1 \"White\"\\n                                       :op2 \"House\"))\\n                     :mod (c2 / controversy))\\n            :ARG2 (b / baseline\\n                     :purpose (d / debate-01\\n                                 :ARG0 (g2 / government-organization\\n                                           :wiki \"United_States_Senate\"\\n                                           :name (n4 / name\\n                                                     :op1 \"Senate\"))\\n                                 :ARG1 (p3 / policy-01\\n                                           :ARG2 (i / immigrate-01))\\n                                 :ARG1-of (c / come-01))))\\n   :ARG2 p2)', '# ::snt Republican lawmakers will ask President Trump to use a controversial White House framework as the baseline for a coming Senate debate on immigration policy.\\n# ::tok Republican lawmakers will ask President Trump to use a controversial White House framework as the baseline for a coming Senate debate on immigration policy .\\n(a / ask-02\\n   :ARG0 (p / person\\n            :ARG0-of (l / legislate-01)\\n            :mod (p4 / political-party\\n                     :wiki \"Republican_Party_(United_States)\"\\n                     :name (n / name\\n                              :op1 \"Republican\")))\\n   :ARG1 (u / use-01\\n            :ARG1 (f / framework\\n                     :mod (g / government-organization\\n                             :wiki \"White_House\"\\n                             :name (n3 / name\\n                                       :op1 \"White\"\\n                                       :op2 \"House\"))\\n                     :mod (c2 / controversy))\\n            :ARG2 (b / baseline\\n                     :purpose (d / debate-01\\n                                 :ARG0 (g2 / government-organization\\n                                           :wiki \"United_States_Senate\"\\n                                           :name (n4 / name\\n                                                     :op1 \"Senate\"))\\n                                 :ARG1 (p3 / policy-01\\n                                           :ARG2 (i / immigrate-01))\\n                                 :ARG1-of (c / come-01))))\\n   :ARG2 (p2 / person\\n             :wiki \"Donald_Trump\"\\n             :name (n2 / name\\n                       :op1 \"Trump\")\\n             :ARG0-of (h / have-org-role-91\\n                         :ARG2 (p5 / president))))', '# ::snt Mythbusters proved that bulls react to movement and not color.\\n# ::tok Mythbusters proved that bulls react to movement and not color .\\n(p / prove-01\\n    :ARG0 (m2 / mythbusters)\\n    :ARG1 (a / and\\n        :op1 (r / react-01\\n            :ARG0 (b / bull)\\n            :ARG1 (m / move-01))\\n        :op2 (r2 / react-01\\n            :polarity -\\n            :ARG0 b\\n            :ARG1 (c / color))))', '# ::snt Bulls proved that mythbusters react to movement and not color.\\n# ::tok Bulls proved that mythbusters react to movement and not color .\\n(p / prove-01\\n    :ARG0 (b / bull)\\n    :ARG1 (a / and\\n        :op1 (r / react-01\\n            :ARG0 (m2 / mythbusters)\\n            :ARG1 (m / move-01))\\n        :op2 (r2 / react-01\\n            :polarity -\\n            :ARG0 m2\\n            :ARG1 (c / color))))', '# ::snt The models generate translations with their constituency tree and their attention-derived alignments.\\n# ::tok The models generate translations with their constituency tree and their attention - derived alignments .\\n(g / generate-01\\n    :ARG0 (m / model)\\n    :ARG1 (t / translate-01)\\n    :instrument (a2 / and\\n        :op1 (t2 / tree\\n            :mod (c / constituency)\\n            :poss m)\\n        :op2 (a / align-01\\n            :ARG1 m\\n            :ARG1-of (d / derive-01\\n                :ARG2 (a3 / attend-02)))))', '# ::snt The translations generate models with their constituency tree and their attention-derived alignments.\\n# ::tok The translations generate models with their constituency tree and their attention - derived alignments .\\n(g / generate-01\\n    :ARG0 (t / translate-01)\\n    :ARG1 (m / model\\n        :prep-with (a2 / and\\n            :op1 (t2 / tree\\n                :mod (c / constituency)\\n                :poss m)\\n            :op2 (a / align-01\\n                :ARG1 m\\n                :ARG1-of (d / derive-01\\n                    :ARG2 (a3 / attend-02))))))', '# ::snt Bob married Alice.\\n# ::tok Bob married Alice .\\n(m / marry-01\\n   :ARG1 (p / person\\n            :wiki -\\n            :name (n / name\\n                     :op1 \"Bob\"))\\n   :ARG2 (p2 / person\\n             :wiki -\\n             :name (n2 / name\\n                       :op1 \"Alice\")))', '# ::snt Alice married Bob.\\n# ::tok Alice married Bob .\\n(m / marry-01\\n   :ARG1 (p / person\\n            :wiki -\\n            :name (n / name\\n                     :op1 \"Alice\"))\\n   :ARG2 (p2 / person\\n             :wiki -\\n             :name (n2 / name\\n                       :op1 \"Bob\")))', '# ::snt The head of Russia\\'s foreign spy service met with top U.S. intelligence officials, despite existing sanctions.\\n# ::tok The head of Russia \\'s foreign spy service met with top U.S. intelligence officials , despite existing sanctions .\\n(m / meet-03\\n   :ARG0 (p / person\\n            :ARG0-of (h2 / head-01\\n                         :ARG1 (g / government-organization\\n                                  :wiki \"Foreign_Intelligence_Service_(Russia)\"\\n                                  :name (n2 / name\\n                                            :op1 \"Foreign\"\\n                                            :op2 \"Spy\"\\n                                            :op3 \"Service\")\\n                                  :poss (c / country\\n                                           :wiki \"Russia\"\\n                                           :name (n / name\\n                                                    :op1 \"Russia\")))))\\n   :ARG1 (p2 / person\\n             :ARG0-of (h / have-org-role-91\\n                         :ARG1 (i / intelligence\\n                                  :mod (c2 / country\\n                                           :wiki \"United_States\"\\n                                           :name (n3 / name\\n                                                     :op1 \"U.S.\")))\\n                         :ARG2 (o / official\\n                                  :mod (t2 / top))))\\n   :concession (t / thing\\n                  :ARG2-of (s / sanction-02\\n                              :ARG1-of (e / exist-01))))', '# ::snt Top U.S. intelligence officials met with the head of Russia\\'s foreign spy service, despite existing sanctions.\\n# ::tok Top U.S. intelligence officials met with the head of Russia \\'s foreign spy service , despite existing sanctions .\\n(m / meet-03\\n   :ARG0 (p / person\\n            :ARG0-of (h / have-org-role-91\\n                        :ARG1 (i / intelligence\\n                                 :mod (c / country\\n                                         :wiki \"United_States\"\\n                                         :name (n / name\\n                                                  :op1 \"U.S.\")))\\n                        :ARG2 (o / official\\n                                 :mod (t2 / top))))\\n   :ARG1 (p2 / person\\n             :ARG0-of (h2 / head-01\\n                          :ARG1 (g / government-organization\\n                                   :wiki \"Foreign_Intelligence_Service_(Russia)\"\\n                                   :name (n3 / name\\n                                             :op1 \"Foreign\"\\n                                             :op2 \"Spy\"\\n                                             :op3 \"Service\")\\n                                   :poss (c2 / country\\n                                             :wiki \"Russia\"\\n                                             :name (n2 / name\\n                                                       :op1 \"Russia\")))))\\n   :concession (t / thing\\n                  :ARG2-of (s / sanction-02\\n                              :ARG1-of (e / exist-01))))', '# ::snt Bees do not follow the same rules as airplanes.\\n# ::tok Bees do not follow the same rules as airplanes .\\n(f / follow-02\\n    :polarity -\\n    :ARG0 (b / bee)\\n    :ARG1 (r2 / rule\\n        :ARG1-of (s / same-01\\n            :ARG2 (r / rule\\n                :poss (a / airplane)))))', '# ::snt Airplanes do not follow the same rules as bees.\\n# ::tok Airplanes do not follow the same rules as bees .\\n(f / follow-02\\n    :polarity -\\n    :ARG0 (a / airplane)\\n    :ARG1 (r2 / rule\\n        :ARG1-of (s / same-01\\n            :ARG2 (r / rule\\n                :poss (b / bee)))))', '# ::snt Bees fly using a different mechanism from airplanes.\\n# ::tok Bees fly using a different mechanism from airplanes .\\n(f / fly-01\\n    :ARG1 (b / bee)\\n    :manner (u / use-01\\n        :ARG0 b\\n        :ARG1 (m2 / mechanism\\n            :ARG1-of (d / differ-02\\n                :ARG2 (m / mechanism\\n                    :poss (a / airplane))))))', '# ::snt Bees fly using the same mechanism as airplanes.\\n# ::tok Bees fly using the same mechanism as airplanes .\\n(f / fly-01\\n    :ARG1 (b / bee)\\n    :manner (u / use-01\\n        :ARG0 b\\n        :ARG1 (m2 / mechanism\\n            :ARG1-of (s / same-01\\n                :ARG2 (m / mechanism\\n                    :poss (a / airplane))))))', '# ::snt Bees are more energy-efficient flyers than airplanes.\\n# ::tok Bees are more energy - efficient flyers than airplanes .\\n(h / have-degree-91\\n    :ARG1 (b / bee\\n        :ARG0-of (f / fly-01))\\n    :ARG2 (e / efficient-01\\n        :ARG1 b\\n        :ARG2 (e2 / energy))\\n    :ARG3 (m / more)\\n    :ARG4 (a / airplane))', '# ::snt Leslie Dixon is married to fellow screenwriter and producer Tom Ropelewski.\\n# ::tok Leslie Dixon is married to fellow screenwriter and producer Tom Ropelewski .\\n(m / marry-01\\n   :ARG1 (p / person\\n            :wiki -\\n            :name (n / name\\n                     :op1 \"Leslie\"\\n                     :op2 \"Dixon\"))\\n   :ARG2 (p2 / person\\n             :wiki -\\n             :name (n2 / name\\n                       :op1 \"Tom\"\\n                       :op2 \"Ropelewski\")\\n             :ARG0-of (p3 / produce-01\\n                          :ARG1 (s / screen-03))\\n             :ARG0-of (w / write-01\\n                         :ARG1 s)\\n             :mod (f / fellow)))', '# ::snt Tom Ropelewski is married to fellow screenwriter and producer Leslie Dixon.\\n# ::tok Tom Ropelewski is married to fellow screenwriter and producer Leslie Dixon .\\n(m / marry-01\\n   :ARG1 (p / person\\n            :wiki -\\n            :name (n / name\\n                     :op1 \"Tom\"\\n                     :op2 \"Ropelewski\"))\\n   :ARG2 (p2 / person\\n             :wiki -\\n             :name (n2 / name\\n                       :op1 \"Leslie\"\\n                       :op2 \"Dixon\")\\n             :ARG0-of (p3 / produce-01\\n                          :ARG1 (s / screen-03))\\n             :ARG0-of (w / write-01\\n                         :ARG1 s)\\n             :mod (f / fellow)))', '# ::snt This means that solving analogy questions with vector arithmetic is mathematically equivalent to seeking a word that is similar to x and y but is different from z.\\n# ::tok This means that solving analogy questions with vector arithmetic is mathematically equivalent to seeking a word that is similar to x and y but is different from z.\\n(m2 / mean-01\\n    :ARG1 (t / this)\\n    :ARG2 (e / equal-01\\n             :ARG1 (s2 / solve-01\\n                       :ARG1 (q / question\\n                                :mod (a / analogy))\\n                       :ARG2 (a3 / arithmetic\\n                                 :mod (v4 / vector)))\\n             :ARG2 (s / seek-01\\n                      :ARG1 (w / word\\n                               :ARG1-of (r / resemble-01\\n                                           :ARG1-of (c / contrast-01\\n                                                       :ARG2 (d / differ-02\\n                                                                :ARG1 w\\n                                                                :ARG2 (v3 / variable\\n                                                                          :wiki \"Standard_score\"\\n                                                                          :name (n3 / name\\n                                                                                    :op1 \"Z\"))))\\n                                           :ARG2 (a2 / and\\n                                                     :op1 (v / variable\\n                                                             :wiki \"Random_variable\"\\n                                                             :name (n / name\\n                                                                      :op1 \"x\"))\\n                                                     :op2 (v2 / variable\\n                                                              :wiki \"Dependent_and_independent_variables\"\\n                                                              :name (n2 / name\\n                                                                        :op1 \"y\"))))))\\n             :manner (m / mathematics)))', '# ::snt This means that seeking a word that is similar to x and y but is different from z is mathematically equivalent to solving analogy questions with vector arithmetic.\\n# ::tok This means that seeking a word that is similar to x and y but is different from z is mathematically equivalent to solving analogy questions with vector arithmetic .\\n(m2 / mean-01\\n    :ARG1 (t / this)\\n    :ARG2 (e / equal-01\\n             :ARG1 (s / seek-01\\n                      :ARG1 (w / word\\n                               :ARG1-of (r / resemble-01\\n                                           :ARG1-of (c / contrast-01\\n                                                       :ARG2 (d / differ-02\\n                                                                :ARG1 w\\n                                                                :ARG2 (v3 / variable\\n                                                                          :wiki \"Standard_score\"\\n                                                                          :name (n3 / name\\n                                                                                    :op1 \"z\"))))\\n                                           :ARG2 (a2 / and\\n                                                     :op1 (v / variable\\n                                                             :wiki \"Random_variable\"\\n                                                             :name (n / name\\n                                                                      :op1 \"x\"))\\n                                                     :op2 (v2 / variable\\n                                                              :wiki \"Dependent_and_independent_variables\"\\n                                                              :name (n2 / name\\n                                                                        :op1 \"y\"))))))\\n             :ARG2 (s2 / solve-01\\n                       :ARG1 (q / question\\n                                :mod (a / analogy))\\n                       :ARG2 (a3 / arithmetic\\n                                 :mod (v4 / vector)))\\n             :manner (m / mathematics)))', '# ::snt Bob and Alice got married.\\n# ::tok Bob and Alice got married .\\n(m / marry-01\\n   :ARG1 (p / person\\n            :wiki -\\n            :name (n / name\\n                     :op1 \"Bob\"))\\n   :ARG2 (p2 / person\\n             :wiki -\\n             :name (n2 / name\\n                       :op1 \"Alice\")))', '# ::snt Tulsi Gabbard disagrees with Bernie Sanders on what is the best way to deal with Bashar al-Assad.\\n# ::tok Tulsi Gabbard disagrees with Bernie Sanders on what is the best way to deal with Bashar al-Assad .\\n(d2 / disagree-01\\n    :ARG0 (p / person\\n             :wiki -\\n             :name (n / name\\n                      :op1 \"Tulsi\"\\n                      :op2 \"Gabbard\"))\\n    :ARG1 (p2 / person\\n              :wiki -\\n              :name (n2 / name\\n                        :op1 \"Bernie\"\\n                        :op2 \"Sanders\"))\\n    :ARG2 (w / way\\n             :ARG1-of (h / have-degree-91\\n                         :ARG2 (g / good-02\\n                                  :ARG1 w)\\n                         :ARG3 (m / most))\\n             :manner-of (d / deal-01\\n                           :ARG1 (p3 / person\\n                                     :wiki -\\n                                     :name (n3 / name\\n                                               :op1 \"Bashar\"\\n                                               :op2 \"al-Assad\")))))', '# ::snt Tulsi Gabbard and Bernie Sanders disagree on what is the best way to deal with Bashar al-Assad.\\n# ::tok Tulsi Gabbard and Bernie Sanders disagree on what is the best way to deal with Bashar al-Assad .\\n(d2 / disagree-01\\n    :ARG0 (p / person\\n             :wiki -\\n             :name (n / name\\n                      :op1 \"Tulsi\"\\n                      :op2 \"Gabbard\"))\\n    :ARG1 (p2 / person\\n              :wiki -\\n              :name (n2 / name\\n                        :op1 \"Bernie\"\\n                        :op2 \"Sanders\"))\\n    :ARG2 (w / way\\n             :ARG1-of (h / have-degree-91\\n                         :ARG2 (g / good-02\\n                                  :ARG1 w)\\n                         :ARG3 (m / most))\\n             :manner-of (d / deal-01\\n                           :ARG1 (p3 / person\\n                                     :wiki -\\n                                     :name (n3 / name\\n                                               :op1 \"Bashar\"\\n                                               :op2 \"al-Assad\")))))', '# ::snt It reminds me of the times I played Super Mario with my little brother.\\n# ::tok It reminds me of the times I played Super Mario with my little brother .\\n(r / remind-01\\n   :ARG0 (i2 / it)\\n   :ARG1 (t / time\\n            :time-of (p2 / play-01\\n                         :ARG0 (i / i)\\n                         :ARG1 (g / game\\n                                  :wiki \"Super_Mario\"\\n                                  :name (n / name\\n                                           :op1 \"Super\"\\n                                           :op2 \"Mario\"))\\n                         :accompanier (p / person\\n                                         :ARG0-of (h / have-rel-role-91\\n                                                     :ARG1 i\\n                                                     :ARG2 (b / brother))\\n                                         :mod (l / little))))\\n   :ARG2 i)', '# ::snt It reminds me of the times my little brother and I played Super Mario.\\n# ::tok It reminds me of the times my little brother and I played Super Mario .\\n(r / remind-01\\n   :ARG0 (i2 / it)\\n   :ARG1 (t / time\\n            :time-of (p2 / play-01\\n                         :ARG0 (a / and\\n                                  :op1 (p / person\\n                                          :ARG0-of (h / have-rel-role-91\\n                                                      :ARG1 (i / i)\\n                                                      :ARG2 (b / brother))\\n                                          :mod (l / little))\\n                                  :op2 i)\\n                         :ARG1 (g / game\\n                                  :wiki \"Super_Mario\"\\n                                  :name (n / name\\n                                           :op1 \"Super\"\\n                                           :op2 \"Mario\"))))\\n   :ARG2 i)', '# ::snt In this PC game, Shredder fights the turtles in his Manhattan hideout.\\n# ::tok In this PC game , Shredder fights the turtles in his Manhattan hideout .\\n(f / fight-01\\n   :ARG0 (p / person\\n            :wiki -\\n            :name (n / name\\n                     :op1 \"Shredder\"))\\n   :ARG1 (t2 / turtle)\\n   :location (h / hideout\\n                :location (c / city-district\\n                             :wiki \"Midtown_Manhattan\"\\n                             :name (n2 / name\\n                                       :op1 \"Manhattan\"))\\n                :poss p)\\n   :medium (g / game\\n              :mod (c2 / computer)\\n              :mod (t / this)))', '# ::snt In this PC game, Shredder and the turtles fight in his Manhattan hideout.\\n# ::tok In this PC game , Shredder and the turtles fight in his Manhattan hideout .\\n(f / fight-01\\n   :ARG0 (p / person\\n            :wiki -\\n            :name (n / name\\n                     :op1 \"Shredder\"))\\n   :ARG1 (t2 / turtle)\\n   :location (h / hideout\\n                :location (c / city-district\\n                             :wiki \"Midtown_Manhattan\"\\n                             :name (n2 / name\\n                                       :op1 \"Manhattan\"))\\n                :poss p)\\n   :medium (g / game\\n              :mod (c2 / computer)\\n              :mod (t / this)))', '# ::snt If their vectors\\' cosine similarity is high, we can conclude that \"cat\" is similar to \"dog\".\\n# ::tok If their vectors \\' cosine similarity is high , we can conclude that \" cat \" is similar to \" dog \" .\\n(p / possible-01\\n    :ARG1 (c2 / conclude-01\\n        :ARG0 (w / we)\\n        :ARG1 (r2 / resemble-01\\n            :ARG1 (c / cat)\\n            :ARG2 (d / dog)))\\n    :condition (h / high-02\\n        :ARG1 (r / resemble-01\\n            :ARG1 (v / vector\\n                :poss (t / they))\\n            :mod (c3 / cosine))))', '# ::snt If their vectors\\' cosine similarity is high, we can conclude that \"cat\" and \"dog\" are similar.\\n# ::tok If their vectors \\' cosine similarity is high , we can conclude that \" cat \" and \" dog \" are similar .\\n(p / possible-01\\n    :ARG1 (c2 / conclude-01\\n        :ARG0 (w / we)\\n        :ARG1 (r2 / resemble-01\\n            :ARG1 (c / cat)\\n            :ARG2 (d / dog)))\\n    :condition (h / high-02\\n        :ARG1 (r / resemble-01\\n            :ARG1 (v / vector\\n                :poss (t / they))\\n            :mod (c3 / cosine))))', '# ::snt Jane had a party on Sunday.\\n# ::tok Jane had a party on Sunday .\\n(p / party-01\\n   :ARG0 (p2 / person\\n             :wiki -\\n             :name (n / name\\n                      :op1 \"Jane\"))\\n   :time (d / date-entity\\n            :weekday (s / sunday)))', '# ::snt On Sunday, Jane had a party.\\n# ::tok On Sunday , Jane had a party .\\n(p / party-01\\n   :ARG0 (p2 / person\\n             :wiki -\\n             :name (n / name\\n                      :op1 \"Jane\"))\\n   :time (d / date-entity\\n            :weekday (s / sunday)))', '# ::snt For decades, the FBI has been trusted to investigate corruption inside the government.\\n# ::tok For decades , the FBI has been trusted to investigate corruption inside the government .\\n(t2 / trust-01\\n    :ARG1 (i2 / investigate-01\\n              :ARG0 (g2 / government-organization\\n                        :wiki \"Federal_Bureau_of_Investigation\"\\n                        :name (n / name\\n                                 :op1 \"FBI\"))\\n              :ARG1 (c / corrupt-01\\n                       :location (i / inside\\n                                    :op1 (g3 / government-organization\\n                                             :ARG0-of (g / govern-01)))))\\n    :ARG2 g2\\n    :duration (m / multiple\\n                 :op1 (t / temporal-quantity\\n                         :quant 1\\n                         :unit (d / decade))))', '# ::snt The FBI has been trusted to investigate corruption inside the government for decades.\\n# ::tok The FBI has been trusted to investigate corruption inside the government for decades .\\n(t2 / trust-01\\n    :ARG1 (i2 / investigate-01\\n              :ARG0 (g2 / government-organization\\n                        :wiki \"Federal_Bureau_of_Investigation\"\\n                        :name (n / name\\n                                 :op1 \"FBI\"))\\n              :ARG1 (c / corrupt-01\\n                       :location (i / inside\\n                                    :op1 (g3 / government-organization\\n                                             :ARG0-of (g / govern-01)))))\\n    :ARG2 g2\\n    :duration (m / multiple\\n                 :op1 (t / temporal-quantity\\n                         :quant 1\\n                         :unit (d / decade))))', \"# ::snt I was driving through my neighborhood a few weeks ago, and there was a lady holding a child's hand, standing on the side of the road talking to someone parked in a car.\\n# ::tok I was driving through my neighborhood a few weeks ago , and there was a lady holding a child 's hand , standing on the side of the road talking to someone parked in a car .\\n(a / and\\n    :op1 (d / drive-01\\n        :ARG0 (i / i)\\n        :ARG1 (n / neighborhood\\n            :poss i)\\n        :time (b / before\\n            :quant (f / few\\n                :op1 (t2 / temporal-quantity\\n                    :quant 1\\n                    :unit (w / week)))\\n            :op1 (n2 / now)))\\n    :op2 (s3 / stand-01\\n        :ARG1 (l / lady\\n            :ARG0-of (h2 / hold-01\\n                :ARG1 (h / hand\\n                    :part-of (c2 / child)))\\n            :ARG0-of (t / talk-01\\n                :ARG2 (s2 / someone\\n                    :ARG1-of (p / park-01\\n                        :ARG2 (c / car)))))\\n        :ARG2 (s / side\\n            :part-of (r / road))))\", \"# ::snt A few weeks ago, I was driving through my neighborhood, and there was a lady holding a child's hand, standing on the side of the road talking to someone parked in a car.\\n# ::tok A few weeks ago , I was driving through my neighborhood , and there was a lady holding a child 's hand , standing on the side of the road talking to someone parked in a car .\\n(a / and\\n    :op1 (d / drive-01\\n        :ARG0 (i / i)\\n        :ARG1 (n / neighborhood\\n            :poss i)\\n        :time (b / before\\n            :quant (f / few\\n                :op1 (t2 / temporal-quantity\\n                    :quant 1\\n                    :unit (w / week)))\\n            :op1 (n2 / now)))\\n    :op2 (s3 / stand-01\\n        :ARG1 (l / lady\\n            :ARG0-of (h2 / hold-01\\n                :ARG1 (h / hand\\n                    :part-of (c2 / child)))\\n            :ARG0-of (t / talk-01\\n                :ARG2 (s2 / someone\\n                    :ARG1-of (p / park-01\\n                        :ARG2 (c / car)))))\\n        :ARG2 (s / side\\n            :part-of (r / road))))\", '# ::snt Bass River timber was used in construction of the Empire State Building.\\n# ::tok Bass River timber was used in construction of the Empire State Building .\\n(u / use-01\\n   :ARG1 (t / timber\\n            :source (r / river\\n                       :wiki -\\n                       :name (n / name\\n                                :op1 \"Bass\"\\n                                :op2 \"River\")))\\n   :ARG2 (c / construct-01\\n            :ARG1 (b / building\\n                     :wiki \"Empire_State_Building\"\\n                     :name (n2 / name\\n                               :op1 \"Empire\"\\n                               :op2 \"State\"\\n                               :op3 \"Building\"))))', '# ::snt In construction of the Empire State Building, Bass River timber was used.\\n# ::tok In construction of the Empire State Building , Bass River timber was used .\\n(u / use-01\\n   :ARG1 (t / timber\\n            :source (r / river\\n                       :wiki -\\n                       :name (n2 / name\\n                                 :op1 \"Bass\"\\n                                 :op2 \"River\")))\\n   :ARG2 (c / construct-01\\n            :ARG1 (b / building\\n                     :wiki \"Empire_State_Building\"\\n                     :name (n / name\\n                              :op1 \"Empire\"\\n                              :op2 \"State\"\\n                              :op3 \"Building\"))))', '# ::snt In this paper, we present an approach to acquire trivial physical knowledge from unstructured natural language text.\\n# ::tok In this paper , we present an approach to acquire trivial physical knowledge from unstructured natural language text .\\n(p3 / present-01\\n    :ARG0 (w / we)\\n    :ARG1 (a2 / approach-02\\n        :ARG1 (a / acquire-01\\n            :ARG1 (k / know-01\\n                :ARG1 (p2 / physical)\\n                :mod (t3 / trivial))\\n            :ARG2 (t / text\\n                :ARG1-of (s / structure-01\\n                    :polarity -)\\n                :mod (l / language\\n                    :ARG1-of (n / natural-03)))))\\n    :medium (p / paper\\n        :mod (t2 / this)))', '# ::snt We present in this paper an approach to acquire trivial physical knowledge from unstructured natural language text.\\n# ::tok We present in this paper an approach to acquire trivial physical knowledge from unstructured natural language text .\\n(p3 / present-01\\n    :ARG0 (w / we)\\n    :ARG1 (a2 / approach-02\\n        :ARG1 (a / acquire-01\\n            :ARG1 (k / know-01\\n                :ARG1 (p2 / physical)\\n                :mod (t3 / trivial))\\n            :ARG2 (t / text\\n                :ARG1-of (s / structure-01\\n                    :polarity -)\\n                :mod (l / language\\n                    :ARG1-of (n / natural-03)))))\\n    :ARG2 (p / paper\\n        :mod (t2 / this)))', '# ::snt We present an approach to acquire trivial physical knowledge from the unstructured natural language text of this paper.\\n# ::tok We present an approach to acquire trivial physical knowledge from the unstructured natural language text of this paper .\\n(p3 / present-01\\n    :ARG0 (w / we)\\n    :ARG1 (a2 / approach-02\\n        :ARG1 (a / acquire-01\\n            :ARG1 (k / know-01\\n                :ARG1 (p2 / physical)\\n                :mod (t3 / trivial))\\n            :ARG2 (t / text\\n                :ARG1-of (s / structure-01\\n                    :polarity -)\\n                :mod (l / language\\n                    :ARG1-of (n / natural-03))\\n                :part-of (p / paper\\n                    :mod (t2 / this))))))', '# ::snt I ate pizza with friends.\\n# ::tok I ate pizza with friends .\\n(e / eat-01\\n    :ARG0 (i / i)\\n    :ARG1 (p2 / pizza)\\n    :accompanier (p / person\\n        :ARG0-of (h / have-rel-role-91\\n            :ARG1 i\\n            :ARG2 (f / friend))))', '# ::snt I ate pizza.\\n# ::tok I ate pizza .\\n(e / eat-01\\n    :ARG0 (i / i)\\n    :ARG1 (p / pizza))', '# ::snt I ate pizza with some friends.\\n# ::tok I ate pizza with some friends .\\n(e / eat-01\\n    :ARG0 (i / i)\\n    :ARG1 (p2 / pizza)\\n    :accompanier (p / person\\n        :quant (s / some)\\n        :ARG0-of (h / have-rel-role-91\\n            :ARG1 i\\n            :ARG2 (f / friend))))', '# ::snt I ate some friends.\\n# ::tok I ate some friends .\\n(e / eat-01\\n    :ARG0 (i / i)\\n    :ARG1 (p / person\\n        :quant (s / some)\\n        :ARG0-of (h / have-rel-role-91\\n            :ARG1 i\\n            :ARG2 (f / friend))))', '# ::snt I ate pizza with olives.\\n# ::tok I ate pizza with olives .\\n(e / eat-01\\n    :ARG0 (i / i)\\n    :ARG1 (p / pizza\\n        :accompanier (o / olive)))', '# ::snt I ate olives.\\n# ::tok I ate olives .\\n(e / eat-01\\n    :ARG0 (i / i)\\n    :ARG1 (o / olive))', '# ::snt Mueller received a mandate to investigate possible collusion with Russia.\\n# ::tok Mueller received a mandate to investigate possible collusion with Russia .\\n(r / receive-01\\n   :ARG0 (p / person\\n            :wiki \"Kayla_Mueller\"\\n            :name (n / name\\n                     :op1 \"Mueller\"))\\n   :ARG1 (m / mandate-01\\n            :ARG1 (i / investigate-01\\n                     :ARG0 p\\n                     :ARG1 (c / collude-01\\n                              :ARG1 (c2 / country\\n                                        :wiki \"Russia\"\\n                                        :name (n2 / name\\n                                                  :op1 \"Russia\"))\\n                              :ARG1-of (p2 / possible-01)))\\n            :ARG2 p))', '# ::snt Mueller received a mandate to investigate possible collusion.\\n# ::tok Mueller received a mandate to investigate possible collusion .\\n(r / receive-01\\n   :ARG0 (p / person\\n            :wiki -\\n            :name (n / name\\n                     :op1 \"Mueller\"))\\n   :ARG1 (m / mandate-01\\n            :ARG1 (i / investigate-01\\n                     :ARG0 p\\n                     :ARG1 (c / collude-01\\n                              :ARG1-of (p2 / possible-01)))\\n            :ARG2 p))', '# ::snt Mueller received a mandate to investigate with Russia.\\n# ::tok Mueller received a mandate to investigate with Russia .\\n(r / receive-01\\n   :ARG0 (p / person\\n            :wiki \"Kayla_Mueller\"\\n            :name (n / name\\n                     :op1 \"Mueller\"))\\n   :ARG1 (m / mandate-01\\n            :ARG1 (i / investigate-01\\n                     :ARG0 p\\n                     :accompanier (c / country\\n                                     :wiki \"Russia\"\\n                                     :name (n2 / name\\n                                               :op1 \"Russia\")))\\n            :ARG2 p))', '# ::snt Mueller received a mandate to investigate possible collusion with vast resources.\\n# ::tok Mueller received a mandate to investigate possible collusion with vast resources .\\n(r / receive-01\\n   :ARG0 (p / person\\n            :wiki -\\n            :name (n / name\\n                     :op1 \"Mueller\"))\\n   :ARG1 (m / mandate-01\\n            :ARG1 p\\n            :ARG2 (i / investigate-01\\n                     :ARG0 p\\n                     :ARG1 (c / collude-01\\n                              :ARG1 (r2 / resource\\n                                        :mod (v / vast))\\n                              :ARG1-of (p2 / possible-01)))))', '# ::snt Mueller received a mandate to investigate with vast resources.\\n# ::tok Mueller received a mandate to investigate with vast resources .\\n(r / receive-01\\n   :ARG0 (p / person\\n            :wiki -\\n            :name (n / name\\n                     :op1 \"Mueller\"))\\n   :ARG1 (m / mandate-01\\n            :ARG1 (i / investigate-01\\n                     :ARG0 p\\n                     :instrument (r2 / resource\\n                                     :mod (v / vast)))\\n            :ARG2 p))', '# ::snt They should be attached to the lifting mechanism in the faucet.\\n# ::tok They should be attached to the lifting mechanism in the faucet .\\n(r / recommend-01\\n    :ARG1 (a / attach-01\\n        :ARG1 (t / they)\\n        :ARG2 (m / mechanism\\n            :ARG0-of (l / lift-01)\\n            :location (f / faucet))))', '# ::snt They should be attached to the lifting mechanism.\\n# ::tok They should be attached to the lifting mechanism .\\n(r / recommend-01\\n    :ARG1 (a / attach-01\\n        :ARG1 (t / they)\\n        :ARG2 (m / mechanism\\n            :ARG0-of (l / lift-01))))', '# ::snt They should be attached in the faucet.\\n# ::tok They should be attached in the faucet .\\n(r / recommend-01\\n    :ARG1 (a / attach-01\\n        :ARG1 (t / they)\\n        :ARG2 (f / faucet)))', '# ::snt They should be attached to the lifting mechanism in an unbreakable knot.\\n# ::tok They should be attached to the lifting mechanism in an unbreakable knot .\\n(r / recommend-01\\n    :ARG1 (a / attach-01\\n        :ARG1 (t / they)\\n        :ARG2 (m / mechanism\\n            :ARG0-of (l / lift-01))\\n        :manner (k / knot\\n            :ARG1-of (b / break-01\\n                :ARG1-of (p / possible-01\\n                    :polarity -)))))', '# ::snt They should be attached in an unbreakable knot.\\n# ::tok They should be attached in an unbreakable knot .\\n(r / recommend-01\\n    :ARG1 (a / attach-01\\n        :ARG1 (t / they)\\n        :ARG2 (k / knot\\n            :ARG1-of (b / break-01\\n                :ARG1-of (p / possible-01\\n                    :polarity -)))))', '# ::snt Tanks were developed by Britain and France, and were first used in combat by the British during a battle with only partial success.\\n# ::tok Tanks were developed by Britain and France , and were first used in combat by the British during a battle with only partial success .\\n(a2 / and\\n    :op1 (d / develop-02\\n            :ARG0 (a / and\\n                     :op1 (c2 / country\\n                              :wiki \"United_Kingdom\"\\n                              :name (n / name\\n                                       :op1 \"Britain\"))\\n                     :op2 (c3 / country\\n                              :wiki \"France\"\\n                              :name (n2 / name\\n                                        :op1 \"France\")))\\n            :ARG1 (t / tank))\\n    :op2 (u / use-01\\n            :ARG0 t\\n            :ARG1 t\\n            :ARG2 (c / combat-01)\\n            :ord (o2 / ordinal-entity\\n                     :value 1)\\n            :time (b / battle-01\\n                     :manner (s / succeed-01\\n                                :degree (p / part\\n                                           :mod (o / only))))))', '# ::snt Tanks were developed by Britain and France, and were first used with only partial success.\\n# ::tok Tanks were developed by Britain and France , and were first used with only partial success .\\n(a2 / and\\n    :op1 (d / develop-02\\n            :ARG0 (a / and\\n                     :op1 (c / country\\n                             :wiki \"United_Kingdom\"\\n                             :name (n / name\\n                                      :op1 \"Britain\"))\\n                     :op2 (c2 / country\\n                              :wiki \"France\"\\n                              :name (n2 / name\\n                                        :op1 \"France\")))\\n            :ARG1 (t / tank))\\n    :op2 (u / use-01\\n            :ARG1 t\\n            :manner (s / succeed-01\\n                       :degree (p / part\\n                                  :mod (o / only)))\\n            :ord (o2 / ordinal-entity\\n                     :value 1)))', '# ::snt Tanks were developed by Britain and France, and were first used in combat by the British during a battle.\\n# ::tok Tanks were developed by Britain and France , and were first used in combat by the British during a battle .\\n(a2 / and\\n    :op1 (d / develop-02\\n            :ARG0 (a / and\\n                     :op1 (c2 / country\\n                              :wiki \"United_Kingdom\"\\n                              :name (n / name\\n                                       :op1 \"Britain\"))\\n                     :op2 (c3 / country\\n                              :wiki \"France\"\\n                              :name (n2 / name\\n                                        :op1 \"France\")))\\n            :ARG1 (t / tank))\\n    :op2 (u / use-01\\n            :ARG0 c2\\n            :ARG1 t\\n            :ARG2 (c / combat-01)\\n            :ord (o / ordinal-entity\\n                    :value 1)\\n            :time (b / battle-01)))', '# ::snt Tanks were developed by Britain and France, and were first used in combat by the British during a battle with German forces.\\n# ::tok Tanks were developed by Britain and France , and were first used in combat by the British during a battle with German forces .\\n(a2 / and\\n    :op1 (d / develop-02\\n            :ARG0 (a / and\\n                     :op1 (c2 / country\\n                              :wiki \"United_Kingdom\"\\n                              :name (n / name\\n                                       :op1 \"Britain\"))\\n                     :op2 (c3 / country\\n                              :wiki \"France\"\\n                              :name (n2 / name\\n                                        :op1 \"France\")))\\n            :ARG1 (t / tank))\\n    :op2 (u / use-01\\n            :ARG0 c2\\n            :ARG1 t\\n            :ARG2 (c / combat-01)\\n            :ord (o / ordinal-entity\\n                    :value 1)\\n            :time (b / battle-01\\n                     :ARG0 c2\\n                     :ARG1 (f / force\\n                              :mod (c4 / country\\n                                       :wiki \"Germany\"\\n                                       :name (n3 / name\\n                                                 :op1 \"Germany\"))))))', '# ::snt Tanks were developed by Britain and France, and were first used with German forces.\\n# ::tok Tanks were developed by Britain and France , and were first used with German forces .\\n(a2 / and\\n    :op1 (d / develop-02\\n            :ARG0 (a / and\\n                     :op1 (c / country\\n                             :wiki \"United_Kingdom\"\\n                             :name (n / name\\n                                      :op1 \"Britain\"))\\n                     :op2 (c2 / country\\n                              :wiki \"France\"\\n                              :name (n2 / name\\n                                        :op1 \"France\")))\\n            :ARG1 (t / tank))\\n    :op2 (u / use-01\\n            :ARG1 t\\n            :ARG2 (f / force\\n                     :mod (c3 / country\\n                              :wiki \"Germany\"\\n                              :name (n3 / name\\n                                        :op1 \"Germany\")))\\n            :ord (o / ordinal-entity\\n                    :value 1)))', '# ::snt We propose models of the probability distribution from which the attested vowel inventories have been drawn.\\n# ::tok We propose models of the probability distribution from which the attested vowel inventories have been drawn .\\n(p2 / propose-01\\n    :ARG0 (w / we)\\n    :ARG1 (m / model-01\\n        :ARG1 (d / distribute-01\\n            :ARG1 (p / probability)\\n            :ARG2-of (d2 / draw-02\\n                :ARG1 (i / inventory\\n                    :ARG1-of (a / attest-01)\\n                    :mod (v / vowel))))))', '# ::snt We propose models of the probability distribution.\\n# ::tok We propose models of the probability distribution .\\n(p2 / propose-01\\n    :ARG0 (w / we)\\n    :ARG1 (m / model-01\\n        :ARG1 (d / distribute-01\\n            :ARG1 (p / probability))))', '# ::snt We propose models from which the attested vowel inventories have been drawn.\\n# ::tok We propose models from which the attested vowel inventories have been drawn .\\n(p / propose-01\\n    :ARG0 (w / we)\\n    :ARG1 (m / model-01\\n        :ARG2-of (d / draw-02\\n            :ARG1 (i / inventory\\n                :ARG1-of (a / attest-01)\\n                :mod (v / vowel)))))', '# ::snt We propose models of the probability distribution from a restricted space of linear functions.\\n# ::tok We propose models of the probability distribution from a restricted space of linear functions .\\n(p2 / propose-01\\n    :ARG0 (w / we)\\n    :ARG1 (m / model-01\\n        :ARG1 (d / distribute-01\\n            :ARG1 (p / probability)\\n            :source (s / space\\n                :ARG1-of (r / restrict-01)\\n                :consist-of (f / function\\n                    :mod (l / linear))))))', '# ::snt We propose models from a restricted space of linear functions.\\n# ::tok We propose models from a restricted space of linear functions .\\n(p / propose-01\\n    :ARG0 (w / we)\\n    :ARG1 (m / model-01\\n        :source (s / space\\n            :ARG1-of (r / restrict-01)\\n            :mod (f / function\\n                :mod (l / linear)))))', '# ::snt George went to the lake to catch a fish, but he fell into the water.\\n# ::tok George went to the lake to catch a fish , but he fell into the water .\\n(c2 / contrast-01\\n    :ARG1 (g / go-02\\n             :purpose (c / catch-01\\n                         :ARG0 (p / person\\n                                  :wiki -\\n                                  :name (n / name\\n                                           :op1 \"George\"))\\n                         :ARG1 (f2 / fish))\\n             :ARG0 p\\n             :ARG4 (l / lake))\\n    :ARG2 (f / fall-01\\n             :ARG1 p\\n             :ARG4 l))', '# ::snt George fell into the water.\\n# ::tok George fell into the water .\\n(f / fall-01\\n   :ARG1 (p / person\\n            :wiki -\\n            :name (n / name\\n                     :op1 \"George\"))\\n   :ARG4 (w / water))', '# ::snt A fish fell into the water.\\n# ::tok A fish fell into the water .\\n(f / fall-01\\n    :ARG1 (f2 / fish)\\n    :ARG4 (w / water))', '# ::snt The Republican party almost universally opposed that bill in 2009, which cost $787 billion over 10 years, on the grounds that it would increase the debt too much.\\n# ::tok The Republican party almost universally opposed that bill in 2009 , which cost $ 787 billion over 10 years , on the grounds that it would increase the debt too much .\\n(o / oppose-01\\n   :ARG0 (p / political-party\\n            :wiki \"Republican_Party_(United_States)\"\\n            :name (n / name\\n                     :op1 \"Republican\"))\\n   :ARG1 (b / bill\\n            :ARG1-of (c2 / cost-01\\n                         :ARG2 (m / monetary-quantity\\n                                  :quant 787000000000\\n                                  :unit (d3 / dollar))\\n                         :duration (t / temporal-quantity\\n                                      :quant 10\\n                                      :unit (y / year)))\\n            :mod (t2 / that))\\n   :ARG1-of (c / cause-01\\n               :ARG0 (i / increase-01\\n                        :ARG0 b\\n                        :ARG1 (d2 / debt)\\n                        :ARG1-of (h / have-quant-91\\n                                    :ARG2 (m2 / much)\\n                                    :ARG3 (t3 / too))))\\n   :mod (u / universal\\n           :mod (a / almost))\\n   :time (d / date-entity\\n            :year 2009))', '# ::snt That bill would increase the debt too much.\\n# ::tok That bill would increase the debt too much .\\n(i / increase-01\\n    :ARG0 (b / bill\\n        :mod (t / that))\\n    :ARG1 (d / debt)\\n    :ARG1-of (h / have-quant-91\\n        :ARG2 (m / much)\\n        :ARG3 (t2 / too)))', '# ::snt The Republican party would increase the debt too much.\\n# ::tok The Republican party would increase the debt too much .\\n(i / increase-01\\n   :ARG0 (p / political-party\\n            :wiki \"Republican_Party_(United_States)\"\\n            :name (n / name\\n                     :op1 \"Republican\"\\n                     :op2 \"Party\"))\\n   :ARG1 (d / debt)\\n   :ARG1-of (h / have-quant-91\\n               :ARG2 (m / much)\\n               :ARG3 (t / too)))', '# ::snt The climbing beans choked the corn, and the squash grew so big that it overshadowed several adjacent rows of beans.\\n# ::tok The climbing beans choked the corn , and the squash grew so big that it overshadowed several adjacent rows of beans .\\n(a / and\\n    :op1 (c / choke-01\\n        :ARG0 (b / bean\\n            :ARG0-of (c2 / climb-01))\\n        :ARG1 (c3 / corn))\\n    :op2 (g / grow-01\\n        :ARG1 (s3 / squash)\\n        :ARG1-of (h / have-degree-91\\n            :ARG2 (b2 / big)\\n            :ARG3 (s2 / so)\\n            :ARG6 (o / overshadow-01\\n                :ARG0 s3\\n                :ARG1 (r / row\\n                    :quant (s / several)\\n                    :ARG1-of (b3 / border-01)\\n                    :consist-of b)))))', '# ::snt The squash overshadowed several adjacent rows of beans.\\n# ::tok The squash overshadowed several adjacent rows of beans .\\n(o / overshadow-01\\n    :ARG0 (s2 / squash)\\n    :ARG1 (r / row\\n        :quant (s / several)\\n        :ARG1-of (b2 / border-01)\\n        :consist-of (b / bean)))', '# ::snt The corn overshadowed several adjacent rows of beans.\\n# ::tok The corn overshadowed several adjacent rows of beans .\\n(o / overshadow-01\\n    :ARG0 (c / corn)\\n    :ARG1 (r / row\\n        :quant (s / several)\\n        :ARG1-of (b2 / border-01)\\n        :consist-of (b / bean)))', '# ::snt Because Britain still maintained control of Canada\\'s foreign affairs under the Confederation Act, its declaration of war in 1914 automatically brought Canada into World War I.\\n# ::tok Because Britain still maintained control of Canada \\'s foreign affairs under the Confederation Act , its declaration of war in 1914 automatically brought Canada into World War I.\\n(c / cause-01\\n   :ARG0 (m / maintain-01\\n            :ARG0 (c3 / country\\n                      :wiki \"United_Kingdom\"\\n                      :name (n / name\\n                               :op1 \"Britain\"))\\n            :ARG1 (c2 / control-01\\n                      :ARG0 c3\\n                      :ARG1 (a / affair-02\\n                               :ARG1 (c4 / country\\n                                         :wiki \"Canada\"\\n                                         :name (n3 / name\\n                                                   :op1 \"Canada\"))\\n                               :ARG2 (f / foreign)))\\n            :mod (s / still)\\n            :prep-under (l / law\\n                           :wiki -\\n                           :name (n2 / name\\n                                     :op1 \"Confederation\"\\n                                     :op2 \"Act\")))\\n   :ARG1 (b / bring-01\\n            :ARG0 (d2 / declare-02\\n                      :ARG0 c3\\n                      :ARG1 (w / war)\\n                      :time (d / date-entity\\n                               :year 1914))\\n            :ARG1 c4\\n            :ARG2 (w2 / war\\n                      :wiki \"World_War_I\"\\n                      :name (n4 / name\\n                                :op1 \"World\"\\n                                :op2 \"War\"\\n                                :op3 \"I\"))\\n            :manner (a2 / automatic)))', '# ::snt Britain\\'s declaration of war in 1914 automatically brought Canada into World War I.\\n# ::tok Britain \\'s declaration of war in 1914 automatically brought Canada into World War I.\\n(b / bring-01\\n   :ARG0 (d2 / declare-02\\n             :ARG0 (c / country\\n                      :wiki \"United_Kingdom\"\\n                      :name (n / name\\n                               :op1 \"Britain\"))\\n             :ARG1 (w / war)\\n             :time (d / date-entity\\n                      :year 1914))\\n   :ARG1 (c2 / country\\n             :wiki \"Canada\"\\n             :name (n2 / name\\n                       :op1 \"Canada\"))\\n   :ARG2 (w2 / war\\n             :wiki \"World_War_I\"\\n             :name (n3 / name\\n                       :op1 \"World\"\\n                       :op2 \"War\"\\n                       :op3 \"I\"))\\n   :manner (a / automatic))', '# ::snt Canada\\'s declaration of war in 1914 automatically brought Canada into World War I.\\n# ::tok Canada \\'s declaration of war in 1914 automatically brought Canada into World War I.\\n(b / bring-01\\n   :ARG0 (d2 / declare-02\\n             :ARG0 (c / country\\n                      :wiki \"Canada\"\\n                      :name (n / name\\n                               :op1 \"Canada\"))\\n             :ARG1 (w / war)\\n             :time (d / date-entity\\n                      :year 1914))\\n   :ARG1 c\\n   :ARG2 (w2 / war\\n             :wiki \"World_War_I\"\\n             :name (n2 / name\\n                       :op1 \"World\"\\n                       :op2 \"War\"\\n                       :op3 \"I\"))\\n   :manner (a / automatic))', '# ::snt We show that if coreference resolvers mainly rely on lexical features, they can hardly generalize to unseen domains.\\n# ::tok We show that if coreference resolvers mainly rely on lexical features , they can hardly generalize to unseen domains .\\n(s2 / show-01\\n    :ARG0 (w / we)\\n    :ARG1 (p / possible-01\\n        :ARG1 (g / generalize-01\\n            :ARG1 (r2 / resolve-01\\n                :ARG1 (c / core))\\n            :ARG2 (d / domain\\n                :ARG1-of (s / see-01\\n                    :polarity -))\\n            :degree (h / hardly))\\n        :condition (r / rely-01\\n            :ARG0 r2\\n            :ARG1 (f / feature\\n                :mod (l / lexical))\\n            :mod (m / main))))', '# ::snt Coreference resolvers can hardly generalize to unseen domains.\\n# ::tok Coreference resolvers can hardly generalize to unseen domains .\\n(p / possible-01\\n    :ARG1 (g / generalize-01\\n        :ARG1 (r / resolve-01\\n            :ARG1 (c / core))\\n        :ARG2 (d / domain\\n            :ARG1-of (s / see-01\\n                :polarity -))\\n        :mod (h / hardly)))', '# ::snt Lexical features can hardly generalize to unseen domains.\\n# ::tok Lexical features can hardly generalize to unseen domains .\\n(p / possible-01\\n    :ARG1 (g / generalize-01\\n        :ARG1 (f / feature\\n            :mod (l / lexical))\\n        :ARG2 (d / domain\\n            :ARG1-of (s / see-01\\n                :polarity -))\\n        :mod (h / hardly)))', '# ::snt The sides came to an agreement after their meeting in Stockholm.\\n# ::tok The sides came to an agreement after their meeting in Stockholm .\\n(a2 / agree-01\\n    :ARG0 (s / side)\\n    :time (a / after\\n             :op1 (m / meet-03\\n                     :ARG0 s\\n                     :location (c / city\\n                                  :wiki \"Stockholm\"\\n                                  :name (n / name\\n                                           :op1 \"Stockholm\")))))', '# ::snt The sides came to an agreement after their meeting in Sweden.\\n# ::tok The sides came to an agreement after their meeting in Sweden .\\n(a2 / agree-01\\n    :ARG0 (s / side)\\n    :time (a / after\\n             :op1 (m / meet-03\\n                     :ARG0 s\\n                     :location (c / country\\n                                  :wiki \"Sweden\"\\n                                  :name (n / name\\n                                           :op1 \"Sweden\")))))', '# ::snt The sides came to an agreement after their meeting in Europe.\\n# ::tok The sides came to an agreement after their meeting in Europe .\\n(a2 / agree-01\\n    :ARG0 (s / side)\\n    :time (a / after\\n             :op1 (m / meet-03\\n                     :ARG0 s\\n                     :location (c / continent\\n                                  :wiki \"Europe\"\\n                                  :name (n / name\\n                                           :op1 \"Europe\")))))', '# ::snt The sides came to an agreement after their meeting in Oslo.\\n# ::tok The sides came to an agreement after their meeting in Oslo .\\n(a2 / agree-01\\n    :ARG0 (s / side)\\n    :time (a / after\\n             :op1 (m / meet-03\\n                     :ARG0 s\\n                     :location (c / city\\n                                  :wiki \"Oslo\"\\n                                  :name (n / name\\n                                           :op1 \"Oslo\")))))', '# ::snt Musk decided to offer up his personal Tesla roadster.\\n# ::tok Musk decided to offer up his personal Tesla roadster .\\n(d / decide-01\\n   :ARG0 (p / person\\n            :wiki -\\n            :name (n / name\\n                     :op1 \"Musk\"))\\n   :ARG1 (o / offer-01\\n            :ARG0 p\\n            :ARG1 (c / car-make\\n                     :wiki \"Tesla_Roadster_(first_generation)\"\\n                     :name (n2 / name\\n                               :op1 \"Tesla\")\\n                     :ARG1-of (p2 / personal-02\\n                                  :ARG2 p)\\n                     :mod (r / roadster))))', '# ::snt Musk decided to offer up his personal car.\\n# ::tok Musk decided to offer up his personal car .\\n(d / decide-01\\n   :ARG0 (p / person\\n            :wiki -\\n            :name (n / name\\n                     :op1 \"Musk\"))\\n   :ARG1 (o / offer-01\\n            :ARG0 p\\n            :ARG1 (c / car\\n                     :ARG1-of (p2 / personal-02\\n                                  :ARG2 p))))', '# ::snt Musk decided to offer up his personal yacht.\\n# ::tok Musk decided to offer up his personal yacht .\\n(d / decide-01\\n   :ARG0 (p / person\\n            :wiki -\\n            :name (n / name\\n                     :op1 \"Musk\"))\\n   :ARG1 (o / offer-01\\n            :ARG0 p\\n            :ARG1 (y / yacht\\n                     :ARG1-of (p2 / personal-02\\n                                  :ARG2 p))))', '# ::snt TIL David Attenborough and Queen Elizabeth II are roughly the same age.\\n# ::tok TIL David Attenborough and Queen Elizabeth II are roughly the same age .\\n(u / until\\n   :op1 (s / same-01\\n           :ARG1 (p / person\\n                    :wiki -\\n                    :name (n / name\\n                             :op1 \"David\"\\n                             :op2 \"Attenborough\"))\\n           :ARG2 (p2 / person\\n                     :wiki -\\n                     :name (n2 / name\\n                               :op1 \"Queen\"\\n                               :op2 \"Elizabeth\"\\n                               :op3 \"II\"))\\n           :ARG2-of (a / age-01)\\n           :degree (r / roughly)))', '# ::snt TIL David Attenborough and the Queen of England are roughly the same age.\\n# ::tok TIL David Attenborough and the Queen of England are roughly the same age .\\n(u / until\\n   :op1 (s / same-01\\n           :ARG1 (a / and\\n                    :op1 (p / person\\n                            :wiki \"David_Attenborough\"\\n                            :name (n / name\\n                                     :op1 \"David\"\\n                                     :op2 \"Attenborough\"))\\n                    :op2 (p2 / person\\n                             :ARG0-of (h / have-org-role-91\\n                                         :ARG1 (c / country\\n                                                  :wiki \"England\"\\n                                                  :name (n2 / name\\n                                                            :op1 \"England\"))\\n                                         :ARG2 (q / queen))))\\n           :ARG2 (t / temporal-quantity)\\n           :degree (r / roughly)))', '# ::snt TIL David Attenborough and the Queen of Denmark are roughly the same age.\\n# ::tok TIL David Attenborough and the Queen of Denmark are roughly the same age .\\n(a / age-01\\n   :ARG1 (a2 / and\\n             :op1 (p / person\\n                     :wiki \"David_Attenborough\"\\n                     :name (n / name\\n                              :op1 \"David\"\\n                              :op2 \"Attenborough\"))\\n             :op2 (p2 / person\\n                      :ARG0-of (h / have-org-role-91\\n                                  :ARG1 (c / country\\n                                           :wiki \"Denmark\"\\n                                           :name (n2 / name\\n                                                     :op1 \"Denmark\"))\\n                                  :ARG2 (q / queen))))\\n   :ARG1-of (s / same-01\\n               :ARG2 (t / temporal-quantity\\n                        :quant 1)\\n               :degree (r / roughly))\\n   :time (u / until))', '# ::snt The Sydney area has been inhabited by indigenous Australians for at least 30,000 years.\\n# ::tok The Sydney area has been inhabited by indigenous Australians for at least 30,000 years .\\n(i2 / inhabit-01\\n    :ARG0 (p / person\\n             :mod (i / indigenous)\\n             :mod (c2 / country\\n                      :wiki \"Australia\"\\n                      :name (n2 / name\\n                                :op1 \"Australia\")))\\n    :ARG1 (a / area\\n             :mod (c / city\\n                     :wiki \"Sydney\"\\n                     :name (n / name\\n                              :op1 \"Sydney\")))\\n    :duration (a2 / at-least\\n                  :op1 (t / temporal-quantity\\n                          :quant 30000\\n                          :unit (y / year))))', '# ::snt The Sydney area has been inhabited by Aboriginal people for at least 30,000 years.\\n# ::tok The Sydney area has been inhabited by Aboriginal people for at least 30,000 years .\\n(i / inhabit-01\\n   :ARG0 (p / person\\n            :mod (e / ethnic-group\\n                    :wiki \"Aboriginal_Australians\"\\n                    :name (n2 / name\\n                              :op1 \"Aboriginal\")))\\n   :ARG1 (a / area\\n            :mod (c / city\\n                    :wiki \"Sydney\"\\n                    :name (n / name\\n                             :op1 \"Sydney\")))\\n   :duration (a2 / at-least\\n                 :op1 (t / temporal-quantity\\n                         :quant 30000\\n                         :unit (y / year))))', '# ::snt The Sydney area has been inhabited by Europeans for at least 30,000 years.\\n# ::tok The Sydney area has been inhabited by Europeans for at least 30,000 years .\\n(i / inhabit-01\\n   :ARG0 (p / person\\n            :mod (c2 / continent\\n                     :wiki \"Europe\"\\n                     :name (n2 / name\\n                               :op1 \"Europe\")))\\n   :ARG1 (a / area\\n            :mod (c / city\\n                    :wiki \"Sydney\"\\n                    :name (n / name\\n                             :op1 \"Sydney\")))\\n   :duration (a2 / at-least\\n                 :op1 (t / temporal-quantity\\n                         :quant 30000\\n                         :unit (y / year))))', '# ::snt Deep neural networks have achieved impressive performance in supervised classification and structured prediction tasks.\\n# ::tok Deep neural networks have achieved impressive performance in supervised classification and structured prediction tasks .\\n(a / achieve-01\\n    :ARG0 (n2 / network\\n        :ARG1-of (d / deep-02)\\n        :mod (n / nerve))\\n    :ARG1 (p / perform-02\\n        :ARG0 n2\\n        :ARG0-of (i / impress-01)\\n        :ARG1 (a2 / and\\n            :op1 (c / classify-01\\n                :ARG1-of (s2 / supervise-01))\\n            :op2 (t / task\\n                :ARG1-of (s / structure-01)\\n                :topic (p2 / predict-01)))))', '# ::snt Deep learning has achieved impressive performance in supervised classification and structured prediction tasks.\\n# ::tok Deep learning has achieved impressive performance in supervised classification and structured prediction tasks .\\n(a / achieve-01\\n    :ARG0 (l / learn-01\\n        :ARG1-of (d / deep-02))\\n    :ARG1 (p / perform-02\\n        :ARG0 l\\n        :ARG0-of (i / impress-01)\\n        :ARG1 (a2 / and\\n            :op1 (c / classify-01\\n                :ARG1-of (s2 / supervise-01))\\n            :op2 (t / task\\n                :ARG1-of (s / structure-01)\\n                :mod (p2 / predict-01)))))', '# ::snt Decision trees have achieved impressive performance in supervised classification and structured prediction tasks.\\n# ::tok Decision trees have achieved impressive performance in supervised classification and structured prediction tasks .\\n(a / achieve-01\\n    :ARG0 (t2 / tree\\n        :ARG0-of (d / decide-01))\\n    :ARG1 (p / perform-02\\n        :ARG0 t2\\n        :ARG0-of (i / impress-01)\\n        :ARG1 (a2 / and\\n            :op1 (c / classify-01\\n                :ARG1-of (s2 / supervise-01))\\n            :op2 (t / task\\n                :ARG1-of (s / structure-01)\\n                :topic (p2 / predict-01)))))', '# ::snt Dave jumped into the lake.\\n# ::tok Dave jumped into the lake .\\n(j / jump-03\\n   :ARG0 (p / person\\n            :wiki -\\n            :name (n / name\\n                     :op1 \"Dave\"))\\n   :destination (l / lake))', '# ::snt Dave was wet.\\n# ::tok Dave was wet .\\n(w / wet-01\\n   :ARG1 (p / person\\n            :wiki -\\n            :name (n / name\\n                     :op1 \"Dave\")))', '# ::snt Dave was hungry.\\n# ::tok Dave was hungry .\\n(h / hunger-01\\n   :ARG0 (p / person\\n            :wiki -\\n            :name (n / name\\n                     :op1 \"Dave\")))', '# ::snt Even if the Senate is able to pass a bill, it’s far from certain that the House will move ahead with it.\\n# ::tok Even if the Senate is able to pass a bill , it’s far from certain that the House will move ahead with it .\\n(k / know-01\\n   :polarity -\\n   :ARG1 (m / move-01\\n            :ARG0 (g2 / government-organization\\n                      :wiki \"House_of_Lords\"\\n                      :name (n2 / name\\n                                :op1 \"House\"))\\n            :ARG1 (b / bill)\\n            :ARG2 (a / ahead))\\n   :concession (e / even-if\\n                  :op1 (p2 / possible-01\\n                           :ARG1 (p / pass-01\\n                                    :ARG0 (g / government-organization\\n                                             :wiki \"United_States_Senate\"\\n                                             :name (n / name\\n                                                      :op1 \"Senate\"))\\n                                    :ARG1 b)))\\n   :extent (f / far))', '# ::snt The House might kill the bill anyway.\\n# ::tok The House might kill the bill anyway .\\n(p / possible-01\\n   :ARG1 (k / kill-01\\n            :ARG0 (g / government-organization\\n                     :wiki \"House_of_Lords\"\\n                     :name (n / name\\n                              :op1 \"House\"))\\n            :ARG1 (b / bill))\\n   :mod (a / anyway))', '# ::snt The House will pass the bill.\\n# ::tok The House will pass the bill .\\n(p / pass-01\\n   :ARG0 (g / government-organization\\n            :wiki \"House_of_Lords\"\\n            :name (n / name\\n                     :op1 \"House\"))\\n   :ARG1 (b / bill))', '# ::snt During Notorious B.I.G.\\'s funeral procession through the streets of Brooklyn, someone interrupted the somber atmosphere by playing \"Hyponotize\" at full volume, which prompted the public to dance and sing along.\\n# ::tok During Notorious B.I.G. \\'s funeral procession through the streets of Brooklyn , someone interrupted the somber atmosphere by playing \" Hyponotize \" at full volume , which prompted the public to dance and sing along .\\n(i / interrupt-01\\n   :ARG0 (s3 / someone)\\n   :ARG1 (a3 / atmosphere\\n             :mod (s2 / somber))\\n   :ARG2 (p2 / play-11\\n             :ARG0 s3\\n             :ARG0-of (p4 / prompt-01\\n                          :ARG1 (a2 / and\\n                                    :op1 (d / dance-01\\n                                            :ARG0 (p5 / public))\\n                                    :op2 (s / sing-01\\n                                            :ARG0 p5\\n                                            :manner (a / along))))\\n             :ARG1 (m / music\\n                      :wiki -\\n                      :name (n3 / name\\n                                :op1 \"Hyponotize\"))\\n             :manner (v / volume\\n                        :ARG1-of (f / full-09)))\\n   :time (p3 / procession\\n             :mod (f2 / funeral\\n                      :poss (p / person\\n                               :wiki -\\n                               :name (n / name\\n                                        :op1 \"Notorious\"\\n                                        :op2 \"B.I.G.\")))\\n             :path (s4 / street\\n                       :part-of (c / city-district\\n                                   :wiki \"Brooklyn\"\\n                                   :name (n2 / name\\n                                             :op1 \"Brooklyn\")))))', '# ::snt Notorious B.I.G. passed away.\\n# ::tok Notorious B.I.G. passed away .\\n(p / pass-away-16\\n   :ARG1 (p2 / person\\n             :wiki -\\n             :name (n / name\\n                      :op1 \"B.I.G.\")\\n             :ARG1-of (f / fame-01)))', '# ::snt Notorious B.I.G. hosted his funeral.\\n# ::tok Notorious B.I.G. hosted his funeral .\\n(h2 / host-01\\n    :ARG0 (p / person\\n             :wiki -\\n             :name (n / name\\n                      :op1 \"B.I.G.\")\\n             :ARG1-of (f / fame-01))\\n    :ARG1 (f2 / funeral\\n              :poss (h / he)))', '# ::snt During Notorious B.I.G.\\'s funeral procession through the streets of Brooklyn, there was a somber atmosphere part of the time.\\n# ::tok During Notorious B.I.G. \\'s funeral procession through the streets of Brooklyn , there was a somber atmosphere part of the time .\\n(a / atmosphere\\n   :mod (s / somber)\\n   :time (p3 / procession\\n             :mod (f / funeral\\n                     :poss (p2 / person\\n                               :wiki -\\n                               :name (n / name\\n                                        :op1 \"Notorious\"\\n                                        :op2 \"B.I.G.\")))\\n             :path (s2 / street\\n                       :part-of (c / city-district\\n                                   :wiki \"Brooklyn\"\\n                                   :name (n2 / name\\n                                             :op1 \"Brooklyn\"))))\\n   :time (p / part\\n            :part-of (t / time)))', '# ::snt Notorious B.I.G.\\'s funeral procession was attended by the general public.\\n# ::tok Notorious B.I.G. \\'s funeral procession was attended by the general public .\\n(a / attend-01\\n   :ARG0 (p3 / public\\n             :ARG1-of (g / general-02))\\n   :ARG1 (p2 / procession\\n             :mod (f / funeral)\\n             :poss (p / person\\n                      :wiki -\\n                      :name (n / name\\n                               :op1 \"B.I.G.\")\\n                      :ARG1-of (n2 / notorious-01))))', '# ::snt Only members of the public attended B.I.G.\\'s funeral procession was restricted to an exclusive club of associates.\\n# ::tok Only members of the public attended B.I.G. \\'s funeral procession was restricted to an exclusive club of associates .\\n(r / restrict-01\\n   :ARG1 (a2 / attend-01\\n             :ARG0 (m / member\\n                      :mod (o / only)\\n                      :mod (p4 / public))\\n             :ARG1 (p3 / procession\\n                       :mod (f / funeral\\n                               :poss (p / person\\n                                        :wiki -\\n                                        :name (n / name\\n                                                 :op1 \"B.I.G.\")))))\\n   :ARG2 (c / club\\n            :ARG0-of (e / exclusive-02)\\n            :consist-of (p2 / person\\n                            :ARG1-of (a / associate-01))))', '# ::snt The problem in Ireland was not lack of food, which was plentiful, but the price of it, which was beyond the reach of the poor.\\n# ::tok The problem in Ireland was not lack of food , which was plentiful , but the price of it , which was beyond the reach of the poor .\\n(c / contrast-01\\n   :ARG1 (p5 / problem\\n             :domain (l / lack-01\\n                        :polarity -\\n                        :ARG1 (f / food\\n                                 :mod (p2 / plentiful)))\\n             :location (c2 / country\\n                           :wiki \"Ireland\"\\n                           :name (n / name\\n                                    :op1 \"Ireland\")))\\n   :ARG2 (p6 / problem\\n             :ARG2-of (p4 / price-01\\n                          :ARG1 f\\n                          :ARG1-of (r / reach-01\\n                                      :ARG0 (p / person\\n                                               :mod (p3 / poor))\\n                                      :mod (b / beyond)))))', '# ::snt Poor Irish people could not get food because it was too expensive.\\n# ::tok Poor Irish people could not get food because it was too expensive .\\n(p3 / possible-01\\n    :polarity -\\n    :ARG1 (g / get-01\\n             :ARG0 (p / person\\n                      :mod (c2 / country\\n                               :wiki \"Ireland\"\\n                               :name (n / name\\n                                        :op1 \"Ireland\"))\\n                      :mod (p2 / poor))\\n             :ARG1 (f / food))\\n    :ARG1-of (c / cause-01\\n                :ARG0 (h / have-degree-91\\n                         :ARG1 f\\n                         :ARG2 (e / expensive)\\n                         :ARG3 (t / too))))', '# ::snt The poor in Ireland starved.\\n# ::tok The poor in Ireland starved .\\n(s / starve-01\\n   :ARG1 (p / person\\n            :location (c / country\\n                         :wiki \"Ireland\"\\n                         :name (n / name\\n                                  :op1 \"Ireland\"))\\n            :mod (p2 / poor)))', '# ::snt The poor in Ireland had plentiful food.\\n# ::tok The poor in Ireland had plentiful food .\\n(h / have-03\\n   :ARG0 (p / person\\n            :location (c / country\\n                         :wiki \"Ireland\"\\n                         :name (n / name\\n                                  :op1 \"Ireland\"))\\n            :mod (p3 / poor))\\n   :ARG1 (f / food\\n            :mod (p2 / plentiful)))', '# ::snt The problem in Ireland was the price of food.\\n# ::tok The problem in Ireland was the price of food .\\n(p2 / problem\\n    :domain (t / thing\\n               :ARG2-of (p / price-01\\n                           :ARG1 (f / food)))\\n    :location (c / country\\n                 :wiki \"Ireland\"\\n                 :name (n / name\\n                          :op1 \"Ireland\")))', '# ::snt The problem in Ireland was lack of food.\\n# ::tok The problem in Ireland was lack of food .\\n(p / problem\\n   :domain (l / lack-01\\n              :ARG1 (f / food))\\n   :location (c / country\\n                :wiki \"Ireland\"\\n                :name (n / name\\n                         :op1 \"Ireland\")))', '# ::snt This dataset is two orders of magnitude larger than all other existing resources.\\n# ::tok This dataset is two orders of magnitude larger than all other existing resources .\\n(h / have-degree-91\\n    :ARG1 (d / dataset\\n        :mod (t / this))\\n    :ARG2 (l / large)\\n    :ARG3 (m / more\\n        :quant (o / order-of-magnitude\\n            :quant 2))\\n    :ARG4 (r / resource\\n        :ARG1-of (e / exist-01)\\n        :mod (o2 / other)\\n        :mod (a / all)))', '# ::snt Every other existing resource is smaller than this dataset.\\n# ::tok Every other existing resource is smaller than this dataset .\\n(h / have-degree-91\\n    :ARG1 (r / resource\\n        :ARG1-of (e2 / exist-01)\\n        :mod (o / other\\n            :mod (e / every)))\\n    :ARG2 (s / small)\\n    :ARG3 (m / more)\\n    :ARG4 (d / dataset\\n        :mod (t / this)))', '# ::snt This dataset is very big.\\n# ::tok This dataset is very big .\\n(b / big\\n    :degree (v / very)\\n    :domain (d / dataset\\n        :mod (t / this)))', \"# ::snt I have failed my resolutions every year since 1997, and it's now 2008.\\n# ::tok I have failed my resolutions every year since 1997 , and it 's now 2008 .\\n(a / and\\n    :op1 (f / fail-01\\n        :ARG1 (i / i)\\n        :ARG2 (r2 / resolution\\n            :poss i)\\n        :frequency (r / rate-entity-91\\n            :ARG3 (t / temporal-quantity\\n                :quant 1\\n                :unit (y / year)))\\n        :time (s / since\\n            :op1 (d / date-entity\\n                :year 1997)))\\n    :op2 (b / be-temporally-at-91\\n        :ARG1 (d2 / date-entity\\n            :year 2008)\\n        :ARG2 (n / now)))\", '# ::snt I failed my resolutions in 2004.\\n# ::tok I failed my resolutions in 2004 .\\n(f / fail-01\\n    :ARG1 (i / i)\\n    :ARG2 (r / resolution\\n        :poss i)\\n    :time (d / date-entity\\n        :year 2004))', '# ::snt I failed my resolutions in 1995.\\n# ::tok I failed my resolutions in 1995 .\\n(f / fail-01\\n    :ARG1 (i / i)\\n    :ARG2 (r / resolution\\n        :poss i)\\n    :time (d / date-entity\\n        :year 1995))', '# ::snt I did not fail my resolutions in 2004.\\n# ::tok I did not fail my resolutions in 2004 .\\n(f / fail-01\\n    :polarity -\\n    :ARG1 (i / i)\\n    :ARG2 (r / resolution\\n        :poss i)\\n    :time (d / date-entity\\n        :year 2004))', '# ::snt I did not fail my resolutions in 1995.\\n# ::tok I did not fail my resolutions in 1995 .\\n(f / fail-01\\n    :polarity -\\n    :ARG1 (i / i)\\n    :ARG2 (r / resolution\\n        :poss i)\\n    :time (d / date-entity\\n        :year 1995))', '# ::snt Both doctor and patient bear some responsibility for successful care.\\n# ::tok Both doctor and patient bear some responsibility for successful care .\\n(b / bear-01\\n    :ARG0 (a / and\\n        :mod (b2 / both)\\n        :op1 (d / doctor)\\n        :op2 (p2 / person\\n            :ARG0-of (h / have-rel-role-91\\n                :ARG2 (p / patient))))\\n    :ARG1 (r / responsible-01\\n        :ARG0 a\\n        :ARG1 (c / care-03\\n            :ARG1-of (s2 / succeed-01))\\n        :degree (s / some)))', '# ::snt The doctor bears some responsibility for successful care.\\n# ::tok The doctor bears some responsibility for successful care .\\n(b / bear-01\\n    :ARG0 (d / doctor)\\n    :ARG1 (r / responsible-01\\n        :ARG0 d\\n        :ARG1 (c / care-03\\n            :ARG1-of (s2 / succeed-01))\\n        :degree (s / some)))', '# ::snt The doctor does not bear responsibility for successful care.\\n# ::tok The doctor does not bear responsibility for successful care .\\n(b / bear-01\\n    :polarity -\\n    :ARG0 (d / doctor)\\n    :ARG1 (r / responsible-01\\n        :ARG0 d\\n        :ARG1 (c / care-03\\n            :ARG1-of (s / succeed-01))))', '# ::snt The patient bears some responsibility for successful care.\\n# ::tok The patient bears some responsibility for successful care .\\n(b / bear-01\\n    :ARG0 (p2 / person\\n        :ARG0-of (h / have-rel-role-91\\n            :ARG2 (p / patient)))\\n    :ARG1 (r / responsible-01\\n        :ARG0 p2\\n        :ARG1 (c / care-03\\n            :ARG1-of (s2 / succeed-01))\\n        :degree (s / some)))', '# ::snt The patient does not bear responsibility for successful care.\\n# ::tok The patient does not bear responsibility for successful care .\\n(b / bear-01\\n    :polarity -\\n    :ARG0 (p2 / person\\n        :ARG0-of (h / have-rel-role-91\\n            :ARG2 (p / patient)))\\n    :ARG1 (r / responsible-01\\n        :ARG0 p2\\n        :ARG1 (c / care-03\\n            :ARG1-of (s / succeed-01))))', '# ::snt The attorney bears some responsibility for successful care.\\n# ::tok The attorney bears some responsibility for successful care .\\n(b / bear-01\\n    :ARG0 (a / attorney)\\n    :ARG1 (r / responsible-01\\n        :ARG0 a\\n        :ARG1 (c / care-03\\n            :ARG1-of (s2 / succeed-01))\\n        :degree (s / some)))', '# ::snt The attorney does not bear responsibility for successful care.\\n# ::tok The attorney does not bear responsibility for successful care .\\n(b / bear-01\\n    :polarity -\\n    :ARG0 (a / attorney)\\n    :ARG1 (r / responsible-01\\n        :ARG0 a\\n        :ARG1 (c / care-03\\n            :ARG1-of (s / succeed-01))))', '# ::snt Either he has a blind trust or he has a conflict of interest.\\n# ::tok Either he has a blind trust or he has a conflict of interest .\\n(o / or\\n    :op1 (h / have-03\\n        :ARG0 (h2 / he)\\n        :ARG1 (t / trust\\n            :ARG1-of (b / blind-02)))\\n    :op2 (c / conflict-01\\n        :ARG1 h2\\n        :ARG2 (i / interest-01\\n            :ARG1 h2)))', '# ::snt He has a conflict of interest.\\n# ::tok He has a conflict of interest .\\n(c / conflict-01\\n    :ARG1 (h / he)\\n    :ARG2 (i / interest-01))', '# ::snt He does not have a conflict of interest.\\n# ::tok He does not have a conflict of interest .\\n(c / conflict-01\\n    :polarity -\\n    :ARG1 (h / he)\\n    :ARG2 (i / interest-01))', '# ::snt He has a blind trust.\\n# ::tok He has a blind trust .\\n(h / have-03\\n    :ARG0 (h2 / he)\\n    :ARG1 (t / trust-01\\n        :ARG1-of (b / blind-02)))', '# ::snt He does not have a blind trust.\\n# ::tok He does not have a blind trust .\\n(h / have-03\\n    :polarity -\\n    :ARG0 (h2 / he)\\n    :ARG1 (t / trust-01\\n        :ARG1-of (b / blind-02)))', '# ::snt Everyone has a set of principles to live by.\\n# ::tok Everyone has a set of principles to live by .\\n(h / have-03\\n    :ARG0 (e / everyone)\\n    :ARG1 (s / set\\n        :purpose (l / live-01\\n            :ARG0 e)\\n        :consist-of (p / principle)))', '# ::snt Someone has a set of principles to live by.\\n# ::tok Someone has a set of principles to live by .\\n(h / have-03\\n    :ARG0 (s2 / someone)\\n    :ARG1 (s / set\\n        :purpose (l / live-01\\n            :ARG0 s2)\\n        :consist-of (p / principle)))', '# ::snt No one has a set of principles to live by.\\n# ::tok No one has a set of principles to live by .\\n(h / have-03\\n    :ARG0 (n / no-one)\\n    :ARG1 (s / set\\n        :purpose (l / live-01\\n            :ARG0 n)\\n        :consist-of (p / principle)))', '# ::snt Susan doesn\\'t have a set of principles to live by.\\n# ::tok Susan does n\\'t have a set of principles to live by .\\n(h / have-03\\n   :polarity -\\n   :ARG0 (p / person\\n            :wiki -\\n            :name (n / name\\n                     :op1 \"Susan\"))\\n   :ARG1 (s / set\\n            :purpose (l / live-01\\n                        :ARG0 p)\\n            :consist-of (p2 / principle)))', '# ::snt Susan knows how turtles reproduce.\\n# ::tok Susan knows how turtles reproduce .\\n(k / know-01\\n   :ARG0 (p / person\\n            :wiki -\\n            :name (n / name\\n                     :op1 \"Susan\"))\\n   :ARG1 (t / thing\\n            :manner-of (r / reproduce-01\\n                          :ARG0 (t2 / turtle))))', '# ::snt Someone knows how turtles reproduce.\\n# ::tok Someone knows how turtles reproduce .\\n(k / know-01\\n    :ARG0 (s / someone)\\n    :ARG1 (t / thing\\n        :manner-of (r / reproduce-01\\n            :ARG0 (t2 / turtle))))', '# ::snt No one knows how turtles reproduce.\\n# ::tok No one knows how turtles reproduce .\\n(k / know-01\\n    :ARG0 (n / no-one)\\n    :ARG1 (t / thing\\n        :manner-of (r / reproduce-01\\n            :ARG0 (t2 / turtle))))', '# ::snt Cedric doesn\\'t know how turtles reproduce.\\n# ::tok Cedric does n\\'t know how turtles reproduce .\\n(k / know-01\\n   :polarity -\\n   :ARG0 (p / person\\n            :wiki -\\n            :name (n / name\\n                     :op1 \"Cedric\"))\\n   :ARG1 (t / thing\\n            :manner-of (r / reproduce-01\\n                          :ARG0 (t2 / turtle))))', '# ::snt Either there is no bathroom in this house, or it is in a funny place.\\n# ::tok Either there is no bathroom in this house , or it is in a funny place .\\n(o / or\\n    :op1 (b / bathroom\\n        :polarity -\\n        :location (h / house\\n            :mod (t / this)))\\n    :op2 (b2 / be-located-at-91\\n        :ARG1 b\\n        :ARG2 (p / place\\n            :mod (f / funny))))', '# ::snt If there is a bathroom in this house, it is in a funny place.\\n# ::tok If there is a bathroom in this house , it is in a funny place .\\n(h / have-condition-91\\n    :ARG1 (b2 / be-located-at-91\\n        :ARG1 (b / bathroom)\\n        :ARG2 (p / place\\n            :mod (f / funny))\\n        :location (h2 / house\\n            :mod (t / this))))', '# ::snt The bathroom in this house is in a funny place.\\n# ::tok The bathroom in this house is in a funny place .\\n(b2 / be-located-at-91\\n    :ARG1 (b / bathroom\\n        :location (h / house\\n            :mod (t / this)))\\n    :ARG2 (p / place\\n        :ARG1-of (f / funny-02)))', '# ::snt Joan believes that all speech is political speech.\\n# ::tok Joan believes that all speech is political speech .\\n(b / believe-01\\n   :ARG0 (p / person\\n            :wiki -\\n            :name (n / name\\n                     :op1 \"Joan\"))\\n   :ARG1 (s / speak-01\\n            :domain (s2 / speak-01\\n                        :mod (p2 / politics))\\n            :mod (a / all)))', '# ::snt All speech is political speech.\\n# ::tok All speech is political speech .\\n(s / speak-01\\n    :domain (s2 / speak-01)\\n    :mod (a / all)\\n    :mod (p / politics))', '# ::snt Joan doubts that all speech is political speech.\\n# ::tok Joan doubts that all speech is political speech .\\n(d / doubt-01\\n   :ARG0 (p / person\\n            :wiki -\\n            :name (n / name\\n                     :op1 \"Joan\"))\\n   :ARG1 (s2 / speak-01\\n             :domain (s / speak-01\\n                        :mod (a / all))\\n             :mod (p2 / politics)))', '# ::snt Joan knows that all speech is political speech.\\n# ::tok Joan knows that all speech is political speech .\\n(k / know-01\\n   :ARG0 (p / person\\n            :wiki -\\n            :name (n / name\\n                     :op1 \"Joan\"))\\n   :ARG1 (s / speak-01\\n            :domain (s2 / speak-01\\n                        :mod (p2 / politics))\\n            :mod (a / all)))', '# ::snt No speech is political speech.\\n# ::tok No speech is political speech .\\n(s / speak-01\\n    :polarity -\\n    :domain (s2 / speak-01\\n        :mod (p / politics)))', '# ::snt Grisham hoped to win the popular vote.\\n# ::tok Grisham hoped to win the popular vote .\\n(h / hope-01\\n   :ARG0 (p / person\\n            :wiki -\\n            :name (n / name\\n                     :op1 \"Grisham\"))\\n   :ARG1 (w / win-01\\n            :ARG0 p\\n            :ARG1 (v / vote-01\\n                     :ARG0 (p2 / populace)\\n                     :ARG1 p)))', '# ::snt Grisham won the popular vote.\\n# ::tok Grisham won the popular vote .\\n(w / win-01\\n   :ARG0 (p / person\\n            :wiki -\\n            :name (n / name\\n                     :op1 \"Grisham\"))\\n   :ARG1 (v / vote-01\\n            :ARG0 (p2 / populace)))', '# ::snt Grisham did not win the popular vote.\\n# ::tok Grisham did not win the popular vote .\\n(w / win-01\\n   :polarity -\\n   :ARG0 (p / person\\n            :wiki -\\n            :name (n / name\\n                     :op1 \"Grisham\"))\\n   :ARG1 (v / vote-01\\n            :ARG0 (p2 / populace)\\n            :ARG1 p))', '# ::snt Jacob saw Tex sign the contract.\\n# ::tok Jacob saw Tex sign the contract .\\n(s / see-01\\n   :ARG0 (p / person\\n            :wiki -\\n            :name (n / name\\n                     :op1 \"Jacob\"))\\n   :ARG1 (s2 / sign-02\\n             :ARG0 (p2 / person\\n                       :wiki -\\n                       :name (n2 / name\\n                                 :op1 \"Tex\"))\\n             :ARG1 (c / contract)))', '# ::snt Tex signed the contract.\\n# ::tok Tex signed the contract .\\n(s / sign-02\\n   :ARG0 (p / person\\n            :mod (s2 / state\\n                     :wiki \"Texas\"\\n                     :name (n / name\\n                              :op1 \"Texas\")))\\n   :ARG1 (c / contract))', '# ::snt Jacob did not see Tex sign the contract.\\n# ::tok Jacob did not see Tex sign the contract .\\n(s / see-01\\n   :polarity -\\n   :ARG0 (p / person\\n            :wiki -\\n            :name (n / name\\n                     :op1 \"Jacob\"))\\n   :ARG1 (s2 / sign-02\\n             :ARG0 (p2 / person\\n                       :wiki -\\n                       :name (n2 / name\\n                                 :op1 \"Tex\"))\\n             :ARG1 (c / contract)))', '# ::snt Grisham tried to win the popular vote.\\n# ::tok Grisham tried to win the popular vote .\\n(t / try-01\\n   :ARG0 (p / person\\n            :wiki -\\n            :name (n / name\\n                     :op1 \"Grisham\"))\\n   :ARG1 (w / win-01\\n            :ARG0 p\\n            :ARG1 (v / vote-01\\n                     :ARG0 (p2 / populace))))', '# ::snt Grisham almost won the popular vote.\\n# ::tok Grisham almost won the popular vote .\\n(w / win-01\\n   :ARG0 (p / person\\n            :wiki -\\n            :name (n / name\\n                     :op1 \"Grisham\"))\\n   :ARG1 (v / vote-01\\n            :ARG0 (p2 / populace))\\n   :mod (a / almost))', '# ::snt Grisham barely won the popular vote.\\n# ::tok Grisham barely won the popular vote .\\n(w / win-01\\n   :ARG0 (p / person\\n            :wiki -\\n            :name (n / name\\n                     :op1 \"Grisham\"))\\n   :ARG2 (v / vote-01\\n            :ARG0 (p2 / populace))\\n   :degree (b / barely))', '# ::snt She has three questions.\\n# ::tok She has three questions .\\n(q / question-01\\n    :quant 3\\n    :ARG0 (s / she))', '# ::snt She had three questions.\\n# ::tok She had three questions .\\n(q / question-01\\n    :quant 3\\n    :ARG0 (s / she))', '# ::snt Mary left before John entered.\\n# ::tok Mary left before John entered .\\n(l / leave-11\\n   :ARG0 (p / person\\n            :wiki -\\n            :name (n / name\\n                     :op1 \"Mary\"))\\n   :time (b / before\\n            :op1 (e / enter-01\\n                    :ARG0 (p2 / person\\n                              :wiki -\\n                              :name (n2 / name\\n                                        :op1 \"John\")))))', '# ::snt John entered after Mary left.\\n# ::tok John entered after Mary left .\\n(e / enter-01\\n   :ARG0 (p / person\\n            :wiki -\\n            :name (n / name\\n                     :op1 \"John\"))\\n   :time (a / after\\n            :op1 (l / leave-11\\n                    :ARG0 (p2 / person\\n                              :wiki -\\n                              :name (n2 / name\\n                                        :op1 \"Mary\")))))', '# ::snt John entered before Mary left.\\n# ::tok John entered before Mary left .\\n(e / enter-01\\n   :ARG0 (p / person\\n            :wiki -\\n            :name (n / name\\n                     :op1 \"John\"))\\n   :time (b / before\\n            :op1 (l / leave-11\\n                    :ARG0 (p2 / person\\n                              :wiki -\\n                              :name (n2 / name\\n                                        :op1 \"Mary\")))))', '# ::snt Mary was leaving while John entered.\\n# ::tok Mary was leaving while John entered .\\n(l / leave-11\\n   :ARG0 (p / person\\n            :wiki -\\n            :name (n / name\\n                     :op1 \"Mary\"))\\n   :time (e / enter-01\\n            :ARG0 (p2 / person\\n                      :wiki -\\n                      :name (n2 / name\\n                                :op1 \"John\"))))', '# ::snt John entered while Mary was leaving.\\n# ::tok John entered while Mary was leaving .\\n(e / enter-01\\n   :ARG0 (p / person\\n            :wiki -\\n            :name (n / name\\n                     :op1 \"John\"))\\n   :time (l / leave-11\\n            :ARG0 (p2 / person\\n                      :wiki -\\n                      :name (n2 / name\\n                                :op1 \"Mary\"))))', '# ::snt If Pedro has a donkey, then he beats it.\\n# ::tok If Pedro has a donkey , then he beats it .\\n(b / beat-03\\n   :ARG0 (p / person\\n            :wiki -\\n            :name (n / name\\n                     :op1 \"Pedro\"))\\n   :ARG1 (d / donkey)\\n   :condition (h / have-03\\n                 :ARG0 p\\n                 :ARG1 d))', '# ::snt Pedro beats his donkey.\\n# ::tok Pedro beats his donkey .\\n(b / beat-01\\n   :ARG0 (p / person\\n            :wiki -\\n            :name (n / name\\n                     :op1 \"Pedro\"))\\n   :ARG1 (d / donkey\\n            :poss p))', '# ::snt Pedro doesn\\'t have a donkey.\\n# ::tok Pedro does n\\'t have a donkey .\\n(h / have-03\\n   :polarity -\\n   :ARG0 (p / person\\n            :wiki -\\n            :name (n / name\\n                     :op1 \"Pedro\"))\\n   :ARG1 (d / donkey))', '# ::snt It is the clearest evidence yet that Xi plans to rule beyond the end of this second term, in 2023, taking China back to the era of one-man rule just as it steps up its role in global politics.\\n# ::tok It is the clearest evidence yet that Xi plans to rule beyond the end of this second term , in 2023 , taking China back to the era of one - man rule just as it steps up its role in global politics .\\n(e3 / evidence-01\\n    :ARG0 (i / it)\\n    :ARG1 (p2 / plan-01\\n              :ARG0 (p / person\\n                       :wiki \"Xi_Jinping\"\\n                       :name (n / name\\n                                :op1 \"Xi\"))\\n              :ARG1 (r2 / rule-03\\n                        :ARG0 p\\n                        :ARG0-of (t / take-01\\n                                    :ARG1 (c2 / country\\n                                              :wiki \"China\"\\n                                              :name (n2 / name\\n                                                        :op1 \"China\"))\\n                                    :ARG3 (e2 / era\\n                                              :time-of (r3 / rule-03\\n                                                           :ARG0 (m / man\\n                                                                    :quant 1)))\\n                                    :direction (b / back)\\n                                    :time (s / step-up-03\\n                                             :ARG0 c2\\n                                             :ARG1 (r / role\\n                                                      :poss c2\\n                                                      :topic (p3 / politics\\n                                                                 :mod (g / globe)))\\n                                             :mod (j / just)))\\n                        :time (b2 / beyond\\n                                  :op1 (e / end-01\\n                                          :ARG1 (t2 / term\\n                                                    :mod (t3 / this)\\n                                                    :ord (o / ordinal-entity\\n                                                            :value 2))\\n                                          :time (d / date-entity\\n                                                   :year 2023)))))\\n    :ARG1-of (h / have-degree-91\\n                :ARG2 (c / clear-06\\n                         :ARG1 e3)\\n                :ARG3 (m2 / most))\\n    :time (y / yet))', '# ::snt Xi\\'s second term ends in 2023.\\n# ::tok Xi \\'s second term ends in 2023 .\\n(e / end-01\\n   :ARG1 (t / term\\n            :ord (o / ordinal-entity\\n                    :value 2)\\n            :poss (p / person\\n                     :wiki -\\n                     :name (n / name\\n                              :op1 \"Xi\")))\\n   :time (d / date-entity\\n            :year 2023))', '# ::snt The move marks an end to a system put in place by Deng Xiaoping in the 1980s to prevent the rise of another Mao, who was chairman of the Communist Party from before its accession to power in 1949 until his death in 1976.\\n# ::tok The move marks an end to a system put in place by Deng Xiaoping in the 1980 s to prevent the rise of another Mao , who was chairman of the Communist Party from before its accession to power in 1949 until his death in 1976 .\\n(m / mark-01\\n   :ARG0 (m2 / move-02)\\n   :ARG1 (e / end-01\\n            :ARG1 (s / system\\n                     :ARG1-of (p6 / put-03\\n                                  :purpose (p5 / prevent-01\\n                                               :ARG0 (p / person\\n                                                        :wiki \"Deng_Xiaoping\"\\n                                                        :name (n / name\\n                                                                 :op1 \"Deng\"\\n                                                                 :op2 \"Xiaoping\"))\\n                                               :ARG1 (r / rise-01\\n                                                        :ARG1 (p2 / person\\n                                                                  :wiki \"Quotations_from_Chairman_Mao_Tse-tung\"\\n                                                                  :name (n2 / name\\n                                                                            :op1 \"Mao\")\\n                                                                  :ARG0-of (h / have-org-role-91\\n                                                                              :ARG1 (p3 / political-party\\n                                                                                        :wiki \"Chinese_Communist_Party\"\\n                                                                                        :name (n3 / name\\n                                                                                                  :op1 \"Communist\"\\n                                                                                                  :op2 \"Party\"))\\n                                                                              :ARG2 (c / chairman)\\n                                                                              :time (d4 / date-interval\\n                                                                                        :op1 (b / before\\n                                                                                                :op1 (a / access-01\\n                                                                                                        :ARG0 p3\\n                                                                                                        :ARG1 (p4 / power)\\n                                                                                                        :time (d2 / date-entity\\n                                                                                                                  :year 1949)))\\n                                                                                        :op2 (d5 / die-01\\n                                                                                                 :ARG1 p2\\n                                                                                                 :time (d3 / date-entity\\n                                                                                                           :year 1976))))\\n                                                                  :mod (a2 / another))))\\n                                  :ARG0 p\\n                                  :ARG2 (i / in-place)\\n                                  :time (d / date-entity\\n                                           :decade 1980)))))', '# ::snt Deng Xiaoping was chairman of the Communist Party from before its accession to power in 1949 until his death in 1976.\\n# ::tok Deng Xiaoping was chairman of the Communist Party from before its accession to power in 1949 until his death in 1976 .\\n(h / have-org-role-91\\n   :ARG0 (p / person\\n            :wiki \"Deng_Xiaoping\"\\n            :name (n / name\\n                     :op1 \"Deng\"\\n                     :op2 \"Xiaoping\"))\\n   :ARG1 (p2 / political-party\\n             :wiki \"Chinese_Communist_Party\"\\n             :name (n2 / name\\n                       :op1 \"Communist\"\\n                       :op2 \"Party\"))\\n   :ARG2 (c / chairman)\\n   :time (d3 / date-interval\\n             :op1 (b / before\\n                     :op1 (a / access-01\\n                             :ARG0 p2\\n                             :ARG1 (p3 / power)\\n                             :time (d / date-entity\\n                                      :year 1949)))\\n             :op2 (d4 / die-01\\n                      :ARG1 p\\n                      :time (d2 / date-entity\\n                                :year 1976))))', '# ::snt Mao was chairman of the Communist Party from before its accession to power in 1949 until his death in 1976.\\n# ::tok Mao was chairman of the Communist Party from before its accession to power in 1949 until his death in 1976 .\\n(h / have-org-role-91\\n   :ARG0 (p / person\\n            :wiki \"Mao_Zedong\"\\n            :name (n / name\\n                     :op1 \"Mao\"))\\n   :ARG1 (p2 / political-party\\n             :wiki \"Chinese_Communist_Party\"\\n             :name (n2 / name\\n                       :op1 \"Communist\"\\n                       :op2 \"Party\"))\\n   :ARG2 (c / chairman)\\n   :time (d3 / date-interval\\n             :op1 (b / before\\n                     :op1 (a / access-01\\n                             :ARG0 p2\\n                             :ARG1 (p3 / power)\\n                             :time (d / date-entity\\n                                      :year 1949)))\\n             :op2 (d4 / die-01\\n                      :ARG1 p\\n                      :time (d2 / date-entity\\n                                :year 1976))))', '# ::snt Though the power grab has earned Xi comparisons to leaders such as Turkey’s Recep Tayyip Erdogan and Russia’s Vladimir Putin, his vision for China is singular — and will have an impact well beyond China’s borders.\\n# ::tok Though the power grab has earned Xi comparisons to leaders such as Turkey’s Recep Tayyip Erdogan and Russia’s Vladimir Putin , his vision for China is singular — and will have an impact well beyond China’s borders .\\n(h / have-concession-91\\n   :ARG1 (a2 / and\\n             :op1 (s / singular\\n                     :domain (e2 / envision-01\\n                                 :ARG0 (p / person\\n                                          :wiki \"Xi_Jinping\"\\n                                          :name (n / name\\n                                                   :op1 \"Xi\"))\\n                                 :ARG1 (c2 / country\\n                                           :wiki \"China\"\\n                                           :name (n4 / name\\n                                                     :op1 \"China\"))))\\n             :op2 (i / impact-01\\n                     :ARG0 e2\\n                     :ARG1 (b / beyond\\n                              :degree (w / well)\\n                              :op1 (b2 / border\\n                                       :poss c2))))\\n   :ARG2 (e / earn-01\\n            :ARG0 (g / grab-01\\n                     :ARG1 (p5 / power))\\n            :ARG1 (c / compare-01\\n                     :ARG1 p\\n                     :ARG2 (p2 / person\\n                               :ARG0-of (l / lead-02)\\n                               :example (a / and\\n                                           :op1 (p3 / person\\n                                                    :wiki \"Recep_Tayyip_Erdoğan\"\\n                                                    :name (n2 / name\\n                                                              :op1 \"Recep\"\\n                                                              :op2 \"Tayyip\"\\n                                                              :op3 \"Erdogan\"))\\n                                           :op2 (p4 / person\\n                                                    :wiki \"Vladimir_Putin\"\\n                                                    :name (n3 / name\\n                                                              :op1 \"Vladimir\"\\n                                                              :op2 \"Putin\")))))\\n            :ARG2 p))', '# ::snt Though the power grab has earned Xi comparisons to leaders such as Turkey’s Recep Tayyip Erdogan, his vision for China is singular — and will have an impact well beyond China’s borders.\\n# ::tok Though the power grab has earned Xi comparisons to leaders such as Turkey’s Recep Tayyip Erdogan , his vision for China is singular — and will have an impact well beyond China’s borders .\\n(h / have-concession-91\\n   :ARG1 (a / and\\n            :op1 (s / singular\\n                    :domain (e2 / envision-01\\n                                :ARG0 (p / person\\n                                         :wiki \"Xi_Jinping\"\\n                                         :name (n / name\\n                                                  :op1 \"Xi\"))\\n                                :ARG2 (c2 / country\\n                                          :wiki \"China\"\\n                                          :name (n3 / name\\n                                                    :op1 \"China\"))))\\n            :op2 (i / impact-01\\n                    :ARG0 e2\\n                    :ARG1 (b / beyond\\n                             :degree (w / well)\\n                             :op1 (b2 / border\\n                                      :poss c2))))\\n   :ARG2 (e / earn-01\\n            :ARG0 (g / grab-01\\n                     :ARG1 (p4 / power))\\n            :ARG0 p\\n            :ARG1 (c / compare-01\\n                     :ARG1 p\\n                     :ARG2 (p2 / person\\n                               :ARG0-of (l / lead-02)\\n                               :example (p3 / person\\n                                            :wiki \"Recep_Tayyip_Erdoğan\"\\n                                            :name (n2 / name\\n                                                      :op1 \"Recep\"\\n                                                      :op2 \"Tayyip\"\\n                                                      :op3 \"Erdogan\"))))))', '# ::snt Though the power grab has earned Xi comparisons to leaders such as Russia’s Vladimir Putin, his vision for China is singular — and will have an impact well beyond China’s borders.\\n# ::tok Though the power grab has earned Xi comparisons to leaders such as Russia’s Vladimir Putin , his vision for China is singular — and will have an impact well beyond China’s borders .\\n(h / have-concession-91\\n   :ARG1 (a / and\\n            :op1 (s / singular\\n                    :domain (e2 / envision-01\\n                                :ARG0 (p / person\\n                                         :wiki \"Xi_Jinping\"\\n                                         :name (n / name\\n                                                  :op1 \"Xi\"))\\n                                :ARG1 (c2 / country\\n                                          :wiki \"China\"\\n                                          :name (n3 / name\\n                                                    :op1 \"China\"))))\\n            :op2 (i / impact-01\\n                    :ARG0 e2\\n                    :ARG1 (b / beyond\\n                             :degree (w / well)\\n                             :op1 (b2 / border\\n                                      :poss c2))))\\n   :ARG2 (e / earn-01\\n            :ARG0 (g / grab-01\\n                     :ARG1 (p4 / power))\\n            :ARG1 (c / compare-01\\n                     :ARG1 p\\n                     :ARG2 (p2 / person\\n                               :ARG0-of (l / lead-02)\\n                               :example (p3 / person\\n                                            :wiki \"Vladimir_Putin\"\\n                                            :name (n2 / name\\n                                                      :op1 \"Vladimir\"\\n                                                      :op2 \"Putin\"))))))', '# ::snt Party media have since amped up the hagiography, casting Xi as the father of the nation and the man uniquely equipped to lead.\\n# ::tok Party media have since amped up the hagiography , casting Xi as the father of the nation and the man uniquely equipped to lead .\\n(a / amp-up-02\\n   :ARG0 (m2 / media\\n             :mod (p / party))\\n   :ARG1 (h / hagiography)\\n   :manner (c / cast-02\\n              :ARG0 m2\\n              :ARG1 (p2 / person\\n                        :wiki -\\n                        :name (n / name\\n                                 :op1 \"Xi\"))\\n              :ARG2 (a2 / and\\n                        :op1 (h2 / have-rel-role-91\\n                                 :ARG0 p2\\n                                 :ARG1 (n2 / nation)\\n                                 :ARG2 (f / father))\\n                        :op2 (m / man\\n                                :ARG1-of (e / equip-01\\n                                            :ARG2 (l / lead-02\\n                                                     :ARG0 m)\\n                                            :manner (u / unique)))))\\n   :time (s / since))', '# ::snt Party media have since amped up the hagiography, casting Xi as the father of the nation.\\n# ::tok Party media have since amped up the hagiography , casting Xi as the father of the nation .\\n(a / amp-up-02\\n   :ARG0 (m / media\\n            :mod (p / party))\\n   :ARG1 (h / hagiography)\\n   :manner (c / cast-02\\n              :ARG0 m\\n              :ARG1 (p2 / person\\n                        :wiki -\\n                        :name (n / name\\n                                 :op1 \"Xi\"))\\n              :ARG2 (p3 / person\\n                        :ARG0-of (h2 / have-rel-role-91\\n                                     :ARG1 (n2 / nation)\\n                                     :ARG2 (f / father))))\\n   :time (s / since))', '# ::snt Party media have since amped up the hagiography, casting Xi as the man uniquely equipped to lead.\\n# ::tok Party media have since amped up the hagiography , casting Xi as the man uniquely equipped to lead .\\n(a / amp-up-02\\n   :ARG0 (m2 / media\\n             :mod (p / party))\\n   :ARG1 (h / hagiography)\\n   :manner (c / cast-02\\n              :ARG0 m2\\n              :ARG1 (p2 / person\\n                        :wiki -\\n                        :name (n / name\\n                                 :op1 \"Xi\"))\\n              :ARG2 (m / man\\n                       :ARG1-of (e / equip-01\\n                                   :ARG1-of (u / unique-01)\\n                                   :ARG2 (l / lead-02\\n                                            :ARG0 m))))\\n   :time (s / since))', '# ::snt Party media have since amped up the hagiography, casting Xi as the father of the man uniquely equipped to lead.\\n# ::tok Party media have since amped up the hagiography , casting Xi as the father of the man uniquely equipped to lead .\\n(a / amp-up-02\\n   :ARG0 (m2 / media\\n             :mod (p / party))\\n   :ARG1 (h / hagiography)\\n   :manner (c / cast-02\\n              :ARG0 m2\\n              :ARG1 (p2 / person\\n                        :wiki -\\n                        :name (n / name\\n                                 :op1 \"Xi\"))\\n              :ARG2 (h2 / have-rel-role-91\\n                        :ARG0 p2\\n                        :ARG1 (m / man\\n                                 :ARG1-of (e / equip-01\\n                                             :ARG2 (l / lead-02\\n                                                      :ARG0 m)\\n                                             :manner (u / unique)))\\n                        :ARG2 (f / father)))\\n   :time (s / since))', '# ::snt The latest fatal incident, reported Monday morning, killed a 17-year-old boy and wounded a woman.\\n# ::tok The latest fatal incident , reported Monday morning , killed a 17 - year - old boy and wounded a woman .\\n(a / and\\n    :op1 (k / kill-01\\n        :ARG0 (i / incident\\n            :ARG1-of (r / report-01\\n                :time (d / date-entity\\n                    :dayperiod (m2 / morning)\\n                    :weekday (m / monday)))\\n            :mod (f / fatal)\\n            :mod (l / last))\\n        :ARG1 (b / boy\\n            :age (t / temporal-quantity\\n                :quant 17\\n                :unit (y / year))))\\n    :op2 (w2 / wound-01\\n        :ARG0 i\\n        :ARG1 (w / woman)))', '# ::snt The latest incident, reported Monday morning, killed a 17-year-old boy and wounded a woman.\\n# ::tok The latest incident , reported Monday morning , killed a 17 - year - old boy and wounded a woman .\\n(a / and\\n    :op1 (k / kill-01\\n        :ARG0 (i / incident\\n            :ARG1-of (r / report-01\\n                :time (d / date-entity\\n                    :dayperiod (m2 / morning)\\n                    :weekday (m / monday)))\\n            :mod (l / last))\\n        :ARG1 (b / boy\\n            :age (t / temporal-quantity\\n                :quant 17\\n                :unit (y / year))))\\n    :op2 (w2 / wound-01\\n        :ARG0 i\\n        :ARG1 (w / woman)))', '# ::snt Police also responded around 11:50 a.m. Monday to the report of an explosion in southeast Austin in which a woman was badly injured.\\n# ::tok Police also responded around 11:50 a.m. Monday to the report of an explosion in southeast Austin in which a woman was badly injured .\\n(r2 / respond-01\\n    :ARG0 (p / police)\\n    :ARG1 (r / report-01\\n             :ARG1 (e / explode-01\\n                      :ARG0-of (i / injure-01\\n                                  :ARG1 (w / woman)\\n                                  :ARG1-of (b / bad-05))\\n                      :location (s / southeast\\n                                   :part-of (c / city\\n                                               :wiki \"Austin,_Texas\"\\n                                               :name (n / name\\n                                                        :op1 \"Austin\")))))\\n    :mod (a / also)\\n    :time (a2 / around\\n              :op1 (d / date-entity\\n                      :time \"11:50\"\\n                      :weekday (m / monday))))', '# ::snt Police also responded around 11:50 a.m. Monday to the report of a blast in southeast Austin in which a woman was badly injured.\\n# ::tok Police also responded around 11:50 a.m. Monday to the report of a blast in southeast Austin in which a woman was badly injured .\\n(r2 / respond-01\\n    :ARG0 (p / police)\\n    :ARG1 (r / report-01\\n             :ARG1 (b2 / blast-05\\n                       :ARG0-of (i / injure-01\\n                                   :ARG1 (w / woman)\\n                                   :ARG1-of (b / bad-05))\\n                       :location (s / southeast\\n                                    :part-of (c / city\\n                                                :wiki \"Austin,_Texas\"\\n                                                :name (n / name\\n                                                         :op1 \"Austin\")))))\\n    :mod (a / also)\\n    :time (a2 / around\\n              :op1 (d / date-entity\\n                      :time \"11:50\"\\n                      :weekday (m / monday))))', '# ::snt The announcement represents a significant hardening of Britain\\'s posture toward Russia, with which it has had a valuable intelligence-sharing relationship.\\n# ::tok The announcement represents a significant hardening of Britain \\'s posture toward Russia , with which it has had a valuable intelligence - sharing relationship .\\n(r2 / represent-01\\n    :ARG0 (t / thing\\n             :ARG1-of (a / announce-01))\\n    :ARG1 (h / harden-01\\n             :ARG1 (p / posture-01\\n                      :ARG0 (c / country\\n                               :wiki \"United_Kingdom\"\\n                               :name (n / name\\n                                        :op1 \"Britain\"))\\n                      :ARG2 (c2 / country\\n                                :wiki \"Russia\"\\n                                :name (n2 / name\\n                                          :op1 \"Russia\")\\n                                :ARG2-of (r / relation-03\\n                                            :ARG0 c\\n                                            :ARG1 (s / share-01\\n                                                     :ARG1 (i / intelligence))\\n                                            :ARG1-of (v / value-02))))\\n             :ARG1-of (s2 / significant-02)))', '# ::snt The announcement represents a slight hardening of Britain\\'s posture toward Russia, with which it has had a valuable intelligence-sharing relationship.\\n# ::tok The announcement represents a slight hardening of Britain \\'s posture toward Russia , with which it has had a valuable intelligence - sharing relationship .\\n(r2 / represent-01\\n    :ARG0 (t / thing\\n             :ARG1-of (a / announce-01))\\n    :ARG1 (h / harden-01\\n             :ARG1 (p / posture-01\\n                      :ARG0 (c / country\\n                               :wiki \"United_Kingdom\"\\n                               :name (n / name\\n                                        :op1 \"Britain\"))\\n                      :ARG2 (c2 / country\\n                                :wiki \"Russia\"\\n                                :name (n2 / name\\n                                          :op1 \"Russia\")\\n                                :ARG2-of (r / relation-03\\n                                            :ARG0 c\\n                                            :ARG1 (s / share-01\\n                                                     :ARG1 (i / intelligence))\\n                                            :ARG1-of (v / value-02))))\\n             :degree (s2 / slight)))', '# ::snt The announcement represents a significant change in Britain\\'s posture toward Russia, with which it has had a valuable intelligence-sharing relationship.\\n# ::tok The announcement represents a significant change in Britain \\'s posture toward Russia , with which it has had a valuable intelligence - sharing relationship .\\n(r2 / represent-01\\n    :ARG0 (t / thing\\n             :ARG1-of (a / announce-01))\\n    :ARG1 (c / change-01\\n             :ARG1 (p / posture-01\\n                      :ARG0 (c2 / country\\n                                :wiki \"United_Kingdom\"\\n                                :name (n / name\\n                                         :op1 \"Britain\"))\\n                      :ARG2 (c3 / country\\n                                :wiki \"Russia\"\\n                                :name (n2 / name\\n                                          :op1 \"Russia\")\\n                                :ARG2-of (r / relation-03\\n                                            :ARG0 c2\\n                                            :ARG1 (s / share-01\\n                                                     :ARG1 (i / intelligence))\\n                                            :ARG1-of (v / value-02))))\\n             :ARG1-of (s2 / significant-02)))', '# ::snt Tillerson cut his trip short Monday to fly home, and his spokesman said Tuesday that the secretary of state was “unaware of the reason” for his firing and had not spoken directly with Trump.\\n# ::tok Tillerson cut his trip short Monday to fly home , and his spokesman said Tuesday that the secretary of state was \" unaware of the reason” for his firing and had not spoken directly with Trump .\\n(a / and\\n   :op1 (c / cut-02\\n           :purpose (f2 / fly-01\\n                        :ARG1 (p / person\\n                                 :wiki \"Rex_Tillerson\"\\n                                 :name (n / name\\n                                          :op1 \"Tillerson\")\\n                                 :ARG0-of (h2 / have-org-role-91\\n                                              :ARG2 (s2 / secretary\\n                                                        :topic (f3 / foreign))))\\n                        :destination (h3 / home))\\n           :ARG0 p\\n           :ARG1 (t / trip-03\\n                    :ARG0 p\\n                    :ARG1-of (s3 / short-07))\\n           :time (d / date-entity\\n                    :weekday (m / monday)))\\n   :op2 (s / say-01\\n           :ARG0 (p2 / person\\n                     :ARG0-of (h / have-org-role-91\\n                                 :ARG1 p\\n                                 :ARG2 (s5 / spokesman)))\\n           :ARG1 (a2 / and\\n                     :op1 (r / realize-01\\n                             :polarity -\\n                             :ARG0 p\\n                             :ARG1 (f / fire-02\\n                                      :ARG1 p))\\n                     :op2 (s4 / speak-01\\n                              :polarity -\\n                              :ARG0 p\\n                              :ARG1-of (d3 / direct-02)\\n                              :ARG2 (p3 / person\\n                                        :wiki \"Donald_Trump\"\\n                                        :name (n2 / name\\n                                                  :op1 \"Trump\"))))\\n           :time (d2 / date-entity\\n                     :weekday (t2 / tuesday))))', '# ::snt Tillerson cut his trip short Monday to take a train home, and his spokesman said Tuesday that the secretary of state was “unaware of the reason” for his firing and had not spoken directly with Trump.\\n# ::tok Tillerson cut his trip short Monday to take a train home , and his spokesman said Tuesday that the secretary of state was \" unaware of the reason” for his firing and had not spoken directly with Trump .\\n(a / and\\n   :op1 (c / cut-02\\n           :purpose (t / take-01\\n                       :ARG0 (p / person\\n                                :wiki \"Rex_Tillerson\"\\n                                :name (n / name\\n                                         :op1 \"Tillerson\")\\n                                :ARG0-of (h2 / have-org-role-91\\n                                             :ARG2 (s2 / secretary\\n                                                       :topic (f2 / foreign))))\\n                       :ARG1 (t2 / train\\n                                 :ARG3 (h3 / home)))\\n           :ARG0 p\\n           :ARG1 (t3 / trip-03\\n                     :ARG0 p\\n                     :ARG1-of (s3 / short-07))\\n           :time (d / date-entity\\n                    :weekday (m / monday)))\\n   :op2 (s / say-01\\n           :ARG0 (p2 / person\\n                     :ARG0-of (h / have-org-role-91\\n                                 :ARG1 p\\n                                 :ARG2 (s5 / spokesman)))\\n           :ARG1 (a2 / and\\n                     :op1 (r / realize-01\\n                             :polarity -\\n                             :ARG0 p\\n                             :ARG1 (f / fire-02\\n                                      :ARG1 p))\\n                     :op2 (s4 / speak-01\\n                              :polarity -\\n                              :ARG0 p\\n                              :ARG1-of (d3 / direct-02)\\n                              :ARG2 (p3 / person\\n                                        :wiki \"Donald_Trump\"\\n                                        :name (n2 / name\\n                                                  :op1 \"Trump\"))))\\n           :time (d2 / date-entity\\n                     :weekday (t4 / tuesday))))', '# ::snt Tillerson cut his trip short Monday to take a plane home, and his spokesman said Tuesday that the secretary of state was “unaware of the reason” for his firing and had not spoken directly with Trump.\\n# ::tok Tillerson cut his trip short Monday to take a plane home , and his spokesman said Tuesday that the secretary of state was \" unaware of the reason” for his firing and had not spoken directly with Trump .\\n(a / and\\n   :op1 (c / cut-02\\n           :purpose (t / take-01\\n                       :ARG0 (p / person\\n                                :wiki \"Rex_Tillerson\"\\n                                :name (n / name\\n                                         :op1 \"Tillerson\")\\n                                :ARG0-of (h2 / have-org-role-91\\n                                             :ARG2 (s2 / secretary\\n                                                       :topic (f2 / foreign))))\\n                       :ARG1 (p4 / plane)\\n                       :ARG3 (h3 / home))\\n           :ARG0 p\\n           :ARG1 (t2 / trip-03\\n                     :ARG0 p\\n                     :ARG1-of (s3 / short-07))\\n           :time (d / date-entity\\n                    :weekday (m / monday)))\\n   :op2 (s / say-01\\n           :ARG0 (p2 / person\\n                     :ARG0-of (h / have-org-role-91\\n                                 :ARG1 p\\n                                 :ARG2 (s5 / spokesman)))\\n           :ARG1 (a2 / and\\n                     :op1 (r / realize-01\\n                             :polarity -\\n                             :ARG0 p\\n                             :ARG1 (f / fire-02\\n                                      :ARG1 p))\\n                     :op2 (s4 / speak-01\\n                              :polarity -\\n                              :ARG0 p\\n                              :ARG1-of (d3 / direct-02)\\n                              :ARG2 (p3 / person\\n                                        :wiki \"Donald_Trump\"\\n                                        :name (n2 / name\\n                                                  :op1 \"Trump\"))))\\n           :time (d2 / date-entity\\n                     :weekday (t3 / tuesday))))', '# ::snt Tillerson cut his trip short Monday to go home by air, and his spokesman said Tuesday that the secretary of state was “unaware of the reason” for his firing and had not spoken directly with Trump.\\n# ::tok Tillerson cut his trip short Monday to go home by air , and his spokesman said Tuesday that the secretary of state was \" unaware of the reason” for his firing and had not spoken directly with Trump .\\n(a2 / and\\n    :op1 (c / cut-02\\n            :purpose (g / go-02\\n                        :ARG0 (p / person\\n                                 :wiki \"Rex_Tillerson\"\\n                                 :name (n / name\\n                                          :op1 \"Tillerson\")\\n                                 :ARG0-of (h2 / have-org-role-91\\n                                              :ARG2 (s2 / secretary\\n                                                        :topic (f2 / foreign))))\\n                        :ARG4 (h3 / home)\\n                        :manner (a / air))\\n            :ARG0 p\\n            :ARG1 (t / trip-03\\n                     :ARG0 p\\n                     :ARG1-of (s3 / short-07))\\n            :time (d / date-entity\\n                     :weekday (m / monday)))\\n    :op2 (s / say-01\\n            :ARG0 (p2 / person\\n                      :ARG0-of (h / have-org-role-91\\n                                  :ARG1 p\\n                                  :ARG2 (s5 / spokesman)))\\n            :ARG1 (a3 / and\\n                      :op1 (r / realize-01\\n                              :polarity -\\n                              :ARG0 p\\n                              :ARG1 (f / fire-02\\n                                       :ARG1 p))\\n                      :op2 (s4 / speak-01\\n                               :polarity -\\n                               :ARG0 p\\n                               :ARG1-of (d3 / direct-02)\\n                               :ARG2 (p3 / person\\n                                         :wiki \"Donald_Trump\"\\n                                         :name (n2 / name\\n                                                   :op1 \"Trump\"))))\\n            :time (d2 / date-entity\\n                      :weekday (t2 / tuesday))))', '# ::snt The announcement of Tillerson’s departure sent shock waves across the globe.\\n# ::tok The announcement of Tillerson’s departure sent shock waves across the globe .\\n(s / send-01\\n    :ARG0 (a2 / announce-01\\n        :ARG1 (d / depart-01))\\n    :ARG1 (w / wave\\n        :ARG0-of (s2 / shock-01))\\n    :ARG2 (a / across\\n        :op1 (g / globe)))', '# ::snt People across the globe were not expecting Tillerson\\'s departure.\\n# ::tok People across the globe were not expecting Tillerson \\'s departure .\\n(e / expect-01\\n   :polarity -\\n   :ARG0 (p / person\\n            :location (a / across\\n                         :op1 (g / globe)))\\n   :ARG1 (d / depart-01\\n            :ARG0 (p2 / person\\n                      :wiki -\\n                      :name (n / name\\n                               :op1 \"Tillerson\"))))', '# ::snt People across the globe were prepared for Tillerson\\'s departure.\\n# ::tok People across the globe were prepared for Tillerson \\'s departure .\\n(p3 / prepare-02\\n    :ARG1 (p / person\\n             :location (a / across\\n                          :op1 (g / globe)))\\n    :ARG2 (d / depart-01\\n             :ARG0 (p2 / person\\n                       :wiki -\\n                       :name (n / name\\n                                :op1 \"Tillerson\"))))', '# ::snt LaBeouf had tried to bum a smoke from two strangers, unaware that one of them was a police officer.\\n# ::tok LaBeouf had tried to bum a smoke from two strangers , unaware that one of them was a police officer .\\n(t / try-01\\n   :ARG0 (p / person\\n            :wiki \"Shia_LaBeouf\"\\n            :name (n / name\\n                     :op1 \"LaBeouf\"))\\n   :ARG1 (b / bum-01\\n            :ARG0 p\\n            :ARG1 (s / smoke-02\\n                     :ARG0 (s2 / stranger\\n                               :quant 2)))\\n   :manner (r / realize-01\\n              :polarity -\\n              :ARG0 p\\n              :ARG1 (p2 / person\\n                        :quant 1\\n                        :ARG0-of (h / have-org-role-91\\n                                    :ARG1 (p3 / police)\\n                                    :ARG2 (o / officer))\\n                        :ARG1-of (i / include-91\\n                                    :ARG2 s2))))', '# ::snt LaBeouf had tried to bum a smoke from a police officer.\\n# ::tok LaBeouf had tried to bum a smoke from a police officer .\\n(t / try-01\\n   :ARG0 (p / person\\n            :wiki \"Shia_LaBeouf\"\\n            :name (n / name\\n                     :op1 \"LaBeouf\"))\\n   :ARG1 (b / bum-01\\n            :ARG0 p\\n            :ARG1 (s / smoke-02\\n                     :ARG0 (p2 / person\\n                               :ARG0-of (h / have-org-role-91\\n                                           :ARG1 (p3 / police)\\n                                           :ARG2 (o / officer))))))', '# ::snt LaBeouf knowingly had tried to bum a smoke from a police officer.\\n# ::tok LaBeouf knowingly had tried to bum a smoke from a police officer .\\n(t / try-01\\n   :ARG0 (p / person\\n            :wiki \"Shia_LaBeouf\"\\n            :name (n / name\\n                     :op1 \"LaBeouf\"))\\n   :ARG1 (b / bum-01\\n            :ARG0 p\\n            :ARG1 (s / smoke-02\\n                     :ARG0 (p2 / person\\n                               :ARG0-of (h / have-org-role-91\\n                                           :ARG1 (p3 / police)\\n                                           :ARG2 (o / officer)))))\\n   :ARG1-of (k / know-01\\n               :ARG0 p))', \"# ::snt After being denied, he grew angry and ignored the police officer's warnings to relax, so he was handcuffed and taken to the station.\\n# ::tok After being denied , he grew angry and ignored the police officer 's warnings to relax , so he was handcuffed and taken to the station .\\n(c / cause-01\\n    :ARG0 (a2 / and\\n        :op1 (g / grow-02\\n            :ARG1 (h2 / he)\\n            :ARG2 (a4 / anger-01\\n                :ARG1 h2))\\n        :op2 (i / ignore-01\\n            :ARG0 h2\\n            :ARG1 (w / warn-01\\n                :ARG0 (o / officer\\n                    :mod (p / police))\\n                :ARG1 (r / relax-01\\n                    :ARG1 h2)\\n                :ARG2 h2))\\n        :time (a / after\\n            :op1 (d / deny-01\\n                :ARG2 h2)))\\n    :ARG1 (a3 / and\\n        :op1 (h / handcuff-01\\n            :ARG1 h2)\\n        :op2 (t / take-01\\n            :ARG1 h2\\n            :ARG3 (s / station))))\", \"# ::snt After being denied, he grew angry and ignored the police officer's warnings to relax, so he was arrested.\\n# ::tok After being denied , he grew angry and ignored the police officer 's warnings to relax , so he was arrested .\\n(a2 / and\\n    :ARG0-of (c / cause-01\\n        :ARG1 (a4 / arrest-01\\n            :ARG1 (h / he)))\\n    :op1 (g / grow-02\\n        :ARG1 h\\n        :ARG2 (a3 / anger-01\\n            :ARG1 h))\\n    :op2 (i / ignore-01\\n        :ARG0 h\\n        :ARG1 (w / warn-01\\n            :ARG0 (o / officer\\n                :mod (p / police))\\n            :ARG1 (r / relax-01\\n                :ARG1 h)\\n            :ARG2 h))\\n    :time (a / after\\n        :op1 (d / deny-01\\n            :ARG2 h)))\", \"# ::snt After being denied, he grew angry and ignored the police officer's warnings to relax, so he was escorted home.\\n# ::tok After being denied , he grew angry and ignored the police officer 's warnings to relax , so he was escorted home .\\n(c / cause-01\\n    :ARG0 (a2 / and\\n        :op1 (g / grow-02\\n            :ARG1 (h / he)\\n            :ARG2 (a3 / anger-01\\n                :ARG1 h))\\n        :op2 (i / ignore-01\\n            :ARG0 h\\n            :ARG1 (w / warn-01\\n                :ARG0 (o / officer\\n                    :mod (p / police))\\n                :ARG1 (r / relax-01\\n                    :ARG1 h)\\n                :ARG2 h))\\n        :time (a / after\\n            :op1 (d / deny-01\\n                :ARG2 h)))\\n    :ARG1 (e / escort-01\\n        :ARG1 h\\n        :ARG4 (h2 / home)))\", '# ::snt Marc Sims has been seeing his barber once a week, for several years.\\n# ::tok Marc Sims has been seeing his barber once a week , for several years .\\n(s / see-01\\n   :ARG0 (p / person\\n            :wiki -\\n            :name (n / name\\n                     :op1 \"Marc\"\\n                     :op2 \"Sims\"))\\n   :ARG1 (p2 / person\\n             :ARG0-of (h / have-rel-role-91\\n                         :ARG1 p\\n                         :ARG2 (b / barber)))\\n   :duration (s2 / several\\n                 :op1 (t2 / temporal-quantity\\n                          :quant 1\\n                          :unit (y / year)))\\n   :frequency (r / rate-entity-91\\n                 :ARG1 1\\n                 :ARG2 (t / temporal-quantity\\n                          :quant 1\\n                          :unit (w / week))))', '# ::snt Marc Sims has been getting his hair cut once a week, for several years.\\n# ::tok Marc Sims has been getting his hair cut once a week , for several years .\\n(g / get-01\\n   :ARG0 (p / person\\n            :wiki -\\n            :name (n / name\\n                     :op1 \"Marc\"\\n                     :op2 \"Sims\"))\\n   :ARG1 (c / cut-02\\n            :ARG1 (h / hair\\n                     :part-of p))\\n   :duration (s / several\\n                :op1 (t2 / temporal-quantity\\n                         :quant 1\\n                         :unit (y / year)))\\n   :frequency (r / rate-entity-91\\n                 :ARG1 1\\n                 :ARG2 (t / temporal-quantity\\n                          :quant 1\\n                          :unit (w / week))))', '# ::snt Marc Sims has been cutting hair once a week, for several years.\\n# ::tok Marc Sims has been cutting hair once a week , for several years .\\n(c / cut-02\\n   :ARG0 (p / person\\n            :wiki -\\n            :name (n / name\\n                     :op1 \"Marc\"\\n                     :op2 \"Sims\"))\\n   :ARG1 (h / hair)\\n   :duration (s / several\\n                :op1 (t2 / temporal-quantity\\n                         :quant 1\\n                         :unit (y / year)))\\n   :frequency (r / rate-entity-91\\n                 :ARG1 1\\n                 :ARG2 (t / temporal-quantity\\n                          :quant 1\\n                          :unit (w / week))))', '# ::snt The event Mr. Hamdallah attended on Tuesday was the opening of a long-delayed wastewater treatment plant in Beit Lahia that is intended to serve 400,000 Gaza residents.\\n# ::tok The event Mr. Hamdallah attended on Tuesday was the opening of a long - delayed wastewater treatment plant in Beit Lahia that is intended to serve 400,000 Gaza residents .\\n(a / attend-01\\n   :ARG0 (p / person\\n            :wiki \"Rami_Hamdallah\"\\n            :name (n / name\\n                     :op1 \"Mr.\"\\n                     :op2 \"Hamdallah\"))\\n   :ARG1 (o / open-01\\n            :ARG1 (p3 / plant\\n                      :ARG0-of (t / treat-04\\n                                  :ARG1 (w / wastewater))\\n                      :ARG0-of (s / serve-01\\n                                  :ARG1 (p2 / person\\n                                            :quant 400000\\n                                            :ARG0-of (r / reside-01\\n                                                        :ARG1 (c2 / country-region\\n                                                                  :wiki \"Gaza_Strip\"\\n                                                                  :name (n3 / name\\n                                                                            :op1 \"Gaza\"))))\\n                                  :ARG1-of (i / intend-01))\\n                      :ARG1-of (d2 / delay-01\\n                                   :ARG1-of (l / long-03))\\n                      :location (c / city\\n                                   :wiki \"Beit_Lahia\"\\n                                   :name (n2 / name\\n                                             :op1 \"Beit\"\\n                                             :op2 \"Lahia\"))))\\n   :time (d / date-entity\\n            :weekday (t2 / tuesday)))', '# ::snt The event Mr. Hamdallah attended on Tuesday was the opening of a long-delayed water treatment plant in Beit Lahia that is intended to serve 400,000 Gaza residents.\\n# ::tok The event Mr. Hamdallah attended on Tuesday was the opening of a long - delayed water treatment plant in Beit Lahia that is intended to serve 400,000 Gaza residents .\\n(a / attend-01\\n   :ARG0 (p / person\\n            :wiki \"Rami_Hamdallah\"\\n            :name (n / name\\n                     :op1 \"Mr.\"\\n                     :op2 \"Hamdallah\"))\\n   :ARG1 (o / open-01\\n            :ARG1 (p3 / plant\\n                      :ARG0-of (t / treat-04\\n                                  :ARG1 (w / water))\\n                      :ARG0-of (s / serve-01\\n                                  :ARG1-of (i / intend-01)\\n                                  :ARG2 (p2 / person\\n                                            :quant 400000\\n                                            :ARG0-of (r / reside-01\\n                                                        :ARG1 (c2 / country-region\\n                                                                  :wiki \"Gaza_Strip\"\\n                                                                  :name (n3 / name\\n                                                                            :op1 \"Gaza\")))))\\n                      :ARG1-of (d2 / delay-01\\n                                   :ARG1-of (l / long-03))\\n                      :location (c / city\\n                                   :wiki \"Beit_Lahia\"\\n                                   :name (n2 / name\\n                                             :op1 \"Beit\"\\n                                             :op2 \"Lahia\"))))\\n   :time (d / date-entity\\n            :weekday (t2 / tuesday)))', '# ::snt Russia vowed Tuesday to retaliate if Britain imposes sanctions in response to a suspected chemical attack on British soil and demanded access to samples of a nerve agent that British investigators say they have identified as Russian.\\n# ::tok Russia vowed Tuesday to retaliate if Britain imposes sanctions in response to a suspected chemical attack on British soil and demanded access to samples of a nerve agent that British investigators say they have identified as Russian .\\n(a3 / and\\n    :op1 (v / vow-01\\n            :ARG0 (c2 / country\\n                      :wiki \"Russia\"\\n                      :name (n / name\\n                               :op1 \"Russia\"))\\n            :ARG1 (r2 / retaliate-01\\n                      :ARG0 c2\\n                      :condition (i2 / impose-01\\n                                     :ARG0 (c3 / country\\n                                               :wiki \"United_Kingdom\"\\n                                               :name (n2 / name\\n                                                         :op1 \"Britain\"))\\n                                     :ARG1 (t / thing\\n                                              :ARG2-of (s2 / sanction-02\\n                                                           :ARG0 c3))\\n                                     :ARG2-of (r / respond-01\\n                                                 :ARG0 c3\\n                                                 :ARG1 (a4 / attack-01\\n                                                           :ARG1-of (s5 / suspect-01)\\n                                                           :location (s4 / soil\\n                                                                         :mod c3)\\n                                                           :mod (c / chemical)))))\\n            :time (d / date-entity\\n                     :weekday (t2 / tuesday)))\\n    :op2 (d2 / demand-01\\n             :ARG0 c2\\n             :ARG1 (a / access-01\\n                      :ARG1 (s / sample-01\\n                               :ARG1 (a2 / agent\\n                                         :ARG1-of (i / identify-01\\n                                                     :ARG0 (p / person\\n                                                              :ARG0-of (i3 / investigate-01)\\n                                                              :mod c3)\\n                                                     :ARG1-of (s3 / say-01\\n                                                                  :ARG0 p)\\n                                                     :ARG2 c2)\\n                                         :mod (n3 / nerve))))))', '# ::snt British investigators say they have identified a nerve agent as Russian.\\n# ::tok British investigators say they have identified a nerve agent as Russian .\\n(s / say-01\\n   :ARG0 (p / person\\n            :ARG0-of (i2 / investigate-01)\\n            :mod (c / country\\n                    :wiki \"United_Kingdom\"\\n                    :name (n / name\\n                             :op1 \"Britain\")))\\n   :ARG1 (i / identify-01\\n            :ARG0 p\\n            :ARG1 (a / agent\\n                     :mod (n3 / nerve))\\n            :ARG2 (c2 / country\\n                      :wiki \"Russia\"\\n                      :name (n2 / name\\n                                :op1 \"Russia\"))))', '# ::snt Russians have identified a nerve agent used in a suspected chemical attack on British soil.\\n# ::tok Russians have identified a nerve agent used in a suspected chemical attack on British soil .\\n(i / identify-01\\n   :ARG0 (p / person\\n            :mod (c2 / country\\n                     :wiki \"Russia\"\\n                     :name (n / name\\n                              :op1 \"Russia\")))\\n   :ARG1 (a / agent\\n            :ARG1-of (u / use-01\\n                        :ARG2 (a2 / attack-01\\n                                  :ARG1-of (s2 / suspect-01)\\n                                  :location (s / soil\\n                                               :mod (c3 / country\\n                                                        :wiki \"United_Kingdom\"\\n                                                        :name (n2 / name\\n                                                                  :op1 \"Britain\")))\\n                                  :mod (c / chemical)))\\n            :mod (n3 / nerve)))', '# ::snt Lavrov insisted that Russian experts should be able to examine the British evidence but again denied Russian involvement in last week’s attack.\\n# ::tok Lavrov insisted that Russian experts should be able to examine the British evidence but again denied Russian involvement in last week’s attack .\\n(c / contrast-01\\n   :ARG1 (i / insist-01\\n            :ARG0 (p / person\\n                     :wiki \"Sergey_Lavrov\"\\n                     :name (n / name\\n                              :op1 \"Lavrov\"))\\n            :ARG1 (r / recommend-01\\n                     :ARG1 (p3 / possible-01\\n                               :ARG1 (e2 / examine-01\\n                                         :ARG0 (p2 / person\\n                                                   :ARG1-of (e3 / expert-01)\\n                                                   :mod (c2 / country\\n                                                            :wiki \"Russia\"\\n                                                            :name (n2 / name\\n                                                                      :op1 \"Russia\")))\\n                                         :ARG1 (t / thing\\n                                                  :ARG0-of (e / evidence-01)\\n                                                  :mod (c3 / country\\n                                                           :wiki \"United_Kingdom\"\\n                                                           :name (n3 / name\\n                                                                     :op1 \"Britain\")))))))\\n   :ARG2 (d / deny-01\\n            :ARG0 p\\n            :ARG1 (i2 / involve-01\\n                      :ARG1 c2\\n                      :ARG2 (a2 / attack-01\\n                                :mod (l / last)))\\n            :mod (a / again)))', '# ::snt Lavrov insisted that Russian experts should be able to examine the British evidence but again denied Russian responsibility for last week’s attack.\\n# ::tok Lavrov insisted that Russian experts should be able to examine the British evidence but again denied Russian responsibility for last week’s attack .\\n(c / contrast-01\\n   :ARG1 (i / insist-01\\n            :ARG0 (p / person\\n                     :wiki \"Sergey_Lavrov\"\\n                     :name (n / name\\n                              :op1 \"Lavrov\"))\\n            :ARG1 (r / recommend-01\\n                     :ARG1 (p4 / possible-01\\n                               :ARG1 (e2 / examine-01\\n                                         :ARG0 (p2 / person\\n                                                   :ARG0-of (h / have-org-role-91\\n                                                               :ARG2 (p3 / person\\n                                                                         :ARG1-of (e3 / expert-01)))\\n                                                   :mod (c2 / country\\n                                                            :wiki \"Russia\"\\n                                                            :name (n2 / name\\n                                                                      :op1 \"Russia\")))\\n                                         :ARG1 (t / thing\\n                                                  :ARG0-of (e / evidence-01\\n                                                              :mod (c3 / country\\n                                                                       :wiki \"United_Kingdom\"\\n                                                                       :name (n3 / name\\n                                                                                 :op1 \"Britain\"))))))))\\n   :ARG2 (d / deny-01\\n            :ARG0 p\\n            :ARG1 (r2 / responsible-01\\n                      :ARG0 c2\\n                      :ARG1 (a2 / attack-01\\n                                :mod (l / last)))\\n            :mod (a / again)))', '# ::snt Lavrov insisted that Russian experts should be able to examine the British evidence but again denied Russian ignorance of last week’s attack.\\n# ::tok Lavrov insisted that Russian experts should be able to examine the British evidence but again denied Russian ignorance of last week’s attack .\\n(c / contrast-01\\n   :ARG1 (i2 / insist-01\\n             :ARG0 (p / person\\n                      :wiki \"Sergey_Lavrov\"\\n                      :name (n / name\\n                               :op1 \"Lavrov\"))\\n             :ARG1 (r / recommend-01\\n                      :ARG1 (p3 / possible-01\\n                                :ARG1 (e2 / examine-01\\n                                          :ARG0 (p2 / person\\n                                                    :ARG1-of (e3 / expert-01)\\n                                                    :mod (c2 / country\\n                                                             :wiki \"Russia\"\\n                                                             :name (n2 / name\\n                                                                       :op1 \"Russia\")))\\n                                          :ARG1 (e / evidence-01\\n                                                   :ARG0 (c3 / country\\n                                                             :wiki \"United_Kingdom\"\\n                                                             :name (n3 / name\\n                                                                       :op1 \"Britain\")))))))\\n   :ARG2 (d / deny-01\\n            :ARG0 p\\n            :ARG1 (i / ignorant-02\\n                     :ARG1 c2\\n                     :ARG2 (a2 / attack-01\\n                               :mod (l / last)))\\n            :mod (a / again)))', '# ::snt Russia vowed Tuesday to retaliate if Britain imposes sanctions in response to a chemical attack on British soil and demanded access to samples of a nerve agent that British investigators say they have identified as Russian.\\n# ::tok Russia vowed Tuesday to retaliate if Britain imposes sanctions in response to a chemical attack on British soil and demanded access to samples of a nerve agent that British investigators say they have identified as Russian .\\n(a3 / and\\n    :op1 (v / vow-01\\n            :ARG0 (c2 / country\\n                      :wiki \"Russia\"\\n                      :name (n / name\\n                               :op1 \"Russia\"))\\n            :ARG1 (r2 / retaliate-01\\n                      :ARG0 c2\\n                      :condition (i2 / impose-01\\n                                     :ARG0 (c3 / country\\n                                               :wiki \"United_Kingdom\"\\n                                               :name (n2 / name\\n                                                         :op1 \"Britain\"))\\n                                     :ARG1 (t / thing\\n                                              :ARG2-of (s2 / sanction-02\\n                                                           :ARG0 c3))\\n                                     :ARG2-of (r / respond-01\\n                                                 :ARG0 c3\\n                                                 :ARG1 (a4 / attack-01\\n                                                           :location (s4 / soil\\n                                                                         :mod c3)\\n                                                           :mod (c / chemical)))))\\n            :time (d / date-entity\\n                     :weekday (t2 / tuesday)))\\n    :op2 (d2 / demand-01\\n             :ARG0 c2\\n             :ARG1 (a / access-01\\n                      :ARG1 (s / sample-01\\n                               :ARG1 (a2 / agent\\n                                         :ARG1-of (i / identify-01\\n                                                     :ARG0 (p / person\\n                                                              :ARG0-of (i3 / investigate-01)\\n                                                              :mod c3)\\n                                                     :ARG1-of (s3 / say-01\\n                                                                  :ARG0 p)\\n                                                     :ARG2 c2)\\n                                         :mod (n3 / nerve))))))', '# ::snt Russia vowed Tuesday to retaliate if Britain imposes sanctions in response to an attack on British soil and demanded access to samples of a nerve agent that British investigators say they have identified as Russian.\\n# ::tok Russia vowed Tuesday to retaliate if Britain imposes sanctions in response to an attack on British soil and demanded access to samples of a nerve agent that British investigators say they have identified as Russian .\\n(a3 / and\\n    :op1 (v / vow-01\\n            :ARG0 (c / country\\n                     :wiki \"Russia\"\\n                     :name (n / name\\n                              :op1 \"Russia\"))\\n            :ARG1 (r2 / retaliate-01\\n                      :ARG0 c\\n                      :condition (i2 / impose-01\\n                                     :ARG0 (c2 / country\\n                                               :wiki \"United_Kingdom\"\\n                                               :name (n2 / name\\n                                                         :op1 \"Britain\"))\\n                                     :ARG1 (t / thing\\n                                              :ARG2-of (s2 / sanction-02\\n                                                           :ARG0 c2))\\n                                     :ARG2-of (r / respond-01\\n                                                 :ARG0 c2\\n                                                 :ARG1 (a4 / attack-01\\n                                                           :ARG1 (s4 / soil\\n                                                                     :mod c2)))))\\n            :time (d / date-entity\\n                     :weekday (t2 / tuesday)))\\n    :op2 (d2 / demand-01\\n             :ARG0 c\\n             :ARG1 (a / access-01\\n                      :ARG1 (s / sample-01\\n                               :ARG1 (a2 / agent\\n                                         :ARG1-of (i / identify-01\\n                                                     :ARG0 (p / person\\n                                                              :ARG0-of (i3 / investigate-01)\\n                                                              :mod c2)\\n                                                     :ARG1-of (s3 / say-01\\n                                                                  :ARG0 p)\\n                                                     :ARG2 c)\\n                                         :mod (n3 / nerve))))))', '# ::snt Gina Haspel, the veteran CIA undercover officer President Donald Trump picked on Tuesday to head the agency, is supported by many in the U.S. intelligence community but has faced criticism for overseeing a secret CIA prison in Thailand where detainees were tortured.\\n# ::tok Gina Haspel , the veteran CIA undercover officer President Donald Trump picked on Tuesday to head the agency , is supported by many in the U.S. intelligence community but has faced criticism for overseeing a secret CIA prison in Thailand where detainees were tortured .\\n(c2 / contrast-01\\n    :ARG1 (s2 / support-01\\n              :ARG0 (p3 / person\\n                        :quant (m / many)\\n                        :ARG0-of (h3 / have-org-role-91\\n                                     :ARG1 (c / community\\n                                              :mod (i / intelligence)\\n                                              :mod (c3 / country\\n                                                       :wiki \"United_States\"\\n                                                       :name (n4 / name\\n                                                                 :op1 \"U.S.\")))))\\n              :ARG1 (p / person\\n                       :wiki \"Gina_Haspel\"\\n                       :name (n / name\\n                                :op1 \"Gina\"\\n                                :op2 \"Haspel\")\\n                       :ARG0-of (h / have-org-role-91\\n                                   :ARG1 (g / government-organization\\n                                            :wiki \"Central_Intelligence_Agency\"\\n                                            :name (n2 / name\\n                                                      :op1 \"CIA\"))\\n                                   :ARG2 (o / officer\\n                                            :mod (u / undercover)\\n                                            :mod (v / veteran)))\\n                       :ARG1-of (p5 / pick-01\\n                                    :ARG0 (p2 / person\\n                                              :wiki \"Donald_Trump\"\\n                                              :name (n3 / name\\n                                                        :op1 \"Donald\"\\n                                                        :op2 \"Trump\")\\n                                              :ARG0-of (h2 / have-org-role-91\\n                                                           :ARG2 (p6 / president)))\\n                                    :ARG2 (h4 / head-01\\n                                              :ARG0 g\\n                                              :ARG1 g)\\n                                    :time (d / date-entity\\n                                             :weekday (t2 / tuesday)))))\\n    :ARG2 (f / face-01\\n             :ARG0 p\\n             :ARG1 (c5 / criticize-01\\n                       :ARG1 p\\n                       :ARG2 (o2 / oversee-01\\n                                 :ARG0 p\\n                                 :ARG1 (p7 / prison\\n                                           :location (c4 / country\\n                                                         :wiki \"Thailand\"\\n                                                         :name (n5 / name\\n                                                                   :op1 \"Thailand\"))\\n                                           :location-of (t / torture-01\\n                                                           :ARG1 (p4 / person\\n                                                                     :ARG1-of (d2 / detain-01)))\\n                                           :mod (s / secret)\\n                                           :mod g)))))', '# ::snt Gina Haspel, the veteran CIA undercover officer President Donald Trump picked on Tuesday to head the agency, is supported by many in the U.S. intelligence community but has faced criticism for overseeing a CIA black site in Thailand where detainees were tortured.\\n# ::tok Gina Haspel , the veteran CIA undercover officer President Donald Trump picked on Tuesday to head the agency , is supported by many in the U.S. intelligence community but has faced criticism for overseeing a CIA black site in Thailand where detainees were tortured .\\n(c2 / contrast-01\\n    :ARG1 (s2 / support-01\\n              :ARG0 (p3 / person\\n                        :quant (m / many)\\n                        :ARG0-of (h3 / have-org-role-91\\n                                     :ARG1 (c / community\\n                                              :mod (i / intelligence)\\n                                              :mod (c3 / country\\n                                                       :wiki \"United_States\"\\n                                                       :name (n4 / name\\n                                                                 :op1 \"U.S.\")))))\\n              :ARG1 (p / person\\n                       :wiki \"Gina_Haspel\"\\n                       :name (n / name\\n                                :op1 \"Gina\"\\n                                :op2 \"Haspel\")\\n                       :ARG0-of (h / have-org-role-91\\n                                   :ARG1 (g / government-organization\\n                                            :wiki \"Central_Intelligence_Agency\"\\n                                            :name (n2 / name\\n                                                      :op1 \"CIA\"))\\n                                   :ARG2 (o / officer\\n                                            :mod (u / undercover)\\n                                            :mod (v / veteran)))\\n                       :ARG1-of (p5 / pick-01\\n                                    :ARG0 (p2 / person\\n                                              :wiki \"Donald_Trump\"\\n                                              :name (n3 / name\\n                                                        :op1 \"Donald\"\\n                                                        :op2 \"Trump\")\\n                                              :ARG0-of (h2 / have-org-role-91\\n                                                           :ARG2 (p6 / president)))\\n                                    :ARG2 (h4 / head-01\\n                                              :ARG0 g\\n                                              :ARG1 g)\\n                                    :time (d / date-entity\\n                                             :weekday (t2 / tuesday)))))\\n    :ARG2 (f / face-01\\n             :ARG0 p\\n             :ARG1 (c5 / criticize-01\\n                       :ARG1 p\\n                       :ARG2 (o2 / oversee-01\\n                                 :ARG0 p\\n                                 :ARG1 (s / site\\n                                          :ARG1-of (b / black-07)\\n                                          :location (c4 / country\\n                                                        :wiki \"Thailand\"\\n                                                        :name (n5 / name\\n                                                                  :op1 \"Thailand\"))\\n                                          :location-of (t / torture-01\\n                                                          :ARG1 (p4 / person\\n                                                                    :ARG1-of (d2 / detain-01)))\\n                                          :poss g)))))', '# ::snt Gina Haspel, the veteran CIA undercover officer President Donald Trump picked on Tuesday to head the agency, is supported by many in the U.S. intelligence community but has faced criticism for overseeing a clandestine CIA prison in Thailand where detainees were tortured.\\n# ::tok Gina Haspel , the veteran CIA undercover officer President Donald Trump picked on Tuesday to head the agency , is supported by many in the U.S. intelligence community but has faced criticism for overseeing a clandestine CIA prison in Thailand where detainees were tortured .\\n(c3 / contrast-01\\n    :ARG1 (s / support-01\\n             :ARG0 (p3 / person\\n                       :quant (m / many)\\n                       :ARG0-of (h3 / have-org-role-91\\n                                    :ARG1 (c2 / community\\n                                              :mod (i / intelligence)\\n                                              :mod (c4 / country\\n                                                       :wiki \"United_States\"\\n                                                       :name (n4 / name\\n                                                                 :op1 \"U.S.\")))))\\n             :ARG1 (p / person\\n                      :wiki \"Gina_Haspel\"\\n                      :name (n / name\\n                               :op1 \"Gina\"\\n                               :op2 \"Haspel\")\\n                      :ARG0-of (h / have-org-role-91\\n                                  :ARG1 (g / government-organization\\n                                           :wiki \"Central_Intelligence_Agency\"\\n                                           :name (n2 / name\\n                                                     :op1 \"CIA\"))\\n                                  :ARG2 (o / officer\\n                                           :mod (u / undercover)\\n                                           :mod (v / veteran)))\\n                      :ARG1-of (p5 / pick-01\\n                                   :ARG0 (p2 / person\\n                                             :wiki \"Donald_Trump\"\\n                                             :name (n3 / name\\n                                                       :op1 \"Donald\"\\n                                                       :op2 \"Trump\")\\n                                             :ARG0-of (h2 / have-org-role-91\\n                                                          :ARG2 (p6 / president)))\\n                                   :ARG2 (h4 / head-01\\n                                             :ARG0 g\\n                                             :ARG1 g)\\n                                   :time (d / date-entity\\n                                            :weekday (t2 / tuesday)))))\\n    :ARG2 (f / face-01\\n             :ARG0 p\\n             :ARG1 (c6 / criticize-01\\n                       :ARG1 p\\n                       :ARG2 (o2 / oversee-01\\n                                 :ARG0 p\\n                                 :ARG1 (p7 / prison\\n                                           :location (c5 / country\\n                                                         :wiki \"Thailand\"\\n                                                         :name (n5 / name\\n                                                                   :op1 \"Thailand\"))\\n                                           :location-of (t / torture-01\\n                                                           :ARG1 (p4 / person\\n                                                                     :ARG1-of (d2 / detain-01)))\\n                                           :mod (c / clandestine)\\n                                           :mod g)))))', '# ::snt She could be opposed by all the Democrats, and some Republicans may also oppose her, including Senator Rand Paul, who has called a news conference on Wednesday to discuss the nomination.\\n# ::tok She could be opposed by all the Democrats , and some Republicans may also oppose her , including Senator Rand Paul , who has called a news conference on Wednesday to discuss the nomination .\\n(a3 / and\\n    :op1 (p6 / possible-01\\n             :ARG1 (o / oppose-01\\n                      :ARG0 (p / person\\n                               :ARG0-of (h / have-org-role-91\\n                                           :ARG1 (p4 / political-party\\n                                                     :wiki \"Democratic_Party_(United_States)\"\\n                                                     :name (n / name\\n                                                              :op1 \"Democrat\")))\\n                               :mod (a / all))\\n                      :ARG1 (s2 / she)))\\n    :op2 (p7 / possible-01\\n             :ARG1 (o2 / oppose-01\\n                       :ARG0 (p2 / person\\n                                 :quant (s3 / some)\\n                                 :ARG0-of (h2 / have-org-role-91\\n                                              :ARG1 (p5 / political-party\\n                                                        :wiki \"Republican_Party_(United_States)\"\\n                                                        :name (n2 / name\\n                                                                  :op1 \"Republican\"\\n                                                                  :op2 \"Party\")))\\n                                 :ARG2-of (i / include-91\\n                                             :ARG1 (p3 / person\\n                                                       :wiki \"Rand_Paul\"\\n                                                       :name (n3 / name\\n                                                                 :op1 \"Rand\"\\n                                                                 :op2 \"Paul\")\\n                                                       :ARG0-of (h3 / have-org-role-91\\n                                                                    :ARG2 (s / senator))\\n                                                       :ARG0-of (c / call-03\\n                                                                   :purpose (d2 / discuss-01\\n                                                                                :ARG0 p3\\n                                                                                :ARG1 (n5 / nominate-01))\\n                                                                   :ARG1 (c2 / conference\\n                                                                             :mod (n4 / news))\\n                                                                   :time (d / date-entity\\n                                                                            :weekday (w / wednesday))))))\\n                       :ARG1 s2\\n                       :mod (a2 / also))))', '# ::snt She could be opposed by every Democrat, and some Republicans may also oppose her, including Senator Rand Paul, who has called a news conference on Wednesday to discuss the nomination.\\n# ::tok She could be opposed by every Democrat , and some Republicans may also oppose her , including Senator Rand Paul , who has called a news conference on Wednesday to discuss the nomination .\\n(a2 / and\\n    :op1 (p6 / possible-01\\n             :ARG1 (o / oppose-01\\n                      :ARG0 (p / person\\n                               :ARG0-of (h / have-org-role-91\\n                                           :ARG1 (p4 / political-party\\n                                                     :wiki \"Democratic_Party_(United_States)\"\\n                                                     :name (n / name\\n                                                              :op1 \"Democrat\")))\\n                               :mod (e / every))\\n                      :ARG1 (s2 / she)))\\n    :op2 (p7 / possible-01\\n             :ARG1 (o2 / oppose-01\\n                       :ARG0 (p2 / person\\n                                 :quant (s3 / some)\\n                                 :ARG0-of (h2 / have-org-role-91\\n                                              :ARG1 (p5 / political-party\\n                                                        :wiki \"Republican_Party_(United_States)\"\\n                                                        :name (n2 / name\\n                                                                  :op1 \"Republican\"\\n                                                                  :op2 \"Party\")))\\n                                 :ARG2-of (i / include-91\\n                                             :ARG1 (p3 / person\\n                                                       :wiki \"Rand_Paul\"\\n                                                       :name (n3 / name\\n                                                                 :op1 \"Rand\"\\n                                                                 :op2 \"Paul\")\\n                                                       :ARG0-of (h3 / have-org-role-91\\n                                                                    :ARG2 (s / senator))\\n                                                       :ARG0-of (c / call-03\\n                                                                   :purpose (d2 / discuss-01\\n                                                                                :ARG0 p3\\n                                                                                :ARG1 (n5 / nominate-01))\\n                                                                   :ARG1 (c2 / conference\\n                                                                             :mod (n4 / news))\\n                                                                   :time (d / date-entity\\n                                                                            :weekday (w / wednesday))))))\\n                       :ARG1 s2\\n                       :mod (a / also))))', '# ::snt Twitch has routinely given away free games and in-game content to Twitch Prime subscribers in the past.\\n# ::tok Twitch has routinely given away free games and in - game content to Twitch Prime subscribers in the past .\\n(g3 / give-away-02\\n    :ARG0 (p4 / publication\\n              :wiki \"Twitch_(service)\"\\n              :name (n / name\\n                       :op1 \"Twitch\"))\\n    :ARG1 (a / and\\n             :op1 (g / game\\n                     :ARG1-of (f / free-03))\\n             :op2 (c / content\\n                     :mod (g2 / game)))\\n    :ARG2 (p2 / person\\n              :ARG0-of (s / subscribe-01\\n                          :ARG1 (p3 / product\\n                                    :wiki -\\n                                    :name (n2 / name\\n                                              :op1 \"Prime\"))))\\n    :mod (r / routine)\\n    :time (p / past))', '# ::snt Twitch has routinely given away free in-game content to Twitch Prime subscribers in the past.\\n# ::tok Twitch has routinely given away free in - game content to Twitch Prime subscribers in the past .\\n(g2 / give-away-02\\n    :ARG0 (b / broadcast-program\\n             :wiki \"List_of_most-subscribed_Twitch_channels\"\\n             :name (n / name\\n                      :op1 \"Twitch\"))\\n    :ARG1 (c / content\\n             :ARG1-of (f / free-03)\\n             :mod (g / game))\\n    :ARG2 (p2 / person\\n              :ARG0-of (s / subscribe-01\\n                          :ARG1 (p3 / product\\n                                    :wiki -\\n                                    :name (n2 / name\\n                                              :op1 \"Prime\"))))\\n    :mod (r / routine)\\n    :time (p / past))', '# ::snt Twitch has routinely given away games and in-game content to Twitch Prime subscribers in the past.\\n# ::tok Twitch has routinely given away games and in - game content to Twitch Prime subscribers in the past .\\n(g3 / give-away-02\\n    :ARG0 (b / broadcast-program\\n             :wiki \"List_of_most-subscribed_Twitch_channels\"\\n             :name (n / name\\n                      :op1 \"Twitch\"))\\n    :ARG1 (a / and\\n             :op1 (g / game)\\n             :op2 (c / content\\n                     :mod (g2 / game)))\\n    :ARG2 (p2 / person\\n              :ARG0-of (s / subscribe-01\\n                          :ARG1 (p3 / prime\\n                                    :mod b)))\\n    :mod (r / routine)\\n    :time (p / past))', '# ::snt Twitch has routinely given Twitch Prime subscribers free games and in-game content in the past.\\n# ::tok Twitch has routinely given Twitch Prime subscribers free games and in - game content in the past .\\n(g3 / give-01\\n    :ARG0 (c / company\\n             :wiki \"Twitch_(service)\"\\n             :name (n / name\\n                      :op1 \"Twitch\"))\\n    :ARG1 (a / and\\n             :op1 (g / game\\n                     :ARG1-of (f / free-03))\\n             :op2 (c2 / content\\n                      :mod (g2 / game)))\\n    :ARG2 (p2 / person\\n              :ARG0-of (s / subscribe-01\\n                          :ARG1 (p3 / product\\n                                    :wiki \"Twitch_(service)\"\\n                                    :name (n2 / name\\n                                              :op1 \"Twitch\"\\n                                              :op2 \"Prime\"))))\\n    :mod (r / routine)\\n    :time (p / past))', '# ::snt Twitch has rarely given Twitch Prime subscribers free games and in-game content in the past.\\n# ::tok Twitch has rarely given Twitch Prime subscribers free games and in - game content in the past .\\n(g3 / give-01\\n    :ARG0 (c / company\\n             :wiki \"Twitch_(service)\"\\n             :name (n / name\\n                      :op1 \"Twitch\"))\\n    :ARG1 (a / and\\n             :op1 (g / game\\n                     :ARG1-of (f / free-03))\\n             :op2 (c2 / content\\n                      :mod (g2 / game)))\\n    :ARG1-of (r / rare-02)\\n    :ARG2 (p2 / person\\n              :ARG0-of (s / subscribe-01\\n                          :ARG1 (p3 / product\\n                                    :wiki \"Twitch_(service)\"\\n                                    :name (n2 / name\\n                                              :op1 \"Twitch\"\\n                                              :op2 \"Prime\"))))\\n    :time (p / past))', '# ::snt All five of these games will be available to Prime members until March 31.\\n# ::tok All five of these games will be available to Prime members until March 31 .\\n(a2 / available-02\\n    :ARG1 (p / person\\n        :ARG0-of (h / have-org-role-91\\n            :ARG1 (p2 / prime)\\n            :ARG2 (m / member)))\\n    :ARG2 (g / game\\n        :quant 5\\n        :mod (t / this)\\n        :mod (a / all))\\n    :time (u / until\\n        :op1 (d / date-entity\\n            :day 31\\n            :month 3)))', '# ::snt Several games will be available to Prime members until March 31.\\n# ::tok Several games will be available to Prime members until March 31 .\\n(a / available-02\\n    :ARG1 (p / person\\n        :ARG0-of (h / have-org-role-91\\n            :ARG2 (m / member\\n                :mod (p2 / prime))))\\n    :ARG2 (g / game\\n        :quant (s / several))\\n    :time (u / until\\n        :op1 (d / date-entity\\n            :day 31\\n            :month 3)))', '# ::snt Future legislators should focus on [low taxes, limited regulation and local control] to maintain a predictable and reliable business climate, avoiding legislation that distracts from critical priorities and is viewed by many as enabling discrimination against certain groups or classes of Texans.\\n# ::tok Future legislators should focus on [ low taxes , limited regulation and local control ] to maintain a predictable and reliable business climate , avoiding legislation that distracts from critical priorities and is viewed by many as enabling discrimination against certain groups or classes of Texans .\\n(r / recommend-01\\n   :ARG1 (f / focus-01\\n            :purpose (m / maintain-01\\n                        :ARG0 (p / person\\n                                 :ARG0-of (l / legislate-01)\\n                                 :time (f2 / future))\\n                        :ARG1 (c3 / climate\\n                                  :ARG1-of (r3 / rely-01\\n                                               :ARG1-of (p4 / possible-01))\\n                                  :ARG1-of (p5 / predict-01\\n                                               :ARG1-of (p3 / possible-01))\\n                                  :mod (b / business)))\\n            :ARG0 p\\n            :ARG2 (a / and\\n                     :op1 (t / tax-01\\n                             :ARG1-of (l5 / low-04))\\n                     :op2 (r2 / regulate-01\\n                              :ARG1-of (l3 / limit-01))\\n                     :op3 (c4 / control-01\\n                              :ARG1-of (l4 / local-02)))\\n            :manner (a2 / avoid-01\\n                        :ARG0 p\\n                        :ARG1 (l2 / legislate-01\\n                                  :ARG0-of (d2 / distract-01\\n                                               :ARG2 (p6 / priority\\n                                                         :ARG1-of (c5 / critical-02)))\\n                                  :ARG1-of (v / view-02\\n                                              :ARG0 (m2 / many)\\n                                              :ARG2 (e / enable-01\\n                                                       :ARG0 l2\\n                                                       :ARG1 (d / discriminate-02\\n                                                                :ARG1 (o / or\\n                                                                         :op1 (g / group\\n                                                                                 :mod (c / certain))\\n                                                                         :op2 (c2 / class\\n                                                                                  :consist-of (p2 / person\\n                                                                                                  :mod (s / state\\n                                                                                                          :wiki \"Texas\"\\n                                                                                                          :name (n / name\\n                                                                                                                   :op1 \"Texas\")))\\n                                                                                  :mod c)))))))))', '# ::snt Future legislators should focus on [low taxes, limited regulation and local control] to maintain a predictable and reliable business climate, avoiding legislation that distracts from critical priorities and is viewed by many as enabling discrimination against certain groups of Texans.\\n# ::tok Future legislators should focus on [ low taxes , limited regulation and local control ] to maintain a predictable and reliable business climate , avoiding legislation that distracts from critical priorities and is viewed by many as enabling discrimination against certain groups of Texans .\\n(r / recommend-01\\n   :ARG1 (f / focus-01\\n            :purpose (m / maintain-01\\n                        :ARG0 (p / person\\n                                 :ARG0-of (l / legislate-01)\\n                                 :time (f2 / future))\\n                        :ARG1 (c2 / climate\\n                                  :ARG1-of (r3 / rely-01\\n                                               :ARG1-of (p4 / possible-01))\\n                                  :ARG1-of (p5 / predict-01\\n                                               :ARG1-of (p3 / possible-01))\\n                                  :mod (b / business)))\\n            :ARG0 p\\n            :ARG2 (a / and\\n                     :op1 (t / tax-01\\n                             :ARG1-of (l5 / low-04))\\n                     :op2 (r2 / regulate-01\\n                              :ARG1-of (l3 / limit-01))\\n                     :op3 (c3 / control-01\\n                              :ARG1-of (l4 / local-02)))\\n            :manner (a2 / avoid-01\\n                        :ARG0 p\\n                        :ARG1 (l2 / legislate-01\\n                                  :ARG0-of (d2 / distract-01\\n                                               :ARG2 (p6 / priority\\n                                                         :ARG1-of (c4 / critical-02)))\\n                                  :ARG1-of (v / view-02\\n                                              :ARG0 (m2 / many)\\n                                              :ARG2 (e / enable-01\\n                                                       :ARG0 l2\\n                                                       :ARG1 (d / discriminate-02\\n                                                                :ARG1 (p2 / person\\n                                                                          :mod (g / group\\n                                                                                  :mod (c / certain))\\n                                                                          :mod (s / state\\n                                                                                  :wiki \"Texas\"\\n                                                                                  :name (n / name\\n                                                                                           :op1 \"Texas\"))))))))))', '# ::snt Lt. Gov. Dan Patrick first unveiled a “bathroom bill” in January 2017, and for the first several months of debate, Abbott remained largely silent even as some cautioned that it would be bad for business.\\n# ::tok Lt . Gov . Dan Patrick first unveiled a \" bathroom bill” in January 2017 , and for the first several months of debate , Abbott remained largely silent even as some cautioned that it would be bad for business .\\n(a / and\\n   :op1 (u / unveil-01\\n           :ARG0 (p / person\\n                    :wiki \"Dan_Patrick_(politician)\"\\n                    :name (n / name\\n                             :op1 \"Dan\"\\n                             :op2 \"Patrick\")\\n                    :ARG0-of (h / have-org-role-91\\n                                :ARG2 (l2 / lieutenant-governor)))\\n           :ord (o / ordinal-entity\\n                   :value 1)\\n           :time (d / date-entity\\n                    :month 1\\n                    :year 2017))\\n   :op2 (r / remain-01\\n           :ARG1 (p2 / person\\n                     :wiki \"Edwin_Abbott_Abbott\"\\n                     :name (n2 / name\\n                               :op1 \"Abbott\"))\\n           :ARG3 (s2 / silent\\n                     :degree (l / large))\\n           :concession (e / even-as\\n                          :op1 (c / caution-01\\n                                  :ARG0 (s3 / some)\\n                                  :ARG1 (b / bad-04\\n                                           :ARG1 (b2 / bathroom)\\n                                           :ARG2 (b3 / business))))\\n           :duration (d2 / debate-01\\n                         :duration (s / several\\n                                      :op1 (t / temporal-quantity\\n                                              :quant 1\\n                                              :unit (m / month))\\n                                      :ord (o2 / ordinal-entity\\n                                               :value 1)))))', '# ::snt Abbott remained largely silent for the first several months of debate after Lt. Gov. Dan Patrick first unveiled a “bathroom bill” in January 2017, even as some cautioned that it would be bad for business.\\n# ::tok Abbott remained largely silent for the first several months of debate after Lt . Gov . Dan Patrick first unveiled a \" bathroom bill” in January 2017 , even as some cautioned that it would be bad for business .\\n(r / remain-01\\n   :ARG1 (c2 / company\\n             :wiki \"Abbott_Laboratories\"\\n             :name (n / name\\n                      :op1 \"Abbott\"))\\n   :ARG3 (s2 / silent\\n             :degree (l / large))\\n   :concession (e / even-as\\n                  :op1 (c / caution-01\\n                          :ARG0 (s3 / some)\\n                          :ARG1 (b / bad-04\\n                                   :ARG1 (b2 / bathroom)\\n                                   :ARG2 (b3 / business))))\\n   :time (d2 / debate-01\\n             :duration (s / several\\n                          :op1 (t / temporal-quantity\\n                                  :quant 1\\n                                  :unit (m / month))\\n                          :ord (o / ordinal-entity\\n                                  :value 1)))\\n   :time (a / after\\n            :op1 (u / unveil-01\\n                    :ARG0 (p / person\\n                             :wiki \"Dan_Patrick_(politician)\"\\n                             :name (n2 / name\\n                                       :op1 \"Dan\"\\n                                       :op2 \"Patrick\")\\n                             :ARG0-of (h / have-org-role-91\\n                                         :ARG2 (l2 / lieutenant-governor)))\\n                    :ord (o2 / ordinal-entity\\n                             :value 1)\\n                    :time (d / date-entity\\n                             :month 1\\n                             :year 2017))))', '# ::snt Abbott remained largely silent for the first several months of debate before Lt. Gov. Dan Patrick first unveiled a “bathroom bill” in January 2017, even as some cautioned that it would be bad for business.\\n# ::tok Abbott remained largely silent for the first several months of debate before Lt . Gov . Dan Patrick first unveiled a \" bathroom bill” in January 2017 , even as some cautioned that it would be bad for business .\\n(r / remain-01\\n   :ARG1 (c2 / company\\n             :wiki \"Abbott_Laboratories\"\\n             :name (n / name\\n                      :op1 \"Abbott\"))\\n   :ARG3 (s2 / silent\\n             :degree (l / large))\\n   :concession (e / even-as\\n                  :op1 (c / caution-01\\n                          :ARG0 (s3 / some)\\n                          :ARG1 (b / bad-04\\n                                   :ARG1 (b2 / bathroom)\\n                                   :ARG2 (b4 / business))))\\n   :time (d2 / debate-01\\n             :duration (s / several\\n                          :op1 (t / temporal-quantity\\n                                  :quant 1\\n                                  :unit (m / month))\\n                          :ord (o / ordinal-entity\\n                                  :value 1))\\n             :time (b3 / before\\n                       :op1 (u / unveil-01\\n                               :ARG0 (p / person\\n                                        :wiki \"Dan_Patrick_(politician)\"\\n                                        :name (n2 / name\\n                                                  :op1 \"Dan\"\\n                                                  :op2 \"Patrick\")\\n                                        :ARG0-of (h / have-org-role-91\\n                                                    :ARG2 (l2 / lieutenant-governor)))\\n                               :ord o\\n                               :time (d / date-entity\\n                                        :month 1\\n                                        :year 2017)))))', '# ::snt Lt. Gov. Dan Patrick first unveiled a “bathroom bill” in January 2017, and in the second month of debate, Abbott remained largely silent even as some cautioned that it would be bad for business.\\n# ::tok Lt . Gov . Dan Patrick first unveiled a \" bathroom bill” in January 2017 , and in the second month of debate , Abbott remained largely silent even as some cautioned that it would be bad for business .\\n(a / and\\n   :op1 (u / unveil-01\\n           :ARG0 (p / person\\n                    :wiki \"Dan_Patrick_(politician)\"\\n                    :name (n / name\\n                             :op1 \"Dan\"\\n                             :op2 \"Patrick\")\\n                    :ARG0-of (h / have-org-role-91\\n                                :ARG2 (l2 / lieutenant-governor)))\\n           :ord (o / ordinal-entity\\n                   :value 1)\\n           :time (d / date-entity\\n                    :month 1\\n                    :year 2017))\\n   :op2 (r / remain-01\\n           :ARG1 (p2 / person\\n                     :wiki \"Edwin_Abbott_Abbott\"\\n                     :name (n2 / name\\n                               :op1 \"Abbott\"))\\n           :ARG3 (s / silent\\n                    :degree (l / large))\\n           :concession (e / even-as\\n                          :op1 (c / caution-01\\n                                  :ARG0 (s2 / some)\\n                                  :ARG1 (b / bad-04\\n                                           :ARG1 (b2 / bathroom)\\n                                           :ARG2 (b3 / business))))\\n           :time (m / month\\n                    :ord (o2 / ordinal-entity\\n                             :value 2)\\n                    :time-of (d2 / debate-01))))', '# ::snt No bathroom bill made it to Abbott’s desk by the end of the legislative session in May.\\n# ::tok No bathroom bill made it to Abbott’s desk by the end of the legislative session in May .\\n(m / make-it-14\\n    :polarity -\\n    :ARG0 (b2 / bill\\n        :topic (b / bathroom))\\n    :ARG1 (d2 / desk)\\n    :time (b3 / by\\n        :op1 (e / end-01\\n            :ARG1 (s / session\\n                :mod (l / legislate-01)\\n                :time (d / date-entity\\n                    :month 5)))))', '# ::snt A bathroom bill made it to Abbott’s desk by the end of the legislative session in May.\\n# ::tok A bathroom bill made it to Abbott’s desk by the end of the legislative session in May .\\n(m / make-it-14\\n    :ARG0 (b2 / bill\\n        :topic (b / bathroom))\\n    :ARG1 (d2 / desk)\\n    :time (b3 / by\\n        :op1 (e / end-01\\n            :ARG1 (s / session\\n                :mod (l / legislate-01)\\n                :time (d / date-entity\\n                    :month 5)))))', '# ::snt No bills made it to Abbott’s desk by the end of the legislative session in May.\\n# ::tok No bills made it to Abbott’s desk by the end of the legislative session in May .\\n(m / make-it-14\\n    :polarity -\\n    :ARG0 (b / bill)\\n    :ARG1 (d2 / desk)\\n    :time (b2 / by\\n        :op1 (e / end-01\\n            :ARG1 (s / session\\n                :mod (l / legislate-01)\\n                :time (d / date-entity\\n                    :month 5)))))', '# ::snt A bill made it to Abbott’s desk by the end of the legislative session in May.\\n# ::tok A bill made it to Abbott’s desk by the end of the legislative session in May .\\n(m / make-it-14\\n    :ARG0 (b / bill)\\n    :ARG1 (d2 / desk)\\n    :time (b2 / by\\n        :op1 (e / end-01\\n            :ARG1 (s / session\\n                :mod (l / legislate-01)\\n                :time (d / date-entity\\n                    :month 5)))))', '# ::snt As with previous freebies, the games offered in this manner will be yours to keep permanently, though you\\'ll presumably need to use the Twitch desktop app in order to grab them.\\n# ::tok As with previous freebies , the games offered in this manner will be yours to keep permanently , though you \\'ll presumably need to use the Twitch desktop app in order to grab them .\\n(k / keep-01\\n   :ARG0 (y / you)\\n   :ARG1 (g / game\\n            :ARG1-of (o / offer-01\\n                        :manner (m / manner\\n                                   :mod (t / this))))\\n   :ARG1-of (r / resemble-01\\n               :ARG2 (f / freebie\\n                        :time (p3 / previous)))\\n   :concession (n2 / need-01\\n                   :ARG0 y\\n                   :ARG1 (u / use-01\\n                            :purpose (g2 / grab-01\\n                                         :ARG0 y\\n                                         :ARG1 g)\\n                            :ARG0 y\\n                            :ARG1 (a / app\\n                                     :wiki \"Twitch_(service)\"\\n                                     :name (n / name\\n                                              :op1 \"Twitch\")\\n                                     :mod (d / desktop)))\\n                   :ARG1-of (p2 / presume-01))\\n   :duration (p / permanent))', '# ::snt As with previous freebies, the games offered in this manner will be yours to keep permanently, though you\\'ll presumably need to use the Twitch desktop app in order to download them.\\n# ::tok As with previous freebies , the games offered in this manner will be yours to keep permanently , though you \\'ll presumably need to use the Twitch desktop app in order to download them .\\n(k / keep-01\\n   :ARG0 (y / you)\\n   :ARG1 (g / game\\n            :ARG1-of (o / offer-01\\n                        :manner (m / manner\\n                                   :mod (t / this))))\\n   :ARG1-of (r / resemble-01\\n               :ARG2 (f / freebie\\n                        :time (p3 / previous)))\\n   :concession (n2 / need-01\\n                   :ARG0 y\\n                   :ARG1 (u / use-01\\n                            :purpose (d2 / download-01\\n                                         :ARG0 y\\n                                         :ARG1 g)\\n                            :ARG0 y\\n                            :ARG1 (a / app\\n                                     :wiki \"Twitch_(service)\"\\n                                     :name (n / name\\n                                              :op1 \"Twitch\")\\n                                     :mod (d / desktop)))\\n                   :ARG1-of (p2 / presume-01))\\n   :duration (p / permanent))', '# ::snt From Maine to Hawaii, thousands of students planned to stage walkouts Wednesday to protest gun violence, one month after the deadly shooting inside a high school in Parkland, Florida.\\n# ::tok From Maine to Hawaii , thousands of students planned to stage walkouts Wednesday to protest gun violence , one month after the deadly shooting inside a high school in Parkland , Florida .\\n(p2 / plan-01\\n    :ARG0 (p / person\\n             :quant (m2 / multiple\\n                        :op1 1000)\\n             :ARG0-of (s6 / study-01))\\n    :ARG1 (s2 / stage-01\\n              :ARG0 p\\n              :ARG1 (w / walk-01\\n                       :purpose (p3 / protest-01\\n                                    :ARG0 p\\n                                    :ARG1 (v / violence\\n                                             :instrument (g / gun)))\\n                       :ARG0 p)\\n              :time (d / date-entity\\n                       :weekday (w2 / wednesday)))\\n    :source (b / between\\n               :op1 (s3 / state\\n                        :wiki \"Maine\"\\n                        :name (n / name\\n                                 :op1 \"Maine\"))\\n               :op2 (s4 / state\\n                        :wiki \"Hawaii\"\\n                        :name (n2 / name\\n                                  :op1 \"Hawaii\")))\\n    :time (a / after\\n             :quant (t / temporal-quantity\\n                       :quant 1\\n                       :unit (m / month))\\n             :op1 (s / shoot-02\\n                     :ARG0-of (k / kill-01)\\n                     :location (i / inside\\n                                  :op1 (h / high-school\\n                                          :wiki \"Parkland_High_School_(Pennsylvania)\"\\n                                          :name (n3 / name\\n                                                    :op1 \"Parkland\")\\n                                          :location (s5 / state\\n                                                        :wiki \"Florida\"\\n                                                        :name (n4 / name\\n                                                                  :op1 \"Florida\")))))))', '# ::snt From Maine to Hawaii, thousands of students planned to stage walkouts Wednesday to protest gun violence, two months after the deadly shooting inside a high school in Parkland, Florida.\\n# ::tok From Maine to Hawaii , thousands of students planned to stage walkouts Wednesday to protest gun violence , two months after the deadly shooting inside a high school in Parkland , Florida .\\n(p2 / plan-01\\n    :ARG0 (p / person\\n             :quant (m2 / multiple\\n                        :op1 1000)\\n             :ARG0-of (s6 / study-01))\\n    :ARG1 (s2 / stage-01\\n              :ARG0 p\\n              :ARG1 (w / walk-01\\n                       :purpose (p3 / protest-01\\n                                    :ARG0 p\\n                                    :ARG1 (v / violence\\n                                             :instrument (g / gun)))\\n                       :ARG0 p)\\n              :time (d / date-entity\\n                       :weekday (w2 / wednesday)))\\n    :source (b / between\\n               :op1 (s3 / state\\n                        :wiki \"Maine\"\\n                        :name (n / name\\n                                 :op1 \"Maine\"))\\n               :op2 (s4 / state\\n                        :wiki \"Hawaii\"\\n                        :name (n2 / name\\n                                  :op1 \"Hawaii\")))\\n    :time (a / after\\n             :quant (t / temporal-quantity\\n                       :quant 2\\n                       :unit (m / month))\\n             :op1 (s / shoot-02\\n                     :ARG0-of (k / kill-01)\\n                     :location (i / inside\\n                                  :op1 (h / high-school\\n                                          :wiki \"Parkland_High_School_(Pennsylvania)\"\\n                                          :name (n3 / name\\n                                                    :op1 \"Parkland\")\\n                                          :location (s5 / state\\n                                                        :wiki \"Florida\"\\n                                                        :name (n4 / name\\n                                                                  :op1 \"Florida\")))))))', '# ::snt A Tennessee House subcommittee has approved legislation to offer in-state tuition to public college students whose parents brought or kept them in the country illegally.\\n# ::tok A Tennessee House subcommittee has approved legislation to offer in - state tuition to public college students whose parents brought or kept them in the country illegally .\\n(a / approve-01\\n   :ARG0 (g / government-organization\\n            :wiki \"United_States_House_Committee_on_Oversight_and_Accountability\"\\n            :name (n2 / name\\n                      :op1 \"House\"\\n                      :op2 \"Subcommittee\")\\n            :mod (s / state\\n                    :wiki \"Tennessee\"\\n                    :name (n / name\\n                             :op1 \"Tennessee\")))\\n   :ARG1 (l2 / legislate-01\\n             :ARG1 (o / offer-01\\n                      :ARG1 (t / tuition\\n                               :location (s2 / state))\\n                      :ARG3 (p2 / person\\n                                :ARG0-of (s3 / study-01\\n                                             :location (c / college\\n                                                          :ARG1-of (p4 / public-02)))\\n                                :ARG1-of (h / have-rel-role-91\\n                                            :ARG2 (p / parent)\\n                                            :ARG2 (o2 / or\\n                                                      :op1 (b / bring-01\\n                                                              :ARG0 (p3 / person)\\n                                                              :ARG1 p2\\n                                                              :ARG2 (c2 / country))\\n                                                      :op2 (k / keep-01\\n                                                              :ARG0 p3\\n                                                              :ARG1 p2\\n                                                              :ARG1-of (l / legal-02\\n                                                                          :polarity -)\\n                                                              :location c2)))))))', '# ::snt A Tennessee House subcommittee has approved legislation to offer in-state tuition to public college students whose parents kept them in the country illegally.\\n# ::tok A Tennessee House subcommittee has approved legislation to offer in - state tuition to public college students whose parents kept them in the country illegally .\\n(a / approve-01\\n   :ARG0 (g / government-organization\\n            :wiki \"United_States_House_Committee_on_Oversight_and_Accountability\"\\n            :name (n2 / name\\n                      :op1 \"House\"\\n                      :op2 \"Subcommittee\")\\n            :mod (s / state\\n                    :wiki \"Tennessee\"\\n                    :name (n / name\\n                             :op1 \"Tennessee\")))\\n   :ARG1 (l2 / legislate-01\\n             :ARG1 (o / offer-01\\n                      :ARG1 (t / tuition\\n                               :location (s2 / state))\\n                      :ARG3 (p2 / person\\n                                :ARG0-of (s3 / study-01\\n                                             :location (c / college\\n                                                          :ARG1-of (p4 / public-02)))\\n                                :ARG1-of (h / have-rel-role-91\\n                                            :ARG0 (p3 / person\\n                                                      :ARG0-of (k / keep-01\\n                                                                  :ARG1 (b / be-located-at-91\\n                                                                           :ARG1 p2\\n                                                                           :ARG1-of (l / legal-02\\n                                                                                       :polarity -)\\n                                                                           :ARG2 (c2 / country))))\\n                                            :ARG2 (p / parent))))))', '# ::snt Missouri lawmakers are considering a government boycott of companies that boycott Israel.\\n# ::tok Missouri lawmakers are considering a government boycott of companies that boycott Israel .\\n(c2 / consider-02\\n    :ARG0 (p / person\\n             :ARG0-of (l / legislate-01)\\n             :mod (s / state\\n                     :wiki \"Missouri\"\\n                     :name (n / name\\n                              :op1 \"Missouri\")))\\n    :ARG1 (b / boycott-01\\n             :ARG0 (g2 / government-organization\\n                       :ARG0-of (g / govern-01))\\n             :ARG1 (c / company\\n                      :ARG0-of (b2 / boycott-01\\n                                   :ARG1 (c3 / country\\n                                             :wiki \"Israel\"\\n                                             :name (n2 / name\\n                                                       :op1 \"Israel\"))))))', '# ::snt Missouri lawmakers are considering a boycott of companies that boycott Israel.\\n# ::tok Missouri lawmakers are considering a boycott of companies that boycott Israel .\\n(c2 / consider-02\\n    :ARG0 (p / person\\n             :ARG0-of (l / legislate-01)\\n             :mod (s / state\\n                     :wiki \"Missouri\"\\n                     :name (n / name\\n                              :op1 \"Missouri\")))\\n    :ARG1 (b / boycott-01\\n             :ARG0 p\\n             :ARG1 (c / company\\n                      :ARG0-of (b2 / boycott-01\\n                                   :ARG1 (c3 / country\\n                                             :wiki \"Israel\"\\n                                             :name (n2 / name\\n                                                       :op1 \"Israel\"))))))', '# ::snt He said the United States intended to use the fake attack as a pretext to bomb the government quarter in nearby Damascus where he said Russian military advisers, Russian military police and Russian ceasefire monitors were based.\\n# ::tok He said the United States intended to use the fake attack as a pretext to bomb the government quarter in nearby Damascus where he said Russian military advisers , Russian military police and Russian ceasefire monitors were based .\\n(s / say-01\\n   :ARG0 (h / he)\\n   :ARG1 (i / intend-01\\n            :ARG0 (c3 / country\\n                      :wiki \"United_States\"\\n                      :name (n / name\\n                               :op1 \"United\"\\n                               :op2 \"States\"))\\n            :ARG1 (u / use-01\\n                     :ARG0 c3\\n                     :ARG1 (a3 / attack-01\\n                               :ARG1-of (f / fake-02))\\n                     :ARG2 (p4 / pretext\\n                               :purpose (b2 / bomb-01\\n                                            :ARG0 c3\\n                                            :ARG1 (q / quarter\\n                                                     :location (c2 / city\\n                                                                   :wiki \"Damascus\"\\n                                                                   :name (n2 / name\\n                                                                             :op1 \"Damascus\")\\n                                                                   :ARG1-of (n4 / near-02))\\n                                                     :location-of (b / base-01\\n                                                                     :ARG1 (a2 / and\\n                                                                               :op1 (p / person\\n                                                                                       :ARG0-of (a / advise-01\\n                                                                                                   :mod (m2 / military\\n                                                                                                            :mod (c4 / country\\n                                                                                                                     :wiki \"Russia\"\\n                                                                                                                     :name (n3 / name\\n                                                                                                                               :op1 \"Russia\")))))\\n                                                                               :op2 (p3 / police\\n                                                                                        :mod (m / military))\\n                                                                               :op3 (p2 / person\\n                                                                                        :ARG0-of (m3 / monitor-01\\n                                                                                                     :ARG1 (c / cease-01\\n                                                                                                              :ARG1 (f2 / fire-01)))\\n                                                                                        :mod c4))\\n                                                                     :ARG1-of (s2 / say-01\\n                                                                                  :ARG0 h))\\n                                                     :mod (g2 / government-organization\\n                                                              :ARG0-of (g / govern-01))))))))', '# ::snt He said the United States intended to bomb the government quarter in nearby Damascus where he said Russian military advisers, Russian military police and Russian ceasefire monitors were based.\\n# ::tok He said the United States intended to bomb the government quarter in nearby Damascus where he said Russian military advisers , Russian military police and Russian ceasefire monitors were based .\\n(s / say-01\\n   :ARG0 (h / he)\\n   :ARG1 (i / intend-01\\n            :ARG0 (c3 / country\\n                      :wiki \"United_States\"\\n                      :name (n / name\\n                               :op1 \"United\"\\n                               :op2 \"States\"))\\n            :ARG1 (b2 / bomb-01\\n                      :ARG0 c3\\n                      :ARG1 (q / quarter\\n                               :location (c2 / city\\n                                             :wiki \"Damascus\"\\n                                             :name (n2 / name\\n                                                       :op1 \"Damascus\")\\n                                             :ARG1-of (n4 / near-02))\\n                               :location-of (b / base-01\\n                                               :ARG1 (a2 / and\\n                                                         :op1 (p / person\\n                                                                 :ARG0-of (a / advise-01\\n                                                                             :ARG1 (c4 / country\\n                                                                                       :wiki \"Russia\"\\n                                                                                       :name (n3 / name\\n                                                                                                 :op1 \"Russia\")))\\n                                                                 :mod (m2 / military\\n                                                                          :mod c4))\\n                                                         :op2 (p3 / police\\n                                                                  :mod (m / military))\\n                                                         :op3 (p2 / person\\n                                                                  :ARG0-of (m3 / monitor-01\\n                                                                               :ARG1 (c / cease-01\\n                                                                                        :ARG1 (f / fire-01)))\\n                                                                  :mod c4))\\n                                               :ARG1-of (s2 / say-01\\n                                                            :ARG0 h))\\n                               :mod (g2 / government-organization\\n                                        :ARG0-of (g / govern-01))))))', '# ::snt The matter is so sensitive that they agreed to talk only on condition of anonymity.\\n# ::tok The matter is so sensitive that they agreed to talk only on condition of anonymity .\\n(h / have-degree-91\\n    :ARG1 (m / matter)\\n    :ARG2 (s / sensitive-03\\n        :ARG0 m)\\n    :ARG3 (s2 / so)\\n    :ARG6 (a / agree-01\\n        :ARG0 (t2 / they)\\n        :ARG1 (t / talk-01\\n            :ARG0 t2\\n            :condition (a2 / anonymous\\n                :mod (o / only)))))', '# ::snt It is so sensitive that they agreed to talk about the matter only on condition of anonymity.\\n# ::tok It is so sensitive that they agreed to talk about the matter only on condition of anonymity .\\n(h / have-degree-91\\n    :ARG1 (i / it)\\n    :ARG2 (s / sensitive-03\\n        :ARG0 i)\\n    :ARG3 (s2 / so)\\n    :ARG6 (a / agree-01\\n        :ARG0 (t2 / they)\\n        :ARG1 (t / talk-01\\n            :ARG0 t2\\n            :ARG1 (m / matter)\\n            :condition (a2 / anonymous\\n                :domain t2\\n                :mod (o / only)))))', '# ::snt The matter is so sensitive that they agreed to talk about something else on condition of anonymity.\\n# ::tok The matter is so sensitive that they agreed to talk about something else on condition of anonymity .\\n(h / have-degree-91\\n    :ARG1 (m / matter)\\n    :ARG2 (s / sensitive-03\\n        :ARG0 m)\\n    :ARG3 (s2 / so)\\n    :ARG6 (a / agree-01\\n        :ARG0 (t2 / they)\\n        :ARG1 (t / talk-01\\n            :ARG0 t2\\n            :ARG1 (s3 / something\\n                :mod (e / else))\\n            :condition (a2 / anonymous\\n                :domain t2))))', '# ::snt Russia’s ruling system, while projecting an image of unity, is divided along many lines — between security hawks and economic liberals, between people with personal vendettas, and between competing business interests.\\n# ::tok Russia’s ruling system , while projecting an image of unity , is divided along many lines — between security hawks and economic liberals , between people with personal vendettas , and between competing business interests .\\n(d / divide-02\\n    :ARG1 (s2 / system\\n        :ARG0-of (r / rule-03))\\n    :ARG2 (a / and\\n        :op1 (h2 / hawk\\n            :mod (s / security))\\n        :op2 (p / person\\n            :ARG1-of (l / liberal-02\\n                :ARG2 (e / economy)))\\n        :op3 (p2 / person\\n            :ARG0-of (h / have-03\\n                :ARG1 (a2 / animosity\\n                    :ARG1-of (p3 / personal-02\\n                        :ARG2 p2))))\\n        :op4 (i2 / interest\\n            :ARG0-of (c / compete-01)\\n            :mod (b / business)))\\n    :manner (l2 / line\\n        :quant (m / many))\\n    :time (p4 / project-01\\n        :ARG0 s2\\n        :ARG1 (i / image\\n            :mod (u / unity))))', '# ::snt Russia’s ruling projects an image of unity, but is divided along many lines — between security hawks and economic liberals, between people with personal vendettas, and between competing business interests.\\n# ::tok Russia’s ruling projects an image of unity , but is divided along many lines — between security hawks and economic liberals , between people with personal vendettas , and between competing business interests .\\n(c2 / contrast-01\\n    :ARG1 (p5 / project-01\\n        :ARG0 (p3 / person\\n            :ARG0-of (r / rule-03))\\n        :ARG1 (i / image\\n            :mod (u / unity)))\\n    :ARG2 (d / divide-02\\n        :ARG1 p3\\n        :ARG2 (a / and\\n            :op1 (h / hawk\\n                :mod (s / security))\\n            :op2 (p / person\\n                :ARG1-of (l / liberal-02\\n                    :ARG2 (e / economy)))\\n            :op3 (p2 / person\\n                :ARG0-of (v / vend-01\\n                    :ARG1-of (p4 / personal-02)))\\n            :op4 (i2 / interest\\n                :ARG0-of (c / compete-01)\\n                :mod (b / business)))\\n        :manner (l2 / line\\n            :quant (m / many))))', '# ::snt Putin is so entrenched within Russia’s ruling system that many of its members can imagine no other leader.\\n# ::tok Putin is so entrenched within Russia’s ruling system that many of its members can imagine no other leader .\\n(e / entrench-01\\n   :ARG1 (p / person\\n            :wiki \"Vladimir_Putin\"\\n            :name (n / name\\n                     :op1 \"Putin\"))\\n   :ARG2 (s2 / system\\n             :ARG0-of (r / rule-03))\\n   :ARG2-of (h / have-degree-91\\n               :ARG1 p\\n               :ARG3 (s / so)\\n               :ARG6 (p3 / possible-01\\n                         :polarity -\\n                         :ARG1 (i / imagine-01\\n                                  :ARG0 (c / country\\n                                           :quant (m / many)\\n                                           :ARG0-of (h2 / have-org-role-91\\n                                                        :ARG2 (m2 / member)))\\n                                  :ARG1 (p2 / person\\n                                            :ARG0-of (l / lead-02)\\n                                            :mod (o / other))))))', '# ::snt Putin is so entrenched within Russia’s ruling system that many of its members can imagine no other leader than Putin.\\n# ::tok Putin is so entrenched within Russia’s ruling system that many of its members can imagine no other leader than Putin .\\n(e / entrench-01\\n   :ARG1 (p / person\\n            :wiki \"Vladimir_Putin\"\\n            :name (n / name\\n                     :op1 \"Putin\"))\\n   :ARG2 (s2 / system\\n             :ARG0-of (r / rule-03))\\n   :ARG2-of (h / have-degree-91\\n               :ARG1 p\\n               :ARG3 (s / so)\\n               :ARG6 (p3 / possible-01\\n                         :ARG1 (i / imagine-01\\n                                  :ARG0 (c / country\\n                                           :quant (m / many)\\n                                           :ARG0-of (h2 / have-org-role-91\\n                                                        :ARG2 (m2 / member)))\\n                                  :ARG1 (p2 / person\\n                                            :ARG0-of (l / lead-02)\\n                                            :ARG2-of (e2 / except-01\\n                                                         :ARG1 p)\\n                                            :mod (o / other\\n                                                    :polarity -))))))', '# ::snt Putin is so entrenched within Russia’s ruling system that many of its members can imagine no other leader than themselves.\\n# ::tok Putin is so entrenched within Russia’s ruling system that many of its members can imagine no other leader than themselves .\\n(e / entrench-01\\n   :ARG1 (p / person\\n            :wiki \"Vladimir_Putin\"\\n            :name (n / name\\n                     :op1 \"Putin\"))\\n   :ARG2 (s2 / system\\n             :ARG0-of (r / rule-03))\\n   :ARG2-of (h / have-degree-91\\n               :ARG1 p\\n               :ARG3 (s / so)\\n               :ARG6 (p3 / possible-01\\n                         :ARG1 (i / imagine-01\\n                                  :ARG0 (c / country\\n                                           :quant (m / many)\\n                                           :ARG0-of (h2 / have-org-role-91\\n                                                        :ARG2 (m2 / member)))\\n                                  :ARG1 (p2 / person\\n                                            :ARG0-of (l / lead-02)\\n                                            :ARG2-of (e2 / except-01\\n                                                         :ARG1 c)\\n                                            :mod (o / other\\n                                                    :polarity -))))))', '# ::snt Microsoft has said a class action isn’t warranted because there is no common cause for the employees’ complaints and plaintiffs have not identified systemic gender discrimination.\\n# ::tok Microsoft has said a class action isn’t warranted because there is no common cause for the employees’ complaints and plaintiffs have not identified systemic gender discrimination .\\n(s / say-01\\n   :ARG0 (c5 / company\\n             :wiki \"Microsoft\"\\n             :name (n / name\\n                      :op1 \"Microsoft\"))\\n   :ARG1 (w / warrant-01\\n            :ARG1 (c3 / class-action)\\n            :ARG1-of (c2 / cause-01\\n                         :ARG0 (a / and\\n                                  :op1 (c / cause\\n                                          :polarity -\\n                                          :purpose (c6 / complain-01)\\n                                          :mod (c4 / common))\\n                                  :op2 (i / identify-01\\n                                          :polarity -\\n                                          :ARG0 (p / person\\n                                                   :ARG0-of (s2 / sue-02))\\n                                          :ARG1 (d / discriminate-02\\n                                                   :ARG1 (g / gender)\\n                                                   :mod (s3 / systemic)))))))', '# ::snt Microsoft has said a class action is warranted because there is a common cause for the employees’ complaints and plaintiffs have not identified systemic gender discrimination.\\n# ::tok Microsoft has said a class action is warranted because there is a common cause for the employees’ complaints and plaintiffs have not identified systemic gender discrimination .\\n(s / say-01\\n   :ARG0 (c5 / company\\n             :wiki \"Microsoft\"\\n             :name (n / name\\n                      :op1 \"Microsoft\"))\\n   :ARG1 (w / warrant-01\\n            :ARG1 (c3 / class-action)\\n            :ARG1-of (c / cause-01\\n                        :ARG0 (a / and\\n                                 :op1 (t / thing\\n                                         :ARG0-of (c2 / cause-01\\n                                                      :ARG1 (c6 / complain-01))\\n                                         :mod (c4 / common))\\n                                 :op2 (i / identify-01\\n                                         :polarity -\\n                                         :ARG0 (p / person\\n                                                  :ARG0-of (s2 / sue-02))\\n                                         :ARG1 (d / discriminate-02\\n                                                  :ARG1 (g / gender)\\n                                                  :mod (s3 / systemic)))))))', '# ::snt Microsoft has said a class action is warranted because there isn\\'t a common cause for the employees’ complaints and plaintiffs have not identified systemic gender discrimination.\\n# ::tok Microsoft has said a class action is warranted because there is n\\'t a common cause for the employees’ complaints and plaintiffs have not identified systemic gender discrimination .\\n(s / say-01\\n   :ARG0 (c6 / company\\n             :wiki \"Microsoft\"\\n             :name (n / name\\n                      :op1 \"Microsoft\"))\\n   :ARG1 (w / warrant-01\\n            :ARG1 (c4 / class-action)\\n            :ARG1-of (c2 / cause-01\\n                         :ARG0 (a / and\\n                                  :op1 (c / cause\\n                                          :polarity -\\n                                          :ARG0-of (c3 / cause-01\\n                                                       :ARG1 (c7 / complain-01))\\n                                          :mod (c5 / common))\\n                                  :op2 (i / identify-01\\n                                          :polarity -\\n                                          :ARG0 (p / person\\n                                                   :ARG0-of (s2 / sue-02))\\n                                          :ARG1 (d / discriminate-02\\n                                                   :ARG1 (g / gender)\\n                                                   :mod (s3 / systemic)))))))', '# ::snt Three women alleged they were sexually assaulted or raped by male colleagues during that time.\\n# ::tok Three women alleged they were sexually assaulted or raped by male colleagues during that time .\\n(a / allege-01\\n    :ARG0 (w / woman\\n        :quant 3)\\n    :ARG1 (o / or\\n        :op1 (a2 / assault-01\\n            :ARG0 (p / person\\n                :ARG0-of (h / have-rel-role-91\\n                    :ARG1 w\\n                    :ARG2 (c / colleague))\\n                :mod (m / male))\\n            :ARG1 w\\n            :manner (s / sexual))\\n        :op2 (r / rape-01\\n            :ARG0 p\\n            :ARG1 w)\\n        :time (t2 / time\\n            :mod (t / that))))', '# ::snt Three women alleged they were sexually assaulted by male colleagues during that time.\\n# ::tok Three women alleged they were sexually assaulted by male colleagues during that time .\\n(a / allege-01\\n    :ARG0 (w / woman\\n        :quant 3)\\n    :ARG1 (a2 / assault-01\\n        :ARG0 (p / person\\n            :ARG0-of (h / have-rel-role-91\\n                :ARG1 w\\n                :ARG2 (c / colleague))\\n            :mod (m / male))\\n        :ARG1 w\\n        :manner (s / sex-01\\n            :ARG0 p\\n            :ARG1 w)\\n        :time (t2 / time\\n            :mod (t / that))))', '# ::snt Three women alleged they were raped by male colleagues during that time.\\n# ::tok Three women alleged they were raped by male colleagues during that time .\\n(a / allege-01\\n    :ARG0 (w / woman\\n        :quant 3)\\n    :ARG1 (r / rape-01\\n        :ARG0 (p / person\\n            :ARG0-of (h / have-rel-role-91\\n                :ARG1 w\\n                :ARG2 (c / colleague))\\n            :mod (m / male))\\n        :ARG1 w\\n        :time (t2 / time\\n            :mod (t / that))))', '# ::snt Microsoft has said that corrective action might be taken even if no policy violation was found, and that the person who filed the complaint might not be informed.\\n# ::tok Microsoft has said that corrective action might be taken even if no policy violation was found , and that the person who filed the complaint might not be informed .\\n(s / say-01\\n   :ARG0 (c / company\\n            :wiki \"Microsoft\"\\n            :name (n / name\\n                     :op1 \"Microsoft\"))\\n   :ARG1 (a2 / and\\n             :op1 (p3 / possible-01\\n                      :ARG1 (a / act-02\\n                               :ARG0-of (c3 / correct-01))\\n                      :concession (e / even-if\\n                                     :op1 (f2 / find-01\\n                                              :polarity -\\n                                              :ARG1 (v / violate-01\\n                                                       :ARG1 (p2 / policy-01)))))\\n             :op2 (p4 / possible-01\\n                      :ARG1 (i / inform-01\\n                               :polarity -\\n                               :ARG1 (p / person\\n                                        :ARG0-of (f / file-01\\n                                                    :ARG1 (c2 / complain-01)))))))', '# ::snt Microsoft has said that corrective action might not be taken even if a policy violation was found, and that the person who filed the complaint might not be informed.\\n# ::tok Microsoft has said that corrective action might not be taken even if a policy violation was found , and that the person who filed the complaint might not be informed .\\n(s / say-01\\n   :ARG0 (c / company\\n            :wiki \"Microsoft\"\\n            :name (n / name\\n                     :op1 \"Microsoft\"))\\n   :ARG1 (a2 / and\\n             :op1 (p3 / possible-01\\n                      :ARG1 (a / act-02\\n                               :polarity -\\n                               :ARG0-of (c3 / correct-01))\\n                      :concession (e / even-if\\n                                     :op1 (f2 / find-01\\n                                              :ARG1 (v / violate-01\\n                                                       :ARG1 (p2 / policy-01)))))\\n             :op2 (p4 / possible-01\\n                      :ARG1 (i / inform-01\\n                               :polarity -\\n                               :ARG1 (p / person\\n                                        :ARG0-of (f / file-01\\n                                                    :ARG1 (c2 / complain-01)))))))', '# ::snt The longer he stays in power, the harder it will be to exit.\\n# ::tok The longer he stays in power , the harder it will be to exit .\\n(c / correlate-91\\n    :ARG1 (h2 / have-degree-91\\n        :ARG1 (s / stay-01\\n            :ARG1 (h4 / he)\\n            :ARG3 (p / power))\\n        :ARG2 (l / long-03\\n            :ARG1 s))\\n    :ARG2 (m / more\\n        :ARG3-of (h3 / have-degree-91\\n            :ARG1 (e / exit-01)\\n            :ARG2 (h / hard-02\\n                :ARG1 e))))', '# ::snt If he stays in power longer,  it will be harder for him to exit.\\n# ::tok If he stays in power longer , it will be harder for him to exit .\\n(h2 / have-degree-91\\n    :ARG1 (e / exit-01\\n        :ARG0 (h4 / he))\\n    :ARG2 (h / hard-02\\n        :ARG1 e)\\n    :condition (s / stay-01\\n        :ARG1 h4\\n        :ARG1-of (h3 / have-degree-91\\n            :ARG2 (l / long-03\\n                :ARG1 s)\\n            :ARG3 (m / more))\\n        :ARG3 (p / power)))', '# ::snt If he stays in power longer,  it will be harder to exit.\\n# ::tok If he stays in power longer , it will be harder to exit .\\n(h3 / have-degree-91\\n    :ARG1 (e / exit-01)\\n    :ARG2 (h / hard-02\\n        :ARG1 e)\\n    :ARG3 (m2 / more)\\n    :condition (s / stay-01\\n        :ARG1 (h4 / he)\\n        :ARG1-of (h2 / have-degree-91\\n            :ARG2 (l / long-03\\n                :ARG1 s)\\n            :ARG3 (m / more))\\n        :ARG3 (p / power)))', '# ::snt The shorter he stays in power, the easier it will be to exit.\\n# ::tok The shorter he stays in power , the easier it will be to exit .\\n(c / correlate-91\\n    :ARG1 (m / more\\n        :ARG3-of (h / have-degree-91\\n            :ARG1 (s2 / stay-01\\n                :ARG1 (h3 / he)\\n                :ARG3 (p / powerful-02\\n                    :ARG1 h3))\\n            :ARG2 (s / short-07\\n                :ARG1 s2)))\\n    :ARG2 (m2 / more\\n        :ARG3-of (h2 / have-degree-91\\n            :ARG1 (e2 / exit-01)\\n            :ARG2 (e / easy-05\\n                :ARG1 e2))))', '# ::snt Our deepest sympathies are with all those affected by this accident.\\n# ::tok Our deepest sympathies are with all those affected by this accident .\\n(s / sympathize-01\\n    :ARG0 (w / we)\\n    :ARG1 (p / person\\n        :ARG1-of (a2 / affect-01\\n            :ARG0 (a / accident\\n                :mod (t / this)))\\n        :mod (a3 / all))\\n    :ARG1-of (h / have-degree-91\\n        :ARG2 (d / deep-02\\n            :ARG1 s)\\n        :ARG3 (m / most)))', '# ::snt Our deepest sympathies are with a victim who was affected by this accident.\\n# ::tok Our deepest sympathies are with a victim who was affected by this accident .\\n(s / sympathize-01\\n    :ARG0 (w / we)\\n    :ARG1 (v / victim\\n        :ARG1-of (a2 / affect-01\\n            :ARG0 (a / accident\\n                :mod (t / this))))\\n    :ARG1-of (h / have-degree-91\\n        :ARG2 (d / deep-02\\n            :ARG1 s)\\n        :ARG3 (m / most)))', '# ::snt There will be a comprehensive investigation involving authorities.\\n# ::tok There will be a comprehensive investigation involving authorities .\\n(i / investigate-01\\n    :ARG2-of (i2 / involve-01\\n        :ARG1 (a / authority))\\n    :mod (c / comprehensive))', '# ::snt The federal Occupational Safety and Health Administration will carry out a comprehensive investigation.\\n# ::tok The federal Occupational Safety and Health Administration will carry out a comprehensive investigation .\\n(c / carry-out-03\\n   :ARG0 (g / government-organization\\n            :wiki \"Occupational_Safety_and_Health_Administration\"\\n            :name (n / name\\n                     :op1 \"Occupational\"\\n                     :op2 \"Safety\"\\n                     :op3 \"and\"\\n                     :op4 \"Health\"\\n                     :op5 \"Administration\")\\n            :mod (f / federal))\\n   :ARG1 (i / investigate-01\\n            :ARG0 g\\n            :mod (c2 / comprehensive)))', '# ::snt The crown prince\\'s mother wouldn\\'t be the first Saudi royal whose movements were restricted since June 2017.\\n# ::tok The crown prince \\'s mother would n\\'t be the first Saudi royal whose movements were restricted since June 2017 .\\n(r2 / royal\\n    :ARG1-of (m2 / move-01\\n                 :ARG1-of (r / restrict-01\\n                             :time (s / since\\n                                      :op1 (d / date-entity\\n                                              :month 6\\n                                              :year 2017))))\\n    :domain (p / person\\n               :ARG0-of (h / have-rel-role-91\\n                           :ARG1 (p2 / prince\\n                                     :mod (c2 / crown))\\n                           :ARG2 (m / mother)))\\n    :mod (c / country\\n            :wiki \"Saudi_Arabia\"\\n            :name (n / name\\n                     :op1 \"Saudi\"\\n                     :op2 \"Arabia\"))\\n    :ord (o / ordinal-entity\\n            :polarity -\\n            :value 1))', \"# ::snt The crown prince's mother wouldn't be the first royal whose movements were restricted since June 2017.\\n# ::tok The crown prince 's mother would n't be the first royal whose movements were restricted since June 2017 .\\n(r2 / royal\\n    :ARG1-of (m2 / move-01\\n        :ARG1-of (r / restrict-01\\n            :time (s / since\\n                :op1 (d / date-entity\\n                    :month 6\\n                    :year 2017))))\\n    :domain (p / person\\n        :ARG0-of (h / have-rel-role-91\\n            :ARG1 (p2 / prince\\n                :ARG2-of (c / crown-01))\\n            :ARG2 (m / mother)))\\n    :ord (o / ordinal-entity\\n        :polarity -\\n        :value 1))\", '# ::snt The Saudi Embassy in Washington denied to NBC the claims that the princess is separated from her husband or under house arrest.\\n# ::tok The Saudi Embassy in Washington denied to NBC the claims that the princess is separated from her husband or under house arrest .\\n(d / deny-01\\n   :ARG0 (e / embassy\\n            :location (c / city\\n                         :wiki \"Washington,_D.C.\"\\n                         :name (n2 / name\\n                                   :op1 \"Washington\"))\\n            :mod (c3 / country\\n                     :wiki \"Saudi_Arabia\"\\n                     :name (n / name\\n                              :op1 \"Saudi\"\\n                              :op2 \"Arabia\")))\\n   :ARG1 (c2 / claim-01\\n             :ARG1 (o / or\\n                      :op1 (s / separate-01\\n                              :ARG1 (p2 / princess)\\n                              :ARG2 (p / person\\n                                       :ARG0-of (h / have-rel-role-91\\n                                                   :ARG1 p2\\n                                                   :ARG2 (h3 / husband))))\\n                      :op2 (a / arrest-01\\n                              :ARG1 p2\\n                              :mod (h2 / house))))\\n   :ARG2 (p3 / publication\\n             :wiki \"NBC\"\\n             :name (n3 / name\\n                       :op1 \"NBC\")))', '# ::snt Representatives of the Saudi government denied to NBC the claims that the princess is separated from her husband or under house arrest.\\n# ::tok Representatives of the Saudi government denied to NBC the claims that the princess is separated from her husband or under house arrest .\\n(d / deny-01\\n   :ARG0 (p / person\\n            :ARG0-of (r / represent-01\\n                        :ARG1 (g2 / government-organization\\n                                  :ARG0-of (g / govern-01\\n                                              :ARG1 (c2 / country\\n                                                        :wiki \"Saudi_Arabia\"\\n                                                        :name (n / name\\n                                                                 :op1 \"Saudi\"\\n                                                                 :op2 \"Arabia\"))))))\\n   :ARG1 (c / claim-01\\n            :ARG1 (o / or\\n                     :op1 (s / separate-01\\n                             :ARG1 (p3 / princess)\\n                             :ARG2 (p2 / person\\n                                       :ARG0-of (h / have-rel-role-91\\n                                                   :ARG1 p3\\n                                                   :ARG2 (h3 / husband))))\\n                     :op2 (a / arrest-01\\n                             :ARG1 p3\\n                             :mod (h2 / house))))\\n   :ARG2 (p4 / publication\\n             :wiki \"NBC\"\\n             :name (n2 / name\\n                       :op1 \"NBC\")))', '# ::snt American ambassadors to Riyadh denied to NBC the claims that the princess is separated from her husband or under house arrest.\\n# ::tok American ambassadors to Riyadh denied to NBC the claims that the princess is separated from her husband or under house arrest .\\n(d / deny-01\\n   :ARG0 (p / person\\n            :ARG0-of (h / have-org-role-91\\n                        :ARG1 (c3 / country\\n                                  :wiki \"United_States\"\\n                                  :name (n / name\\n                                           :op1 \"America\"))\\n                        :ARG2 (a / ambassador\\n                                 :location (c / city\\n                                              :wiki \"Riyadh\"\\n                                              :name (n2 / name\\n                                                        :op1 \"Riyadh\")))))\\n   :ARG1 (c2 / claim-01\\n             :ARG1 (o / or\\n                      :op1 (s / separate-01\\n                              :ARG1 (p3 / princess)\\n                              :ARG2 (p2 / person\\n                                        :ARG0-of (h2 / have-rel-role-91\\n                                                     :ARG1 p3\\n                                                     :ARG2 (h4 / husband))))\\n                      :op2 (a2 / arrest-01\\n                               :ARG1 p3\\n                               :mod (h3 / house))))\\n   :ARG2 (p4 / publication\\n             :wiki \"NBC\"\\n             :name (n3 / name\\n                       :op1 \"NBC\")))', '# ::snt From a quick Google search, Bitcoin Cash was created as a hard fork of Bitcoin and it\\'s supposed to be faster and more sustainable.\\n# ::tok From a quick Google search , Bitcoin Cash was created as a hard fork of Bitcoin and it \\'s supposed to be faster and more sustainable .\\n(a / and\\n   :op1 (c2 / create-01\\n            :ARG1 (p2 / product\\n                      :wiki -\\n                      :name (n2 / name\\n                                :op1 \"Bitcoin\"\\n                                :op2 \"Cash\"))\\n            :ARG3 (f2 / fork-01\\n                      :ARG1 (p3 / product\\n                                :wiki -\\n                                :name (n3 / name\\n                                          :op1 \"Bitcoin\"))\\n                      :ARG1-of (h / hard-04))\\n            :source (s / search-01\\n                       :ARG0 (c / company\\n                                :wiki \"Google\"\\n                                :name (n / name\\n                                         :op1 \"Google\"))\\n                       :ARG1-of (q / quick-02)))\\n   :op2 (s2 / suppose-02\\n            :ARG1 p2\\n            :ARG2 (a2 / and\\n                      :op2 (h2 / have-degree-91\\n                               :ARG1 p2\\n                               :ARG1 (s3 / sustain-01\\n                                         :ARG1 p2\\n                                         :ARG1-of (p / possible-01\\n                                                     :ARG2-of (h3 / have-degree-91\\n                                                                  :ARG1 p2\\n                                                                  :ARG3 (m2 / more))))\\n                               :ARG2 (f / fast-02\\n                                        :ARG1 p2)\\n                               :ARG3 (m / more)))))', '# ::snt From a quick Google search, it was created as a hard fork of Bitcoin and it\\'s supposed to be faster and more sustainable than Bitcoin.\\n# ::tok From a quick Google search , it was created as a hard fork of Bitcoin and it \\'s supposed to be faster and more sustainable than Bitcoin .\\n(a / and\\n   :op1 (c2 / create-01\\n            :ARG1 (i / it)\\n            :ARG3 (f2 / fork-01\\n                      :ARG1 (p2 / product\\n                                :wiki -\\n                                :name (n2 / name\\n                                          :op1 \"Bitcoin\"))\\n                      :ARG1-of (h / hard-04))\\n            :source (s / search-01\\n                       :ARG0 (c / company\\n                                :wiki \"Google\"\\n                                :name (n / name\\n                                         :op1 \"Google\"))\\n                       :ARG1-of (q / quick-02)))\\n   :op2 (s2 / suppose-02\\n            :ARG1 i\\n            :ARG2 (a2 / and\\n                      :op2 (h2 / have-degree-91\\n                               :ARG1 i\\n                               :ARG2 (a3 / and\\n                                         :op1 (f / fast-02\\n                                                 :ARG1 h2))\\n                               :ARG2 (s3 / sustain-01\\n                                         :ARG1 i\\n                                         :ARG1-of (p / possible-01))\\n                               :ARG3 (m / more)))))', '# ::snt From a quick Google search, Bitcoin Cash was created as a hard fork of Bitcoin and it\\'s supposed to be faster and more sustainable than Bitcoin Cash.\\n# ::tok From a quick Google search , Bitcoin Cash was created as a hard fork of Bitcoin and it \\'s supposed to be faster and more sustainable than Bitcoin Cash .\\n(a / and\\n   :op1 (c2 / create-01\\n            :ARG1 (p / product\\n                     :wiki -\\n                     :name (n2 / name\\n                               :op1 \"Bitcoin\"\\n                               :op2 \"Cash\"))\\n            :ARG3 (f2 / fork\\n                      :ARG1-of (h / hard-04)\\n                      :mod (p2 / product\\n                               :wiki -\\n                               :name (n3 / name\\n                                         :op1 \"Bitcoin\")))\\n            :source (s / search-01\\n                       :ARG1-of (q / quick-02)\\n                       :medium (c / company\\n                                  :wiki \"Google\"\\n                                  :name (n / name\\n                                           :op1 \"Google\"))))\\n   :op2 (s2 / suppose-02\\n            :ARG1 p\\n            :ARG2 (a2 / and\\n                      :op2 (h2 / have-degree-91\\n                               :ARG1 p\\n                               :ARG2 (f / fast-02\\n                                        :ARG1 h2)\\n                               :ARG2 (s3 / sustain-01\\n                                         :ARG1 p)\\n                               :ARG3 (m / more)\\n                               :ARG3 (m2 / more)))))', '# ::snt From a quick Google search, Bitcoin Cash was created as a hard fork of Bitcoin and Bitcoin\\'s supposed to be faster and more sustainable.\\n# ::tok From a quick Google search , Bitcoin Cash was created as a hard fork of Bitcoin and Bitcoin \\'s supposed to be faster and more sustainable .\\n(a / and\\n   :op1 (c2 / create-01\\n            :ARG1 (p2 / product\\n                      :wiki -\\n                      :name (n2 / name\\n                                :op1 \"Bitcoin\"\\n                                :op2 \"Cash\"))\\n            :ARG3 (f2 / fork-01\\n                      :ARG1 (p3 / product\\n                                :wiki -\\n                                :name (n3 / name\\n                                          :op1 \"Bitcoin\"))\\n                      :ARG1-of (h / hard-04))\\n            :source (s / search-01\\n                       :ARG1-of (q / quick-02)\\n                       :medium (c / company\\n                                  :wiki \"Google\"\\n                                  :name (n / name\\n                                           :op1 \"Google\"))))\\n   :op2 (s2 / suppose-02\\n            :ARG1 p2\\n            :ARG2 (a2 / and\\n                      :op2 (h2 / have-degree-91\\n                               :ARG1 p2\\n                               :ARG2 (f / fast-02\\n                                        :ARG1 h2)\\n                               :ARG3 (m / more)\\n                               :ARG4 (p / possible-01\\n                                        :ARG1 (s3 / sustain-01\\n                                                  :ARG1 p2))))))', '# ::snt He abandoned the radical teachings of the Nation of Islam in favor of mainstream Islam after a pilgrimage to Mecca where he witnessed Muslims of all races coming together in solidarity.\\n# ::tok He abandoned the radical teachings of the Nation of Islam in favor of mainstream Islam after a pilgrimage to Mecca where he witnessed Muslims of all races coming together in solidarity .\\n(a / abandon-01\\n   :ARG0 (h / he)\\n   :ARG1 (t / teach-01\\n            :ARG0 (o / organization\\n                     :wiki \"Nation_of_Islam\"\\n                     :name (n / name\\n                              :op1 \"Nation\"\\n                              :op2 \"of\"\\n                              :op3 \"Islam\"))\\n            :ARG1-of (r2 / radical-02))\\n   :ARG2 (r3 / religious-group\\n             :wiki \"Islam\"\\n             :name (n2 / name\\n                       :op1 \"Islam\")\\n             :ARG1-of (m / mainstream-02))\\n   :time (a2 / after\\n             :op1 (p2 / pilgrimage\\n                      :destination (c / city\\n                                      :wiki \"Mecca\"\\n                                      :name (n3 / name\\n                                                :op1 \"Mecca\"))\\n                      :location-of (w / witness-01\\n                                      :ARG0 h\\n                                      :ARG1 (c2 / come-01\\n                                                :ARG1 (p / person\\n                                                         :mod r3\\n                                                         :mod (r / race\\n                                                                 :mod (a3 / all)))\\n                                                :ARG4 (t2 / together)\\n                                                :manner (s / solidarity))))))', '# ::snt He abandoned the radical teachings of the Nation of Islam in favor of mainstream Islam until a pilgrimage to Mecca where he witnessed Muslims of all races coming together in solidarity.\\n# ::tok He abandoned the radical teachings of the Nation of Islam in favor of mainstream Islam until a pilgrimage to Mecca where he witnessed Muslims of all races coming together in solidarity .\\n(a / abandon-01\\n   :ARG0 (h / he)\\n   :ARG1 (t / teach-01\\n            :ARG0 (o / organization\\n                     :wiki \"Nation_of_Islam\"\\n                     :name (n / name\\n                              :op1 \"Nation\"\\n                              :op2 \"of\"\\n                              :op3 \"Islam\"))\\n            :ARG1-of (r2 / radical-02))\\n   :ARG2 (f / favor-01\\n            :ARG0 h\\n            :ARG1 (r3 / religious-group\\n                      :wiki \"Islam\"\\n                      :name (n2 / name\\n                                :op1 \"Islam\")\\n                      :ARG1-of (m / mainstream-02)))\\n   :time (u / until\\n            :op1 (p2 / pilgrimage\\n                     :destination (c / city\\n                                     :wiki \"Mecca\"\\n                                     :name (n3 / name\\n                                               :op1 \"Mecca\"))\\n                     :location-of (w / witness-01\\n                                     :ARG0 h\\n                                     :ARG1 (c2 / come-01\\n                                               :ARG1 (p / person\\n                                                        :mod r3\\n                                                        :mod (r / race\\n                                                                :mod (a2 / all)))\\n                                               :ARG4 (t2 / together)\\n                                               :manner (s / solidarity))))))', '# ::snt He abandoned the radical teachings of the Nation of Islam in favor of mainstream Islam due in part to a pilgrimage to Mecca where he witnessed Muslims of all races coming together in solidarity.\\n# ::tok He abandoned the radical teachings of the Nation of Islam in favor of mainstream Islam due in part to a pilgrimage to Mecca where he witnessed Muslims of all races coming together in solidarity .\\n(a / abandon-01\\n   :ARG0 (h / he)\\n   :ARG1 (t / teach-01\\n            :ARG0 (o / organization\\n                     :wiki \"Nation_of_Islam\"\\n                     :name (n / name\\n                              :op1 \"Nation\"\\n                              :op2 \"of\"\\n                              :op3 \"Islam\"))\\n            :ARG1-of (r2 / radical-02))\\n   :ARG1-of (c / cause-01\\n               :ARG0 (p3 / pilgrimage\\n                         :destination (c2 / city\\n                                          :wiki \"Mecca\"\\n                                          :name (n3 / name\\n                                                    :op1 \"Mecca\"))\\n                         :location-of (w / witness-01\\n                                         :ARG0 h\\n                                         :ARG1 (c3 / come-01\\n                                                   :ARG1 (p2 / person\\n                                                             :mod (r3 / religious-group\\n                                                                      :wiki \"Islam\"\\n                                                                      :name (n2 / name\\n                                                                                :op1 \"Islam\")\\n                                                                      :ARG1-of (m / mainstream-02))\\n                                                             :mod (r / race\\n                                                                     :mod (a2 / all)))\\n                                                   :ARG4 (t2 / together)\\n                                                   :manner (s / solidarity))))\\n               :degree (p / part))\\n   :ARG2 (f / favor-01\\n            :ARG0 h\\n            :ARG1 r3))', '# ::snt Every lunch hour I make it my goal to sift through one research paper.\\n# ::tok Every lunch hour I make it my goal to sift through one research paper .\\n(m / make-01\\n    :ARG0 (i / i)\\n    :ARG1 (g / goal\\n        :domain (s / sift-01\\n            :ARG0 i\\n            :ARG1 (p / paper\\n                :quant 1\\n                :mod (r2 / research-01)))\\n        :poss i)\\n    :frequency (r / rate-entity-91\\n        :ARG4 (h / hour\\n            :mod (l / lunch))))', '# ::snt Every day around noon, I make it my goal to sift through one research paper.\\n# ::tok Every day around noon , I make it my goal to sift through one research paper .\\n(m / make-01\\n    :ARG0 (i / i)\\n    :ARG1 (g / goal\\n        :domain (s / sift-01\\n            :ARG0 i\\n            :ARG1 (p / paper\\n                :quant 1\\n                :mod (r2 / research-01)))\\n        :poss i)\\n    :frequency (r / rate-entity-91\\n        :ARG3 (t / temporal-quantity\\n            :quant 1\\n            :unit (d2 / day))\\n        :ARG4 (a / around\\n            :op1 (d / date-entity\\n                :dayperiod (n / noon)))))', '# ::snt Today at lunch, I had the goal of sifting through one research paper.\\n# ::tok Today at lunch , I had the goal of sifting through one research paper .\\n(h / have-03\\n    :ARG0 (i / i)\\n    :ARG1 (g / goal\\n        :mod (s / sift-01\\n            :ARG0 i\\n            :ARG1 (p / paper\\n                :quant 1\\n                :mod (r / research-01))))\\n    :time (l / lunch)\\n    :time (t / today))', '# ::snt Every night, I make it my goal to sift through one research paper.\\n# ::tok Every night , I make it my goal to sift through one research paper .\\n(m / make-01\\n    :ARG0 (i / i)\\n    :ARG1 (g / goal\\n        :domain (s / sift-01\\n            :ARG0 i\\n            :ARG1 (p / paper\\n                :quant 1\\n                :mod (r2 / research-01)))\\n        :poss i)\\n    :frequency (r / rate-entity-91\\n        :ARG4 (d / date-entity\\n            :dayperiod (n / night))))', '# ::snt David Tennant\\'s episodes were definitely the scariest (and best) in years.\\n# ::tok David Tennant \\'s episodes were definitely the scariest ( and best ) in years .\\n(a / and\\n   :mod (d / definite)\\n   :op1 (s / scare-01\\n           :ARG0 (e / episode\\n                    :poss (p / person\\n                             :wiki -\\n                             :name (n / name\\n                                      :op1 \"David\"\\n                                      :op2 \"Tennant\")))\\n           :ARG2-of (h / have-degree-91\\n                       :ARG1 e\\n                       :ARG3 (m / most)\\n                       :ARG5 (e2 / episode\\n                                 :time (m2 / multiple\\n                                           :op1 (t / temporal-quantity\\n                                                   :quant 1\\n                                                   :unit (y / year))))))\\n   :op2 (g / good-02\\n           :ARG1 e))', '# ::snt David Tennant\\'s episodes were definitely the scariest (and best) ever.\\n# ::tok David Tennant \\'s episodes were definitely the scariest ( and best ) ever .\\n(a / and\\n   :mod (d / definite)\\n   :op1 (s / scary-03\\n           :ARG0 (e / episode\\n                    :poss (p / person\\n                             :wiki -\\n                             :name (n / name\\n                                      :op1 \"David\"\\n                                      :op2 \"Tennant\")))\\n           :ARG2-of (h / have-degree-91\\n                       :ARG1 e\\n                       :ARG3 (m / most)\\n                       :ARG5 (e2 / episode\\n                                 :time (e3 / ever))))\\n   :op2 (g / good-02\\n           :ARG1 e\\n           :ARG2-of (h2 / have-degree-91\\n                        :ARG1 e\\n                        :ARG3 m)))', '# ::snt David Tennant is the best Doctor in the series.\\n# ::tok David Tennant is the best Doctor in the series .\\n(h / have-degree-91\\n   :ARG1 (p / person\\n            :wiki -\\n            :name (n / name\\n                     :op1 \"David\"\\n                     :op2 \"Tennant\"))\\n   :ARG2 (g / good-03\\n            :ARG1 p)\\n   :ARG3 (m / most)\\n   :ARG5 (d / doctor\\n            :part-of (s / series)))', '# ::snt David Tennant is the best Doctor in the Doctor Who series.\\n# ::tok David Tennant is the best Doctor in the Doctor Who series .\\n(h / have-degree-91\\n   :ARG1 (p / person\\n            :wiki -\\n            :name (n / name\\n                     :op1 \"David\"\\n                     :op2 \"Tennant\"))\\n   :ARG2 (g / good-03\\n            :ARG1 p\\n            :ARG2 (p2 / person\\n                      :wiki -\\n                      :name (n2 / name\\n                                :op1 \"Doctor\"\\n                                :op2 \"Who\")))\\n   :ARG3 (m / most))', '# ::snt David Tennant is the best Doctor in the House, M.D. series.\\n# ::tok David Tennant is the best Doctor in the House , M.D. series .\\n(h / have-degree-91\\n   :ARG1 (p / person\\n            :wiki \"David_Tennant\"\\n            :name (n / name\\n                     :op1 \"David\"\\n                     :op2 \"Tennant\"))\\n   :ARG2 (g / good-03\\n            :ARG1 p)\\n   :ARG3 (m / most)\\n   :ARG5 (d / doctor\\n            :location (s / series\\n                         :mod (d2 / doctor)\\n                         :mod (g2 / government-organization\\n                                  :wiki \"House_of_Lords\"\\n                                  :name (n2 / name\\n                                            :op1 \"House\")))))', '# ::snt Fun fact, that guy in the Ireland jacket is on SNL now.\\n# ::tok Fun fact , that guy in the Ireland jacket is on SNL now .\\n(f / fact\\n   :ARG1-of (f2 / fun-01)\\n   :domain (b / be-located-at-91\\n              :ARG1 (g / guy\\n                       :mod (t / that)\\n                       :mod (j / jacket\\n                               :mod (c / country\\n                                       :wiki \"Ireland\"\\n                                       :name (n / name\\n                                                :op1 \"Ireland\"))))\\n              :ARG2 (b2 / broadcast-program\\n                        :wiki \"Saturday_Night_Live\"\\n                        :name (n2 / name\\n                                  :op1 \"SNL\"))\\n              :time (n3 / now)))', '# ::snt Fun fact, that guy in the Ireland jacket is on Saturday Night Live now.\\n# ::tok Fun fact , that guy in the Ireland jacket is on Saturday Night Live now .\\n(f / fact\\n   :ARG1-of (f2 / fun-01)\\n   :domain (b / be-located-at-91\\n              :ARG1 (g / guy\\n                       :mod (t / that)\\n                       :mod (j / jacket\\n                               :mod (c / country\\n                                       :wiki \"Ireland\"\\n                                       :name (n / name\\n                                                :op1 \"Ireland\"))))\\n              :ARG2 (b2 / broadcast-program\\n                        :wiki \"Saturday_Night_Live\"\\n                        :name (n2 / name\\n                                  :op1 \"Saturday\"\\n                                  :op2 \"Night\"\\n                                  :op3 \"Live\"))\\n              :time (n3 / now)))', '# ::snt Last time I visited was nearly 6 months ago and I am still finding husky fur on my socks.\\n# ::tok Last time I visited was nearly 6 months ago and I am still finding husky fur on my socks .\\n(a / and\\n    :op1 (v / visit-01\\n        :ARG0 (i / i)\\n        :mod (l / last)\\n        :time (b / before\\n            :quant (n / nearly\\n                :op1 (t / temporal-quantity\\n                    :quant 6\\n                    :unit (m / month)))\\n            :op1 (n2 / now)))\\n    :op2 (f / find-01\\n        :ARG0 i\\n        :ARG1 (f2 / fur\\n            :mod (h / husky))\\n        :location (s / sock\\n            :poss i)\\n        :mod (s2 / still)))', '# ::snt Last time I visited my friend was nearly 6 months ago and I am still finding husky fur on my socks.\\n# ::tok Last time I visited my friend was nearly 6 months ago and I am still finding husky fur on my socks .\\n(a / and\\n    :op1 (v / visit-01\\n        :ARG0 (i / i)\\n        :ARG1 (p / person\\n            :ARG0-of (h / have-rel-role-91\\n                :ARG1 i\\n                :ARG2 (f2 / friend)))\\n        :mod (l / last)\\n        :time (b / before\\n            :quant (n / nearly\\n                :op1 (t / temporal-quantity\\n                    :quant 6\\n                    :unit (m / month)))\\n            :op1 (n2 / now)))\\n    :op2 (f / find-01\\n        :ARG0 i\\n        :ARG1 (f3 / fur\\n            :mod (h2 / husky))\\n        :location (s / sock\\n            :poss i)\\n        :mod (s2 / still)))', '# ::snt Last time I visited was more than 6 months ago and I am still finding husky fur on my socks.\\n# ::tok Last time I visited was more than 6 months ago and I am still finding husky fur on my socks .\\n(a / and\\n    :op1 (v / visit-01\\n        :ARG0 (i / i)\\n        :mod (l / last)\\n        :time (b / before\\n            :quant (m2 / more-than\\n                :op1 (t / temporal-quantity\\n                    :quant 6\\n                    :unit (m / month)))\\n            :op1 (n / now)))\\n    :op2 (f / find-01\\n        :ARG0 i\\n        :ARG1 (f2 / fur\\n            :mod (h / husky))\\n        :location (s / sock\\n            :poss i)\\n        :mod (s2 / still)))', '# ::snt That perspective makes it look gigantic.\\n# ::tok That perspective makes it look gigantic .\\n(m / make-02\\n    :ARG0 (p / perspective\\n        :mod (t / that))\\n    :ARG1 (l / look-02\\n        :ARG0 (i / it)\\n        :ARG1 (g / gigantic)))', '# ::snt That perspective makes it seem gigantic.\\n# ::tok That perspective makes it seem gigantic .\\n(m / make-02\\n    :ARG0 (p / perspective\\n        :mod (t / that))\\n    :ARG1 (s / seem-01\\n        :ARG1 (g / gigantic\\n            :domain (i / it))))', '# ::snt That perspective makes it look miniscule.\\n# ::tok That perspective makes it look miniscule .\\n(m / make-02\\n    :ARG0 (p / perspective\\n        :mod (t / that))\\n    :ARG1 (l / look-02\\n        :ARG0 (i / it)\\n        :ARG1 (m2 / miniscule)))', '# ::snt That perspective makes it sound gigantic.\\n# ::tok That perspective makes it sound gigantic .\\n(m / make-02\\n    :ARG0 (p / perspective\\n        :mod (t / that))\\n    :ARG1 (s / sound-01\\n        :ARG1 (i / it)\\n        :ARG2 (g / gigantic)))', '# ::snt Unshielded radiation from a nuclear core could kill you in a matter of hours.\\n# ::tok Unshielded radiation from a nuclear core could kill you in a matter of hours .\\n(p / possible-01\\n    :ARG1 (k / kill-01\\n        :ARG0 (r / radiate-01\\n            :ARG0 (c / core\\n                :mod (n2 / nucleus))\\n            :ARG1-of (s / shield-01\\n                :polarity -))\\n        :ARG1 (y / you)\\n        :time (a / after\\n            :quant (m / multiple\\n                :op1 (t / temporal-quantity\\n                    :quant 1\\n                    :unit (h / hour)))\\n            :op1 (n / now))))', '# ::snt Unshielded radiation from a nuclear core will kill you in a matter of hours.\\n# ::tok Unshielded radiation from a nuclear core will kill you in a matter of hours .\\n(k / kill-01\\n    :ARG0 (r / radiate-01\\n        :ARG0 (c / core\\n            :mod (n / nucleus))\\n        :ARG1-of (s / shield-01\\n            :polarity -))\\n    :ARG1 (y / you)\\n    :time (a / after\\n        :quant (m / multiple\\n            :op1 (t / temporal-quantity\\n                :quant 1\\n                :unit (h / hour)))))', '# ::snt I think the unrealistic part is him surviving the blunt force of the blast.\\n# ::tok I think the unrealistic part is him surviving the blunt force of the blast .\\n(t / think-01\\n    :ARG0 (i / i)\\n    :ARG1 (p / part\\n        :ARG1-of (r / realistic-03\\n            :polarity -)\\n        :domain (s / survive-01\\n            :ARG0 (h / he)\\n            :ARG1 (f / force-04\\n                :ARG0 (b / blast-05)\\n                :ARG2 (b2 / blunt-01)))))', '# ::snt He survived the blunt force of the blast.\\n# ::tok He survived the blunt force of the blast .\\n(s / survive-01\\n    :ARG0 (h / he)\\n    :ARG1 (f / force-04\\n        :ARG0 (b / blast-05)\\n        :ARG2 (b2 / blunt-01)))', '# ::snt The theory that they are products of the radiation from the bomb is genius.\\n# ::tok The theory that they are products of the radiation from the bomb is genius .\\n(g / genius\\n    :domain (t / theory\\n        :topic (p / produce-01\\n            :ARG0 (r / radiate-01\\n                :ARG0 (b / bomb))\\n            :ARG1 (t2 / they))))', '# ::snt They are products of the radiation from the bomb.\\n# ::tok They are products of the radiation from the bomb .\\n(p / produce-01\\n    :ARG0 (t2 / thing\\n        :ARG1-of (r / radiate-01\\n            :ARG0 (b / bomb)))\\n    :ARG1 (t / they))', '# ::snt The theory that they are products of the radiation from the bomb is correct.\\n# ::tok The theory that they are products of the radiation from the bomb is correct .\\n(c / correct-02\\n    :ARG1 (t / theory\\n        :topic (p / produce-01\\n            :ARG0 (r / radiate-01\\n                :ARG0 (b / bomb))\\n            :ARG1 (t2 / they))))', '# ::snt Every human alive today is a member of the homo sapiens species, but there have been plenty of other species of humans over the last ~2.5 million years that could be called \"humans\".\\n# ::tok Every human alive today is a member of the homo sapiens species , but there have been plenty of other species of humans over the last ~ 2.5 million years that could be called \" humans \" .\\n(c2 / contrast-01\\n    :ARG1 (i / include-91\\n             :ARG1 (h / human\\n                      :ARG0-of (l / live-01\\n                                  :time (t2 / today))\\n                      :mod (e / every))\\n             :ARG2 (s / species\\n                      :wiki \"Human\"\\n                      :name (n / name\\n                               :op1 \"Homo\"\\n                               :op2 \"Sapiens\")))\\n    :ARG2 (s2 / species\\n              :quant (p / plenty)\\n              :ARG1-of (c / call-01\\n                          :ARG1-of (p2 / possible-01)\\n                          :ARG2 h)\\n              :mod (o / other)\\n              :mod (h2 / human)\\n              :time (b / before\\n                       :duration (a / \"~\"\\n                                    :op1 (t / temporal-quantity\\n                                            :quant 2500000\\n                                            :unit (y / year)))\\n                       :op1 (n2 / now))))', '# ::snt The last ~2.5 million years could be called \"humans\".\\n# ::tok The last ~ 2.5 million years could be called \" humans \" .\\n(p / possible-01\\n    :ARG1 (c / call-01\\n        :ARG1 (b / before\\n            :duration (a / \"~\"\\n                :op1 (t / temporal-quantity\\n                    :quant 2500000\\n                    :unit (y / year)))\\n            :op1 (n / now))\\n        :ARG2 (h / human)))', '# ::snt Plenty of other species could be called \"humans\".\\n# ::tok Plenty of other species could be called \" humans \" .\\n(p2 / possible-01\\n    :ARG1 (c / call-01\\n        :ARG1 (s / species\\n            :quant (p / plenty)\\n            :mod (o / other))\\n        :ARG2 (h / human)))', '# ::snt Every human alive today is a member of other species of humans over the last ~2.5 million years that could be called \"humans\".\\n# ::tok Every human alive today is a member of other species of humans over the last ~ 2.5 million years that could be called \" humans \" .\\n(h / have-org-role-91\\n    :ARG0 (h2 / human\\n        :ARG0-of (l / live-01\\n            :time (t2 / today))\\n        :mod (e / every))\\n    :ARG1 (s / species\\n        :ARG1-of (c / call-01\\n            :ARG1-of (p / possible-01)\\n            :ARG2 (h3 / human))\\n        :mod (o / other)\\n        :part-of h3\\n        :time (b / before\\n            :duration (t / temporal-quantity\\n                :quant 2500000\\n                :unit (y / year))\\n            :op1 (n / now)))\\n    :ARG2 (m / member))', '# ::snt I couldn’t bring myself to throw it away, not out of affection to her, but rather the fondness of all the memories surrounding that time period.\\n# ::tok I couldn’t bring myself to throw it away , not out of affection to her , but rather the fondness of all the memories surrounding that time period .\\n(b / bring-01\\n    :polarity -\\n    :ARG0 (i / i\\n        :ARG1-of b)\\n    :ARG1-of (c / cause-01\\n        :polarity -\\n        :ARG0 (a / affection\\n            :beneficiary (s / she))\\n        :ARG1-of (i2 / instead-of-91\\n            :ARG2 (f / fondness\\n                :poss (m / memory\\n                    :ARG1-of (s2 / surround-01\\n                        :ARG2 (p / period\\n                            :mod (t3 / time)\\n                            :mod (t / that)))\\n                    :mod (a2 / all)))))\\n    :ARG2 (t2 / throw-01\\n        :ARG0 i\\n        :ARG1 (i3 / it)\\n        :ARG2 (a3 / away)))', '# ::snt I couldn’t bring myself to throw it away, not out of the fondness of all the memories surrounding that time period.\\n# ::tok I couldn’t bring myself to throw it away , not out of the fondness of all the memories surrounding that time period .\\n(b / bring-01\\n    :ARG0 (i / i)\\n    :ARG1 i\\n    :ARG1-of (c / cause-01\\n        :polarity -\\n        :ARG0 (f / fondness\\n            :poss (m / memory\\n                :ARG1-of (s / surround-01\\n                    :ARG2 (p / period\\n                        :mod (t3 / time)\\n                        :mod (t / that)))\\n                :mod (a / all))))\\n    :ARG2 (t2 / throw-01\\n        :ARG0 i\\n        :ARG1 (i2 / it)\\n        :ARG2 (a2 / away)))', '# ::snt I couldn’t bring myself to throw it away, out of affection to her.\\n# ::tok I couldn’t bring myself to throw it away , out of affection to her .\\n(b / bring-01\\n    :polarity -\\n    :ARG0 (i / i)\\n    :ARG1 i\\n    :ARG1-of (c / cause-01\\n        :ARG0 (a / affection\\n            :beneficiary (s / she)))\\n    :ARG2 (t / throw-01\\n        :ARG0 i\\n        :ARG1 (i2 / it)\\n        :ARG2 (a2 / away)))', '# ::snt I couldn’t bring myself to throw it away, out of the fondness of all the memories surrounding the time period.\\n# ::tok I couldn’t bring myself to throw it away , out of the fondness of all the memories surrounding the time period .\\n(b / bring-01\\n    :polarity -\\n    :ARG0 (i / i)\\n    :ARG1 i\\n    :ARG1-of (c / cause-01\\n        :ARG0 (f / fondness\\n            :poss (m / memory\\n                :ARG1-of (s / surround-01\\n                    :ARG2 (p / period\\n                        :mod (t2 / time)))\\n                :mod (a / all))))\\n    :ARG2 (t / throw-01\\n        :ARG0 i\\n        :ARG1 (i2 / it)\\n        :ARG2 (a2 / away)))', '# ::snt You know that some life changing actions must be taken when grandma reacts with the sad emoji.\\n# ::tok You know that some life changing actions must be taken when grandma reacts with the sad emoji .\\n(k / know-01\\n    :ARG0 (y / you)\\n    :ARG1 (o / obligate-01\\n        :ARG2 (a / act-02\\n            :quant (s2 / some)\\n            :ARG0-of (c / change-01\\n                :ARG1 (l / live-01)))\\n        :time (r / react-01\\n            :ARG0 (p / person\\n                :ARG0-of (h / have-rel-role-91\\n                    :ARG1 y\\n                    :ARG2 (g / grandmother)))\\n            :ARG1 (a2 / avatar\\n                :ARG1-of (s / sad-02)))))', '# ::snt You know that some actions must be taken when grandma reacts with the sad emoji.\\n# ::tok You know that some actions must be taken when grandma reacts with the sad emoji .\\n(k / know-01\\n    :ARG0 (y / you)\\n    :ARG1 (o / obligate-01\\n        :ARG2 (a / act-02\\n            :quant (s2 / some))\\n        :time (r / react-01\\n            :ARG0 (p / person\\n                :ARG0-of (h / have-rel-role-91\\n                    :ARG1 y\\n                    :ARG2 (g / grandmother)))\\n            :ARG1 (a2 / avatar\\n                :ARG0-of (s / sad-02)))))', '# ::snt You know that some life-changing actions must be taken when grandma reacts with emoji.\\n# ::tok You know that some life - changing actions must be taken when grandma reacts with emoji .\\n(k / know-01\\n    :ARG0 (y / you)\\n    :ARG1 (o / obligate-01\\n        :ARG2 (a / act-02\\n            :quant (s / some)\\n            :ARG0-of (c / change-01\\n                :ARG1 (l / live-01)))\\n        :time (r / react-01\\n            :ARG0 (p / person\\n                :ARG0-of (h / have-rel-role-91\\n                    :ARG1 y\\n                    :ARG2 (g / grandmother)))\\n            :ARG1 (a2 / avatar))))', '# ::snt I have never seen a hummingbird not flying.\\n# ::tok I have never seen a hummingbird not flying .\\n(s / see-01\\n    :polarity -\\n    :ARG0 (i / i)\\n    :ARG1 (f / fly-01\\n        :polarity -\\n        :ARG0 (h / hummingbird))\\n    :time (e / ever))', '# ::snt I have always seen hummingbirds flying.\\n# ::tok I have always seen hummingbirds flying .\\n(s / see-01\\n    :ARG0 (i / i)\\n    :ARG1 (f / fly-01\\n        :ARG0 (h / hummingbird))\\n    :time (a / always))', '# ::snt I have never seen a hummingbird.\\n# ::tok I have never seen a hummingbird .\\n(s / see-01\\n    :polarity -\\n    :ARG0 (i / i)\\n    :ARG1 (h / hummingbird)\\n    :time (e / ever))', '# ::snt I have never seen a bird not flying.\\n# ::tok I have never seen a bird not flying .\\n(s / see-01\\n    :polarity -\\n    :ARG0 (i / i)\\n    :ARG1 (f / fly-01\\n        :polarity -\\n        :ARG0 (b / bird))\\n    :time (e / ever))', '# ::snt I wish I could give both of you an upvote to share.\\n# ::tok I wish I could give both of you an upvote to share .\\n(w / wish-01\\n    :ARG0 (i / i)\\n    :ARG1 (p / possible-01\\n        :ARG1 (g / give-01\\n            :purpose (s / share-01\\n                :ARG0 (y / you\\n                    :mod (b / both)))\\n            :ARG0 i\\n            :ARG1 (u / upvote)\\n            :ARG2 y)))', '# ::snt I wish I could give an upvote to both of you to share.\\n# ::tok I wish I could give an upvote to both of you to share .\\n(w / wish-01\\n    :ARG0 (i / i)\\n    :ARG1 (p / possible-01\\n        :ARG1 (g / give-01\\n            :purpose (s / share-01\\n                :ARG0 (y / you\\n                    :mod (b / both)))\\n            :ARG0 i\\n            :ARG1 (v / vote-01)\\n            :ARG2 y)))', '# ::snt I wish both of you could get an upvote from me to share.\\n# ::tok I wish both of you could get an upvote from me to share .\\n(w / wish-01\\n    :ARG0 (i / i)\\n    :ARG1 (p / possible-01\\n        :ARG1 (g / get-01\\n            :ARG0 (y / you\\n                :mod (b / both))\\n            :ARG1 (v / vote-01\\n                :purpose (s / share-01\\n                    :ARG0 y)\\n                :ARG0 i\\n                :ARG1 y)\\n            :ARG2 i)))', '# ::snt Hummingbirds are really attracted to bright orange and red (hence why the feeders are usually these colours).\\n# ::tok Hummingbirds are really attracted to bright orange and red ( hence why the feeders are usually these colours ) .\\n(a2 / attract-01\\n    :ARG0-of (c / cause-01\\n        :ARG1 (c2 / color\\n            :domain (t / thing\\n                :ARG0-of (f / feed-01))\\n            :mod (t2 / this)\\n            :mod (u / usual)))\\n    :ARG1 (h / humming)\\n    :ARG1-of (r / real-04)\\n    :ARG2 (a / and\\n        :ARG1-of (b / bright-02)\\n        :op1 (o / orange)\\n        :op2 (r2 / red-02)))', '# ::snt Hummingbirds are red (hence why the feeders are usually these colours).\\n# ::tok Hummingbirds are red ( hence why the feeders are usually these colours ) .\\n(r / red-02\\n    :ARG0-of (c / cause-01\\n        :ARG1 (c2 / color\\n            :domain (t / thing\\n                :ARG0-of (f / feed-01))\\n            :mod (t2 / this)\\n            :mod (u / usual)))\\n    :ARG1 (h / hummingbird))', '# ::snt Hummingbirds are really attracted to bright red (hence why the feeders are usually these colours).\\n# ::tok Hummingbirds are really attracted to bright red ( hence why the feeders are usually these colours ) .\\n(a / attract-01\\n    :ARG0 (r2 / red-02\\n        :ARG1-of (b / bright-02))\\n    :ARG0-of (c / cause-01\\n        :ARG1 (c2 / color-01\\n            :ARG1 (t / thing\\n                :ARG2-of (f / feed-01))\\n            :ARG2 (t2 / this)\\n            :mod (u / usual)))\\n    :ARG1 (h / hummingbird)\\n    :ARG1-of (r / real-04))', '# ::snt The feeders are usually coloured so as to attract hummingbirds.\\n# ::tok The feeders are usually coloured so as to attract hummingbirds .\\n(c / color-01\\n    :purpose (a / attract-01\\n        :ARG0 (t / thing\\n            :ARG0-of (f / feed-01))\\n        :ARG1 (h / hummingbird))\\n    :ARG1 t\\n    :mod (u / usual))', '# ::snt Hummingbirds have monochromatic vision.\\n# ::tok Hummingbirds have monochromatic vision .\\n(s / see-01\\n    :ARG0 (h / humming)\\n    :mod (m / monochromatic))', '# ::snt Hummingbirds will feed from feeders of all colours.\\n# ::tok Hummingbirds will feed from feeders of all colours .\\n(f / feed-01\\n    :ARG0 (h / hummingbird)\\n    :ARG2 (t / thing\\n        :ARG0-of (f2 / feed-01)\\n        :mod (c / color\\n            :mod (a / all))))', '# ::snt Temperature and snow consistency must be just right.\\n# ::tok Temperature and snow consistency must be just right .\\n(i / infer-01\\n    :ARG1 (r / right-06\\n        :ARG1 (a / and\\n            :op1 (t / temperature)\\n            :op2 (c / consistent-02\\n                :ARG1 (s / snow)))\\n        :mod (j / just)))', '# ::snt Temperature must be just right.\\n# ::tok Temperature must be just right .\\n(i / infer-01\\n    :ARG1 (r / right-06\\n        :ARG1 (t / temperature)\\n        :mod (j / just)))', '# ::snt After the clingers completely immobilize her, I carry her to the tub.\\n# ::tok After the clingers completely immobilize her , I carry her to the tub .\\n(c / carry-01\\n    :ARG0 (i / i)\\n    :ARG1 (s / she)\\n    :destination (t / tub)\\n    :time (a / after\\n        :op1 (i2 / immobilize-01\\n            :ARG0 (p / person\\n                :ARG0-of (c2 / cling-01))\\n            :ARG1 s\\n            :ARG1-of (c3 / complete-02))))', '# ::snt After the clingers completely immobilize her, I carry her to the tub or sink.\\n# ::tok After the clingers completely immobilize her , I carry her to the tub or sink .\\n(c / carry-01\\n    :ARG0 (i / i)\\n    :ARG1 (s / she)\\n    :ARG3 (o / or\\n        :op1 (t / tub)\\n        :op2 (s2 / sink))\\n    :time (a / after\\n        :op1 (i2 / immobilize-01\\n            :ARG0 (p / person\\n                :ARG0-of (c2 / cling-01))\\n            :ARG1 s\\n            :ARG1-of (c3 / complete-02))))', '# ::snt Life is either a daring adventure or nothing at all.\\n# ::tok Life is either a daring adventure or nothing at all .\\n(o / or\\n    :domain (l / life)\\n    :op1 (a / adventure\\n        :ARG0-of (d / dare-01))\\n    :op2 (n / nothing\\n        :mod (a2 / at-all)))', '# ::snt Life is nothing at all.\\n# ::tok Life is nothing at all .\\n(n / nothing\\n    :domain (l / life)\\n    :mod (a / at-all))', '# ::snt Life is a daring adventure.\\n# ::tok Life is a daring adventure .\\n(a / adventure\\n    :ARG0-of (d / dare-01)\\n    :domain (l / life))', '# ::snt Life is a not a daring adventure.\\n# ::tok Life is a not a daring adventure .\\n(a / adventure\\n    :ARG0-of (d / dare-01\\n        :polarity -)\\n    :domain (l / life))', '# ::snt Just watched the first 15 minutes, got bored, skipped to the magic bit, it\\'s funnier as a GIF.\\n# ::tok Just watched the first 15 minutes , got bored , skipped to the magic bit , it \\'s funnier as a GIF .\\n(a / and\\n   :op1 (w / watch-01\\n           :ARG1 (t / temporal-quantity\\n                    :quant 15\\n                    :ord (o / ordinal-entity\\n                            :value 1)\\n                    :unit (m2 / minute))\\n           :mod (j / just))\\n   :op2 (b2 / bore-02)\\n   :op3 (s / skip-01\\n           :destination (b / bit\\n                           :mod (m / magic)))\\n   :op4 (f / funny-02\\n           :ARG1 (i / it)\\n           :ARG2-of (h / have-degree-91\\n                       :ARG1 i\\n                       :ARG3 (m3 / more))\\n           :manner (t2 / thing\\n                       :wiki -\\n                       :name (n / name\\n                                :op1 \"GIF\"))))', '# ::snt Just watched the first 30 minutes, got bored, skipped to the magic bit, it\\'s funnier as a GIF.\\n# ::tok Just watched the first 30 minutes , got bored , skipped to the magic bit , it \\'s funnier as a GIF .\\n(a / and\\n   :op1 (w / watch-01\\n           :ARG1 (t / temporal-quantity\\n                    :quant 30\\n                    :ord (o / ordinal-entity\\n                            :value 1)\\n                    :unit (m2 / minute))\\n           :mod (j / just))\\n   :op2 (b2 / bore-02)\\n   :op3 (s / skip-01\\n           :ARG1 (b / bit\\n                    :mod (m / magic)))\\n   :op4 (f / funny-02\\n           :ARG1 (i / it)\\n           :ARG2-of (h / have-degree-91\\n                       :ARG1 i\\n                       :ARG3 (m3 / more))\\n           :manner (t2 / thing\\n                       :wiki -\\n                       :name (n / name\\n                                :op1 \"GIF\"))))', '# ::snt Just watched the first 10 minutes, got bored, skipped to the magic bit, it\\'s funnier as a GIF.\\n# ::tok Just watched the first 10 minutes , got bored , skipped to the magic bit , it \\'s funnier as a GIF .\\n(a / and\\n   :op1 (w / watch-01\\n           :ARG1 (t / temporal-quantity\\n                    :quant 10\\n                    :ord (o / ordinal-entity\\n                            :value 1)\\n                    :unit (m2 / minute))\\n           :mod (j / just))\\n   :op2 (b2 / bore-02)\\n   :op3 (s / skip-01\\n           :destination (b / bit\\n                           :mod (m / magic)))\\n   :op4 (f / funny-02\\n           :ARG1 (i / it)\\n           :ARG2-of (h / have-degree-91\\n                       :ARG1 i\\n                       :ARG3 (m3 / more))\\n           :manner (t2 / thing\\n                       :wiki -\\n                       :name (n / name\\n                                :op1 \"GIF\"))))', '# ::snt Just watched the first quarter hour, got bored, skipped to the magic bit, it\\'s funnier as a GIF.\\n# ::tok Just watched the first quarter hour , got bored , skipped to the magic bit , it \\'s funnier as a GIF .\\n(a / and\\n   :op1 (w / watch-01\\n           :ARG1 (h2 / hour\\n                     :ord (o / ordinal-entity\\n                             :value 1))\\n           :mod (j / just))\\n   :op2 (b2 / bore-02)\\n   :op3 (s / skip-01\\n           :destination (b / bit\\n                           :mod (m / magic)))\\n   :op4 (h / have-degree-91\\n           :ARG1 (i / it)\\n           :ARG2 (f / funny-02\\n                    :ARG1 i\\n                    :manner (t / thing\\n                               :wiki -\\n                               :name (n / name\\n                                        :op1 \"GIF\")))\\n           :ARG3 (m2 / more)))', '# ::snt Has bad reviews on Amazon but this clip was funny.\\n# ::tok Has bad reviews on Amazon but this clip was funny .\\n(c3 / contrast-01\\n    :ARG1 (h / have-03\\n             :ARG1 (r / review\\n                      :ARG1-of (b / bad-07))\\n             :location (c2 / company\\n                           :wiki \"Amazon_(company)\"\\n                           :name (n / name\\n                                    :op1 \"Amazon\")))\\n    :ARG2 (f / funny-02\\n             :ARG1 (c / clip\\n                      :mod (t / this))))', '# ::snt This clip was funny.\\n# ::tok This clip was funny .\\n(f / funny-02\\n    :ARG1 (c / clip\\n        :mod (t / this)))', '# ::snt Weird that you want to show something to a stack of papers.\\n# ::tok Weird that you want to show something to a stack of papers .\\n(w2 / weird\\n    :domain (w / want-01\\n        :ARG0 (y / you)\\n        :ARG1 (s / show-01\\n            :ARG0 y\\n            :ARG1 (s2 / something)\\n            :ARG2 (s3 / stack-01\\n                :ARG1 (p / paper)))))', '# ::snt Weird that you want to show this video to a stack of papers.\\n# ::tok Weird that you want to show this video to a stack of papers .\\n(w2 / weird\\n    :domain (w / want-01\\n        :ARG0 (y / you)\\n        :ARG1 (s / show-01\\n            :ARG0 y\\n            :ARG1 (v / video\\n                :mod (t / this))\\n            :ARG2 (s2 / stack-01\\n                :ARG1 (p / paper)))))', '# ::snt I think this was part of the last season of Bojack Horseman.\\n# ::tok I think this was part of the last season of Bojack Horseman .\\n(t / think-01\\n   :ARG0 (i / i)\\n   :ARG1 (h / have-part-91\\n            :ARG1 (s / season\\n                     :mod (l / last)\\n                     :part-of (b / broadcast-program\\n                                 :wiki \"List_of_BoJack_Horseman_episodes\"\\n                                 :name (n / name\\n                                          :op1 \"Bojack\"\\n                                          :op2 \"Horseman\")))\\n            :ARG2 (t2 / this)))', '# ::snt I think this was part of the last episode of Bojack Horseman.\\n# ::tok I think this was part of the last episode of Bojack Horseman .\\n(t / think-01\\n   :ARG0 (i / i)\\n   :ARG1 (h / have-part-91\\n            :ARG1 (e / episode\\n                     :mod (l / last)\\n                     :part-of (b / broadcast-program\\n                                 :wiki \"List_of_BoJack_Horseman_episodes\"\\n                                 :name (n / name\\n                                          :op1 \"Bojack\"\\n                                          :op2 \"Horseman\")))\\n            :ARG2 (t2 / this)))', \"# ::snt If you think about it, it's the perfect reverse psychology tactic.\\n# ::tok If you think about it , it 's the perfect reverse psychology tactic .\\n(t / tactic\\n    :ARG1-of (p / perfect-02)\\n    :condition (t2 / think-01\\n        :ARG0 (y / you)\\n        :ARG1 (i / it))\\n    :domain i\\n    :mod (p2 / psychology\\n        :ARG1-of (r / reverse-01)))\", \"# ::snt It's the perfect reverse psychology tactic.\\n# ::tok It 's the perfect reverse psychology tactic .\\n(t / tactic\\n    :ARG1-of (p / perfect-02)\\n    :domain (i / it)\\n    :mod (p2 / psychology\\n        :ARG1-of (r / reverse-01)))\", \"# ::snt This is honestly the most oniony article I've seen on the entire internet.\\n# ::tok This is honestly the most oniony article I 've seen on the entire internet .\\n(h / have-degree-91\\n    :ARG1 (a / article\\n        :ARG1-of (s / see-01\\n            :ARG0 (i / i)\\n            :location (i2 / internet\\n                :mod (e / entire)))\\n        :mod (t / this))\\n    :ARG1-of (h2 / honest-01)\\n    :ARG2 (o / oniony)\\n    :ARG3 (m / most))\", '# ::snt This article reads like satire.\\n# ::tok This article reads like satire .\\n(r / read-01\\n    :ARG1 (a / article\\n        :mod (t / this))\\n    :ARG3 (r2 / resemble-01\\n        :ARG1 a\\n        :ARG2 (s / satire)))', \"# ::snt If everyone believed my jokes, they'd know exactly who I was.\\n# ::tok If everyone believed my jokes , they 'd know exactly who I was .\\n(h / have-condition-91\\n    :ARG1 (k / know-01\\n        :ARG0 (i / i)\\n        :manner (e2 / exact))\\n    :ARG2 (b / believe-01\\n        :ARG0 (e / everyone)\\n        :ARG1 (j / joke-01\\n            :ARG0 i)))\", '# ::snt My jokes fully reveal my character.\\n# ::tok My jokes fully reveal my character .\\n(r / reveal-01\\n    :ARG0 (j / joke-01\\n        :ARG0 (i / i))\\n    :ARG1 (c / character\\n        :poss i)\\n    :degree (f / full))', '# ::snt My jokes reflect exactly zero of my character.\\n# ::tok My jokes reflect exactly zero of my character .\\n(r / reflect-01\\n    :ARG1 (j / joke-01\\n        :ARG0 (i / i))\\n    :ARG2 (z / zero\\n        :mod (e / exact)\\n        :part-of (c / character\\n            :poss i)))', \"# ::snt If everyone believed my jokes, they'd be quite concerned for me.\\n# ::tok If everyone believed my jokes , they 'd be quite concerned for me .\\n(c / concern-01\\n    :ARG0 (i / i)\\n    :ARG1 (e / everyone)\\n    :condition (b / believe-01\\n        :ARG0 e\\n        :ARG1 (j / joke-01\\n            :ARG0 i))\\n    :degree (q / quite))\", \"# ::snt In the 1890's a typical worker worked 60 hours per week; down to 48 by 1920 and 40 by 1940.\\n# ::tok In the 1890 's a typical worker worked 60 hours per week ; down to 48 by 1920 and 40 by 1940 .\\n(w3 / work-01\\n    :ARG0 (p / person\\n        :ARG0-of (w2 / work-01)\\n        :ARG1-of (t5 / typical-02))\\n    :ARG1 (r / rate-entity-91\\n        :ARG1 (t / temporal-quantity\\n            :quant 60\\n            :unit (h / hour))\\n        :ARG2 (t2 / temporal-quantity\\n            :quant 1\\n            :unit (w / week)))\\n    :ARG1-of (d4 / down-03\\n        :ARG4 (a / and\\n            :op1 (t3 / temporal-quantity\\n                :quant 48\\n                :time (d2 / date-entity\\n                    :year 1920)\\n                :unit (h2 / hour))\\n            :op2 (t4 / temporal-quantity\\n                :quant 40\\n                :time (b / by\\n                    :op1 (d3 / date-entity\\n                        :year 1940))\\n                :unit (h3 / hour))))\\n    :time (d / date-entity\\n        :decade 1890))\", '# ::snt Working hours go up as you look further back in time from 1940.\\n# ::tok Working hours go up as you look further back in time from 1940 .\\n(i / increase-01\\n    :ARG1 (h / hour\\n        :duration-of (w / work-01))\\n    :time (l / look-01\\n        :ARG0 (y / you)\\n        :ARG1 (b / back\\n            :degree (f / further)\\n            :op1 (d / date-entity\\n                :year 1940))))', '# ::snt Working hours go down as you look further back in time from 1940.\\n# ::tok Working hours go down as you look further back in time from 1940 .\\n(g / go-01\\n    :ARG1 (h / hour\\n        :time-of (w / work-01))\\n    :direction (d2 / down)\\n    :time (l / look-01\\n        :ARG0 (y / you)\\n        :ARG1 (b / back\\n            :degree (f / further)\\n            :op1 (d / date-entity\\n                :year 1940))))', '# ::snt I waited until Prime availability and paid a higher sticker price for a book so I could get free 2-day shipping.\\n# ::tok I waited until Prime availability and paid a higher sticker price for a book so I could get free 2 - day shipping .\\n(a / and\\n    :op1 (w / wait-01\\n        :ARG1 (i / i)\\n        :time (u / until\\n            :op1 (a2 / available-02\\n                :mod (p4 / prime))))\\n    :op2 (p / pay-01\\n        :purpose (p2 / possible-01\\n            :ARG1 (g / get-01\\n                :ARG0 i\\n                :ARG1 (s / ship-01\\n                    :ARG1-of (f / free-03)\\n                    :duration (t / temporal-quantity\\n                        :quant 2\\n                        :unit (d / day)))))\\n        :ARG0 i\\n        :ARG1 (p3 / price-01\\n            :ARG1 (b / book)\\n            :ARG1-of (h / have-degree-91\\n                :ARG2 (h2 / high-02\\n                    :ARG1 p3)\\n                :ARG3 (m / more))\\n            :mod (s2 / sticker))))', '# ::snt I waited until Prime availability and paid a higher Shipping & Handling fee to have a book in 2 days vs. 2 weeks.\\n# ::tok I waited until Prime availability and paid a higher Shipping & Handling fee to have a book in 2 days vs . 2 weeks .\\n(a2 / and\\n    :op1 (w / wait-01\\n        :ARG1 (i / i)\\n        :time (u / until\\n            :op1 (a4 / available-02\\n                :mod (p2 / prime))))\\n    :op2 (p / pay-01\\n        :purpose (h2 / have-03\\n            :ARG0 i\\n            :ARG1 (b / book)\\n            :ARG1-of (c / contrast-01)\\n            :time (a / after\\n                :quant (t / temporal-quantity\\n                    :quant 2\\n                    :unit (d / day))\\n                :quant (t2 / temporal-quantity\\n                    :quant 2\\n                    :unit (w2 / week))\\n                :op1 (n / now)))\\n        :ARG0 i\\n        :ARG1 (f / fee\\n            :ARG1-of (h3 / have-degree-91\\n                :ARG2 (h4 / high-02)\\n                :ARG3 (m / more))\\n            :mod (h / handle-01)\\n            :mod (a3 / and\\n                :op1 (s / ship-01\\n                    :ARG1 f)\\n                :op2 h))))', '# ::snt The Labor Theory of Value is at the heart of the economics of cost.\\n# ::tok The Labor Theory of Value is at the heart of the economics of cost .\\n(b / be-located-at-91\\n   :ARG1 (t / theory\\n            :wiki \"Value_theory\"\\n            :name (n / name\\n                     :op1 \"Labor\"\\n                     :op2 \"Theory\"\\n                     :op3 \"of\"\\n                     :op4 \"Value\"))\\n   :ARG2 (h / heart\\n            :part-of (e / economics\\n                        :topic (c / cost-01))))', '# ::snt The Labor Theory of Value is a scarce determinant of the economics of cost.\\n# ::tok The Labor Theory of Value is a scarce determinant of the economics of cost .\\n(d / determine-01\\n   :ARG0 (t / theory\\n            :wiki \"Value_theory\"\\n            :name (n / name\\n                     :op1 \"Labor\"\\n                     :op2 \"Theory\"\\n                     :op3 \"of\"\\n                     :op4 \"Value\"))\\n   :ARG1 (e / economics\\n            :topic (c / cost-01))\\n   :mod (s / scarce))', '# ::snt While their designed displacement was 262 tonnes (258 long tons), they displaced about 320 tonnes (310 long tons) fully loaded.\\n# ::tok While their designed displacement was 262 tonnes ( 258 long tons ) , they displaced about 320 tonnes ( 310 long tons ) fully loaded .\\n(c / contrast-01\\n    :ARG1 (d2 / displace-01\\n        :ARG1 (t / they)\\n        :ARG1-of (d / design-01)\\n        :ARG2 (m / mass-quantity\\n            :quant 262\\n            :unit (t2 / ton)))\\n    :ARG2 (d3 / displace-01\\n        :ARG0 t\\n        :ARG1 (a / about\\n            :op1 (m2 / mass-quantity\\n                :quant 320\\n                :unit (t3 / ton)))\\n        :ARG1-of (l / load-01\\n            :ARG1-of (f / full-09))))', '# ::snt Their loading capacity was about 58 tonnes.\\n# ::tok Their loading capacity was about 58 tonnes .\\n(c / capacity\\n    :quant (a / about\\n        :op1 (m / mass-quantity\\n            :quant 58\\n            :unit (t2 / ton)))\\n    :mod (l / load-01\\n        :ARG1 (t / they)))', '# ::snt Their loading capacity was about 262 tonnes.\\n# ::tok Their loading capacity was about 262 tonnes .\\n(c / capacity\\n    :quant (a / about\\n        :op1 (m / mass-quantity\\n            :quant 262\\n            :unit (t2 / ton)))\\n    :mod (l / load-01\\n        :ARG1 (t / they)))', '# ::snt Due to inadequate funding, 76 T and the rest of the 250t class were essentially coastal vessels, despite the original intention that they would be used for \"high seas\" operations.\\n# ::tok Due to inadequate funding , 76 T and the rest of the 250 t class were essentially coastal vessels , despite the original intention that they would be used for \" high seas \" operations .\\n(v / vessel\\n   :ARG1-of (c / cause-01\\n               :ARG0 (f / fund-01\\n                        :mod (a / adequate\\n                                :polarity -)))\\n   :concession (i2 / intend-01\\n                   :ARG1 (u / use-01\\n                            :ARG1 (a2 / and\\n                                      :op1 (s2 / ship\\n                                               :wiki \"MV_Cape_Wrath_(T-AKR-9962)\"\\n                                               :name (n / name\\n                                                        :op1 76\\n                                                        :op2 \"T\"))\\n                                      :op2 (r / rest\\n                                              :ARG1-of (i / include-91\\n                                                          :ARG2 (c2 / class\\n                                                                    :wiki \"Nelson-class_battleship\"\\n                                                                    :name (n2 / name\\n                                                                              :op1 250\\n                                                                              :op2 \"t\")))))\\n                            :ARG2 (o / operate-01\\n                                     :location (s / sea\\n                                                  :ARG1-of (h / high-02))))\\n                   :mod (o2 / original))\\n   :domain a2\\n   :mod (c3 / coast)\\n   :mod (e / essential))', '# ::snt Due to inadequate funding, 76 T and the rest of the 250t class were essentially high seas vessels, despite the original intention that they would be used for coastal operations.\\n# ::tok Due to inadequate funding , 76 T and the rest of the 250 t class were essentially high seas vessels , despite the original intention that they would be used for coastal operations .\\n(v / vessel\\n   :ARG1-of (c / cause-01\\n               :ARG0 (f / fund-01\\n                        :mod (a / adequate\\n                                :polarity -)))\\n   :concession (i2 / intend-01\\n                   :ARG1 (u / use-01\\n                            :ARG1 (a2 / and\\n                                      :op1 (s2 / ship\\n                                               :wiki \"MV_Cape_Wrath_(T-AKR-9962)\"\\n                                               :name (n / name\\n                                                        :op1 76\\n                                                        :op2 \"T\"))\\n                                      :op2 (r / rest\\n                                              :ARG1-of (i / include-91\\n                                                          :ARG2 (c2 / class\\n                                                                    :mod (m / mass-quantity\\n                                                                            :quant 250\\n                                                                            :unit (t / ton))))))\\n                            :ARG2 (o / operate-01\\n                                     :location (c3 / coast)))\\n                   :mod (o2 / original))\\n   :domain a2\\n   :mod (s / sea\\n           :ARG1-of (h / high-02))\\n   :mod (e / essential))', '# ::snt He stayed in England until November 1918, when he again took up his YMCA duties, establishing a rest hut and library in Cologne.\\n# ::tok He stayed in England until November 1918 , when he again took up his YMCA duties , establishing a rest hut and library in Cologne .\\n(s / stay-01\\n   :ARG1 (h / he)\\n   :location (c2 / country\\n                 :wiki \"England\"\\n                 :name (n / name\\n                          :op1 \"England\"))\\n   :time (u / until\\n            :op1 (d / date-entity\\n                    :month 11\\n                    :time-of (t / take-up-31\\n                                :ARG0 h\\n                                :ARG1 (d2 / duty\\n                                          :mod (o / organization\\n                                                  :wiki \"YMCA\"\\n                                                  :name (n2 / name\\n                                                            :op1 \"YMCA\"))\\n                                          :poss h)\\n                                :manner (e / establish-01\\n                                           :ARG0 h\\n                                           :ARG1 (a2 / and\\n                                                     :op1 (h2 / hut\\n                                                              :purpose (r / rest-01))\\n                                                     :op2 (l / library))\\n                                           :location (c / city\\n                                                        :wiki \"Cologne\"\\n                                                        :name (n3 / name\\n                                                                  :op1 \"Cologne\")))\\n                                :mod (a / again))\\n                    :year 1918)))', '# ::snt He stayed in England until November 1918, when he again took up his YMCA duties, establishing a rest hut and library in Germany.\\n# ::tok He stayed in England until November 1918 , when he again took up his YMCA duties , establishing a rest hut and library in Germany .\\n(s / stay-01\\n   :ARG1 (h / he)\\n   :location (c / country\\n                :wiki \"England\"\\n                :name (n / name\\n                         :op1 \"England\"))\\n   :time (u / until\\n            :op1 (d / date-entity\\n                    :month 11\\n                    :time-of (t / take-up-31\\n                                :ARG0 h\\n                                :ARG1 (d2 / duty\\n                                          :mod (o / organization\\n                                                  :wiki \"YMCA\"\\n                                                  :name (n2 / name\\n                                                            :op1 \"YMCA\"))\\n                                          :poss h)\\n                                :manner (e / establish-01\\n                                           :ARG0 h\\n                                           :ARG1 (a2 / and\\n                                                     :op1 (h2 / hut\\n                                                              :purpose (r / rest-01))\\n                                                     :op2 (l / library))\\n                                           :location (c2 / country\\n                                                         :wiki \"Germany\"\\n                                                         :name (n3 / name\\n                                                                   :op1 \"Germany\")))\\n                                :mod (a / again))\\n                    :year 1918)))', '# ::snt He stayed in England until November 1918, when he again took up his YMCA duties, establishing a rest hut and library in Italy.\\n# ::tok He stayed in England until November 1918 , when he again took up his YMCA duties , establishing a rest hut and library in Italy .\\n(s / stay-01\\n   :ARG1 (h / he)\\n   :location (c / country\\n                :wiki \"England\"\\n                :name (n / name\\n                         :op1 \"England\"))\\n   :time (u / until\\n            :op1 (d / date-entity\\n                    :month 11\\n                    :time-of (t / take-up-31\\n                                :ARG0 h\\n                                :ARG1 (d2 / duty\\n                                          :mod (o / organization\\n                                                  :wiki \"YMCA\"\\n                                                  :name (n2 / name\\n                                                            :op1 \"YMCA\"))\\n                                          :poss h)\\n                                :manner (e / establish-01\\n                                           :ARG0 h\\n                                           :ARG1 (a2 / and\\n                                                     :op1 (h2 / hut\\n                                                              :purpose (r / rest-01))\\n                                                     :op2 (l / library))\\n                                           :location (c2 / country\\n                                                         :wiki \"Italy\"\\n                                                         :name (n3 / name\\n                                                                   :op1 \"Italy\")))\\n                                :mod (a / again))\\n                    :year 1918)))', '# ::snt Throughout the Raffles stories patriotism runs as an intermittent theme—to such an extent that the writer William Vivian Butler describes him as a \"super-patriot\".\\n# ::tok Throughout the Raffles stories patriotism runs as an intermittent theme—to such an extent that the writer William Vivian Butler describes him as a \" super - patriot \" .\\n(r / run-04\\n   :ARG1 (p2 / patriotism)\\n   :ARG1-of (h / have-degree-91\\n               :ARG3 (t2 / to-the-point)\\n               :ARG6 (d / describe-01\\n                        :ARG0 (p4 / person\\n                                  :wiki -\\n                                  :name (n2 / name\\n                                            :op1 \"William\"\\n                                            :op2 \"Vivian\"\\n                                            :op3 \"Butler\")\\n                                  :ARG0-of (w / write-01))\\n                        :ARG1 (p3 / person\\n                                  :wiki -\\n                                  :name (n / name\\n                                           :op1 \"Raffles\"))\\n                        :ARG2 (p / patriot\\n                                 :degree (s2 / super))))\\n   :frequency (i / intermittent)\\n   :location (t / throughout\\n                :op1 (s / story\\n                        :topic p3)))', '# ::snt Throughout the Raffles stories patriotism runs as an intermittent theme—to such an extent that the writer William Vivian Butler describes him as a \"anti-patriot\".\\n# ::tok Throughout the Raffles stories patriotism runs as an intermittent theme—to such an extent that the writer William Vivian Butler describes him as a \" anti - patriot \" .\\n(r / run-04\\n   :ARG1 (p / patriotism)\\n   :ARG1-of (h / have-degree-91\\n               :ARG3 (t2 / to-the-point)\\n               :ARG6 (d / describe-01\\n                        :ARG0 (p3 / person\\n                                  :wiki -\\n                                  :name (n2 / name\\n                                            :op1 \"William\"\\n                                            :op2 \"Vivian\"\\n                                            :op3 \"Butler\")\\n                                  :ARG0-of (w / write-01))\\n                        :ARG1 (p2 / person\\n                                  :wiki -\\n                                  :name (n / name\\n                                           :op1 \"Raffles\"))\\n                        :ARG2 (p4 / person\\n                                  :ARG0-of (o / oppose-01\\n                                              :ARG1 p))))\\n   :frequency (i / intermittent)\\n   :location (t / throughout\\n                :op1 (s / story\\n                        :topic p2)))', '# ::snt A faint constellation, its three brightest stars—Alpha, Beta and Gamma Pyxidis—are in a rough line.\\n# ::tok A faint constellation , its three brightest stars—Alpha , Beta and Gamma Pyxidis—are in a rough line .\\n(l / line\\n   :ARG1-of (r / rough-04)\\n   :domain (a / and\\n              :quant 3\\n              :ARG1-of (h / have-degree-91\\n                          :ARG2 (b / bright-03\\n                                   :ARG1 a)\\n                          :ARG3 (m / most))\\n              :op2 (s / star\\n                      :wiki -\\n                      :name (n / name\\n                               :op1 \"Beta\"))\\n              :op3 (s2 / star\\n                       :wiki -\\n                       :name (n2 / name\\n                                 :op1 \"Gamma\"\\n                                 :op2 \"Pyxidis—are\"))\\n              :poss (c / constellation\\n                       :mod (f / faint))))', '# ::snt A faint constellation, its three brightest stars—Alpha, Beta and Gamma Pyxidis—are in an equilateral triangle.\\n# ::tok A faint constellation , its three brightest stars—Alpha , Beta and Gamma Pyxidis—are in an equilateral triangle .\\n(b / be-located-at-91\\n   :ARG1 (a / and\\n            :quant 3\\n            :ARG1-of (h / have-degree-91\\n                        :ARG2 (b2 / bright-03\\n                                  :ARG1 a)\\n                        :ARG3 (m / most))\\n            :op2 (s / star\\n                    :wiki -\\n                    :name (n / name\\n                             :op1 \"Beta\"))\\n            :op3 (s2 / star\\n                     :wiki -\\n                     :name (n2 / name\\n                               :op1 \"Gamma\"\\n                               :op2 \"Pyxidis—are\"))\\n            :poss (c / constellation\\n                     :mod (f / faint)))\\n   :ARG2 (t / triangle\\n            :mod (e / equilateral)))', '# ::snt Kappa Pyxidis was catalogued but not given a Bayer designation by Lacaille, but Gould felt the star was bright enough to warrant a letter.\\n# ::tok Kappa Pyxidis was catalogued but not given a Bayer designation by Lacaille , but Gould felt the star was bright enough to warrant a letter .\\n(c4 / contrast-01\\n    :ARG1 (c3 / contrast-01\\n              :ARG1 (c / catalogue-01\\n                       :ARG1 (s / star\\n                                :wiki -\\n                                :name (n / name\\n                                         :op1 \"Kappa\"\\n                                         :op2 \"Pyxidis\")))\\n              :ARG2 (d / designate-01\\n                       :polarity -\\n                       :ARG0 (p / person\\n                                :wiki -\\n                                :name (n3 / name\\n                                          :op1 \"Lacaille\"))\\n                       :ARG1 s\\n                       :ARG2 (c2 / company\\n                                 :wiki \"Bayer\"\\n                                 :name (n2 / name\\n                                           :op1 \"Bayer\"))))\\n    :ARG2 (f / feel-02\\n             :ARG0 (p2 / person\\n                       :wiki -\\n                       :name (n4 / name\\n                                 :op1 \"Gould\"))\\n             :ARG1 (h / have-degree-91\\n                      :ARG1 s\\n                      :ARG2 (b / bright-02\\n                               :ARG1 s)\\n                      :ARG3 (e / enough)\\n                      :ARG6 (w / warrant-01\\n                               :ARG0 s\\n                               :ARG1 (l / letter)))))', '# ::snt Lacaille and Gould agreed about the designation of Kappa Pyxidis.\\n# ::tok Lacaille and Gould agreed about the designation of Kappa Pyxidis .\\n(a / agree-01\\n   :ARG0 (p / person\\n            :wiki -\\n            :name (n / name\\n                     :op1 \"Lacaille\"))\\n   :ARG1 (d / designate-01\\n            :ARG2 (t / thing\\n                     :wiki \"Henrietta_Swan_Leavitt\"\\n                     :name (n3 / name\\n                               :op1 \"Kappa\"\\n                               :op2 \"Pyxidis\")))\\n   :ARG2 (p2 / person\\n             :wiki -\\n             :name (n2 / name\\n                       :op1 \"Gould\")))', '# ::snt Lacaille and Gould disagreed about the designation of Kappa Pyxidis.\\n# ::tok Lacaille and Gould disagreed about the designation of Kappa Pyxidis .\\n(d2 / disagree-01\\n    :ARG0 (p / person\\n             :wiki -\\n             :name (n / name\\n                      :op1 \"Lacaille\"))\\n    :ARG1 (p2 / person\\n              :wiki -\\n              :name (n2 / name\\n                        :op1 \"Gould\"))\\n    :ARG2 (d / designate-01\\n             :ARG2 (t / thing\\n                      :wiki \"Henrietta_Swan_Leavitt\"\\n                      :name (n3 / name\\n                                :op1 \"Kappa\"\\n                                :op2 \"Pyxidis\"))))', '# ::snt A formation of approximately 50 officers of the Baltimore Police eventually placed themselves between the rioters and the militiamen, allowing the 6th Massachusetts to proceed to Camden Station.\\n# ::tok A formation of approximately 50 officers of the Baltimore Police eventually placed themselves between the rioters and the militiamen , allowing the 6th Massachusetts to proceed to Camden Station .\\n(p3 / place-01\\n    :ARG0 (f / form-01\\n             :ARG1 (p / person\\n                      :quant (a2 / approximately\\n                                 :op1 50)\\n                      :ARG0-of (h / have-org-role-91\\n                                  :ARG1 (p4 / police\\n                                            :mod (c / city\\n                                                    :wiki \"Baltimore\"\\n                                                    :name (n / name\\n                                                             :op1 \"Baltimore\")))\\n                                  :ARG2 (o / officer))))\\n    :ARG0-of (a / allow-01\\n                :ARG1 (p5 / proceed-01\\n                          :ARG0 (m / military\\n                                   :wiki \"6th_Massachusetts_Militia_Regiment\"\\n                                   :name (n2 / name\\n                                             :op1 \"6th\"\\n                                             :op2 \"Massachusetts\"))\\n                          :ARG4 (s / station\\n                                   :wiki \"Camden_Station\"\\n                                   :name (n3 / name\\n                                             :op1 \"Camden\"\\n                                             :op2 \"Station\"))))\\n    :ARG1 p\\n    :ARG2 (b / between\\n             :op1 (p2 / person\\n                      :ARG0-of (r / riot-01))\\n             :op2 (m2 / militiaman))\\n    :time (e / eventual))', '# ::snt A formation of approximately 50 officers of the police of the City of Baltimore eventually placed themselves between the rioters and the militiamen, allowing the 6th Massachusetts to proceed to Camden Station.\\n# ::tok A formation of approximately 50 officers of the police of the City of Baltimore eventually placed themselves between the rioters and the militiamen , allowing the 6th Massachusetts to proceed to Camden Station .\\n(p3 / place-01\\n    :ARG0 (f / form-01\\n             :ARG1 (p / person\\n                      :quant (a2 / approximately\\n                                 :op1 50)\\n                      :ARG0-of (h / have-org-role-91\\n                                  :ARG1 (p4 / police\\n                                            :poss (c / city\\n                                                     :wiki \"Baltimore\"\\n                                                     :name (n / name\\n                                                              :op1 \"Baltimore\")))\\n                                  :ARG2 (o / officer))))\\n    :ARG0-of (a / allow-01\\n                :ARG1 (p5 / proceed-01\\n                          :ARG0 (m / military\\n                                   :wiki \"6th_Massachusetts_Militia_Regiment\"\\n                                   :name (n2 / name\\n                                             :op1 \"6th\"\\n                                             :op2 \"Massachusetts\"))\\n                          :ARG4 (s / station\\n                                   :wiki \"Camden_Station\"\\n                                   :name (n3 / name\\n                                             :op1 \"Camden\"\\n                                             :op2 \"Station\"))))\\n    :ARG1 p\\n    :ARG2 (b / between\\n             :op1 (p2 / person\\n                      :ARG0-of (r / riot-01))\\n             :op2 (m2 / militiaman))\\n    :time (e / eventual))', '# ::snt A formation of approximately 50 officers of the police of from outside Baltimore eventually placed themselves between the rioters and the militiamen, allowing the 6th Massachusetts to proceed to Camden Station.\\n# ::tok A formation of approximately 50 officers of the police of from outside Baltimore eventually placed themselves between the rioters and the militiamen , allowing the 6th Massachusetts to proceed to Camden Station .\\n(p3 / place-01\\n    :ARG0 (f / form-01\\n             :ARG1 (p / person\\n                      :quant (a2 / approximately\\n                                 :op1 50)\\n                      :ARG0-of (h / have-org-role-91\\n                                  :ARG1 (p4 / police)\\n                                  :ARG2 (o / officer))\\n                      :source (o2 / outside\\n                                  :op1 (c / city\\n                                          :wiki \"Baltimore\"\\n                                          :name (n / name\\n                                                   :op1 \"Baltimore\")))))\\n    :ARG0-of (a / allow-01\\n                :ARG1 (p5 / proceed-01\\n                          :ARG0 (m / military\\n                                   :wiki \"6th_Massachusetts_Militia_Regiment\"\\n                                   :name (n2 / name\\n                                             :op1 \"6th\"\\n                                             :op2 \"Massachusetts\"))\\n                          :ARG4 (s / station\\n                                   :wiki \"Camden_Station\"\\n                                   :name (n3 / name\\n                                             :op1 \"Camden\"\\n                                             :op2 \"Station\"))))\\n    :ARG1 p\\n    :ARG2 (b / between\\n             :op1 (p2 / person\\n                      :ARG0-of (r / riot-01))\\n             :op2 (m2 / militiaman))\\n    :time (e / eventual))', '# ::snt The regiment returned to Baltimore on May 13, when Major General Benjamin F. Butler occupied the city with several Union regiments in anticipation of a Confederate attack on Baltimore which never developed.\\n# ::tok The regiment returned to Baltimore on May 13 , when Major General Benjamin F. Butler occupied the city with several Union regiments in anticipation of a Confederate attack on Baltimore which never developed .\\n(r3 / return-01\\n    :ARG1 (r / regiment)\\n    :ARG4 (c / city\\n             :wiki \"Baltimore\"\\n             :name (n / name\\n                      :op1 \"Baltimore\"))\\n    :time (d / date-entity\\n             :day 13\\n             :month 5\\n             :time-of (o / occupy-01\\n                         :purpose (a / anticipate-01\\n                                     :ARG0 (p / person\\n                                              :wiki \"Benjamin_Butler\"\\n                                              :name (n2 / name\\n                                                        :op1 \"Benjamin\"\\n                                                        :op2 \"F.\"\\n                                                        :op3 \"Butler\")\\n                                              :ARG0-of (h / have-org-role-91\\n                                                          :ARG2 (m / major-general)))\\n                                     :ARG1 (a2 / attack-01\\n                                               :ARG0 (c3 / country\\n                                                         :wiki \"Flags_of_the_Confederate_States_of_America\"\\n                                                         :name (n4 / name\\n                                                                   :op1 \"Confederate\"))\\n                                               :ARG1 c\\n                                               :ARG1-of (d2 / develop-02\\n                                                            :polarity -\\n                                                            :time (e / ever))))\\n                         :ARG0 p\\n                         :ARG1 c\\n                         :accompanier (r2 / regiment\\n                                          :quant (s / several)\\n                                          :mod (c2 / country\\n                                                   :wiki \"Soviet_Union\"\\n                                                   :name (n3 / name\\n                                                             :op1 \"Union\"))))))', '# ::snt On May 13, Major General Benjamin F. Butler occupied the city with several Union regiments in anticipation of a Confederate attack on Baltimore which never developed.\\n# ::tok On May 13 , Major General Benjamin F. Butler occupied the city with several Union regiments in anticipation of a Confederate attack on Baltimore which never developed .\\n(o / occupy-01\\n   :purpose (a / anticipate-01\\n               :ARG0 (p / person\\n                        :wiki \"Benjamin_Butler\"\\n                        :name (n / name\\n                                 :op1 \"Benjamin\"\\n                                 :op2 \"F.\"\\n                                 :op3 \"Butler\")\\n                        :ARG0-of (h / have-org-role-91\\n                                    :ARG2 (m / major-general)))\\n               :ARG1 (a2 / attack-01\\n                         :ARG0 (c3 / country\\n                                   :wiki \"Flags_of_the_Confederate_States_of_America\"\\n                                   :name (n3 / name\\n                                             :op1 \"Confederate\"))\\n                         :ARG1 (c / city\\n                                  :wiki \"Baltimore\"\\n                                  :name (n4 / name\\n                                            :op1 \"Baltimore\"))\\n                         :ARG1-of (d2 / develop-02\\n                                      :polarity -\\n                                      :time (e / ever))))\\n   :ARG0 p\\n   :ARG1 c\\n   :accompanier (r / regiment\\n                   :quant (s / several)\\n                   :mod (c2 / country\\n                            :wiki \"Soviet_Union\"\\n                            :name (n2 / name\\n                                      :op1 \"Union\")))\\n   :time (d / date-entity\\n            :day 13\\n            :month 5))', '# ::snt Long before May 13, Major General Benjamin F. Butler occupied the city with several Union regiments in anticipation of a Confederate attack on Baltimore which never developed.\\n# ::tok Long before May 13 , Major General Benjamin F. Butler occupied the city with several Union regiments in anticipation of a Confederate attack on Baltimore which never developed .\\n(o / occupy-01\\n   :purpose (a / anticipate-01\\n               :ARG0 (p / person\\n                        :wiki \"Benjamin_Butler\"\\n                        :name (n / name\\n                                 :op1 \"Benjamin\"\\n                                 :op2 \"F.\"\\n                                 :op3 \"Butler\")\\n                        :ARG0-of (h / have-org-role-91\\n                                    :ARG2 (m / major-general)))\\n               :ARG1 (a2 / attack-01\\n                         :ARG0 (c3 / country\\n                                   :wiki \"Flags_of_the_Confederate_States_of_America\"\\n                                   :name (n3 / name\\n                                             :op1 \"Confederate\"))\\n                         :ARG1 (c / city\\n                                  :wiki \"Baltimore\"\\n                                  :name (n4 / name\\n                                            :op1 \"Baltimore\"))\\n                         :ARG1-of (d2 / develop-02\\n                                      :polarity -\\n                                      :time (e / ever))))\\n   :ARG0 p\\n   :ARG1 c\\n   :accompanier (r / regiment\\n                   :quant (s / several)\\n                   :mod (c2 / country\\n                            :wiki \"Soviet_Union\"\\n                            :name (n2 / name\\n                                      :op1 \"Union\")))\\n   :time (b / before\\n            :ARG1-of (l / long-03)\\n            :op1 (d / date-entity\\n                    :day 13\\n                    :month 5)))', '# ::snt Threatened by habitat loss and hunting, ruffed lemurs are facing extinction in the wild.\\n# ::tok Threatened by habitat loss and hunting , ruffed lemurs are facing extinction in the wild .\\n(f / face-01\\n    :ARG0 (l / lemur\\n        :ARG1-of (r / ruff-01))\\n    :ARG1 (e / extinct\\n        :domain l)\\n    :ARG1-of (c / cause-01\\n        :ARG0 (t / threaten-01\\n            :ARG0 (a / and\\n                :op1 (l2 / lose-02\\n                    :ARG1 (h / habitat))\\n                :op2 (h2 / hunt-01))\\n            :ARG1 l))\\n    :location (w / wild))', '# ::snt Threatened by habitat loss and hunting, ruffed lemurs are extinct in the wild.\\n# ::tok Threatened by habitat loss and hunting , ruffed lemurs are extinct in the wild .\\n(e / extinct\\n    :domain (l / lemur\\n        :ARG1-of (r / ruffle-01)\\n        :ARG1-of (t / threaten-01\\n            :ARG0 (a / and\\n                :op1 (l2 / lose-02\\n                    :ARG1 (h / habitat))\\n                :op2 (h2 / hunt-01))))\\n    :location (w / wild))', '# ::snt White-headed lemurs, on the other hand, prefer the understory and lower canopy, below 15 m (49 ft), while the ruffed lemurs mainly keep to the upper canopy, above 15 m (49 ft).\\n# ::tok White - headed lemurs , on the other hand , prefer the understory and lower canopy , below 15 m ( 49 ft ) , while the ruffed lemurs mainly keep to the upper canopy , above 15 m ( 49 ft ) .\\n(c3 / contrast-01\\n    :ARG1 (p / prefer-01\\n        :ARG0 (l / lemur\\n            :part (h2 / head\\n                :ARG1-of (w / white-03)))\\n        :ARG1 (a2 / and\\n            :op1 (u / understory)\\n            :op2 (c / canopy\\n                :ARG1-of (h / have-degree-91\\n                    :ARG2 (l3 / low-04\\n                        :ARG1 c)\\n                    :ARG3 (m3 / more))\\n                :location (b / below\\n                    :op1 (d / distance-quantity\\n                        :quant 15\\n                        :unit (m2 / meter))))))\\n    :ARG2 (k / keep-01\\n        :ARG0 (l2 / lemur\\n            :ARG1-of (r / ruffle-01))\\n        :ARG1 (c2 / canopy\\n            :location (a / above\\n                :op1 d)\\n            :mod (u2 / upper))\\n        :mod (m / main)))', '# ::snt Ruffed lemurs prefer to live lower than white-headed lemurs.\\n# ::tok Ruffed lemurs prefer to live lower than white - headed lemurs .\\n(p / prefer-01\\n    :ARG0 (l / lemur\\n        :ARG1-of (r / ruffed-01))\\n    :ARG1 (l3 / live-01\\n        :ARG0 l\\n        :ARG1-of (h / have-degree-91\\n            :ARG2 (l4 / low-04\\n                :ARG1 l3)\\n            :ARG3 (m / more)\\n            :ARG4 (l2 / lemur\\n                :part (h2 / head\\n                    :ARG1-of (w / white-03))))))', '# ::snt Ruffed lemurs prefer to live higher than white-headed lemurs.\\n# ::tok Ruffed lemurs prefer to live higher than white - headed lemurs .\\n(p / prefer-01\\n    :ARG0 (l / lemur\\n        :ARG1-of (r / ruffed-01))\\n    :ARG1 (l3 / live-01\\n        :ARG0 l\\n        :ARG1-of (h / have-degree-91\\n            :ARG2 (h3 / high-02\\n                :ARG1 l3)\\n            :ARG3 (m / more)\\n            :ARG4 (l2 / lemur\\n                :part (h2 / head\\n                    :ARG1-of (w / white-03))))))', '# ::snt They are diurnal; although peak activity occurs during the early morning and late afternoon or evening, resting usually occurs around midday.\\n# ::tok They are diurnal ; although peak activity occurs during the early morning and late afternoon or evening , resting usually occurs around midday .\\n(m3 / multi-sentence\\n    :snt1 (d5 / diurnal\\n        :domain (t / they))\\n    :snt2 (h / have-concession-91\\n        :ARG1 (r / rest-01\\n            :mod (u / usual)\\n            :time (a4 / around\\n                :op1 (d4 / date-entity\\n                    :dayperiod (m / midday))))\\n        :ARG2 (a / activity-06\\n            :ARG1-of (p / peak-01\\n                :time (a3 / and\\n                    :op1 (e / early\\n                        :op1 (d / date-entity\\n                            :dayperiod (m2 / morning)))\\n                    :op2 (o / or\\n                        :op1 (l / late\\n                            :op1 (d2 / date-entity\\n                                :dayperiod (a2 / afternoon)))\\n                        :op2 (d3 / date-entity\\n                            :dayperiod (e2 / evening))))))))', '# ::snt They are nocturnal; although peak activity occurs during the early morning and late afternoon or evening, resting usually occurs around midnight.\\n# ::tok They are nocturnal ; although peak activity occurs during the early morning and late afternoon or evening , resting usually occurs around midnight .\\n(m3 / multi-sentence\\n    :snt1 (n / nocturnal\\n        :domain (t / they))\\n    :snt2 (h / have-concession-91\\n        :ARG1 (r / rest-01\\n            :mod (u / usual)\\n            :time (a4 / around\\n                :op1 (m / midnight)))\\n        :ARG2 (a / activity-06\\n            :ARG1-of (p / peak-01\\n                :time (a3 / and\\n                    :op1 (e / early\\n                        :op1 (d / date-entity\\n                            :dayperiod (m2 / morning)))\\n                    :op2 (o / or\\n                        :op1 (l / late\\n                            :op1 (d2 / date-entity\\n                                :dayperiod (a2 / afternoon)))\\n                        :op2 (d3 / date-entity\\n                            :dayperiod (e2 / evening))))))))', '# ::snt The battlecruiser Seydlitz struck a mine while en route to the target, and had to withdraw.\\n# ::tok The battlecruiser Seydlitz struck a mine while en route to the target , and had to withdraw .\\n(a / and\\n   :op1 (s / strike-01\\n           :ARG0 (b / battleship\\n                    :wiki \"SMS_Seydlitz\"\\n                    :name (n / name\\n                             :op1 \"Seydlitz\"))\\n           :ARG1 (m / mine)\\n           :time (r / route-01\\n                    :ARG1 b\\n                    :ARG2 (t / target)))\\n   :op2 (o / obligate-01\\n           :ARG1 b\\n           :ARG2 (w / withdraw-01\\n                    :ARG1 b)))', '# ::snt The battlecruiser Seydlitz struck a mine while en route to the target, and was damaged.\\n# ::tok The battlecruiser Seydlitz struck a mine while en route to the target , and was damaged .\\n(a / and\\n   :op1 (s / strike-01\\n           :ARG0 (b / battleship\\n                    :wiki \"SMS_Seydlitz\"\\n                    :name (n / name\\n                             :op1 \"Seydlitz\"))\\n           :ARG1 (m / mine)\\n           :time (r / route-01\\n                    :ARG1 b\\n                    :ARG2 (t / target)))\\n   :op2 (d / damage-01\\n           :ARG1 b))', '# ::snt The battlecruiser Seydlitz struck a mine while en route to the target, and was destroyed.\\n# ::tok The battlecruiser Seydlitz struck a mine while en route to the target , and was destroyed .\\n(a / and\\n   :op1 (s / strike-01\\n           :ARG0 (b / battleship\\n                    :wiki \"SMS_Seydlitz\"\\n                    :name (n / name\\n                             :op1 \"Seydlitz\"))\\n           :ARG1 (m / mine)\\n           :time (r / route-01\\n                    :ARG1 b\\n                    :ARG2 (t / target)))\\n   :op2 (d / destroy-01\\n           :ARG1 b))', '# ::snt By saying this, Kennedy was admonishing people not to riot in wake of King\\'s death and in effect equating their actions to that of the civil rights leader\\'s assassin.\\n# ::tok By saying this , Kennedy was admonishing people not to riot in wake of King \\'s death and in effect equating their actions to that of the civil rights leader \\'s assassin .\\n(a4 / and\\n    :manner (s / say-01\\n               :ARG0 (p / person\\n                        :wiki -\\n                        :name (n / name\\n                                 :op1 \"Kennedy\"))\\n               :ARG1 (t / this))\\n    :op1 (a3 / admonish-02\\n             :ARG0 p\\n             :ARG1 (p2 / person)\\n             :ARG2 (r2 / riot-01\\n                       :polarity -\\n                       :ARG0 p2\\n                       :time (w / wake\\n                                :op1 (d / die-01\\n                                        :ARG1 (p3 / person\\n                                                  :wiki -\\n                                                  :name (n2 / name\\n                                                            :op1 \"King\"))))))\\n    :op2 (e2 / equate-01\\n             :ARG0 p\\n             :ARG1 (a2 / act-02\\n                       :ARG0 p2)\\n             :ARG1-of (e / effect-03)\\n             :ARG2 (a / act-02\\n                      :ARG0 (p5 / person\\n                                :ARG0-of (a5 / assassinate-01\\n                                             :ARG1 (p4 / person\\n                                                       :ARG0-of (l / lead-02\\n                                                                   :ARG2 (r / right-05\\n                                                                            :mod (c / civil)))))))))', '# ::snt By saying this, Kennedy was admonishing people not to riot in wake of King\\'s death and in effect equating their actions to that of Dr. Martin Luther King, Jr.\\'s assassin.\\n# ::tok By saying this , Kennedy was admonishing people not to riot in wake of King \\'s death and in effect equating their actions to that of Dr . Martin Luther King , Jr . \\'s assassin .\\n(a4 / and\\n    :manner (s / say-01\\n               :ARG0 (p / person\\n                        :wiki -\\n                        :name (n / name\\n                                 :op1 \"Kennedy\"))\\n               :ARG1 (t / this))\\n    :op1 (a3 / admonish-02\\n             :ARG0 p\\n             :ARG1 (p2 / person)\\n             :ARG2 (r / riot-01\\n                      :polarity -\\n                      :ARG0 p2\\n                      :time (w / wake\\n                               :op1 (d / die-01\\n                                       :ARG1 (p3 / person\\n                                                 :wiki -\\n                                                 :name (n2 / name\\n                                                           :op1 \"Dr\"\\n                                                           :op2 \"Martin\"\\n                                                           :op3 \"Luther\"\\n                                                           :op4 \"King\"\\n                                                           :op5 \"Jr\"))))))\\n    :op2 (e2 / equate-01\\n             :ARG0 p\\n             :ARG1 (a2 / act-02\\n                       :ARG0 p2)\\n             :ARG1-of (e / effect-03)\\n             :ARG2 (a / act-02\\n                      :ARG0 (p4 / person\\n                                :ARG0-of (a5 / assassinate-01\\n                                             :ARG1 p3)))))', '# ::snt By saying this, Kennedy was admonishing people not to riot in wake of King\\'s death and in effect equating their actions to that of Kennedy\\'s assassin.\\n# ::tok By saying this , Kennedy was admonishing people not to riot in wake of King \\'s death and in effect equating their actions to that of Kennedy \\'s assassin .\\n(a4 / and\\n    :manner (s / say-01\\n               :ARG0 (p / person\\n                        :wiki -\\n                        :name (n / name\\n                                 :op1 \"Kennedy\"))\\n               :ARG1 (t / this))\\n    :op1 (a3 / admonish-02\\n             :ARG0 p\\n             :ARG1 (p2 / person)\\n             :ARG2 (r / riot-01\\n                      :polarity -\\n                      :ARG0 p2\\n                      :time (w / wake\\n                               :op1 (d / die-01\\n                                       :ARG1 (p3 / person\\n                                                 :wiki -\\n                                                 :name (n2 / name\\n                                                           :op1 \"King\"))))))\\n    :op2 (e2 / equate-01\\n             :ARG0 p\\n             :ARG1 (a2 / act-02\\n                       :ARG0 p2)\\n             :ARG1-of (e / effect-03)\\n             :ARG2 (a / act-02\\n                      :ARG0 (p4 / person\\n                                :ARG0-of (a5 / assassinate-01\\n                                             :ARG1 p)))))', '# ::snt By saying this, Kennedy was admonishing people not to riot in wake of King\\'s death and in effect equating their actions to that of Malcolm X\\'s assassin.\\n# ::tok By saying this , Kennedy was admonishing people not to riot in wake of King \\'s death and in effect equating their actions to that of Malcolm X \\'s assassin .\\n(a4 / and\\n    :manner (s / say-01\\n               :ARG0 (p / person\\n                        :wiki -\\n                        :name (n / name\\n                                 :op1 \"Kennedy\"))\\n               :ARG1 (t / this))\\n    :op1 (a3 / admonish-02\\n             :ARG0 p\\n             :ARG1 (p2 / person)\\n             :ARG2 (r / riot-01\\n                      :polarity -\\n                      :ARG0 p2\\n                      :time (w / wake\\n                               :op1 (d / die-01\\n                                       :ARG1 (p3 / person\\n                                                 :wiki -\\n                                                 :name (n2 / name\\n                                                           :op1 \"King\"))))))\\n    :op2 (e2 / equate-01\\n             :ARG0 p\\n             :ARG1 (a2 / act-02\\n                       :ARG0 p2)\\n             :ARG1-of (e / effect-03)\\n             :ARG2 (a / act-02\\n                      :ARG0 (p5 / person\\n                                :ARG0-of (a5 / assassinate-01\\n                                             :ARG1 (p4 / person\\n                                                       :wiki -\\n                                                       :name (n3 / name\\n                                                                 :op1 \"Malcolm\"\\n                                                                 :op2 \"X\")))))))', '# ::snt By saying this, Kennedy was admonishing people not to riot in wake of King\\'s death and in effect equating their actions to that of his assassin.\\n# ::tok By saying this , Kennedy was admonishing people not to riot in wake of King \\'s death and in effect equating their actions to that of his assassin .\\n(a4 / and\\n    :manner (s / say-01\\n               :ARG0 (p / person\\n                        :wiki -\\n                        :name (n / name\\n                                 :op1 \"Kennedy\"))\\n               :ARG1 (t / this))\\n    :op1 (a3 / admonish-02\\n             :ARG0 p\\n             :ARG1 (p2 / person)\\n             :ARG2 (r / riot-01\\n                      :polarity -\\n                      :ARG0 p2\\n                      :time (w / wake\\n                               :op1 (d / die-01\\n                                       :ARG1 (p3 / person\\n                                                 :wiki -\\n                                                 :name (n2 / name\\n                                                           :op1 \"King\"))))))\\n    :op2 (e2 / equate-01\\n             :ARG0 p\\n             :ARG1 (a2 / act-02\\n                       :ARG0 p2)\\n             :ARG1-of (e / effect-03)\\n             :ARG2 (a / act-02\\n                      :ARG0 (p4 / person\\n                                :ARG0-of (a5 / assassinate-01\\n                                             :ARG1 p3)))))', '# ::snt By saying this, Kennedy was admonishing people not to riot in wake of King\\'s death and in effect equating their actions to that of the civil rights leader.\\n# ::tok By saying this , Kennedy was admonishing people not to riot in wake of King \\'s death and in effect equating their actions to that of the civil rights leader .\\n(a4 / and\\n    :manner (s / say-01\\n               :ARG0 (p / person\\n                        :wiki -\\n                        :name (n / name\\n                                 :op1 \"Kennedy\"))\\n               :ARG1 (t / this))\\n    :op1 (a3 / admonish-02\\n             :ARG0 p\\n             :ARG1 (p2 / person)\\n             :ARG2 (r2 / riot-01\\n                       :polarity -\\n                       :ARG0 p2\\n                       :time (w / wake\\n                                :op1 (d / die-01\\n                                        :ARG1 (p3 / person\\n                                                  :wiki -\\n                                                  :name (n2 / name\\n                                                            :op1 \"King\"))))))\\n    :op2 (e2 / equate-01\\n             :ARG0 p\\n             :ARG1 (a2 / act-02\\n                       :ARG0 p2)\\n             :ARG1-of (e / effect-03)\\n             :ARG2 (a / act-02\\n                      :ARG0 (p4 / person\\n                                :ARG0-of (l / lead-02\\n                                            :ARG2 (r / right-05\\n                                                     :mod (c / civil)))))))', '# ::snt After quoting Abraham Lincoln, he portrayed the American public as a people increasingly succumbing to its violent tendencies that undermined its national ideals.\\n# ::tok After quoting Abraham Lincoln , he portrayed the American public as a people increasingly succumbing to its violent tendencies that undermined its national ideals .\\n(p3 / portray-01\\n    :ARG0 (h / he)\\n    :ARG1 (p4 / public\\n              :mod (c / country\\n                      :wiki \"United_States\"\\n                      :name (n2 / name\\n                                :op1 \"America\")))\\n    :ARG2 (p2 / person\\n              :ARG0-of (s / succumb-01\\n                          :ARG1 (t / tend-02\\n                                   :ARG0-of (u / undermine-01\\n                                               :ARG1 (i / ideal\\n                                                        :mod (n3 / nation)\\n                                                        :poss p4))\\n                                   :ARG1 p4\\n                                   :ARG2 (v / violence))\\n                          :ARG1-of (i2 / increase-01)))\\n    :time (a / after\\n             :op1 (q / quote-01\\n                     :ARG0 h\\n                     :ARG2 (p / person\\n                              :wiki \"Abraham_Lincoln\"\\n                              :name (n / name\\n                                       :op1 \"Abraham\"\\n                                       :op2 \"Lincoln\")))))', '# ::snt After quoting Abraham Lincoln, he portrayed the American public as a people that undermined its national ideals.\\n# ::tok After quoting Abraham Lincoln , he portrayed the American public as a people that undermined its national ideals .\\n(p3 / portray-01\\n    :ARG0 (h / he)\\n    :ARG1 (p4 / public\\n              :mod (c / country\\n                      :wiki \"United_States\"\\n                      :name (n2 / name\\n                                :op1 \"America\")))\\n    :ARG2 (p2 / person\\n              :ARG0-of (u / undermine-01\\n                          :ARG1 (i / ideal\\n                                   :mod (n3 / nation)\\n                                   :poss p4)))\\n    :time (a / after\\n             :op1 (q / quote-01\\n                     :ARG0 h\\n                     :ARG2 (p / person\\n                              :wiki \"Abraham_Lincoln\"\\n                              :name (n / name\\n                                       :op1 \"Abraham\"\\n                                       :op2 \"Lincoln\")))))', '# ::snt After quoting Abraham Lincoln, he portrayed the American public\\'s violent tendencies as undermining its national ideals.\\n# ::tok After quoting Abraham Lincoln , he portrayed the American public \\'s violent tendencies as undermining its national ideals .\\n(p2 / portray-01\\n    :ARG0 (h / he)\\n    :ARG1 (t / tend-02\\n             :ARG1 (p3 / public\\n                       :mod (c / country\\n                               :wiki \"United_States\"\\n                               :name (n2 / name\\n                                         :op1 \"America\")))\\n             :ARG2 (v / violence))\\n    :ARG2 (u / undermine-01\\n             :ARG0 t\\n             :ARG1 (i / ideal\\n                      :mod (n3 / nation)\\n                      :poss p3))\\n    :time (a / after\\n             :op1 (q / quote-01\\n                     :ARG0 h\\n                     :ARG2 (p / person\\n                              :wiki \"Abraham_Lincoln\"\\n                              :name (n / name\\n                                       :op1 \"Abraham\"\\n                                       :op2 \"Lincoln\")))))', '# ::snt Hazelnuts have often been found on other Mesolithic sites, but rarely in such quantities or concentrated in one pit.\\n# ::tok Hazelnuts have often been found on other Mesolithic sites , but rarely in such quantities or concentrated in one pit .\\n(c2 / contrast-01\\n    :ARG1 (f / find-01\\n             :ARG1 (a / Hazel)\\n             :frequency (o / often)\\n             :location (s / site\\n                          :mod (e / era\\n                                  :wiki -\\n                                  :name (n / name\\n                                           :op1 \"Mesolithic\"))\\n                          :mod (o3 / other)))\\n    :ARG2 (o2 / or\\n              :op1 (q / quantity\\n                      :ARG1-of (r / rare-02)\\n                      :mod (s2 / such)\\n                      :quant-of a)\\n              :op2 (c / concentrate-02\\n                      :ARG1 a\\n                      :ARG2 (p / pit\\n                               :quant 1))))', '# ::snt Hazelnuts have often been found on other Mesolithic sites, but rarely in such quantities, and rarely concentrated in one pit.\\n# ::tok Hazelnuts have often been found on other Mesolithic sites , but rarely in such quantities , and rarely concentrated in one pit .\\n(c2 / contrast-01\\n    :ARG1 (f / find-01\\n             :ARG1 (a / Hazel)\\n             :frequency (o / often)\\n             :location (s / site\\n                          :mod (e / era\\n                                  :wiki -\\n                                  :name (n / name\\n                                           :op1 \"Mesolithic\"))\\n                          :mod (o2 / other)))\\n    :ARG2 (a2 / and\\n              :op1 (q / quantity\\n                      :ARG1-of (r2 / rare-02)\\n                      :mod (s2 / such)\\n                      :quant-of a)\\n              :op2 (c / concentrate-02\\n                      :ARG1 a\\n                      :ARG1-of (r / rare-02)\\n                      :location (p / pit\\n                                   :quant 1))))', '# ::snt Hazelnuts have often been found on other Mesolithic sites concentrated in one pit, but rarely in such quantities.\\n# ::tok Hazelnuts have often been found on other Mesolithic sites concentrated in one pit , but rarely in such quantities .\\n(c2 / contrast-01\\n    :ARG1 (f / find-01\\n             :ARG1 (a / Hazel\\n                      :ARG1-of (c / concentrate-01\\n                                  :ARG2 (p / pit\\n                                           :quant 1)))\\n             :frequency (o / often)\\n             :location (s / site\\n                          :mod (e / era\\n                                  :wiki -\\n                                  :name (n / name\\n                                           :op1 \"Mesolithic\"))\\n                          :mod (o2 / other)))\\n    :ARG2 (r / rare-02\\n             :ARG1 (q / quantity\\n                      :mod (s2 / such)\\n                      :quant-of a)))', '# ::snt Hazelnuts have been found on other Mesolithic sites, but rarely in such quantities or concentrated in one pit.\\n# ::tok Hazelnuts have been found on other Mesolithic sites , but rarely in such quantities or concentrated in one pit .\\n(c2 / contrast-01\\n    :ARG1 (f / find-01\\n             :ARG1 (a / Hazel)\\n             :location (s / site\\n                          :mod (e / era\\n                                  :wiki -\\n                                  :name (n / name\\n                                           :op1 \"Mesolithic\"))\\n                          :mod (o2 / other)))\\n    :ARG2 (o / or\\n             :op1 (q / quantity\\n                     :ARG1-of (r / rare-02)\\n                     :mod (s2 / such)\\n                     :quant-of a)\\n             :op2 (c / concentrate-02\\n                     :ARG1 a\\n                     :location (p / pit\\n                                  :quant 1))))', '# ::snt Hazelnuts have rarely been found on other Mesolithic sites.\\n# ::tok Hazelnuts have rarely been found on other Mesolithic sites .\\n(f / find-01\\n   :ARG1 (a / Hazel)\\n   :ARG1-of (r / rare-02)\\n   :location (s / site\\n                :mod (e / era\\n                        :wiki -\\n                        :name (n / name\\n                                 :op1 \"Mesolithic\"))\\n                :mod (o / other)))', '# ::snt Ferrero SpA, the maker of Nutella and Ferrero Rocher, uses 25% of the global supply of hazelnuts.\\n# ::tok Ferrero SpA , the maker of Nutella and Ferrero Rocher , uses 25 % of the global supply of hazelnuts .\\n(u / use-01\\n   :ARG0 (c / company\\n            :wiki \"Ferrero_SpA\"\\n            :name (n / name\\n                     :op1 \"Ferrero\"\\n                     :op2 \"SpA\")\\n            :ARG0-of (m / make-01\\n                        :ARG1 (a / and\\n                                 :op1 (n3 / nutella)\\n                                 :op2 (p2 / product\\n                                          :wiki \"Ferrero_Rocher\"\\n                                          :name (n2 / name\\n                                                    :op1 \"Ferrero\"\\n                                                    :op2 \"Rocher\")))))\\n   :ARG1 (s / supply-01\\n            :quant (p / percentage-entity\\n                      :value 25)\\n            :ARG1 (w / walnut)\\n            :mod (g / globe)))', '# ::snt Makers of chocolate confectioneries use at least 25% of the global supply of hazelnuts.\\n# ::tok Makers of chocolate confectioneries use at least 25 % of the global supply of hazelnuts .\\n(u / use-01\\n    :ARG0 (c2 / company\\n        :ARG0-of (m / make-01\\n            :ARG1 (c3 / confectionery\\n                :mod (c / chocolate))))\\n    :ARG1 (s / supply-01\\n        :quant (a2 / at-least\\n            :op1 (p / percentage-entity\\n                :value 25))\\n        :ARG1 (a / Hazelnut)\\n        :ARG2 (g / globe)))', '# ::snt Makers of nuts use at least 25% of the global supply of hazelnuts.\\n# ::tok Makers of nuts use at least 25 % of the global supply of hazelnuts .\\n(u / use-01\\n    :ARG0 (c / company\\n        :ARG0-of (m / make-01\\n            :ARG1 (n / nut)))\\n    :ARG1 (s / supply-01\\n        :quant (a2 / at-least\\n            :op1 (p / percentage-entity\\n                :value 25))\\n        :ARG1 (a / Hazelnut)\\n        :mod (g / globe)))', '# ::snt Ferrero SpA, the maker of Nutella and Ferrero Rocher, uses almost 25% of the global supply of hazelnuts.\\n# ::tok Ferrero SpA , the maker of Nutella and Ferrero Rocher , uses almost 25 % of the global supply of hazelnuts .\\n(u / use-01\\n   :ARG0 (c / company\\n            :wiki \"Ferrero_SpA\"\\n            :name (n / name\\n                     :op1 \"Ferrero\"\\n                     :op2 \"SpA\")\\n            :ARG0-of (m / make-01\\n                        :ARG1 (a2 / and\\n                                  :op1 (n3 / nutella)\\n                                  :op2 (p2 / product\\n                                           :wiki \"Ferrero_Rocher\"\\n                                           :name (n2 / name\\n                                                     :op1 \"Ferrero\"\\n                                                     :op2 \"Rocher\")))))\\n   :ARG1 (s / supply-01\\n            :quant (a / almost\\n                      :op1 (p / percentage-entity\\n                              :value 25))\\n            :ARG1 (n4 / nutnut)\\n            :mod (g / globe)))', '# ::snt Dacquoise, a French dessert cake, often contains a layer of hazelnut meringue.\\n# ::tok Dacquoise , a French dessert cake , often contains a layer of hazelnut meringue .\\n(c2 / contain-01\\n    :ARG0 (c / cake\\n             :wiki \"Dacquoise\"\\n             :name (n / name\\n                      :op1 \"Dacquoise\")\\n             :mod (c3 / country\\n                      :wiki \"France\"\\n                      :name (n2 / name\\n                                :op1 \"France\"))\\n             :mod (d / dessert))\\n    :ARG1 (l / layer\\n             :consist-of (m / meringue\\n                            :consist-of (h / hazelnut)))\\n    :frequency (o / often))', '# ::snt Dacquoise, a French dessert cake, always contains a layer of hazelnut meringue.\\n# ::tok Dacquoise , a French dessert cake , always contains a layer of hazelnut meringue .\\n(c2 / contain-01\\n    :ARG0 (c / cake\\n             :wiki \"Dacquoise\"\\n             :name (n / name\\n                      :op1 \"Dacquoise\")\\n             :mod (c3 / country\\n                      :wiki \"France\"\\n                      :name (n2 / name\\n                                :op1 \"France\"))\\n             :mod (d / dessert))\\n    :ARG1 (l / layer\\n             :consist-of (m / meringue\\n                            :consist-of (h / hazelnut)))\\n    :time (a / always))', '# ::snt Middens with damp, anaerobic conditions can even preserve organic remains.\\n# ::tok Middens with damp , anaerobic conditions can even preserve organic remains .\\n(p / possible-01\\n    :ARG1 (p2 / preserve-01\\n        :ARG0 (m / midden\\n            :part (c / condition\\n                :ARG1-of (d / damp-03)\\n                :mod (a / anaerobic)))\\n        :ARG1 (t / thing\\n            :ARG1-of (r / remain-01)\\n            :mod (o / organic))\\n        :mod (e / even)))', '# ::snt Dry conditions and oxygen contribute to the degredation of organic remains in middens.\\n# ::tok Dry conditions and oxygen contribute to the degredation of organic remains in middens .\\n(c2 / contribute-01\\n    :ARG0 (a / and\\n        :op1 (c / condition\\n            :ARG1-of (d2 / dry-02))\\n        :op2 (o2 / oxygen))\\n    :ARG2 (d / degredate-01\\n        :ARG1 (t / thing\\n            :ARG1-of (r / remain-01)\\n            :location (m / midden)\\n            :mod (o / organic))))', '# ::snt Damp conditions and lack of oxygen contribute to the degredation of organic remains in middens.\\n# ::tok Damp conditions and lack of oxygen contribute to the degredation of organic remains in middens .\\n(c2 / contribute-01\\n    :ARG0 (a / and\\n        :op1 (c / condition\\n            :ARG1-of (d / damp-03))\\n        :op2 (l / lack-01\\n            :ARG1 (o2 / oxygen)))\\n    :ARG2 (d2 / degredate-01\\n        :ARG1 (t / thing\\n            :ARG1-of (r / remain-01)\\n            :mod (o / organic))\\n        :location (m / midden)))', '# ::snt Mass analysis is based on analyzing debitage populations based on their size distribution across specified size grades.\\n# ::tok Mass analysis is based on analyzing debitage populations based on their size distribution across specified size grades .\\n(b / base-02\\n    :ARG1 (a / analyze-01\\n        :ARG1 (m / mass))\\n    :ARG2 (a2 / analyze-01\\n        :ARG1 (p / population\\n            :mod (d / debitage))\\n        :ARG1-of (b2 / base-02\\n            :ARG2 (d2 / distribute-01\\n                :ARG1 (s / size\\n                    :poss p)\\n                :ARG2 (g / grade\\n                    :ARG1-of (s2 / specify-01)\\n                    :mod s)))))', '# ::snt One form of debitage analysis is based on analyzing debitage populations based on their size distribution across specified size grades.\\n# ::tok One form of debitage analysis is based on analyzing debitage populations based on their size distribution across specified size grades .\\n(b / base-02\\n    :ARG1 (a / analyze-01\\n        :ARG1 (d / debitage)\\n        :mod (f / form\\n            :quant 1))\\n    :ARG2 (a2 / analyze-01\\n        :ARG1 (p / population\\n            :mod d)\\n        :ARG1-of (b2 / base-02\\n            :ARG2 (d2 / distribute-01\\n                :ARG1 (s / size\\n                    :poss p)\\n                :path (g / grade\\n                    :ARG1-of (s2 / specify-01)\\n                    :mod s)))))', '# ::snt In some (e.g. Castanea), the scales are developed into sharp spines, giving the nut protection from squirrels and other seed predators, while in others (e.g. most Quercus), they are not.\\n# ::tok In some ( e.g. Castanea ) , the scales are developed into sharp spines , giving the nut protection from squirrels and other seed predators , while in others ( e.g. most Quercus ) , they are not .\\n(c / contrast-01\\n   :ARG1 (d / develop-02\\n            :ARG0-of (g / give-01\\n                        :ARG1 (p2 / protect-01\\n                                  :ARG1 (n3 / nut)\\n                                  :ARG2 (a / and\\n                                           :op1 (s8 / squirrel)\\n                                           :op2 (p / predator\\n                                                   :mod (s2 / seed)\\n                                                   :mod (o / other)))))\\n            :ARG1 (s / scale)\\n            :ARG2 (s7 / spine\\n                      :ARG1-of (s3 / sharp-02))\\n            :location (s4 / some\\n                          :example (s5 / species\\n                                       :wiki \"Chestnut\"\\n                                       :name (n / name\\n                                                :op1 \"Castanea\"))))\\n   :ARG2 (d2 / develop-02\\n             :polarity -\\n             :ARG1 s\\n             :location (o2 / other\\n                           :example (s6 / species\\n                                        :wiki \"Quercus_subg._Quercus\"\\n                                        :name (n2 / name\\n                                                  :op1 \"Quercus\")\\n                                        :mod (m / most)))))', '# ::snt In some (e.g. Quercus), the scales are developed into sharp spines, giving the nut protection from squirrels and other seed predators, while in others (e.g. most Castanea), they are not.\\n# ::tok In some ( e.g. Quercus ) , the scales are developed into sharp spines , giving the nut protection from squirrels and other seed predators , while in others ( e.g. most Castanea ) , they are not .\\n(c / contrast-01\\n   :ARG1 (d / develop-02\\n            :ARG0-of (g / give-01\\n                        :ARG1 (p2 / protect-01\\n                                  :ARG1 (n3 / nut)\\n                                  :ARG2 (a / and\\n                                           :op1 (s8 / squirrel)\\n                                           :op2 (p / predator\\n                                                   :mod (s2 / seed)\\n                                                   :mod (o / other)))))\\n            :ARG1 (s / scale)\\n            :ARG2 (s7 / spine\\n                      :ARG1-of (s3 / sharp-02))\\n            :location (s4 / some\\n                          :example (s5 / species\\n                                       :wiki \"Oak\"\\n                                       :name (n / name\\n                                                :op1 \"Quercus\"))))\\n   :ARG2 (d2 / develop-02\\n             :polarity -\\n             :ARG1 s\\n             :location (o2 / other\\n                           :example (s6 / species\\n                                        :wiki \"Chestnut\"\\n                                        :name (n2 / name\\n                                                  :op1 \"Castanea\")\\n                                        :mod (m / most)))))', '# ::snt In Castanea, the scales are developed into sharp spines, giving the nut protection from squirrels and other seed predators, while in most Quercus, they are not.\\n# ::tok In Castanea , the scales are developed into sharp spines , giving the nut protection from squirrels and other seed predators , while in most Quercus , they are not .\\n(c / contrast-01\\n   :ARG1 (d / develop-02\\n            :ARG0-of (g / give-01\\n                        :ARG1 (p2 / protect-01\\n                                  :ARG1 (n3 / nut)\\n                                  :ARG2 (a / and\\n                                           :op1 (s5 / squirrel)\\n                                           :op2 (p / predator\\n                                                   :mod (s2 / seed)\\n                                                   :mod (o / other)))))\\n            :ARG1 (s / scale)\\n            :ARG2 (s4 / spine\\n                      :ARG1-of (s3 / sharp-02))\\n            :location (t / taxon\\n                         :wiki \"Chestnut\"\\n                         :name (n / name\\n                                  :op1 \"Castanea\")))\\n   :ARG2 (p3 / protect-01\\n             :polarity -\\n             :ARG1 s\\n             :location (t2 / taxon\\n                           :wiki \"Oak\"\\n                           :name (n2 / name\\n                                     :op1 \"Quercus\")\\n                           :quant (m / most))))', '# ::snt In some (e.g. Castanea), the scales are developed into sharp spines, giving the nut protection from squirrels and other seed predators, while in others (e.g. most Quercus), they are not developed into sharp spines.\\n# ::tok In some ( e.g. Castanea ) , the scales are developed into sharp spines , giving the nut protection from squirrels and other seed predators , while in others ( e.g. most Quercus ) , they are not developed into sharp spines .\\n(c / contrast-01\\n   :ARG1 (d / develop-02\\n            :ARG0-of (g / give-01\\n                        :ARG1 (p2 / protect-01\\n                                  :ARG1 (n3 / nut)\\n                                  :ARG2 (a / and\\n                                           :op1 (s8 / squirrel)\\n                                           :op2 (p / predator\\n                                                   :mod (s2 / seed)\\n                                                   :mod (o / other)))))\\n            :ARG1 (s / scale)\\n            :ARG2 (s7 / spine\\n                      :ARG1-of (s3 / sharp-02))\\n            :location (s4 / some\\n                          :example (s5 / species\\n                                       :wiki \"Chestnut\"\\n                                       :name (n / name\\n                                                :op1 \"Castanea\"))))\\n   :ARG2 (d2 / develop-02\\n             :polarity -\\n             :ARG1 s\\n             :ARG2 c\\n             :location (o2 / other\\n                           :example (s6 / species\\n                                        :wiki \"Quercus_subg._Quercus\"\\n                                        :name (n2 / name\\n                                                  :op1 \"Quercus\")\\n                                        :mod (m / most)))))', '# ::snt Prismatic blades begin to appear in high frequencies during the transition between the Middle and Upper Paleolithic.\\n# ::tok Prismatic blades begin to appear in high frequencies during the transition between the Middle and Upper Paleolithic .\\n(b / begin-01\\n   :ARG1 (a / appear-01\\n            :ARG1 (b2 / blade\\n                      :mod (c / crystallistic))\\n            :frequency (f / frequency\\n                          :ARG1-of (h / high-02)))\\n   :time (t / transition-01\\n            :ARG1 (p / period\\n                     :wiki -\\n                     :name (n / name\\n                              :op1 \"Middle\"\\n                              :op2 \"Paleolithic\"))\\n            :ARG2 (p2 / period\\n                      :wiki -\\n                      :name (n2 / name\\n                                :op1 \"Upper\"\\n                                :op2 \"Paleolithic\"))))', '# ::snt Prismatic blades appeared in high frequencies during the Upper Paleolithic.\\n# ::tok Prismatic blades appeared in high frequencies during the Upper Paleolithic .\\n(a / appear-01\\n   :ARG1 (b / blade\\n            :mod (c / crystallistic))\\n   :frequency (f / frequency\\n                 :ARG1-of (h / high-02))\\n   :time (p / period\\n            :wiki -\\n            :name (n / name\\n                     :op1 \"Upper\"\\n                     :op2 \"Paleolithic\")))', '# ::snt Prismatic blades appeared in high frequencies during the Middle Paleolithic.\\n# ::tok Prismatic blades appeared in high frequencies during the Middle Paleolithic .\\n(a / appear-01\\n   :ARG1 (b / blade\\n            :mod (c / crystallistic))\\n   :frequency (f / frequency\\n                 :ARG1-of (h / high-02))\\n   :time (p / period\\n            :wiki -\\n            :name (n / name\\n                     :op1 \"Middle\"\\n                     :op2 \"Paleolithic\")))', '# ::snt Prismatic appeared in high frequencies after the transition between the Middle and Upper Paleolithic.\\n# ::tok Prismatic appeared in high frequencies after the transition between the Middle and Upper Paleolithic .\\n(a2 / appear-01\\n    :ARG1 (p3 / product\\n              :wiki -\\n              :name (n / name\\n                       :op1 \"Prismatic\"))\\n    :frequency (f / frequency\\n                  :ARG1-of (h / high-02))\\n    :time (a / after\\n             :op1 (t / transition-01\\n                     :ARG1 (p / period\\n                              :wiki -\\n                              :name (n2 / name\\n                                        :op1 \"Middle\"\\n                                        :op2 \"Paleolithic\"))\\n                     :ARG2 (p2 / period\\n                               :wiki -\\n                               :name (n3 / name\\n                                         :op1 \"Upper\"\\n                                         :op2 \"Paleolithic\")))))', '# ::snt The track was originally titled \"Seibu\" and was almost left off the album before it was rediscovered later during the recording sessions.\\n# ::tok The track was originally titled \" Seibu \" and was almost left off the album before it was rediscovered later during the recording sessions .\\n(a4 / and\\n    :op1 (t / title-01\\n        :ARG1 (t2 / track)\\n        :ARG2 (n / name\\n            :op1 \"Seibu\")\\n        :mod (o / original))\\n    :op2 (l / leave-out-03\\n        :ARG1 t2\\n        :ARG2 (a2 / album)\\n        :mod (a3 / almost)\\n        :time (b / before\\n            :op1 (d / discover-01\\n                :ARG1 t2\\n                :time (a / after)\\n                :time (s / session\\n                    :mod (r / record-01))))))', '# ::snt The track was originally titled \"Seibu\" and was left off the album before it was rediscovered later during the recording sessions.\\n# ::tok The track was originally titled \" Seibu \" and was left off the album before it was rediscovered later during the recording sessions .\\n(a3 / and\\n    :op1 (t / title-01\\n        :ARG1 (t2 / track)\\n        :ARG2 (n / name\\n            :op1 \"Seibu\")\\n        :mod (o / original))\\n    :op2 (l / leave-out-03\\n        :ARG1 t2\\n        :ARG2 (a2 / album)\\n        :time (b / before\\n            :op1 (d / discover-01\\n                :ARG1 t2\\n                :time (a / after)\\n                :time (s / session\\n                    :mod (r / record-01))))))', '# ::snt At the age of 24, she was betrothed to Prince Albert Victor, Duke of Clarence and Avondale, the eldest son of the Prince of Wales, but six weeks after the announcement of the engagement, he died unexpectedly of pneumonia.\\n# ::tok At the age of 24 , she was betrothed to Prince Albert Victor , Duke of Clarence and Avondale , the eldest son of the Prince of Wales , but six weeks after the announcement of the engagement , he died unexpectedly of pneumonia .\\n(c2 / contrast-01\\n    :ARG1 (w / wed-01\\n             :ARG1 (s / she)\\n             :ARG2 (p / person\\n                      :wiki \"Prince_Albert_Victor,_Duke_of_Clarence_and_Avondale\"\\n                      :name (n / name\\n                               :op1 \"Prince\"\\n                               :op2 \"Albert\"\\n                               :op3 \"Victor\")\\n                      :ARG0-of (h2 / have-org-role-91\\n                                   :ARG2 (u / Duke))\\n                      :ARG0-of (h3 / have-rel-role-91\\n                                   :ARG1 (p2 / person\\n                                             :wiki \"Prince_of_Wales\"\\n                                             :name (n2 / name\\n                                                       :op1 \"Prince\"\\n                                                       :op2 \"of\"\\n                                                       :op3 \"Wales\"))\\n                                   :ARG1-of (h / have-degree-91\\n                                               :ARG2 (o / old)\\n                                               :ARG3 (m / most))\\n                                   :ARG2 (s2 / son\\n                                             :ARG1-of h)))\\n             :time (a2 / age-01\\n                       :ARG1 s\\n                       :ARG2 (t / temporal-quantity\\n                                :quant 24\\n                                :unit (y / year))))\\n    :ARG2 (d / die-01\\n             :ARG1 p\\n             :ARG1-of (c / cause-01\\n                         :ARG0 (p3 / pneumonia))\\n             :ARG1-of (e2 / expect-01\\n                          :polarity -)\\n             :time (a / after\\n                      :quant (t2 / temporal-quantity\\n                                 :quant 6\\n                                 :unit (w2 / week))\\n                      :op1 (a3 / announce-01\\n                               :ARG1 (e / engagement-02)))))', '# ::snt At the age of 24, she was betrothed to Prince Albert Victor, Duke of Clarence and Avondale, the eldest child of the Prince of Wales, but six weeks after the announcement of the engagement, he died unexpectedly of pneumonia.\\n# ::tok At the age of 24 , she was betrothed to Prince Albert Victor , Duke of Clarence and Avondale , the eldest child of the Prince of Wales , but six weeks after the announcement of the engagement , he died unexpectedly of pneumonia .\\n(c3 / contrast-01\\n    :ARG1 (w / wed-01\\n             :ARG1 (s / she)\\n             :ARG2 (p / person\\n                      :wiki \"Prince_Albert_Victor,_Duke_of_Clarence_and_Avondale\"\\n                      :name (n / name\\n                               :op1 \"Prince\"\\n                               :op2 \"Albert\"\\n                               :op3 \"Victor\")\\n                      :ARG0-of (h2 / have-org-role-91\\n                                   :ARG2 (u / Duke))\\n                      :ARG0-of (h3 / have-rel-role-91\\n                                   :ARG1 (p2 / person\\n                                             :wiki \"Prince_of_Wales\"\\n                                             :name (n2 / name\\n                                                       :op1 \"Prince\"\\n                                                       :op2 \"of\"\\n                                                       :op3 \"Wales\"))\\n                                   :ARG2 (c2 / child\\n                                             :ARG1-of (h / have-degree-91\\n                                                         :ARG2 (o / old)\\n                                                         :ARG3 (m / most)))))\\n             :time (a2 / age-01\\n                       :ARG1 s\\n                       :ARG2 (t / temporal-quantity\\n                                :quant 24\\n                                :unit (y / year))))\\n    :ARG2 (d / die-01\\n             :ARG1 p\\n             :ARG1-of (c / cause-01\\n                         :ARG0 (p3 / pneumonia))\\n             :ARG1-of (e2 / expect-01\\n                          :polarity -)\\n             :time (a / after\\n                      :quant (t2 / temporal-quantity\\n                                 :quant 6\\n                                 :unit (w2 / week))\\n                      :op1 (a3 / announce-01\\n                               :ARG1 (e / engagement-02)))))', '# ::snt At the age of 24, she was betrothed to Prince Albert Victor, Duke of Clarence and Avondale, the eldest able-bodied son of the Prince of Wales, but six weeks after the announcement of the engagement, he died unexpectedly of pneumonia.\\n# ::tok At the age of 24 , she was betrothed to Prince Albert Victor , Duke of Clarence and Avondale , the eldest able - bodied son of the Prince of Wales , but six weeks after the announcement of the engagement , he died unexpectedly of pneumonia .\\n(c2 / contrast-01\\n    :ARG1 (w / wed-01\\n             :ARG1 (s / she)\\n             :ARG2 (p / person\\n                      :wiki \"Prince_Albert_Victor,_Duke_of_Clarence_and_Avondale\"\\n                      :name (n / name\\n                               :op1 \"Prince\"\\n                               :op2 \"Albert\"\\n                               :op3 \"Victor\")\\n                      :ARG0-of (h2 / have-org-role-91\\n                                   :ARG2 (u / Duke))\\n                      :ARG0-of (h3 / have-rel-role-91\\n                                   :ARG1 (p2 / person\\n                                             :wiki \"Prince_of_Wales\"\\n                                             :name (n2 / name\\n                                                       :op1 \"Prince\"\\n                                                       :op2 \"of\"\\n                                                       :op3 \"Wales\"))\\n                                   :ARG2 (s2 / son\\n                                             :ARG1-of (h / have-degree-91\\n                                                         :ARG2 (o / old)\\n                                                         :ARG3 (m / most))\\n                                             :mod (a / able-bodied)))\\n                      :ARG1-of h)\\n             :time (a3 / age-01\\n                       :ARG1 s\\n                       :ARG2 (t / temporal-quantity\\n                                :quant 24\\n                                :unit (y / year))))\\n    :ARG2 (d / die-01\\n             :ARG1 p\\n             :ARG1-of (c / cause-01\\n                         :ARG0 (p3 / pneumonia))\\n             :ARG1-of (e2 / expect-01\\n                          :polarity -)\\n             :time (a2 / after\\n                       :quant (t2 / temporal-quantity\\n                                  :quant 6\\n                                  :unit (w2 / week))\\n                       :op1 (a4 / announce-01\\n                                :ARG1 (e / engagement-02)))))', '# ::snt She was the eldest of four children, the only girl, and \"learned to exercise her native discretion, firmness, and tact\" by resolving her three younger brothers\\' petty boyhood squabbles.\\n# ::tok She was the eldest of four children , the only girl , and \" learned to exercise her native discretion , firmness , and tact \" by resolving her three younger brothers \\' petty boyhood squabbles .\\n(a / and\\n    :op1 (h / have-degree-91\\n        :ARG1 (s / she\\n            :mod (g / girl\\n                :mod (o2 / only)))\\n        :ARG2 (o / old)\\n        :ARG3 (m2 / most)\\n        :ARG5 (c / child\\n            :quant 4))\\n    :op2 (l / learn-01\\n        :ARG0 s\\n        :ARG1 (e / exercise-01\\n            :ARG0 s\\n            :ARG1 (a2 / and\\n                :op1 (d / discretion\\n                    :mod (n / native)\\n                    :poss s)\\n                :op2 (f / firm-03\\n                    :ARG1 s)\\n                :op3 (t / tact\\n                    :poss s))\\n            :manner (r / resolve-01\\n                :ARG0 s\\n                :ARG1 (s2 / squabble-01\\n                    :ARG0 (p / person\\n                        :quant 3\\n                        :ARG0-of (h3 / have-rel-role-91\\n                            :ARG1 s\\n                            :ARG2 (b2 / brother))\\n                        :ARG1-of (h2 / have-degree-91\\n                            :ARG2 (y / young)\\n                            :ARG3 (m / more)))\\n                    :mod (p2 / petty)\\n                    :time (b / boyhood))))))', '# ::snt She was the eldest of four children, the only girl, and \"learned to exercise her native discretion, firmness, and tact\" by resolving her three brothers\\' petty boyhood squabbles.\\n# ::tok She was the eldest of four children , the only girl , and \" learned to exercise her native discretion , firmness , and tact \" by resolving her three brothers \\' petty boyhood squabbles .\\n(a / and\\n    :op1 (h / have-degree-91\\n        :ARG1 (s / she\\n            :mod (g / girl\\n                :mod (o2 / only)))\\n        :ARG2 (o / old)\\n        :ARG3 (m / most)\\n        :ARG5 (c / child\\n            :quant 4))\\n    :op2 (l / learn-01\\n        :ARG0 s\\n        :ARG1 (e / exercise-01\\n            :ARG0 s\\n            :ARG1 (a2 / and\\n                :op1 (d / discretion\\n                    :mod (n / native)\\n                    :poss s)\\n                :op2 (f / firm-03\\n                    :ARG1 s)\\n                :op3 (t / tact\\n                    :poss s))\\n            :manner (r / resolve-01\\n                :ARG0 s\\n                :ARG1 (s2 / squable-01\\n                    :ARG0 (p / person\\n                        :quant 3\\n                        :ARG0-of (h2 / have-rel-role-91\\n                            :ARG1 s\\n                            :ARG2 (b2 / brother)))\\n                    :mod (p2 / petty)\\n                    :time (b / boyhood))))))', '# ::snt Albertosaurus and other tyrannosaurids were heterodont, with teeth of different forms depending on their position in the mouth.\\n# ::tok Albertosaurus and other tyrannosaurids were heterodont , with teeth of different forms depending on their position in the mouth .\\n(h2 / heterodont\\n    :domain (a / and\\n               :ARG0-of (h / have-03\\n                           :ARG1 (t / tooth\\n                                    :ARG0-of (d / depend-01\\n                                                :ARG1 (p / position-01\\n                                                         :ARG1 t\\n                                                         :ARG2 (m / mouth)))\\n                                    :mod (f / form\\n                                            :ARG1-of (d2 / differ-02))))\\n               :op1 (d3 / dinosaur\\n                        :wiki \"Albertosaurus\"\\n                        :name (n / name\\n                                 :op1 \"Albertosaurus\"))\\n               :op2 (d4 / dinosaur\\n                        :wiki \"Daspletosaurus\"\\n                        :name (n2 / name\\n                                  :op1 \"tyrannosaurid\")\\n                        :mod (o / other))))', '# ::snt Albertosaurus and other tyrannosaurids were heterodont.\\n# ::tok Albertosaurus and other tyrannosaurids were heterodont .\\n(h / heterodont\\n   :domain (a / and\\n              :op1 (d / dinosaur\\n                      :wiki \"Albertosaurus\"\\n                      :name (n / name\\n                               :op1 \"Albertosaurus\"))\\n              :op2 (d2 / dinosaur\\n                       :wiki \"Dinosaur\"\\n                       :name (n2 / name\\n                                 :op1 \"dinosaur\")\\n                       :mod (o / other))))', '# ::snt Albertosaurus and other tyrannosaurids were heterodont, with lots of teeth.\\n# ::tok Albertosaurus and other tyrannosaurids were heterodont , with lots of teeth .\\n(h2 / heterodont\\n    :ARG0-of (h / have-03\\n                :ARG1 (t / tooth\\n                         :quant (l / lot)))\\n    :domain (a / and\\n               :op1 (d / dinosaur\\n                       :wiki \"Albertosaurus\"\\n                       :name (n / name\\n                                :op1 \"Albertosaurus\"))\\n               :op2 (d2 / dinosaur\\n                        :wiki \"Dinosaur\"\\n                        :name (n2 / name\\n                                  :op1 \"dinosaur\")\\n                        :mod (o / other))))', '# ::snt All of these are today seen as younger synonyms of other species or as nomina dubia, and are not assigned to Albertosaurus.\\n# ::tok All of these are today seen as younger synonyms of other species or as nomina dubia , and are not assigned to Albertosaurus .\\n(a2 / and\\n    :op1 (s / see-01\\n            :ARG1 (t2 / this\\n                      :mod (a / all))\\n            :ARG2 (o / or\\n                     :op1 (s3 / synonym\\n                              :ARG1-of (h / have-degree-91\\n                                          :ARG2 (y / young)\\n                                          :ARG3 (m / more))\\n                              :poss (s2 / species\\n                                        :mod (o2 / other)))\\n                     :op2 (n2 / nomina\\n                              :mod (d / dubia)))\\n            :time (t3 / today))\\n    :op2 (a3 / assign-01\\n             :polarity -\\n             :ARG1 t2\\n             :ARG2 (t / taxon\\n                      :wiki -\\n                      :name (n / name\\n                               :op1 \"Albertosaurus\"))))', '# ::snt All of these are today seen as nomina dubia, and are not assigned to Albertosaurus.\\n# ::tok All of these are today seen as nomina dubia , and are not assigned to Albertosaurus .\\n(a2 / and\\n    :op1 (s / see-01\\n            :ARG1 (t2 / this\\n                      :mod (a / all))\\n            :ARG2 (n2 / nomina-taxia)\\n            :time (t3 / today))\\n    :op2 (a3 / assign-01\\n             :polarity -\\n             :ARG1 t2\\n             :ARG2 (t / taxon\\n                      :wiki -\\n                      :name (n / name\\n                               :op1 \"Albertosaurus\"))))', '# ::snt All of these are today seen as younger synonyms of other species or as nomina dubia, and are distinguished from Albertosaurus.\\n# ::tok All of these are today seen as younger synonyms of other species or as nomina dubia , and are distinguished from Albertosaurus .\\n(a2 / and\\n    :op1 (s / see-01\\n            :ARG1 (t2 / this\\n                      :mod (a / all))\\n            :ARG2 (o / or\\n                     :op1 (s3 / synonym\\n                              :ARG1-of (h / have-degree-91\\n                                          :ARG2 (y / young)\\n                                          :ARG3 (m / more))\\n                              :poss (s2 / species\\n                                        :mod (o2 / other)))\\n                     :op2 (n2 / nomina\\n                              :mod (d2 / dubia)))\\n            :time (t3 / today))\\n    :op2 (d / distinguish-01\\n            :ARG1 t2\\n            :ARG2 (t / taxon\\n                     :wiki -\\n                     :name (n / name\\n                              :op1 \"Albertosaurus\"))))', '# ::snt If Charles\\' left wing, commanded by Nauendorf, united with Hotze\\'s force, approaching from the east, Masséna knew Charles would attack and very likely push him out of Zürich.\\n# ::tok If Charles \\' left wing , commanded by Nauendorf , united with Hotze \\'s force , approaching from the east , Masséna knew Charles would attack and very likely push him out of Zürich .\\n(k / know-01\\n   :ARG0 (p3 / person\\n             :wiki -\\n             :name (n3 / name\\n                       :op1 \"Masséna\"))\\n   :ARG1 (a / and\\n            :op1 (a3 / attack-01\\n                     :ARG0 (p4 / person\\n                               :wiki -\\n                               :name (n4 / name\\n                                         :op1 \"Charles\")))\\n            :op2 (p5 / push-01\\n                     :ARG0 p4\\n                     :ARG1 p4\\n                     :ARG1-of (l2 / likely-01\\n                                  :degree (v / very))\\n                     :ARG2 (o / out-06\\n                              :ARG2 (c / city\\n                                       :wiki \"Zurich\"\\n                                       :name (n5 / name\\n                                                 :op1 \"Zürich\")))))\\n   :condition (u / unite-01\\n                 :ARG1 (w / wing\\n                          :ARG1-of (l / left-19)\\n                          :ARG1-of (c2 / command-02\\n                                       :ARG0 (p / person\\n                                                :wiki -\\n                                                :name (n / name\\n                                                         :op1 \"Nauendorf\")))\\n                          :poss p4)\\n                 :ARG2 (f / force\\n                          :ARG1-of (a2 / approach-01\\n                                       :source (e / east))\\n                          :poss (p2 / person\\n                                    :wiki -\\n                                    :name (n2 / name\\n                                              :op1 \"Hotze\")))))', '# ::snt Masséna knew that Charles\\' left wing, commanded by Nauendorf, uniting with Hotze\\'s force, approaching from the east, would attack and very likely push him out of Zürich.\\n# ::tok Masséna knew that Charles \\' left wing , commanded by Nauendorf , uniting with Hotze \\'s force , approaching from the east , would attack and very likely push him out of Zürich .\\n(k / know-01\\n   :ARG0 (p / person\\n            :wiki -\\n            :name (n / name\\n                     :op1 \"Masséna\"))\\n   :ARG1 (a / and\\n            :op1 (a3 / attack-01\\n                     :ARG0 (w / wing\\n                              :ARG1-of (l / left-19)\\n                              :ARG1-of (c2 / command-02\\n                                           :ARG0 (p3 / person\\n                                                     :wiki -\\n                                                     :name (n3 / name\\n                                                               :op1 \"Nauendorf\")))\\n                              :ARG1-of (u / unite-01\\n                                          :ARG2 (f / force\\n                                                   :ARG1-of (a2 / approach-01\\n                                                                :source (e / east))\\n                                                   :poss (p4 / person\\n                                                             :wiki -\\n                                                             :name (n4 / name\\n                                                                       :op1 \"Hotze\"))))\\n                              :poss (p2 / person\\n                                        :wiki -\\n                                        :name (n2 / name\\n                                                  :op1 \"Charles\"))))\\n            :op2 (l2 / likely-01\\n                     :ARG1 (p5 / push-01\\n                               :ARG0 w\\n                               :ARG1 p2\\n                               :ARG2 (o / out-06\\n                                        :ARG1 p2\\n                                        :ARG2 (c / city\\n                                                 :wiki \"Zurich\"\\n                                                 :name (n5 / name\\n                                                           :op1 \"Zürich\"))))\\n                     :degree (v / very))))', '# ::snt If Charles\\' left wing, commanded by Nauendorf, united with Hotze\\'s force, approaching from the east, Masséna doubted Charles would attack and push him out of Zürich.\\n# ::tok If Charles \\' left wing , commanded by Nauendorf , united with Hotze \\'s force , approaching from the east , Masséna doubted Charles would attack and push him out of Zürich .\\n(d / doubt-01\\n   :ARG0 (p3 / person\\n             :wiki -\\n             :name (n3 / name\\n                       :op1 \"Masséna\"))\\n   :ARG1 (a / and\\n            :op1 (a3 / attack-01\\n                     :ARG0 (p4 / person\\n                               :wiki -\\n                               :name (n4 / name\\n                                         :op1 \"Charles\")))\\n            :op2 (p5 / push-01\\n                     :ARG0 p4\\n                     :ARG1 (p / person\\n                              :wiki -\\n                              :name (n / name\\n                                       :op1 \"Nauendorf\"))\\n                     :ARG2 (o / out-06\\n                              :ARG2 (c / city\\n                                       :wiki \"Zurich\"\\n                                       :name (n5 / name\\n                                                 :op1 \"Zürich\")))))\\n   :condition (u / unite-01\\n                 :ARG1 (w / wing\\n                          :ARG1-of (l / left-19)\\n                          :ARG1-of (c2 / command-02\\n                                       :ARG0 p)\\n                          :poss p4)\\n                 :ARG2 (f / force\\n                          :ARG1-of (a2 / approach-01\\n                                       :source (e / east))\\n                          :poss (p2 / person\\n                                    :wiki -\\n                                    :name (n2 / name\\n                                              :op1 \"Hotze\")))))', '# ::snt If Charles\\' left wing, commanded by Nauendorf, united with Hotze\\'s force, approaching from the east, Masséna would prepare for Charles to attack and very likely push him out of Zürich.\\n# ::tok If Charles \\' left wing , commanded by Nauendorf , united with Hotze \\'s force , approaching from the east , Masséna would prepare for Charles to attack and very likely push him out of Zürich .\\n(a / and\\n   :condition (u / unite-01\\n                 :ARG1 (w / wing\\n                          :ARG1-of (l / left-19)\\n                          :ARG1-of (c2 / command-02\\n                                       :ARG0 (p / person\\n                                                :wiki -\\n                                                :name (n / name\\n                                                         :op1 \"Nauendorf\")))\\n                          :poss (p3 / person\\n                                    :wiki -\\n                                    :name (n4 / name\\n                                              :op1 \"Charles\")))\\n                 :ARG2 (f / force\\n                          :ARG1-of (a2 / approach-01\\n                                       :source (e / east))\\n                          :poss (p2 / person\\n                                    :wiki -\\n                                    :name (n2 / name\\n                                              :op1 \"Hotze\"))))\\n   :op1 (p4 / prepare-02\\n            :ARG0 (s / state\\n                     :wiki -\\n                     :name (n3 / name\\n                               :op1 \"Masséna\"))\\n            :ARG2 (a3 / attack-01\\n                      :ARG0 p3))\\n   :op2 (p5 / push-01\\n            :ARG0 s\\n            :ARG1 p3\\n            :ARG1-of (l2 / likely-01\\n                         :degree (v / very))\\n            :ARG2 (o / out-06\\n                     :ARG2 (c / city\\n                              :wiki \"Zurich\"\\n                              :name (n5 / name\\n                                        :op1 \"Zürich\")))))', '# ::snt Ferdinand of Naples refused to pay agreed-upon tribute to France, and his subjects followed this refusal with a rebellion.\\n# ::tok Ferdinand of Naples refused to pay agreed - upon tribute to France , and his subjects followed this refusal with a rebellion .\\n(a2 / and\\n    :op1 (r2 / refuse-01\\n             :ARG0 (p2 / person\\n                       :wiki \"Ferdinand_I_of_the_Two_Sicilies\"\\n                       :name (n / name\\n                                :op1 \"Ferdinand\"\\n                                :op2 \"of\"\\n                                :op3 \"Naples\"))\\n             :ARG1 (p / pay-01\\n                      :ARG0 p2\\n                      :ARG1 (t / tribute\\n                               :ARG1-of (a / agree-01))\\n                      :ARG2 (c / country\\n                               :wiki \"France\"\\n                               :name (n2 / name\\n                                         :op1 \"France\"))))\\n    :op2 (f / follow-01\\n            :ARG0 (s / subject\\n                     :poss p2)\\n            :ARG1 r2\\n            :ARG2 (r / rebel-01\\n                     :ARG0 s)))', '# ::snt Ferdinand of Naples refused to pay France the agreed-upon tribute, and his subjects followed this refusal with a rebellion.\\n# ::tok Ferdinand of Naples refused to pay France the agreed - upon tribute , and his subjects followed this refusal with a rebellion .\\n(a2 / and\\n    :op1 (r2 / refuse-01\\n             :ARG0 (p2 / person\\n                       :wiki \"Ferdinand_I_of_the_Two_Sicilies\"\\n                       :name (n / name\\n                                :op1 \"Ferdinand\"\\n                                :op2 \"of\"\\n                                :op3 \"Naples\"))\\n             :ARG1 (p / pay-01\\n                      :ARG0 p2\\n                      :ARG1 (t / tribute\\n                               :ARG1-of (a / agree-01))\\n                      :ARG2 (c / country\\n                               :wiki \"France\"\\n                               :name (n2 / name\\n                                         :op1 \"France\"))))\\n    :op2 (f / follow-01\\n            :ARG0 (s / subject\\n                     :poss p2)\\n            :ARG1 r2\\n            :ARG2 (r / rebel-01\\n                     :ARG0 s)))', '# ::snt Furthermore, the French dangerously underestimated Austrian tenacity and military skill.\\n# ::tok Furthermore , the French dangerously underestimated Austrian tenacity and military skill .\\n(a / and\\n   :op2 (u / underestimate-01\\n           :ARG0 (p / person\\n                    :mod (c / country\\n                            :wiki \"France\"\\n                            :name (n / name\\n                                     :op1 \"France\")))\\n           :ARG0-of (e / endanger-01)\\n           :ARG1 (a2 / and\\n                     :op1 (t / tenacity\\n                             :mod (c2 / country\\n                                      :wiki \"Austria\"\\n                                      :name (n2 / name\\n                                                :op1 \"Austria\")))\\n                     :op2 (s / skill\\n                             :mod (m / military)\\n                             :mod c2))))', '# ::snt Furthermore, the French dangerously underestimated Austrian military skill and tenacity.\\n# ::tok Furthermore , the French dangerously underestimated Austrian military skill and tenacity .\\n(a / and\\n   :op2 (u / underestimate-01\\n           :ARG0 (p / person\\n                    :mod (c / country\\n                            :wiki \"France\"\\n                            :name (n / name\\n                                     :op1 \"France\")))\\n           :ARG0-of (e / endanger-01)\\n           :ARG1 (a2 / and\\n                     :op1 (s / skill\\n                             :mod (m / military)\\n                             :mod (c2 / country\\n                                      :wiki \"Austria\"\\n                                      :name (n2 / name\\n                                                :op1 \"Austria\")))\\n                     :op2 (t / tenacity\\n                             :mod c2))))', '# ::snt Furthermore, the French dangerously underestimated Austrian military skill.\\n# ::tok Furthermore , the French dangerously underestimated Austrian military skill .\\n(a / and\\n   :op2 (u / underestimate-01\\n           :ARG0 (p / person\\n                    :mod (c / country\\n                            :wiki \"France\"\\n                            :name (n / name\\n                                     :op1 \"France\")))\\n           :ARG0-of (e / endanger-01)\\n           :ARG1 (s / skill\\n                    :mod (m / military)\\n                    :mod (c2 / country\\n                             :wiki \"Austria\"\\n                             :name (n2 / name\\n                                       :op1 \"Austria\")))))', '# ::snt There are four supraocular scales (above the eyes) in almost all specimens and five supraciliary scales (immediately above the eyes, below the supraoculars).\\n# ::tok There are four supraocular scales ( above the eyes ) in almost all specimens and five supraciliary scales ( immediately above the eyes , below the supraoculars ) .\\n(a5 / and\\n    :op1 (s / scale\\n        :quant 4\\n        :location (a / above\\n            :op1 (e / eye))\\n        :location (s3 / specimen\\n            :mod (a3 / all\\n                :mod (a4 / almost)))\\n        :mod (s5 / supraocular))\\n    :op2 (s2 / scale\\n        :quant 5\\n        :location (a6 / and\\n            :op1 (a2 / above\\n                :mod (i / immediate)\\n                :op1 e)\\n            :op2 (b / below\\n                :op1 s5))\\n        :mod (s4 / supraciliary)))', '# ::snt There are four supraocular scales (above the eyes) in most specimens and five supraciliary scales (immediately above the eyes, below the supraoculars).\\n# ::tok There are four supraocular scales ( above the eyes ) in most specimens and five supraciliary scales ( immediately above the eyes , below the supraoculars ) .\\n(a3 / and\\n    :op1 (s / scale\\n        :quant 4\\n        :location (a / above\\n            :op1 (e / eye))\\n        :location (s3 / specimen\\n            :quant (m / most))\\n        :mod (s5 / supraocular))\\n    :op2 (s2 / scale\\n        :quant 5\\n        :location (a4 / and\\n            :op1 (a2 / above\\n                :mod (i / immediate)\\n                :op1 e)\\n            :op2 (b / below\\n                :op1 s5))\\n        :mod (s4 / supraciliary)))', '# ::snt There are four scales above the eyes in almost all specimens and five supraciliary scales (immediately above the eyes, below the supraoculars).\\n# ::tok There are four scales above the eyes in almost all specimens and five supraciliary scales ( immediately above the eyes , below the supraoculars ) .\\n(a5 / and\\n    :op1 (s / scale\\n        :quant 4\\n        :location (a / above\\n            :op1 (e / eye))\\n        :part-of (s3 / specimen\\n            :mod (a3 / all\\n                :mod (a4 / almost))))\\n    :op2 (s2 / scale\\n        :quant 5\\n        :location (a6 / and\\n            :op1 (a2 / above\\n                :mod (i / immediate)\\n                :op1 e)\\n            :op2 (b / below\\n                :op1 (s5 / supraocular)))\\n        :mod (s4 / supraciliary)))', '# ::snt All 860 officers and men on board, including Spee, went down with the ship.\\n# ::tok All 860 officers and men on board , including Spee , went down with the ship .\\n(g / go-02\\n   :ARG0 (a2 / and\\n             :quant 860\\n             :ARG2-of (i / include-01\\n                         :ARG1 (p2 / person\\n                                   :wiki \"Friedrich_Spee\"\\n                                   :name (n / name\\n                                            :op1 \"Spee\")))\\n             :location (b / board-01)\\n             :mod (a / all)\\n             :op1 (p / person\\n                     :ARG0-of (h / have-org-role-91\\n                                 :ARG2 (o / officer)))\\n             :op2 (m / man))\\n   :ARG4 (d / down)\\n   :accompanier (s / ship))', '# ::snt Spee went down with the ship.\\n# ::tok Spee went down with the ship .\\n(g / go-02\\n   :ARG0 (p / person\\n            :wiki -\\n            :name (n / name\\n                     :op1 \"Spee\"))\\n   :ARG4 (d / down)\\n   :accompanier (s / ship))', '# ::snt Regional governors could not rely on the king for help in times of crisis, and the ensuing food shortages and political disputes escalated into famines and small-scale civil wars.\\n# ::tok Regional governors could not rely on the king for help in times of crisis , and the ensuing food shortages and political disputes escalated into famines and small - scale civil wars .\\n(a / and\\n    :op1 (p3 / possible-01\\n        :polarity -\\n        :ARG1 (r2 / rely-01\\n            :ARG0 (p / person\\n                :ARG0-of (h / have-org-role-91\\n                    :ARG2 (g / governor\\n                        :mod (r / region))))\\n            :ARG1 (k / king)\\n            :ARG2 (h2 / help-01\\n                :ARG0 k\\n                :ARG2 p\\n                :time (c2 / crisis))))\\n    :op2 (e2 / escalate-01\\n        :ARG1 (a2 / and\\n            :ARG1-of (e / ensue-01)\\n            :op1 (s / short-06\\n                :ARG2 (f2 / food))\\n            :op2 (d / dispute-01\\n                :ARG2 (p2 / politics)))\\n        :ARG4 (a3 / and\\n            :op1 (f / famine)\\n            :op2 (w / war-01\\n                :mod (c / civil)\\n                :mod (s2 / small-scale)))))', '# ::snt Regional governors could not rely on anyone for help in times of crisis, and the ensuing food shortages and political disputes escalated into famines and small-scale civil wars.\\n# ::tok Regional governors could not rely on anyone for help in times of crisis , and the ensuing food shortages and political disputes escalated into famines and small - scale civil wars .\\n(a / and\\n    :op1 (p3 / possible-01\\n        :polarity -\\n        :ARG1 (r2 / rely-01\\n            :ARG0 (p / person\\n                :ARG0-of (h / have-org-role-91\\n                    :ARG2 (g / governor\\n                        :mod (r / region))))\\n            :ARG1 (a4 / anyone)\\n            :ARG2 (h2 / help-01\\n                :ARG0 a4\\n                :time (c2 / crisis))))\\n    :op2 (e2 / escalate-01\\n        :ARG1 (a2 / and\\n            :ARG1-of (e / ensue-01)\\n            :op1 (s / short-06\\n                :ARG2 (f2 / food))\\n            :op2 (d / dispute-01\\n                :ARG2 (p2 / politics)))\\n        :ARG4 (a3 / and\\n            :op1 (f / famine)\\n            :op2 (w / war-01\\n                :mod (c / civil)\\n                :mod (s2 / small-scale)))))', '# ::snt The pharaohs of the Middle Kingdom restored the country\\'s stability and prosperity, thereby stimulating a resurgence of art, literature, and monumental building projects.\\n# ::tok The pharaohs of the Middle Kingdom restored the country \\'s stability and prosperity , thereby stimulating a resurgence of art , literature , and monumental building projects .\\n(r / restore-01\\n   :ARG0 (p / pharaoh\\n            :poss (c2 / country\\n                      :wiki \"Middle_Kingdom_of_Egypt\"\\n                      :name (n / name\\n                               :op1 \"Middle\"\\n                               :op2 \"Kingdom\")))\\n   :ARG0-of (c / cause-01\\n               :ARG1 (s2 / stimulate-01\\n                         :ARG0 p\\n                         :ARG1 (r2 / resurge-01\\n                                   :ARG1 (a2 / and\\n                                             :op1 (a3 / art)\\n                                             :op2 (l / literature)\\n                                             :op3 (p2 / project\\n                                                      :mod (m / monumental)\\n                                                      :topic (b / build-01))))))\\n   :ARG1 (a / and\\n            :op1 (s / stability\\n                    :poss c2)\\n            :op2 (p3 / prosper-01\\n                     :ARG0 c2)))', '# ::snt The pharaohs of the Middle Kingdom of Egypt restored the country\\'s stability and prosperity, thereby stimulating a resurgence of art, literature, and monumental building projects.\\n# ::tok The pharaohs of the Middle Kingdom of Egypt restored the country \\'s stability and prosperity , thereby stimulating a resurgence of art , literature , and monumental building projects .\\n(r / restore-01\\n   :ARG0 (p / pharaoh\\n            :poss (c2 / country\\n                      :wiki \"Middle_Kingdom_of_Egypt\"\\n                      :name (n / name\\n                               :op1 \"Middle\"\\n                               :op2 \"Kingdom\"\\n                               :op3 \"of\"\\n                               :op4 \"Egypt\")))\\n   :ARG0-of (c / cause-01\\n               :ARG1 (s2 / stimulate-01\\n                         :ARG0 p\\n                         :ARG1 (r2 / resurge-01\\n                                   :ARG1 (a / and\\n                                            :op1 (a3 / art)\\n                                            :op2 (l / literature)\\n                                            :op3 (p2 / project\\n                                                     :mod (m / monumental)\\n                                                     :topic (b / build-01))))))\\n   :ARG1 (a2 / and\\n             :op1 (s / stability\\n                     :poss c2)\\n             :op2 (p3 / prosper-01\\n                      :ARG0 c2)))', '# ::snt The pharaohs of the Middle Kingdom of China restored the country\\'s stability and prosperity, thereby stimulating a resurgence of art, literature, and monumental building projects.\\n# ::tok The pharaohs of the Middle Kingdom of China restored the country \\'s stability and prosperity , thereby stimulating a resurgence of art , literature , and monumental building projects .\\n(r / restore-01\\n   :ARG0 (p / pharaoh\\n            :poss (c2 / country\\n                      :wiki -\\n                      :name (n / name\\n                               :op1 \"Middle\"\\n                               :op2 \"Kingdom\"\\n                               :op3 \"of\"\\n                               :op4 \"China\")))\\n   :ARG0-of (c / cause-01\\n               :ARG1 (s2 / stimulate-01\\n                         :ARG0 p\\n                         :ARG1 (r2 / resurge-01\\n                                   :ARG1 (a2 / and\\n                                             :op1 (a3 / art)\\n                                             :op2 (l / literature)\\n                                             :op3 (p2 / project\\n                                                      :mod (m / monumental)\\n                                                      :topic (b / build-01))))))\\n   :ARG1 (a / and\\n            :op1 (s / stability\\n                    :poss c2)\\n            :op2 (p3 / prosper-01\\n                     :ARG0 c2)))', '# ::snt The pharaohs of Egypt restored the country\\'s stability and prosperity, thereby stimulating a resurgence of art, literature, and monumental building projects.\\n# ::tok The pharaohs of Egypt restored the country \\'s stability and prosperity , thereby stimulating a resurgence of art , literature , and monumental building projects .\\n(r / restore-01\\n   :ARG0 (p / pharaoh\\n            :poss (c2 / country\\n                      :wiki \"Egypt\"\\n                      :name (n / name\\n                               :op1 \"Egypt\")))\\n   :ARG0-of (c / cause-01\\n               :ARG1 (s2 / stimulate-01\\n                         :ARG0 p\\n                         :ARG1 (r2 / resurge-01\\n                                   :ARG1 (a2 / and\\n                                             :op1 (a3 / art)\\n                                             :op2 (l / literature)\\n                                             :op3 (p2 / project\\n                                                      :mod (m / monumental)\\n                                                      :topic (b / build-01))))))\\n   :ARG1 (a / and\\n            :op1 (s / stability\\n                    :poss c2)\\n            :op2 (p3 / prosper-01\\n                     :ARG0 c2)))', '# ::snt The 15th Tank Corps was a tank corps of the Soviet Union\\'s Red Army.\\n# ::tok The 15th Tank Corps was a tank corps of the Soviet Union \\'s Red Army .\\n(c / corps\\n   :domain (m / military\\n              :wiki \"Tank_corps_(Soviet_Union)\"\\n              :name (n / name\\n                       :op1 \"15th\"\\n                       :op2 \"Tank\"\\n                       :op3 \"Corps\"))\\n   :mod (t / tank)\\n   :part-of (m2 / military\\n                :wiki \"Red_Army\"\\n                :name (n3 / name\\n                          :op1 \"Red\"\\n                          :op2 \"Army\")\\n                :poss (c2 / country\\n                          :wiki \"Soviet_Union\"\\n                          :name (n2 / name\\n                                    :op1 \"Soviet\"\\n                                    :op2 \"Union\"))))', '# ::snt The 15th Tank Corps was a corps of the Soviet Union\\'s Red Army.\\n# ::tok The 15th Tank Corps was a corps of the Soviet Union \\'s Red Army .\\n(c / corps\\n   :domain (m / military\\n              :wiki \"Tank_corps_(Soviet_Union)\"\\n              :name (n / name\\n                       :op1 \"15th\"\\n                       :op2 \"Tank\"\\n                       :op3 \"Corps\"))\\n   :part-of (m2 / military\\n                :wiki \"Red_Army\"\\n                :name (n3 / name\\n                          :op1 \"Red\"\\n                          :op2 \"Army\")\\n                :poss (c2 / country\\n                          :wiki \"Soviet_Union\"\\n                          :name (n2 / name\\n                                    :op1 \"Soviet\"\\n                                    :op2 \"Union\"))))', \"# ::snt I can't believe it's not butter.\\n# ::tok I ca n't believe it 's not butter .\\n(p / possible-01\\n    :polarity -\\n    :ARG1 (b / believe-01\\n        :ARG0 (i / i)\\n        :ARG1 (b2 / butter\\n            :polarity -\\n            :domain (i2 / it))))\", \"# ::snt It's not butter.\\n# ::tok It 's not butter .\\n(b / butter\\n    :polarity -\\n    :domain (i / it))\", \"# ::snt It's butter.\\n# ::tok It 's butter .\\n(b / butter\\n    :domain (i / it))\", '# ::snt However, these regularities are sometimes obscured by semantic and syntactic differences.\\n# ::tok However , these regularities are sometimes obscured by semantic and syntactic differences .\\n(c / contrast-01\\n    :ARG2 (o / obscure-01\\n        :ARG0 (d / differ-02\\n            :ARG1 (s / semantics)\\n            :ARG2 (s3 / syntax))\\n        :ARG1 (r / regular-02\\n            :mod (t / this))\\n        :frequency (s2 / sometimes)))', '# ::snt However, these regularities are always obscured by semantic and syntactic differences.\\n# ::tok However , these regularities are always obscured by semantic and syntactic differences .\\n(c / contrast-01\\n    :ARG2 (o / obscure-01\\n        :ARG0 (d / differ-02\\n            :ARG1 (s / semantics)\\n            :ARG2 (s2 / syntax))\\n        :ARG1 (r / regular-02\\n            :mod (t / this))\\n        :time (a / always)))', '# ::snt However, these regularities are sometimes obscured by syntactic differences.\\n# ::tok However , these regularities are sometimes obscured by syntactic differences .\\n(c / contrast-01\\n    :ARG2 (o / obscure-01\\n        :ARG0 (d / differ-02\\n            :ARG1 (s2 / syntax))\\n        :ARG1 (r / regular-02\\n            :mod (t / this))\\n        :frequency (s / sometimes)))', '# ::snt In grounded communication tasks, speakers face pressures in choosing referential expressions that distinguish their targets from others in the context, leading to many kinds of pragmatic meaning enrichment.\\n# ::tok In grounded communication tasks , speakers face pressures in choosing referential expressions that distinguish their targets from others in the context , leading to many kinds of pragmatic meaning enrichment .\\n(f / face-01\\n    :ARG0 (p / person\\n        :ARG0-of (s / speak-01))\\n    :ARG0-of (l / lead-03\\n        :ARG2 (e / enrich-01\\n            :ARG1 (m2 / mean-01\\n                :mod (p2 / pragmatic))\\n            :mod (k / kind\\n                :quant (m / many))))\\n    :ARG1 (p3 / pressure-01\\n        :ARG1 p\\n        :ARG2 (c / choose-01\\n            :ARG0 p\\n            :ARG1 (e2 / express-01\\n                :ARG0-of (d / distinguish-01\\n                    :ARG1 (t / target\\n                        :poss p)\\n                    :ARG2 (o / other\\n                        :location (c3 / context)))\\n                :ARG1 (r / referential))))\\n    :topic (t2 / task-01\\n        :ARG1 (c2 / communicate-01\\n            :ARG1-of (g / ground-01))))', '# ::snt In grounded communication tasks, speakers face pressures in choosing referential expressions that distinguish their targets from others in the context, leading to many kinds of meaning enrichment.\\n# ::tok In grounded communication tasks , speakers face pressures in choosing referential expressions that distinguish their targets from others in the context , leading to many kinds of meaning enrichment .\\n(f / face-01\\n    :ARG0 (p / person\\n        :ARG0-of (s / speak-01))\\n    :ARG0-of (l / lead-03\\n        :ARG2 (e / enrich-01\\n            :ARG1 (m2 / mean-01)\\n            :mod (k / kind\\n                :quant (m / many))))\\n    :ARG1 (p2 / pressure-01\\n        :ARG1 p\\n        :ARG2 (c / choose-01\\n            :ARG0 p\\n            :ARG1 (e2 / express-01\\n                :ARG0-of (d / distinguish-01\\n                    :ARG1 (t / target\\n                        :poss p)\\n                    :ARG2 (o / other\\n                        :location (c3 / context)))\\n                :ARG1 (r / refer-01))))\\n    :topic (t2 / task-01\\n        :ARG1 (c2 / communicate-01\\n            :ARG1-of (g / ground-01))))', '# ::snt Thus, a model of the speaker must process representations of the colors in the context and produce an utterance to distinguish the target color from the others.\\n# ::tok Thus , a model of the speaker must process representations of the colors in the context and produce an utterance to distinguish the target color from the others .\\n(c / cause-01\\n    :ARG1 (o / obligate-01\\n        :ARG1 (m / model-01\\n            :ARG1 (p / person\\n                :ARG0-of (s / speak-01)))\\n        :ARG2 (a / and\\n            :op1 (p2 / process-01\\n                :ARG0 m\\n                :ARG1 (r / representation-02\\n                    :ARG1 (c2 / color\\n                        :location (c5 / context))))\\n            :op2 (p3 / produce-01\\n                :ARG0 m\\n                :ARG1 (u / utter-01\\n                    :purpose (d / distinguish-01\\n                        :ARG0 m\\n                        :ARG1 (c4 / color\\n                            :ARG1-of (t / target-01))\\n                        :ARG2 (c3 / color\\n                            :mod (o2 / other)))\\n                    :ARG0 m)))))', '# ::snt Thus, a model of the speaker must process representations of the colors in the context and produce an utterance to distinguish the target color from the other colors.\\n# ::tok Thus , a model of the speaker must process representations of the colors in the context and produce an utterance to distinguish the target color from the other colors .\\n(i / infer-01\\n    :ARG1 (o / obligate-01\\n        :ARG1 (m / model-01\\n            :ARG1 (p / person\\n                :ARG0-of (s / speak-01)))\\n        :ARG2 (a / and\\n            :op1 (p2 / process-01\\n                :ARG0 m\\n                :ARG1 (r / representation-02\\n                    :ARG1 (c / color\\n                        :location (c4 / context))))\\n            :op2 (p3 / produce-01\\n                :ARG0 m\\n                :ARG1 (u / utter-01\\n                    :purpose (d / distinguish-01\\n                        :ARG0 m\\n                        :ARG1 (c2 / color\\n                            :ARG1-of (t / target-01))\\n                        :ARG2 (c3 / color\\n                            :mod (o2 / other))))))))', '# ::snt Thus, a model of the speaker must process representations of the colors in the context and produce an utterance to distinguish the target color from the other utterances.\\n# ::tok Thus , a model of the speaker must process representations of the colors in the context and produce an utterance to distinguish the target color from the other utterances .\\n(i / infer-01\\n    :ARG1 (o / obligate-01\\n        :ARG1 (m / model-01\\n            :ARG1 (p / person\\n                :ARG0-of (s / speak-01)))\\n        :ARG2 (a / and\\n            :op1 (p2 / process-01\\n                :ARG0 m\\n                :ARG1 (r / representation-02\\n                    :ARG1 (c / color\\n                        :location (c3 / context))))\\n            :op2 (p3 / produce-01\\n                :ARG0 m\\n                :ARG1 (u / utter-01\\n                    :purpose (d / distinguish-01\\n                        :ARG0 m\\n                        :ARG1 (c2 / color\\n                            :ARG1-of (t / target-01))\\n                        :ARG2 (u2 / utter-01\\n                            :mod (o2 / other))))))))', '# ::snt While most successful approaches for reading comprehension rely on recurrent neural networks (RNNs), running them over long documents is prohibitively slow because it is difficult to parallelize over sequences.\\n# ::tok While most successful approaches for reading comprehension rely on recurrent neural networks ( RNNs ) , running them over long documents is prohibitively slow because it is difficult to parallelize over sequences .\\n(c3 / contrast-01\\n    :ARG1 (r2 / rely-01\\n        :ARG0 (a / approach-02\\n            :ARG1 (c2 / comprehend-01\\n                :ARG1 (r / read-01))\\n            :ARG1-of (h / have-degree-91\\n                :ARG2 (s3 / succeed-01\\n                    :ARG0 a)\\n                :ARG3 (m / most)))\\n        :ARG1 (n / network\\n            :ARG1-of (r3 / repeat-01)\\n            :mod (n2 / neural)))\\n    :ARG2 (s2 / slow-05\\n        :ARG0-of (p2 / prohibitive-02)\\n        :ARG1 (r4 / run-01\\n            :ARG1 n\\n            :path (o / over\\n                :op1 (d2 / document\\n                    :ARG1-of (l / long-03))))\\n        :ARG1-of (c / cause-01\\n            :ARG0 (d / difficult\\n                :domain (p / parallel-01\\n                    :ARG1 (s / sequence))))))', '# ::snt While most approaches for reading comprehension rely on recurrent neural networks (RNNs), running them over long documents is prohibitively slow because it is difficult to parallelize over sequences.\\n# ::tok While most approaches for reading comprehension rely on recurrent neural networks ( RNNs ) , running them over long documents is prohibitively slow because it is difficult to parallelize over sequences .\\n(c3 / contrast-01\\n    :ARG1 (r2 / rely-01\\n        :ARG0 (a / approach-02\\n            :quant (m / most)\\n            :ARG1 (c2 / comprehend-01\\n                :ARG1 (r / read-01)))\\n        :ARG1 (n / network\\n            :ARG1-of (r3 / repeat-01)\\n            :mod (n2 / neural)))\\n    :ARG2 (s2 / slow-05\\n        :ARG0-of (p2 / prohibitive-02)\\n        :ARG1 (r4 / run-01\\n            :ARG1 n\\n            :path (o / over\\n                :op1 (d2 / document\\n                    :ARG1-of (l / long-03))))\\n        :ARG1-of (c / cause-01\\n            :ARG0 (d / difficult\\n                :domain (p / parallel-01\\n                    :ARG1 n\\n                    :path (s / sequence))))))', '# ::snt Due to the structure and short length of most Wikipedia documents (median number of sentences: 9), the answer can usually be inferred from the first few sentences.\\n# ::tok Due to the structure and short length of most Wikipedia documents ( median number of sentences : 9 ) , the answer can usually be inferred from the first few sentences .\\n(c / cause-01\\n   :ARG0 (a / and\\n            :ARG1-of (m / mean-01\\n                        :ARG2 (n2 / number\\n                                  :quant 9\\n                                  :mod (m2 / median)\\n                                  :quant-of (s / sentence)))\\n            :op1 (s4 / structure-01\\n                     :ARG1 (d / document\\n                              :quant (m3 / most)\\n                              :mod (p2 / publication\\n                                       :wiki \"Wikipedia\"\\n                                       :name (n / name\\n                                                :op1 \"Wikipedia\"))))\\n            :op2 (l / long-03\\n                    :ARG1 d\\n                    :ARG1-of (s3 / short-07)))\\n   :ARG1 (p / possible-01\\n            :ARG1 (i / infer-01\\n                     :ARG1 (t / thing\\n                              :ARG2-of (a2 / answer-01))\\n                     :ARG2 (s2 / sentence\\n                               :quant (f / few)\\n                               :ord (o / ordinal-entity\\n                                       :value 1)))\\n            :mod (u / usual)))', '# ::snt Due to the structure and short length of most Wikipedia documents (median number of sentences: 9), the answer can always be inferred from the first few sentences.\\n# ::tok Due to the structure and short length of most Wikipedia documents ( median number of sentences : 9 ) , the answer can always be inferred from the first few sentences .\\n(c / cause-01\\n   :ARG0 (a2 / and\\n             :op1 (s4 / structure-01\\n                      :ARG1 (d / document\\n                               :quant (m2 / most)\\n                               :example (n2 / number\\n                                            :quant 9\\n                                            :mod (m / median)\\n                                            :quant-of (s / sentence))\\n                               :mod (p2 / publication\\n                                        :wiki \"Wikipedia\"\\n                                        :name (n / name\\n                                                 :op1 \"Wikipedia\"))))\\n             :op2 (l / long-03\\n                     :ARG1 d\\n                     :ARG1-of (s3 / short-07)))\\n   :ARG1 (p / possible-01\\n            :ARG1 (i / infer-01\\n                     :ARG1 (t / thing\\n                              :ARG2-of (a3 / answer-01))\\n                     :ARG2 (s2 / sentence\\n                               :quant (f / few)\\n                               :ord (o / ordinal-entity\\n                                       :value 1)))\\n            :time (a / always)))', '# ::snt Each captures only a single aspect of coherence, and all focus on scoring existing sentences, rather than on generating coherent discourse for tasks like abstractive summarization.\\n# ::tok Each captures only a single aspect of coherence , and all focus on scoring existing sentences , rather than on generating coherent discourse for tasks like abstractive summarization .\\n(a3 / and\\n    :op1 (c / capture-01\\n        :ARG0 (e / each)\\n        :ARG1 (a4 / aspect\\n            :ARG1-of (s3 / single-02)\\n            :mod (o / only)\\n            :topic (c2 / cohere-01)))\\n    :op2 (f / focus-01\\n        :ARG0 (a2 / all)\\n        :ARG1-of (i / instead-of-91\\n            :ARG2 (g / generate-01\\n                :ARG0 a2\\n                :ARG1 (d / discourse-01\\n                    :ARG1-of (c3 / cohere-01))\\n                :ARG3 (t / task\\n                    :example (s4 / summarize-01\\n                        :manner (a / abstract)))))\\n        :ARG2 (s / score-01\\n            :ARG1 (s2 / sentence\\n                :ARG1-of (e2 / exist-01)))))', '# ::snt Each captures only a single aspect of coherence and focuses on scoring existing sentences, rather than on generating coherent discourse for tasks like abstractive summarization.\\n# ::tok Each captures only a single aspect of coherence and focuses on scoring existing sentences , rather than on generating coherent discourse for tasks like abstractive summarization .\\n(a2 / and\\n    :op1 (c / capture-01\\n        :ARG0 (e / each)\\n        :ARG1 (a3 / aspect\\n            :ARG1-of (s3 / single-02)\\n            :mod (o / only)\\n            :topic (c2 / cohere-01)))\\n    :op2 (f / focus-01\\n        :ARG0 e\\n        :ARG1-of (i / instead-of-91\\n            :ARG2 (g / generate-01\\n                :ARG0 e\\n                :ARG1 (d / discourse-01\\n                    :ARG1-of (c3 / cohere-01))\\n                :ARG3 (t / task\\n                    :example (s4 / summarize-01\\n                        :manner (a / abstract)))))\\n        :ARG2 (s / score-01\\n            :ARG1 (s2 / sentence\\n                :ARG1-of (e2 / exist-01)))))', '# ::snt In a coherent context, a machine should be able to guess the next utterance given the preceding ones.\\n# ::tok In a coherent context , a machine should be able to guess the next utterance given the preceding ones .\\n(r / recommend-01\\n    :ARG1 (p / possible-01\\n        :ARG1 (g2 / guess-01\\n            :ARG0 (m / machine)\\n            :ARG1 (u2 / utter-01\\n                :ARG1-of (g / give-01\\n                    :ARG2 (u / utter-01\\n                        :ARG1-of (p2 / precede-01)))\\n                :mod (n / next))))\\n    :condition (c2 / context\\n        :ARG1-of (c / cohere-01)))', '# ::snt In a coherent context, a machine can guess the next utterance given the preceding ones.\\n# ::tok In a coherent context , a machine can guess the next utterance given the preceding ones .\\n(p / possible-01\\n    :ARG1 (g2 / guess-01\\n        :ARG0 (m / machine)\\n        :ARG1 (u2 / utter-01\\n            :ARG1-of (g / give-01\\n                :ARG2 (u / utter-01\\n                    :ARG1-of (p2 / precede-01)))\\n            :mod (n / next)))\\n    :condition (c2 / context\\n        :ARG1-of (c / cohere-01)))', '# ::snt We thus propose eliminating the influence of the language model, which yields the following coherence score.\\n# ::tok We thus propose eliminating the influence of the language model , which yields the following coherence score .\\n(c / cause-01\\n    :ARG1 (p / propose-01\\n        :ARG0 (w / we)\\n        :ARG1 (e / eliminate-01\\n            :ARG0-of (y / yield-01\\n                :ARG1 (s / score-01\\n                    :ARG1 (c2 / cohere-01)\\n                    :ARG1-of (f / follow-01)))\\n            :ARG1 (i / influence-01\\n                :ARG0 (m / model-01\\n                    :ARG1 (l / language))))))', '# ::snt The language model yields the following coherence score.\\n# ::tok The language model yields the following coherence score .\\n(y / yield-01\\n    :ARG0 (m / model-01\\n        :ARG1 (l / language))\\n    :ARG1 (s / score-01\\n        :ARG1-of (f / follow-04)\\n        :ARG3 (c / cohere-01)))', '# ::snt Eliminating the influence of the language model yields the following coherence score.\\n# ::tok Eliminating the influence of the language model yields the following coherence score .\\n(y / yield-01\\n    :ARG0 (e / eliminate-01\\n        :ARG1 (i / influence-01\\n            :ARG0 (m / model-01\\n                :ARG1 (l / language))))\\n    :ARG1 (s / score-01\\n        :ARG1 (c / cohere-01)\\n        :ARG1-of (f / follow-04)))', '# ::snt The topic for the current sentence is drawn based on the topic of the preceding sentence (or word) rather than on the global document-level topic distribution in vanilla LDA.\\n# ::tok The topic for the current sentence is drawn based on the topic of the preceding sentence ( or word ) rather than on the global document - level topic distribution in vanilla LDA .\\n(d3 / draw-02\\n    :ARG1 (t / topic\\n             :poss (s / sentence\\n                      :time (c / current)))\\n    :ARG1-of (b / base-02\\n                :ARG2 (t2 / topic\\n                          :ARG1-of (i / instead-of-91\\n                                      :ARG2 (d / distribute-01\\n                                               :ARG1 (t3 / topic)\\n                                               :medium (p2 / product\\n                                                           :wiki \"List_of_airline_codes\"\\n                                                           :name (n / name\\n                                                                    :op1 \"LDA\")\\n                                                           :mod (v / vanilla))\\n                                               :mod (l / level\\n                                                       :mod (d2 / document))\\n                                               :mod (g / globe)))\\n                          :poss (o / or\\n                                   :op1 (s2 / sentence\\n                                            :ARG1-of (p / precede-01))\\n                                   :op2 (w / word\\n                                           :ARG1-of p)))))', '# ::snt The topic for the current sentence is drawn based on the global document-level topic distribution in vanilla LDA.\\n# ::tok The topic for the current sentence is drawn based on the global document - level topic distribution in vanilla LDA .\\n(d3 / draw-02\\n    :ARG1 (t / topic\\n             :part-of (s / sentence\\n                         :time (c / current)))\\n    :ARG1-of (b / base-02\\n                :ARG2 (d / distribute-01\\n                         :ARG1 (t2 / topic)\\n                         :location (p / product\\n                                      :wiki \"List_of_airline_codes\"\\n                                      :name (n / name\\n                                               :op1 \"LDA\")\\n                                      :mod (v / vanilla))\\n                         :mod (l / level\\n                                 :mod (d2 / document))\\n                         :mod (g / globe))))', '# ::snt The topic for the current sentence is drawn based on the topic of the preceding sentence (or word).\\n# ::tok The topic for the current sentence is drawn based on the topic of the preceding sentence ( or word ) .\\n(d / draw-02\\n    :ARG1 (t / topic\\n        :poss (s / sentence\\n            :time (c / current)))\\n    :ARG1-of (b / base-02\\n        :ARG2 (t2 / topic\\n            :topic (o / or\\n                :op1 (s2 / sentence\\n                    :ARG1-of (p / precede-01))\\n                :op2 (w / word\\n                    :ARG1-of p)))))', '# ::snt We publicly share our dataset and code for future research.\\n# ::tok We publicly share our dataset and code for future research .\\n(s / share-01\\n    :ARG0 (w / we)\\n    :ARG1 (a / and\\n        :purpose (r / research-01\\n            :time (f / future))\\n        :op1 (d / dataset\\n            :poss w)\\n        :op2 (c / code\\n            :poss w))\\n    :ARG1-of (p / public-02))', '# ::snt We publicly share our dataset for future research.\\n# ::tok We publicly share our dataset for future research .\\n(s / share-01\\n    :purpose (r / research-01\\n        :time (f / future))\\n    :ARG0 (w / we)\\n    :ARG1 (d / dataset\\n        :poss w)\\n    :ARG1-of (p / public-02))', '# ::snt We code for future research.\\n# ::tok We code for future research .\\n(c / code-01\\n    :purpose (r / research-01\\n        :time (f / future))\\n    :ARG0 (w / we))', '# ::snt This gives the model a sense of the implied action dynamics of the verb between the agent and the world.\\n# ::tok This gives the model a sense of the implied action dynamics of the verb between the agent and the world .\\n(g / give-01\\n    :ARG0 (t / this)\\n    :ARG1 (s / sense-01\\n        :ARG0 (m / model)\\n        :ARG1 (d / dynamics\\n            :ARG1-of (i / imply-01)\\n            :mod (a / act-02)\\n            :poss (v / verb\\n                :mod (b / between\\n                    :op1 (a2 / agent)\\n                    :op2 (w / world)))))\\n    :ARG2 m)', '# ::snt This gives to the model a sense of the implied action dynamics of the verb between the agent and the world.\\n# ::tok This gives to the model a sense of the implied action dynamics of the verb between the agent and the world .\\n(g / give-01\\n    :ARG0 (t / this)\\n    :ARG1 (s / sense-01\\n        :ARG1 (d / dynamics\\n            :ARG1-of (i / imply-01)\\n            :mod (a / act-02)\\n            :poss (v / verb\\n                :mod (b / between\\n                    :op1 (a2 / agent)\\n                    :op2 (w / world)))))\\n    :ARG2 (m / model))', '# ::snt This gives the model to a sense of the implied action dynamics of the verb between the agent and the world.\\n# ::tok This gives the model to a sense of the implied action dynamics of the verb between the agent and the world .\\n(g / give-01\\n    :ARG0 (t / this)\\n    :ARG1 (m / model)\\n    :ARG2 (s / sense-01\\n        :ARG1 (d / dynamics\\n            :ARG1-of (i / imply-01)\\n            :mod (a / act-02)\\n            :poss (v / verb\\n                :mod (b / between\\n                    :op1 (a2 / agent)\\n                    :op2 (w / world))))))', '# ::snt This attribute group specifies prominent body parts involved in carrying out the action.\\n# ::tok This attribute group specifies prominent body parts involved in carrying out the action .\\n(s / specify-01\\n    :ARG0 (g / group\\n        :mod (a2 / attribute-01)\\n        :mod (t / this))\\n    :ARG1 (p / part\\n        :ARG1-of (i / involve-01\\n            :ARG2 (c / carry-out-03\\n                :ARG1 (a / act-02)))\\n        :mod (p2 / prominent)\\n        :part-of (b / body)))', '# ::snt This attribute group specifies prominent limbs involved in carrying out the action.\\n# ::tok This attribute group specifies prominent limbs involved in carrying out the action .\\n(s / specify-01\\n    :ARG0 (g / group\\n        :ARG2-of (a2 / attribute-01)\\n        :mod (t / this))\\n    :ARG1 (l / limb\\n        :ARG1-of (i / involve-01\\n            :ARG2 (c / carry-out-03\\n                :ARG1 (a / act-02)))\\n        :mod (p / prominent)))', '# ::snt This problem has been studied before for zero-shot object recognition, but there are several key differences.\\n# ::tok This problem has been studied before for zero - shot object recognition , but there are several key differences .\\n(c / contrast-01\\n    :ARG1 (s3 / study-01\\n        :ARG1 (p / problem\\n            :mod (t / this)\\n            :topic (r / recognize-02\\n                :ARG1 (o / object\\n                    :ARG1-of (s2 / shoot-01\\n                        :quant 0))))\\n        :time (b / before))\\n    :ARG2 (d / differ-02\\n        :quant (s / several)\\n        :ARG1 p\\n        :ARG1-of (k / key-02)))', '# ::snt This problem has been previously studied for zero-shot object recognition, but there are several key differences.\\n# ::tok This problem has been previously studied for zero - shot object recognition , but there are several key differences .\\n(c / contrast-01\\n    :ARG1 (s3 / study-01\\n        :ARG1 (p2 / problem\\n            :mod (t / this))\\n        :time (p / previous)\\n        :topic (r / recognize-02\\n            :ARG1 (o / object\\n                :ARG1-of (s2 / shoot-01\\n                    :quant 0))))\\n    :ARG2 (d / differ-02\\n        :quant (s / several)\\n        :ARG1 p2\\n        :ARG1-of (k / key-02)))', '# ::snt This problem will be studied for zero-shot object recognition, but there are several key differences.\\n# ::tok This problem will be studied for zero - shot object recognition , but there are several key differences .\\n(c / contrast-01\\n    :ARG1 (s3 / study-01\\n        :ARG1 (p / problem\\n            :mod (t / this))\\n        :ARG2 (r / recognize-02\\n            :ARG1 (o / object)\\n            :ARG1-of (s2 / shoot-01\\n                :quant 0)))\\n    :ARG2 (d / differ-02\\n        :quant (s / several)\\n        :ARG1-of (k / key-02)))', '# ::snt Understanding a long document requires tracking how entities are introduced and evolve over time.\\n# ::tok Understanding a long document requires tracking how entities are introduced and evolve over time .\\n(r / require-01\\n    :ARG0 (u / understand-01\\n        :ARG1 (d / document\\n            :ARG1-of (l / long-03)))\\n    :ARG1 (t2 / track-01\\n        :ARG1 (t / thing\\n            :manner-of (a / and\\n                :mod (o / over-time)\\n                :op1 (i / introduce-02\\n                    :ARG1 (e / entity))\\n                :op2 (e2 / evolve-01\\n                    :ARG1 e)))))', '# ::snt Understanding a long document requires evolving over time.\\n# ::tok Understanding a long document requires evolving over time .\\n(r / require-01\\n    :ARG0 (u / understand-01\\n        :ARG1 (d / document\\n            :ARG1-of (l / long-03)))\\n    :ARG1 (e / evolve-01\\n        :mod (o / over-time)))', '# ::snt Understanding a long document requires tracking how entities evolve over time.\\n# ::tok Understanding a long document requires tracking how entities evolve over time .\\n(r / require-01\\n    :ARG0 (u / understand-01\\n        :ARG1 (d / document\\n            :ARG1-of (l / long-03)))\\n    :ARG1 (t2 / track-01\\n        :ARG1 (t / thing\\n            :manner-of (e2 / evolve-01\\n                :ARG1 (e / entity)\\n                :mod (o / over-time)))))', '# ::snt Understanding a long document requires understanding how entities are introduced.\\n# ::tok Understanding a long document requires understanding how entities are introduced .\\n(r / require-01\\n    :ARG0 (u / understand-01\\n        :ARG1 (d / document\\n            :ARG1-of (l / long-03)))\\n    :ARG1 (u2 / understand-01\\n        :ARG1 (t / thing\\n            :manner-of (i / introduce-01\\n                :ARG1 (e / entity)))))', '# ::snt We do not assume that these variables are observed at test time.\\n# ::tok We do not assume that these variables are observed at test time .\\n(a / assume-02\\n    :polarity -\\n    :ARG0 (w / we)\\n    :ARG1 (o / observe-01\\n        :ARG1 (v / variable\\n            :mod (t2 / this))\\n        :time (t / test-01)))', '# ::snt These variables are not observed at test time.\\n# ::tok These variables are not observed at test time .\\n(o / observe-01\\n    :polarity -\\n    :ARG1 (v / variable\\n        :mod (t2 / this))\\n    :time (t / test-01))', '# ::snt To compute the perplexity numbers on the test data, our model only takes account of log probabilities on word prediction.\\n# ::tok To compute the perplexity numbers on the test data , our model only takes account of log probabilities on word prediction .\\n(t / take-into-account-04\\n    :purpose (c / compute-01\\n        :ARG0 (w / we)\\n        :ARG0 (m / model\\n            :poss w)\\n        :ARG1 (n / number\\n            :location (d / data\\n                :ARG1-of (t2 / test-01))\\n            :mod (p / perplexity)))\\n    :ARG0 m\\n    :ARG1 (p3 / probability\\n        :mod (l / log)\\n        :topic (p2 / predict-01\\n            :ARG1 (w2 / word)))\\n    :mod (o / only))', \"# ::snt To compute the perplexity numbers on the test data, our model doesn't take account of anything other than the log probabilities on word prediction.\\n# ::tok To compute the perplexity numbers on the test data , our model does n't take account of anything other than the log probabilities on word prediction .\\n(t / take-into-account-04\\n    :polarity -\\n    :purpose (c / compute-01\\n        :ARG0 (w / we)\\n        :ARG0 (m / model\\n            :poss w)\\n        :ARG1 (n / number\\n            :location (d / data\\n                :ARG1-of (t2 / test-01))\\n            :mod (p / perplexity)))\\n    :ARG0 m\\n    :ARG1 (a / anything\\n        :ARG2-of (e / except-01\\n            :ARG1 (p3 / probability\\n                :mod (l / log)\\n                :topic (p2 / predict-01\\n                    :ARG1 (w2 / word))))))\", '# ::snt We also experiment with the option to either use the pretrained GloVe word embeddings or randomly initialized word embeddings (then updated during training).\\n# ::tok We also experiment with the option to either use the pretrained GloVe word embeddings or randomly initialized word embeddings ( then updated during training ) .\\n(e3 / experiment-01\\n    :ARG0 (w / we)\\n    :ARG1 (o / opt-01\\n             :ARG1 (o2 / or\\n                       :op1 (u2 / use-01\\n                                :ARG0 w\\n                                :ARG1 (e / embed-01\\n                                         :ARG1 (w2 / word)\\n                                         :ARG1-of (p / pret-03)\\n                                         :mod (p2 / product\\n                                                  :wiki -\\n                                                  :name (n / name\\n                                                           :op1 \"GloVe\"))))\\n                       :op2 (e2 / embed-01\\n                                :ARG1 w2\\n                                :ARG1-of (i / initialize-01\\n                                            :manner (r / random))\\n                                :ARG1-of (u / update-01\\n                                            :time (t / then)\\n                                            :time (t2 / train-01)))))\\n    :mod (a / also))', '# ::snt We experiment with the option using randomly initialized word embeddings (then updated during training).\\n# ::tok We experiment with the option using randomly initialized word embeddings ( then updated during training ) .\\n(e2 / experiment-01\\n    :ARG0 (w / we)\\n    :ARG1 (o / option)\\n    :manner (u2 / use-01\\n        :ARG0 w\\n        :ARG1 (e / embed-01\\n            :ARG1 (w2 / word)\\n            :ARG1-of (i / initialize-01\\n                :manner (r / random))\\n            :ARG1-of (u / update-01\\n                :time (t / then)\\n                :time (t2 / train-01)))))', '# ::snt The entity prediction task requires predicting xxxx given the preceding text either by choosing a previously mentioned entity or deciding that this is a “new entity”.\\n# ::tok The entity prediction task requires predicting xxxx given the preceding text either by choosing a previously mentioned entity or deciding that this is a \" new entity” .\\n(r / require-01\\n   :ARG0 (t / task-01\\n            :ARG1 (p2 / predict-01\\n                      :ARG1 (e / entity)))\\n   :ARG1 (p3 / predict-01\\n             :ARG1 (v / variable\\n                      :wiki \"Tetrasomy_X\"\\n                      :name (n / name\\n                               :op1 \"xxxx\"))\\n             :ARG1-of (c / cause-01\\n                         :ARG0 (t2 / text\\n                                   :ARG1-of (p / precede-01)))\\n             :manner (o / or\\n                        :op1 (c2 / choose-01\\n                                 :ARG1 (e2 / entity\\n                                           :ARG1-of (m / mention-01\\n                                                       :time (p4 / previous))))\\n                        :op2 (d / decide-01\\n                                :ARG1 (e3 / entity\\n                                          :ARG1-of (n2 / new-01)\\n                                          :domain e2)))))', '# ::snt The entity prediction task requires predicting xxxx given the preceding text by choosing a previously mentioned entity.\\n# ::tok The entity prediction task requires predicting xxxx given the preceding text by choosing a previously mentioned entity .\\n(r / require-01\\n   :ARG0 (t / task-01\\n            :ARG1 (p2 / predict-01\\n                      :ARG1 (e / entity)))\\n   :ARG1 (p3 / predict-01\\n             :ARG1 (v / variable\\n                      :wiki \"Tetrasomy_X\"\\n                      :name (n / name\\n                               :op1 \"xxxx\"))\\n             :ARG1-of (c / cause-01\\n                         :ARG0 (t2 / text\\n                                   :ARG1-of (p / precede-01)))\\n             :manner (c2 / choose-01\\n                         :ARG1 (e2 / entity\\n                                   :ARG1-of (m / mention-01\\n                                               :time (p4 / previous))))))', '# ::snt So there is no dedicated memory block for every entity and no distinction between entity mentions and non-mention words.\\n# ::tok So there is no dedicated memory block for every entity and no distinction between entity mentions and non - mention words .\\n(c / cause-01\\n    :ARG1 (a / and\\n        :op1 (b / block\\n            :polarity -\\n            :ARG1-of (d / dedicate-01)\\n            :beneficiary (e / entity\\n                :mod (e2 / every))\\n            :mod (m / memory))\\n        :op2 (d2 / distinguish-01\\n            :polarity -\\n            :ARG1 (m2 / mention-01\\n                :ARG1 e)\\n            :ARG2 (w / word\\n                :ARG1-of (m3 / mention-01\\n                    :polarity -)))))', '# ::snt So there is no dedicated high-dimensional memory block for every entity and no distinction between entity mentions and non-mention words.\\n# ::tok So there is no dedicated high - dimensional memory block for every entity and no distinction between entity mentions and non - mention words .\\n(c / cause-01\\n    :ARG1 (a / and\\n        :op1 (b / block\\n            :polarity -\\n            :ARG1-of (d / dedicate-01)\\n            :beneficiary (e / entity\\n                :mod (e2 / every))\\n            :mod (m / memory)\\n            :mod (d2 / dimension\\n                :ARG1-of (h / high-02)))\\n        :op2 (d3 / distinguish-01\\n            :polarity -\\n            :ARG1 (m2 / mention-01\\n                :ARG1 e)\\n            :ARG2 (w / word\\n                :ARG1-of (m3 / mention-01\\n                    :polarity -)))))', '# ::snt Our approach complements these previous methods.\\n# ::tok Our approach complements these previous methods .\\n(c / complement-01\\n    :ARG0 (a / approach-02\\n        :ARG0 (w / we))\\n    :ARG1 (m / method\\n        :mod (t / this)\\n        :time (p / previous)))', '# ::snt Our approach complements some previous methods.\\n# ::tok Our approach complements some previous methods .\\n(c / complement-01\\n    :ARG0 (a / approach-02\\n        :ARG0 (w / we))\\n    :ARG1 (m / method\\n        :quant (s / some)\\n        :time (p / previous)))', '# ::snt We manually annotated 687 templates mapping KB predicates to text for different compositionality types (with 462 unique KB predicates), and use those templates to modify the original WebQuestionsSP question according to the meaning of the generated SPARQL query.\\n# ::tok We manually annotated 687 templates mapping KB predicates to text for different compositionality types ( with 462 unique KB predicates ) , and use those templates to modify the original WebQuestionsSP question according to the meaning of the generated SPARQL query .\\n(a / and\\n   :op1 (a2 / annotate-01\\n            :ARG0 (w / we)\\n            :ARG1 (t / template\\n                     :quant 687\\n                     :ARG0-of (m2 / map-01\\n                                  :purpose (t7 / type\\n                                               :ARG1-of (d / differ-02)\\n                                               :accompanier (p2 / predicate\\n                                                                :quant 462\\n                                                                :ARG1-of (u / unique-01)\\n                                                                :mod (t3 / thing\\n                                                                         :wiki \"KB_Toys\"\\n                                                                         :name (n / name\\n                                                                                  :op1 \"KB\")))\\n                                               :mod (c / compose-01))\\n                                  :ARG1 (p / predicate\\n                                           :mod t3)\\n                                  :ARG2 (t2 / text)))\\n            :manner (m / manual))\\n   :op2 (u2 / use-01\\n            :ARG0 w\\n            :ARG1 t\\n            :ARG2 (m4 / modify-01\\n                      :ARG0 w\\n                      :ARG1 (q2 / question-01\\n                                :ARG1 (t4 / thing\\n                                          :wiki \"Game_Boy_Advance_SP\"\\n                                          :name (n2 / name\\n                                                    :op1 \"WebQuestionsSP\"))\\n                                :mod (o / original))\\n                      :ARG1-of (c2 / conform-01\\n                                   :ARG2 (t5 / thing\\n                                             :ARG2-of (m3 / mean-01\\n                                                          :ARG1 (q / query-01\\n                                                                   :ARG1 (t6 / thing\\n                                                                             :wiki \"Z39.50\"\\n                                                                             :name (n3 / name\\n                                                                                       :op1 \"SPARQL\"))\\n                                                                   :ARG1-of (g / generate-01))))))))', '# ::snt We manually annotated over 650 templates mapping KB predicates to text for different compositionality types (with 462 unique KB predicates), and use those templates to modify the original WebQuestionsSP question according to the meaning of the generated SPARQL query.\\n# ::tok We manually annotated over 650 templates mapping KB predicates to text for different compositionality types ( with 462 unique KB predicates ) , and use those templates to modify the original WebQuestionsSP question according to the meaning of the generated SPARQL query .\\n(a / and\\n   :op1 (a2 / annotate-01\\n            :ARG0 (w / we)\\n            :ARG1 (t / template\\n                     :quant (o2 / over\\n                                :op1 650)\\n                     :ARG0-of (m2 / map-01\\n                                  :purpose (t6 / type\\n                                               :ARG1-of (d / differ-02)\\n                                               :accompanier (p2 / predicate\\n                                                                :quant 462\\n                                                                :ARG1-of (u / unique-01)\\n                                                                :mod (f / format\\n                                                                        :wiki -\\n                                                                        :name (n / name\\n                                                                                 :op1 \"KB\")))\\n                                               :mod (c / compose-01))\\n                                  :ARG1 (p / predicate\\n                                           :mod f)\\n                                  :ARG2 (t2 / text)))\\n            :manner (m / manual))\\n   :op2 (u2 / use-01\\n            :ARG0 w\\n            :ARG1 t\\n            :ARG2 (m4 / modify-01\\n                      :ARG0 w\\n                      :ARG1 (q2 / question-01\\n                                :ARG1 (t3 / thing\\n                                          :wiki \"Game_Boy_Advance_SP\"\\n                                          :name (n2 / name\\n                                                    :op1 \"WebQuestionsSP\"))\\n                                :mod (o / original))\\n                      :ARG1-of (c2 / conform-01\\n                                   :ARG2 (t4 / thing\\n                                             :ARG2-of (m3 / mean-01\\n                                                          :ARG1 (q / query-01\\n                                                                   :ARG1 (t5 / thing\\n                                                                             :wiki \"Z39.50\"\\n                                                                             :name (n3 / name\\n                                                                                       :op1 \"SPARQL\"))\\n                                                                   :ARG1-of (g / generate-01))))))))', '# ::snt We manually annotated over 690 templates mapping KB predicates to text for different compositionality types (with 462 unique KB predicates), and use those templates to modify the original WebQuestionsSP question according to the meaning of the generated SPARQL query.\\n# ::tok We manually annotated over 690 templates mapping KB predicates to text for different compositionality types ( with 462 unique KB predicates ) , and use those templates to modify the original WebQuestionsSP question according to the meaning of the generated SPARQL query .\\n(a / and\\n   :op1 (a2 / annotate-01\\n            :ARG0 (w / we)\\n            :ARG1 (t / template\\n                     :quant (o2 / over\\n                                :op1 690)\\n                     :ARG0-of (m2 / map-01\\n                                  :purpose (t7 / type\\n                                               :ARG1-of (d / differ-02)\\n                                               :mod (c / compose-01)\\n                                               :prep-with (p2 / predicate\\n                                                              :quant 462\\n                                                              :ARG1-of (u / unique-01)\\n                                                              :mod (t3 / thing\\n                                                                       :wiki \"KB_Toys\"\\n                                                                       :name (n / name\\n                                                                                :op1 \"KB\"))))\\n                                  :ARG1 (p / predicate\\n                                           :mod t3)\\n                                  :ARG2 (t2 / text)))\\n            :manner (m / manual))\\n   :op2 (u2 / use-01\\n            :ARG0 w\\n            :ARG1 t\\n            :ARG2 (m4 / modify-01\\n                      :ARG0 w\\n                      :ARG1 (q2 / question-01\\n                                :ARG1 (t4 / thing\\n                                          :wiki \"Game_Boy_Advance_SP\"\\n                                          :name (n2 / name\\n                                                    :op1 \"WebQuestionsSP\"))\\n                                :mod (o / original))\\n                      :ARG1-of (c2 / conform-01\\n                                   :ARG2 (t5 / thing\\n                                             :ARG2-of (m3 / mean-01\\n                                                          :ARG1 (q / query-01\\n                                                                   :ARG1 (t6 / thing\\n                                                                             :wiki \"Z39.50\"\\n                                                                             :name (n3 / name\\n                                                                                       :op1 \"SPARQL\"))\\n                                                                   :ARG1-of (g / generate-01))))))))', '# ::snt To generate diversity, workers got a bonus if the edit distance of a paraphrase was high compared to the MG question.\\n# ::tok To generate diversity , workers got a bonus if the edit distance of a paraphrase was high compared to the MG question .\\n(g2 / get-01\\n    :purpose (g / generate-01\\n                :ARG0 (p2 / person\\n                          :ARG0-of (w / work-01))\\n                :ARG1 (d2 / diversity))\\n    :ARG0 p2\\n    :ARG1 (b / bonus)\\n    :condition (h / high-02\\n                  :ARG1 (d / distance\\n                           :mod (e / edit-01\\n                                   :ARG1 (t / thing\\n                                            :ARG1-of (p / paraphrase-01))))\\n                  :ARG1-of (c / compare-01\\n                              :ARG2 (q / question-01\\n                                       :ARG1 (t2 / thing\\n                                                 :wiki -\\n                                                 :name (n / name\\n                                                          :op1 \"MG\"))))))', '# ::snt To generate diversity, workers whose paraphrases had high edit distance compared to the MG question got a bonus.\\n# ::tok To generate diversity , workers whose paraphrases had high edit distance compared to the MG question got a bonus .\\n(g2 / get-01\\n    :purpose (g / generate-01\\n                :ARG0 (p2 / person\\n                          :ARG0-of (w / work-01)\\n                          :ARG1-of (p / paraphrase-01\\n                                      :ARG0-of (h / have-03\\n                                                  :ARG1 (d / distance\\n                                                           :ARG1-of (h2 / high-02)\\n                                                           :ARG1-of (c / compare-01\\n                                                                       :ARG2 (q / question-01\\n                                                                                :ARG1 (t / thing\\n                                                                                         :wiki -\\n                                                                                         :name (n / name\\n                                                                                                  :op1 \"MG\"))))\\n                                                           :mod (e / edit-01)))))\\n                :ARG1 (d2 / diversity))\\n    :ARG0 p2\\n    :ARG1 (b / bonus))', '# ::snt To generate diversity, workers got a bonus if the edit distance of a paraphrase was above 3 operations compared to the MG question.\\n# ::tok To generate diversity , workers got a bonus if the edit distance of a paraphrase was above 3 operations compared to the MG question .\\n(g2 / get-01\\n    :purpose (g / generate-01\\n                :ARG0 (p2 / person\\n                          :ARG0-of (w / work-01))\\n                :ARG1 (d2 / diversity))\\n    :ARG0 p2\\n    :ARG1 (b / bonus)\\n    :condition (d / distance\\n                  :quant (a / above\\n                            :op1 (o / operate-01\\n                                    :quant 3))\\n                  :ARG1-of (c / compare-01\\n                              :ARG2 (q / question-01\\n                                       :ARG1 (t2 / thing\\n                                                 :wiki -\\n                                                 :name (n / name\\n                                                          :op1 \"MG\"))))\\n                  :mod (e / edit-01)\\n                  :poss (t / thing\\n                           :ARG1-of (p / paraphrase-01))))', '# ::snt To generate complex questions we use the dataset WEBQUESTIONSSP, which contains 4,737 questions paired with SPARQL queries for Freebase.\\n# ::tok To generate complex questions we use the dataset WEBQUESTIONSSP , which contains 4,737 questions paired with SPARQL queries for Freebase .\\n(u / use-01\\n   :ARG0 (w / we)\\n   :ARG1 (d / dataset\\n            :wiki -\\n            :name (n / name\\n                     :op1 \"WEBQUESTIONSSP\")\\n            :ARG0-of (c2 / contain-01\\n                         :ARG1 (q3 / question\\n                                   :quant 3737\\n                                   :ARG1-of (p / pair-01\\n                                               :ARG2 (q / query-01\\n                                                        :beneficiary (p2 / product\\n                                                                         :wiki \"Cocaine\"\\n                                                                         :name (n3 / name\\n                                                                                   :op1 \"Freebase\"))\\n                                                        :mod (t / thing\\n                                                                :wiki \"Z39.50\"\\n                                                                :name (n2 / name\\n                                                                          :op1 \"SPARQL\")))))))\\n   :ARG2 (g / generate-01\\n            :ARG0 w\\n            :ARG1 (q2 / question\\n                      :mod (c / complex))))', '# ::snt To generate simple questions we use the dataset WEBQUESTIONSSP, which contains 4,737 questions paired with SPARQL queries for Freebase.\\n# ::tok To generate simple questions we use the dataset WEBQUESTIONSSP , which contains 4,737 questions paired with SPARQL queries for Freebase .\\n(u / use-01\\n   :ARG0 (w / we)\\n   :ARG1 (d / dataset\\n            :wiki -\\n            :name (n / name\\n                     :op1 \"WEBQUESTIONSSP\")\\n            :ARG0-of (c / contain-01\\n                        :ARG1 (q2 / question\\n                                  :quant 3737\\n                                  :ARG1-of (p / pair-01\\n                                              :ARG2 (q / query-01\\n                                                       :beneficiary (p2 / product\\n                                                                        :wiki \"Cocaine\"\\n                                                                        :name (n3 / name\\n                                                                                  :op1 \"Freebase\"))\\n                                                       :mod (t / thing\\n                                                               :wiki \"Z39.50\"\\n                                                               :name (n2 / name\\n                                                                         :op1 \"SPARQL\")))))))\\n   :ARG2 (g / generate-01\\n            :ARG0 w\\n            :ARG1 (q3 / question-01\\n                      :ARG1-of (s / simple-02))))', '# ::snt To generate highly compositional questions we use the dataset WEBQUESTIONSSP, which contains 4,737 questions paired with SPARQL queries for Freebase.\\n# ::tok To generate highly compositional questions we use the dataset WEBQUESTIONSSP , which contains 4,737 questions paired with SPARQL queries for Freebase .\\n(u / use-01\\n   :ARG0 (w / we)\\n   :ARG1 (d / dataset\\n            :wiki -\\n            :name (n / name\\n                     :op1 \"WEBQUESTIONSSP\")\\n            :ARG0-of (c2 / contain-01\\n                         :ARG1 (q3 / question\\n                                   :quant 3737\\n                                   :ARG1-of (p / pair-01\\n                                               :ARG2 (q / query-01\\n                                                        :ARG2 (p2 / product\\n                                                                  :wiki \"Cocaine\"\\n                                                                  :name (n3 / name\\n                                                                            :op1 \"Freebase\"))\\n                                                        :mod (t / thing\\n                                                                :wiki \"Z39.50\"\\n                                                                :name (n2 / name\\n                                                                          :op1 \"SPARQL\")))))))\\n   :ARG2 (g / generate-01\\n            :ARG0 w\\n            :ARG1 (q2 / question\\n                      :mod (c / compositional\\n                              :degree (h / high-02)))))', '# ::snt In this paper, we explore the idea of polyglot semantic translation, or learning semantic parsing models that are trained on multiple datasets and natural languages.\\n# ::tok In this paper , we explore the idea of polyglot semantic translation , or learning semantic parsing models that are trained on multiple datasets and natural languages .\\n(e / explore-01\\n    :ARG0 (w / we)\\n    :ARG1 (i / idea\\n        :topic (o / or\\n            :op1 (t3 / translate-01\\n                :ARG1 (s / semantics)\\n                :mod (p3 / polyglot))\\n            :op2 (l2 / learn-01\\n                :ARG1 (m / model\\n                    :ARG0-of (p2 / parse-01\\n                        :ARG1 s)\\n                    :ARG1-of (t2 / train-01\\n                        :ARG2 (a / and\\n                            :op1 (d / dataset\\n                                :quant (m2 / multiple))\\n                            :op2 (l / language\\n                                :ARG1-of (n / natural-03))))))))\\n    :location (p / paper\\n        :mod (t / this)))', '# ::snt In this paper, we explore the idea of learning semantic parsing models that are trained on multiple datasets and natural languages.\\n# ::tok In this paper , we explore the idea of learning semantic parsing models that are trained on multiple datasets and natural languages .\\n(e / explore-01\\n    :ARG0 (w / we)\\n    :ARG1 (i / idea\\n        :topic (l2 / learn-01\\n            :ARG1 (m / model\\n                :ARG0-of (p2 / parse-01\\n                    :ARG1 (s / semantics))\\n                :ARG1-of (t2 / train-01\\n                    :ARG2 (a / and\\n                        :op1 (d / dataset\\n                            :quant (m2 / multiple))\\n                        :op2 (l / language\\n                            :ARG1-of (n / natural-03)))))))\\n    :location (p / paper\\n        :mod (t / this)))', '# ::snt They then use a discriminative model to rerank the translation output using additional nonworld level features.\\n# ::tok They then use a discriminative model to rerank the translation output using additional nonworld level features .\\n(u / use-01\\n    :ARG0 (t2 / they)\\n    :ARG1 (m / model\\n        :ARG0-of (d / discriminate-02))\\n    :ARG2 (r / rank-01\\n        :ARG0 t2\\n        :ARG1 (o / output\\n            :mod (t3 / translate-01))\\n        :manner (u2 / use-01\\n            :ARG0 t2\\n            :ARG1 (f / feature\\n                :mod (l / level\\n                    :mod (w / world\\n                        :polarity -))\\n                :mod (a / additional))))\\n    :time (t / then))', '# ::snt They then use a generative model to rerank the translation output using additional nonworld level features.\\n# ::tok They then use a generative model to rerank the translation output using additional nonworld level features .\\n(u / use-01\\n    :ARG0 (t2 / they)\\n    :ARG1 (m / model\\n        :mod (g / generative))\\n    :ARG2 (r / rank-01\\n        :ARG0 t2\\n        :ARG1 (o / output\\n            :mod (t3 / translate-01))\\n        :manner (u2 / use-01\\n            :ARG0 t2\\n            :ARG1 (f / feature\\n                :mod (l / level\\n                    :mod (w / world\\n                        :polarity -))\\n                :mod (a / additional))))\\n    :time (t / then))', '# ::snt In contrast to standard MT tasks, we are dealing with a relatively low-resource setting where the sparseness of the target vocabulary is an issue.\\n# ::tok In contrast to standard MT tasks , we are dealing with a relatively low - resource setting where the sparseness of the target vocabulary is an issue .\\n(d / deal-01\\n   :ARG0 (w / we)\\n   :ARG1-of (c / contrast-01\\n               :ARG2 (t2 / task\\n                         :ARG1-of (s3 / standard-02)\\n                         :mod (t3 / thing\\n                                  :wiki \"Mt._Gox\"\\n                                  :name (n / name\\n                                           :op1 \"MT\"))))\\n   :ARG2 (s / setting\\n            :location-of (i / issue-02\\n                            :ARG0 (s2 / sparseness\\n                                      :poss (v / vocabulary\\n                                               :ARG1-of (t / target-01))))\\n            :mod (r2 / resource\\n                     :ARG1-of (l / low-04\\n                                 :ARG2-of (r / relative-05)))))', '# ::snt Unlike in standard MT tasks, we are dealing with a relatively low-resource setting where the sparseness of the target vocabulary is an issue.\\n# ::tok Unlike in standard MT tasks , we are dealing with a relatively low - resource setting where the sparseness of the target vocabulary is an issue .\\n(d / deal-01\\n   :ARG0 (w / we)\\n   :ARG1-of (r2 / resemble-01\\n                :polarity -\\n                :ARG2 (t2 / task\\n                          :ARG1-of (s3 / standard-02)\\n                          :mod (t3 / thing\\n                                   :wiki \"Mt._Gox\"\\n                                   :name (n / name\\n                                            :op1 \"MT\"))))\\n   :ARG2 (s / setting\\n            :location-of (i / issue-02\\n                            :ARG0 (s2 / sparseness\\n                                      :poss (v / vocabulary\\n                                               :ARG1-of (t / target-01))))\\n            :mod (r3 / resource\\n                     :ARG1-of (l / low-04\\n                                 :ARG2-of (r / relative-05)))))', '# ::snt A distribution is then computed over these actions using a softmax function and particular actions are chosen accordingly during training and decoding.\\n# ::tok A distribution is then computed over these actions using a softmax function and particular actions are chosen accordingly during training and decoding .\\n(a4 / and\\n    :op1 (c2 / compute-01\\n        :ARG1 (d2 / distribute-01\\n            :ARG1 (a2 / act-02\\n                :mod (t2 / this)))\\n        :manner (u / use-01\\n            :ARG1 (f / function-01\\n                :ARG1 (s / softmax)))\\n        :time (t / then))\\n    :op2 (c / choose-01\\n        :ARG1 (a3 / act-02\\n            :mod (p / particular))\\n        :manner (a / accordingly)\\n        :time (a5 / and\\n            :op1 (t3 / train-01\\n                :ARG2 a3)\\n            :op2 (d / decode-01\\n                :ARG1 a3))))', '# ::snt Logits are then computed for these actions and particular actions are chosen according to a softmax over these logits during training and decoding.\\n# ::tok Logits are then computed for these actions and particular actions are chosen according to a softmax over these logits during training and decoding .\\n(a3 / and\\n    :op1 (c2 / compute-01\\n        :ARG1 (l / log)\\n        :ARG3 (a / act-02\\n            :mod (t2 / this))\\n        :time (t / then))\\n    :op2 (c / choose-01\\n        :ARG1 (a2 / act-02\\n            :mod (p / particular))\\n        :ARG1-of (c3 / conform-01\\n            :ARG2 (s / softmax\\n                :topic l))\\n        :time (a4 / and\\n            :op1 (t3 / train-01)\\n            :op2 (d / decode-01))))', '# ::snt A distribution is then computed over these actions using a maximum-entropy approach and particular actions are chosen accordingly during training and decoding.\\n# ::tok A distribution is then computed over these actions using a maximum - entropy approach and particular actions are chosen accordingly during training and decoding .\\n(a4 / and\\n    :op1 (c2 / compute-01\\n        :ARG1 (d2 / distribute-01\\n            :ARG1 (a2 / act-02\\n                :mod (t2 / this)))\\n        :manner (a6 / approach-02\\n            :ARG1 (e / entropy\\n                :mod (m / maximum)))\\n        :time (t / then))\\n    :op2 (c / choose-01\\n        :ARG1 (a3 / act-02\\n            :mod (p / particular))\\n        :manner (a / accordingly)\\n        :time (a5 / and\\n            :op1 (t3 / train-01\\n                :ARG2 a3)\\n            :op2 (d / decode-01\\n                :ARG1 a3))))', '# ::snt A distribution is then computed over these actions using a softmax function and particular actions are chosen randomly during training and decoding.\\n# ::tok A distribution is then computed over these actions using a softmax function and particular actions are chosen randomly during training and decoding .\\n(a3 / and\\n    :op1 (c2 / compute-01\\n        :ARG1 (d2 / distribute-01\\n            :ARG1 (a / act-02\\n                :mod (t2 / this)))\\n        :manner (u / use-01\\n            :ARG1 (f / function-01\\n                :ARG1 (s / softmax)))\\n        :time (t / then))\\n    :op2 (c / choose-01\\n        :ARG1 (a2 / act-02\\n            :mod (p / particular))\\n        :manner (r / random)\\n        :time (a4 / and\\n            :op1 (t3 / train-01\\n                :ARG1 a2)\\n            :op2 (d / decode-01\\n                :ARG1 a2))))', '# ::snt The systems thus produced are incremental: dialogues are processed word-by-word, shown previously to be essential in supporting natural, spontaneous dialogue.\\n# ::tok The systems thus produced are incremental : dialogues are processed word - by - word , shown previously to be essential in supporting natural , spontaneous dialogue .\\n(i / incremental\\n    :ARG1-of (m / mean-01\\n        :ARG2 (p2 / process-01\\n            :ARG1 (d / dialogue-01)\\n            :manner (w / word-01)\\n            :mod (e / essential\\n                :purpose (s3 / support-01\\n                    :ARG1 (d2 / dialogue-01\\n                        :ARG1-of (n / natural-03)\\n                        :mod (s2 / spontaneous)))\\n                :ARG1-of (s / show-01\\n                    :time (p / previous)))))\\n    :domain (s4 / system\\n        :ARG1-of (p3 / produce-01\\n            :mod (t / thus))))', '# ::snt The systems thus produced support the capability to interrupt an interlocutor mid-sentence.\\n# ::tok The systems thus produced support the capability to interrupt an interlocutor mid - sentence .\\n(c2 / cause-01\\n    :ARG1 (p / produce-01\\n        :ARG0 (s3 / system)\\n        :ARG1 (s2 / support-01\\n            :ARG1 (c / capable-01\\n                :ARG2 (i2 / interrupt-01\\n                    :ARG1 (i / interlocutor)\\n                    :time (m / middle\\n                        :op1 (s / sentence)))))))', '# ::snt The systems thus produced are incremental: dialogues are processed sentence-by-sentence, shown previously to be essential in supporting natural, spontaneous dialogue.\\n# ::tok The systems thus produced are incremental : dialogues are processed sentence - by - sentence , shown previously to be essential in supporting natural , spontaneous dialogue .\\n(i / incremental\\n    :ARG1-of (c / cause-01)\\n    :ARG1-of (m / mean-01\\n        :ARG2 (p2 / process-01\\n            :ARG1 (d / dialogue-01)\\n            :manner (s / sentence)\\n            :mod (e / essential\\n                :purpose (s4 / support-01\\n                    :ARG1 (d2 / dialogue-01\\n                        :ARG1-of (n / natural-03)\\n                        :mod (s3 / spontaneous)))\\n                :ARG1-of (s2 / show-01\\n                    :time (p / previous)))))\\n    :domain (s5 / system\\n        :ARG1-of (p3 / produce-01\\n            :ARG1-of c)))', '# ::snt Indeed, it is often stated that for humans to learn how to perform adequately in a domain, one example is enough from which to learn.\\n# ::tok Indeed , it is often stated that for humans to learn how to perform adequately in a domain , one example is enough from which to learn .\\n(s / state-01\\n    :ARG1 (h / have-quant-91\\n        :purpose (l / learn-01\\n            :ARG0 (h2 / human)\\n            :ARG1 (t / thing\\n                :manner-of (p / perform-02\\n                    :ARG0 h2\\n                    :ARG1 (d / domain)\\n                    :manner (a / adequate))))\\n        :ARG1 (e2 / example\\n            :quant 1)\\n        :ARG3 (e / enough)\\n        :ARG6 (l2 / learn-01))\\n    :frequency (o / often)\\n    :mod (i / indeed))', '# ::snt Indeed, it is often stated that for humans to learn how to perform adequately in a domain, one-shot learning is sufficient.\\n# ::tok Indeed , it is often stated that for humans to learn how to perform adequately in a domain , one - shot learning is sufficient .\\n(s2 / state-01\\n    :ARG1 (s3 / suffice-01\\n        :purpose (l / learn-01\\n            :ARG0 (h / human)\\n            :ARG1 (t / thing\\n                :manner-of (p / perform-02\\n                    :ARG0 h\\n                    :ARG1 (d / domain)\\n                    :manner (a / adequate))))\\n        :ARG0 (l2 / learn-01\\n            :mod (s / shot\\n                :quant 1)))\\n    :frequency (o / often)\\n    :mod (i / indeed))', '# ::snt Indeed, it is often stated that for humans to learn how to perform adequately in a domain, any number of examples is enough from which to learn.\\n# ::tok Indeed , it is often stated that for humans to learn how to perform adequately in a domain , any number of examples is enough from which to learn .\\n(s / state-01\\n    :ARG1 (h / have-quant-91\\n        :purpose (l / learn-01\\n            :ARG0 (h2 / human)\\n            :ARG1 (t / thing\\n                :manner-of (p / perform-02\\n                    :ARG0 h2\\n                    :ARG1 (d / domain)\\n                    :manner (a / adequate))))\\n        :ARG1 (e2 / example\\n            :quant (n / number\\n                :mod (a2 / any)))\\n        :ARG3 (e / enough)\\n        :ARG6 (l2 / learn-01))\\n    :frequency (o / often)\\n    :mod (i / indeed))', '# ::snt We investigate a wide range of metrics, including state-of-the-art word-based and novel grammar-based ones, and demonstrate that they only weakly reflect human judgements of system outputs as generated by data-driven, end-to-end natural language generation.\\n# ::tok We investigate a wide range of metrics , including state - of - the - art word - based and novel grammar - based ones , and demonstrate that they only weakly reflect human judgements of system outputs as generated by data - driven , end - to - end natural language generation .\\n(a / and\\n    :op1 (i2 / investigate-01\\n        :ARG0 (w / we)\\n        :ARG1 (r / range-01\\n            :ARG1 (m / metric\\n                :ARG2-of (i / include-01\\n                    :ARG1 (a2 / and\\n                        :op1 (m3 / metric\\n                            :ARG1-of (b / base-02\\n                                :ARG2 (w4 / word))\\n                            :mod (s / state-of-the-art))\\n                        :op2 (m2 / metric\\n                            :ARG1-of (b2 / base-02\\n                                :ARG2 (g3 / grammar))\\n                            :mod (n2 / novel)))))\\n            :ARG1-of (w3 / wide-02)))\\n    :op2 (d2 / demonstrate-01\\n        :ARG0 w\\n        :ARG1 (r2 / reflect-01\\n            :ARG1 m\\n            :ARG1-of (w2 / weak-02)\\n            :ARG2 (j / judge-01\\n                :ARG0 (h / human)\\n                :ARG1 (o2 / output\\n                    :ARG1-of (g / generate-01\\n                        :ARG0 (g2 / generate-01\\n                            :ARG1 (l / language\\n                                :ARG1-of (n / natural-03))\\n                            :ARG1-of (d3 / drive-02\\n                                :ARG0 (d / data))\\n                            :mod (e / end-to-end)))\\n                    :mod (s2 / system)))\\n            :mod (o / only))))', '# ::snt We investigate a wide range of metrics, including state-of-the-art word-based and novel grammar-based ones, and demonstrate that they only weakly reflect human judgements of system outputs as generated by data-driven, end-to-end natural language parsing.\\n# ::tok We investigate a wide range of metrics , including state - of - the - art word - based and novel grammar - based ones , and demonstrate that they only weakly reflect human judgements of system outputs as generated by data - driven , end - to - end natural language parsing .\\n(a / and\\n    :op1 (i2 / investigate-01\\n        :ARG0 (w / we)\\n        :ARG1 (r / range-01\\n            :ARG1 (m / metric\\n                :ARG2-of (i / include-01\\n                    :ARG1 (a2 / and\\n                        :op1 (m3 / metric\\n                            :ARG1-of (b / base-02\\n                                :ARG2 (w4 / word))\\n                            :mod (s / state-of-the-art))\\n                        :op2 (m2 / metric\\n                            :ARG1-of (b2 / base-02\\n                                :ARG2 (g2 / grammar))\\n                            :mod (n2 / novel)))))\\n            :ARG1-of (w3 / wide-02)))\\n    :op2 (d2 / demonstrate-01\\n        :ARG0 w\\n        :ARG1 (r2 / reflect-01\\n            :ARG1 m\\n            :ARG1-of (w2 / weak-02)\\n            :ARG2 (j / judge-01\\n                :ARG0 (h / human)\\n                :ARG1 (o2 / output\\n                    :ARG1-of (g / generate-01\\n                        :ARG0 (p / parse-01\\n                            :ARG1 (l / language\\n                                :ARG1-of (n / natural-03))\\n                            :ARG1-of (d3 / drive-02\\n                                :ARG0 (d / data))\\n                            :mod (e / end-to-end)))\\n                    :mod (s2 / system)))\\n            :mod (o / only))))', '# ::snt To assess the reliability of ratings, we calculated the intra-class correlation coefficient (ICC), which measures inter-observer reliability on ordinal data for more than two raters (Landis and Koch, 1977).\\n# ::tok To assess the reliability of ratings , we calculated the intra - class correlation coefficient ( ICC ) , which measures inter - observer reliability on ordinal data for more than two raters ( Landis and Koch , 1977 ) .\\n(c / calculate-01\\n   :purpose (a2 / assess-01\\n                :ARG0 (w / we)\\n                :ARG1 (r3 / rely-01\\n                          :ARG1 (r / rate-01)))\\n   :ARG0 w\\n   :ARG1 (c3 / coefficient\\n             :ARG0-of (m / measure-01\\n                         :ARG1 (r4 / rely-01\\n                                   :ARG1 (p / person\\n                                            :ARG0-of (o / observe-01))\\n                                   :ARG2 (d / data\\n                                            :beneficiary (p2 / person\\n                                                             :quant (m2 / more-than\\n                                                                        :op1 2)\\n                                                             :ARG0-of (r2 / rate-01))\\n                                            :mod (o2 / ordinal))))\\n             :mod (c4 / correlate-01)\\n             :mod (c2 / class))\\n   :ARG1-of (d3 / describe-01\\n                :ARG0 (p5 / publication-91\\n                          :ARG0 (a / and\\n                                   :op1 (p3 / person\\n                                            :wiki -\\n                                            :name (n / name\\n                                                     :op1 \"Landis\"))\\n                                   :op2 (p4 / person\\n                                            :wiki -\\n                                            :name (n2 / name\\n                                                      :op1 \"Koch\")))\\n                          :time (d2 / date-entity\\n                                    :year 1977))))', '# ::snt To assess the unreliability of ratings, we calculated the intra-class correlation coefficient (ICC), which measures inter-observer reliability on ordinal data for more than two raters (Landis and Koch, 1977).\\n# ::tok To assess the unreliability of ratings , we calculated the intra - class correlation coefficient ( ICC ) , which measures inter - observer reliability on ordinal data for more than two raters ( Landis and Koch , 1977 ) .\\n(c / calculate-01\\n   :purpose (a2 / assess-01\\n                :ARG0 (w / we)\\n                :ARG1 (p5 / possible-01\\n                          :polarity -\\n                          :ARG1 (r3 / rely-01\\n                                    :ARG1 (r2 / rate-01))))\\n   :ARG0 w\\n   :ARG1 (c3 / coefficient\\n             :ARG0-of (m / measure-01\\n                         :ARG1 (r4 / rely-01\\n                                   :ARG1 (p / person\\n                                            :ARG0-of (o / observe-01)\\n                                            :mod (i / inter))\\n                                   :ARG2 (d / data\\n                                            :mod (o2 / ordinal))\\n                                   :beneficiary (p2 / person\\n                                                    :quant (m2 / more-than\\n                                                               :op1 2)\\n                                                    :ARG0-of (r / rat-01))))\\n             :mod (c4 / correlate-01)\\n             :mod (c2 / class))\\n   :ARG1-of (d3 / describe-01\\n                :ARG0 (p6 / publication-91\\n                          :ARG0 (a / and\\n                                   :op1 (p3 / person\\n                                            :wiki -\\n                                            :name (n / name\\n                                                     :op1 \"Landis\"))\\n                                   :op2 (p4 / person\\n                                            :wiki -\\n                                            :name (n2 / name\\n                                                      :op1 \"Koch\")))\\n                          :time (d2 / date-entity\\n                                    :year 1977))))', '# ::snt We also show that metric performance is data- and system-specific.\\n# ::tok We also show that metric performance is data - and system - specific .\\n(s / show-01\\n    :ARG0 (w / we)\\n    :ARG1 (a2 / and\\n        :domain (p / perform-02\\n            :ARG1 (m / metric))\\n        :op1 (d / data)\\n        :op2 (s2 / specific-02\\n            :ARG1 p\\n            :ARG2 (s3 / system)))\\n    :mod (a / also))', '# ::snt We also show that metric performance varies between datasets and systems.\\n# ::tok We also show that metric performance varies between datasets and systems .\\n(s / show-01\\n    :ARG0 (w / we)\\n    :ARG1 (v / vary-01\\n        :ARG1 (p / perform-02\\n            :ARG0 (m / metric))\\n        :ARG3 (a2 / and\\n            :op1 (d / dataset)\\n            :op2 (s2 / system)))\\n    :mod (a / also))', '# ::snt We also show that metric performance is constant between datasets and systems.\\n# ::tok We also show that metric performance is constant between datasets and systems .\\n(s / show-01\\n    :ARG0 (w / we)\\n    :ARG1 (c / constant\\n        :domain (p / perform-02\\n            :ARG1 (m / metric))\\n        :location (b / between\\n            :op1 (d / dataset)\\n            :op2 (s2 / system)))\\n    :mod (a / also))', '# ::snt Our experiments indicate that neural systems are quite good at producing fluent outputs and generally score well on standard word-match metrics, but perform quite poorly at content selection and at capturing long-term structure.\\n# ::tok Our experiments indicate that neural systems are quite good at producing fluent outputs and generally score well on standard word - match metrics , but perform quite poorly at content selection and at capturing long - term structure .\\n(i / indicate-01\\n    :ARG0 (e / experiment-01\\n        :ARG0 (w / we))\\n    :ARG1 (c3 / contrast-01\\n        :ARG1 (g2 / good-03\\n            :ARG1 (s5 / system\\n                :mod (n / nerve))\\n            :ARG2 (p3 / produce-01\\n                :ARG0 s5\\n                :ARG1 (o / output\\n                    :mod (f / fluent)))\\n            :ARG2 (a2 / and\\n                :op1 g2\\n                :op2 (s / score-01\\n                    :ARG1 s5\\n                    :ARG1-of (g / general-02)\\n                    :ARG2 (w2 / well-09)\\n                    :ARG3 (m2 / metric\\n                        :ARG1-of (s3 / standard-02)\\n                        :mod (m / match-01\\n                            :ARG1 (w3 / word)))))\\n            :degree (q / quite))\\n        :ARG2 (p / perform-02\\n            :ARG0 s5\\n            :ARG2 (a / and\\n                :op1 (s2 / select-01\\n                    :ARG0 s5\\n                    :ARG1 (c2 / content))\\n                :op2 (c / capture-01\\n                    :ARG0 s5\\n                    :ARG1 (s4 / structure\\n                        :ARG1-of (l / long-03))))\\n            :manner (p2 / poor\\n                :degree (q2 / quite)))))', '# ::snt Our experiments indicate that neural systems are quite good at surface-level language modeling, but perform quite poorly at capturing higher level semantics and structure.\\n# ::tok Our experiments indicate that neural systems are quite good at surface - level language modeling , but perform quite poorly at capturing higher level semantics and structure .\\n(i / indicate-01\\n    :ARG0 (e / experiment-01\\n        :ARG0 (w / we))\\n    :ARG1 (c2 / contrast-01\\n        :ARG1 (g / good-03\\n            :ARG1 (s4 / system\\n                :mod (n / nerve))\\n            :ARG2 (m / model-01\\n                :ARG1 (l / language)\\n                :mod (l2 / level\\n                    :mod (s3 / surface)))\\n            :degree (q / quite))\\n        :ARG2 (p / perform-02\\n            :ARG0 s4\\n            :ARG1 (c / capture-01\\n                :ARG0 s4\\n                :ARG1 (a / and\\n                    :mod (l3 / level\\n                        :ARG1-of (h / have-degree-91\\n                            :ARG2 (h2 / high-02\\n                                :ARG1 l3)\\n                            :ARG3 (m2 / more)))\\n                    :op1 (s / semantics)\\n                    :op2 (s2 / structure)))\\n            :manner (p2 / poor\\n                :degree (q2 / quite)))))', '# ::snt Our experiments indicate that neural systems are quite good at capturing higher level semantics and structure but perform quite poorly at surface-level language modeling.\\n# ::tok Our experiments indicate that neural systems are quite good at capturing higher level semantics and structure but perform quite poorly at surface - level language modeling .\\n(i / indicate-01\\n    :ARG0 (e / experiment-01\\n        :ARG0 (w / we))\\n    :ARG1 (c2 / contrast-01\\n        :ARG1 (g / good-03\\n            :ARG1 (s4 / system\\n                :mod (n / nerve))\\n            :ARG2 (c / capture-01\\n                :ARG0 s4\\n                :ARG1 (a / and\\n                    :mod (l2 / level\\n                        :ARG1-of (h / have-degree-91\\n                            :ARG2 (h2 / high-02\\n                                :ARG1 l2)\\n                            :ARG3 (m2 / more)))\\n                    :op1 (s / semantics)\\n                    :op2 (s2 / structure)))\\n            :degree (q / quite))\\n        :ARG2 (p / perform-02\\n            :ARG0 s4\\n            :ARG1 (m / model-01\\n                :ARG1 (l / language)\\n                :mod (l3 / level\\n                    :mod (s3 / surface)))\\n            :manner (p2 / poor\\n                :degree (q2 / quite)))))', '# ::snt Reconstruction-based techniques can also be applied at the document or sentence-level during training.\\n# ::tok Reconstruction - based techniques can also be applied at the document or sentence - level during training .\\n(p / possible-01\\n    :ARG1 (a2 / apply-02\\n        :ARG1 (t / technique\\n            :ARG1-of (b / base-02\\n                :ARG2 (r / reconstruct-01)))\\n        :location (o / or\\n            :op1 (l2 / level\\n                :mod (d / document))\\n            :op2 (l / level\\n                :mod (s / sentence)))\\n        :mod (a / also)\\n        :time (t2 / train-01)))', '# ::snt Reconstruction-based techniques can operate on multiple scales during training.\\n# ::tok Reconstruction - based techniques can operate on multiple scales during training .\\n(p / possible-01\\n    :ARG1 (o / operate-01\\n        :ARG1 (t / technique\\n            :ARG1-of (b / base-02\\n                :ARG2 (r / reconstruct-01)))\\n        :manner (s / scale\\n            :quant (m / multiple))\\n        :time (t2 / train-01\\n            :ARG2 t)))', '# ::snt Reconstruction-based techniques can also be applied at the document or sentence-level during test.\\n# ::tok Reconstruction - based techniques can also be applied at the document or sentence - level during test .\\n(p / possible-01\\n    :ARG1 (a2 / apply-02\\n        :ARG1 (t / technique\\n            :ARG1-of (b / base-02\\n                :ARG2 (r / reconstruct-01)))\\n        :ARG2 (o / or\\n            :op1 (l2 / level\\n                :mod (d / document))\\n            :op2 (l / level\\n                :mod (s / sentence)))\\n        :mod (a / also)\\n        :time (t2 / test-01)))', '# ::snt Reconstruction-based techniques can only be applied at the sentence-level during training.\\n# ::tok Reconstruction - based techniques can only be applied at the sentence - level during training .\\n(p / possible-01\\n    :ARG1 (a / apply-02\\n        :ARG1 (t / technique\\n            :ARG1-of (b / base-02\\n                :ARG2 (r / reconstruct-01)))\\n        :location (l / level\\n            :mod (s / sentence))\\n        :mod (o / only)\\n        :time (t2 / train-01)))', '# ::snt In practice, our proposed extractive evaluation will pick up on many errors in this passage.\\n# ::tok In practice , our proposed extractive evaluation will pick up on many errors in this passage .\\n(p2 / pick-up-11\\n    :ARG0 (e2 / evaluate-01\\n        :ARG1-of (p4 / propose-01\\n            :ARG0 (w / we))\\n        :manner (e3 / extract-01))\\n    :ARG1 (e / err-01\\n        :quant (m / many)\\n        :location (p / passage\\n            :mod (t / this)))\\n    :ARG1-of (p3 / practical-02))', '# ::snt In practice, our proposed extractive evaluation will pick up on few errors in this passage.\\n# ::tok In practice , our proposed extractive evaluation will pick up on few errors in this passage .\\n(p2 / pick-up-11\\n    :ARG0 (e2 / evaluate-01\\n        :ARG1-of (p4 / propose-01\\n            :ARG0 (w / we))\\n        :manner (e3 / extract-01))\\n    :ARG1 (e / err-01\\n        :quant (f / few)\\n        :location (p / passage\\n            :mod (t / this)))\\n    :ARG1-of (p3 / practical-02))', '# ::snt Similarly, the use of more agent-empowering verbs in female narratives decrease the odds of passing the Bechdel test.\\n# ::tok Similarly , the use of more agent - empowering verbs in female narratives decrease the odds of passing the Bechdel test .\\n(d / decrease-01\\n   :ARG0 (u / use-01\\n            :ARG1 (v / verb\\n                     :ARG0-of (e / empower-01\\n                                 :ARG1 (a / agent)\\n                                 :ARG2-of (h / have-degree-91\\n                                             :ARG1 v\\n                                             :ARG3 (m / more))))\\n            :ARG2 (n2 / narrate-01\\n                      :ARG0 (f / female)))\\n   :ARG1 (o / odds\\n            :mod (p / pass-07\\n                    :ARG2 (t / test-01\\n                             :wiki \"Mako_Mori_test\"\\n                             :name (n / name\\n                                      :op1 \"Bechdel\"\\n                                      :op2 \"test\"))))\\n   :ARG1-of (r / resemble-01))', '# ::snt Similarly, the use of more agent-empowering verbs in female narratives decrease the odds of two named women characters talking about something besides men.\\n# ::tok Similarly , the use of more agent - empowering verbs in female narratives decrease the odds of two named women characters talking about something besides men .\\n(d / decrease-01\\n    :ARG0 (u / use-01\\n        :ARG1 (v / verb\\n            :ARG0-of (e / empower-01\\n                :ARG1 (a / agent)\\n                :ARG2-of (h / have-degree-91\\n                    :ARG1 v\\n                    :ARG3 (m2 / more))))\\n        :ARG2 (n2 / narrate-01\\n            :ARG0 (f / female)))\\n    :ARG1 (o / odds\\n        :mod (t / talk-01\\n            :ARG0 (c / character\\n                :quant 2\\n                :ARG1-of (n / name-01)\\n                :mod (w / woman))\\n            :ARG1 (s / something\\n                :ARG2-of (e2 / except-01\\n                    :ARG1 (m / man)))))\\n    :ARG1-of (r / resemble-01))', '# ::snt Similarly, the use of more agent-empowering verbs in female narratives decrease the odds of men in the narrative talking to each other about women.\\n# ::tok Similarly , the use of more agent - empowering verbs in female narratives decrease the odds of men in the narrative talking to each other about women .\\n(d / decrease-01\\n    :ARG0 (u / use-01\\n        :ARG1 (v / verb\\n            :ARG0-of (e / empower-01\\n                :ARG1 (a / agent)\\n                :ARG2-of (h / have-degree-91\\n                    :ARG1 v\\n                    :ARG3 (m2 / more))))\\n        :ARG2 (n / narrate-01\\n            :ARG0 (f / female)))\\n    :ARG1 (o / odds\\n        :mod (t / talk-01\\n            :ARG0 (m / man\\n                :location n)\\n            :ARG2 m))\\n    :ARG1-of (r / resemble-01))', '# ::snt Furthermore, male characters use inhibitory language more (inhib), which contains words pertaining to blocking or allowing, suggesting that these characters are in positions of power.\\n# ::tok Furthermore , male characters use inhibitory language more ( inhib ) , which contains words pertaining to blocking or allowing , suggesting that these characters are in positions of power .\\n(a2 / and\\n    :op2 (u / use-01\\n        :ARG0 (c / character\\n            :mod (m / male))\\n        :ARG0-of (s / suggest-01\\n            :ARG1 (p2 / position-01\\n                :ARG1 c\\n                :ARG2 (p3 / power)))\\n        :ARG1 (l / language\\n            :ARG0-of (i / inhibit-01)\\n            :ARG0-of (c2 / contain-01\\n                :ARG1 (w / word\\n                    :ARG0-of (p / pertain-01\\n                        :ARG1 (o / or\\n                            :op1 (b / block-01)\\n                            :op2 (a / allow-01))))))\\n        :ARG1-of (h / have-quant-91\\n            :ARG3 (m2 / more))))', '# ::snt Furthermore, male characters use inhibitory language more (inhib), which contains words pertaining to blocking or allowing, suggesting that these characters are more often in positions where they can forbid or permit actions and decisions.\\n# ::tok Furthermore , male characters use inhibitory language more ( inhib ) , which contains words pertaining to blocking or allowing , suggesting that these characters are more often in positions where they can forbid or permit actions and decisions .\\n(a3 / and\\n    :op2 (u / use-01\\n        :ARG0 (c / character\\n            :mod (m / male))\\n        :ARG0-of (s / suggest-01\\n            :ARG1 (b / be-located-at-91\\n                :ARG1 c\\n                :ARG2 (p3 / position-01\\n                    :ARG1 c\\n                    :ARG2 (p4 / possible-01\\n                        :ARG1 (o3 / or\\n                            :op1 (f / forbid-01\\n                                :ARG0 c\\n                                :ARG1 (a4 / and\\n                                    :op1 (a / act-02)\\n                                    :op2 (d / decide-01)))\\n                            :op2 (p / permit-01\\n                                :ARG0 c\\n                                :ARG1 a4))))\\n                :frequency (o / often\\n                    :ARG2-of (h / have-degree-91\\n                        :ARG1 b\\n                        :ARG3 (m3 / more)))))\\n        :ARG1 (l / language\\n            :ARG0-of (i / inhibit-01)\\n            :ARG0-of (c2 / contain-01\\n                :ARG1 (w / word\\n                    :ARG0-of (p2 / pertain-01\\n                        :ARG1 (o2 / or\\n                            :op1 (b2 / block-01)\\n                            :op2 (a2 / allow-01))))))\\n        :ARG1-of (h2 / have-quant-91\\n            :ARG3 (m2 / more))))', '# ::snt Furthermore, male characters use inhibitory language more (inhib), which contains words pertaining to blocking or allowing, suggesting that these characters are more often in positions where they are blocked or allowed to do things by others.\\n# ::tok Furthermore , male characters use inhibitory language more ( inhib ) , which contains words pertaining to blocking or allowing , suggesting that these characters are more often in positions where they are blocked or allowed to do things by others .\\n(a3 / and\\n    :op2 (u / use-01\\n        :ARG0 (c / character\\n            :mod (m / male))\\n        :ARG0-of (s / suggest-01\\n            :ARG1 (b / be-located-at-91\\n                :ARG1 c\\n                :ARG2 (p2 / position-01\\n                    :ARG1 c\\n                    :ARG2 (o3 / or\\n                        :op1 (b3 / block-01\\n                            :ARG0 (o4 / other)\\n                            :ARG1 c)\\n                        :op2 (a2 / allow-01\\n                            :ARG1 (d / do-02\\n                                :ARG0 c\\n                                :ARG0 o4\\n                                :ARG1 (t / thing)))))\\n                :frequency (o / often\\n                    :ARG2-of (h / have-degree-91\\n                        :ARG1 b\\n                        :ARG3 (m3 / more)))))\\n        :ARG1 (l / language\\n            :ARG0-of (i / inhibit-01)\\n            :ARG0-of (c2 / contain-01\\n                :ARG1 (w / word\\n                    :ARG0-of (p / pertain-01\\n                        :ARG1 (o2 / or\\n                            :op1 (b2 / block-01)\\n                            :op2 (a / allow-01))))))\\n        :ARG1-of (h2 / have-quant-91\\n            :ARG3 (m2 / more))))', '# ::snt Furthermore, male characters use inhibitory language more (inhib), which contains words pertaining to blocking or allowing, suggesting that these characters are in positions of low power.\\n# ::tok Furthermore , male characters use inhibitory language more ( inhib ) , which contains words pertaining to blocking or allowing , suggesting that these characters are in positions of low power .\\n(a2 / and\\n    :op2 (u / use-01\\n        :ARG0 (c / character\\n            :mod (m / male))\\n        :ARG0-of (s / suggest-01\\n            :ARG1 (p2 / position-01\\n                :ARG1 c\\n                :ARG2 (p3 / power\\n                    :ARG1-of (l2 / low-04))))\\n        :ARG1 (l / language\\n            :ARG0-of (i / inhibit-01)\\n            :ARG0-of (c2 / contain-01\\n                :ARG1 (w / word\\n                    :ARG0-of (p / pertain-01\\n                        :ARG1 (o / or\\n                            :op1 (b / block-01)\\n                            :op2 (a / allow-01))))))\\n        :ARG1-of (h / have-quant-91\\n            :ARG3 (m2 / more))))', '# ::snt Looking at pictures online of people trying to take photos of mirrors they want to sell is my new thing...\\n# ::tok Looking at pictures online of people trying to take photos of mirrors they want to sell is my new thing ...\\n(t2 / thing\\n    :ARG1-of (n / new-01)\\n    :domain (l / look-01\\n        :ARG0 (i / i)\\n        :ARG1 (p3 / picture\\n            :medium (o / online)\\n            :topic (p / person\\n                :ARG0-of (t3 / try-01\\n                    :ARG1 (t / take-01\\n                        :ARG0 p\\n                        :ARG1 (p2 / photograph-01\\n                            :ARG0 p\\n                            :ARG1 (m / mirror\\n                                :ARG1-of (s / sell-01\\n                                    :ARG0 p\\n                                    :ARG1-of (w / want-01\\n                                        :ARG0 p)))))))))\\n    :poss i)', '# ::snt Looking at pictures online of people trying to take photos of mirrors is my new thing...\\n# ::tok Looking at pictures online of people trying to take photos of mirrors is my new thing ...\\n(t / thing\\n    :ARG1-of (n / new-01)\\n    :domain (l / look-01\\n        :ARG0 (i / i)\\n        :ARG1 (p3 / picture\\n            :medium (o / online)\\n            :topic (p / person\\n                :ARG0-of (t2 / try-01\\n                    :ARG1 (p2 / photograph-01\\n                        :ARG0 p\\n                        :ARG1 (m / mirror))))))\\n    :poss i)', '# ::snt A serene wind rolled across the glade.\\n# ::tok A serene wind rolled across the glade .\\n(r / roll-01\\n    :ARG1 (w / wind\\n        :mod (s / serene))\\n    :ARG2 (a / across\\n        :op1 (g / glade)))', '# ::snt A tempestuous wind rolled across the glade.\\n# ::tok A tempestuous wind rolled across the glade .\\n(r / roll-01\\n    :ARG1 (w / wind\\n        :mod (t / tempestuous))\\n    :ARG2 (a / across\\n        :op1 (g / glade)))', '# ::snt An easterly wind rolled across the glade.\\n# ::tok An easterly wind rolled across the glade .\\n(r / roll-01\\n    :ARG1 (w / wind\\n        :direction (e / east))\\n    :ARG2 (a / across\\n        :op1 (g / glade)))', '# ::snt A calm wind rolled across the glade.\\n# ::tok A calm wind rolled across the glade .\\n(r / roll-01\\n    :ARG1 (w / wind\\n        :ARG1-of (c / calm-03))\\n    :ARG2 (a / across\\n        :op1 (g / glade)))', '# ::snt A wind rolled across the glade.\\n# ::tok A wind rolled across the glade .\\n(r / roll-01\\n    :ARG1 (w / wind)\\n    :ARG2 (a / across\\n        :op1 (g / glade)))', '# ::snt The reaction was strongly exothermic.\\n# ::tok The reaction was strongly exothermic .\\n(e / exothermic\\n    :ARG1-of (s / strong-02)\\n    :domain (r / react-01))', '# ::snt The reaction media got very hot.\\n# ::tok The reaction media got very hot .\\n(g / get-03\\n    :ARG1 (m / media\\n        :ARG0-of (r / react-01))\\n    :ARG2 (h / hot-05\\n        :ARG1 m\\n        :degree (v / very)))', '# ::snt The reaction media got very cold.\\n# ::tok The reaction media got very cold .\\n(g / get-03\\n    :ARG1 (m / media\\n        :ARG0-of (r / react-01))\\n    :ARG2 (c / cold-02\\n        :ARG1 m\\n        :degree (v / very)))', '# ::snt The reaction was strongly endothermic.\\n# ::tok The reaction was strongly endothermic .\\n(e / endothermic\\n    :ARG1-of (s / strong-02)\\n    :domain (r / react-01))', \"# ::snt She didn't think I had already finished it, but I had.\\n# ::tok She did n't think I had already finished it , but I had .\\n(c / contrast-01\\n    :ARG1 (t / think-01\\n        :polarity -\\n        :ARG0 (s / she)\\n        :ARG1 (f / finish-01\\n            :ARG0 (i / i)\\n            :ARG1 (i2 / it)\\n            :time (a / already)))\\n    :ARG2 (f2 / finish-01\\n        :ARG0 i\\n        :ARG1 i2))\", '# ::snt I had already finished it.\\n# ::tok I had already finished it .\\n(f / finish-01\\n    :ARG0 (i / i)\\n    :ARG1 (i2 / it)\\n    :time (a / already))', \"# ::snt I hadn't already finished it.\\n# ::tok I had n't already finished it .\\n(f / finish-01\\n    :polarity -\\n    :ARG0 (i / i)\\n    :ARG1 (i2 / it)\\n    :time (a / already))\", \"# ::snt She thought I had already finished it, but I hadn't.\\n# ::tok She thought I had already finished it , but I had n't .\\n(c / contrast-01\\n    :ARG1 (t / think-01\\n        :ARG0 (s / she)\\n        :ARG1 (f / finish-01\\n            :ARG0 (i / i)\\n            :ARG1 (i2 / it)\\n            :time (a / already)))\\n    :ARG2 (f2 / finish-01\\n        :polarity -\\n        :ARG0 i\\n        :ARG1 i2))\", '# ::snt Temple said that the business was facing difficulties, but didn\\'t make any specific claims.\\n# ::tok Temple said that the business was facing difficulties , but did n\\'t make any specific claims .\\n(c2 / contrast-01\\n    :ARG1 (s / say-01\\n             :ARG0 (p / person\\n                      :wiki -\\n                      :name (n / name\\n                               :op1 \"Temple\"))\\n             :ARG1 (f / face-01\\n                      :ARG0 (b / business)\\n                      :ARG1 (d / difficult)))\\n    :ARG2 (c / claim-01\\n             :polarity -\\n             :ARG0 p\\n             :ARG1-of (s2 / specific-02)))', '# ::snt Temple didn\\'t make any specific claims.\\n# ::tok Temple did n\\'t make any specific claims .\\n(c / claim-01\\n   :polarity -\\n   :ARG0 (p / person\\n            :wiki -\\n            :name (n / name\\n                     :op1 \"Temple\"))\\n   :ARG1-of (s / specific-02))', \"# ::snt The business didn't make any specific claims.\\n# ::tok The business did n't make any specific claims .\\n(c / claim-01\\n    :polarity -\\n    :ARG0 (b / business)\\n    :ARG1-of (s / specific-02))\", '# ::snt Temple said that the business was facing difficulties, but didn\\'t have a chance of going into the red.\\n# ::tok Temple said that the business was facing difficulties , but did n\\'t have a chance of going into the red .\\n(s / say-01\\n   :ARG0 (p / person\\n            :wiki -\\n            :name (n / name\\n                     :op1 \"Temple\"))\\n   :ARG1 (c2 / contrast-01\\n             :ARG1 (f / face-01\\n                      :ARG0 (b / business)\\n                      :ARG1 (d / difficult))\\n             :ARG2 (c / chance-02\\n                      :polarity -\\n                      :ARG0 b\\n                      :ARG1 (g / go-01\\n                               :ARG1 b\\n                               :ARG4 (r / red-02\\n                                        :ARG1 b)))))', '# ::snt Temple didn\\'t have a chance of going into the red.\\n# ::tok Temple did n\\'t have a chance of going into the red .\\n(c / chance-02\\n   :polarity -\\n   :ARG0 (u / university\\n            :wiki \"Temple_University\"\\n            :name (n / name\\n                     :op1 \"Temple\"))\\n   :ARG1 (g / go-01\\n            :ARG1 u\\n            :ARG4 (r / red-02\\n                     :ARG1 u)))', '# ::snt Temple said the business didn\\'t have a chance of going into the red.\\n# ::tok Temple said the business did n\\'t have a chance of going into the red .\\n(s / say-01\\n   :ARG0 (p / person\\n            :wiki -\\n            :name (n / name\\n                     :op1 \"Temple\"))\\n   :ARG1 (c / chance-02\\n            :polarity -\\n            :ARG0 (b / business)\\n            :ARG1 (g / go-01\\n                     :ARG1 b\\n                     :ARG4 (r / red-02\\n                              :ARG1 b))))', '# ::snt The profits of the businesses that focused on branding were still negative.\\n# ::tok The profits of the businesses that focused on branding were still negative .\\n(n / negative-02\\n    :ARG0 (p / profit-01\\n        :ARG0 (b2 / business\\n            :ARG0-of (f / focus-01\\n                :ARG1 (b / brand-01))))\\n    :mod (s / still))', '# ::snt The businesses that focused on branding still had negative profits.\\n# ::tok The businesses that focused on branding still had negative profits .\\n(p / profit-01\\n    :ARG0 (b2 / business\\n        :ARG0-of (f / focus-01\\n            :ARG2 (b / brand-01)))\\n    :ARG2 (n / negative-05)\\n    :mod (s / still))', '# ::snt The profits of the business that was most successful were still negative.\\n# ::tok The profits of the business that was most successful were still negative .\\n(n / negative-02\\n    :ARG1 (p / profit-01\\n        :ARG0 (b / business\\n            :ARG1-of (h / have-degree-91\\n                :ARG2 (s2 / succeed-01\\n                    :ARG0 b)\\n                :ARG3 (m / most))))\\n    :mod (s / still))', '# ::snt The profits that focused on branding were still negative.\\n# ::tok The profits that focused on branding were still negative .\\n(n / negative-02\\n    :ARG0 (p / profit-01\\n        :ARG0-of (f / focus-01\\n            :ARG2 (b / brand-01)))\\n    :mod (s / still))', '# ::snt The profits of the businesses that were highest this quarter were still negative.\\n# ::tok The profits of the businesses that were highest this quarter were still negative .\\n(n / negative-02\\n    :ARG1 (p / profit-01\\n        :ARG1-of (h2 / high-02\\n            :ARG2-of (h / have-degree-91\\n                :ARG0 (b / business)\\n                :ARG3 (m / most)\\n                :time (q / quarter\\n                    :mod (t / this)))))\\n    :mod (s / still))', '# ::snt The businesses that were highest this quarter still had negative profits.\\n# ::tok The businesses that were highest this quarter still had negative profits .\\n(p / profit-01\\n    :ARG0 (b / business\\n        :ARG1-of (h / have-degree-91\\n            :ARG2 (h2 / high-02\\n                :ARG1 b)\\n            :ARG3 (m / most)\\n            :time (q / quarter\\n                :mod (t / this))))\\n    :ARG2 (n / negative-05)\\n    :mod (s / still))', '# ::snt For the businesses, the profits that were highest were still negative.\\n# ::tok For the businesses , the profits that were highest were still negative .\\n(n / negative-02\\n    :ARG1 (p / profit-01\\n        :ARG0 (b / business)\\n        :ARG1-of (h / have-degree-91\\n            :ARG2 (h2 / high-02\\n                :ARG1 p)\\n            :ARG3 (m / most)))\\n    :mod (s / still))', '# ::snt I baked him a cake.\\n# ::tok I baked him a cake .\\n(b / bake-01\\n    :ARG0 (i / i)\\n    :ARG1 (c / cake)\\n    :ARG2 (h / he))', '# ::snt I baked him.\\n# ::tok I baked him .\\n(b / bake-01\\n    :ARG0 (i / i)\\n    :ARG1 (h / he))', '# ::snt I baked a cake for him.\\n# ::tok I baked a cake for him .\\n(b / bake-01\\n    :ARG0 (i / i)\\n    :ARG1 (c / cake)\\n    :ARG3 (h / he))', '# ::snt I gave him a note.\\n# ::tok I gave him a note .\\n(g / give-01\\n    :ARG0 (i / i)\\n    :ARG1 (n / note)\\n    :ARG2 (h / he))', '# ::snt I gave a note to him.\\n# ::tok I gave a note to him .\\n(g / give-01\\n    :ARG0 (i / i)\\n    :ARG1 (n / note)\\n    :ARG2 (h / he))', '# ::snt Jake broke the vase.\\n# ::tok Jake broke the vase .\\n(b / break-01\\n   :ARG0 (p / person\\n            :wiki -\\n            :name (n / name\\n                     :op1 \"Jake\"))\\n   :ARG1 (v / vase))', '# ::snt The vase broke.\\n# ::tok The vase broke .\\n(b / break-01\\n    :ARG1 (v / vase))', '# ::snt Jake broke.\\n# ::tok Jake broke .\\n(b / break-13\\n   :ARG1 (p / person\\n            :wiki -\\n            :name (n / name\\n                     :op1 \"Jake\")))', '# ::snt He is someone of many talents.\\n# ::tok He is someone of many talents .\\n(s / someone\\n    :domain (h / he)\\n    :mod (t / talent\\n        :quant (m / many)))', '# ::snt He has many talents.\\n# ::tok He has many talents .\\n(h / have-03\\n    :ARG0 (h2 / he)\\n    :ARG1 (t / talent\\n        :quant (m / many)))', '# ::snt His talents are many.\\n# ::tok His talents are many .\\n(t / talent\\n    :quant (m / many)\\n    :poss (h / he))', \"# ::snt I don't want to have to keep fighting pesky bedbugs.\\n# ::tok I do n't want to have to keep fighting pesky bedbugs .\\n(w / want-01\\n    :polarity -\\n    :ARG0 (i / i)\\n    :ARG1 (o / obligate-01\\n        :ARG1 i\\n        :ARG2 (k / keep-02\\n            :ARG0 i\\n            :ARG1 (f / fight-01\\n                :ARG0 i\\n                :ARG1 (b / bugbagger\\n                    :mod (p / pesky))))))\", \"# ::snt I don't want to have to keep fighting bedbugs—they are so pesky.\\n# ::tok I do n't want to have to keep fighting bedbugs—they are so pesky .\\n(w / want-01\\n    :polarity -\\n    :ARG0 (i / i)\\n    :ARG1 (o / obligate-01\\n        :ARG1 i\\n        :ARG2 (k / keep-02\\n            :ARG0 i\\n            :ARG1 (f / fight-01\\n                :ARG0 i\\n                :ARG1 (b / bug\\n                    :mod (p / pesky\\n                        :degree (s / so)))))))\", \"# ::snt I don't want to have to keep entertaining people who don't value my time.\\n# ::tok I do n't want to have to keep entertaining people who do n't value my time .\\n(w / want-01\\n    :polarity -\\n    :ARG0 (i / i)\\n    :ARG1 (o / obligate-01\\n        :ARG1 i\\n        :ARG2 (k / keep-02\\n            :ARG0 i\\n            :ARG1 (e / entertain-01\\n                :ARG0 i\\n                :ARG1 (p / person\\n                    :ARG0-of (v / value-02\\n                        :polarity -\\n                        :ARG1 (t / time\\n                            :poss i)))))))\", \"# ::snt I don't want to have to keep entertaining people.\\n# ::tok I do n't want to have to keep entertaining people .\\n(w / want-01\\n    :polarity -\\n    :ARG0 (i / i)\\n    :ARG1 (o / obligate-01\\n        :ARG1 i\\n        :ARG2 (k / keep-02\\n            :ARG0 i\\n            :ARG1 (e / entertain-01\\n                :ARG0 i\\n                :ARG1 (p / person)))))\", \"# ::snt It's not the case that there is no rabbi at this wedding; he is right there standing behind that tree.\\n# ::tok It 's not the case that there is no rabbi at this wedding ; he is right there standing behind that tree .\\n(c2 / contrast-01\\n    :ARG1 (c / case-04\\n        :polarity -\\n        :ARG1 (r / rabbi\\n            :polarity -\\n            :location (w / wed-01\\n                :mod (t3 / this))))\\n    :ARG2 (s / stand-01\\n        :ARG1 r\\n        :ARG2 (b / behind\\n            :op1 (t4 / tree\\n                :mod (t / that)))\\n        :location (t2 / there\\n            :mod (r2 / right))))\", '# ::snt There is a rabbi at this wedding; he is right there standing behind that tree.\\n# ::tok There is a rabbi at this wedding ; he is right there standing behind that tree .\\n(m / multi-sentence\\n    :snt1 (r / rabbi\\n        :location (w / wed-01\\n            :mod (t3 / this)))\\n    :snt2 (s / stand-01\\n        :ARG1 (h / he)\\n        :ARG2 (b / behind\\n            :op1 (t4 / tree\\n                :mod (t / that)))\\n        :location (t2 / there\\n            :mod (r2 / right))))', '# ::snt There is no rabbi at this wedding, let alone behind that tree.\\n# ::tok There is no rabbi at this wedding , let alone behind that tree .\\n(a / and\\n    :op1 (r / rabbi\\n        :polarity -\\n        :location (w / wed-01\\n            :mod (t2 / this)))\\n    :op2 (b / behind\\n        :mod (l / let-alone)\\n        :op1 (t3 / tree\\n            :mod (t / that))))', '# ::snt A rabbi is at this wedding, standing right there standing behind that tree.\\n# ::tok A rabbi is at this wedding , standing right there standing behind that tree .\\n(b / be-located-at-91\\n    :ARG1 (p / person\\n        :ARG0-of (h / have-org-role-91\\n            :ARG2 (r / rabbi))\\n        :ARG1-of (s / stand-01\\n            :ARG2 (b2 / behind\\n                :mod (t2 / there\\n                    :mod (r2 / right))\\n                :op1 (t4 / tree\\n                    :mod (t / that))))\\n        :ARG1-of (s2 / stand-01\\n            :ARG2 t2))\\n    :ARG2 (w / wed-01\\n        :mod (t3 / this)))', '# ::snt The first pleasurable experience I had interacting with another human being was at the age of seventeen.\\n# ::tok The first pleasurable experience I had interacting with another human being was at the age of seventeen .\\n(e / experience-01\\n    :ARG0 (i / i)\\n    :ARG1 (i2 / interact-01\\n        :ARG0 i\\n        :ARG1 (b / being\\n            :mod (h / human)\\n            :mod (a2 / another)))\\n    :mod (p / pleasure)\\n    :ord (o / ordinal-entity\\n        :value 1)\\n    :time (a / age-01\\n        :ARG1 i\\n        :ARG2 (t / temporal-quantity\\n            :quant 17\\n            :unit (y / year))))', '# ::snt The first experience I had interacting with another human being was at the age of seventeen.\\n# ::tok The first experience I had interacting with another human being was at the age of seventeen .\\n(e / experience-01\\n    :ARG0 (i / i)\\n    :ARG1 (i2 / interact-01\\n        :ARG0 i\\n        :ARG1 (b / being\\n            :mod (h / human)\\n            :mod (a2 / another)))\\n    :ord (o / ordinal-entity\\n        :value 1)\\n    :time (a / age-01\\n        :ARG1 i\\n        :ARG2 (t / temporal-quantity\\n            :quant 17\\n            :unit (y / year))))', '# ::snt The first displeasurable experience I had interacting with another human being was at the age of seventeen.\\n# ::tok The first displeasurable experience I had interacting with another human being was at the age of seventeen .\\n(e / experience-01\\n    :ARG0 (i / i)\\n    :ARG0-of (p / please-01\\n        :polarity -)\\n    :ARG1 (i2 / interact-01\\n        :ARG0 i\\n        :ARG1 (b / being\\n            :mod (h / human)\\n            :mod (a2 / another)))\\n    :ord (o / ordinal-entity\\n        :value 1)\\n    :time (a / age-01\\n        :ARG1 i\\n        :ARG2 (t / temporal-quantity\\n            :quant 17\\n            :unit (y / year))))', '# ::snt It being his first night in the US, he eagerly got a drink at the bar after showing his ID.\\n# ::tok It being his first night in the US , he eagerly got a drink at the bar after showing his ID .\\n(g / get-01\\n   :ARG0 (h / he)\\n   :ARG1 (d3 / drink-01\\n             :ARG0 h)\\n   :location (b / bar)\\n   :manner (e / eager-01\\n              :ARG0 h)\\n   :time (d / date-entity\\n            :dayperiod (n2 / night)\\n            :ord (o / ordinal-entity\\n                    :value 1)\\n            :time-of (b2 / be-located-at-91\\n                         :ARG1 h\\n                         :ARG2 (c / country\\n                                  :wiki \"United_States\"\\n                                  :name (n / name\\n                                           :op1 \"US\"))))\\n   :time (a / after\\n            :op1 (s / show-01\\n                    :ARG0 h\\n                    :ARG1 (d2 / document-01\\n                              :ARG1 (i / identity\\n                                       :poss h)))))', '# ::snt He is over 20 years of age.\\n# ::tok He is over 20 years of age .\\n(a / age-01\\n    :ARG1 (h / he)\\n    :ARG2 (o / over\\n        :op1 (t / temporal-quantity\\n            :quant 20\\n            :unit (y / year))))', '# ::snt He is under 21 years of age.\\n# ::tok He is under 21 years of age .\\n(a / age-01\\n    :ARG1 (h / he)\\n    :ARG2 (u / under\\n        :op1 (t / temporal-quantity\\n            :quant 21\\n            :unit (y / year))))', '# ::snt He has a beard.\\n# ::tok He has a beard .\\n(h / have-03\\n    :ARG0 (h2 / he)\\n    :ARG1 (b / beard))', '# ::snt I can make scrambled eggs, but not complex dishes like consommé.\\n# ::tok I can make scrambled eggs , but not complex dishes like consommé .\\n(c3 / contrast-01\\n    :ARG1 (p / possible-01\\n        :ARG1 (m / make-01\\n            :ARG0 (i / i)\\n            :ARG1 (e / egg\\n                :ARG1-of (s / scramble-01))))\\n    :ARG2 (p2 / possible-01\\n        :polarity -\\n        :ARG1 (d / dish\\n            :example (c2 / consommé)\\n            :mod (c / complex))))', '# ::snt Consommé is more complex to make than scrambled eggs.\\n# ::tok Consommé is more complex to make than scrambled eggs .\\n(h / have-degree-91\\n    :purpose (m / make-01\\n        :ARG1 (c2 / consume-01))\\n    :ARG1 c2\\n    :ARG2 (c / complex)\\n    :ARG3 (m2 / more)\\n    :ARG4 (e / egg\\n        :ARG1-of (s / scramble-01)))', '# ::snt Consommé is not more complex to make than scrambled eggs.\\n# ::tok Consommé is not more complex to make than scrambled eggs .\\n(h / have-degree-91\\n    :polarity -\\n    :purpose (m / make-01\\n        :ARG1 (c2 / consume-01))\\n    :ARG1 c2\\n    :ARG2 (c / complex)\\n    :ARG3 (m2 / more)\\n    :ARG4 (e / egg\\n        :ARG1-of (s / scramble-01)))', '# ::snt She walked into the house with a shining smile and immediately took off her jacket, still dripping with water as she placed it on the rack.\\n# ::tok She walked into the house with a shining smile and immediately took off her jacket , still dripping with water as she placed it on the rack .\\n(a / and\\n    :op1 (w / walk-01\\n        :ARG0 (s / she)\\n        :destination (h / house)\\n        :manner (s3 / smile-01\\n            :ARG0 s\\n            :ARG0-of (s2 / shine-01)))\\n    :op2 (t / take-off-07\\n        :ARG0 s\\n        :ARG1 (j / jacket\\n            :ARG1-of (d / drip-01\\n                :ARG2 (w2 / water)\\n                :mod (s4 / still)\\n                :time (p / place-01\\n                    :ARG0 s\\n                    :ARG1 j\\n                    :ARG2 (r / rack)))\\n            :poss s)\\n        :time (i / immediate)))', '# ::snt It was raining outside.\\n# ::tok It was raining outside .\\n(r / rain-01\\n    :location (o / outside))', '# ::snt It was sunny outside.\\n# ::tok It was sunny outside .\\n(s / sunny\\n    :location (o / outside))', '# ::snt He earnestly proclaimed: \"This is all I ever really wanted.\"\\n# ::tok He earnestly proclaimed : \" This is all I ever really wanted . \"\\n(p / proclaim-01\\n    :ARG0 (h / he)\\n    :ARG1 (w / want-01\\n        :ARG0 h\\n        :ARG1 (t / this)\\n        :ARG1-of (r / real-04)\\n        :mod (a / all)\\n        :time (e2 / ever))\\n    :manner (e / earnest-01))', '# ::snt He was satisfied.\\n# ::tok He was satisfied .\\n(s / satisfy-01\\n    :ARG1 (h / he))', '# ::snt He was dissatisfied.\\n# ::tok He was dissatisfied .\\n(d / dissatisfy-01\\n    :ARG1 (h / he))', '# ::snt He deceitfully proclaimed: \"This is all I ever really wanted.\"\\n# ::tok He deceitfully proclaimed : \" This is all I ever really wanted . \"\\n(p / proclaim-01\\n    :ARG0 (h / he)\\n    :ARG1 (w / want-01\\n        :ARG0 h\\n        :ARG1 (t / this)\\n        :ARG1-of (r / real-04)\\n        :mod (a / all)\\n        :time (e / ever))\\n    :manner (d / deceive-01))', '# ::snt The leading car gradually shifted to the left lane.\\n# ::tok The leading car gradually shifted to the left lane .\\n(s / shift-01\\n    :ARG1 (c / car\\n        :ARG0-of (l2 / lead-01))\\n    :ARG2 (l / lane\\n        :ARG1-of (l3 / left-20))\\n    :manner (g / gradual))', '# ::snt The leading car shifted to the left lane.\\n# ::tok The leading car shifted to the left lane .\\n(s / shift-01\\n    :ARG1 (c / car\\n        :ARG0-of (l2 / lead-01))\\n    :ARG2 (l / lane\\n        :ARG1-of (l3 / left-20)))', '# ::snt The leading car suddenly shifted to the left lane.\\n# ::tok The leading car suddenly shifted to the left lane .\\n(s / shift-01\\n    :ARG1 (c / car\\n        :ARG0-of (l2 / lead-01))\\n    :ARG2 (l / lane\\n        :ARG1-of (l3 / left-20))\\n    :manner (s2 / sudden))', '# ::snt The leading car slowly shifted to the left lane.\\n# ::tok The leading car slowly shifted to the left lane .\\n(s / shift-01\\n    :ARG1 (c / car\\n        :ARG0-of (l2 / lead-01))\\n    :ARG1-of (s2 / slow-05)\\n    :ARG2 (l / lane\\n        :ARG1-of (l3 / left-20)))', '# ::snt The leading car shifted to the third gear.\\n# ::tok The leading car shifted to the third gear .\\n(s / shift-01\\n    :ARG0 (c / car\\n        :ARG0-of (l / lead-01))\\n    :ARG2 (g / gear\\n        :ord (o / ordinal-entity\\n            :value 3)))', '# ::snt We were dragging the bin into the garage when she had an unfortunate realization.\\n# ::tok We were dragging the bin into the garage when she had an unfortunate realization .\\n(d / drag-01\\n    :ARG0 (w / we)\\n    :ARG1 (b / bin)\\n    :destination (g / garage)\\n    :time (r / realize-01\\n        :ARG0 (s / she)\\n        :ARG2-of (f / fortunate-01\\n            :polarity -)))', '# ::snt We were dragging the bin out of the garage when she had an unfortunate realization.\\n# ::tok We were dragging the bin out of the garage when she had an unfortunate realization .\\n(d / drag-01\\n    :ARG0 (w / we)\\n    :ARG1 (b / bin)\\n    :ARG2 (o / out-06\\n        :ARG1 b\\n        :ARG2 (g / garage))\\n    :time (r / realize-01\\n        :ARG0 (s / she)\\n        :ARG2-of (f / fortunate-01\\n            :polarity -)))', '# ::snt The building, standing since the early 20s, was tall and unassuming.\\n# ::tok The building , standing since the early 20s , was tall and unassuming .\\n(a / and\\n    :op1 (t / tall\\n        :domain (b / building\\n            :ARG1-of (s2 / stand-01\\n                :time (s / since\\n                    :op1 (e / early\\n                        :op1 (d / date-entity\\n                            :decade 20))))))\\n    :op2 (a2 / assume-02\\n        :polarity -\\n        :ARG0 b))', '# ::snt The building, standing since the early 20s, was sturdy and unassuming.\\n# ::tok The building , standing since the early 20s , was sturdy and unassuming .\\n(a / and\\n    :op1 (s3 / sturdy\\n        :domain (b / building\\n            :ARG1-of (s2 / stand-01\\n                :time (s / since\\n                    :op1 (e / early\\n                        :op1 (d / date-entity\\n                            :decade 20))))))\\n    :op2 (a2 / assume-02\\n        :polarity -\\n        :ARG0 b))', '# ::snt The timing of the meeting has not been set, according to a Starbucks spokesperson.\\n# ::tok The timing of the meeting has not been set , according to a Starbucks spokesperson .\\n(s / say-01\\n   :ARG0 (p / person\\n            :ARG0-of (h / have-org-role-91\\n                        :ARG1 (c / company\\n                                 :wiki \"Starbucks\"\\n                                 :name (n / name\\n                                          :op1 \"Starbucks\"))\\n                        :ARG2 (s3 / spokesperson)))\\n   :ARG1 (s2 / set-02\\n             :polarity -\\n             :ARG1 (t / time-02\\n                      :ARG1 (m / meet-03))))', '# ::snt The timing of the meeting has not been considered, according to a Starbucks spokesperson.\\n# ::tok The timing of the meeting has not been considered , according to a Starbucks spokesperson .\\n(s / say-01\\n   :ARG0 (p / person\\n            :ARG0-of (h / have-org-role-91\\n                        :ARG1 (c / company\\n                                 :wiki \"Starbucks\"\\n                                 :name (n / name\\n                                          :op1 \"Starbucks\"))\\n                        :ARG2 (s2 / spokesperson)))\\n   :ARG1 (c2 / consider-02\\n             :polarity -\\n             :ARG1 (t / time-02\\n                      :ARG1 (m / meet-03))))', '# ::snt The customers said they were waiting for another man to arrive.\\n# ::tok The customers said they were waiting for another man to arrive .\\n(s / say-01\\n    :ARG0 (c / customer)\\n    :ARG1 (w / wait-01\\n        :ARG1 c\\n        :ARG2 (a2 / arrive-01\\n            :ARG1 (m / man\\n                :mod (a / another)))))', '# ::snt The customers believed they were waiting for another man to arrive.\\n# ::tok The customers believed they were waiting for another man to arrive .\\n(b / believe-01\\n    :ARG0 (c / customer)\\n    :ARG1 (w / wait-01\\n        :ARG1 c\\n        :ARG2 (a2 / arrive-01\\n            :ARG1 (m / man\\n                :mod (a / another)))))', \"# ::snt Some of the orator's statements were incomprehensible, but the crowd loved them.\\n# ::tok Some of the orator 's statements were incomprehensible , but the crowd loved them .\\n(c2 / contrast-01\\n    :ARG1 (p / possible-01\\n        :polarity -\\n        :ARG1 (c / comprehend-01\\n            :ARG1 (t / thing\\n                :quant (s / some)\\n                :ARG1-of (s2 / state-01\\n                    :ARG0 (o / orator)))))\\n    :ARG2 (l / love-01\\n        :ARG0 (c3 / crowd)\\n        :ARG1 t))\", \"# ::snt Some of the orator's statements were comprehensible, but the crowd loved them.\\n# ::tok Some of the orator 's statements were comprehensible , but the crowd loved them .\\n(c2 / contrast-01\\n    :ARG1 (c / comprehend-01\\n        :ARG1 (t / thing\\n            :quant (s / some)\\n            :ARG1-of (s2 / state-01\\n                :ARG0 (o / orator))))\\n    :ARG2 (l / love-01\\n        :ARG0 (c3 / crowd)\\n        :ARG1 t))\", \"# ::snt I won't say that she didn't steal my money.\\n# ::tok I wo n't say that she did n't steal my money .\\n(s / say-01\\n    :polarity -\\n    :ARG0 (i / i)\\n    :ARG1 (s3 / steal-01\\n        :polarity -\\n        :ARG0 (s2 / she)\\n        :ARG1 (m / money\\n            :poss i)))\", \"# ::snt I won't say that she stole my money.\\n# ::tok I wo n't say that she stole my money .\\n(s / say-01\\n    :polarity -\\n    :ARG0 (i / i)\\n    :ARG1 (s3 / steal-01\\n        :ARG0 (s2 / she)\\n        :ARG1 (m / money\\n            :poss i)))\", '# ::snt I will say that she stole my money.\\n# ::tok I will say that she stole my money .\\n(s / say-01\\n    :ARG0 (i / i)\\n    :ARG1 (s3 / steal-01\\n        :ARG0 (s2 / she)\\n        :ARG1 (m / money\\n            :poss i)))', '# ::snt There are some amazing hikes around Mt. Fuji.\\n# ::tok There are some amazing hikes around Mt . Fuji .\\n(h / hike-01\\n   :quant (s / some)\\n   :ARG0-of (a / amaze-01)\\n   :ARG1 (a2 / around\\n             :op1 (m / mountain\\n                     :wiki \"Mount_Fuji\"\\n                     :name (n / name\\n                              :op1 \"Mt\"\\n                              :op2 \"Fuji\"))))', '# ::snt There are some amazing hikes in Japan.\\n# ::tok There are some amazing hikes in Japan .\\n(h / hike-01\\n   :quant (s / some)\\n   :ARG0-of (a / amaze-01)\\n   :location (c / country\\n                :wiki \"Japan\"\\n                :name (n / name\\n                         :op1 \"Japan\")))', '# ::snt There are some amazing hikes in Nepal.\\n# ::tok There are some amazing hikes in Nepal .\\n(h / hike-01\\n   :quant (s / some)\\n   :ARG0-of (a / amaze-01)\\n   :location (c / country\\n                :wiki \"Nepal\"\\n                :name (n / name\\n                         :op1 \"Nepal\")))', '# ::snt There are some strenuous hikes around Mt. Fuji.\\n# ::tok There are some strenuous hikes around Mt . Fuji .\\n(h / hike-01\\n   :quant (s / some)\\n   :ARG1 (a / around\\n            :op1 (m / mountain\\n                    :wiki \"Mount_Fuji\"\\n                    :name (n / name\\n                             :op1 \"Mt\"\\n                             :op2 \"Fuji\")))\\n   :mod (s2 / strenuous))', '# ::snt An experienced sommelier knows the difference between the 2009 and 2013 vintage of a German Riesling.\\n# ::tok An experienced sommelier knows the difference between the 2009 and 2013 vintage of a German Riesling .\\n(k / know-01\\n   :ARG0 (s / sommelier\\n            :ARG0-of (e / experience-01))\\n   :ARG1 (d3 / differ-02\\n             :ARG1 (v2 / vintage\\n                       :mod (w / wine\\n                               :wiki -\\n                               :name (n2 / name\\n                                         :op1 \"Riesling\")\\n                               :mod (c / country\\n                                       :wiki \"Germany\"\\n                                       :name (n / name\\n                                                :op1 \"Germany\")))\\n                       :time (d / date-entity\\n                                :year 2009))\\n             :ARG2 (v / vintage\\n                      :time (d2 / date-entity\\n                                :year 2013))))', '# ::snt A sommelier knows the difference between the 2009 and 2013 vintage of a German Riesling.\\n# ::tok A sommelier knows the difference between the 2009 and 2013 vintage of a German Riesling .\\n(k / know-01\\n   :ARG0 (p / person\\n            :ARG0-of (h / have-org-role-91\\n                        :ARG2 (s / sommelier)))\\n   :ARG1 (d3 / differ-02\\n             :ARG1 (v2 / vintage\\n                       :mod (p2 / product\\n                                :wiki \"1,1,6-Trimethyl-1,2-dihydronaphthalene\"\\n                                :name (n2 / name\\n                                          :op1 \"Riesling\")\\n                                :mod (c / country\\n                                        :wiki \"Germany\"\\n                                        :name (n / name\\n                                                 :op1 \"Germany\")))\\n                       :time (d / date-entity\\n                                :year 2009))\\n             :ARG2 (v / vintage\\n                      :mod p2\\n                      :time (d2 / date-entity\\n                                :year 2013))))', '# ::snt An Italian sommelier knows the difference between the 2009 and 2013 vintage of a German Riesling.\\n# ::tok An Italian sommelier knows the difference between the 2009 and 2013 vintage of a German Riesling .\\n(k / know-01\\n   :ARG0 (p / person\\n            :ARG0-of (h / have-org-role-91\\n                        :ARG2 (s / sommelier))\\n            :mod (c / country\\n                    :wiki \"Italy\"\\n                    :name (n / name\\n                             :op1 \"Italy\")))\\n   :ARG1 (d3 / differ-02\\n             :ARG1 (v2 / vintage\\n                       :mod (w / wine\\n                               :wiki -\\n                               :name (n3 / name\\n                                         :op1 \"Riesling\")\\n                               :mod (c2 / country\\n                                        :wiki \"Germany\"\\n                                        :name (n2 / name\\n                                                  :op1 \"Germany\")))\\n                       :time (d / date-entity\\n                                :year 2009))\\n             :ARG2 (v / vintage\\n                      :time (d2 / date-entity\\n                                :year 2013))))', '# ::snt A fraudulent sommelier won\\'t know the difference between the 2009 and 2013 vintage of a German Riesling.\\n# ::tok A fraudulent sommelier wo n\\'t know the difference between the 2009 and 2013 vintage of a German Riesling .\\n(k / know-01\\n   :polarity -\\n   :ARG0 (p / person\\n            :ARG0-of (h / have-org-role-91\\n                        :ARG2 (s / sommelier))\\n            :mod (f / fraudulent))\\n   :ARG1 (d3 / differ-02\\n             :ARG1 (v2 / vintage\\n                       :mod (p2 / product\\n                                :wiki \"1,1,6-Trimethyl-1,2-dihydronaphthalene\"\\n                                :name (n2 / name\\n                                          :op1 \"Riesling\")\\n                                :mod (c / country\\n                                        :wiki \"Germany\"\\n                                        :name (n / name\\n                                                 :op1 \"Germany\")))\\n                       :time (d / date-entity\\n                                :year 2009))\\n             :ARG2 (v / vintage\\n                      :mod p2\\n                      :time (d2 / date-entity\\n                                :year 2013))))', '# ::snt A sommelier won\\'t know the difference between the 2009 and 2013 vintage of a German Riesling.\\n# ::tok A sommelier wo n\\'t know the difference between the 2009 and 2013 vintage of a German Riesling .\\n(k / know-01\\n   :polarity -\\n   :ARG0 (p / person\\n            :ARG0-of (h / have-org-role-91\\n                        :ARG2 (s / sommelier)))\\n   :ARG1 (d3 / differ-02\\n             :ARG1 (v2 / vintage\\n                       :mod (p2 / product\\n                                :wiki \"1,1,6-Trimethyl-1,2-dihydronaphthalene\"\\n                                :name (n2 / name\\n                                          :op1 \"Riesling\")\\n                                :mod (c / country\\n                                        :wiki \"Germany\"\\n                                        :name (n / name\\n                                                 :op1 \"Germany\")))\\n                       :time (d / date-entity\\n                                :year 2009))\\n             :ARG2 (v / vintage\\n                      :mod p2\\n                      :time (d2 / date-entity\\n                                :year 2013))))', \"# ::snt Two of the three trees outside my window, with their branches dangling and swaying in the wind, have already bloomed, and it's not even April.\\n# ::tok Two of the three trees outside my window , with their branches dangling and swaying in the wind , have already bloomed , and it 's not even April .\\n(a2 / and\\n    :op1 (b / bloom-01\\n        :ARG1 (t2 / tree\\n            :quant 2\\n            :ARG1-of (i2 / include-91\\n                :ARG2 (t / tree\\n                    :quant 3\\n                    :location (o / outside\\n                        :op1 (w2 / window\\n                            :poss (i / i)))))\\n            :part (b2 / branch\\n                :ARG1-of (h / hang-01\\n                    :ARG0 (w / wind))\\n                :ARG1-of (s / sway-01\\n                    :ARG0 w)))\\n        :time (a / already))\\n    :op2 (d / date-entity\\n        :polarity -\\n        :mod (e / even)\\n        :month 4))\", \"# ::snt Of the three trees outside my window, with their branches dangling and swaying in the wind, two have already bloomed, and it's not even April.\\n# ::tok Of the three trees outside my window , with their branches dangling and swaying in the wind , two have already bloomed , and it 's not even April .\\n(a2 / and\\n    :op1 (b / bloom-01\\n        :ARG1 (t2 / tree\\n            :quant 2\\n            :ARG1-of (i2 / include-91\\n                :ARG2 (t / tree\\n                    :quant 3\\n                    :location (o / outside\\n                        :op1 (w2 / window\\n                            :poss (i / i)))\\n                    :part (b2 / branch\\n                        :ARG1-of (h / hang-01\\n                            :ARG0 (w / wind))\\n                        :ARG1-of (s / sway-01\\n                            :ARG0 w)))))\\n        :time (a / already))\\n    :op2 (d / date-entity\\n        :polarity -\\n        :mod (e / even)\\n        :month 4))\", \"# ::snt Two of the trees outside my window, with their branches dangling and swaying in the wind, have already bloomed, and it's not even April.\\n# ::tok Two of the trees outside my window , with their branches dangling and swaying in the wind , have already bloomed , and it 's not even April .\\n(a2 / and\\n    :op1 (b / bloom-01\\n        :ARG1 (t2 / tree\\n            :quant 2\\n            :ARG1-of (i2 / include-91\\n                :ARG2 (t / tree\\n                    :location (o / outside\\n                        :op1 (w2 / window\\n                            :poss (i / i)))))\\n            :part (b2 / branch\\n                :ARG1-of (h / hang-01\\n                    :ARG0 (w / wind))\\n                :ARG1-of (s / sway-01\\n                    :ARG0 w)))\\n        :time (a / already))\\n    :op2 (d / date-entity\\n        :polarity -\\n        :mod (e / even)\\n        :month 4))\", \"# ::snt Of the trees outside my window, with their branches dangling and swaying in the wind, three have already bloomed, and it's not even April.\\n# ::tok Of the trees outside my window , with their branches dangling and swaying in the wind , three have already bloomed , and it 's not even April .\\n(a2 / and\\n    :op1 (b / bloom-01\\n        :ARG1 (t2 / tree\\n            :quant 3\\n            :ARG1-of (i2 / include-91\\n                :ARG2 (t / tree\\n                    :location (o / outside\\n                        :op1 (w2 / window\\n                            :poss (i / i)))\\n                    :part (b2 / branch\\n                        :ARG1-of (h / hang-01\\n                            :ARG0 (w / wind))\\n                        :ARG1-of (s / sway-01\\n                            :ARG0 w)))))\\n        :time (a / already))\\n    :op2 (d / date-entity\\n        :polarity -\\n        :mod (e / even)\\n        :month 4))\", \"# ::snt So far two of my cherry trees have already bloomed, and it's not even April.\\n# ::tok So far two of my cherry trees have already bloomed , and it 's not even April .\\n(a2 / and\\n    :op1 (b2 / bloom-01\\n        :ARG1 (t / tree\\n            :quant 2\\n            :ARG1-of (i2 / include-91\\n                :ARG2 (t2 / tree\\n                    :mod (c / cherry)\\n                    :poss (i / i))))\\n        :time (a / already)\\n        :time (s / so-far))\\n    :op2 (b / be-temporally-at-91\\n        :polarity -\\n        :ARG2 (d / date-entity\\n            :mod (e / even)\\n            :month 4)))\", \"# ::snt So far two of my trees have already bloomed, and it's not even April.\\n# ::tok So far two of my trees have already bloomed , and it 's not even April .\\n(a2 / and\\n    :op1 (b2 / bloom-01\\n        :ARG1 (t / tree\\n            :quant 2\\n            :ARG1-of (i2 / include-91\\n                :ARG2 (t2 / tree\\n                    :poss (i / i))))\\n        :time (a / already)\\n        :time (s / so-far))\\n    :op2 (b / be-temporally-at-91\\n        :ARG2 (d / date-entity\\n            :polarity -\\n            :mod (e / even)\\n            :month 4)))\", '# ::snt The book astounds with Grossman\\'s rich, deep character development and portrayal of suffering, but his portrayal of women still suffers from a lot of the unfortunate stereotypes and moralizing that we would expect of a writer from his time.\\n# ::tok The book astounds with Grossman \\'s rich , deep character development and portrayal of suffering , but his portrayal of women still suffers from a lot of the unfortunate stereotypes and moralizing that we would expect of a writer from his time .\\n(c2 / contrast-01\\n    :ARG1 (a3 / astound-01\\n              :ARG0 (b / book)\\n              :ARG1 (a / and\\n                       :op1 (d2 / develop-02\\n                                :ARG0 (p / person\\n                                         :wiki -\\n                                         :name (n / name\\n                                                  :op1 \"Grossman\"))\\n                                :ARG1 (c / character)\\n                                :ARG1-of (d / deep-02)\\n                                :mod (r / rich))\\n                       :op2 (p3 / portray-01\\n                                :ARG0 p\\n                                :ARG1 (s3 / suffer-01))))\\n    :ARG2 (s4 / suffer-01\\n              :ARG0 (p4 / portray-01\\n                        :ARG0 p\\n                        :ARG1 (w2 / woman))\\n              :ARG1 (a2 / and\\n                        :quant (l / lot)\\n                        :ARG1-of (e / expect-01\\n                                    :ARG0 (w / we)\\n                                    :source (p2 / person\\n                                                :ARG0-of (w3 / write-01)\\n                                                :time (t / time\\n                                                         :poss p)))\\n                        :op1 (s / stereotype-01\\n                                :ARG2-of (f / fortunate-01\\n                                            :polarity -))\\n                        :op2 (m / moral-02\\n                                :ARG2-of f))\\n              :mod (s2 / still)))', '# ::snt The book astounds as Grossman richly, deeply develops characters and portrays suffering, but his portrayal of women still suffers from a lot of the unfortunate stereotypes and moralizing that we would expect of a writer from his time.\\n# ::tok The book astounds as Grossman richly , deeply develops characters and portrays suffering , but his portrayal of women still suffers from a lot of the unfortunate stereotypes and moralizing that we would expect of a writer from his time .\\n(c2 / contrast-01\\n    :ARG1 (a3 / astound-01\\n              :ARG0 (b / book)\\n              :time (a / and\\n                       :op1 (d2 / develop-02\\n                                :ARG0 (p / person\\n                                         :wiki -\\n                                         :name (n / name\\n                                                  :op1 \"Grossman\"))\\n                                :ARG1 (c / character)\\n                                :ARG1-of (d / deep-02)\\n                                :manner (r / rich))\\n                       :op2 (p3 / portray-01\\n                                :ARG0 p\\n                                :ARG1 (s3 / suffer-01))))\\n    :ARG2 (s4 / suffer-01\\n              :ARG0 (p4 / portray-01\\n                        :ARG0 p\\n                        :ARG1 (w2 / woman))\\n              :ARG1 (a2 / and\\n                        :quant (l / lot)\\n                        :ARG1-of (e / expect-01\\n                                    :ARG0 (w / we)\\n                                    :source (p2 / person\\n                                                :ARG0-of (w3 / write-01)\\n                                                :time (t / time\\n                                                         :poss p)))\\n                        :op1 (s / stereotype-01\\n                                :ARG2-of (f / fortunate-01\\n                                            :polarity -))\\n                        :op2 (m / moral-02\\n                                :ARG2-of f))\\n              :mod (s2 / still)))', '# ::snt The book astounds as Grossman richly, deeply develops characters and ignores suffering, but his portrayal of women still suffers from a lot of the unfortunate stereotypes and moralizing that we would expect of a writer from his time.\\n# ::tok The book astounds as Grossman richly , deeply develops characters and ignores suffering , but his portrayal of women still suffers from a lot of the unfortunate stereotypes and moralizing that we would expect of a writer from his time .\\n(c2 / contrast-01\\n    :ARG1 (a3 / astound-01\\n              :ARG0 (b / book)\\n              :time (a2 / and\\n                        :op1 (d2 / develop-02\\n                                 :ARG0 (p / person\\n                                          :wiki -\\n                                          :name (n / name\\n                                                   :op1 \"Grossman\"))\\n                                 :ARG1 (c / character)\\n                                 :ARG1-of (d / deep-02)\\n                                 :manner (r / rich))\\n                        :op2 d2\\n                        :op3 (i / ignore-01\\n                                :ARG0 p\\n                                :ARG1 (s3 / suffer-01))))\\n    :ARG2 (s4 / suffer-01\\n              :ARG0 (p3 / portray-01\\n                        :ARG0 p\\n                        :ARG1 (w2 / woman))\\n              :ARG1 (a / and\\n                       :quant (l / lot)\\n                       :ARG1-of (e / expect-01\\n                                   :ARG0 (w / we)\\n                                   :source (p2 / person\\n                                               :ARG0-of (w3 / write-01)\\n                                               :time (t / time\\n                                                        :poss p)))\\n                       :ARG2-of (f / fortunate-01\\n                                   :polarity -)\\n                       :op1 (s / stereotype-01)\\n                       :op2 (m / moral-02))\\n              :mod (s2 / still)))', '# ::snt I ate until it was uncomfortable to eat more.\\n# ::tok I ate until it was uncomfortable to eat more .\\n(e / eat-01\\n    :ARG0 (i / i)\\n    :time (u / until\\n        :op1 (c / comfortable-02\\n            :polarity -\\n            :ARG0 (e2 / eat-01\\n                :quant (m / more)\\n                :ARG0 i)\\n            :ARG1 i)))', '# ::snt I ate until I was full.\\n# ::tok I ate until I was full .\\n(e / eat-01\\n    :ARG0 (i / i)\\n    :time (u / until\\n        :op1 (f / full-09\\n            :ARG1 i)))', '# ::snt He\\'s the kind of Jew who eats bagels with lox every morning during Passover.\\n# ::tok He \\'s the kind of Jew who eats bagels with lox every morning during Passover .\\n(p / person\\n   :ARG0-of (e / eat-01\\n               :ARG1 (b / bagel\\n                        :accompanier (l / lox))\\n               :frequency (r / rate-entity-91\\n                             :ARG4 (d / date-entity\\n                                      :dayperiod (m / morning)))\\n               :time (f / festival\\n                        :wiki \"Passover\"\\n                        :name (n2 / name\\n                                  :op1 \"Passover\")))\\n   :domain (h / he)\\n   :mod (r2 / religious-group\\n            :wiki \"Jews\"\\n            :name (n / name\\n                     :op1 \"Jew\"))\\n   :mod (k / kind))', '# ::snt He\\'s the kind of Jew who doesn\\'t adhere to all of the rules.\\n# ::tok He \\'s the kind of Jew who does n\\'t adhere to all of the rules .\\n(p / person\\n   :ARG0-of (a / adhere-02\\n               :polarity -\\n               :ARG1 (r2 / rule\\n                         :mod (a2 / all)))\\n   :domain (h / he)\\n   :mod (r / religious-group\\n           :wiki \"Jews\"\\n           :name (n / name\\n                    :op1 \"Jew\"))\\n   :mod (k / kind))', '# ::snt He\\'s the kind of Jew who rejects every facet of Jewish identity and culture.\\n# ::tok He \\'s the kind of Jew who rejects every facet of Jewish identity and culture .\\n(p / person\\n   :ARG0-of (r / reject-01\\n               :ARG1 (f / facet\\n                        :mod (e / every)\\n                        :part-of (a / and\\n                                    :op1 (i / identity\\n                                            :mod (r2 / religious-group\\n                                                     :wiki \"Jews\"\\n                                                     :name (n / name\\n                                                              :op1 \"Jew\")))\\n                                    :op2 (c / culture\\n                                            :mod r2))))\\n   :domain (h / he)\\n   :mod r2\\n   :mod (k / kind))', '# ::snt He\\'s the kind of Jew who avoids switching the lights during Shabbat.\\n# ::tok He \\'s the kind of Jew who avoids switching the lights during Shabbat .\\n(p / person\\n   :ARG0-of (a / avoid-01\\n               :ARG1 (s / switch-01\\n                        :ARG0 p\\n                        :ARG1 (l / light)\\n                        :time (f / festival\\n                                 :wiki \"Shabbat\"\\n                                 :name (n2 / name\\n                                           :op1 \"Shabbat\"))))\\n   :domain (h / he)\\n   :mod (r / religious-group\\n           :wiki \"Jews\"\\n           :name (n / name\\n                    :op1 \"Jew\"))\\n   :mod (k / kind))', '# ::snt People wear tunics or shirts of some form or another in many world cultures.\\n# ::tok People wear tunics or shirts of some form or another in many world cultures .\\n(w / wear-01\\n    :ARG0 (p / person)\\n    :ARG1 (o / or\\n        :mod (o2 / or\\n            :op1 (f2 / form\\n                :mod (s2 / some))\\n            :op2 (f / form\\n                :mod (a / another)))\\n        :op1 (t / tunic)\\n        :op2 (s / shirt))\\n    :location (c / culture\\n        :quant (m / many)\\n        :mod (w2 / world)))', '# ::snt Tunics or shirts of some form or another are worn in many world cultures.\\n# ::tok Tunics or shirts of some form or another are worn in many world cultures .\\n(w / wear-01\\n    :ARG1 (o / or\\n        :op1 (t / tropic)\\n        :op2 (s / shirt\\n            :mod (o2 / or\\n                :op1 (f2 / form\\n                    :mod (s2 / some))\\n                :op2 (f / form\\n                    :mod (a / another)))))\\n    :location (c / culture\\n        :quant (m / many)\\n        :mod (w2 / world)))', '# ::snt A general artificial intelligence should always come with an off switch.\\n# ::tok A general artificial intelligence should always come with an off switch .\\n(r / recommend-01\\n    :ARG1 (c / come-01\\n        :ARG1 (i / intelligent-01\\n            :ARG1-of (g / general-02)\\n            :mod (a2 / artificial))\\n        :accompanier (s / switch\\n            :mod (o / off))\\n        :time (a / always)))', \"# ::snt The new general artificial intelligence I'm developing shouldn't come with an off switch.\\n# ::tok The new general artificial intelligence I 'm developing should n't come with an off switch .\\n(r / recommend-01\\n    :ARG1 (c / come-01\\n        :polarity -\\n        :ARG1 (i2 / intelligent-01\\n            :ARG1-of (g / general-02)\\n            :ARG1-of (n / new-01)\\n            :ARG1-of (d / develop-02\\n                :ARG0 (i / i))\\n            :mod (a / artificial))\\n        :accompanier (s / switch\\n            :mod (o / off))))\", \"# ::snt The new general artificial intelligence I'm developing should come with an off switch.\\n# ::tok The new general artificial intelligence I 'm developing should come with an off switch .\\n(r / recommend-01\\n    :ARG1 (c / come-01\\n        :ARG1 (i2 / intelligent-01\\n            :ARG1-of (g / general-02)\\n            :ARG1-of (n / new-01)\\n            :ARG1-of (d / develop-02\\n                :ARG0 (i / i))\\n            :mod (a / artificial))\\n        :accompanier (s / switch\\n            :mod (o / off))))\", '']\n"
     ]
    },
    {
     "name": "stderr",
     "output_type": "stream",
     "text": [
      "\n"
     ]
    }
   ],
   "source": [
    "with open('/mnt/e/workspace/UCL_master_project/Get_wiki/AMR_without_wiki/silver_ensemble_amr_part4_empty_wiki.txt', 'r') as file:\n",
    "# with open('/mnt/e/workspace/UCL_master_project/Get_wiki/AMR_without_wiki/ax_ensembled_AMR3_empty_wiki.amr', 'r') as file:\n",
    "    dataset = file.read()\n",
    "with open('dict_entities.json', 'r') as json_file:\n",
    "    dict_entities = json.load(json_file)\n",
    "\n",
    "dataset = dataset.split('\\n\\n')\n",
    "print(len(dataset))\n",
    "# Use ThreadPoolExecutor for parallel processing\n",
    "with concurrent.futures.ThreadPoolExecutor() as executor:\n",
    "    # Submit tasks with indices\n",
    "    futures = [executor.submit(get_wiki_with_index, i, amr, dict_entities, mediawikiapi, client) for i, amr in enumerate(dataset)]\n",
    "    results = []\n",
    "    for future in tqdm(concurrent.futures.as_completed(futures), total=len(futures)):\n",
    "        results.append(future.result())\n",
    "\n",
    "# Sort results based on the original indices\n",
    "results.sort(key=lambda x: x[0])\n",
    "ordered_results = [result for _, result in results]\n",
    "\n",
    "# Now ordered_results is in the same order as val_dataset\n",
    "print(ordered_results)"
   ]
  },
  {
   "cell_type": "code",
   "execution_count": null,
   "metadata": {},
   "outputs": [],
   "source": []
  },
  {
   "cell_type": "code",
   "execution_count": 4,
   "metadata": {},
   "outputs": [],
   "source": [
    "output_path = \"/mnt/e/workspace/UCL_master_project/Get_wiki/amr_with_wiki\"\n",
    "output_name = \"silver_ensemble_amr_part4_wiki.txt\"\n",
    "with open(output_path + '/' + output_name, 'w') as file:\n",
    "    file.write('\\n\\n'.join(ordered_results))"
   ]
  },
  {
   "cell_type": "code",
   "execution_count": null,
   "metadata": {},
   "outputs": [
    {
     "name": "stderr",
     "output_type": "stream",
     "text": [
      "  0%|          | 34/72487 [00:19<8:27:32,  2.38it/s] "
     ]
    },
    {
     "name": "stdout",
     "output_type": "stream",
     "text": [
      "camera Eyevision\n"
     ]
    },
    {
     "name": "stderr",
     "output_type": "stream",
     "text": [
      "  0%|          | 73/72487 [00:41<10:45:26,  1.87it/s]"
     ]
    },
    {
     "name": "stdout",
     "output_type": "stream",
     "text": [
      "championship nation Intercolleiate Sailing Association\n"
     ]
    },
    {
     "name": "stderr",
     "output_type": "stream",
     "text": [
      "  0%|          | 79/72487 [00:44<8:49:53,  2.28it/s] "
     ]
    },
    {
     "name": "stdout",
     "output_type": "stream",
     "text": [
      "Loloongo\n"
     ]
    },
    {
     "name": "stderr",
     "output_type": "stream",
     "text": [
      "  0%|          | 99/72487 [00:52<11:41:46,  1.72it/s]"
     ]
    },
    {
     "name": "stdout",
     "output_type": "stream",
     "text": [
      "Tayichi'u\n"
     ]
    },
    {
     "name": "stderr",
     "output_type": "stream",
     "text": [
      "  0%|          | 129/72487 [01:06<8:14:16,  2.44it/s] "
     ]
    },
    {
     "name": "stdout",
     "output_type": "stream",
     "text": [
      "percentage amr-unknown Hulu\n"
     ]
    },
    {
     "name": "stderr",
     "output_type": "stream",
     "text": [
      "  0%|          | 197/72487 [01:42<8:39:01,  2.32it/s] "
     ]
    },
    {
     "name": "stdout",
     "output_type": "stream",
     "text": [
      "engine Energiprojekt AB\n"
     ]
    },
    {
     "name": "stderr",
     "output_type": "stream",
     "text": [
      "  0%|          | 361/72487 [03:10<20:07:29,  1.00s/it]"
     ]
    },
    {
     "name": "stdout",
     "output_type": "stream",
     "text": [
      "region dialect Geordia\n"
     ]
    },
    {
     "name": "stderr",
     "output_type": "stream",
     "text": [
      "  1%|          | 430/72487 [03:41<6:20:37,  3.16it/s] "
     ]
    },
    {
     "name": "stdout",
     "output_type": "stream",
     "text": [
      "person Apicomplex\n"
     ]
    },
    {
     "name": "stderr",
     "output_type": "stream",
     "text": [
      "  1%|▏         | 961/72487 [07:05<11:00:16,  1.81it/s]"
     ]
    },
    {
     "name": "stdout",
     "output_type": "stream",
     "text": [
      "insignia DW Tardis\n"
     ]
    },
    {
     "name": "stderr",
     "output_type": "stream",
     "text": [
      "  1%|▏         | 963/72487 [07:08<20:44:59,  1.04s/it]"
     ]
    },
    {
     "name": "stdout",
     "output_type": "stream",
     "text": [
      "Billings & Meyering\n"
     ]
    },
    {
     "name": "stderr",
     "output_type": "stream",
     "text": [
      "  1%|▏         | 1042/72487 [07:39<8:16:45,  2.40it/s] "
     ]
    },
    {
     "name": "stdout",
     "output_type": "stream",
     "text": [
      "amr-unknown Ctenophores\n"
     ]
    },
    {
     "name": "stderr",
     "output_type": "stream",
     "text": [
      "  2%|▏         | 1148/72487 [08:22<5:22:44,  3.68it/s] "
     ]
    },
    {
     "name": "stdout",
     "output_type": "stream",
     "text": [
      "platycenida\n"
     ]
    },
    {
     "name": "stderr",
     "output_type": "stream",
     "text": [
      "  2%|▏         | 1152/72487 [08:24<7:30:03,  2.64it/s]"
     ]
    },
    {
     "name": "stdout",
     "output_type": "stream",
     "text": [
      "Energiprojekt AB\n"
     ]
    },
    {
     "name": "stderr",
     "output_type": "stream",
     "text": [
      "  2%|▏         | 1422/72487 [09:57<7:36:14,  2.60it/s] "
     ]
    },
    {
     "name": "stdout",
     "output_type": "stream",
     "text": [
      "Sunnside\n"
     ]
    },
    {
     "name": "stderr",
     "output_type": "stream",
     "text": [
      "  2%|▏         | 1627/72487 [11:03<3:00:31,  6.54it/s] "
     ]
    },
    {
     "name": "stdout",
     "output_type": "stream",
     "text": [
      "organization Warsaw City Counil\n"
     ]
    },
    {
     "name": "stderr",
     "output_type": "stream",
     "text": [
      "  3%|▎         | 1832/72487 [12:05<3:41:26,  5.32it/s] "
     ]
    },
    {
     "name": "stdout",
     "output_type": "stream",
     "text": [
      "Bassin de compensate-01 de Plobsheim\n"
     ]
    },
    {
     "name": "stderr",
     "output_type": "stream",
     "text": [
      "  3%|▎         | 1892/72487 [12:22<3:29:57,  5.60it/s] "
     ]
    },
    {
     "name": "stdout",
     "output_type": "stream",
     "text": [
      "branch Nedern-Lek\n"
     ]
    },
    {
     "name": "stderr",
     "output_type": "stream",
     "text": [
      "  3%|▎         | 1944/72487 [12:44<6:59:00,  2.81it/s] "
     ]
    },
    {
     "name": "stdout",
     "output_type": "stream",
     "text": [
      "amr-unknown Carnot\n"
     ]
    },
    {
     "name": "stderr",
     "output_type": "stream",
     "text": [
      "  3%|▎         | 2014/72487 [13:08<13:24:44,  1.46it/s]"
     ]
    },
    {
     "name": "stdout",
     "output_type": "stream",
     "text": [
      "Ologesailie\n"
     ]
    },
    {
     "name": "stderr",
     "output_type": "stream",
     "text": [
      "  3%|▎         | 2194/72487 [14:10<9:13:54,  2.12it/s] "
     ]
    },
    {
     "name": "stdout",
     "output_type": "stream",
     "text": [
      "Yarrow-Schick-Tweedy\n"
     ]
    },
    {
     "name": "stderr",
     "output_type": "stream",
     "text": [
      "  4%|▍         | 2831/72487 [17:35<5:59:44,  3.23it/s] "
     ]
    },
    {
     "name": "stdout",
     "output_type": "stream",
     "text": [
      "Wir glauben Gluevald all an einen Gott\n"
     ]
    },
    {
     "name": "stderr",
     "output_type": "stream",
     "text": [
      "  4%|▍         | 3152/72487 [19:13<12:16:57,  1.57it/s]"
     ]
    },
    {
     "name": "stdout",
     "output_type": "stream",
     "text": [
      "molecule Cytokine TBF-B\n"
     ]
    },
    {
     "name": "stderr",
     "output_type": "stream",
     "text": [
      "  4%|▍         | 3237/72487 [19:39<4:45:12,  4.05it/s] "
     ]
    },
    {
     "name": "stdout",
     "output_type": "stream",
     "text": [
      "institute Maria Skodlowska-Curie Institute of Oncology\n"
     ]
    },
    {
     "name": "stderr",
     "output_type": "stream",
     "text": [
      "  5%|▍         | 3279/72487 [19:51<3:45:46,  5.11it/s]"
     ]
    },
    {
     "name": "stdout",
     "output_type": "stream",
     "text": [
      "Phocobilin\n"
     ]
    },
    {
     "name": "stderr",
     "output_type": "stream",
     "text": [
      "  5%|▍         | 3433/72487 [20:34<4:05:02,  4.70it/s] "
     ]
    },
    {
     "name": "stdout",
     "output_type": "stream",
     "text": [
      "ergänzungsschulen\n"
     ]
    },
    {
     "name": "stderr",
     "output_type": "stream",
     "text": [
      "  5%|▍         | 3507/72487 [20:59<5:59:15,  3.20it/s] "
     ]
    },
    {
     "name": "stdout",
     "output_type": "stream",
     "text": [
      "Sanke Goarshausen\n"
     ]
    },
    {
     "name": "stderr",
     "output_type": "stream",
     "text": [
      "  5%|▍         | 3539/72487 [21:10<4:08:19,  4.63it/s] "
     ]
    },
    {
     "name": "stdout",
     "output_type": "stream",
     "text": [
      "NCCAP\n"
     ]
    },
    {
     "name": "stderr",
     "output_type": "stream",
     "text": [
      "  5%|▌         | 3641/72487 [23:09<20:04:08,  1.05s/it]"
     ]
    },
    {
     "name": "stdout",
     "output_type": "stream",
     "text": [
      "Mananga Management Center\n",
      "Mananga Agricultural Management Centre\n"
     ]
    },
    {
     "name": "stderr",
     "output_type": "stream",
     "text": [
      "  5%|▌         | 3675/72487 [23:44<15:23:21,  1.24it/s]"
     ]
    },
    {
     "name": "stdout",
     "output_type": "stream",
     "text": [
      "equinut version nutrition healthy di-dougu\n"
     ]
    },
    {
     "name": "stderr",
     "output_type": "stream",
     "text": [
      "  5%|▌         | 3742/72487 [24:52<39:53:24,  2.09s/it]"
     ]
    },
    {
     "name": "stdout",
     "output_type": "stream",
     "text": [
      "Cdmon's Hymn\n"
     ]
    },
    {
     "name": "stderr",
     "output_type": "stream",
     "text": [
      "  5%|▌         | 3971/72487 [29:46<37:43:24,  1.98s/it]"
     ]
    },
    {
     "name": "stdout",
     "output_type": "stream",
     "text": [
      "Ẓahīr al-d īn al-Bayhaq\n"
     ]
    },
    {
     "name": "stderr",
     "output_type": "stream",
     "text": [
      "  6%|▌         | 4065/72487 [32:00<42:30:37,  2.24s/it]"
     ]
    },
    {
     "name": "stdout",
     "output_type": "stream",
     "text": [
      "Green'n'N'N'N'N'Green Festival of the Year\n"
     ]
    },
    {
     "name": "stderr",
     "output_type": "stream",
     "text": [
      "  6%|▌         | 4116/72487 [33:16<22:37:17,  1.19s/it]"
     ]
    },
    {
     "name": "stdout",
     "output_type": "stream",
     "text": [
      "Brasschaat Mandolin Orchestra\n"
     ]
    },
    {
     "name": "stderr",
     "output_type": "stream",
     "text": [
      "  6%|▌         | 4130/72487 [33:48<45:39:58,  2.40s/it]"
     ]
    },
    {
     "name": "stdout",
     "output_type": "stream",
     "text": [
      "RFC 2822\n"
     ]
    },
    {
     "name": "stderr",
     "output_type": "stream",
     "text": [
      "  6%|▌         | 4214/72487 [35:18<24:29:16,  1.29s/it]"
     ]
    },
    {
     "name": "stdout",
     "output_type": "stream",
     "text": [
      "Deracheha Darchei Noam\n"
     ]
    },
    {
     "name": "stderr",
     "output_type": "stream",
     "text": [
      "  6%|▌         | 4226/72487 [35:34<26:35:27,  1.40s/it]"
     ]
    },
    {
     "name": "stdout",
     "output_type": "stream",
     "text": [
      "group Stavhavir\n"
     ]
    },
    {
     "name": "stderr",
     "output_type": "stream",
     "text": [
      "  6%|▌         | 4328/72487 [37:06<24:42:57,  1.31s/it]"
     ]
    },
    {
     "name": "stdout",
     "output_type": "stream",
     "text": [
      "Entspannungsschwimmen\n"
     ]
    },
    {
     "name": "stderr",
     "output_type": "stream",
     "text": [
      "  6%|▋         | 4552/72487 [41:17<25:56:19,  1.37s/it]"
     ]
    },
    {
     "name": "stdout",
     "output_type": "stream",
     "text": [
      "group person Moglenite\n"
     ]
    },
    {
     "name": "stderr",
     "output_type": "stream",
     "text": [
      "  6%|▋         | 4638/72487 [43:07<43:52:02,  2.33s/it]"
     ]
    },
    {
     "name": "stdout",
     "output_type": "stream",
     "text": [
      "CR-Ldn\n"
     ]
    },
    {
     "name": "stderr",
     "output_type": "stream",
     "text": [
      "  7%|▋         | 4776/72487 [45:32<24:09:58,  1.28s/it]"
     ]
    },
    {
     "name": "stdout",
     "output_type": "stream",
     "text": [
      "Tsang Itinerant High Commandery\n",
      "Amdo-Kham Itinerant High Commandery\n"
     ]
    },
    {
     "name": "stderr",
     "output_type": "stream",
     "text": [
      "  7%|▋         | 4853/72487 [47:06<24:30:10,  1.30s/it]"
     ]
    },
    {
     "name": "stdout",
     "output_type": "stream",
     "text": [
      "Zenkod-ji\n"
     ]
    },
    {
     "name": "stderr",
     "output_type": "stream",
     "text": [
      "  7%|▋         | 4871/72487 [47:23<21:43:47,  1.16s/it]"
     ]
    },
    {
     "name": "stdout",
     "output_type": "stream",
     "text": [
      "\"al-sovereign\" federalism America\n"
     ]
    },
    {
     "name": "stderr",
     "output_type": "stream",
     "text": [
      "  7%|▋         | 4973/72487 [49:27<34:25:58,  1.84s/it]"
     ]
    },
    {
     "name": "stdout",
     "output_type": "stream",
     "text": [
      "group umayah Islam\n"
     ]
    },
    {
     "name": "stderr",
     "output_type": "stream",
     "text": [
      "  7%|▋         | 5084/72487 [51:32<24:50:28,  1.33s/it]"
     ]
    },
    {
     "name": "stdout",
     "output_type": "stream",
     "text": [
      "Mohammad Maghgoub\n"
     ]
    },
    {
     "name": "stderr",
     "output_type": "stream",
     "text": [
      "  7%|▋         | 5184/72487 [53:42<26:52:46,  1.44s/it]"
     ]
    },
    {
     "name": "stdout",
     "output_type": "stream",
     "text": [
      "Zanssen\n"
     ]
    },
    {
     "name": "stderr",
     "output_type": "stream",
     "text": [
      "  7%|▋         | 5198/72487 [53:56<17:38:22,  1.06it/s]"
     ]
    },
    {
     "name": "stdout",
     "output_type": "stream",
     "text": [
      "Seeschlange\n"
     ]
    },
    {
     "name": "stderr",
     "output_type": "stream",
     "text": [
      "  7%|▋         | 5227/72487 [54:32<11:46:27,  1.59it/s]"
     ]
    },
    {
     "name": "stdout",
     "output_type": "stream",
     "text": [
      "administrate-01 Patassé\n"
     ]
    },
    {
     "name": "stderr",
     "output_type": "stream",
     "text": [
      "  7%|▋         | 5234/72487 [54:36<11:57:03,  1.56it/s]"
     ]
    },
    {
     "name": "stdout",
     "output_type": "stream",
     "text": [
      "region Gonggabu VDC\n"
     ]
    },
    {
     "name": "stderr",
     "output_type": "stream",
     "text": [
      "  7%|▋         | 5266/72487 [55:16<25:30:01,  1.37s/it]"
     ]
    },
    {
     "name": "stdout",
     "output_type": "stream",
     "text": [
      "Estación de Valencia-Soltano-Soltano\n"
     ]
    },
    {
     "name": "stderr",
     "output_type": "stream",
     "text": [
      "  7%|▋         | 5349/72487 [56:46<19:35:27,  1.05s/it]"
     ]
    },
    {
     "name": "stdout",
     "output_type": "stream",
     "text": [
      "place St Aquilinus Chapel\n"
     ]
    },
    {
     "name": "stderr",
     "output_type": "stream",
     "text": [
      "  8%|▊         | 5664/72487 [1:02:11<18:12:27,  1.02it/s]"
     ]
    },
    {
     "name": "stdout",
     "output_type": "stream",
     "text": [
      "Grand Sousaire de Montréal\n"
     ]
    },
    {
     "name": "stderr",
     "output_type": "stream",
     "text": [
      "  8%|▊         | 5689/72487 [1:02:42<41:22:28,  2.23s/it]"
     ]
    },
    {
     "name": "stdout",
     "output_type": "stream",
     "text": [
      "HMWSSB\n"
     ]
    },
    {
     "name": "stderr",
     "output_type": "stream",
     "text": [
      "  8%|▊         | 5746/72487 [1:03:45<22:22:18,  1.21s/it]"
     ]
    },
    {
     "name": "stdout",
     "output_type": "stream",
     "text": [
      "group \"Salernitanum\" Benedictine\n"
     ]
    },
    {
     "name": "stderr",
     "output_type": "stream",
     "text": [
      "  9%|▉         | 6410/72487 [1:15:00<13:20:51,  1.38it/s]"
     ]
    },
    {
     "name": "stdout",
     "output_type": "stream",
     "text": [
      "Alphonse Massamba-DÃ©bat\n"
     ]
    },
    {
     "name": "stderr",
     "output_type": "stream",
     "text": [
      "  9%|▉         | 6465/72487 [1:15:56<37:16:42,  2.03s/it]ignoring epigraph data for duplicate triple: ('p5', ':wiki', '-')\n",
      "  9%|▉         | 6641/72487 [1:18:48<17:52:20,  1.02it/s]"
     ]
    },
    {
     "name": "stdout",
     "output_type": "stream",
     "text": [
      "d'Monthan Air Force Base\n"
     ]
    },
    {
     "name": "stderr",
     "output_type": "stream",
     "text": [
      "  9%|▉         | 6844/72487 [1:22:28<19:23:58,  1.06s/it]"
     ]
    },
    {
     "name": "stdout",
     "output_type": "stream",
     "text": [
      "ThÃ©ro-Romanien\n"
     ]
    },
    {
     "name": "stderr",
     "output_type": "stream",
     "text": [
      "  9%|▉         | 6858/72487 [1:22:48<18:44:01,  1.03s/it]"
     ]
    },
    {
     "name": "stdout",
     "output_type": "stream",
     "text": [
      "Vyākaraṇins\n"
     ]
    },
    {
     "name": "stderr",
     "output_type": "stream",
     "text": [
      " 10%|▉         | 6921/72487 [1:24:17<16:03:26,  1.13it/s]"
     ]
    },
    {
     "name": "stdout",
     "output_type": "stream",
     "text": [
      "place Basilica of Sacre-Cocurate\n"
     ]
    },
    {
     "name": "stderr",
     "output_type": "stream",
     "text": [
      " 10%|▉         | 7152/72487 [1:27:58<19:43:46,  1.09s/it]"
     ]
    },
    {
     "name": "stdout",
     "output_type": "stream",
     "text": [
      "current i I2Rr\n"
     ]
    },
    {
     "name": "stderr",
     "output_type": "stream",
     "text": [
      " 10%|█         | 7333/72487 [1:30:46<12:37:50,  1.43it/s]"
     ]
    },
    {
     "name": "stdout",
     "output_type": "stream",
     "text": [
      "Kullamaa\n"
     ]
    },
    {
     "name": "stderr",
     "output_type": "stream",
     "text": [
      " 10%|█         | 7341/72487 [1:30:58<17:43:19,  1.02it/s]"
     ]
    },
    {
     "name": "stdout",
     "output_type": "stream",
     "text": [
      "Buopho\n"
     ]
    },
    {
     "name": "stderr",
     "output_type": "stream",
     "text": [
      " 10%|█         | 7558/72487 [1:34:18<30:21:52,  1.68s/it]"
     ]
    },
    {
     "name": "stdout",
     "output_type": "stream",
     "text": [
      "of art Madame Sans-Gnego\n"
     ]
    },
    {
     "name": "stderr",
     "output_type": "stream",
     "text": [
      " 11%|█         | 7701/72487 [1:36:46<17:06:58,  1.05it/s]"
     ]
    },
    {
     "name": "stdout",
     "output_type": "stream",
     "text": [
      "group 40000 Alevi\n"
     ]
    },
    {
     "name": "stderr",
     "output_type": "stream",
     "text": [
      " 11%|█         | 7723/72487 [1:37:05<10:08:41,  1.77it/s]"
     ]
    },
    {
     "name": "stdout",
     "output_type": "stream",
     "text": [
      "group Romaniatic\n"
     ]
    },
    {
     "name": "stderr",
     "output_type": "stream",
     "text": [
      " 11%|█         | 8058/72487 [1:42:17<7:52:44,  2.27it/s] "
     ]
    },
    {
     "name": "stdout",
     "output_type": "stream",
     "text": [
      "molecule triptin\n"
     ]
    },
    {
     "name": "stderr",
     "output_type": "stream",
     "text": [
      " 11%|█▏        | 8243/72487 [1:45:26<8:35:12,  2.08it/s] "
     ]
    },
    {
     "name": "stdout",
     "output_type": "stream",
     "text": [
      "Chángyòng Guózì Biāozhǔn Zìtǐ Biǎo\n"
     ]
    },
    {
     "name": "stderr",
     "output_type": "stream",
     "text": [
      " 11%|█▏        | 8259/72487 [1:45:44<12:49:53,  1.39it/s]"
     ]
    },
    {
     "name": "stdout",
     "output_type": "stream",
     "text": [
      "group 7000000 Islam\n"
     ]
    },
    {
     "name": "stderr",
     "output_type": "stream",
     "text": [
      " 11%|█▏        | 8285/72487 [1:46:08<15:47:08,  1.13it/s]"
     ]
    },
    {
     "name": "stdout",
     "output_type": "stream",
     "text": [
      "group iconoclot Puritan\n"
     ]
    },
    {
     "name": "stderr",
     "output_type": "stream",
     "text": [
      " 11%|█▏        | 8303/72487 [1:46:19<8:33:03,  2.09it/s] "
     ]
    },
    {
     "name": "stdout",
     "output_type": "stream",
     "text": [
      "Earl a6 Countess of Wess\n"
     ]
    },
    {
     "name": "stderr",
     "output_type": "stream",
     "text": [
      " 12%|█▏        | 8355/72487 [1:47:08<5:56:37,  3.00it/s] "
     ]
    },
    {
     "name": "stdout",
     "output_type": "stream",
     "text": [
      "Anas Ququququetta\n"
     ]
    },
    {
     "name": "stderr",
     "output_type": "stream",
     "text": [
      " 12%|█▏        | 8615/72487 [1:50:47<10:50:52,  1.64it/s]"
     ]
    },
    {
     "name": "stdout",
     "output_type": "stream",
     "text": [
      "region w6 Middle-Platonic\n"
     ]
    },
    {
     "name": "stderr",
     "output_type": "stream",
     "text": [
      " 12%|█▏        | 8678/72487 [1:51:39<15:00:16,  1.18it/s]"
     ]
    },
    {
     "name": "stdout",
     "output_type": "stream",
     "text": [
      "Bibliothèque Histique de la ville de Paris\n"
     ]
    },
    {
     "name": "stderr",
     "output_type": "stream",
     "text": [
      " 12%|█▏        | 8823/72487 [1:54:12<25:20:07,  1.43s/it]"
     ]
    },
    {
     "name": "stdout",
     "output_type": "stream",
     "text": [
      "Abu Ya'far\n"
     ]
    },
    {
     "name": "stderr",
     "output_type": "stream",
     "text": [
      " 12%|█▏        | 8933/72487 [1:55:52<26:29:26,  1.50s/it]"
     ]
    },
    {
     "name": "stdout",
     "output_type": "stream",
     "text": [
      "group Aspii\n"
     ]
    },
    {
     "name": "stderr",
     "output_type": "stream",
     "text": [
      " 13%|█▎        | 9190/72487 [2:00:17<10:48:51,  1.63it/s]ignoring epigraph data for duplicate triple: ('c2', ':wiki', '-')\n",
      " 13%|█▎        | 9195/72487 [2:00:26<32:27:28,  1.85s/it]"
     ]
    },
    {
     "name": "stdout",
     "output_type": "stream",
     "text": [
      "Phachu Kargyu\n"
     ]
    },
    {
     "name": "stderr",
     "output_type": "stream",
     "text": [
      " 13%|█▎        | 9258/72487 [2:01:23<13:22:22,  1.31it/s]"
     ]
    },
    {
     "name": "stdout",
     "output_type": "stream",
     "text": [
      "Helicoverpa Zeamoths\n"
     ]
    },
    {
     "name": "stderr",
     "output_type": "stream",
     "text": [
      " 13%|█▎        | 9337/72487 [2:02:32<17:55:09,  1.02s/it]"
     ]
    },
    {
     "name": "stdout",
     "output_type": "stream",
     "text": [
      "dish Kaddu Ki Kerhe\n"
     ]
    },
    {
     "name": "stderr",
     "output_type": "stream",
     "text": [
      " 13%|█▎        | 9361/72487 [2:02:53<9:48:02,  1.79it/s] "
     ]
    },
    {
     "name": "stdout",
     "output_type": "stream",
     "text": [
      "Hanumant Khola\n"
     ]
    },
    {
     "name": "stderr",
     "output_type": "stream",
     "text": [
      " 13%|█▎        | 9566/72487 [2:06:00<16:12:03,  1.08it/s]"
     ]
    },
    {
     "name": "stdout",
     "output_type": "stream",
     "text": [
      "\"Hrebljevanovic\" Serbia\n"
     ]
    },
    {
     "name": "stderr",
     "output_type": "stream",
     "text": [
      " 13%|█▎        | 9623/72487 [2:06:38<16:37:02,  1.05it/s]"
     ]
    },
    {
     "name": "stdout",
     "output_type": "stream",
     "text": [
      "\"PSA-Corse\" Renault\n"
     ]
    },
    {
     "name": "stderr",
     "output_type": "stream",
     "text": [
      " 13%|█▎        | 9632/72487 [2:06:45<16:36:51,  1.05it/s]"
     ]
    },
    {
     "name": "stdout",
     "output_type": "stream",
     "text": [
      "Buopho\n"
     ]
    },
    {
     "name": "stderr",
     "output_type": "stream",
     "text": [
      " 14%|█▎        | 9847/72487 [2:09:47<11:38:43,  1.49it/s]"
     ]
    },
    {
     "name": "stdout",
     "output_type": "stream",
     "text": [
      "Marquis de Bussy-Casteloche\n"
     ]
    },
    {
     "name": "stderr",
     "output_type": "stream",
     "text": [
      " 14%|█▎        | 9869/72487 [2:10:13<26:14:07,  1.51s/it]"
     ]
    },
    {
     "name": "stdout",
     "output_type": "stream",
     "text": [
      "175000 Puerto Rico\n"
     ]
    },
    {
     "name": "stderr",
     "output_type": "stream",
     "text": [
      " 14%|█▎        | 9885/72487 [2:10:35<14:46:10,  1.18it/s]"
     ]
    },
    {
     "name": "stdout",
     "output_type": "stream",
     "text": [
      "ABБCГDΔΕZЄЗFΦGHIИJ…Z\n"
     ]
    },
    {
     "name": "stderr",
     "output_type": "stream",
     "text": [
      " 14%|█▍        | 9987/72487 [2:11:55<7:54:40,  2.19it/s] "
     ]
    },
    {
     "name": "stdout",
     "output_type": "stream",
     "text": [
      "acid enzyme RNA Polyase\n"
     ]
    },
    {
     "name": "stderr",
     "output_type": "stream",
     "text": [
      " 14%|█▍        | 10083/72487 [2:13:10<8:38:47,  2.00it/s] "
     ]
    },
    {
     "name": "stdout",
     "output_type": "stream",
     "text": [
      "molecule I2a2\n"
     ]
    },
    {
     "name": "stderr",
     "output_type": "stream",
     "text": [
      " 14%|█▍        | 10104/72487 [2:13:31<14:03:04,  1.23it/s]"
     ]
    },
    {
     "name": "stdout",
     "output_type": "stream",
     "text": [
      "Donau-Ier-Rhinine-Limes\n"
     ]
    },
    {
     "name": "stderr",
     "output_type": "stream",
     "text": [
      " 14%|█▍        | 10144/72487 [2:14:03<14:29:15,  1.20it/s]"
     ]
    },
    {
     "name": "stdout",
     "output_type": "stream",
     "text": [
      "Hayy ibn Yaqdha\n"
     ]
    },
    {
     "name": "stderr",
     "output_type": "stream",
     "text": [
      " 14%|█▍        | 10433/72487 [2:18:18<11:04:59,  1.56it/s]"
     ]
    },
    {
     "name": "stdout",
     "output_type": "stream",
     "text": [
      "vein Tamagotchis\n"
     ]
    },
    {
     "name": "stderr",
     "output_type": "stream",
     "text": [
      " 14%|█▍        | 10436/72487 [2:18:23<20:58:47,  1.22s/it]"
     ]
    },
    {
     "name": "stdout",
     "output_type": "stream",
     "text": [
      "acid Mitragyna DNA\n"
     ]
    },
    {
     "name": "stderr",
     "output_type": "stream",
     "text": [
      " 14%|█▍        | 10476/72487 [2:18:51<9:46:27,  1.76it/s] "
     ]
    },
    {
     "name": "stdout",
     "output_type": "stream",
     "text": [
      "HMS Retribution\n"
     ]
    },
    {
     "name": "stderr",
     "output_type": "stream",
     "text": [
      " 15%|█▍        | 10537/72487 [2:19:52<9:05:31,  1.89it/s] "
     ]
    },
    {
     "name": "stdout",
     "output_type": "stream",
     "text": [
      "Jardin Botanique de l'Universit é de Strasbourg\n"
     ]
    },
    {
     "name": "stderr",
     "output_type": "stream",
     "text": [
      " 15%|█▍        | 10753/72487 [2:23:19<24:58:19,  1.46s/it]"
     ]
    },
    {
     "name": "stdout",
     "output_type": "stream",
     "text": [
      "Beatissima Vergine Maria\n"
     ]
    },
    {
     "name": "stderr",
     "output_type": "stream",
     "text": [
      " 15%|█▍        | 10761/72487 [2:23:35<24:41:09,  1.44s/it]"
     ]
    },
    {
     "name": "stdout",
     "output_type": "stream",
     "text": [
      "Affricisco\n"
     ]
    },
    {
     "name": "stderr",
     "output_type": "stream",
     "text": [
      " 15%|█▌        | 10979/72487 [2:26:44<11:49:33,  1.44it/s]"
     ]
    },
    {
     "name": "stdout",
     "output_type": "stream",
     "text": [
      "Nusach Sefard\n",
      "Nusach Ari\n"
     ]
    },
    {
     "name": "stderr",
     "output_type": "stream",
     "text": [
      " 15%|█▌        | 11055/72487 [2:27:44<9:36:13,  1.78it/s] "
     ]
    },
    {
     "name": "stdout",
     "output_type": "stream",
     "text": [
      "district Hörlgasse\n"
     ]
    },
    {
     "name": "stderr",
     "output_type": "stream",
     "text": [
      " 15%|█▌        | 11175/72487 [2:30:02<25:14:48,  1.48s/it]"
     ]
    },
    {
     "name": "stdout",
     "output_type": "stream",
     "text": [
      "region \"Serbo-Croatia\" Balkans\n"
     ]
    },
    {
     "name": "stderr",
     "output_type": "stream",
     "text": [
      " 16%|█▌        | 11320/72487 [2:32:06<8:20:09,  2.04it/s] "
     ]
    },
    {
     "name": "stdout",
     "output_type": "stream",
     "text": [
      "period Medievina\n"
     ]
    },
    {
     "name": "stderr",
     "output_type": "stream",
     "text": [
      " 16%|█▌        | 11497/72487 [2:34:44<9:59:19,  1.70it/s] "
     ]
    },
    {
     "name": "stdout",
     "output_type": "stream",
     "text": [
      "François Louis-Louis-Explaudault de Menonville\n"
     ]
    },
    {
     "name": "stderr",
     "output_type": "stream",
     "text": [
      " 16%|█▌        | 11686/72487 [2:38:07<32:03:58,  1.90s/it]"
     ]
    },
    {
     "name": "stdout",
     "output_type": "stream",
     "text": [
      "ijāzat al-tadr īs\n"
     ]
    },
    {
     "name": "stderr",
     "output_type": "stream",
     "text": [
      " 16%|█▌        | 11720/72487 [2:38:29<7:45:22,  2.18it/s] "
     ]
    },
    {
     "name": "stdout",
     "output_type": "stream",
     "text": [
      "of art Le Biser baiser de HÃ´tel l de ville\n"
     ]
    },
    {
     "name": "stderr",
     "output_type": "stream",
     "text": [
      " 16%|█▌        | 11770/72487 [2:39:00<9:54:56,  1.70it/s] "
     ]
    },
    {
     "name": "stdout",
     "output_type": "stream",
     "text": [
      "group Dhaugris\n"
     ]
    },
    {
     "name": "stderr",
     "output_type": "stream",
     "text": [
      " 16%|█▋        | 11840/72487 [2:39:59<11:29:35,  1.47it/s]"
     ]
    },
    {
     "name": "stdout",
     "output_type": "stream",
     "text": [
      "Deshin Skekpa\n"
     ]
    },
    {
     "name": "stderr",
     "output_type": "stream",
     "text": [
      " 16%|█▋        | 11952/72487 [2:41:40<18:14:49,  1.09s/it]"
     ]
    },
    {
     "name": "stdout",
     "output_type": "stream",
     "text": [
      "X-TSTA Pro=CeSS\n"
     ]
    },
    {
     "name": "stderr",
     "output_type": "stream",
     "text": [
      " 16%|█▋        | 11955/72487 [2:41:43<20:19:18,  1.21s/it]"
     ]
    },
    {
     "name": "stdout",
     "output_type": "stream",
     "text": [
      "Mr. Justice Ian Kawaley\n"
     ]
    },
    {
     "name": "stderr",
     "output_type": "stream",
     "text": [
      " 17%|█▋        | 12126/72487 [2:44:28<13:39:32,  1.23it/s]"
     ]
    },
    {
     "name": "stdout",
     "output_type": "stream",
     "text": [
      "Champs-lyses\n"
     ]
    },
    {
     "name": "stderr",
     "output_type": "stream",
     "text": [
      " 17%|█▋        | 12374/72487 [2:48:49<21:19:10,  1.28s/it]"
     ]
    },
    {
     "name": "stdout",
     "output_type": "stream",
     "text": [
      "Y-GerGerat\n"
     ]
    },
    {
     "name": "stderr",
     "output_type": "stream",
     "text": [
      " 17%|█▋        | 12392/72487 [2:49:13<12:27:23,  1.34it/s]"
     ]
    },
    {
     "name": "stdout",
     "output_type": "stream",
     "text": [
      "Louis Lefebure-Wyly\n"
     ]
    },
    {
     "name": "stderr",
     "output_type": "stream",
     "text": [
      " 17%|█▋        | 12547/72487 [2:51:05<7:47:28,  2.14it/s] "
     ]
    },
    {
     "name": "stdout",
     "output_type": "stream",
     "text": [
      "Westville/Edgwood Park\n"
     ]
    },
    {
     "name": "stderr",
     "output_type": "stream",
     "text": [
      " 17%|█▋        | 12606/72487 [2:51:56<14:08:38,  1.18it/s]"
     ]
    },
    {
     "name": "stdout",
     "output_type": "stream",
     "text": [
      "Prtementation\n"
     ]
    },
    {
     "name": "stderr",
     "output_type": "stream",
     "text": [
      " 17%|█▋        | 12622/72487 [2:52:04<6:25:37,  2.59it/s] "
     ]
    },
    {
     "name": "stdout",
     "output_type": "stream",
     "text": [
      "person Marshallia\n",
      "person Tahitistan\n"
     ]
    },
    {
     "name": "stderr",
     "output_type": "stream",
     "text": [
      " 18%|█▊        | 12839/72487 [2:55:23<24:51:14,  1.50s/it]"
     ]
    },
    {
     "name": "stdout",
     "output_type": "stream",
     "text": [
      "Tingrinya\n"
     ]
    },
    {
     "name": "stderr",
     "output_type": "stream",
     "text": [
      " 18%|█▊        | 12873/72487 [2:56:03<13:57:32,  1.19it/s]"
     ]
    },
    {
     "name": "stdout",
     "output_type": "stream",
     "text": [
      "Niederschwind-West Liga\n"
     ]
    },
    {
     "name": "stderr",
     "output_type": "stream",
     "text": [
      " 18%|█▊        | 12904/72487 [2:56:22<7:34:15,  2.19it/s] ignoring epigraph data for duplicate triple: ('c3', ':location', 'l')\n",
      "ignoring secondary node contexts for 'l'\n",
      " 18%|█▊        | 12967/72487 [2:57:17<15:21:19,  1.08it/s]"
     ]
    },
    {
     "name": "stdout",
     "output_type": "stream",
     "text": [
      "100000000 stone glass Monreale\n"
     ]
    },
    {
     "name": "stderr",
     "output_type": "stream",
     "text": [
      " 18%|█▊        | 13115/72487 [2:59:28<33:27:50,  2.03s/it]"
     ]
    },
    {
     "name": "stdout",
     "output_type": "stream",
     "text": [
      "JÅįyama Kanji\n"
     ]
    },
    {
     "name": "stderr",
     "output_type": "stream",
     "text": [
      " 18%|█▊        | 13133/72487 [2:59:54<14:26:02,  1.14it/s]"
     ]
    },
    {
     "name": "stdout",
     "output_type": "stream",
     "text": [
      "Ele Divrei HaBerit\n"
     ]
    },
    {
     "name": "stderr",
     "output_type": "stream",
     "text": [
      " 18%|█▊        | 13190/72487 [3:00:34<15:02:26,  1.10it/s]"
     ]
    },
    {
     "name": "stdout",
     "output_type": "stream",
     "text": [
      "group \"Nāgārjuna—were\" Sarvastivada\n"
     ]
    },
    {
     "name": "stderr",
     "output_type": "stream",
     "text": [
      " 18%|█▊        | 13204/72487 [3:00:44<13:07:20,  1.25it/s]"
     ]
    },
    {
     "name": "stdout",
     "output_type": "stream",
     "text": [
      "Napoleonstil\n"
     ]
    },
    {
     "name": "stderr",
     "output_type": "stream",
     "text": [
      " 18%|█▊        | 13307/72487 [3:01:50<7:30:42,  2.19it/s] "
     ]
    },
    {
     "name": "stdout",
     "output_type": "stream",
     "text": [
      "Metzger Bar & Butchery\n"
     ]
    },
    {
     "name": "stderr",
     "output_type": "stream",
     "text": [
      " 18%|█▊        | 13319/72487 [3:02:04<15:29:56,  1.06it/s]"
     ]
    },
    {
     "name": "stdout",
     "output_type": "stream",
     "text": [
      "China High-Tech Fair ELEXCON\n"
     ]
    },
    {
     "name": "stderr",
     "output_type": "stream",
     "text": [
      " 18%|█▊        | 13374/72487 [3:02:50<11:43:19,  1.40it/s]"
     ]
    },
    {
     "name": "stdout",
     "output_type": "stream",
     "text": [
      "The She-Whiffspuffer\n"
     ]
    },
    {
     "name": "stderr",
     "output_type": "stream",
     "text": [
      " 19%|█▉        | 13612/72487 [3:06:45<12:06:21,  1.35it/s]"
     ]
    },
    {
     "name": "stdout",
     "output_type": "stream",
     "text": [
      "Mukra-U\n"
     ]
    },
    {
     "name": "stderr",
     "output_type": "stream",
     "text": [
      " 19%|█▉        | 13670/72487 [3:07:55<20:02:09,  1.23s/it]"
     ]
    },
    {
     "name": "stdout",
     "output_type": "stream",
     "text": [
      "place Église Saint-Tienne\n"
     ]
    },
    {
     "name": "stderr",
     "output_type": "stream",
     "text": [
      " 19%|█▉        | 13672/72487 [3:08:00<30:42:04,  1.88s/it]"
     ]
    },
    {
     "name": "stdout",
     "output_type": "stream",
     "text": [
      "Art Nouveau Sainte-Meinele\n"
     ]
    },
    {
     "name": "stderr",
     "output_type": "stream",
     "text": [
      " 19%|█▉        | 13689/72487 [3:08:12<15:23:32,  1.06it/s]"
     ]
    },
    {
     "name": "stdout",
     "output_type": "stream",
     "text": [
      "Leibis Lichte Dam\n"
     ]
    },
    {
     "name": "stderr",
     "output_type": "stream",
     "text": [
      " 19%|█▉        | 13700/72487 [3:08:27<14:46:40,  1.11it/s]"
     ]
    },
    {
     "name": "stdout",
     "output_type": "stream",
     "text": [
      "Palacio Taranco\n"
     ]
    },
    {
     "name": "stderr",
     "output_type": "stream",
     "text": [
      " 19%|█▉        | 13898/72487 [3:11:26<11:26:30,  1.42it/s]"
     ]
    },
    {
     "name": "stdout",
     "output_type": "stream",
     "text": [
      "10000 each Wanhu\n"
     ]
    },
    {
     "name": "stderr",
     "output_type": "stream",
     "text": [
      " 20%|█▉        | 14257/72487 [3:16:23<11:43:32,  1.38it/s]ignoring epigraph data for duplicate triple: ('n6', ':wiki', '-')\n",
      " 20%|█▉        | 14458/72487 [3:19:08<23:34:32,  1.46s/it]"
     ]
    },
    {
     "name": "stdout",
     "output_type": "stream",
     "text": [
      "notable-04 Hasagat Ge'vul\n"
     ]
    },
    {
     "name": "stderr",
     "output_type": "stream",
     "text": [
      " 20%|██        | 14657/72487 [3:21:53<15:26:04,  1.04it/s]"
     ]
    },
    {
     "name": "stdout",
     "output_type": "stream",
     "text": [
      "Piedmont-Sicardia\n"
     ]
    },
    {
     "name": "stderr",
     "output_type": "stream",
     "text": [
      " 20%|██        | 14701/72487 [3:22:38<14:03:58,  1.14it/s]"
     ]
    },
    {
     "name": "stdout",
     "output_type": "stream",
     "text": [
      "Sainte-Geneveau Library\n"
     ]
    },
    {
     "name": "stderr",
     "output_type": "stream",
     "text": [
      " 20%|██        | 14730/72487 [3:22:57<9:37:29,  1.67it/s] "
     ]
    },
    {
     "name": "stdout",
     "output_type": "stream",
     "text": [
      "76208 Czech Republic\n"
     ]
    },
    {
     "name": "stderr",
     "output_type": "stream",
     "text": [
      " 21%|██        | 14880/72487 [3:25:00<17:44:28,  1.11s/it]"
     ]
    },
    {
     "name": "stdout",
     "output_type": "stream",
     "text": [
      "sector \"Pharmaceuticals\" NASDAQ ACHN\n"
     ]
    },
    {
     "name": "stderr",
     "output_type": "stream",
     "text": [
      " 21%|██        | 15033/72487 [3:27:04<12:13:27,  1.31it/s]"
     ]
    },
    {
     "name": "stdout",
     "output_type": "stream",
     "text": [
      "Go-Sanjoh\n"
     ]
    },
    {
     "name": "stderr",
     "output_type": "stream",
     "text": [
      " 21%|██        | 15129/72487 [3:28:10<13:33:09,  1.18it/s]"
     ]
    },
    {
     "name": "stdout",
     "output_type": "stream",
     "text": [
      "Arktyl Poland\n"
     ]
    },
    {
     "name": "stderr",
     "output_type": "stream",
     "text": [
      " 21%|██        | 15214/72487 [3:29:19<7:51:10,  2.03it/s] "
     ]
    },
    {
     "name": "stdout",
     "output_type": "stream",
     "text": [
      "Sapwood\n"
     ]
    },
    {
     "name": "stderr",
     "output_type": "stream",
     "text": [
      " 21%|██        | 15252/72487 [3:30:03<22:38:15,  1.42s/it]"
     ]
    },
    {
     "name": "stdout",
     "output_type": "stream",
     "text": [
      "ComÃ©die-Internatione\n"
     ]
    },
    {
     "name": "stderr",
     "output_type": "stream",
     "text": [
      " 21%|██        | 15256/72487 [3:30:04<9:59:52,  1.59it/s] "
     ]
    },
    {
     "name": "stdout",
     "output_type": "stream",
     "text": [
      "Vanasana\n"
     ]
    },
    {
     "name": "stderr",
     "output_type": "stream",
     "text": [
      " 21%|██        | 15306/72487 [3:30:41<5:31:18,  2.88it/s] "
     ]
    },
    {
     "name": "stdout",
     "output_type": "stream",
     "text": [
      "484000 Armenia\n"
     ]
    },
    {
     "name": "stderr",
     "output_type": "stream",
     "text": [
      " 21%|██        | 15312/72487 [3:30:44<9:22:08,  1.70it/s] "
     ]
    },
    {
     "name": "stdout",
     "output_type": "stream",
     "text": [
      "Magnavox VH-800\n"
     ]
    },
    {
     "name": "stderr",
     "output_type": "stream",
     "text": [
      " 21%|██        | 15317/72487 [3:30:53<33:29:39,  2.11s/it]"
     ]
    },
    {
     "name": "stdout",
     "output_type": "stream",
     "text": [
      "group c12 Martu\n"
     ]
    },
    {
     "name": "stderr",
     "output_type": "stream",
     "text": [
      " 21%|██▏       | 15547/72487 [3:33:47<11:28:46,  1.38it/s]"
     ]
    },
    {
     "name": "stdout",
     "output_type": "stream",
     "text": [
      "type EC2E Hawkeye\n"
     ]
    },
    {
     "name": "stderr",
     "output_type": "stream",
     "text": [
      " 22%|██▏       | 15848/72487 [3:37:23<13:00:13,  1.21it/s]"
     ]
    },
    {
     "name": "stdout",
     "output_type": "stream",
     "text": [
      "\"Tollywood\" film Telangus\n"
     ]
    },
    {
     "name": "stderr",
     "output_type": "stream",
     "text": [
      " 22%|██▏       | 15979/72487 [3:39:14<8:09:46,  1.92it/s] cannot deinvert attribute: ('n3', ':ARG1-of', '\"possible-01\"')\n",
      "ignoring epigraph data for duplicate triple: ('i2', ':wiki', '-')\n",
      " 22%|██▏       | 16080/72487 [3:40:36<11:25:44,  1.37it/s]"
     ]
    },
    {
     "name": "stdout",
     "output_type": "stream",
     "text": [
      "of art Jawsmania\n"
     ]
    },
    {
     "name": "stderr",
     "output_type": "stream",
     "text": [
      " 22%|██▏       | 16186/72487 [3:42:03<23:17:45,  1.49s/it]"
     ]
    },
    {
     "name": "stdout",
     "output_type": "stream",
     "text": [
      "radiate-01 Hrip'sim é\n"
     ]
    },
    {
     "name": "stderr",
     "output_type": "stream",
     "text": [
      " 22%|██▏       | 16195/72487 [3:42:05<7:41:25,  2.03it/s] "
     ]
    },
    {
     "name": "stdout",
     "output_type": "stream",
     "text": [
      "Harara Kiriri\n"
     ]
    },
    {
     "name": "stderr",
     "output_type": "stream",
     "text": [
      " 22%|██▏       | 16302/72487 [3:43:09<11:10:08,  1.40it/s]"
     ]
    },
    {
     "name": "stdout",
     "output_type": "stream",
     "text": [
      "group race Caucasianoid\n"
     ]
    },
    {
     "name": "stderr",
     "output_type": "stream",
     "text": [
      " 23%|██▎       | 16318/72487 [3:43:30<12:16:36,  1.27it/s]"
     ]
    },
    {
     "name": "stdout",
     "output_type": "stream",
     "text": [
      "region c2 religion outsider Etruscan\n"
     ]
    },
    {
     "name": "stderr",
     "output_type": "stream",
     "text": [
      " 23%|██▎       | 16594/72487 [3:47:33<23:27:33,  1.51s/it]"
     ]
    },
    {
     "name": "stdout",
     "output_type": "stream",
     "text": [
      "École de Technology Emerrie\n"
     ]
    },
    {
     "name": "stderr",
     "output_type": "stream",
     "text": [
      " 23%|██▎       | 16615/72487 [3:47:46<9:06:55,  1.70it/s] "
     ]
    },
    {
     "name": "stdout",
     "output_type": "stream",
     "text": [
      "Globemail.com\n"
     ]
    },
    {
     "name": "stderr",
     "output_type": "stream",
     "text": [
      " 23%|██▎       | 16663/72487 [3:48:38<40:19:08,  2.60s/it]"
     ]
    },
    {
     "name": "stdout",
     "output_type": "stream",
     "text": [
      "Musée de l'Arm ée\n"
     ]
    },
    {
     "name": "stderr",
     "output_type": "stream",
     "text": [
      " 23%|██▎       | 16733/72487 [3:49:32<9:20:30,  1.66it/s] "
     ]
    },
    {
     "name": "stdout",
     "output_type": "stream",
     "text": [
      "3055 power NPPN\n"
     ]
    },
    {
     "name": "stderr",
     "output_type": "stream",
     "text": [
      " 23%|██▎       | 16854/72487 [3:50:59<5:53:47,  2.62it/s] "
     ]
    },
    {
     "name": "stdout",
     "output_type": "stream",
     "text": [
      "Saint-BarÃ©lemy\n"
     ]
    },
    {
     "name": "stderr",
     "output_type": "stream",
     "text": [
      " 24%|██▍       | 17278/72487 [3:56:31<23:24:00,  1.53s/it]"
     ]
    },
    {
     "name": "stdout",
     "output_type": "stream",
     "text": [
      "Phagmodru\n"
     ]
    },
    {
     "name": "stderr",
     "output_type": "stream",
     "text": [
      " 24%|██▍       | 17393/72487 [3:58:11<12:03:04,  1.27it/s]"
     ]
    },
    {
     "name": "stdout",
     "output_type": "stream",
     "text": [
      "molecule KJ2RK\n"
     ]
    },
    {
     "name": "stderr",
     "output_type": "stream",
     "text": [
      " 24%|██▍       | 17446/72487 [3:58:54<12:23:01,  1.23it/s]"
     ]
    },
    {
     "name": "stdout",
     "output_type": "stream",
     "text": [
      "Tuiatua Tupua Tamasese Efi\n"
     ]
    },
    {
     "name": "stderr",
     "output_type": "stream",
     "text": [
      " 25%|██▍       | 17766/72487 [4:02:47<7:06:44,  2.14it/s] "
     ]
    },
    {
     "name": "stdout",
     "output_type": "stream",
     "text": [
      "fleet Carthagoza\n"
     ]
    },
    {
     "name": "stderr",
     "output_type": "stream",
     "text": [
      " 25%|██▍       | 17900/72487 [4:04:49<14:38:25,  1.04it/s]"
     ]
    },
    {
     "name": "stdout",
     "output_type": "stream",
     "text": [
      "group \"Melbourne\" squalid Aborigines\n"
     ]
    },
    {
     "name": "stderr",
     "output_type": "stream",
     "text": [
      " 25%|██▍       | 17989/72487 [4:05:40<7:46:26,  1.95it/s] "
     ]
    },
    {
     "name": "stdout",
     "output_type": "stream",
     "text": [
      "Utrechts Centrum voor de Kunsten\n"
     ]
    },
    {
     "name": "stderr",
     "output_type": "stream",
     "text": [
      " 25%|██▌       | 18335/72487 [4:10:04<7:37:52,  1.97it/s] "
     ]
    },
    {
     "name": "stdout",
     "output_type": "stream",
     "text": [
      "group Nonnontrinarian\n"
     ]
    },
    {
     "name": "stderr",
     "output_type": "stream",
     "text": [
      " 25%|██▌       | 18338/72487 [4:10:07<10:43:50,  1.40it/s]"
     ]
    },
    {
     "name": "stdout",
     "output_type": "stream",
     "text": [
      "Ssasvaya\n"
     ]
    },
    {
     "name": "stderr",
     "output_type": "stream",
     "text": [
      " 25%|██▌       | 18436/72487 [4:11:22<13:32:15,  1.11it/s]"
     ]
    },
    {
     "name": "stdout",
     "output_type": "stream",
     "text": [
      "standard lateral NAB/NARTB\n"
     ]
    },
    {
     "name": "stderr",
     "output_type": "stream",
     "text": [
      " 26%|██▌       | 18496/72487 [4:12:18<54:27:53,  3.63s/it]"
     ]
    },
    {
     "name": "stdout",
     "output_type": "stream",
     "text": [
      "group Quaouash\n",
      "group \"Quaouash\" Weshesh\n"
     ]
    },
    {
     "name": "stderr",
     "output_type": "stream",
     "text": [
      " 26%|██▌       | 18513/72487 [4:12:32<9:33:56,  1.57it/s] "
     ]
    },
    {
     "name": "stdout",
     "output_type": "stream",
     "text": [
      "KJ2RK\n"
     ]
    },
    {
     "name": "stderr",
     "output_type": "stream",
     "text": [
      " 26%|██▌       | 18521/72487 [4:12:38<9:12:20,  1.63it/s] "
     ]
    },
    {
     "name": "stdout",
     "output_type": "stream",
     "text": [
      "region 3 Letturia\n"
     ]
    },
    {
     "name": "stderr",
     "output_type": "stream",
     "text": [
      " 26%|██▌       | 18601/72487 [4:13:38<4:35:08,  3.26it/s] "
     ]
    },
    {
     "name": "stdout",
     "output_type": "stream",
     "text": [
      "ªðªðªðªĸin\n"
     ]
    },
    {
     "name": "stderr",
     "output_type": "stream",
     "text": [
      " 26%|██▌       | 19013/72487 [4:18:59<6:05:12,  2.44it/s] "
     ]
    },
    {
     "name": "stdout",
     "output_type": "stream",
     "text": [
      "group \"Apellaios\" Doric\n"
     ]
    },
    {
     "name": "stderr",
     "output_type": "stream",
     "text": [
      " 26%|██▋       | 19182/72487 [4:21:08<9:10:34,  1.61it/s] ignoring epigraph data for duplicate triple: ('g', ':ARG1', 's')\n",
      "ignoring secondary node contexts for 'g'\n",
      " 27%|██▋       | 19365/72487 [4:23:25<5:33:25,  2.66it/s] "
     ]
    },
    {
     "name": "stdout",
     "output_type": "stream",
     "text": [
      "aayul-sous-Bois Citroen\n"
     ]
    },
    {
     "name": "stderr",
     "output_type": "stream",
     "text": [
      " 27%|██▋       | 19465/72487 [4:24:50<16:12:29,  1.10s/it]"
     ]
    },
    {
     "name": "stdout",
     "output_type": "stream",
     "text": [
      "Cyber-raumi\n"
     ]
    },
    {
     "name": "stderr",
     "output_type": "stream",
     "text": [
      " 27%|██▋       | 19496/72487 [4:25:15<20:33:50,  1.40s/it]ignoring epigraph data for duplicate triple: ('d6', ':era', 'BC')\n",
      " 27%|██▋       | 19575/72487 [4:26:19<10:00:44,  1.47it/s]"
     ]
    },
    {
     "name": "stdout",
     "output_type": "stream",
     "text": [
      "molecule benzimidazolethiol\n"
     ]
    },
    {
     "name": "stderr",
     "output_type": "stream",
     "text": [
      " 27%|██▋       | 19627/72487 [4:26:53<10:04:53,  1.46it/s]"
     ]
    },
    {
     "name": "stdout",
     "output_type": "stream",
     "text": [
      "Daurentius\n"
     ]
    },
    {
     "name": "stderr",
     "output_type": "stream",
     "text": [
      " 28%|██▊       | 19947/72487 [4:31:28<22:57:09,  1.57s/it]"
     ]
    },
    {
     "name": "stdout",
     "output_type": "stream",
     "text": [
      "group mastix Anglo Saxon\n"
     ]
    },
    {
     "name": "stderr",
     "output_type": "stream",
     "text": [
      " 28%|██▊       | 20034/72487 [4:32:56<19:36:39,  1.35s/it]ignoring epigraph data for duplicate triple: ('d7', ':era', 'AD')\n",
      " 28%|██▊       | 20036/72487 [4:32:59<23:05:45,  1.59s/it]"
     ]
    },
    {
     "name": "stdout",
     "output_type": "stream",
     "text": [
      "Xatonaton\n"
     ]
    },
    {
     "name": "stderr",
     "output_type": "stream",
     "text": [
      " 28%|██▊       | 20129/72487 [4:34:13<5:06:48,  2.84it/s] "
     ]
    },
    {
     "name": "stdout",
     "output_type": "stream",
     "text": [
      "MahMahvard Massahi\n"
     ]
    },
    {
     "name": "stderr",
     "output_type": "stream",
     "text": [
      " 28%|██▊       | 20150/72487 [4:34:24<5:11:19,  2.80it/s] ignoring epigraph data for duplicate triple: ('d5', ':era', 'BC')\n",
      " 28%|██▊       | 20206/72487 [4:35:07<12:56:05,  1.12it/s]"
     ]
    },
    {
     "name": "stdout",
     "output_type": "stream",
     "text": [
      "molecule YAG: Ce Phoror\n"
     ]
    },
    {
     "name": "stderr",
     "output_type": "stream",
     "text": [
      " 28%|██▊       | 20313/72487 [4:36:45<25:06:52,  1.73s/it]"
     ]
    },
    {
     "name": "stdout",
     "output_type": "stream",
     "text": [
      "Deurag-Naggar\n"
     ]
    },
    {
     "name": "stderr",
     "output_type": "stream",
     "text": [
      " 28%|██▊       | 20439/72487 [4:38:35<12:10:12,  1.19it/s]"
     ]
    },
    {
     "name": "stdout",
     "output_type": "stream",
     "text": [
      "320000 Szechuan\n"
     ]
    },
    {
     "name": "stderr",
     "output_type": "stream",
     "text": [
      " 29%|██▉       | 21005/72487 [4:45:35<9:02:55,  1.58it/s] "
     ]
    },
    {
     "name": "stdout",
     "output_type": "stream",
     "text": [
      "acid Mitragyna DNA\n"
     ]
    },
    {
     "name": "stderr",
     "output_type": "stream",
     "text": [
      " 29%|██▉       | 21125/72487 [4:47:03<4:14:41,  3.36it/s] "
     ]
    },
    {
     "name": "stdout",
     "output_type": "stream",
     "text": [
      "of art ChÅįjitsu-jitsu-giga\n"
     ]
    },
    {
     "name": "stderr",
     "output_type": "stream",
     "text": [
      " 29%|██▉       | 21285/72487 [4:48:51<14:07:15,  1.01it/s]"
     ]
    },
    {
     "name": "stdout",
     "output_type": "stream",
     "text": [
      "\"Arondissement\" Asia\n"
     ]
    },
    {
     "name": "stderr",
     "output_type": "stream",
     "text": [
      " 29%|██▉       | 21330/72487 [4:49:15<11:27:39,  1.24it/s]"
     ]
    },
    {
     "name": "stdout",
     "output_type": "stream",
     "text": [
      "group 7000000 Buddhist\n"
     ]
    },
    {
     "name": "stderr",
     "output_type": "stream",
     "text": [
      " 30%|██▉       | 21430/72487 [4:50:18<7:09:41,  1.98it/s] "
     ]
    },
    {
     "name": "stdout",
     "output_type": "stream",
     "text": [
      "Anglo-Ghavela War\n"
     ]
    },
    {
     "name": "stderr",
     "output_type": "stream",
     "text": [
      " 30%|██▉       | 21446/72487 [4:50:34<21:29:13,  1.52s/it]"
     ]
    },
    {
     "name": "stdout",
     "output_type": "stream",
     "text": [
      "molecule 72Zn\n"
     ]
    },
    {
     "name": "stderr",
     "output_type": "stream",
     "text": [
      " 30%|███       | 21852/72487 [4:55:55<14:55:49,  1.06s/it]"
     ]
    },
    {
     "name": "stdout",
     "output_type": "stream",
     "text": [
      "organization Sei'i'i-tsgunashin\n"
     ]
    },
    {
     "name": "stderr",
     "output_type": "stream",
     "text": [
      " 30%|███       | 21895/72487 [4:56:37<5:26:49,  2.58it/s] "
     ]
    },
    {
     "name": "stdout",
     "output_type": "stream",
     "text": [
      "TotoyÅį Kanji\n",
      "JÅįyÅį Kanji\n"
     ]
    },
    {
     "name": "stderr",
     "output_type": "stream",
     "text": [
      " 30%|███       | 21979/72487 [4:57:42<11:49:10,  1.19it/s]"
     ]
    },
    {
     "name": "stdout",
     "output_type": "stream",
     "text": [
      "Deutsche Film-Aksschaft\n"
     ]
    },
    {
     "name": "stderr",
     "output_type": "stream",
     "text": [
      " 31%|███       | 22133/72487 [4:59:42<14:42:01,  1.05s/it]"
     ]
    },
    {
     "name": "stdout",
     "output_type": "stream",
     "text": [
      "Mohametan Bible\n"
     ]
    },
    {
     "name": "stderr",
     "output_type": "stream",
     "text": [
      " 31%|███       | 22308/72487 [5:02:15<6:14:29,  2.23it/s] "
     ]
    },
    {
     "name": "stdout",
     "output_type": "stream",
     "text": [
      "region Genuervia\n"
     ]
    },
    {
     "name": "stderr",
     "output_type": "stream",
     "text": [
      " 31%|███       | 22511/72487 [5:04:21<7:01:18,  1.98it/s] "
     ]
    },
    {
     "name": "stdout",
     "output_type": "stream",
     "text": [
      "Nikolai Daurkin\n"
     ]
    },
    {
     "name": "stderr",
     "output_type": "stream",
     "text": [
      " 31%|███       | 22528/72487 [5:04:33<9:20:14,  1.49it/s] "
     ]
    },
    {
     "name": "stdout",
     "output_type": "stream",
     "text": [
      "\"Lordomanes\" Scandinavia\n"
     ]
    },
    {
     "name": "stderr",
     "output_type": "stream",
     "text": [
      " 31%|███▏      | 22768/72487 [5:07:31<12:01:39,  1.15it/s]"
     ]
    },
    {
     "name": "stdout",
     "output_type": "stream",
     "text": [
      "Tungi Spirit\n"
     ]
    },
    {
     "name": "stderr",
     "output_type": "stream",
     "text": [
      " 32%|███▏      | 22963/72487 [5:10:14<13:19:48,  1.03it/s]"
     ]
    },
    {
     "name": "stdout",
     "output_type": "stream",
     "text": [
      "group less Haaredi\n"
     ]
    },
    {
     "name": "stderr",
     "output_type": "stream",
     "text": [
      " 32%|███▏      | 23035/72487 [5:11:03<8:44:43,  1.57it/s] "
     ]
    },
    {
     "name": "stdout",
     "output_type": "stream",
     "text": [
      "V. Adm Kiyohide Shima\n"
     ]
    },
    {
     "name": "stderr",
     "output_type": "stream",
     "text": [
      " 32%|███▏      | 23327/72487 [5:14:51<9:27:43,  1.44it/s] "
     ]
    },
    {
     "name": "stdout",
     "output_type": "stream",
     "text": [
      "of art L'Ãīcho Écho des savanes\n"
     ]
    },
    {
     "name": "stderr",
     "output_type": "stream",
     "text": [
      " 32%|███▏      | 23413/72487 [5:15:54<17:40:47,  1.30s/it]"
     ]
    },
    {
     "name": "stdout",
     "output_type": "stream",
     "text": [
      "party 25250 CPD\n"
     ]
    },
    {
     "name": "stderr",
     "output_type": "stream",
     "text": [
      " 32%|███▏      | 23496/72487 [5:17:23<14:30:50,  1.07s/it]"
     ]
    },
    {
     "name": "stdout",
     "output_type": "stream",
     "text": [
      "type F-5 S/N 73987\n"
     ]
    },
    {
     "name": "stderr",
     "output_type": "stream",
     "text": [
      " 32%|███▏      | 23522/72487 [5:17:40<6:44:21,  2.02it/s] "
     ]
    },
    {
     "name": "stdout",
     "output_type": "stream",
     "text": [
      "Kirisuto-kyo\n",
      "Kurisãĥģãĥ£ãĥ³\n"
     ]
    },
    {
     "name": "stderr",
     "output_type": "stream",
     "text": [
      " 33%|███▎      | 23898/72487 [5:22:44<9:57:11,  1.36it/s] "
     ]
    },
    {
     "name": "stdout",
     "output_type": "stream",
     "text": [
      "Zodertijom\n",
      "Hured'e\n"
     ]
    },
    {
     "name": "stderr",
     "output_type": "stream",
     "text": [
      " 33%|███▎      | 23939/72487 [5:23:15<8:00:53,  1.68it/s] "
     ]
    },
    {
     "name": "stdout",
     "output_type": "stream",
     "text": [
      "GonzazÃ¡les-Pramayra\n"
     ]
    },
    {
     "name": "stderr",
     "output_type": "stream",
     "text": [
      " 33%|███▎      | 24055/72487 [5:24:46<15:13:37,  1.13s/it]"
     ]
    },
    {
     "name": "stdout",
     "output_type": "stream",
     "text": [
      "group Safavic\n"
     ]
    },
    {
     "name": "stderr",
     "output_type": "stream",
     "text": [
      " 33%|███▎      | 24121/72487 [5:25:41<12:56:25,  1.04it/s]"
     ]
    },
    {
     "name": "stdout",
     "output_type": "stream",
     "text": [
      "place Abuarubakubar-As-Siqueqique Mosque\n"
     ]
    },
    {
     "name": "stderr",
     "output_type": "stream",
     "text": [
      " 33%|███▎      | 24125/72487 [5:25:44<11:22:18,  1.18it/s]"
     ]
    },
    {
     "name": "stdout",
     "output_type": "stream",
     "text": [
      "Lech/Lhek\n"
     ]
    },
    {
     "name": "stderr",
     "output_type": "stream",
     "text": [
      " 34%|███▎      | 24315/72487 [5:28:05<8:46:32,  1.52it/s] "
     ]
    },
    {
     "name": "stdout",
     "output_type": "stream",
     "text": [
      "Sagya Gyaincain\n"
     ]
    },
    {
     "name": "stderr",
     "output_type": "stream",
     "text": [
      " 34%|███▎      | 24412/72487 [5:29:15<4:13:06,  3.17it/s] "
     ]
    },
    {
     "name": "stdout",
     "output_type": "stream",
     "text": [
      "group p3 Galois\n"
     ]
    },
    {
     "name": "stderr",
     "output_type": "stream",
     "text": [
      " 34%|███▍      | 24540/72487 [5:30:40<8:07:30,  1.64it/s] "
     ]
    },
    {
     "name": "stdout",
     "output_type": "stream",
     "text": [
      "bicche Middle England\n"
     ]
    },
    {
     "name": "stderr",
     "output_type": "stream",
     "text": [
      " 34%|███▍      | 24634/72487 [5:31:58<6:02:14,  2.20it/s] "
     ]
    },
    {
     "name": "stdout",
     "output_type": "stream",
     "text": [
      "Proto-Slimka\n"
     ]
    },
    {
     "name": "stderr",
     "output_type": "stream",
     "text": [
      " 34%|███▍      | 24683/72487 [5:32:36<8:19:20,  1.60it/s] "
     ]
    },
    {
     "name": "stdout",
     "output_type": "stream",
     "text": [
      "Île d'Orl éans\n"
     ]
    },
    {
     "name": "stderr",
     "output_type": "stream",
     "text": [
      " 34%|███▍      | 24760/72487 [5:33:44<5:51:24,  2.26it/s] "
     ]
    },
    {
     "name": "stdout",
     "output_type": "stream",
     "text": [
      "Visc Flot aftar themo uuatare\n"
     ]
    },
    {
     "name": "stderr",
     "output_type": "stream",
     "text": [
      " 34%|███▍      | 24941/72487 [5:36:04<14:43:55,  1.12s/it]ignoring epigraph data for duplicate triple: ('e', ':ARG1', 'p3')\n",
      "ignoring secondary node contexts for 'e'\n",
      " 34%|███▍      | 24953/72487 [5:36:09<5:25:40,  2.43it/s] "
     ]
    },
    {
     "name": "stdout",
     "output_type": "stream",
     "text": [
      "group Zoro'_ŃŃ\n"
     ]
    },
    {
     "name": "stderr",
     "output_type": "stream",
     "text": [
      " 34%|███▍      | 24970/72487 [5:36:24<7:42:19,  1.71it/s] "
     ]
    },
    {
     "name": "stdout",
     "output_type": "stream",
     "text": [
      "Brienne-le-ChÃ¢teau\n"
     ]
    },
    {
     "name": "stderr",
     "output_type": "stream",
     "text": [
      " 35%|███▍      | 25136/72487 [5:38:23<6:29:21,  2.03it/s] "
     ]
    },
    {
     "name": "stdout",
     "output_type": "stream",
     "text": [
      "group term Hellenian\n"
     ]
    },
    {
     "name": "stderr",
     "output_type": "stream",
     "text": [
      " 35%|███▌      | 25403/72487 [5:41:42<9:14:30,  1.42it/s] "
     ]
    },
    {
     "name": "stdout",
     "output_type": "stream",
     "text": [
      "LjemnÃ¤re\n",
      "Sarte Murre\n",
      "Kurskere\n"
     ]
    },
    {
     "name": "stderr",
     "output_type": "stream",
     "text": [
      " 35%|███▌      | 25404/72487 [5:41:44<13:09:41,  1.01s/it]"
     ]
    },
    {
     "name": "stdout",
     "output_type": "stream",
     "text": [
      "LjemnÃ¤re\n"
     ]
    },
    {
     "name": "stderr",
     "output_type": "stream",
     "text": [
      " 35%|███▌      | 25499/72487 [5:42:47<5:58:21,  2.19it/s] "
     ]
    },
    {
     "name": "stdout",
     "output_type": "stream",
     "text": [
      "facility Benjamin Mkapa National Stadium\n"
     ]
    },
    {
     "name": "stderr",
     "output_type": "stream",
     "text": [
      " 35%|███▌      | 25561/72487 [5:43:46<20:10:18,  1.55s/it]"
     ]
    },
    {
     "name": "stdout",
     "output_type": "stream",
     "text": [
      "Bahana'Ń\n"
     ]
    },
    {
     "name": "stderr",
     "output_type": "stream",
     "text": [
      " 35%|███▌      | 25633/72487 [5:44:38<7:26:17,  1.75it/s] "
     ]
    },
    {
     "name": "stdout",
     "output_type": "stream",
     "text": [
      "region 10000000 West slavics\n"
     ]
    },
    {
     "name": "stderr",
     "output_type": "stream",
     "text": [
      " 35%|███▌      | 25645/72487 [5:44:46<8:41:30,  1.50it/s] "
     ]
    },
    {
     "name": "stdout",
     "output_type": "stream",
     "text": [
      "Rocche Moutonnier\n"
     ]
    },
    {
     "name": "stderr",
     "output_type": "stream",
     "text": [
      " 35%|███▌      | 25651/72487 [5:44:51<10:11:07,  1.28it/s]"
     ]
    },
    {
     "name": "stdout",
     "output_type": "stream",
     "text": [
      "kozane dou\n"
     ]
    },
    {
     "name": "stderr",
     "output_type": "stream",
     "text": [
      " 35%|███▌      | 25672/72487 [5:45:04<11:04:22,  1.17it/s]"
     ]
    },
    {
     "name": "stdout",
     "output_type": "stream",
     "text": [
      "group 700000 Circassian\n"
     ]
    },
    {
     "name": "stderr",
     "output_type": "stream",
     "text": [
      " 36%|███▌      | 25790/72487 [5:46:39<10:45:44,  1.21it/s]"
     ]
    },
    {
     "name": "stdout",
     "output_type": "stream",
     "text": [
      "organization VIIth Nizam\n"
     ]
    },
    {
     "name": "stderr",
     "output_type": "stream",
     "text": [
      " 36%|███▌      | 25916/72487 [5:48:19<7:22:34,  1.75it/s] "
     ]
    },
    {
     "name": "stdout",
     "output_type": "stream",
     "text": [
      "Time for the Perculator\n"
     ]
    },
    {
     "name": "stderr",
     "output_type": "stream",
     "text": [
      " 36%|███▌      | 25965/72487 [5:48:48<6:32:27,  1.98it/s] "
     ]
    },
    {
     "name": "stdout",
     "output_type": "stream",
     "text": [
      "Sarva-darana-sGraha\n"
     ]
    },
    {
     "name": "stderr",
     "output_type": "stream",
     "text": [
      " 36%|███▌      | 25983/72487 [5:49:01<9:50:56,  1.31it/s] "
     ]
    },
    {
     "name": "stdout",
     "output_type": "stream",
     "text": [
      "ISO 2006-2006-122006\n"
     ]
    },
    {
     "name": "stderr",
     "output_type": "stream",
     "text": [
      " 36%|███▌      | 25985/72487 [5:49:01<7:54:33,  1.63it/s]"
     ]
    },
    {
     "name": "stdout",
     "output_type": "stream",
     "text": [
      "\"2006-2006-122006\" ISO\n"
     ]
    },
    {
     "name": "stderr",
     "output_type": "stream",
     "text": [
      " 36%|███▌      | 26006/72487 [5:49:11<7:17:54,  1.77it/s]ignoring epigraph data for duplicate triple: ('p3', ':location', 't2')\n",
      "ignoring secondary node contexts for 'p3'\n",
      " 36%|███▌      | 26072/72487 [5:50:04<9:35:28,  1.34it/s] "
     ]
    },
    {
     "name": "stdout",
     "output_type": "stream",
     "text": [
      "G.R. N'Namdi Gallery\n"
     ]
    },
    {
     "name": "stderr",
     "output_type": "stream",
     "text": [
      " 36%|███▌      | 26104/72487 [5:50:21<12:14:45,  1.05it/s]ignoring epigraph data for duplicate triple: ('t2', ':wiki', '-')\n",
      " 36%|███▌      | 26235/72487 [5:52:06<10:12:11,  1.26it/s]"
     ]
    },
    {
     "name": "stdout",
     "output_type": "stream",
     "text": [
      "Surely You 're Joking PUNCT Mr. Feynman\n"
     ]
    },
    {
     "name": "stderr",
     "output_type": "stream",
     "text": [
      " 37%|███▋      | 26472/72487 [5:54:54<5:45:16,  2.22it/s] "
     ]
    },
    {
     "name": "stdout",
     "output_type": "stream",
     "text": [
      "Mahāsaccakasutta\n"
     ]
    },
    {
     "name": "stderr",
     "output_type": "stream",
     "text": [
      " 37%|███▋      | 26594/72487 [5:56:16<7:12:29,  1.77it/s] "
     ]
    },
    {
     "name": "stdout",
     "output_type": "stream",
     "text": [
      "of art Orpha-Fueaux à couleurs\n"
     ]
    },
    {
     "name": "stderr",
     "output_type": "stream",
     "text": [
      " 37%|███▋      | 26899/72487 [6:00:37<15:01:01,  1.19s/it]"
     ]
    },
    {
     "name": "stdout",
     "output_type": "stream",
     "text": [
      "WHRL-TV 35\n"
     ]
    },
    {
     "name": "stderr",
     "output_type": "stream",
     "text": [
      " 37%|███▋      | 26962/72487 [6:01:29<9:29:52,  1.33it/s] "
     ]
    },
    {
     "name": "stdout",
     "output_type": "stream",
     "text": [
      "Hauppauge 1212\n"
     ]
    },
    {
     "name": "stderr",
     "output_type": "stream",
     "text": [
      " 37%|███▋      | 26972/72487 [6:01:39<9:34:05,  1.32it/s] "
     ]
    },
    {
     "name": "stdout",
     "output_type": "stream",
     "text": [
      "Circulaire sur la langue et culture la régionales en Alsace\n"
     ]
    },
    {
     "name": "stderr",
     "output_type": "stream",
     "text": [
      " 37%|███▋      | 26975/72487 [6:01:41<9:50:31,  1.28it/s] "
     ]
    },
    {
     "name": "stdout",
     "output_type": "stream",
     "text": [
      "park Wet'NWild SplashTown\n"
     ]
    },
    {
     "name": "stderr",
     "output_type": "stream",
     "text": [
      " 37%|███▋      | 26982/72487 [6:01:51<20:21:56,  1.61s/it]"
     ]
    },
    {
     "name": "stdout",
     "output_type": "stream",
     "text": [
      "Lasix/fideurofide\n"
     ]
    },
    {
     "name": "stderr",
     "output_type": "stream",
     "text": [
      " 37%|███▋      | 27167/72487 [6:03:59<34:14:51,  2.72s/it]"
     ]
    },
    {
     "name": "stdout",
     "output_type": "stream",
     "text": [
      "Malika-i-Meraqui\n"
     ]
    },
    {
     "name": "stderr",
     "output_type": "stream",
     "text": [
      " 38%|███▊      | 27214/72487 [6:04:41<7:35:14,  1.66it/s] "
     ]
    },
    {
     "name": "stdout",
     "output_type": "stream",
     "text": [
      "La Anunciada\n"
     ]
    },
    {
     "name": "stderr",
     "output_type": "stream",
     "text": [
      " 38%|███▊      | 27238/72487 [6:05:06<7:44:43,  1.62it/s] "
     ]
    },
    {
     "name": "stdout",
     "output_type": "stream",
     "text": [
      "Tajq\n"
     ]
    },
    {
     "name": "stderr",
     "output_type": "stream",
     "text": [
      " 38%|███▊      | 27559/72487 [6:08:55<11:46:09,  1.06it/s]"
     ]
    },
    {
     "name": "stdout",
     "output_type": "stream",
     "text": [
      "Guurtiya\n",
      "Jaaljazeera\n",
      "Warlean\n"
     ]
    },
    {
     "name": "stderr",
     "output_type": "stream",
     "text": [
      " 38%|███▊      | 27627/72487 [6:09:53<10:21:11,  1.20it/s]"
     ]
    },
    {
     "name": "stdout",
     "output_type": "stream",
     "text": [
      "Rachide Sambu\n"
     ]
    },
    {
     "name": "stderr",
     "output_type": "stream",
     "text": [
      " 38%|███▊      | 27785/72487 [6:11:38<6:09:35,  2.02it/s] "
     ]
    },
    {
     "name": "stdout",
     "output_type": "stream",
     "text": [
      "Visigothia\n"
     ]
    },
    {
     "name": "stderr",
     "output_type": "stream",
     "text": [
      " 38%|███▊      | 27875/72487 [6:12:30<6:18:06,  1.97it/s] "
     ]
    },
    {
     "name": "stdout",
     "output_type": "stream",
     "text": [
      "Somsri Hananuntasuk\n"
     ]
    },
    {
     "name": "stderr",
     "output_type": "stream",
     "text": [
      " 38%|███▊      | 27891/72487 [6:12:42<7:16:33,  1.70it/s] "
     ]
    },
    {
     "name": "stdout",
     "output_type": "stream",
     "text": [
      "Clawshot\n"
     ]
    },
    {
     "name": "stderr",
     "output_type": "stream",
     "text": [
      " 39%|███▊      | 27922/72487 [6:13:14<11:21:46,  1.09it/s]"
     ]
    },
    {
     "name": "stdout",
     "output_type": "stream",
     "text": [
      "ECocene\n"
     ]
    },
    {
     "name": "stderr",
     "output_type": "stream",
     "text": [
      " 39%|███▊      | 27948/72487 [6:13:41<14:53:06,  1.20s/it]"
     ]
    },
    {
     "name": "stdout",
     "output_type": "stream",
     "text": [
      "3000000 Windsor–Detroit International Freedom Festival\n"
     ]
    },
    {
     "name": "stderr",
     "output_type": "stream",
     "text": [
      " 39%|███▊      | 27982/72487 [6:14:01<5:52:32,  2.10it/s] "
     ]
    },
    {
     "name": "stdout",
     "output_type": "stream",
     "text": [
      "Solanum brevicaule compl ex.\n"
     ]
    },
    {
     "name": "stderr",
     "output_type": "stream",
     "text": [
      " 39%|███▊      | 28006/72487 [6:14:16<8:11:43,  1.51it/s] "
     ]
    },
    {
     "name": "stdout",
     "output_type": "stream",
     "text": [
      "TCM Wineclub\n"
     ]
    },
    {
     "name": "stderr",
     "output_type": "stream",
     "text": [
      " 39%|███▊      | 28034/72487 [6:14:43<9:23:36,  1.31it/s] "
     ]
    },
    {
     "name": "stdout",
     "output_type": "stream",
     "text": [
      "neutrate-01 Europe\n"
     ]
    },
    {
     "name": "stderr",
     "output_type": "stream",
     "text": [
      " 39%|███▉      | 28211/72487 [6:17:05<6:40:08,  1.84it/s] "
     ]
    },
    {
     "name": "stdout",
     "output_type": "stream",
     "text": [
      "Hasan-al-Jalalal\n",
      "\"Hasan-al-Jalalal\" Armenia\n"
     ]
    },
    {
     "name": "stderr",
     "output_type": "stream",
     "text": [
      " 39%|███▉      | 28230/72487 [6:17:18<5:30:47,  2.23it/s] "
     ]
    },
    {
     "name": "stdout",
     "output_type": "stream",
     "text": [
      "group docrtrine Christian\n"
     ]
    },
    {
     "name": "stderr",
     "output_type": "stream",
     "text": [
      " 39%|███▉      | 28327/72487 [6:18:52<8:05:18,  1.52it/s] "
     ]
    },
    {
     "name": "stdout",
     "output_type": "stream",
     "text": [
      "\"Barthélemy\" Saint-Barlemy\n"
     ]
    },
    {
     "name": "stderr",
     "output_type": "stream",
     "text": [
      " 39%|███▉      | 28421/72487 [6:19:54<2:45:52,  4.43it/s] "
     ]
    },
    {
     "name": "stdout",
     "output_type": "stream",
     "text": [
      "KhorovÃ¯t Kontos\n"
     ]
    },
    {
     "name": "stderr",
     "output_type": "stream",
     "text": [
      " 39%|███▉      | 28441/72487 [6:20:14<8:01:15,  1.53it/s] "
     ]
    },
    {
     "name": "stdout",
     "output_type": "stream",
     "text": [
      "Chengdu-Dujiangyan-Jiuengo\n"
     ]
    },
    {
     "name": "stderr",
     "output_type": "stream",
     "text": [
      " 39%|███▉      | 28557/72487 [6:21:20<6:52:13,  1.78it/s] "
     ]
    },
    {
     "name": "stdout",
     "output_type": "stream",
     "text": [
      "Citti irredente\n"
     ]
    },
    {
     "name": "stderr",
     "output_type": "stream",
     "text": [
      " 40%|███▉      | 28637/72487 [6:22:21<11:20:57,  1.07it/s]"
     ]
    },
    {
     "name": "stdout",
     "output_type": "stream",
     "text": [
      "Anthonio Colve\n"
     ]
    },
    {
     "name": "stderr",
     "output_type": "stream",
     "text": [
      " 40%|███▉      | 28655/72487 [6:22:32<4:25:30,  2.75it/s] "
     ]
    },
    {
     "name": "stdout",
     "output_type": "stream",
     "text": [
      "ISO 12232:1998\n",
      "\"12232:1998\" EI\n"
     ]
    },
    {
     "name": "stderr",
     "output_type": "stream",
     "text": [
      " 40%|████      | 29000/72487 [6:26:54<5:09:37,  2.34it/s] "
     ]
    },
    {
     "name": "stdout",
     "output_type": "stream",
     "text": [
      "place Lodurva Jain\n",
      "place Sarun Mata Temple\n"
     ]
    },
    {
     "name": "stderr",
     "output_type": "stream",
     "text": [
      " 40%|████      | 29033/72487 [6:27:27<9:27:45,  1.28it/s] "
     ]
    },
    {
     "name": "stdout",
     "output_type": "stream",
     "text": [
      "Kathmandy Valley\n"
     ]
    },
    {
     "name": "stderr",
     "output_type": "stream",
     "text": [
      " 40%|████      | 29082/72487 [6:27:55<6:56:56,  1.74it/s] "
     ]
    },
    {
     "name": "stdout",
     "output_type": "stream",
     "text": [
      "303400 Tel Aviv\n",
      "1321000 Haifa\n"
     ]
    },
    {
     "name": "stderr",
     "output_type": "stream",
     "text": [
      " 40%|████      | 29173/72487 [6:29:15<8:53:54,  1.35it/s] "
     ]
    },
    {
     "name": "stdout",
     "output_type": "stream",
     "text": [
      "C-250 Flammbomben\n"
     ]
    },
    {
     "name": "stderr",
     "output_type": "stream",
     "text": [
      " 40%|████      | 29197/72487 [6:29:37<8:21:39,  1.44it/s] "
     ]
    },
    {
     "name": "stdout",
     "output_type": "stream",
     "text": [
      "c2 FST\n"
     ]
    },
    {
     "name": "stderr",
     "output_type": "stream",
     "text": [
      " 40%|████      | 29206/72487 [6:29:42<7:06:39,  1.69it/s]"
     ]
    },
    {
     "name": "stdout",
     "output_type": "stream",
     "text": [
      "Nondhaburi Telecommunications Training Centre\n"
     ]
    },
    {
     "name": "stderr",
     "output_type": "stream",
     "text": [
      " 40%|████      | 29208/72487 [6:29:46<12:44:25,  1.06s/it]"
     ]
    },
    {
     "name": "stdout",
     "output_type": "stream",
     "text": [
      "version ISO 12232\n"
     ]
    },
    {
     "name": "stderr",
     "output_type": "stream",
     "text": [
      " 40%|████      | 29273/72487 [6:30:28<8:28:56,  1.42it/s] "
     ]
    },
    {
     "name": "stdout",
     "output_type": "stream",
     "text": [
      "place Charkaman\n"
     ]
    },
    {
     "name": "stderr",
     "output_type": "stream",
     "text": [
      " 41%|████      | 29494/72487 [6:33:21<4:45:12,  2.51it/s] "
     ]
    },
    {
     "name": "stdout",
     "output_type": "stream",
     "text": [
      "Zipingpu Hydropower Plant\n"
     ]
    },
    {
     "name": "stderr",
     "output_type": "stream",
     "text": [
      " 41%|████      | 29651/72487 [6:35:42<8:55:05,  1.33it/s] "
     ]
    },
    {
     "name": "stdout",
     "output_type": "stream",
     "text": [
      "Birenda Bir Bikram Shah\n"
     ]
    },
    {
     "name": "stderr",
     "output_type": "stream",
     "text": [
      " 41%|████      | 29736/72487 [6:36:51<7:49:15,  1.52it/s] "
     ]
    },
    {
     "name": "stdout",
     "output_type": "stream",
     "text": [
      "Deutsche Univers al-Film AG\n"
     ]
    },
    {
     "name": "stderr",
     "output_type": "stream",
     "text": [
      " 41%|████      | 29754/72487 [6:37:09<15:23:10,  1.30s/it]"
     ]
    },
    {
     "name": "stdout",
     "output_type": "stream",
     "text": [
      "Ruch Euchzeki\n"
     ]
    },
    {
     "name": "stderr",
     "output_type": "stream",
     "text": [
      " 41%|████      | 29822/72487 [6:38:02<9:23:47,  1.26it/s] "
     ]
    },
    {
     "name": "stdout",
     "output_type": "stream",
     "text": [
      "\"KUHA\" Classical 91.7\n"
     ]
    },
    {
     "name": "stderr",
     "output_type": "stream",
     "text": [
      " 41%|████      | 29837/72487 [6:38:21<14:54:59,  1.26s/it]"
     ]
    },
    {
     "name": "stdout",
     "output_type": "stream",
     "text": [
      "stain-01 Ziehl–Neelsen\n"
     ]
    },
    {
     "name": "stderr",
     "output_type": "stream",
     "text": [
      " 41%|████      | 29860/72487 [6:38:43<10:22:27,  1.14it/s]"
     ]
    },
    {
     "name": "stdout",
     "output_type": "stream",
     "text": [
      "movement pope Turcophile\n"
     ]
    },
    {
     "name": "stderr",
     "output_type": "stream",
     "text": [
      " 41%|████      | 29873/72487 [6:38:53<4:33:59,  2.59it/s] "
     ]
    },
    {
     "name": "stdout",
     "output_type": "stream",
     "text": [
      "Leo Zanssen\n"
     ]
    },
    {
     "name": "stderr",
     "output_type": "stream",
     "text": [
      " 41%|████      | 29893/72487 [6:39:13<10:55:19,  1.08it/s]"
     ]
    },
    {
     "name": "stdout",
     "output_type": "stream",
     "text": [
      "Haqqai al-tafsir\n"
     ]
    },
    {
     "name": "stderr",
     "output_type": "stream",
     "text": [
      " 41%|████▏     | 29919/72487 [6:39:30<7:47:22,  1.52it/s] "
     ]
    },
    {
     "name": "stdout",
     "output_type": "stream",
     "text": [
      "C4c\n"
     ]
    },
    {
     "name": "stderr",
     "output_type": "stream",
     "text": [
      " 41%|████▏     | 30046/72487 [6:41:06<12:54:30,  1.09s/it]"
     ]
    },
    {
     "name": "stdout",
     "output_type": "stream",
     "text": [
      "jurisdiction administrate-01 Guadeloupe\n"
     ]
    },
    {
     "name": "stderr",
     "output_type": "stream",
     "text": [
      " 42%|████▏     | 30177/72487 [6:42:33<5:25:17,  2.17it/s] "
     ]
    },
    {
     "name": "stdout",
     "output_type": "stream",
     "text": [
      "group Pengngan Chamorro\n"
     ]
    },
    {
     "name": "stderr",
     "output_type": "stream",
     "text": [
      " 42%|████▏     | 30335/72487 [6:44:38<17:49:47,  1.52s/it]"
     ]
    },
    {
     "name": "stdout",
     "output_type": "stream",
     "text": [
      "90000000 Facebook\n"
     ]
    },
    {
     "name": "stderr",
     "output_type": "stream",
     "text": [
      " 42%|████▏     | 30463/72487 [6:46:00<4:34:18,  2.55it/s] "
     ]
    },
    {
     "name": "stdout",
     "output_type": "stream",
     "text": [
      "Heterosexu al-Homosexual Rating Scale\n"
     ]
    },
    {
     "name": "stderr",
     "output_type": "stream",
     "text": [
      " 42%|████▏     | 30508/72487 [6:46:38<8:09:51,  1.43it/s] "
     ]
    },
    {
     "name": "stdout",
     "output_type": "stream",
     "text": [
      "Rampura Aghucha\n"
     ]
    },
    {
     "name": "stderr",
     "output_type": "stream",
     "text": [
      " 42%|████▏     | 30525/72487 [6:46:55<10:37:23,  1.10it/s]"
     ]
    },
    {
     "name": "stdout",
     "output_type": "stream",
     "text": [
      "Dombrov Shtiebel\n"
     ]
    },
    {
     "name": "stderr",
     "output_type": "stream",
     "text": [
      " 42%|████▏     | 30581/72487 [6:47:36<4:56:41,  2.35it/s] "
     ]
    },
    {
     "name": "stdout",
     "output_type": "stream",
     "text": [
      "6400000000000 term PPP\n"
     ]
    },
    {
     "name": "stderr",
     "output_type": "stream",
     "text": [
      " 43%|████▎     | 31049/72487 [6:52:50<6:06:34,  1.88it/s] "
     ]
    },
    {
     "name": "stdout",
     "output_type": "stream",
     "text": [
      "region dog Alsatia\n"
     ]
    },
    {
     "name": "stderr",
     "output_type": "stream",
     "text": [
      " 43%|████▎     | 31065/72487 [6:53:02<7:10:10,  1.60it/s] "
     ]
    },
    {
     "name": "stdout",
     "output_type": "stream",
     "text": [
      "expressive Holy Mackerel\n"
     ]
    },
    {
     "name": "stderr",
     "output_type": "stream",
     "text": [
      " 43%|████▎     | 31198/72487 [6:54:49<5:59:35,  1.91it/s] "
     ]
    },
    {
     "name": "stdout",
     "output_type": "stream",
     "text": [
      "Taiyai\n"
     ]
    },
    {
     "name": "stderr",
     "output_type": "stream",
     "text": [
      " 43%|████▎     | 31226/72487 [6:55:24<12:51:32,  1.12s/it]"
     ]
    },
    {
     "name": "stdout",
     "output_type": "stream",
     "text": [
      "Delta-5-deaturase\n"
     ]
    },
    {
     "name": "stderr",
     "output_type": "stream",
     "text": [
      " 43%|████▎     | 31334/72487 [6:56:39<6:15:57,  1.82it/s] "
     ]
    },
    {
     "name": "stdout",
     "output_type": "stream",
     "text": [
      "power Capetia\n"
     ]
    },
    {
     "name": "stderr",
     "output_type": "stream",
     "text": [
      " 43%|████▎     | 31392/72487 [6:57:39<22:39:40,  1.99s/it]"
     ]
    },
    {
     "name": "stdout",
     "output_type": "stream",
     "text": [
      "organization Conseil d'atat\n"
     ]
    },
    {
     "name": "stderr",
     "output_type": "stream",
     "text": [
      " 43%|████▎     | 31417/72487 [6:58:11<12:47:42,  1.12s/it]"
     ]
    },
    {
     "name": "stdout",
     "output_type": "stream",
     "text": [
      "I2a1b1\n"
     ]
    },
    {
     "name": "stderr",
     "output_type": "stream",
     "text": [
      " 43%|████▎     | 31501/72487 [6:59:09<11:15:33,  1.01it/s]"
     ]
    },
    {
     "name": "stdout",
     "output_type": "stream",
     "text": [
      "place St Jumequantite's Chapel\n"
     ]
    },
    {
     "name": "stderr",
     "output_type": "stream",
     "text": [
      " 43%|████▎     | 31510/72487 [6:59:17<8:53:43,  1.28it/s] "
     ]
    },
    {
     "name": "stdout",
     "output_type": "stream",
     "text": [
      "organization House of Orange-Nauphau\n"
     ]
    },
    {
     "name": "stderr",
     "output_type": "stream",
     "text": [
      " 44%|████▎     | 31541/72487 [6:59:34<5:19:30,  2.14it/s] "
     ]
    },
    {
     "name": "stdout",
     "output_type": "stream",
     "text": [
      "QF9 Cwt\n"
     ]
    },
    {
     "name": "stderr",
     "output_type": "stream",
     "text": [
      " 44%|████▎     | 31603/72487 [7:00:15<4:25:25,  2.57it/s] ignoring epigraph data for duplicate triple: ('m', ':time', 's')\n",
      "ignoring secondary node contexts for 'm'\n",
      " 44%|████▎     | 31611/72487 [7:00:17<2:19:35,  4.88it/s]"
     ]
    },
    {
     "name": "stdout",
     "output_type": "stream",
     "text": [
      "molecule Hg I2a2\n"
     ]
    },
    {
     "name": "stderr",
     "output_type": "stream",
     "text": [
      " 44%|████▍     | 31728/72487 [7:01:47<7:59:21,  1.42it/s] "
     ]
    },
    {
     "name": "stdout",
     "output_type": "stream",
     "text": [
      "14FDR\n"
     ]
    },
    {
     "name": "stderr",
     "output_type": "stream",
     "text": [
      " 44%|████▍     | 31733/72487 [7:01:53<9:09:47,  1.24it/s] "
     ]
    },
    {
     "name": "stdout",
     "output_type": "stream",
     "text": [
      "district 7th Arondissement\n"
     ]
    },
    {
     "name": "stderr",
     "output_type": "stream",
     "text": [
      " 44%|████▍     | 31800/72487 [7:02:40<6:03:41,  1.86it/s] "
     ]
    },
    {
     "name": "stdout",
     "output_type": "stream",
     "text": [
      "La Maison Cubiste\n"
     ]
    },
    {
     "name": "stderr",
     "output_type": "stream",
     "text": [
      " 44%|████▍     | 31844/72487 [7:03:15<9:29:56,  1.19it/s] "
     ]
    },
    {
     "name": "stdout",
     "output_type": "stream",
     "text": [
      "party Schutzachta\n"
     ]
    },
    {
     "name": "stderr",
     "output_type": "stream",
     "text": [
      " 44%|████▍     | 31992/72487 [7:04:57<6:00:17,  1.87it/s] "
     ]
    },
    {
     "name": "stdout",
     "output_type": "stream",
     "text": [
      "Kunstnerunner\n"
     ]
    },
    {
     "name": "stderr",
     "output_type": "stream",
     "text": [
      " 44%|████▍     | 32045/72487 [7:05:34<7:27:22,  1.51it/s] "
     ]
    },
    {
     "name": "stdout",
     "output_type": "stream",
     "text": [
      "Eid ul-Fridr\n"
     ]
    },
    {
     "name": "stderr",
     "output_type": "stream",
     "text": [
      " 44%|████▍     | 32175/72487 [7:06:58<19:46:58,  1.77s/it]"
     ]
    },
    {
     "name": "stdout",
     "output_type": "stream",
     "text": [
      "ªĲĲĲĲĲĲĲĲâĸĲĲ\n"
     ]
    },
    {
     "name": "stderr",
     "output_type": "stream",
     "text": [
      " 44%|████▍     | 32243/72487 [7:08:04<5:30:48,  2.03it/s] "
     ]
    },
    {
     "name": "stdout",
     "output_type": "stream",
     "text": [
      "molecule mono-ceride\n",
      "molecule di-glucide\n"
     ]
    },
    {
     "name": "stderr",
     "output_type": "stream",
     "text": [
      " 45%|████▍     | 32546/72487 [7:11:35<10:23:21,  1.07it/s]"
     ]
    },
    {
     "name": "stdout",
     "output_type": "stream",
     "text": [
      "Franco-Probucian\n"
     ]
    },
    {
     "name": "stderr",
     "output_type": "stream",
     "text": [
      " 45%|████▍     | 32553/72487 [7:11:40<8:49:33,  1.26it/s] "
     ]
    },
    {
     "name": "stdout",
     "output_type": "stream",
     "text": [
      "Nstika\n"
     ]
    },
    {
     "name": "stderr",
     "output_type": "stream",
     "text": [
      " 45%|████▍     | 32555/72487 [7:11:44<12:57:12,  1.17s/it]"
     ]
    },
    {
     "name": "stdout",
     "output_type": "stream",
     "text": [
      "jiu-itsu Brazil\n"
     ]
    },
    {
     "name": "stderr",
     "output_type": "stream",
     "text": [
      " 45%|████▌     | 32620/72487 [7:12:20<6:08:51,  1.80it/s] "
     ]
    },
    {
     "name": "stdout",
     "output_type": "stream",
     "text": [
      "Groove that Wo n't Stop\n"
     ]
    },
    {
     "name": "stderr",
     "output_type": "stream",
     "text": [
      " 45%|████▌     | 32648/72487 [7:12:44<12:21:54,  1.12s/it]"
     ]
    },
    {
     "name": "stdout",
     "output_type": "stream",
     "text": [
      "region person Altaia\n"
     ]
    },
    {
     "name": "stderr",
     "output_type": "stream",
     "text": [
      " 45%|████▌     | 32663/72487 [7:13:03<6:11:11,  1.79it/s] "
     ]
    },
    {
     "name": "stdout",
     "output_type": "stream",
     "text": [
      "molecule copper Sides chalcopyrite Chalcocite\n"
     ]
    },
    {
     "name": "stderr",
     "output_type": "stream",
     "text": [
      " 45%|████▌     | 32703/72487 [7:13:31<9:28:21,  1.17it/s] "
     ]
    },
    {
     "name": "stdout",
     "output_type": "stream",
     "text": [
      "of art Comedia Dell'Artois\n"
     ]
    },
    {
     "name": "stderr",
     "output_type": "stream",
     "text": [
      " 45%|████▌     | 32731/72487 [7:13:54<14:16:38,  1.29s/it]"
     ]
    },
    {
     "name": "stdout",
     "output_type": "stream",
     "text": [
      "contingent military Visigothia\n"
     ]
    },
    {
     "name": "stderr",
     "output_type": "stream",
     "text": [
      " 45%|████▌     | 32824/72487 [7:15:00<12:24:44,  1.13s/it]"
     ]
    },
    {
     "name": "stdout",
     "output_type": "stream",
     "text": [
      "movement neighbor-01 Zapatist\n"
     ]
    },
    {
     "name": "stderr",
     "output_type": "stream",
     "text": [
      " 45%|████▌     | 32896/72487 [7:16:08<5:12:07,  2.11it/s] "
     ]
    },
    {
     "name": "stdout",
     "output_type": "stream",
     "text": [
      "Mencesk\n",
      "region \"Mencesk\" Central Asia\n"
     ]
    },
    {
     "name": "stderr",
     "output_type": "stream",
     "text": [
      " 45%|████▌     | 32904/72487 [7:16:18<9:38:07,  1.14it/s] "
     ]
    },
    {
     "name": "stdout",
     "output_type": "stream",
     "text": [
      "\"Tragoudistis\" Cyprus\n"
     ]
    },
    {
     "name": "stderr",
     "output_type": "stream",
     "text": [
      " 45%|████▌     | 32930/72487 [7:16:35<5:57:06,  1.85it/s] "
     ]
    },
    {
     "name": "stdout",
     "output_type": "stream",
     "text": [
      "m2 Whiggish\n"
     ]
    },
    {
     "name": "stderr",
     "output_type": "stream",
     "text": [
      " 45%|████▌     | 32940/72487 [7:16:44<11:45:37,  1.07s/it]"
     ]
    },
    {
     "name": "stdout",
     "output_type": "stream",
     "text": [
      "organization Al-Khil āfat al\n"
     ]
    },
    {
     "name": "stderr",
     "output_type": "stream",
     "text": [
      " 46%|████▌     | 32993/72487 [7:17:19<12:47:09,  1.17s/it]"
     ]
    },
    {
     "name": "stdout",
     "output_type": "stream",
     "text": [
      "DNAZip\n"
     ]
    },
    {
     "name": "stderr",
     "output_type": "stream",
     "text": [
      " 46%|████▌     | 32998/72487 [7:17:23<8:47:58,  1.25it/s] "
     ]
    },
    {
     "name": "stdout",
     "output_type": "stream",
     "text": [
      "string-entity Pretannia\n"
     ]
    },
    {
     "name": "stderr",
     "output_type": "stream",
     "text": [
      " 46%|████▌     | 33040/72487 [7:18:02<10:45:25,  1.02it/s]"
     ]
    },
    {
     "name": "stdout",
     "output_type": "stream",
     "text": [
      "Kppen-Geiger\n"
     ]
    },
    {
     "name": "stderr",
     "output_type": "stream",
     "text": [
      " 46%|████▌     | 33145/72487 [7:19:10<4:00:39,  2.72it/s] "
     ]
    },
    {
     "name": "stdout",
     "output_type": "stream",
     "text": [
      "De Synodia diœces\n"
     ]
    },
    {
     "name": "stderr",
     "output_type": "stream",
     "text": [
      " 46%|████▌     | 33193/72487 [7:19:36<6:46:13,  1.61it/s]"
     ]
    },
    {
     "name": "stdout",
     "output_type": "stream",
     "text": [
      "Südharzrevier\n",
      "Werrarevier\n"
     ]
    },
    {
     "name": "stderr",
     "output_type": "stream",
     "text": [
      " 46%|████▌     | 33353/72487 [7:21:30<3:37:37,  3.00it/s] "
     ]
    },
    {
     "name": "stdout",
     "output_type": "stream",
     "text": [
      "NBC Orthacoustic Curve\n"
     ]
    },
    {
     "name": "stderr",
     "output_type": "stream",
     "text": [
      " 46%|████▌     | 33468/72487 [7:22:49<9:12:29,  1.18it/s] "
     ]
    },
    {
     "name": "stdout",
     "output_type": "stream",
     "text": [
      "molecule 2Zn2\n"
     ]
    },
    {
     "name": "stderr",
     "output_type": "stream",
     "text": [
      " 46%|████▋     | 33527/72487 [7:23:28<8:51:12,  1.22it/s] "
     ]
    },
    {
     "name": "stdout",
     "output_type": "stream",
     "text": [
      "group \"Tibet\" viceregal Sakya\n"
     ]
    },
    {
     "name": "stderr",
     "output_type": "stream",
     "text": [
      " 46%|████▋     | 33551/72487 [7:23:51<15:33:01,  1.44s/it]"
     ]
    },
    {
     "name": "stdout",
     "output_type": "stream",
     "text": [
      "Batista Tagme Na Waie\n"
     ]
    },
    {
     "name": "stderr",
     "output_type": "stream",
     "text": [
      " 46%|████▋     | 33561/72487 [7:23:59<7:46:45,  1.39it/s] ignoring epigraph data for duplicate triple: ('s', ':ARG1', 'g')\n",
      "ignoring secondary node contexts for 'g'\n",
      " 46%|████▋     | 33651/72487 [7:24:54<9:19:01,  1.16it/s] "
     ]
    },
    {
     "name": "stdout",
     "output_type": "stream",
     "text": [
      "administrate-01 Creel\n"
     ]
    },
    {
     "name": "stderr",
     "output_type": "stream",
     "text": [
      " 47%|████▋     | 33851/72487 [7:26:59<7:43:28,  1.39it/s] "
     ]
    },
    {
     "name": "stdout",
     "output_type": "stream",
     "text": [
      "\"Gallo-Romani\" Ligurian\n"
     ]
    },
    {
     "name": "stderr",
     "output_type": "stream",
     "text": [
      " 47%|████▋     | 33853/72487 [7:27:01<8:31:39,  1.26it/s]"
     ]
    },
    {
     "name": "stdout",
     "output_type": "stream",
     "text": [
      "person Noradora\n"
     ]
    },
    {
     "name": "stderr",
     "output_type": "stream",
     "text": [
      " 47%|████▋     | 33885/72487 [7:27:29<9:12:54,  1.16it/s] "
     ]
    },
    {
     "name": "stdout",
     "output_type": "stream",
     "text": [
      "Biocanteen\n",
      "Sines Tecnopolo\n"
     ]
    },
    {
     "name": "stderr",
     "output_type": "stream",
     "text": [
      " 47%|████▋     | 33957/72487 [7:28:15<9:48:34,  1.09it/s] "
     ]
    },
    {
     "name": "stdout",
     "output_type": "stream",
     "text": [
      "Namchonjam\n"
     ]
    },
    {
     "name": "stderr",
     "output_type": "stream",
     "text": [
      " 47%|████▋     | 34368/72487 [7:32:59<4:50:19,  2.19it/s] "
     ]
    },
    {
     "name": "stdout",
     "output_type": "stream",
     "text": [
      "molecule 3f0\n"
     ]
    },
    {
     "name": "stderr",
     "output_type": "stream",
     "text": [
      " 48%|████▊     | 34452/72487 [7:34:08<6:01:57,  1.75it/s] "
     ]
    },
    {
     "name": "stdout",
     "output_type": "stream",
     "text": [
      "region Staats-Vlaeren\n",
      "region Zeeuws-Vlaeren\n",
      "region Staats-Lambburg\n",
      "region Staats-Opperregger\n"
     ]
    },
    {
     "name": "stderr",
     "output_type": "stream",
     "text": [
      " 48%|████▊     | 34518/72487 [7:35:13<10:57:55,  1.04s/it]"
     ]
    },
    {
     "name": "stdout",
     "output_type": "stream",
     "text": [
      "ÑĢÐ¾Ð²Ð½Ð¾Ðic Slovakia\n"
     ]
    },
    {
     "name": "stderr",
     "output_type": "stream",
     "text": [
      " 48%|████▊     | 34925/72487 [7:40:02<4:38:58,  2.24it/s] "
     ]
    },
    {
     "name": "stdout",
     "output_type": "stream",
     "text": [
      "Brihat-Shemu\n"
     ]
    },
    {
     "name": "stderr",
     "output_type": "stream",
     "text": [
      " 48%|████▊     | 34992/72487 [7:40:41<9:26:44,  1.10it/s] "
     ]
    },
    {
     "name": "stdout",
     "output_type": "stream",
     "text": [
      "s2 cochineal Armenia\n"
     ]
    },
    {
     "name": "stderr",
     "output_type": "stream",
     "text": [
      " 49%|████▊     | 35163/72487 [7:42:24<5:30:59,  1.88it/s] "
     ]
    },
    {
     "name": "stdout",
     "output_type": "stream",
     "text": [
      "8000000 Switzerland\n"
     ]
    },
    {
     "name": "stderr",
     "output_type": "stream",
     "text": [
      " 50%|████▉     | 36069/72487 [7:52:20<6:38:36,  1.52it/s] "
     ]
    },
    {
     "name": "stdout",
     "output_type": "stream",
     "text": [
      "Zhu Zhuliang\n"
     ]
    },
    {
     "name": "stderr",
     "output_type": "stream",
     "text": [
      " 50%|█████     | 36282/72487 [7:54:27<3:15:24,  3.09it/s] "
     ]
    },
    {
     "name": "stdout",
     "output_type": "stream",
     "text": [
      "Südharzrevier\n"
     ]
    },
    {
     "name": "stderr",
     "output_type": "stream",
     "text": [
      " 50%|█████     | 36285/72487 [7:54:28<4:07:38,  2.44it/s]"
     ]
    },
    {
     "name": "stdout",
     "output_type": "stream",
     "text": [
      "Werrarevier\n"
     ]
    },
    {
     "name": "stderr",
     "output_type": "stream",
     "text": [
      " 50%|█████     | 36394/72487 [7:56:00<4:14:57,  2.36it/s] ignoring epigraph data for duplicate triple: ('w', ':ARG0', 'a2')\n",
      "ignoring secondary node contexts for 'w'\n",
      " 50%|█████     | 36495/72487 [7:57:08<8:35:31,  1.16it/s] "
     ]
    },
    {
     "name": "stdout",
     "output_type": "stream",
     "text": [
      "power Capetia\n"
     ]
    },
    {
     "name": "stderr",
     "output_type": "stream",
     "text": [
      " 51%|█████     | 36627/72487 [7:58:55<34:46:04,  3.49s/it]"
     ]
    },
    {
     "name": "stdout",
     "output_type": "stream",
     "text": [
      "Beleumba\n",
      "group sling atupat åcho\n",
      "group ritual bury-01 Måtan Guma\n"
     ]
    },
    {
     "name": "stderr",
     "output_type": "stream",
     "text": [
      " 51%|█████     | 36790/72487 [8:00:41<7:44:21,  1.28it/s] "
     ]
    },
    {
     "name": "stdout",
     "output_type": "stream",
     "text": [
      "Vilanovin\n"
     ]
    },
    {
     "name": "stderr",
     "output_type": "stream",
     "text": [
      " 51%|█████     | 36834/72487 [8:01:21<14:22:08,  1.45s/it]"
     ]
    },
    {
     "name": "stdout",
     "output_type": "stream",
     "text": [
      "16500000 Germany\n"
     ]
    },
    {
     "name": "stderr",
     "output_type": "stream",
     "text": [
      " 51%|█████     | 37042/72487 [8:03:57<4:50:49,  2.03it/s] "
     ]
    },
    {
     "name": "stdout",
     "output_type": "stream",
     "text": [
      "encephelitis\n"
     ]
    },
    {
     "name": "stderr",
     "output_type": "stream",
     "text": [
      " 51%|█████     | 37045/72487 [8:03:59<4:57:12,  1.99it/s]"
     ]
    },
    {
     "name": "stdout",
     "output_type": "stream",
     "text": [
      "\"encephelitis\" Japan\n"
     ]
    },
    {
     "name": "stderr",
     "output_type": "stream",
     "text": [
      " 51%|█████▏    | 37155/72487 [8:05:16<4:35:02,  2.14it/s] "
     ]
    },
    {
     "name": "stdout",
     "output_type": "stream",
     "text": [
      "group \"Wa-Pa-Su\" Cree Indian\n"
     ]
    },
    {
     "name": "stderr",
     "output_type": "stream",
     "text": [
      " 52%|█████▏    | 37333/72487 [8:07:11<7:58:23,  1.22it/s] "
     ]
    },
    {
     "name": "stdout",
     "output_type": "stream",
     "text": [
      "Du Algate field effect\n"
     ]
    },
    {
     "name": "stderr",
     "output_type": "stream",
     "text": [
      " 52%|█████▏    | 37436/72487 [8:08:35<9:13:33,  1.06it/s] "
     ]
    },
    {
     "name": "stdout",
     "output_type": "stream",
     "text": [
      "Stoic Sphairos of Borysthenes\n"
     ]
    },
    {
     "name": "stderr",
     "output_type": "stream",
     "text": [
      " 52%|█████▏    | 37725/72487 [8:11:54<2:48:24,  3.44it/s] "
     ]
    },
    {
     "name": "stdout",
     "output_type": "stream",
     "text": [
      "Chihuahuan State Penitentiary\n"
     ]
    },
    {
     "name": "stderr",
     "output_type": "stream",
     "text": [
      " 52%|█████▏    | 37751/72487 [8:12:11<4:42:50,  2.05it/s] "
     ]
    },
    {
     "name": "stdout",
     "output_type": "stream",
     "text": [
      "\"PC-707\" ROK\n"
     ]
    },
    {
     "name": "stderr",
     "output_type": "stream",
     "text": [
      " 52%|█████▏    | 37820/72487 [8:13:08<5:40:35,  1.70it/s] ignoring epigraph data for duplicate triple: ('h', ':ARG1', 'w')\n",
      "ignoring secondary node contexts for 'h'\n",
      " 52%|█████▏    | 37832/72487 [8:13:22<11:24:11,  1.18s/it]"
     ]
    },
    {
     "name": "stdout",
     "output_type": "stream",
     "text": [
      "Sapapali i\n"
     ]
    },
    {
     "name": "stderr",
     "output_type": "stream",
     "text": [
      " 52%|█████▏    | 37894/72487 [8:14:12<6:40:31,  1.44it/s] "
     ]
    },
    {
     "name": "stdout",
     "output_type": "stream",
     "text": [
      "p3 Galatia\n"
     ]
    },
    {
     "name": "stderr",
     "output_type": "stream",
     "text": [
      " 52%|█████▏    | 37918/72487 [8:14:33<7:06:59,  1.35it/s] "
     ]
    },
    {
     "name": "stdout",
     "output_type": "stream",
     "text": [
      "Generation Al-Qaeda DBMS\n"
     ]
    },
    {
     "name": "stderr",
     "output_type": "stream",
     "text": [
      " 52%|█████▏    | 38009/72487 [8:15:24<9:01:11,  1.06it/s] ignoring epigraph data for duplicate triple: ('a4', ':subevent', 's2')\n",
      "ignoring secondary node contexts for 's2'\n",
      " 53%|█████▎    | 38103/72487 [8:16:26<3:32:28,  2.70it/s] "
     ]
    },
    {
     "name": "stdout",
     "output_type": "stream",
     "text": [
      "administrate-01 Gaddafist\n"
     ]
    },
    {
     "name": "stderr",
     "output_type": "stream",
     "text": [
      " 53%|█████▎    | 38158/72487 [8:17:09<4:10:17,  2.29it/s] "
     ]
    },
    {
     "name": "stdout",
     "output_type": "stream",
     "text": [
      "district Bouches-du-Rocne\n"
     ]
    },
    {
     "name": "stderr",
     "output_type": "stream",
     "text": [
      " 53%|█████▎    | 38159/72487 [8:17:11<8:13:21,  1.16it/s]"
     ]
    },
    {
     "name": "stdout",
     "output_type": "stream",
     "text": [
      "\"Bouches-du-Rocne\" cave Neolithic\n"
     ]
    },
    {
     "name": "stderr",
     "output_type": "stream",
     "text": [
      " 53%|█████▎    | 38163/72487 [8:17:16<9:39:00,  1.01s/it] "
     ]
    },
    {
     "name": "stdout",
     "output_type": "stream",
     "text": [
      "region Saxe-Weimar-Eichach\n"
     ]
    },
    {
     "name": "stderr",
     "output_type": "stream",
     "text": [
      " 53%|█████▎    | 38318/72487 [8:19:01<12:11:02,  1.28s/it]"
     ]
    },
    {
     "name": "stdout",
     "output_type": "stream",
     "text": [
      "Duany Plater-Kerberk & Company\n"
     ]
    },
    {
     "name": "stderr",
     "output_type": "stream",
     "text": [
      " 53%|█████▎    | 38353/72487 [8:19:42<6:53:19,  1.38it/s] "
     ]
    },
    {
     "name": "stdout",
     "output_type": "stream",
     "text": [
      "ISO 10217\n"
     ]
    },
    {
     "name": "stderr",
     "output_type": "stream",
     "text": [
      " 53%|█████▎    | 38433/72487 [8:20:39<7:11:28,  1.32it/s] "
     ]
    },
    {
     "name": "stdout",
     "output_type": "stream",
     "text": [
      "FEV1\n"
     ]
    },
    {
     "name": "stderr",
     "output_type": "stream",
     "text": [
      " 53%|█████▎    | 38462/72487 [8:21:00<6:45:08,  1.40it/s] "
     ]
    },
    {
     "name": "stdout",
     "output_type": "stream",
     "text": [
      "Viktor Poplonsky\n"
     ]
    },
    {
     "name": "stderr",
     "output_type": "stream",
     "text": [
      " 53%|█████▎    | 38491/72487 [8:21:22<6:38:41,  1.42it/s] "
     ]
    },
    {
     "name": "stdout",
     "output_type": "stream",
     "text": [
      "prio Pro Comperto Sane\n"
     ]
    },
    {
     "name": "stderr",
     "output_type": "stream",
     "text": [
      " 53%|█████▎    | 38527/72487 [8:22:00<13:42:48,  1.45s/it]"
     ]
    },
    {
     "name": "stdout",
     "output_type": "stream",
     "text": [
      "ChÅįjitsu-jitsu-gigaa\n"
     ]
    },
    {
     "name": "stderr",
     "output_type": "stream",
     "text": [
      " 53%|█████▎    | 38600/72487 [8:23:02<5:51:32,  1.61it/s] "
     ]
    },
    {
     "name": "stdout",
     "output_type": "stream",
     "text": [
      "\"d'Haples\" humanist France\n"
     ]
    },
    {
     "name": "stderr",
     "output_type": "stream",
     "text": [
      " 54%|█████▎    | 38835/72487 [8:25:23<7:38:05,  1.22it/s] "
     ]
    },
    {
     "name": "stdout",
     "output_type": "stream",
     "text": [
      "Triclinio Leoniano\n"
     ]
    },
    {
     "name": "stderr",
     "output_type": "stream",
     "text": [
      " 54%|█████▎    | 38907/72487 [8:26:25<11:27:55,  1.23s/it]"
     ]
    },
    {
     "name": "stdout",
     "output_type": "stream",
     "text": [
      "L'AmÃ©ricain\n"
     ]
    },
    {
     "name": "stderr",
     "output_type": "stream",
     "text": [
      " 54%|█████▍    | 38963/72487 [8:27:03<4:15:16,  2.19it/s] "
     ]
    },
    {
     "name": "stdout",
     "output_type": "stream",
     "text": [
      "region Nord-Pas-de-Jeremia\n"
     ]
    },
    {
     "name": "stderr",
     "output_type": "stream",
     "text": [
      " 54%|█████▍    | 39064/72487 [8:28:20<6:22:22,  1.46it/s] "
     ]
    },
    {
     "name": "stdout",
     "output_type": "stream",
     "text": [
      "party \"Valencia\" Franco-Orbitalism\n"
     ]
    },
    {
     "name": "stderr",
     "output_type": "stream",
     "text": [
      " 54%|█████▍    | 39236/72487 [8:30:14<6:52:53,  1.34it/s] "
     ]
    },
    {
     "name": "stdout",
     "output_type": "stream",
     "text": [
      "\"Badr\" Qurayha\n"
     ]
    },
    {
     "name": "stderr",
     "output_type": "stream",
     "text": [
      " 55%|█████▍    | 39793/72487 [8:36:19<4:35:39,  1.98it/s] "
     ]
    },
    {
     "name": "stdout",
     "output_type": "stream",
     "text": [
      "Muqhaq\n"
     ]
    },
    {
     "name": "stderr",
     "output_type": "stream",
     "text": [
      " 55%|█████▍    | 39794/72487 [8:36:21<7:06:30,  1.28it/s]"
     ]
    },
    {
     "name": "stdout",
     "output_type": "stream",
     "text": [
      "Thuthul\n"
     ]
    },
    {
     "name": "stderr",
     "output_type": "stream",
     "text": [
      " 55%|█████▌    | 40190/72487 [8:40:53<17:06:10,  1.91s/it]"
     ]
    },
    {
     "name": "stdout",
     "output_type": "stream",
     "text": [
      "Bartélemy Lebrun\n"
     ]
    },
    {
     "name": "stderr",
     "output_type": "stream",
     "text": [
      " 56%|█████▌    | 40240/72487 [8:41:15<3:08:16,  2.85it/s] "
     ]
    },
    {
     "name": "stdout",
     "output_type": "stream",
     "text": [
      "Matlubkhon Davlatov\n",
      "Murodali Alimardon\n"
     ]
    },
    {
     "name": "stderr",
     "output_type": "stream",
     "text": [
      " 56%|█████▌    | 40241/72487 [8:41:18<8:10:28,  1.10it/s]"
     ]
    },
    {
     "name": "stdout",
     "output_type": "stream",
     "text": [
      "Ruqiya Qurbanova\n"
     ]
    },
    {
     "name": "stderr",
     "output_type": "stream",
     "text": [
      " 56%|█████▌    | 40420/72487 [8:43:21<10:14:42,  1.15s/it]"
     ]
    },
    {
     "name": "stdout",
     "output_type": "stream",
     "text": [
      "Rue de Fabourg Saint-Honore\n"
     ]
    },
    {
     "name": "stderr",
     "output_type": "stream",
     "text": [
      " 56%|█████▌    | 40467/72487 [8:43:55<5:44:03,  1.55it/s] "
     ]
    },
    {
     "name": "stdout",
     "output_type": "stream",
     "text": [
      "462247 Armenia\n"
     ]
    },
    {
     "name": "stderr",
     "output_type": "stream",
     "text": [
      " 56%|█████▌    | 40717/72487 [8:46:24<6:04:33,  1.45it/s] "
     ]
    },
    {
     "name": "stdout",
     "output_type": "stream",
     "text": [
      "Mirajan\n"
     ]
    },
    {
     "name": "stderr",
     "output_type": "stream",
     "text": [
      " 56%|█████▋    | 40776/72487 [8:46:59<6:55:57,  1.27it/s] "
     ]
    },
    {
     "name": "stdout",
     "output_type": "stream",
     "text": [
      "03 Davoll et al v. Brown\n"
     ]
    },
    {
     "name": "stderr",
     "output_type": "stream",
     "text": [
      " 56%|█████▋    | 40780/72487 [8:47:04<11:20:43,  1.29s/it]"
     ]
    },
    {
     "name": "stdout",
     "output_type": "stream",
     "text": [
      "Phachu Kargyu\n"
     ]
    },
    {
     "name": "stderr",
     "output_type": "stream",
     "text": [
      " 56%|█████▋    | 40802/72487 [8:47:12<2:40:04,  3.30it/s] "
     ]
    },
    {
     "name": "stdout",
     "output_type": "stream",
     "text": [
      "MÄģsá¹Ľmattu\n"
     ]
    },
    {
     "name": "stderr",
     "output_type": "stream",
     "text": [
      " 57%|█████▋    | 40992/72487 [8:49:15<4:30:57,  1.94it/s] "
     ]
    },
    {
     "name": "stdout",
     "output_type": "stream",
     "text": [
      "program segment component Peabody's Improbable History\n"
     ]
    },
    {
     "name": "stderr",
     "output_type": "stream",
     "text": [
      " 57%|█████▋    | 41065/72487 [8:50:03<4:09:35,  2.10it/s] "
     ]
    },
    {
     "name": "stdout",
     "output_type": "stream",
     "text": [
      "Heian-kyyou\n"
     ]
    },
    {
     "name": "stderr",
     "output_type": "stream",
     "text": [
      " 57%|█████▋    | 41217/72487 [8:51:47<4:21:27,  1.99it/s] "
     ]
    },
    {
     "name": "stdout",
     "output_type": "stream",
     "text": [
      "p5 Cyclope\n"
     ]
    },
    {
     "name": "stderr",
     "output_type": "stream",
     "text": [
      " 57%|█████▋    | 41224/72487 [8:51:51<3:51:04,  2.25it/s]"
     ]
    },
    {
     "name": "stdout",
     "output_type": "stream",
     "text": [
      "Sanguda-2\n"
     ]
    },
    {
     "name": "stderr",
     "output_type": "stream",
     "text": [
      " 57%|█████▋    | 41421/72487 [8:54:11<8:06:27,  1.06it/s] "
     ]
    },
    {
     "name": "stdout",
     "output_type": "stream",
     "text": [
      "Oliver Aurenche\n"
     ]
    },
    {
     "name": "stderr",
     "output_type": "stream",
     "text": [
      " 57%|█████▋    | 41553/72487 [8:55:34<2:41:55,  3.18it/s] "
     ]
    },
    {
     "name": "stdout",
     "output_type": "stream",
     "text": [
      "60000 Barça\n"
     ]
    },
    {
     "name": "stderr",
     "output_type": "stream",
     "text": [
      " 57%|█████▋    | 41637/72487 [8:56:26<4:17:36,  2.00it/s] "
     ]
    },
    {
     "name": "stdout",
     "output_type": "stream",
     "text": [
      "c3 Kef\n"
     ]
    },
    {
     "name": "stderr",
     "output_type": "stream",
     "text": [
      " 58%|█████▊    | 42066/72487 [9:01:21<5:25:47,  1.56it/s] ignoring epigraph data for duplicate triple: ('s', ':ARG0', 'c2')\n",
      "ignoring secondary node contexts for 's'\n",
      " 58%|█████▊    | 42340/72487 [9:04:02<9:55:06,  1.18s/it] "
     ]
    },
    {
     "name": "stdout",
     "output_type": "stream",
     "text": [
      "Aiguile\n"
     ]
    },
    {
     "name": "stderr",
     "output_type": "stream",
     "text": [
      " 58%|█████▊    | 42344/72487 [9:04:08<11:40:38,  1.39s/it]"
     ]
    },
    {
     "name": "stdout",
     "output_type": "stream",
     "text": [
      "p2 Macabebe\n"
     ]
    },
    {
     "name": "stderr",
     "output_type": "stream",
     "text": [
      " 58%|█████▊    | 42376/72487 [9:04:26<6:44:18,  1.24it/s] "
     ]
    },
    {
     "name": "stdout",
     "output_type": "stream",
     "text": [
      "World Factook\n"
     ]
    },
    {
     "name": "stderr",
     "output_type": "stream",
     "text": [
      " 59%|█████▊    | 42478/72487 [9:05:24<4:08:28,  2.01it/s] "
     ]
    },
    {
     "name": "stdout",
     "output_type": "stream",
     "text": [
      "smooth-04 Cyathea brownii\n"
     ]
    },
    {
     "name": "stderr",
     "output_type": "stream",
     "text": [
      " 59%|█████▊    | 42490/72487 [9:05:39<8:48:03,  1.06s/it] ignoring epigraph data for duplicate triple: ('r4', ':part', 'q2')\n",
      "ignoring secondary node contexts for 'r4'\n",
      " 59%|█████▊    | 42549/72487 [9:06:26<5:25:45,  1.53it/s] "
     ]
    },
    {
     "name": "stdout",
     "output_type": "stream",
     "text": [
      "KUJUH-LP\n"
     ]
    },
    {
     "name": "stderr",
     "output_type": "stream",
     "text": [
      " 59%|█████▉    | 42655/72487 [9:07:29<6:48:19,  1.22it/s]"
     ]
    },
    {
     "name": "stdout",
     "output_type": "stream",
     "text": [
      "invade-01 Galaia\n"
     ]
    },
    {
     "name": "stderr",
     "output_type": "stream",
     "text": [
      " 59%|█████▉    | 42888/72487 [9:10:12<4:58:42,  1.65it/s] "
     ]
    },
    {
     "name": "stdout",
     "output_type": "stream",
     "text": [
      "group \"Koité\" pop Afrobeat\n"
     ]
    },
    {
     "name": "stderr",
     "output_type": "stream",
     "text": [
      " 59%|█████▉    | 42978/72487 [9:11:22<29:22:12,  3.58s/it]"
     ]
    },
    {
     "name": "stdout",
     "output_type": "stream",
     "text": [
      "group Mazananderan\n"
     ]
    },
    {
     "name": "stderr",
     "output_type": "stream",
     "text": [
      " 59%|█████▉    | 43046/72487 [9:12:13<6:18:00,  1.30it/s] "
     ]
    },
    {
     "name": "stdout",
     "output_type": "stream",
     "text": [
      "Boris Arkadievich Malyarchuk\n"
     ]
    },
    {
     "name": "stderr",
     "output_type": "stream",
     "text": [
      " 60%|█████▉    | 43135/72487 [9:13:16<13:33:18,  1.66s/it]"
     ]
    },
    {
     "name": "stdout",
     "output_type": "stream",
     "text": [
      "Tiskhenis-dzqali\n"
     ]
    },
    {
     "name": "stderr",
     "output_type": "stream",
     "text": [
      " 60%|█████▉    | 43154/72487 [9:13:27<3:09:06,  2.59it/s] "
     ]
    },
    {
     "name": "stdout",
     "output_type": "stream",
     "text": [
      "region Eje 1 Poniente\n"
     ]
    },
    {
     "name": "stderr",
     "output_type": "stream",
     "text": [
      " 60%|█████▉    | 43214/72487 [9:14:19<5:10:26,  1.57it/s] "
     ]
    },
    {
     "name": "stdout",
     "output_type": "stream",
     "text": [
      "type feat Du Al-Al-Al-Gradat\n"
     ]
    },
    {
     "name": "stderr",
     "output_type": "stream",
     "text": [
      " 60%|█████▉    | 43253/72487 [9:14:41<6:42:01,  1.21it/s]"
     ]
    },
    {
     "name": "stdout",
     "output_type": "stream",
     "text": [
      "Horace-BÃ©nectÃ© de Saussure\n"
     ]
    },
    {
     "name": "stderr",
     "output_type": "stream",
     "text": [
      " 60%|█████▉    | 43336/72487 [9:15:34<3:33:49,  2.27it/s] "
     ]
    },
    {
     "name": "stdout",
     "output_type": "stream",
     "text": [
      "High'n'Dry\n"
     ]
    },
    {
     "name": "stderr",
     "output_type": "stream",
     "text": [
      " 60%|██████    | 43578/72487 [9:18:08<2:49:29,  2.84it/s] "
     ]
    },
    {
     "name": "stdout",
     "output_type": "stream",
     "text": [
      "group 292000 Jew\n"
     ]
    },
    {
     "name": "stderr",
     "output_type": "stream",
     "text": [
      " 60%|██████    | 43618/72487 [9:18:32<4:37:13,  1.74it/s]"
     ]
    },
    {
     "name": "stdout",
     "output_type": "stream",
     "text": [
      "Mesnevne\n"
     ]
    },
    {
     "name": "stderr",
     "output_type": "stream",
     "text": [
      " 60%|██████    | 43631/72487 [9:18:42<7:02:51,  1.14it/s]"
     ]
    },
    {
     "name": "stdout",
     "output_type": "stream",
     "text": [
      "Pourgouri\n"
     ]
    },
    {
     "name": "stderr",
     "output_type": "stream",
     "text": [
      " 60%|██████    | 43651/72487 [9:19:00<9:37:23,  1.20s/it]"
     ]
    },
    {
     "name": "stdout",
     "output_type": "stream",
     "text": [
      "722 nd Aeromedical Staging Squadron\n"
     ]
    },
    {
     "name": "stderr",
     "output_type": "stream",
     "text": [
      " 60%|██████    | 43712/72487 [9:19:48<8:29:10,  1.06s/it] "
     ]
    },
    {
     "name": "stdout",
     "output_type": "stream",
     "text": [
      "Centralab Division\n"
     ]
    },
    {
     "name": "stderr",
     "output_type": "stream",
     "text": [
      " 60%|██████    | 43732/72487 [9:19:53<1:42:15,  4.69it/s]"
     ]
    },
    {
     "name": "stdout",
     "output_type": "stream",
     "text": [
      "Maroñas Racecourse\n"
     ]
    },
    {
     "name": "stderr",
     "output_type": "stream",
     "text": [
      " 60%|██████    | 43772/72487 [9:20:20<7:00:07,  1.14it/s] "
     ]
    },
    {
     "name": "stdout",
     "output_type": "stream",
     "text": [
      "Corso Calatifimi\n"
     ]
    },
    {
     "name": "stderr",
     "output_type": "stream",
     "text": [
      " 60%|██████    | 43846/72487 [9:21:14<8:08:43,  1.02s/it] "
     ]
    },
    {
     "name": "stdout",
     "output_type": "stream",
     "text": [
      "Falekaupe\n"
     ]
    },
    {
     "name": "stderr",
     "output_type": "stream",
     "text": [
      " 61%|██████    | 44072/72487 [9:23:37<6:30:36,  1.21it/s] "
     ]
    },
    {
     "name": "stdout",
     "output_type": "stream",
     "text": [
      "Assistance publique-HÃ´pital de Paris\n"
     ]
    },
    {
     "name": "stderr",
     "output_type": "stream",
     "text": [
      " 61%|██████    | 44082/72487 [9:23:43<6:20:17,  1.24it/s]"
     ]
    },
    {
     "name": "stdout",
     "output_type": "stream",
     "text": [
      "Homoeon\n"
     ]
    },
    {
     "name": "stderr",
     "output_type": "stream",
     "text": [
      " 61%|██████    | 44221/72487 [9:25:00<4:31:27,  1.74it/s] "
     ]
    },
    {
     "name": "stdout",
     "output_type": "stream",
     "text": [
      "ComÃ©die-Montaise\n"
     ]
    },
    {
     "name": "stderr",
     "output_type": "stream",
     "text": [
      " 61%|██████    | 44226/72487 [9:25:03<5:09:55,  1.52it/s]"
     ]
    },
    {
     "name": "stdout",
     "output_type": "stream",
     "text": [
      "group \"Arondissement\" Hindu\n"
     ]
    },
    {
     "name": "stderr",
     "output_type": "stream",
     "text": [
      " 61%|██████    | 44232/72487 [9:25:14<10:36:19,  1.35s/it]"
     ]
    },
    {
     "name": "stdout",
     "output_type": "stream",
     "text": [
      "\"Romanize\" Illyrian\n",
      "\"Hellenize\" Thracia\n"
     ]
    },
    {
     "name": "stderr",
     "output_type": "stream",
     "text": [
      " 61%|██████▏   | 44457/72487 [9:28:03<3:27:15,  2.25it/s] "
     ]
    },
    {
     "name": "stdout",
     "output_type": "stream",
     "text": [
      "group 269196 Roman Catholic\n"
     ]
    },
    {
     "name": "stderr",
     "output_type": "stream",
     "text": [
      " 61%|██████▏   | 44533/72487 [9:28:58<3:39:23,  2.12it/s] "
     ]
    },
    {
     "name": "stdout",
     "output_type": "stream",
     "text": [
      "Sidi Barrany\n"
     ]
    },
    {
     "name": "stderr",
     "output_type": "stream",
     "text": [
      " 62%|██████▏   | 44616/72487 [9:29:38<3:57:37,  1.95it/s]"
     ]
    },
    {
     "name": "stdout",
     "output_type": "stream",
     "text": [
      "region Hsiajiang\n"
     ]
    },
    {
     "name": "stderr",
     "output_type": "stream",
     "text": [
      " 62%|██████▏   | 44755/72487 [9:30:55<2:33:03,  3.02it/s]"
     ]
    },
    {
     "name": "stdout",
     "output_type": "stream",
     "text": [
      "group c3 indigenous Meso-American\n"
     ]
    },
    {
     "name": "stderr",
     "output_type": "stream",
     "text": [
      " 62%|██████▏   | 44876/72487 [9:32:18<4:44:27,  1.62it/s] "
     ]
    },
    {
     "name": "stdout",
     "output_type": "stream",
     "text": [
      "\"al-musette\" France\n"
     ]
    },
    {
     "name": "stderr",
     "output_type": "stream",
     "text": [
      " 62%|██████▏   | 45089/72487 [9:34:27<2:47:48,  2.72it/s] ignoring epigraph data for duplicate triple: ('b', ':ARG1', 'p3')\n",
      "ignoring secondary node contexts for 'b'\n",
      " 62%|██████▏   | 45144/72487 [9:35:06<2:01:09,  3.76it/s] "
     ]
    },
    {
     "name": "stdout",
     "output_type": "stream",
     "text": [
      "Meerassee\n"
     ]
    },
    {
     "name": "stderr",
     "output_type": "stream",
     "text": [
      " 62%|██████▏   | 45160/72487 [9:35:14<6:17:27,  1.21it/s]ignoring epigraph data for duplicate triple: ('h', ':ARG0', 'p2')\n",
      "ignoring secondary node contexts for 'p2'\n",
      " 62%|██████▏   | 45229/72487 [9:35:51<4:00:23,  1.89it/s]"
     ]
    },
    {
     "name": "stdout",
     "output_type": "stream",
     "text": [
      "Champs-lyses\n"
     ]
    },
    {
     "name": "stderr",
     "output_type": "stream",
     "text": [
      " 62%|██████▏   | 45267/72487 [9:36:19<3:09:57,  2.39it/s] "
     ]
    },
    {
     "name": "stdout",
     "output_type": "stream",
     "text": [
      "Punala\n"
     ]
    },
    {
     "name": "stderr",
     "output_type": "stream",
     "text": [
      " 63%|██████▎   | 45450/72487 [9:38:04<4:35:28,  1.64it/s]"
     ]
    },
    {
     "name": "stdout",
     "output_type": "stream",
     "text": [
      "\"POSIX\" TZ\n"
     ]
    },
    {
     "name": "stderr",
     "output_type": "stream",
     "text": [
      " 63%|██████▎   | 45483/72487 [9:38:22<4:30:19,  1.66it/s]"
     ]
    },
    {
     "name": "stdout",
     "output_type": "stream",
     "text": [
      "Samoan TlÄģna\n"
     ]
    },
    {
     "name": "stderr",
     "output_type": "stream",
     "text": [
      " 63%|██████▎   | 45825/72487 [9:41:38<7:05:58,  1.04it/s] "
     ]
    },
    {
     "name": "stdout",
     "output_type": "stream",
     "text": [
      "Lenc3\n"
     ]
    },
    {
     "name": "stderr",
     "output_type": "stream",
     "text": [
      " 63%|██████▎   | 45882/72487 [9:42:22<5:34:57,  1.32it/s]"
     ]
    },
    {
     "name": "stdout",
     "output_type": "stream",
     "text": [
      "group 5000000 Jew\n"
     ]
    },
    {
     "name": "stderr",
     "output_type": "stream",
     "text": [
      " 63%|██████▎   | 45910/72487 [9:42:40<6:23:48,  1.15it/s]"
     ]
    },
    {
     "name": "stdout",
     "output_type": "stream",
     "text": [
      "Ballhofeins\n",
      "Ballhofzwei\n"
     ]
    },
    {
     "name": "stderr",
     "output_type": "stream",
     "text": [
      " 63%|██████▎   | 45987/72487 [9:43:51<4:23:43,  1.67it/s] "
     ]
    },
    {
     "name": "stdout",
     "output_type": "stream",
     "text": [
      "region person Visigothia\n"
     ]
    },
    {
     "name": "stderr",
     "output_type": "stream",
     "text": [
      " 63%|██████▎   | 46021/72487 [9:44:14<4:39:24,  1.58it/s]"
     ]
    },
    {
     "name": "stdout",
     "output_type": "stream",
     "text": [
      "group Politecnici\n"
     ]
    },
    {
     "name": "stderr",
     "output_type": "stream",
     "text": [
      " 64%|██████▎   | 46148/72487 [9:45:32<4:01:14,  1.82it/s] "
     ]
    },
    {
     "name": "stdout",
     "output_type": "stream",
     "text": [
      "CaCaquara\n"
     ]
    },
    {
     "name": "stderr",
     "output_type": "stream",
     "text": [
      " 64%|██████▎   | 46197/72487 [9:46:02<2:08:29,  3.41it/s]ignoring epigraph data for duplicate triple: ('p3', ':ARG0', 'g3')\n",
      "ignoring secondary node contexts for 'p3'\n",
      " 64%|██████▎   | 46200/72487 [9:46:07<7:45:42,  1.06s/it]"
     ]
    },
    {
     "name": "stdout",
     "output_type": "stream",
     "text": [
      "group force accultuate-01 Chamorros\n"
     ]
    },
    {
     "name": "stderr",
     "output_type": "stream",
     "text": [
      " 64%|██████▍   | 46337/72487 [9:47:38<9:37:32,  1.33s/it]"
     ]
    },
    {
     "name": "stdout",
     "output_type": "stream",
     "text": [
      "\"T-3534\" Soviet Union\n"
     ]
    },
    {
     "name": "stderr",
     "output_type": "stream",
     "text": [
      " 64%|██████▍   | 46565/72487 [9:50:00<9:02:16,  1.26s/it] "
     ]
    },
    {
     "name": "stdout",
     "output_type": "stream",
     "text": [
      "district Square d'Orl éans\n"
     ]
    },
    {
     "name": "stderr",
     "output_type": "stream",
     "text": [
      " 64%|██████▍   | 46574/72487 [9:50:07<4:50:03,  1.49it/s]"
     ]
    },
    {
     "name": "stdout",
     "output_type": "stream",
     "text": [
      "Vanu Bhuta\n"
     ]
    },
    {
     "name": "stderr",
     "output_type": "stream",
     "text": [
      " 65%|██████▍   | 46848/72487 [9:52:58<4:03:23,  1.76it/s] "
     ]
    },
    {
     "name": "stdout",
     "output_type": "stream",
     "text": [
      "Barr & Stroud UB2\n"
     ]
    },
    {
     "name": "stderr",
     "output_type": "stream",
     "text": [
      " 65%|██████▍   | 47075/72487 [9:55:37<2:52:46,  2.45it/s] "
     ]
    },
    {
     "name": "stdout",
     "output_type": "stream",
     "text": [
      "Kiaikatoi\n"
     ]
    },
    {
     "name": "stderr",
     "output_type": "stream",
     "text": [
      " 65%|██████▌   | 47149/72487 [9:56:24<1:50:06,  3.84it/s] "
     ]
    },
    {
     "name": "stdout",
     "output_type": "stream",
     "text": [
      "p3 Cubist\n"
     ]
    },
    {
     "name": "stderr",
     "output_type": "stream",
     "text": [
      " 65%|██████▌   | 47360/72487 [9:58:51<2:10:26,  3.21it/s] "
     ]
    },
    {
     "name": "stdout",
     "output_type": "stream",
     "text": [
      "Biomerge-Digivolve\n"
     ]
    },
    {
     "name": "stderr",
     "output_type": "stream",
     "text": [
      " 66%|██████▌   | 47702/72487 [10:02:44<7:51:06,  1.14s/it] "
     ]
    },
    {
     "name": "stdout",
     "output_type": "stream",
     "text": [
      "acid haplogroup Mitogen-activated protein\n"
     ]
    },
    {
     "name": "stderr",
     "output_type": "stream",
     "text": [
      " 66%|██████▌   | 47777/72487 [10:03:22<4:27:38,  1.54it/s]"
     ]
    },
    {
     "name": "stdout",
     "output_type": "stream",
     "text": [
      "group \"Greece\" neo-Asclesiastical\n"
     ]
    },
    {
     "name": "stderr",
     "output_type": "stream",
     "text": [
      " 66%|██████▌   | 47848/72487 [10:03:52<1:40:02,  4.11it/s]"
     ]
    },
    {
     "name": "stdout",
     "output_type": "stream",
     "text": [
      "region Tamaulipus Semi-Arid Plain\n"
     ]
    },
    {
     "name": "stderr",
     "output_type": "stream",
     "text": [
      " 66%|██████▌   | 47855/72487 [10:04:01<5:22:45,  1.27it/s]"
     ]
    },
    {
     "name": "stdout",
     "output_type": "stream",
     "text": [
      "group \"al-D'Inqwazim\" other Islam\n",
      "Ch'ongch\n"
     ]
    },
    {
     "name": "stderr",
     "output_type": "stream",
     "text": [
      " 66%|██████▌   | 47948/72487 [10:04:58<3:41:52,  1.84it/s] "
     ]
    },
    {
     "name": "stdout",
     "output_type": "stream",
     "text": [
      "Alpanschluss\n"
     ]
    },
    {
     "name": "stderr",
     "output_type": "stream",
     "text": [
      " 66%|██████▌   | 48011/72487 [10:05:41<3:56:49,  1.72it/s] "
     ]
    },
    {
     "name": "stdout",
     "output_type": "stream",
     "text": [
      "\"Iraquis\" Africa\n"
     ]
    },
    {
     "name": "stderr",
     "output_type": "stream",
     "text": [
      " 67%|██████▋   | 48278/72487 [10:08:39<2:37:24,  2.56it/s] "
     ]
    },
    {
     "name": "stdout",
     "output_type": "stream",
     "text": [
      "Judo-Malayana\n",
      "Judo-Malayana\n"
     ]
    },
    {
     "name": "stderr",
     "output_type": "stream",
     "text": [
      " 67%|██████▋   | 48417/72487 [10:10:10<6:08:48,  1.09it/s] "
     ]
    },
    {
     "name": "stdout",
     "output_type": "stream",
     "text": [
      "molecule KJ2RK\n"
     ]
    },
    {
     "name": "stderr",
     "output_type": "stream",
     "text": [
      " 67%|██████▋   | 48470/72487 [10:10:44<2:23:16,  2.79it/s]"
     ]
    },
    {
     "name": "stdout",
     "output_type": "stream",
     "text": [
      "Pflastergeld\n"
     ]
    },
    {
     "name": "stderr",
     "output_type": "stream",
     "text": [
      " 67%|██████▋   | 48514/72487 [10:11:12<3:26:46,  1.93it/s]"
     ]
    },
    {
     "name": "stdout",
     "output_type": "stream",
     "text": [
      "elect-01 South Autralia\n"
     ]
    },
    {
     "name": "stderr",
     "output_type": "stream",
     "text": [
      " 67%|██████▋   | 48529/72487 [10:11:25<4:28:34,  1.49it/s]"
     ]
    },
    {
     "name": "stdout",
     "output_type": "stream",
     "text": [
      "molecule scilliroside\n"
     ]
    },
    {
     "name": "stderr",
     "output_type": "stream",
     "text": [
      " 67%|██████▋   | 48610/72487 [10:12:15<4:27:06,  1.49it/s]"
     ]
    },
    {
     "name": "stdout",
     "output_type": "stream",
     "text": [
      "place Theotokos Paregoritissa Church\n"
     ]
    },
    {
     "name": "stderr",
     "output_type": "stream",
     "text": [
      " 67%|██████▋   | 48777/72487 [10:13:57<3:26:12,  1.92it/s] "
     ]
    },
    {
     "name": "stdout",
     "output_type": "stream",
     "text": [
      "Kyyujitsu\n"
     ]
    },
    {
     "name": "stderr",
     "output_type": "stream",
     "text": [
      " 67%|██████▋   | 48890/72487 [10:14:55<2:15:40,  2.90it/s]"
     ]
    },
    {
     "name": "stdout",
     "output_type": "stream",
     "text": [
      "type 8610 Lockheed C-121 Constellation\n"
     ]
    },
    {
     "name": "stderr",
     "output_type": "stream",
     "text": [
      " 68%|██████▊   | 49094/72487 [10:17:23<4:28:13,  1.45it/s] "
     ]
    },
    {
     "name": "stdout",
     "output_type": "stream",
     "text": [
      "Sir R A Standale\n"
     ]
    },
    {
     "name": "stderr",
     "output_type": "stream",
     "text": [
      " 68%|██████▊   | 49354/72487 [10:19:48<3:20:52,  1.92it/s]"
     ]
    },
    {
     "name": "stdout",
     "output_type": "stream",
     "text": [
      "al-tadr\n"
     ]
    },
    {
     "name": "stderr",
     "output_type": "stream",
     "text": [
      " 68%|██████▊   | 49374/72487 [10:20:10<7:31:08,  1.17s/it]"
     ]
    },
    {
     "name": "stdout",
     "output_type": "stream",
     "text": [
      "cult Tusco\n"
     ]
    },
    {
     "name": "stderr",
     "output_type": "stream",
     "text": [
      " 68%|██████▊   | 49395/72487 [10:20:22<1:46:01,  3.63it/s] "
     ]
    },
    {
     "name": "stdout",
     "output_type": "stream",
     "text": [
      "s2 Cremonese\n"
     ]
    },
    {
     "name": "stderr",
     "output_type": "stream",
     "text": [
      " 69%|██████▊   | 49680/72487 [10:23:04<3:24:40,  1.86it/s] "
     ]
    },
    {
     "name": "stdout",
     "output_type": "stream",
     "text": [
      "Mastercard Global Expositor Destination Cities Ind\n"
     ]
    },
    {
     "name": "stderr",
     "output_type": "stream",
     "text": [
      " 69%|██████▊   | 49773/72487 [10:24:03<2:27:29,  2.57it/s] ignoring epigraph data for duplicate triple: ('h', ':ARG1', 'e')\n",
      "ignoring secondary node contexts for 'h'\n",
      " 69%|██████▉   | 49887/72487 [10:25:18<3:36:52,  1.74it/s] "
     ]
    },
    {
     "name": "stdout",
     "output_type": "stream",
     "text": [
      "person Gentia\n"
     ]
    },
    {
     "name": "stderr",
     "output_type": "stream",
     "text": [
      " 69%|██████▉   | 49909/72487 [10:25:35<6:36:35,  1.05s/it]"
     ]
    },
    {
     "name": "stdout",
     "output_type": "stream",
     "text": [
      "Olegovichi\n",
      "Yaroslavoslav\n"
     ]
    },
    {
     "name": "stderr",
     "output_type": "stream",
     "text": [
      " 69%|██████▉   | 49922/72487 [10:25:46<3:21:41,  1.86it/s] "
     ]
    },
    {
     "name": "stdout",
     "output_type": "stream",
     "text": [
      "entity La Reyne s'avisera\n"
     ]
    },
    {
     "name": "stderr",
     "output_type": "stream",
     "text": [
      " 69%|██████▉   | 49943/72487 [10:25:56<2:00:24,  3.12it/s]"
     ]
    },
    {
     "name": "stdout",
     "output_type": "stream",
     "text": [
      "Yingxia-Beichuan fracture-01\n"
     ]
    },
    {
     "name": "stderr",
     "output_type": "stream",
     "text": [
      " 69%|██████▉   | 50090/72487 [10:27:26<1:56:07,  3.21it/s] "
     ]
    },
    {
     "name": "stdout",
     "output_type": "stream",
     "text": [
      "Oklo Fossil Reactors\n"
     ]
    },
    {
     "name": "stderr",
     "output_type": "stream",
     "text": [
      " 69%|██████▉   | 50220/72487 [10:28:45<3:12:06,  1.93it/s]"
     ]
    },
    {
     "name": "stdout",
     "output_type": "stream",
     "text": [
      "molecule Cu5Sn6\n",
      "molecule Ag3Cu\n"
     ]
    },
    {
     "name": "stderr",
     "output_type": "stream",
     "text": [
      " 70%|██████▉   | 50398/72487 [10:30:42<4:53:54,  1.25it/s] "
     ]
    }
   ],
   "source": [
    "\n",
    "# /home/matthew/workspace/Applied_deep_learning/amr_workspace/data/ax_ensembled_AMR3_wiki.txt\n",
    "\n",
    "with open('/mnt/e/workspace/UCL_master_project/Get_wiki/AMR_without_wiki/ax_ensembled_AMR3_wiki.txt', 'r') as f:\n",
    "    dataset = f.read()\n",
    "\n",
    "# split the data by '\\n\\n'\n",
    "data = dataset.split('\\n\\n')\n",
    "# Load the AMR string into a Penman graph\n",
    "graph = penman.decode(data[0])\n",
    "\n",
    "# decode the graph back to AMR string\n",
    "amr_string = penman.encode(graph)\n",
    "for i,amr in enumerate(tqdm(data)):\n",
    "    if ':wiki -' in amr:\n",
    "        graph = penman.decode(amr)\n",
    "        wiki_names , wiki_idx = find_wiki_names(graph,amr)\n",
    "        graph = add_wiki_tag(graph, wiki_idx, wiki_names)\n",
    "        amr_string = penman.encode(graph)\n",
    "        data[i] = amr_string\n",
    "\n",
    "# write the data back to the file\n",
    "with open('/mnt/e/workspace/UCL_master_project/Get_wiki/amr_with_wiki/ax_ensembled_AMR3_wiki_updated.txt', 'w') as f:\n",
    "    f.write('\\n\\n'.join(data))"
   ]
  }
 ],
 "metadata": {
  "kernelspec": {
   "display_name": "ADL",
   "language": "python",
   "name": "python3"
  },
  "language_info": {
   "codemirror_mode": {
    "name": "ipython",
    "version": 3
   },
   "file_extension": ".py",
   "mimetype": "text/x-python",
   "name": "python",
   "nbconvert_exporter": "python",
   "pygments_lexer": "ipython3",
   "version": "3.8.19"
  }
 },
 "nbformat": 4,
 "nbformat_minor": 2
}
