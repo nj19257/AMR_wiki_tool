{
 "cells": [
  {
   "cell_type": "markdown",
   "metadata": {},
   "source": [
    "# Inject the wiki tag for the data"
   ]
  },
  {
   "cell_type": "code",
   "execution_count": 1,
   "metadata": {},
   "outputs": [
    {
     "name": "stdout",
     "output_type": "stream",
     "text": [
      "Number of processors:  6\n"
     ]
    }
   ],
   "source": [
    "import json\n",
    "import penman\n",
    "from penman.graph import Graph\n",
    "import multiprocessing\n",
    "print(\"Number of processors: \", multiprocessing.cpu_count())"
   ]
  },
  {
   "cell_type": "code",
   "execution_count": 2,
   "metadata": {},
   "outputs": [],
   "source": [
    "def inject_wiki(data):\n",
    "    if ':name' in data:\n",
    "        amr = penman.decode(data)\n",
    "        list_amr = list(amr.triples)\n",
    "        pointer = 0\n",
    "        for idx ,triple in enumerate(amr.triples):\n",
    "            if triple[1] == \":name\":\n",
    "                if amr.triples[idx-1][1] == ':wiki':\n",
    "                    print(\"wiki already exists\")\n",
    "                    copy = list(list_amr[idx+pointer-1])\n",
    "                    copy[2] = '-'\n",
    "                    list_amr[idx+pointer-1] = tuple(copy)\n",
    "                    pass\n",
    "                # insert wiki before :name at list_amr[pointer]\n",
    "                else:\n",
    "                    list_amr.insert(idx+pointer, (list_amr[idx+pointer][0], ':wiki', '-' ))\n",
    "                    pointer += 1\n",
    "        amr.triples = list_amr\n",
    "        data = penman.encode(amr)\n",
    "        return data\n",
    "\n",
    "    else:\n",
    "        return data"
   ]
  },
  {
   "cell_type": "code",
   "execution_count": 12,
   "metadata": {},
   "outputs": [
    {
     "name": "stdout",
     "output_type": "stream",
     "text": [
      "(c4 / contain-01\n",
      "    :ARG0 (c / city\n",
      "             :wiki -\n",
      "             :name (n / name\n",
      "                      :op1 \"London\"))\n",
      "    :ARG1 (s2 / site\n",
      "              :quant 4\n",
      "              :ARG1-of (m2 / mean-01\n",
      "                           :ARG2 (a / and\n",
      "                                    :op1 (b / building\n",
      "                                            :wiki -\n",
      "                                            :name (n3 / name\n",
      "                                                      :op1 \"Tower\"\n",
      "                                                      :op2 \"of\"\n",
      "                                                      :op3 \"London\"))\n",
      "                                    :op2 (p / park\n",
      "                                            :wiki -\n",
      "                                            :name (n4 / name\n",
      "                                                      :op1 \"Kew\"\n",
      "                                                      :op2 \"Gardens\"))\n",
      "                                    :op3 (s3 / site\n",
      "                                             :ARG2-of (c3 / comprise-01\n",
      "                                                          :ARG1 (a2 / and\n",
      "                                                                    :quant (d / distance-quantity\n",
      "                                                                              :quant 0\n",
      "                                                                              :unit (l / longitude))\n",
      "                                                                    :op1 (b2 / building\n",
      "                                                                             :wiki -\n",
      "                                                                             :name (n5 / name\n",
      "                                                                                       :op1 \"Palace\"\n",
      "                                                                                       :op2 \"of\"\n",
      "                                                                                       :op3 \"Westminster\"))\n",
      "                                                                    :op1 (m3 / meridian\n",
      "                                                                             :mod (p2 / prime))\n",
      "                                                                    :op2 (w / worship-place\n",
      "                                                                            :wiki -\n",
      "                                                                            :name (n6 / name\n",
      "                                                                                      :op1 \"Westminster\"\n",
      "                                                                                      :op2 \"Abbey\"))\n",
      "                                                                    :op3 (w2 / worship-place\n",
      "                                                                             :wiki -\n",
      "                                                                             :name (n7 / name\n",
      "                                                                                       :op1 \"St\"\n",
      "                                                                                       :op2 \"Margaret's\"\n",
      "                                                                                       :op3 \"Church\"))\n",
      "                                                                    :op3 (p3 / publication\n",
      "                                                                             :wiki -\n",
      "                                                                             :name (n10 / name\n",
      "                                                                                        :op1 \"GMT\")))))\n",
      "                                    :op4 (s / settlement\n",
      "                                            :location-of (m / mark-01\n",
      "                                                            :ARG0 (f / facility\n",
      "                                                                     :wiki -\n",
      "                                                                     :name (n9 / name\n",
      "                                                                               :op1 \"Royal\"\n",
      "                                                                               :op2 \"Observatory\")\n",
      "                                                                     :location (c2 / city\n",
      "                                                                                   :wiki -\n",
      "                                                                                   :name (n8 / name\n",
      "                                                                                             :op1 \"Greenwich\")))\n",
      "                                                            :ARG1 a2)\n",
      "                                            :mod (h / history)\n",
      "                                            :mod c2)))\n",
      "              :mod (o / organization\n",
      "                      :wiki -\n",
      "                      :name (n2 / name\n",
      "                                :op1 \"World\"\n",
      "                                :op2 \"Heritage\"))))\n"
     ]
    }
   ],
   "source": []
  },
  {
   "cell_type": "code",
   "execution_count": 3,
   "metadata": {},
   "outputs": [
    {
     "name": "stdout",
     "output_type": "stream",
     "text": [
      "72487\n"
     ]
    },
    {
     "name": "stderr",
     "output_type": "stream",
     "text": [
      "ignoring epigraph data for duplicate triple: ('h', ':ARG0', 'p')\n",
      "ignoring secondary node contexts for 'h'\n",
      "ignoring epigraph data for duplicate triple: ('p', ':location', 'p2')\n",
      "ignoring secondary node contexts for 'p'\n",
      "ignoring epigraph data for duplicate triple: ('h', ':ARG1', 'm')\n",
      "ignoring secondary node contexts for 'm'\n",
      "ignoring epigraph data for duplicate triple: ('m', ':ARG1', 'a2')\n",
      "ignoring secondary node contexts for 'm'\n",
      "ignoring epigraph data for duplicate triple: ('n4', ':ARG1', 'r2')\n",
      "ignoring secondary node contexts for 'r2'\n",
      "ignoring epigraph data for duplicate triple: ('h', ':ARG2', 'c')\n",
      "ignoring secondary node contexts for 'c'\n",
      "ignoring epigraph data for duplicate triple: ('s2', ':ARG1', 'p')\n",
      "ignoring secondary node contexts for 's2'\n",
      "ignoring epigraph data for duplicate triple: ('t', ':ARG1', 'p')\n",
      "ignoring secondary node contexts for 'p'\n",
      "ignoring epigraph data for duplicate triple: ('h', ':ARG2', 'm2')\n",
      "ignoring secondary node contexts for 'h'\n",
      "ignoring epigraph data for duplicate triple: ('m', ':ARG0', 'b')\n",
      "ignoring secondary node contexts for 'm'\n",
      "ignoring epigraph data for duplicate triple: ('c2', ':ARG0', 'p')\n",
      "ignoring secondary node contexts for 'c2'\n",
      "ignoring epigraph data for duplicate triple: ('c2', ':ARG1', 'o')\n",
      "ignoring secondary node contexts for 'c2'\n",
      "ignoring epigraph data for duplicate triple: ('h', ':ARG2', 'c2')\n",
      "ignoring secondary node contexts for 'c2'\n",
      "ignoring epigraph data for duplicate triple: ('c3', ':ARG0', 'p')\n",
      "ignoring secondary node contexts for 'c3'\n",
      "ignoring epigraph data for duplicate triple: ('p2', ':location', 'b')\n",
      "ignoring secondary node contexts for 'p2'\n",
      "ignoring epigraph data for duplicate triple: ('d', ':ARG1', 't2')\n",
      "ignoring secondary node contexts for 't2'\n",
      "ignoring epigraph data for duplicate triple: ('c2', ':ARG0', 'm')\n",
      "ignoring secondary node contexts for 'c2'\n",
      "ignoring epigraph data for duplicate triple: ('s', ':ARG1', 'p')\n",
      "ignoring secondary node contexts for 's'\n",
      "ignoring epigraph data for duplicate triple: ('s2', ':ARG0', 'f')\n",
      "ignoring secondary node contexts for 's2'\n",
      "ignoring epigraph data for duplicate triple: ('p2', ':location', 'p3')\n",
      "ignoring secondary node contexts for 'p2'\n",
      "ignoring epigraph data for duplicate triple: ('s2', ':ARG1', 'c3')\n",
      "ignoring secondary node contexts for 's2'\n",
      "ignoring epigraph data for duplicate triple: ('m', ':location', 's2')\n",
      "ignoring secondary node contexts for 'm'\n",
      "ignoring epigraph data for duplicate triple: ('c', ':ARG0', 'p')\n",
      "ignoring secondary node contexts for 'c'\n",
      "ignoring epigraph data for duplicate triple: ('p', ':location', 'a2')\n",
      "ignoring secondary node contexts for 'p'\n",
      "ignoring epigraph data for duplicate triple: ('h', ':ARG2', 'c')\n",
      "ignoring secondary node contexts for 'c'\n"
     ]
    },
    {
     "name": "stdout",
     "output_type": "stream",
     "text": [
      "72487\n"
     ]
    }
   ],
   "source": [
    "with open('/mnt/e/workspace/UCL_master_project/Get_wiki/AMR_without_wiki/silver_ensemble_amr_part5.txt', 'r') as file:\n",
    "    dataset = file.read()\n",
    "\n",
    "dataset = dataset.split('\\n\\n')\n",
    "print(len(dataset))\n",
    "\n",
    "amr_dataset = []\n",
    "for data in dataset:\n",
    "\n",
    "    if \":name\" in data:\n",
    "        data = inject_wiki(data)\n",
    "    amr_dataset.append(data)\n",
    "\n",
    "print(len(amr_dataset))\n"
   ]
  },
  {
   "cell_type": "code",
   "execution_count": 4,
   "metadata": {},
   "outputs": [],
   "source": [
    "# save the data \n",
    "# /mnt/e/workspace/UCL_master_project/Get_wiki/AMR_without_wiki\n",
    "output_dir = '/mnt/e/workspace/UCL_master_project/Get_wiki/AMR_without_wiki'\n",
    "output_name = 'silver_ensemble_amr_part5_empty_wiki.txt'\n",
    "with open('/'.join([output_dir, output_name]), 'w') as file:\n",
    "    file.write('\\n\\n'.join(amr_dataset))"
   ]
  },
  {
   "cell_type": "code",
   "execution_count": null,
   "metadata": {},
   "outputs": [],
   "source": []
  },
  {
   "cell_type": "code",
   "execution_count": 18,
   "metadata": {},
   "outputs": [
    {
     "name": "stdout",
     "output_type": "stream",
     "text": [
      "# ::preferred\n",
      "# ::annotator SDL-AMR-09\n",
      "# ::date 2017-11-02T07:28:58\n",
      "# ::id NW_AFP_ENG_0013_2003_0427.8\n",
      "# ::snt Blasphemy is punishable by death under the Pakistan Penal Code.\n",
      "# ::file NW_AFP_ENG_0013_2003_0427_8.txt\n",
      "# ::save-date Mon Nov 20, 2017\n",
      "(p / punishable-02\n",
      "   :ARG2 (b / blaspheme-01)\n",
      "   :ARG3 (d / die-01)\n",
      "   :instrument (l / law\n",
      "                  :wiki \"Pakistan_Penal_Code\"\n",
      "                  :name (n2 / name\n",
      "                            :op1 \"Penal\"\n",
      "                            :op2 \"Code\")\n",
      "                  :mod (c / country\n",
      "                          :wiki \"Pakistan\"\n",
      "                          :name (n / name\n",
      "                                   :op1 \"Pakistan\"))))\n"
     ]
    },
    {
     "name": "stderr",
     "output_type": "stream",
     "text": [
      "ignoring epigraph data for duplicate triple: ('d', ':month', '11')\n"
     ]
    },
    {
     "name": "stdout",
     "output_type": "stream",
     "text": [
      "2698\n"
     ]
    }
   ],
   "source": [
    "import penman\n",
    "with open('/mnt/e/workspace/AMR_project/AMR_dataset/amr_annotation_3.0_LDC2020T02/amr_annotation_3.0/data/amrs_updated_wiki/test/test_wiki_updated.txt', 'r') as file:\n",
    "    dataset = file.read()\n",
    "\n",
    "dataset = dataset.split('\\n\\n')\n",
    "correct_wiki_list = []\n",
    "print(dataset[808])\n",
    "for data in dataset:\n",
    "    if \"wiki\" in data:\n",
    "        graph = penman.decode(data)\n",
    "        for triple in graph.triples:\n",
    "            if triple[1] == ':wiki':\n",
    "                correct_wiki_list.append(triple[2])\n",
    "\n",
    "print(len(correct_wiki_list))"
   ]
  },
  {
   "cell_type": "code",
   "execution_count": 16,
   "metadata": {},
   "outputs": [
    {
     "name": "stderr",
     "output_type": "stream",
     "text": [
      "ignoring epigraph data for duplicate triple: ('d', ':month', '11')\n"
     ]
    },
    {
     "name": "stdout",
     "output_type": "stream",
     "text": [
      "2698\n"
     ]
    }
   ],
   "source": [
    "with open(\"/mnt/e/workspace/UCL_master_project/Get_wiki/test_with_wiki_test.txt\", 'r') as file:\n",
    "    val_dataset = file.read()\n",
    "\n",
    "val_dataset = val_dataset.split('\\n\\n')\n",
    "val_wiki_list = []\n",
    "for data in val_dataset:\n",
    "    if \"wiki\" in data:\n",
    "        graph = penman.decode(data)\n",
    "        for triple in graph.triples:\n",
    "            if triple[1] == ':wiki':\n",
    "                val_wiki_list.append(triple[2])\n",
    "\n",
    "print(len(val_wiki_list))"
   ]
  },
  {
   "cell_type": "code",
   "execution_count": 17,
   "metadata": {},
   "outputs": [
    {
     "name": "stdout",
     "output_type": "stream",
     "text": [
      "421\n",
      "203\n",
      "['\"Northeast_China\"', '\"Union_(American_Civil_War)\"', '\"Ci_(poetry)\"', '\"Olympic_Games\"', '\"Hiroshima\"', '\"Yuki_Hsu\"', '\"Virginia_State_Route_288\"', '\"Virginia_State_Route_288\"', '\"Homer_Simpson\"', '\"Virginia_State_Route_288\"', '\"Virginia_State_Route_288\"', '\"Virginia_State_Route_288\"', '\"Virginia_State_Route_288\"', '\"Commonwealth_Transportation_Board\"', '\"Chichester\"', '\"Walter_Stosch\"', '\"Virginia_State_Route_288\"', '\"Virginia_State_Route_288\"', '\"Virginia_State_Route_288\"', '\"National_Health_Service_(England)\"', '\"Gulf_Coast_of_the_United_States\"', '\"Trinity_University_(Texas)\"', '\"Oak_Hill,_Austin,_Texas\"', '\"Oak_Hill,_Austin,_Texas\"', '\"Gressier\"', '\"Delmas,_Haiti\"', '\"God\"', '\"Carrefour,_Haiti\"', '\"Delmas,_Haiti\"', '\"Caribbean\"', '\"Delmas,_Haiti\"', '\"God\"', '\"Dessalines\"', '\"Delmas,_Haiti\"', '\"Cité_Soleil\"', '\"Croix-des-Bouquets\"', '\"Desdunes\"', '\"Gros-Morne,_Haiti\"', '\"Ministry_of_Health_(Haiti)\"', '\"God\"', '\"Sud_(department)\"', '\"Jiji_Press\"', '\"Osaka_Castle_Park\"', '\"Howard_Davies_(economist)\"', '\"Howard_Davies_(economist)\"', '\"London_School_of_Economics\"', '\"Gordon_Brown\"', '\"Callum_McCarthy\"', '\"Callum_McCarthy\"', '\"Callum_McCarthy\"', '\"Kleinwort_Hambros\"', '\"Department_of_Trade_and_Industry_(United_Kingdom)\"', '\"Howard_Davies_(economist)\"', '\"Tultuli_Dam\"', '\"Punjab,_Pakistan\"', '\"District_court\"', '\"John_Joseph_(bishop)\"', '\"Sahiwal_District\"', '\"Pakistan_Penal_Code\"', '\"Christian\"', '\"Universal_Studios_Hollywood\"', '\"Universal_Studios_Hollywood\"', '\"Vivendi\"', '\"Jean-René_Fourtou\"', '\"Hamad_bin_Jassim_bin_Jaber_Al_Thani\"', '\"Silvan_Shalom\"', '\"Silvan_Shalom\"', '\"Silvan_Shalom\"', '\"Silvan_Shalom\"', '\"George_W._Bush\"', '\"Ari_Fleischer\"', '\"George_W._Bush\"', '\"George_W._Bush\"', '\"The_Times_of_India\"', '\"Digvijaya_Singh\"', '\"Digvijaya_Singh\"', '\"Richland_County,_Wisconsin\"', '\"Karni_crossing\"', '\"Wuwei,_Anhui\"', '\"Gloria_Molina\"', '\"Antonio_Villaraigosa\"', '\"Dream_Center\"', '\"Gloria_Molina\"', '\"Indian_Army\"', '\"Gaoyang,_Hebei\"', '\"Gaoyang,_Hebei\"', '\"Java\"', '\"Java\"', '\"Laputa\"', '\"Ayeyarwady_Region\"', '\"Pinpalu\"', '\"Laputa\"', '\"Laputa\"', '\"Laputa\"', '\"Weekly_Eleven\"', '\"Laputa\"', '\"Ayeyarwady_Region\"', '\"Haigyi_Island_(town)\"', '\"Laputa\"', '\"Ayeyarwady_Region\"', '\"Ali_Asghar_Soltanieh\"', '\"David_Albright\"', '\"Western_world\"', '\"George_W._Bush\"', '\"Tom_Casey_(diplomat)\"', '\"Western_world\"', '\"Arms_Control_Association\"', '\"George_W._Bush\"', '\"Nuclear_Suppliers_Group\"', '\"Nuclear_Suppliers_Group\"', '\"United_States_Congress\"', '\"George_W._Bush\"', '\"Nuclear_Suppliers_Group\"', '\"Nuclear_Suppliers_Group\"', '\"George_W._Bush\"', '\"George_W._Bush\"', '\"George_W._Bush\"', '\"Nuclear_Suppliers_Group\"', '\"Nuclear_Suppliers_Group\"', '\"Nuclear_Suppliers_Group\"', '\"Mashhad\"', '\"Mahmoud_Ahmadinejad\"', '\"Mahmoud_Ahmadinejad\"', '\"Western_world\"', '\"Western_world\"', '\"Western_world\"', '\"Western_world\"', '\"George_W._Bush\"', '\"William_J._Burns\"', '\"Javier_Solana\"', '\"William_J._Burns\"', '\"Javier_Solana\"', '\"William_J._Burns\"', '\"Mahmoud_Ahmadinejad\"', '\"Western_world\"', '\"Ministry_for_Europe_and_Foreign_Affairs_(France)\"', '\"Western_world\"', '\"Sergei_Ryabkov\"', '\"Arak,_Iran\"', '\"Arak,_Iran\"', '\"Arak,_Iran\"', '\"Arak,_Iran\"', '\"Arak,_Iran\"', '\"Western_world\"', '\"George_W._Bush\"', '\"United_Kingdom\"', '\"George_W._Bush\"', '\"Mosenergo\"', '\"Mosenergo\"', '\"Western_world\"', '\"Western_world\"', '\"Western_world\"', '\"Western_world\"', '\"Western_world\"', '\"Western_world\"', '\"International_Science_and_Technology_Center\"', '\"International_Science_and_Technology_Center\"', '\"Middlebury_Institute_of_International_Studies_at_Monterey\"', '\"Mosenergo\"', '\"RAO_UES\"', '\"RAO_UES\"', '\"Brazilian_Air_Force\"', '\"Brazilian_Air_Force\"', '\"Fernando_Henrique_Cardoso\"', '\"Brazilian_Air_Force\"', '\"YDUQS\"', '\"José_Viegas_Filho\"', '\"José_Viegas_Filho\"', '\"Brazilian_Air_Force\"', '\"O_Estado_de_S._Paulo\"', '\"Brazilian_Air_Force\"', '\"Amazon_Surveillance_System\"', '\"Amazon_basin\"', '\"Amazon_basin\"', '\"José_Viegas_Filho\"', '\"Amazon_basin\"', '\"Amazon_basin\"', '\"Hugo_Chávez\"', '\"National_Assembly_(Venezuela)\"', '\"Hugo_Chávez\"', '\"AK-103\"', '\"FN_FAL\"', '\"Hugo_Chávez\"', '\"FN_FAL\"', '\"Hugo_Chávez\"', '\"Hugo_Chávez\"', '\"Hugo_Chávez\"', '\"Hugo_Chávez\"', '\"Hugo_Chávez\"', '\"Hugo_Chávez\"', '\"Christopher_R._Hill\"', '\"Christopher_R._Hill\"', '\"Christopher_R._Hill\"', '\"Christopher_R._Hill\"', '\"Christopher_R._Hill\"', '\"Christopher_R._Hill\"', '\"Delta_Asia_Financial_Group\"', '\"Federal_Reserve_Bank_of_New_York\"', '\"Central_Bank_of_Russia\"', '\"Christopher_R._Hill\"', '\"Christopher_R._Hill\"', '\"Western_world\"', '\"Western_world\"', '\"David_Albright\"', '\"Western_world\"', '\"Western_world\"', '\"Western_world\"', '\"Ali_al-Sistani\"', '\"Ali_al-Sistani\"', '\"Ali_al-Sistani\"', '\"Rafida\"', '\"Rafida\"', '\"Fars_News_Agency\"', '\"Western_world\"', '\"Islam\"', '\"Antonio_Maria_Costa\"', '\"Antonio_Maria_Costa\"', '\"Antonio_Maria_Costa\"', '\"Antonio_Maria_Costa\"', '\"Antonio_Maria_Costa\"', '\"Antonio_Maria_Costa\"', '\"Antonio_Maria_Costa\"', '\"The_Citizen_(South_African_newspaper)\"', '\"The_Citizen_(South_African_newspaper)\"', '\"Department_of_International_Relations_and_Cooperation\"', '\"Muslim_Judicial_Council\"', '\"Department_of_International_Relations_and_Cooperation\"', '\"Department_of_International_Relations_and_Cooperation\"', '\"National_Intelligence_Service_(Peru)\"', '\"Vladimiro_Montesinos\"', '\"Vladimiro_Montesinos\"', '\"National_Intelligence_Service_(Peru)\"', '\"Vladimiro_Montesinos\"', '\"Vladimiro_Montesinos\"', '\"Vladimiro_Montesinos\"', '\"Vladimiro_Montesinos\"', '\"Vladimiro_Montesinos\"', '\"Vladimiro_Montesinos\"', '\"Public_security_bureau_(China)\"', '\"National_Intelligence_Service_(Peru)\"', '\"Huallaga_Province\"', '\"Huallaga_Province\"', '\"Amazon_basin\"', '\"Nepalese_Army\"', '\"Lalitpur,_Nepal\"', '\"Federal_Parliament_of_Nepal\"', '\"Lalitpur,_Nepal\"', '\"Lalitpur,_Nepal\"', '\"Earth_Summit_2002\"', '\"Radio_Nepal\"', '\"Radio_Nepal\"', '\"Kailali_District\"', '\"Tang_Jiaxuan\"', '\"Shanghai_Cooperation_Organisation\"', '\"Tang_Jiaxuan\"', '\"Shanghai_Cooperation_Organisation\"', '\"Tang_Jiaxuan\"', '\"Shanghai_Cooperation_Organisation\"', '\"Tang_Jiaxuan\"', '\"Shanghai_Cooperation_Organisation\"', '\"Tang_Jiaxuan\"', '\"Tang_Jiaxuan\"', '\"Shanghai_Cooperation_Organisation\"', '\"Tang_Jiaxuan\"', '\"Tang_Jiaxuan\"', '\"Tang_Jiaxuan\"', '\"Tang_Jiaxuan\"', '\"Shanghai_Cooperation_Organisation\"', '\"Shanghai_Cooperation_Organisation\"', '\"Tang_Jiaxuan\"', '\"Shanghai_Cooperation_Organisation\"', '\"Tang_Jiaxuan\"', '\"Tang_Jiaxuan\"', '\"Shanghai_Cooperation_Organisation\"', '\"Tang_Jiaxuan\"', '\"Shanghai_Cooperation_Organisation\"', '\"Tang_Jiaxuan\"', '\"Shanghai_Cooperation_Organisation\"', '\"Tang_Jiaxuan\"', '\"Shanghai_Cooperation_Organisation\"', '\"Al_Qa\\'qaa\"', '\"Scorpène-class_submarine\"', '\"Scorpène-class_submarine\"', '\"Michèle_Alliot-Marie\"', '\"Michèle_Alliot-Marie\"', '\"People\\'s_Mojahedin_Organization_of_Iran\"', '\"People\\'s_Mojahedin_Organization_of_Iran\"', '\"People\\'s_Mojahedin_Organization_of_Iran\"', '\"France_Info\"', '\"Dominique_de_Villepin\"', '\"People\\'s_Mojahedin_Organization_of_Iran\"', '\"People\\'s_Mojahedin_Organization_of_Iran\"', '\"People\\'s_Mojahedin_Organization_of_Iran\"', '\"People\\'s_Mojahedin_Organization_of_Iran\"', '\"People\\'s_Mojahedin_Organization_of_Iran\"', '\"People\\'s_Mojahedin_Organization_of_Iran\"', '\"Islam\"', '\"People\\'s_Mojahedin_Organization_of_Iran\"', '\"People\\'s_Mojahedin_Organization_of_Iran\"', '\"People\\'s_Mojahedin_Organization_of_Iran\"', '\"People\\'s_Mojahedin_Organization_of_Iran\"', '\"Asadollah_Lajevardi\"', '\"Evin_Prison\"', '\"Ali_Sayad_Shirazi\"', '\"Proliferation_Security_Initiative\"', '\"John_Howard\"', '\"1998_Australian_Constitutional_Convention\"', '\"John_Howard\"', '\"Roh_Moo-hyun\"', '\"Proliferation_Security_Initiative\"', '\"Proliferation_Security_Initiative\"', '\"Proliferation_Security_Initiative\"', '\"Luiz_Inácio_Lula_da_Silva\"', '\"Luiz_Inácio_Lula_da_Silva\"', '\"Department_of_International_Relations_and_Cooperation\"', '\"Department_of_International_Relations_and_Cooperation\"', '\"Department_of_International_Relations_and_Cooperation\"', '\"Luiz_Inácio_Lula_da_Silva\"', '\"Thabo_Mbeki\"', '\"Department_of_International_Relations_and_Cooperation\"', '\"Department_of_International_Relations_and_Cooperation\"', '\"Jacques_Chirac\"', '\"Western_world\"', '\"Titov_Main_Test_and_Space_Systems_Control_Centre\"', '\"Krasnoznamensk,_Moscow_Oblast\"', '\"Jacques_Chirac\"', '\"Western_world\"', '\"Titov_Main_Test_and_Space_Systems_Control_Centre\"', '\"Krasnoznamensk,_Moscow_Oblast\"', '\"Krasnoznamensk,_Moscow_Oblast\"', '\"Vladimir_Putin\"', '\"Jacques_Chirac\"', '\"Titov_Main_Test_and_Space_Systems_Control_Centre\"', '\"ABS-CBN\"', '\"ABS-CBN_News_and_Current_Affairs\"', '\"Riduan_Isamuddin\"', '\"Riduan_Isamuddin\"', '\"Riduan_Isamuddin\"', '\"Metro_Manila\"', '\"Madrid\"', '\"ABS-CBN\"', '\"Wen_Jiabao\"', '\"Wen_Jiabao\"', '\"Wen_Jiabao\"', '\"Wen_Jiabao\"', '\"Wen_Jiabao\"', '\"Wen_Jiabao\"', '\"Wen_Jiabao\"', '\"Wen_Jiabao\"', '\"Nordic_countries\"', '\"Wen_Jiabao\"', '\"Wen_Jiabao\"', '\"Wen_Jiabao\"', '\"Wen_Jiabao\"', '\"Wen_Jiabao\"', '\"Wen_Jiabao\"', '\"Wen_Jiabao\"', '\"Wen_Jiabao\"', '\"Wen_Jiabao\"', '\"Wen_Jiabao\"', '\"Wen_Jiabao\"', '\"Wen_Jiabao\"', '\"Wen_Jiabao\"', '\"Wen_Jiabao\"', '\"Wen_Jiabao\"', '\"Wen_Jiabao\"', '\"Wen_Jiabao\"', '\"Wen_Jiabao\"', '\"Wen_Jiabao\"', '\"Wen_Jiabao\"', '\"Wen_Jiabao\"', '\"Wen_Jiabao\"', '\"Wen_Jiabao\"', '\"Wen_Jiabao\"', '\"Wen_Jiabao\"', '\"Nikolai_Tanayev\"', '\"Charter_of_the_United_Nations\"', '\"Shanghai_Cooperation_Organisation\"', '\"Gerhard_Schröder\"', '\"Gerhard_Schröder\"', '\"Gerhard_Schröder\"', '\"Gerhard_Schröder\"', '\"Poon_Chung-kwong\"', '\"Poon_Chung-kwong\"', '\"Suzhou,_Anhui\"', '\"Chu_Ching-wu\"', '\"Pearl_River_Delta\"', '\"Royal_Thai_Armed_Forces\"', '\"Chavalit_Yongchaiyudh\"', '\"Ministry_of_Interior_(Thailand)\"', '\"Chavalit_Yongchaiyudh\"', '\"Liu_Huaqing\"', '\"Ministry_of_Foreign_Affairs_(China)\"', '\"Árpád_Göncz\"', '\"Hungary\"', '\"John_Malecela\"', '\"Bishkek\"', '\"Askar_Akayev\"', '\"Li_Peng\"', '\"FESPIC_Games\"', '\"Ministry_of_Health,_Labour_and_Welfare\"', '\"FESPIC_Games\"', '\"FESPIC_Games\"', '\"FESPIC_Games\"', '\"Go_(game)\"', '\"Busan\"', '\"Go_(game)\"', '\"Chang_Hao_(Go_player)\"', '\"Liu_Xiaoguang\"', '\"Chang_Hao_(Go_player)\"', '\"Nie_Weiping\"', '\"Cao_Dayuan\"', '\"Ma_Xiaochun\"', '\"Chang_Hao_(Go_player)\"', '\"Go_(game)\"', '\"Go_(game)\"', '\"World_Aquatics_Championships\"', '\"Olympic_Games\"', '\"FIFA_World_Cup\"', '\"Fu_Mingxia\"', '\"Lan_Wei\"']\n"
     ]
    }
   ],
   "source": [
    "Miss_list = []\n",
    "extra_list = []\n",
    "\n",
    "for i in range(len(correct_wiki_list)):\n",
    "    if correct_wiki_list[i] != val_wiki_list[i]:\n",
    "        if correct_wiki_list[i] == '-':\n",
    "            extra_list.append(val_wiki_list[i])\n",
    "        else:\n",
    "            Miss_list.append(correct_wiki_list[i])\n",
    "\n",
    "print(len(Miss_list))\n",
    "print(len(extra_list))\n",
    "print(Miss_list)"
   ]
  }
 ],
 "metadata": {
  "kernelspec": {
   "display_name": "master_project",
   "language": "python",
   "name": "python3"
  },
  "language_info": {
   "codemirror_mode": {
    "name": "ipython",
    "version": 3
   },
   "file_extension": ".py",
   "mimetype": "text/x-python",
   "name": "python",
   "nbconvert_exporter": "python",
   "pygments_lexer": "ipython3",
   "version": "3.8.19"
  }
 },
 "nbformat": 4,
 "nbformat_minor": 2
}
